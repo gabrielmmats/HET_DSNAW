{
 "cells": [
  {
   "cell_type": "code",
   "execution_count": 1,
   "id": "4962375d-351d-4b4b-b3e1-6c4ba7fbc2da",
   "metadata": {},
   "outputs": [],
   "source": [
    "import numpy as np\n",
    "import pandas as pd\n",
    "import pickle as pkl\n",
    "import sklearn.metrics as metrics\n",
    "from dm_test.dm_test import dm_test as dm"
   ]
  },
  {
   "cell_type": "code",
   "execution_count": 2,
   "id": "8c5f3145-e9b5-4a72-bf6a-fde3feae90ce",
   "metadata": {},
   "outputs": [],
   "source": [
    "with open('results_pkl/oracle.pkl', 'rb') as handle:\n",
    "    metric_res = pkl.load(handle)"
   ]
  },
  {
   "cell_type": "code",
   "execution_count": 3,
   "id": "1f54a18e-9f59-4010-aafe-bef53e5bca28",
   "metadata": {},
   "outputs": [
    {
     "name": "stdout",
     "output_type": "stream",
     "text": [
      "   Time Series Metrics  ORACLE_HET  ORACLE_ENSEMBLE             Best\n",
      "0          amz     MSE    9.32E-05         2.81E-05  ORACLE_ENSEMBLE\n",
      "1          amz    MAPE    1.22E+01         4.26E+00  ORACLE_ENSEMBLE\n",
      "2          amz     ARV    2.64E-02         8.01E-03  ORACLE_ENSEMBLE\n",
      "3          amz     MAE    6.98E-03         2.53E-03  ORACLE_ENSEMBLE\n",
      "4          amz    RMSE    9.65E-03         5.30E-03  ORACLE_ENSEMBLE\n",
      "..         ...     ...         ...              ...              ...\n",
      "65        wine     ARV    7.97E-02         2.55E-03  ORACLE_ENSEMBLE\n",
      "66        wine     MAE    1.14E-02         1.37E-03  ORACLE_ENSEMBLE\n",
      "67        wine    RMSE    1.73E-02         3.24E-03  ORACLE_ENSEMBLE\n",
      "68        wine   NRMSE    5.29E-02         9.93E-03  ORACLE_ENSEMBLE\n",
      "69        wine   SMAPE    2.03E+01         5.63E+00  ORACLE_ENSEMBLE\n",
      "\n",
      "[70 rows x 5 columns]\n"
     ]
    }
   ],
   "source": [
    "columns_models = [\"ORACLE_HET\", \"ORACLE_ENSEMBLE\"]\n",
    "\n",
    "metrics_df = pd.DataFrame(columns=['Time Series', 'Metrics', \"ORACLE_HET\"])\n",
    "\n",
    "for f in metric_res:\n",
    "    f_name = f[0]\n",
    "    for me, value in f[1].items():\n",
    "        new_row = {'Time Series': f_name, 'Metrics': me,  \"ORACLE_HET\": value}\n",
    "        new_row = pd.Series(new_row)\n",
    "        metrics_df = pd.concat([metrics_df, new_row.to_frame().T], ignore_index=True)\n",
    "        \n",
    "df_bagging = pd.read_csv('results/metrics_results_oracle_bagging.csv') \n",
    "metrics_df[\"ORACLE_ENSEMBLE\"] = df_bagging[\"ORACLE\"]\n",
    "\n",
    "metrics_df[columns_models] = metrics_df[columns_models].apply(lambda x: pd.to_numeric(x, errors='coerce'))\n",
    "pd.set_option('display.float_format', '{:.2E}'.format)\n",
    "metrics_df['Best'] = metrics_df[columns_models].idxmin(axis=1)\n",
    "print(metrics_df)"
   ]
  },
  {
   "cell_type": "code",
   "execution_count": 4,
   "id": "72b80088-ebad-4018-8524-224414ca84e0",
   "metadata": {},
   "outputs": [],
   "source": [
    "metrics_df.to_csv('results/metrics_results_oracle.csv', index=False, float_format=\"%.2E\")"
   ]
  },
  {
   "cell_type": "code",
   "execution_count": 5,
   "id": "5947d867-93fd-4920-b8e4-dfab9394527b",
   "metadata": {},
   "outputs": [
    {
     "data": {
      "text/plain": [
       "ORACLE_ENSEMBLE    70\n",
       "Name: Best, dtype: int64"
      ]
     },
     "execution_count": 5,
     "metadata": {},
     "output_type": "execute_result"
    }
   ],
   "source": [
    "metrics_df['Best'].value_counts()"
   ]
  }
 ],
 "metadata": {
  "kernelspec": {
   "display_name": "Python 3 (ipykernel)",
   "language": "python",
   "name": "python3"
  },
  "language_info": {
   "codemirror_mode": {
    "name": "ipython",
    "version": 3
   },
   "file_extension": ".py",
   "mimetype": "text/x-python",
   "name": "python",
   "nbconvert_exporter": "python",
   "pygments_lexer": "ipython3",
   "version": "3.9.6"
  }
 },
 "nbformat": 4,
 "nbformat_minor": 5
}
