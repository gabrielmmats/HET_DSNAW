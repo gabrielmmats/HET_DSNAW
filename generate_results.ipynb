{
 "cells": [
  {
   "cell_type": "code",
   "execution_count": 1,
   "id": "4962375d-351d-4b4b-b3e1-6c4ba7fbc2da",
   "metadata": {},
   "outputs": [],
   "source": [
    "import numpy as np\n",
    "import pandas as pd\n",
    "import pickle as pkl\n",
    "import sklearn.metrics as metrics\n",
    "from dm_test.dm_test import dm_test as dm"
   ]
  },
  {
   "cell_type": "code",
   "execution_count": 2,
   "id": "8c5f3145-e9b5-4a72-bf6a-fde3feae90ce",
   "metadata": {},
   "outputs": [],
   "source": [
    "with open('results_pkl/proposed.pkl', 'rb') as handle:\n",
    "    dict_results = pkl.load(handle)\n",
    "metric_res = dict_results['metric']\n",
    "params_res = dict_results['params']\n",
    "value_res = dict_results['value']"
   ]
  },
  {
   "cell_type": "code",
   "execution_count": 3,
   "id": "1f54a18e-9f59-4010-aafe-bef53e5bca28",
   "metadata": {},
   "outputs": [],
   "source": [
    "dm_p_level = 0.05"
   ]
  },
  {
   "cell_type": "code",
   "execution_count": 4,
   "id": "dd3c292b-ebb2-46e6-a4b8-1f9d008f21f2",
   "metadata": {},
   "outputs": [],
   "source": [
    "models_names = [m[0] for m in metric_res[0][1]]\n",
    "models_names.remove('Proposed')"
   ]
  },
  {
   "cell_type": "code",
   "execution_count": 5,
   "id": "6663649c-6c54-4d81-a927-56a4b4cd71dd",
   "metadata": {},
   "outputs": [],
   "source": [
    "def get_percentage_difference(base, proposed):\n",
    "    return ((base-proposed)/base)*100\n",
    "\n",
    "model_columns = models_names + [\"DSNAW\", \"DSLA\"]\n",
    "df_percentage_mse = pd.DataFrame(columns = [\"Time Series\"] + model_columns)\n",
    "dsnaw_values = {}\n",
    "dsla_values = {}\n",
    "for f in value_res.keys():\n",
    "    dsnaw_values[f] = pd.read_csv('results/dsnaw_pred/' + f + '.csv')['DSNAW'].values\n",
    "    dsla_values[f] = pd.read_csv('results/dsla_pred/' + f + '.csv')['DSLA'].values\n",
    "for file_name, file_res in value_res.items():\n",
    "    new_row = {'Time Series': file_name}\n",
    "    real = file_res['Real']\n",
    "    proposed = file_res['Proposed']\n",
    "    mse_proposed = metrics.mean_squared_error(real, proposed)    \n",
    "    new_row[\"DSNAW\"] = get_percentage_difference(metrics.mean_squared_error(real, dsnaw_values[file_name]), mse_proposed)\n",
    "    new_row[\"DSLA\"] = get_percentage_difference(metrics.mean_squared_error(real, dsla_values[file_name]), mse_proposed)\n",
    "    for model_name, model_value in file_res.items():\n",
    "        if model_name != 'Real' and model_name != 'Proposed':\n",
    "            new_row[model_name] = get_percentage_difference(metrics.mean_squared_error(real, model_value), mse_proposed)\n",
    "    new_row = pd.Series(new_row)\n",
    "    df_percentage_mse = pd.concat([df_percentage_mse, new_row.to_frame().T], ignore_index=True)\n",
    "        \n",
    "df_percentage_mse[model_columns] = df_percentage_mse[model_columns].apply(lambda x: pd.to_numeric(x, errors='coerce'))\n",
    "df_percentage_mse.to_csv('results/percentage_difference_mse.csv', index=False, float_format=\"%.2f\")"
   ]
  },
  {
   "cell_type": "code",
   "execution_count": 6,
   "id": "d08f1cfc-4aba-4b93-aef9-ed6b900bbcaf",
   "metadata": {},
   "outputs": [],
   "source": [
    "def get_dm_test_result(real, base, proposed, value):\n",
    "    h = int(((real.size)**(1/3)) + 1)\n",
    "    p = dm(real, base, proposed, h, crit=\"MSE\").p_value\n",
    "    if p > dm_p_level:\n",
    "        return '~'\n",
    "    elif value > 0:\n",
    "        return '+'\n",
    "    else:\n",
    "        return '-'\n",
    "\n",
    "df_dm_test = pd.DataFrame(columns = [\"Time Series\"] + model_columns)\n",
    "for file_name, file_res in value_res.items():\n",
    "    new_row = {'Time Series': file_name}\n",
    "    real = file_res['Real']\n",
    "    proposed = file_res['Proposed']\n",
    "    new_row[\"DSNAW\"] = get_dm_test_result(real, dsnaw_values[file_name], proposed, df_percentage_mse.loc[df_percentage_mse['Time Series'] == file_name][[\"DSNAW\"]].values[0][0])\n",
    "    new_row[\"DSLA\"] = get_dm_test_result(real, dsla_values[file_name], proposed, df_percentage_mse.loc[df_percentage_mse['Time Series'] == file_name][[\"DSLA\"]].values[0][0])\n",
    "    for model_name, model_value in file_res.items():\n",
    "        if model_name != 'Real' and model_name != 'Proposed':\n",
    "            new_row[model_name] = get_dm_test_result(real, model_value, proposed, df_percentage_mse.loc[df_percentage_mse['Time Series'] == file_name][[model_name]].values[0][0])\n",
    "    new_row = pd.Series(new_row)\n",
    "    df_dm_test = pd.concat([df_dm_test, new_row.to_frame().T], ignore_index=True)\n",
    "    \n",
    "\n",
    "\n",
    "wins = {'Time Series': 'Wins'}\n",
    "ties = {'Time Series': 'Ties'}\n",
    "loss = {'Time Series': 'Loss'}\n",
    "\n",
    "for m in model_columns:\n",
    "    counts = df_dm_test[m].value_counts()\n",
    "    for row, symbol in [(wins, '+'), (ties, '~'), (loss, '-')]:\n",
    "        if (symbol in counts.index):\n",
    "            row[m] = counts[symbol]\n",
    "        else:\n",
    "            row[m] = 0\n",
    "\n",
    "for row in [wins, ties, loss]:\n",
    "    s = pd.Series(row)\n",
    "    df_dm_test = pd.concat([df_dm_test, s.to_frame().T], ignore_index=True)\n",
    "        \n",
    "    \n",
    "df_dm_test.to_csv('results/dm_test.csv', index=False)"
   ]
  },
  {
   "cell_type": "code",
   "execution_count": 7,
   "id": "6d8e8746-35a3-4a4b-a6ba-7bb656889dbe",
   "metadata": {},
   "outputs": [
    {
     "data": {
      "text/html": [
       "<div>\n",
       "<style scoped>\n",
       "    .dataframe tbody tr th:only-of-type {\n",
       "        vertical-align: middle;\n",
       "    }\n",
       "\n",
       "    .dataframe tbody tr th {\n",
       "        vertical-align: top;\n",
       "    }\n",
       "\n",
       "    .dataframe thead th {\n",
       "        text-align: right;\n",
       "    }\n",
       "</style>\n",
       "<table border=\"1\" class=\"dataframe\">\n",
       "  <thead>\n",
       "    <tr style=\"text-align: right;\">\n",
       "      <th></th>\n",
       "      <th>Time Series</th>\n",
       "      <th>k</th>\n",
       "      <th>n</th>\n",
       "      <th>comb</th>\n",
       "    </tr>\n",
       "  </thead>\n",
       "  <tbody>\n",
       "    <tr>\n",
       "      <th>0</th>\n",
       "      <td>amz</td>\n",
       "      <td>10</td>\n",
       "      <td>6</td>\n",
       "      <td>median</td>\n",
       "    </tr>\n",
       "    <tr>\n",
       "      <th>1</th>\n",
       "      <td>APPLE</td>\n",
       "      <td>6</td>\n",
       "      <td>1</td>\n",
       "      <td>median</td>\n",
       "    </tr>\n",
       "    <tr>\n",
       "      <th>2</th>\n",
       "      <td>electricity</td>\n",
       "      <td>13</td>\n",
       "      <td>4</td>\n",
       "      <td>average</td>\n",
       "    </tr>\n",
       "    <tr>\n",
       "      <th>3</th>\n",
       "      <td>goldman</td>\n",
       "      <td>5</td>\n",
       "      <td>1</td>\n",
       "      <td>median</td>\n",
       "    </tr>\n",
       "    <tr>\n",
       "      <th>4</th>\n",
       "      <td>msft</td>\n",
       "      <td>11</td>\n",
       "      <td>4</td>\n",
       "      <td>median</td>\n",
       "    </tr>\n",
       "    <tr>\n",
       "      <th>5</th>\n",
       "      <td>pollutions</td>\n",
       "      <td>2</td>\n",
       "      <td>6</td>\n",
       "      <td>median</td>\n",
       "    </tr>\n",
       "    <tr>\n",
       "      <th>6</th>\n",
       "      <td>star</td>\n",
       "      <td>15</td>\n",
       "      <td>1</td>\n",
       "      <td>median</td>\n",
       "    </tr>\n",
       "    <tr>\n",
       "      <th>7</th>\n",
       "      <td>sunspot</td>\n",
       "      <td>1</td>\n",
       "      <td>3</td>\n",
       "      <td>median</td>\n",
       "    </tr>\n",
       "    <tr>\n",
       "      <th>8</th>\n",
       "      <td>vehicle</td>\n",
       "      <td>19</td>\n",
       "      <td>2</td>\n",
       "      <td>median</td>\n",
       "    </tr>\n",
       "    <tr>\n",
       "      <th>9</th>\n",
       "      <td>wine</td>\n",
       "      <td>14</td>\n",
       "      <td>6</td>\n",
       "      <td>median</td>\n",
       "    </tr>\n",
       "  </tbody>\n",
       "</table>\n",
       "</div>"
      ],
      "text/plain": [
       "   Time Series   k  n     comb\n",
       "0          amz  10  6   median\n",
       "1        APPLE   6  1   median\n",
       "2  electricity  13  4  average\n",
       "3      goldman   5  1   median\n",
       "4         msft  11  4   median\n",
       "5   pollutions   2  6   median\n",
       "6         star  15  1   median\n",
       "7      sunspot   1  3   median\n",
       "8      vehicle  19  2   median\n",
       "9         wine  14  6   median"
      ]
     },
     "execution_count": 7,
     "metadata": {},
     "output_type": "execute_result"
    }
   ],
   "source": [
    "params_df = pd.DataFrame(columns=['Time Series', 'k', 'n', 'comb'])\n",
    "\n",
    "for f in params_res:\n",
    "    new_row = {'Time Series': f[0]}\n",
    "    for key, value in f[1].items():\n",
    "        new_row[key] = value\n",
    "    new_row = pd.Series(new_row)\n",
    "    params_df = pd.concat([params_df, new_row.to_frame().T], ignore_index=True)\n",
    "    \n",
    "    \n",
    "params_df"
   ]
  },
  {
   "cell_type": "code",
   "execution_count": 8,
   "id": "c5926cac-2385-458c-b943-fb3f799903c0",
   "metadata": {
    "tags": []
   },
   "outputs": [
    {
     "name": "stdout",
     "output_type": "stream",
     "text": [
      "   Time Series Metrics      SVR       GB       RF    ARIMA      DBN      MLP  \\\n",
      "0          amz     MSE 1.17E-04 1.24E-04 1.18E-04 1.17E-04 1.17E-04 1.19E-04   \n",
      "1          amz    MAPE 1.47E+01 1.58E+01 1.47E+01 1.47E+01 1.49E+01 1.48E+01   \n",
      "2          amz     ARV 3.30E-02 3.51E-02 3.32E-02 3.29E-02 3.29E-02 3.35E-02   \n",
      "3          amz     MAE 8.40E-03 8.62E-03 8.41E-03 8.42E-03 8.44E-03 8.49E-03   \n",
      "4          amz    RMSE 1.08E-02 1.11E-02 1.09E-02 1.08E-02 1.08E-02 1.09E-02   \n",
      "..         ...     ...      ...      ...      ...      ...      ...      ...   \n",
      "65        wine     ARV 4.45E-01 8.32E-01 1.10E+00 2.65E+00 1.69E+00 4.86E-01   \n",
      "66        wine     MAE 3.45E-02 5.24E-02 4.38E-02 4.78E-02 4.57E-02 2.96E-02   \n",
      "67        wine    RMSE 4.11E-02 6.70E-02 5.91E-02 6.68E-02 7.02E-02 3.91E-02   \n",
      "68        wine   NRMSE 1.26E-01 2.05E-01 1.81E-01 2.05E-01 2.15E-01 1.20E-01   \n",
      "69        wine   SMAPE 4.16E+01 6.59E+01 4.57E+01 4.70E+01 4.89E+01 3.68E+01   \n",
      "\n",
      "        ELM    DSNAW     DSLA  Proposed      Best  \n",
      "0  1.21E-04 1.25E-04 1.26E-04  1.17E-04       SVR  \n",
      "1  1.55E+01 1.57E+01 1.52E+01  1.48E+01       SVR  \n",
      "2  3.39E-02 3.50E-02 3.56E-02  3.30E-02       DBN  \n",
      "3  8.57E-03 8.76E-03 8.86E-03  8.41E-03       SVR  \n",
      "4  1.10E-02 1.12E-02 1.12E-02  1.08E-02       SVR  \n",
      "..      ...      ...      ...       ...       ...  \n",
      "65 5.05E-01 2.94E-01 4.79E-01  7.02E-01     DSNAW  \n",
      "66 3.07E-02 3.52E-02 3.66E-02  3.00E-02       MLP  \n",
      "67 3.99E-02 4.39E-02 4.58E-02  4.15E-02       MLP  \n",
      "68 1.22E-01 1.34E-01 1.40E-01  1.27E-01       MLP  \n",
      "69 3.87E+01 5.10E+01 4.33E+01  3.59E+01  Proposed  \n",
      "\n",
      "[70 rows x 13 columns]\n"
     ]
    }
   ],
   "source": [
    "columns_models = models_names + ['Proposed']\n",
    "\n",
    "metrics_df = pd.DataFrame(columns=['Time Series', 'Metrics'] + columns_models)\n",
    "\n",
    "metrics_list = list(metric_res[0][1][0][1].keys())\n",
    "\n",
    "for f in metric_res:\n",
    "    f_name = f[0]\n",
    "    rows = {}\n",
    "    for me in metrics_list:\n",
    "        rows[me] = []\n",
    "    for mo in f[1]:\n",
    "        mo_name = mo[0]\n",
    "        for me, value in mo[1].items():\n",
    "            rows[me].append((mo_name, value))\n",
    "    for me, res in rows.items():\n",
    "        new_row = {'Time Series': f_name, 'Metrics': me}\n",
    "        for r in res:\n",
    "            new_row[r[0]] = r[1]\n",
    "        new_row = pd.Series(new_row)\n",
    "        metrics_df = pd.concat([metrics_df, new_row.to_frame().T], ignore_index=True)\n",
    "        \n",
    "        \n",
    "df_dsnaw = pd.read_csv('results/metrics_results_dsnaw_bagging.csv') \n",
    "df_dsla = pd.read_csv('results/metrics_results_dsla_bagging.csv') \n",
    "\n",
    "metrics_df['DSNAW'] = df_dsnaw['DSNAW']\n",
    "metrics_df['DSLA'] = df_dsla['DSLA']\n",
    "\n",
    "columns_models.insert(-1, 'DSNAW')\n",
    "columns_models.insert(-1, 'DSLA')\n",
    "metrics_df = metrics_df[['Time Series', 'Metrics'] + columns_models]\n",
    "metrics_df[columns_models] = metrics_df[columns_models].apply(lambda x: pd.to_numeric(x, errors='coerce'))\n",
    "metrics_df['Best'] = metrics_df[columns_models].idxmin(axis=1)\n",
    "pd.set_option('display.float_format', '{:.2E}'.format)\n",
    "print(metrics_df)"
   ]
  },
  {
   "cell_type": "code",
   "execution_count": 9,
   "id": "72b80088-ebad-4018-8524-224414ca84e0",
   "metadata": {},
   "outputs": [],
   "source": [
    "params_df.to_csv('results/params_results.csv', index=False)\n",
    "metrics_df.to_csv('results/metrics_results.csv', index=False, float_format=\"%.2E\")"
   ]
  },
  {
   "cell_type": "code",
   "execution_count": 10,
   "id": "5947d867-93fd-4920-b8e4-dfab9394527b",
   "metadata": {},
   "outputs": [
    {
     "data": {
      "text/plain": [
       "MLP         20\n",
       "Proposed    20\n",
       "SVR          9\n",
       "DSNAW        8\n",
       "ARIMA        5\n",
       "DSLA         3\n",
       "DBN          2\n",
       "RF           1\n",
       "GB           1\n",
       "ELM          1\n",
       "Name: Best, dtype: int64"
      ]
     },
     "execution_count": 10,
     "metadata": {},
     "output_type": "execute_result"
    }
   ],
   "source": [
    "metrics_df['Best'].value_counts()"
   ]
  },
  {
   "cell_type": "code",
   "execution_count": 11,
   "id": "75425aeb-4329-4296-a29c-67c8838fac7d",
   "metadata": {},
   "outputs": [
    {
     "data": {
      "text/plain": [
       "DSNAW             58\n",
       "DSNAW_ORIGINAL    12\n",
       "Name: Best, dtype: int64"
      ]
     },
     "execution_count": 11,
     "metadata": {},
     "output_type": "execute_result"
    }
   ],
   "source": [
    "dsnaw_original = [1.30E-4, 22.40, 3.93E-2, 8.94E-3, 1.14E-2, 4.61E-2, 13.80,\n",
    "        1.90E-2, 245.72, 2.25, 8.02E-2, 1.38E-1, 3.21E-1, 42.15, \n",
    "         3.74E-3,6.933, 2.67E-1, 5.18E-2, 6.11E-2, 1.35E-1, 7.25,\n",
    "         4.06E-4, 9.52, 2.64E-2, 1.53E-2, 2.01E-2, 4.71E-2, 9.44,\n",
    "         1.99E-3, 5.03, 1.28E-1, 3.41E-2, 4.46E-2, 9.51E-2, 5.08,\n",
    "         4.47E-2, 32.26, 1.78, 1.74E-1, 2.11E-1, 4.18E-1, 37.43,\n",
    "         6.77E-5, 2.99, 1.07E-3, 6.08E-3, 8.23E-3, 8.31E-3, 3.77,\n",
    "         3.31E-2, 62.44, 9.55E-1, 1.14E-1, 1.82E-1, 1.84E-1, 46.31,\n",
    "         1.81E-2, 15.39, 1.45, 1.09E-1, 1.34E-1, 2.30E-1, 15.14,\n",
    "         2.94E-3, 135.02, 1.39, 3.54E-2, 5.43E-2, 2.40E-1, 43.84\n",
    "        ]\n",
    "df_dsnaw_2 = pd.DataFrame()\n",
    "df_dsnaw_2['Time Series'] = metrics_df['Time Series']\n",
    "df_dsnaw_2['Metrics'] = metrics_df['Metrics']\n",
    "df_dsnaw_2['DSNAW_ORIGINAL'] = dsnaw_original\n",
    "df_dsnaw_2['DSNAW'] = metrics_df['DSNAW']\n",
    "\n",
    "col = ['DSNAW', 'DSNAW_ORIGINAL']\n",
    "\n",
    "df_dsnaw_2[col] = df_dsnaw_2[col].apply(lambda x: pd.to_numeric(x, errors='coerce'))\n",
    "df_dsnaw_2['Best'] = df_dsnaw_2[col].idxmin(axis=1)\n",
    "df_dsnaw_2['Best'].value_counts()"
   ]
  },
  {
   "cell_type": "code",
   "execution_count": 12,
   "id": "5377b620-88db-4495-9628-aff158c624ca",
   "metadata": {},
   "outputs": [
    {
     "data": {
      "text/plain": [
       "Proposed    47\n",
       "DSNAW       23\n",
       "Name: Best, dtype: int64"
      ]
     },
     "execution_count": 12,
     "metadata": {},
     "output_type": "execute_result"
    }
   ],
   "source": [
    "df_direct = pd.DataFrame()\n",
    "df_direct[['Time Series', 'Metrics', 'DSNAW', 'Proposed']] = metrics_df[['Time Series', 'Metrics', 'DSNAW', 'Proposed']]\n",
    "col = ['DSNAW', 'Proposed']\n",
    "df_direct[col] = df_direct[col].apply(lambda x: pd.to_numeric(x, errors='coerce'))\n",
    "df_direct['Best'] = df_direct[col].idxmin(axis=1)\n",
    "df_direct['Best'].value_counts()"
   ]
  },
  {
   "cell_type": "code",
   "execution_count": 13,
   "id": "d5e7d28e-fc13-4b29-a3c8-aa2e6d3ebafe",
   "metadata": {},
   "outputs": [],
   "source": [
    "df_direct.to_csv('results/direct_comparison.csv', index=False, float_format=\"%.2E\")"
   ]
  }
 ],
 "metadata": {
  "kernelspec": {
   "display_name": "Python 3 (ipykernel)",
   "language": "python",
   "name": "python3"
  },
  "language_info": {
   "codemirror_mode": {
    "name": "ipython",
    "version": 3
   },
   "file_extension": ".py",
   "mimetype": "text/x-python",
   "name": "python",
   "nbconvert_exporter": "python",
   "pygments_lexer": "ipython3",
   "version": "3.9.6"
  }
 },
 "nbformat": 4,
 "nbformat_minor": 5
}
