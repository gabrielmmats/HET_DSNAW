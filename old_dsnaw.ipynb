{
 "cells": [
  {
   "cell_type": "code",
   "execution_count": 1,
   "id": "d70ebf36-7a1f-4fc6-b9d4-982bc7304fd3",
   "metadata": {},
   "outputs": [],
   "source": [
    "import numpy as np\n",
    "import pandas as pd\n",
    "from tqdm import tqdm\n",
    "from functools import partial\n",
    "import gridsearch\n",
    "import matplotlib.pyplot as plt\n",
    "from dbn.models import SupervisedDBNRegression\n",
    "from elm.elm import Model as elm\n",
    "from sklearn.svm import SVR\n",
    "from sklearn.ensemble import GradientBoostingRegressor\n",
    "from sklearn.ensemble import RandomForestRegressor\n",
    "from sklearn.neural_network import MLPRegressor\n",
    "from sklearn.base import clone\n",
    "from sklearn.utils._testing import ignore_warnings\n",
    "from sklearn.exceptions import ConvergenceWarning\n",
    "from sklearn.model_selection import ParameterGrid\n",
    "import sklearn.metrics as metrics\n",
    "from sklearn import preprocessing\n",
    "from statsmodels.tsa.stattools import adfuller\n",
    "from multiprocessing import Pool\n",
    "from statsmodels.tsa.arima_model import ARIMA\n",
    "import pmdarima as pm\n",
    "import itertools"
   ]
  },
  {
   "cell_type": "code",
   "execution_count": 2,
   "id": "c50d7981-800c-42f9-9f28-2406911efcbf",
   "metadata": {},
   "outputs": [],
   "source": [
    "file_names = [\"amz\", \"APPLE\", \"electricity\", \"goldman\", \"msft\", \"pollutions\", \"star\", \"sunspot\", \"vehicle\", \"wine\"]\n",
    "\n",
    "file_prefix = \"dataset/\"\n",
    "file_suffix = \".txt\"\n",
    "\n",
    "ensemble_svr = {'windows': True, 'lags': 20, 'normalize_before_metrics': True, 'differencing_order': 'ADF', 'level': '5%', 'p_level': 0.05}\n",
    "ens_size = 100\n",
    "\n",
    "execution=\"dsnaw\"\n",
    "\n",
    "plot_curves = False\n",
    "train_proportion = 1/2\n",
    "val_proportion = 1/4\n",
    "max_k = 20\n",
    "max_n = min(20, ens_size)"
   ]
  },
  {
   "cell_type": "code",
   "execution_count": 3,
   "id": "1163a523-71f1-471d-bee0-d5bf102fc875",
   "metadata": {},
   "outputs": [],
   "source": [
    "#read files\n",
    "def read_file(path):\n",
    "    array_ts = np.loadtxt(path)\n",
    "    df = pd.DataFrame(data = array_ts, columns = ['y'])\n",
    "    return df"
   ]
  },
  {
   "cell_type": "code",
   "execution_count": 4,
   "id": "0adb11be-a3f9-4917-bd78-d714d43378be",
   "metadata": {},
   "outputs": [],
   "source": [
    "#define split points\n",
    "\n",
    "def define_split_points(df, train, val):\n",
    "    val_index = int(df.shape[0]*train)\n",
    "    test_index = int(df.shape[0]*(train+val))\n",
    "\n",
    "    # fig, ax=plt.subplots(figsize=(9, 4))\n",
    "    # df['y'].loc[:val_index-1].plot(ax=ax, label = 'train')\n",
    "    # df['y'].loc[val_index:test_index-1].plot(ax=ax, label = 'validation')\n",
    "    # df['y'].loc[test_index:].plot(ax=ax, label = 'test')\n",
    "    # ax.legend()\n",
    "    \n",
    "    return val_index, test_index\n"
   ]
  },
  {
   "cell_type": "code",
   "execution_count": 5,
   "id": "7e08b8bd-b936-444c-8567-ee3ab4c17c9e",
   "metadata": {},
   "outputs": [],
   "source": [
    "#difference time series\n",
    "\n",
    "def check_ADF(ts, lvl, p_lvl):\n",
    "    result = adfuller(ts)\n",
    "    return result[0] < result[4][lvl] and result[1] < p_lvl\n",
    "\n",
    "def difference(df, differencing_order, level, p_level):\n",
    "\n",
    "    df_differenced = None\n",
    "    if differencing_order:    \n",
    "        df_differenced = df.copy()\n",
    "\n",
    "        if differencing_order == 'ADF':\n",
    "            stationary = check_ADF(df_differenced['y'].values, level, p_level)\n",
    "            d = 0\n",
    "            while not stationary:\n",
    "                df_differenced = df_differenced.diff().dropna()\n",
    "                d += 1\n",
    "                stationary = check_ADF(df_differenced['y'].values, level, p_level)\n",
    "            if d == 0:\n",
    "                df_differenced = None\n",
    "            differencing_order = d\n",
    "        else:\n",
    "            i = 0\n",
    "            while i < differencing_order:\n",
    "                df_differenced = df_differenced.diff().dropna()\n",
    "                i+=1\n",
    "                \n",
    "    print(\"d: \", differencing_order)\n",
    "    # if differencing_order:\n",
    "    #     fig, ax=plt.subplots(figsize=(9, 4))\n",
    "    #     df_differenced.y.plot(ax = ax)\n",
    "        \n",
    "    return df_differenced, differencing_order\n"
   ]
  },
  {
   "cell_type": "code",
   "execution_count": 6,
   "id": "3a7b31b5-b50d-4a72-b52d-4439d7a1999a",
   "metadata": {},
   "outputs": [],
   "source": [
    "#normalize time series\n",
    "\n",
    "def normalize(df, val_index, d):\n",
    "    min_max_scaler = preprocessing.MinMaxScaler()\n",
    "    min_max_scaler.fit(df['y'].loc[:val_index-1].values.reshape(-1,1))\n",
    "    df_normalized = pd.DataFrame({'y': np.append(np.zeros(d),min_max_scaler.transform(df['y'].values.reshape(-1, 1)).flatten())}).iloc[d:]\n",
    "    \n",
    "    return df_normalized, min_max_scaler\n"
   ]
  },
  {
   "cell_type": "code",
   "execution_count": 7,
   "id": "93b32bff-2b57-4892-9b29-72df0041822c",
   "metadata": {},
   "outputs": [],
   "source": [
    "#create windows\n",
    "\n",
    "def create_windows(df, lags):\n",
    "    df_windowed = df.copy()\n",
    "    df_windowed['x'] = df_windowed['y'].shift()\n",
    "    for i in range(1, lags):\n",
    "        df_windowed[f'x-{i}'] = df_windowed['x'].shift(i)\n",
    "    df_windowed = df_windowed.dropna()\n",
    "    return df_windowed"
   ]
  },
  {
   "cell_type": "code",
   "execution_count": 8,
   "id": "96b98610-d9d3-43cc-96a2-b57da9ee947b",
   "metadata": {},
   "outputs": [],
   "source": [
    "#SVR\n",
    "\n",
    "def svr_model(lags):\n",
    "    parameters = {'C':[1, 10, 100, 1000], 'gamma': [0.001, 0.01, 0.1, 1],\n",
    "                      'kernel':[\"rbf\"],\n",
    "                      'epsilon': [0.1, 0.01, 0.001, 0.0001, 0.00001],\n",
    "                 }\n",
    "\n",
    "    model = SVR(max_iter = 10000)\n",
    "\n",
    "    return model, parameters"
   ]
  },
  {
   "cell_type": "code",
   "execution_count": 9,
   "id": "78ff7ece-000f-4085-8c18-817eb7a6134b",
   "metadata": {
    "tags": []
   },
   "outputs": [],
   "source": [
    "def recursive_differencing_coefficients(order):\n",
    "    if order <= 1:\n",
    "        return np.array([1, -1])\n",
    "    else:\n",
    "        prev_coefficients = recursive_differencing_coefficients(order-1)\n",
    "        coefficients = np.zeros(order+1)\n",
    "        coefficients[0] = prev_coefficients[0]\n",
    "        coefficients[-1] = -prev_coefficients[-1]\n",
    "        for i in range(1, order):\n",
    "            coefficients[i] = prev_coefficients[i] - prev_coefficients[i-1]\n",
    "        return coefficients   \n",
    "\n",
    "def inverse_difference(differencing_order, df, df_diff, test_index, y_pred):\n",
    "    df_pred = df.copy()\n",
    "    \n",
    "    for i in range(1, differencing_order + 1):\n",
    "        df_pred[f'y-{i}'] = df_pred['y'].shift(i)\n",
    "    \n",
    "    df_pred['y_diff'] = df_diff['y']\n",
    "    df_pred['y_diff'][test_index:] = y_pred\n",
    "    \n",
    "    df_pred.fillna(0, inplace=True)\n",
    "    \n",
    "    coefficients = recursive_differencing_coefficients(differencing_order)\n",
    "    df_pred['y_pred'] = df_pred['y_diff']\n",
    "    for i in range(1, differencing_order + 1):\n",
    "        df_pred['y_pred'] = df_pred['y_pred'] - coefficients[i]*df_pred[f'y-{i}']\n",
    "        \n",
    "    y_pred = df_pred['y_pred'][test_index:].values    \n",
    "    y_test = df_pred['y'][test_index:].values\n",
    "    \n",
    "    return y_pred, y_test\n"
   ]
  },
  {
   "cell_type": "code",
   "execution_count": 10,
   "id": "142e93db-40fc-4d84-88d3-090af92f5668",
   "metadata": {
    "tags": []
   },
   "outputs": [],
   "source": [
    "#plot results\n",
    "def plot_results(y_pred, y_test):\n",
    "    fig, ax=plt.subplots(figsize=(9, 4))\n",
    "    plt.plot(y_pred, label = 'predicted')\n",
    "    plt.plot(y_test, label = 'real')\n",
    "    ax.legend()\n",
    "    plt.show()"
   ]
  },
  {
   "cell_type": "code",
   "execution_count": 11,
   "id": "ff133909-af3c-4e6d-a8b3-08abf2962289",
   "metadata": {},
   "outputs": [],
   "source": [
    "def oracle(preds, real):\n",
    "    best_pred = np.zeros(real.size)\n",
    "    for i in range(real.size):\n",
    "        candidates = np.array([p[i] for p in preds])\n",
    "        idx = np.argmin(np.absolute(candidates - real[i]))\n",
    "        best_pred[i] = candidates[idx]\n",
    "    return best_pred"
   ]
  },
  {
   "cell_type": "code",
   "execution_count": 12,
   "id": "89830e38-9dc7-43da-ad2b-4969f00da99e",
   "metadata": {},
   "outputs": [],
   "source": [
    "#calculate metrics\n",
    "\n",
    "def mean_absolute_percentage_error(y_true, y_pred):\n",
    "    y_true = np.asarray(y_true).reshape(-1)\n",
    "    y_pred = np.asarray(y_pred).reshape(-1)\n",
    "\n",
    "    posi_with_zeros = np.where(y_true == 0)[0]\n",
    "\n",
    "    y_true = [n for k, n in enumerate(y_true) if k not in posi_with_zeros]\n",
    "    y_pred = [n for k, n in enumerate(y_pred) if k not in posi_with_zeros]\n",
    "    \n",
    "    y_true = np.asarray(y_true).reshape(-1)\n",
    "    y_pred = np.asarray(y_pred).reshape(-1)\n",
    "    return np.mean(np.abs((y_true - y_pred) / y_true)) * 100\n",
    "\n",
    "def mean_absolute_percentage_error(y_true, y_pred):\n",
    "    y_true = np.asarray(y_true).reshape(-1)\n",
    "    y_pred = np.asarray(y_pred).reshape(-1)\n",
    "\n",
    "    posi_with_zeros = np.where(y_true == 0)[0]\n",
    "\n",
    "    y_true = [n for k, n in enumerate(y_true) if k not in posi_with_zeros]\n",
    "    y_pred = [n for k, n in enumerate(y_pred) if k not in posi_with_zeros]\n",
    "    \n",
    "    y_true = np.asarray(y_true).reshape(-1)\n",
    "    y_pred = np.asarray(y_pred).reshape(-1)\n",
    "    return np.mean(np.abs((y_true - y_pred) / y_true)) * 100\n",
    "\n",
    "\n",
    "def symmetric_mean_absolute_percentage_error(y_true, y_pred):\n",
    "    y_true = np.asarray(y_true).reshape(-1)\n",
    "    y_pred = np.asarray(y_pred).reshape(-1)\n",
    "\n",
    "    posi_with_zeros = np.where((np.abs(y_true)+np.abs(y_pred))/2 == 0 )[0]\n",
    "\n",
    "    y_true = [n for k, n in enumerate(y_true) if k not in posi_with_zeros]\n",
    "    y_pred = [n for k, n in enumerate(y_pred) if k not in posi_with_zeros]\n",
    "    \n",
    "    y_true = np.asarray(y_true).reshape(-1)\n",
    "    y_pred = np.asarray(y_pred).reshape(-1)\n",
    "    return np.mean(np.abs(y_true - y_pred) / ((np.abs(y_true)+np.abs(y_pred))/2)) * 100\n",
    "\n",
    "\n",
    "def mean_absolute_error(y_true, y_pred):\n",
    "    \n",
    "    y_true = np.asarray(y_true).reshape(-1)\n",
    "    y_pred = np.asarray(y_pred).reshape(-1)\n",
    "\n",
    "    return np.mean(np.abs(y_true - y_pred))\n",
    "\n",
    "def average_relative_variance(y_true, y_pred):\n",
    "    y_true = np.asarray(y_true).reshape(-1)\n",
    "    y_pred = np.asarray(y_pred).reshape(-1)\n",
    "    mean = np.mean(y_true)\n",
    "\n",
    "    error_sup = np.square(np.subtract(y_true, y_pred)).sum()\n",
    "    error_inf = np.square(np.subtract(y_pred, mean)).sum()\n",
    "\n",
    "    return error_sup / error_inf\n",
    "\n",
    "def calculate_metrics(y_pred, y_test, normalize_before_metrics, scaler, df):\n",
    "    if normalize_before_metrics:\n",
    "        scaler.fit(df['y'].values.reshape(-1,1))\n",
    "        y_pred = scaler.transform(y_pred.reshape(-1, 1)).flatten()\n",
    "        y_test = scaler.transform(y_test.reshape(-1, 1)).flatten()\n",
    "\n",
    "    mse = metrics.mean_squared_error(y_test, y_pred)\n",
    "    rmse = np.sqrt(mse)\n",
    "    nrmse = rmse/(y_test.max()-y_test.min())\n",
    "    mape = mean_absolute_percentage_error(y_test, y_pred)\n",
    "    smape = symmetric_mean_absolute_percentage_error(y_test, y_pred)\n",
    "    arv = average_relative_variance(y_test, y_pred)\n",
    "    mae = mean_absolute_error(y_test, y_pred)\n",
    "    \n",
    "    res = {'MSE': mse, 'MAPE': mape, 'ARV': arv, 'MAE': mae, 'RMSE': rmse, 'NRMSE': nrmse, 'SMAPE': smape}\n",
    "    \n",
    "    for key, value in res.items():\n",
    "        print(f'{key}: {value}')\n",
    "    \n",
    "    return res"
   ]
  },
  {
   "cell_type": "code",
   "execution_count": 13,
   "id": "05e8b125-721a-460f-8c30-1bd2088ae559",
   "metadata": {},
   "outputs": [],
   "source": [
    "#gridsearch\n",
    "\n",
    "def parallel_gridsearch_dsnaw(df, pred_results, val_index, test_index, param_grid):\n",
    "    pool = Pool()\n",
    "    list_params = list(ParameterGrid(param_grid))\n",
    "    results = list(tqdm(pool.imap(partial(gridsearch.validate_dsnaw_params, df=df, pred_results=pred_results, val_index=val_index, test_index=test_index), list_params), total=len(list_params)))\n",
    "    idx = np.argmin([r[1] for r in results])\n",
    "    \n",
    "    best_params = results[idx][0]\n",
    "    best_rmse = results[idx][1]\n",
    "    \n",
    "    pool.close()\n",
    "    pool.join()\n",
    "    \n",
    "    print('Best params: ', best_params)\n",
    "    print('Best rmse: ', best_rmse)\n",
    "    return best_params"
   ]
  },
  {
   "cell_type": "code",
   "execution_count": 14,
   "id": "e51eb454-65e4-475a-a67a-696774074f67",
   "metadata": {},
   "outputs": [],
   "source": [
    "def test_dsnaw(params, df, pred_results, test_index):\n",
    "    k = params['k']\n",
    "    n = params['n']\n",
    "    comb = params['comb']    \n",
    "    \n",
    "    y_dsnaw = np.zeros(df['y'].size-test_index)\n",
    "    for i in range(test_index, df['y'].size):\n",
    "        rmse_roc = []\n",
    "        real_roc = df['y'].loc[i-k:i-1].values\n",
    "        for j in range(0, len(pred_results)):      \n",
    "            pred_roc = pred_results[j]['y'].loc[i-k:i-1].values\n",
    "            rmse_roc.append((j, np.sqrt(metrics.mean_squared_error(pred_roc, real_roc))))\n",
    "        sorted_rmse_roc = sorted(rmse_roc, key=lambda x: x[1])\n",
    "        \n",
    "        comb_values = np.zeros(n)\n",
    "        for j in range(0, n):\n",
    "            comb_values[j] = pred_results[sorted_rmse_roc[j][0]]['y'].loc[i]\n",
    "        if comb == 'median':\n",
    "            y_dsnaw[i-test_index] = np.median(comb_values)\n",
    "        else:\n",
    "            y_dsnaw[i-test_index] = np.average(comb_values)\n",
    "\n",
    "    return y_dsnaw"
   ]
  },
  {
   "cell_type": "code",
   "execution_count": 15,
   "id": "bd4d511f-ca06-4d18-934e-3d06e3e4cc13",
   "metadata": {
    "tags": []
   },
   "outputs": [],
   "source": [
    "#test model\n",
    "\n",
    "def test_model(model, df, test_index, scaler):   \n",
    "    y_test = df['y'].loc[test_index:].values\n",
    "    x_test = df.drop(columns = ['y']).loc[test_index:].values\n",
    "    y_pred = model.predict(x_test)\n",
    "    y_pred = scaler.inverse_transform(y_pred.reshape(-1, 1)).flatten()\n",
    "    y_test = scaler.inverse_transform(y_test.reshape(-1, 1)).flatten()\n",
    "\n",
    "    return y_pred, y_test"
   ]
  },
  {
   "cell_type": "code",
   "execution_count": 16,
   "id": "ca49f26f-0110-4d1b-b99b-092af58d1afc",
   "metadata": {},
   "outputs": [],
   "source": [
    "def parallel_gridsearch(estimator, param_grid, x_train, y_train, x_val, y_val):\n",
    "    pool = Pool()\n",
    "    list_params = list(ParameterGrid(param_grid))\n",
    "    results = list(tqdm(pool.imap(partial(gridsearch.validate_params, estimator=estimator, x_train=x_train, \n",
    "                               y_train=y_train, x_val=x_val, y_val=y_val), list_params), total=len(list_params)))\n",
    "    idx = np.argmin([r[1] for r in results])\n",
    "    best_params = results[idx][0]\n",
    "    best_rmse = results[idx][1]\n",
    "    \n",
    "    pool.close()\n",
    "    pool.join()\n",
    "    print('Best params: ', best_params)\n",
    "    print('Best rmse: ', best_rmse)\n",
    "    return best_params"
   ]
  },
  {
   "cell_type": "code",
   "execution_count": 17,
   "id": "d18876ff-e349-4f22-a678-b16c58a29a4a",
   "metadata": {},
   "outputs": [],
   "source": [
    "@ignore_warnings(category=ConvergenceWarning)\n",
    "def train_svr(x_train, y_train, x_val, y_val):\n",
    "    \n",
    "    param_grid = {'C':[1, 10, 100, 1000], 'gamma': [0.001, 0.01, 0.1, 1],\n",
    "                      'kernel':[\"rbf\"],\n",
    "                      'epsilon': [0.1, 0.01, 0.001, 0.0001, 0.00001],\n",
    "                 }\n",
    "\n",
    "    model = SVR(max_iter = 10000)\n",
    "    \n",
    "    best_params = parallel_gridsearch(model, param_grid, \n",
    "                                    x_train, y_train,\n",
    "                                    x_val, y_val)\n",
    "\n",
    "    model.set_params(**best_params)\n",
    "    model.fit(x_train, y_train)\n",
    "\n",
    "    \n",
    "    # for k, g, e, c in hyper_param:\n",
    "    #     modelo = SVR(kernel=k,gamma=g, epsilon=e, C=c, max_iter = 10000)\n",
    "    #     modelo.fit(x_train, y_train)\n",
    "    #     prev_v = modelo.predict(x_val)\n",
    "    #     novo_mse  = metrics.mean_squared_error(y_val, prev_v)\n",
    "    #     if novo_mse < melhor_mse:\n",
    "    #         melhor_mse = novo_mse\n",
    "    #         melhor_modelo = modelo\n",
    "\n",
    "    return model, None"
   ]
  },
  {
   "cell_type": "code",
   "execution_count": 18,
   "id": "6b75ecba-a943-4582-a670-98b0d8d24805",
   "metadata": {},
   "outputs": [],
   "source": [
    "def reamostragem(serie, n):\n",
    "    size = len(serie)\n",
    "    #nova_particao = []\n",
    "    ind_particao = []\n",
    "    for i in range(n):\n",
    "        ind_r = np.random.randint(size)\n",
    "        ind_particao.append(ind_r)\n",
    "        #nova_particao.append(serie[ind_r,:])\n",
    "    \n",
    "    return ind_particao"
   ]
  },
  {
   "cell_type": "code",
   "execution_count": 19,
   "id": "e338e177-1e30-4a9a-81b4-3172be8e65a1",
   "metadata": {},
   "outputs": [],
   "source": [
    "def bagging(qtd_modelos, X_train, Y_train, val_index):\n",
    "    \n",
    "    ens = []\n",
    "    ensemble = {'models':[], 'indices': [] }   \n",
    "    ind_particao = []\n",
    "    \n",
    "    # if len(y_train.shape) == 1:\n",
    "    #     y_train =  y_train.reshape(len(y_train), 1)\n",
    "    \n",
    "    \n",
    "    # train = np.hstack([X_train, y_train])\n",
    "    train = X_train\n",
    "    \n",
    "    for i in range(qtd_modelos):\n",
    "        \n",
    "        print('Training model: ', i)\n",
    "        tam = len(train)\n",
    "       \n",
    "        indices = reamostragem(train, tam)\n",
    "        # indices = np.arange(tam)\n",
    "        \n",
    "        \n",
    "        particao_x = X_train[indices]\n",
    "        particao_y = Y_train[indices]\n",
    "\n",
    "        \n",
    "        # x_train = Xtrain[0:-tam_val, lags_acf]\n",
    "        x_train = particao_x[:val_index]\n",
    "        y_train = particao_y[:val_index]\n",
    "        # x_val = Xtrain[-tam_val:, lags_acf]\n",
    "        x_val = particao_x[val_index:]\n",
    "        y_val = particao_y[val_index:]\n",
    "        \n",
    "        \n",
    "        \n",
    "        model, _ = train_svr(x_train, y_train, x_val, y_val)\n",
    "        ens.append(model)\n",
    "   \n",
    "    return ens"
   ]
  },
  {
   "cell_type": "code",
   "execution_count": 20,
   "id": "792978f0-c912-4681-9bd7-5af8b8bbb75b",
   "metadata": {},
   "outputs": [],
   "source": [
    "def run_ensemble(df, ens_size, train_proportion, val_proportion, windows, lags, max_k, plot_curves, normalize_before_metrics, differencing_order, level, p_level):\n",
    "    print(\"\\n###############################################\\n\")\n",
    "    print(\"Executing: ENSEMBLE SVR\")\n",
    "    val_index, test_index = define_split_points(df, train_proportion, val_proportion)\n",
    "    d = 0\n",
    "    if differencing_order:\n",
    "        df_differenced, d = difference(df, differencing_order, level, p_level)\n",
    "    if(d):\n",
    "        df_normalized, min_max_scaler = normalize(df_differenced, val_index, d)\n",
    "    else:\n",
    "        df_normalized, min_max_scaler = normalize(df, val_index, d)\n",
    "\n",
    "    if(windows):\n",
    "        df_normalized = create_windows(df_normalized, lags)\n",
    "        \n",
    "    x_train = df_normalized.drop(columns = ['y']).loc[:test_index-1].values\n",
    "    y_train = df_normalized['y'].loc[:test_index-1].values\n",
    "    ens = bagging(ens_size, x_train, y_train, val_index-lags-d)\n",
    "    result_index = val_index - max_k\n",
    "    res = []\n",
    "    for e in ens:\n",
    "        y_pred, y_test = test_model(e, df_normalized, result_index, min_max_scaler)\n",
    "        if d:\n",
    "            y_pred, y_test = inverse_difference(d, df, df_differenced, result_index, y_pred)        \n",
    "        if plot_curves:\n",
    "            plot_results(y_pred[(test_index-result_index):], y_test[(test_index-result_index):])\n",
    "        res.append(y_pred)\n",
    "    return res"
   ]
  },
  {
   "cell_type": "code",
   "execution_count": 21,
   "id": "05cae07d-0206-4dd2-806b-9a8584c23e7f",
   "metadata": {},
   "outputs": [
    {
     "name": "stdout",
     "output_type": "stream",
     "text": [
      "Time Series:  amz\n",
      "\n",
      "###############################################\n",
      "\n",
      "Executing: ENSEMBLE SVR\n",
      "d:  1\n",
      "Training model:  0\n"
     ]
    },
    {
     "name": "stderr",
     "output_type": "stream",
     "text": [
      "100%|██████████████████████████████████████████████████████████████████████████████████| 80/80 [00:02<00:00, 31.50it/s]\n"
     ]
    },
    {
     "name": "stdout",
     "output_type": "stream",
     "text": [
      "Best params:  {'C': 1, 'epsilon': 0.01, 'gamma': 1, 'kernel': 'rbf'}\n",
      "Best rmse:  0.09572915709064787\n",
      "Training model:  1\n"
     ]
    },
    {
     "name": "stderr",
     "output_type": "stream",
     "text": [
      "100%|██████████████████████████████████████████████████████████████████████████████████| 80/80 [00:02<00:00, 32.06it/s]\n"
     ]
    },
    {
     "name": "stdout",
     "output_type": "stream",
     "text": [
      "Best params:  {'C': 1, 'epsilon': 0.1, 'gamma': 1, 'kernel': 'rbf'}\n",
      "Best rmse:  0.0911465008139272\n",
      "Training model:  2\n"
     ]
    },
    {
     "name": "stderr",
     "output_type": "stream",
     "text": [
      "100%|██████████████████████████████████████████████████████████████████████████████████| 80/80 [00:02<00:00, 31.88it/s]\n"
     ]
    },
    {
     "name": "stdout",
     "output_type": "stream",
     "text": [
      "Best params:  {'C': 1, 'epsilon': 0.01, 'gamma': 1, 'kernel': 'rbf'}\n",
      "Best rmse:  0.0896057745674725\n",
      "Training model:  3\n"
     ]
    },
    {
     "name": "stderr",
     "output_type": "stream",
     "text": [
      "100%|██████████████████████████████████████████████████████████████████████████████████| 80/80 [00:02<00:00, 31.92it/s]\n"
     ]
    },
    {
     "name": "stdout",
     "output_type": "stream",
     "text": [
      "Best params:  {'C': 10, 'epsilon': 0.1, 'gamma': 0.1, 'kernel': 'rbf'}\n",
      "Best rmse:  0.09245332730116317\n",
      "Training model:  4\n"
     ]
    },
    {
     "name": "stderr",
     "output_type": "stream",
     "text": [
      "100%|██████████████████████████████████████████████████████████████████████████████████| 80/80 [00:02<00:00, 30.69it/s]\n"
     ]
    },
    {
     "name": "stdout",
     "output_type": "stream",
     "text": [
      "Best params:  {'C': 10, 'epsilon': 0.01, 'gamma': 1, 'kernel': 'rbf'}\n",
      "Best rmse:  0.0896899390635395\n",
      "Training model:  5\n"
     ]
    },
    {
     "name": "stderr",
     "output_type": "stream",
     "text": [
      "100%|██████████████████████████████████████████████████████████████████████████████████| 80/80 [00:02<00:00, 30.95it/s]\n"
     ]
    },
    {
     "name": "stdout",
     "output_type": "stream",
     "text": [
      "Best params:  {'C': 1, 'epsilon': 0.01, 'gamma': 1, 'kernel': 'rbf'}\n",
      "Best rmse:  0.09117906698438144\n",
      "Training model:  6\n"
     ]
    },
    {
     "name": "stderr",
     "output_type": "stream",
     "text": [
      "100%|██████████████████████████████████████████████████████████████████████████████████| 80/80 [00:02<00:00, 29.01it/s]\n"
     ]
    },
    {
     "name": "stdout",
     "output_type": "stream",
     "text": [
      "Best params:  {'C': 1, 'epsilon': 0.01, 'gamma': 1, 'kernel': 'rbf'}\n",
      "Best rmse:  0.09348657725241971\n",
      "Training model:  7\n"
     ]
    },
    {
     "name": "stderr",
     "output_type": "stream",
     "text": [
      "100%|██████████████████████████████████████████████████████████████████████████████████| 80/80 [00:02<00:00, 31.26it/s]\n"
     ]
    },
    {
     "name": "stdout",
     "output_type": "stream",
     "text": [
      "Best params:  {'C': 1, 'epsilon': 0.01, 'gamma': 1, 'kernel': 'rbf'}\n",
      "Best rmse:  0.09757749819063095\n",
      "Training model:  8\n"
     ]
    },
    {
     "name": "stderr",
     "output_type": "stream",
     "text": [
      "100%|██████████████████████████████████████████████████████████████████████████████████| 80/80 [00:02<00:00, 32.04it/s]\n"
     ]
    },
    {
     "name": "stdout",
     "output_type": "stream",
     "text": [
      "Best params:  {'C': 1, 'epsilon': 0.1, 'gamma': 1, 'kernel': 'rbf'}\n",
      "Best rmse:  0.09685193448873113\n",
      "Training model:  9\n"
     ]
    },
    {
     "name": "stderr",
     "output_type": "stream",
     "text": [
      "100%|██████████████████████████████████████████████████████████████████████████████████| 80/80 [00:02<00:00, 32.20it/s]\n"
     ]
    },
    {
     "name": "stdout",
     "output_type": "stream",
     "text": [
      "Best params:  {'C': 1, 'epsilon': 1e-05, 'gamma': 1, 'kernel': 'rbf'}\n",
      "Best rmse:  0.09453649195506947\n",
      "Training model:  10\n"
     ]
    },
    {
     "name": "stderr",
     "output_type": "stream",
     "text": [
      "100%|██████████████████████████████████████████████████████████████████████████████████| 80/80 [00:02<00:00, 29.33it/s]\n"
     ]
    },
    {
     "name": "stdout",
     "output_type": "stream",
     "text": [
      "Best params:  {'C': 1, 'epsilon': 0.1, 'gamma': 1, 'kernel': 'rbf'}\n",
      "Best rmse:  0.09390176469778778\n",
      "Training model:  11\n"
     ]
    },
    {
     "name": "stderr",
     "output_type": "stream",
     "text": [
      "100%|██████████████████████████████████████████████████████████████████████████████████| 80/80 [00:02<00:00, 30.31it/s]\n"
     ]
    },
    {
     "name": "stdout",
     "output_type": "stream",
     "text": [
      "Best params:  {'C': 10, 'epsilon': 0.01, 'gamma': 1, 'kernel': 'rbf'}\n",
      "Best rmse:  0.09802902741700441\n",
      "Training model:  12\n"
     ]
    },
    {
     "name": "stderr",
     "output_type": "stream",
     "text": [
      "100%|██████████████████████████████████████████████████████████████████████████████████| 80/80 [00:02<00:00, 29.48it/s]\n"
     ]
    },
    {
     "name": "stdout",
     "output_type": "stream",
     "text": [
      "Best params:  {'C': 1, 'epsilon': 0.1, 'gamma': 1, 'kernel': 'rbf'}\n",
      "Best rmse:  0.09612354216382216\n",
      "Training model:  13\n"
     ]
    },
    {
     "name": "stderr",
     "output_type": "stream",
     "text": [
      "100%|██████████████████████████████████████████████████████████████████████████████████| 80/80 [00:02<00:00, 29.28it/s]\n"
     ]
    },
    {
     "name": "stdout",
     "output_type": "stream",
     "text": [
      "Best params:  {'C': 1000, 'epsilon': 1e-05, 'gamma': 0.01, 'kernel': 'rbf'}\n",
      "Best rmse:  0.09849421242729324\n",
      "Training model:  14\n"
     ]
    },
    {
     "name": "stderr",
     "output_type": "stream",
     "text": [
      "100%|██████████████████████████████████████████████████████████████████████████████████| 80/80 [00:02<00:00, 30.06it/s]\n"
     ]
    },
    {
     "name": "stdout",
     "output_type": "stream",
     "text": [
      "Best params:  {'C': 10, 'epsilon': 0.01, 'gamma': 0.1, 'kernel': 'rbf'}\n",
      "Best rmse:  0.09520419425432791\n",
      "Training model:  15\n"
     ]
    },
    {
     "name": "stderr",
     "output_type": "stream",
     "text": [
      "100%|██████████████████████████████████████████████████████████████████████████████████| 80/80 [00:02<00:00, 30.28it/s]\n"
     ]
    },
    {
     "name": "stdout",
     "output_type": "stream",
     "text": [
      "Best params:  {'C': 1, 'epsilon': 0.01, 'gamma': 1, 'kernel': 'rbf'}\n",
      "Best rmse:  0.09025753966535288\n",
      "Training model:  16\n"
     ]
    },
    {
     "name": "stderr",
     "output_type": "stream",
     "text": [
      "100%|██████████████████████████████████████████████████████████████████████████████████| 80/80 [00:02<00:00, 29.52it/s]\n"
     ]
    },
    {
     "name": "stdout",
     "output_type": "stream",
     "text": [
      "Best params:  {'C': 10, 'epsilon': 0.01, 'gamma': 0.1, 'kernel': 'rbf'}\n",
      "Best rmse:  0.10570918469939974\n",
      "Training model:  17\n"
     ]
    },
    {
     "name": "stderr",
     "output_type": "stream",
     "text": [
      "100%|██████████████████████████████████████████████████████████████████████████████████| 80/80 [00:02<00:00, 30.93it/s]\n"
     ]
    },
    {
     "name": "stdout",
     "output_type": "stream",
     "text": [
      "Best params:  {'C': 10, 'epsilon': 1e-05, 'gamma': 0.1, 'kernel': 'rbf'}\n",
      "Best rmse:  0.08803750112485738\n",
      "Training model:  18\n"
     ]
    },
    {
     "name": "stderr",
     "output_type": "stream",
     "text": [
      "100%|██████████████████████████████████████████████████████████████████████████████████| 80/80 [00:02<00:00, 29.29it/s]\n"
     ]
    },
    {
     "name": "stdout",
     "output_type": "stream",
     "text": [
      "Best params:  {'C': 1, 'epsilon': 0.1, 'gamma': 1, 'kernel': 'rbf'}\n",
      "Best rmse:  0.08924429134590077\n",
      "Training model:  19\n"
     ]
    },
    {
     "name": "stderr",
     "output_type": "stream",
     "text": [
      "100%|██████████████████████████████████████████████████████████████████████████████████| 80/80 [00:02<00:00, 31.34it/s]\n"
     ]
    },
    {
     "name": "stdout",
     "output_type": "stream",
     "text": [
      "Best params:  {'C': 1, 'epsilon': 0.01, 'gamma': 1, 'kernel': 'rbf'}\n",
      "Best rmse:  0.0932561131400747\n",
      "Training model:  20\n"
     ]
    },
    {
     "name": "stderr",
     "output_type": "stream",
     "text": [
      "100%|██████████████████████████████████████████████████████████████████████████████████| 80/80 [00:02<00:00, 31.71it/s]\n"
     ]
    },
    {
     "name": "stdout",
     "output_type": "stream",
     "text": [
      "Best params:  {'C': 1, 'epsilon': 0.1, 'gamma': 1, 'kernel': 'rbf'}\n",
      "Best rmse:  0.08793010449803397\n",
      "Training model:  21\n"
     ]
    },
    {
     "name": "stderr",
     "output_type": "stream",
     "text": [
      "100%|██████████████████████████████████████████████████████████████████████████████████| 80/80 [00:02<00:00, 31.89it/s]\n"
     ]
    },
    {
     "name": "stdout",
     "output_type": "stream",
     "text": [
      "Best params:  {'C': 1, 'epsilon': 0.01, 'gamma': 1, 'kernel': 'rbf'}\n",
      "Best rmse:  0.09016942299403986\n",
      "Training model:  22\n"
     ]
    },
    {
     "name": "stderr",
     "output_type": "stream",
     "text": [
      "100%|██████████████████████████████████████████████████████████████████████████████████| 80/80 [00:02<00:00, 32.08it/s]\n"
     ]
    },
    {
     "name": "stdout",
     "output_type": "stream",
     "text": [
      "Best params:  {'C': 10, 'epsilon': 0.1, 'gamma': 0.1, 'kernel': 'rbf'}\n",
      "Best rmse:  0.09216967745734213\n",
      "Training model:  23\n"
     ]
    },
    {
     "name": "stderr",
     "output_type": "stream",
     "text": [
      "100%|██████████████████████████████████████████████████████████████████████████████████| 80/80 [00:02<00:00, 32.34it/s]\n"
     ]
    },
    {
     "name": "stdout",
     "output_type": "stream",
     "text": [
      "Best params:  {'C': 1, 'epsilon': 0.01, 'gamma': 1, 'kernel': 'rbf'}\n",
      "Best rmse:  0.09880375529486288\n",
      "Training model:  24\n"
     ]
    },
    {
     "name": "stderr",
     "output_type": "stream",
     "text": [
      "100%|██████████████████████████████████████████████████████████████████████████████████| 80/80 [00:02<00:00, 32.15it/s]\n"
     ]
    },
    {
     "name": "stdout",
     "output_type": "stream",
     "text": [
      "Best params:  {'C': 1, 'epsilon': 0.01, 'gamma': 1, 'kernel': 'rbf'}\n",
      "Best rmse:  0.09519904138705644\n",
      "Training model:  25\n"
     ]
    },
    {
     "name": "stderr",
     "output_type": "stream",
     "text": [
      "100%|██████████████████████████████████████████████████████████████████████████████████| 80/80 [00:02<00:00, 32.07it/s]\n"
     ]
    },
    {
     "name": "stdout",
     "output_type": "stream",
     "text": [
      "Best params:  {'C': 1, 'epsilon': 0.1, 'gamma': 0.001, 'kernel': 'rbf'}\n",
      "Best rmse:  0.09655173283678692\n",
      "Training model:  26\n"
     ]
    },
    {
     "name": "stderr",
     "output_type": "stream",
     "text": [
      "100%|██████████████████████████████████████████████████████████████████████████████████| 80/80 [00:02<00:00, 32.11it/s]\n"
     ]
    },
    {
     "name": "stdout",
     "output_type": "stream",
     "text": [
      "Best params:  {'C': 1, 'epsilon': 0.001, 'gamma': 1, 'kernel': 'rbf'}\n",
      "Best rmse:  0.09034496969098649\n",
      "Training model:  27\n"
     ]
    },
    {
     "name": "stderr",
     "output_type": "stream",
     "text": [
      "100%|██████████████████████████████████████████████████████████████████████████████████| 80/80 [00:02<00:00, 31.27it/s]\n"
     ]
    },
    {
     "name": "stdout",
     "output_type": "stream",
     "text": [
      "Best params:  {'C': 10, 'epsilon': 0.01, 'gamma': 1, 'kernel': 'rbf'}\n",
      "Best rmse:  0.09593061078837627\n",
      "Training model:  28\n"
     ]
    },
    {
     "name": "stderr",
     "output_type": "stream",
     "text": [
      "100%|██████████████████████████████████████████████████████████████████████████████████| 80/80 [00:02<00:00, 30.16it/s]\n"
     ]
    },
    {
     "name": "stdout",
     "output_type": "stream",
     "text": [
      "Best params:  {'C': 1, 'epsilon': 0.1, 'gamma': 0.001, 'kernel': 'rbf'}\n",
      "Best rmse:  0.09489178435273618\n",
      "Training model:  29\n"
     ]
    },
    {
     "name": "stderr",
     "output_type": "stream",
     "text": [
      "100%|██████████████████████████████████████████████████████████████████████████████████| 80/80 [00:02<00:00, 31.39it/s]\n"
     ]
    },
    {
     "name": "stdout",
     "output_type": "stream",
     "text": [
      "Best params:  {'C': 1, 'epsilon': 0.1, 'gamma': 1, 'kernel': 'rbf'}\n",
      "Best rmse:  0.09025603439711027\n",
      "Training model:  30\n"
     ]
    },
    {
     "name": "stderr",
     "output_type": "stream",
     "text": [
      "100%|██████████████████████████████████████████████████████████████████████████████████| 80/80 [00:02<00:00, 30.00it/s]\n"
     ]
    },
    {
     "name": "stdout",
     "output_type": "stream",
     "text": [
      "Best params:  {'C': 1000, 'epsilon': 0.001, 'gamma': 0.01, 'kernel': 'rbf'}\n",
      "Best rmse:  0.09225470825065145\n",
      "Training model:  31\n"
     ]
    },
    {
     "name": "stderr",
     "output_type": "stream",
     "text": [
      "100%|██████████████████████████████████████████████████████████████████████████████████| 80/80 [00:02<00:00, 30.86it/s]\n"
     ]
    },
    {
     "name": "stdout",
     "output_type": "stream",
     "text": [
      "Best params:  {'C': 1, 'epsilon': 0.01, 'gamma': 1, 'kernel': 'rbf'}\n",
      "Best rmse:  0.08942327104158304\n",
      "Training model:  32\n"
     ]
    },
    {
     "name": "stderr",
     "output_type": "stream",
     "text": [
      "100%|██████████████████████████████████████████████████████████████████████████████████| 80/80 [00:02<00:00, 31.30it/s]\n"
     ]
    },
    {
     "name": "stdout",
     "output_type": "stream",
     "text": [
      "Best params:  {'C': 10, 'epsilon': 0.01, 'gamma': 1, 'kernel': 'rbf'}\n",
      "Best rmse:  0.08942104561803248\n",
      "Training model:  33\n"
     ]
    },
    {
     "name": "stderr",
     "output_type": "stream",
     "text": [
      "100%|██████████████████████████████████████████████████████████████████████████████████| 80/80 [00:02<00:00, 30.70it/s]\n"
     ]
    },
    {
     "name": "stdout",
     "output_type": "stream",
     "text": [
      "Best params:  {'C': 1000, 'epsilon': 0.01, 'gamma': 0.01, 'kernel': 'rbf'}\n",
      "Best rmse:  0.09307672715020822\n",
      "Training model:  34\n"
     ]
    },
    {
     "name": "stderr",
     "output_type": "stream",
     "text": [
      "100%|██████████████████████████████████████████████████████████████████████████████████| 80/80 [00:02<00:00, 31.37it/s]\n"
     ]
    },
    {
     "name": "stdout",
     "output_type": "stream",
     "text": [
      "Best params:  {'C': 10, 'epsilon': 0.01, 'gamma': 1, 'kernel': 'rbf'}\n",
      "Best rmse:  0.09592093377619904\n",
      "Training model:  35\n"
     ]
    },
    {
     "name": "stderr",
     "output_type": "stream",
     "text": [
      "100%|██████████████████████████████████████████████████████████████████████████████████| 80/80 [00:02<00:00, 31.29it/s]\n"
     ]
    },
    {
     "name": "stdout",
     "output_type": "stream",
     "text": [
      "Best params:  {'C': 1, 'epsilon': 0.1, 'gamma': 1, 'kernel': 'rbf'}\n",
      "Best rmse:  0.09287108118714087\n",
      "Training model:  36\n"
     ]
    },
    {
     "name": "stderr",
     "output_type": "stream",
     "text": [
      "100%|██████████████████████████████████████████████████████████████████████████████████| 80/80 [00:02<00:00, 31.37it/s]\n"
     ]
    },
    {
     "name": "stdout",
     "output_type": "stream",
     "text": [
      "Best params:  {'C': 10, 'epsilon': 0.01, 'gamma': 0.1, 'kernel': 'rbf'}\n",
      "Best rmse:  0.09525513178398737\n",
      "Training model:  37\n"
     ]
    },
    {
     "name": "stderr",
     "output_type": "stream",
     "text": [
      "100%|██████████████████████████████████████████████████████████████████████████████████| 80/80 [00:02<00:00, 30.27it/s]\n"
     ]
    },
    {
     "name": "stdout",
     "output_type": "stream",
     "text": [
      "Best params:  {'C': 1, 'epsilon': 0.01, 'gamma': 1, 'kernel': 'rbf'}\n",
      "Best rmse:  0.09831825756466664\n",
      "Training model:  38\n"
     ]
    },
    {
     "name": "stderr",
     "output_type": "stream",
     "text": [
      "100%|██████████████████████████████████████████████████████████████████████████████████| 80/80 [00:02<00:00, 31.56it/s]\n"
     ]
    },
    {
     "name": "stdout",
     "output_type": "stream",
     "text": [
      "Best params:  {'C': 1, 'epsilon': 0.1, 'gamma': 1, 'kernel': 'rbf'}\n",
      "Best rmse:  0.09638912223710336\n",
      "Training model:  39\n"
     ]
    },
    {
     "name": "stderr",
     "output_type": "stream",
     "text": [
      "100%|██████████████████████████████████████████████████████████████████████████████████| 80/80 [00:02<00:00, 30.53it/s]\n"
     ]
    },
    {
     "name": "stdout",
     "output_type": "stream",
     "text": [
      "Best params:  {'C': 1, 'epsilon': 0.01, 'gamma': 1, 'kernel': 'rbf'}\n",
      "Best rmse:  0.09791488987665833\n",
      "Training model:  40\n"
     ]
    },
    {
     "name": "stderr",
     "output_type": "stream",
     "text": [
      "100%|██████████████████████████████████████████████████████████████████████████████████| 80/80 [00:02<00:00, 30.37it/s]\n"
     ]
    },
    {
     "name": "stdout",
     "output_type": "stream",
     "text": [
      "Best params:  {'C': 10, 'epsilon': 0.001, 'gamma': 0.1, 'kernel': 'rbf'}\n",
      "Best rmse:  0.09482113916555222\n",
      "Training model:  41\n"
     ]
    },
    {
     "name": "stderr",
     "output_type": "stream",
     "text": [
      "100%|██████████████████████████████████████████████████████████████████████████████████| 80/80 [00:02<00:00, 31.56it/s]\n"
     ]
    },
    {
     "name": "stdout",
     "output_type": "stream",
     "text": [
      "Best params:  {'C': 10, 'epsilon': 0.01, 'gamma': 1, 'kernel': 'rbf'}\n",
      "Best rmse:  0.08586128596939459\n",
      "Training model:  42\n"
     ]
    },
    {
     "name": "stderr",
     "output_type": "stream",
     "text": [
      "100%|██████████████████████████████████████████████████████████████████████████████████| 80/80 [00:02<00:00, 30.26it/s]\n"
     ]
    },
    {
     "name": "stdout",
     "output_type": "stream",
     "text": [
      "Best params:  {'C': 1, 'epsilon': 0.01, 'gamma': 1, 'kernel': 'rbf'}\n",
      "Best rmse:  0.09497295767687138\n",
      "Training model:  43\n"
     ]
    },
    {
     "name": "stderr",
     "output_type": "stream",
     "text": [
      "100%|██████████████████████████████████████████████████████████████████████████████████| 80/80 [00:02<00:00, 31.32it/s]\n"
     ]
    },
    {
     "name": "stdout",
     "output_type": "stream",
     "text": [
      "Best params:  {'C': 1, 'epsilon': 0.01, 'gamma': 1, 'kernel': 'rbf'}\n",
      "Best rmse:  0.09424573268087856\n",
      "Training model:  44\n"
     ]
    },
    {
     "name": "stderr",
     "output_type": "stream",
     "text": [
      "100%|██████████████████████████████████████████████████████████████████████████████████| 80/80 [00:02<00:00, 31.27it/s]\n"
     ]
    },
    {
     "name": "stdout",
     "output_type": "stream",
     "text": [
      "Best params:  {'C': 1, 'epsilon': 0.1, 'gamma': 1, 'kernel': 'rbf'}\n",
      "Best rmse:  0.09280431918570058\n",
      "Training model:  45\n"
     ]
    },
    {
     "name": "stderr",
     "output_type": "stream",
     "text": [
      "100%|██████████████████████████████████████████████████████████████████████████████████| 80/80 [00:02<00:00, 31.26it/s]\n"
     ]
    },
    {
     "name": "stdout",
     "output_type": "stream",
     "text": [
      "Best params:  {'C': 1, 'epsilon': 0.1, 'gamma': 1, 'kernel': 'rbf'}\n",
      "Best rmse:  0.09047852076869771\n",
      "Training model:  46\n"
     ]
    },
    {
     "name": "stderr",
     "output_type": "stream",
     "text": [
      "100%|██████████████████████████████████████████████████████████████████████████████████| 80/80 [00:02<00:00, 29.99it/s]\n"
     ]
    },
    {
     "name": "stdout",
     "output_type": "stream",
     "text": [
      "Best params:  {'C': 1, 'epsilon': 0.01, 'gamma': 1, 'kernel': 'rbf'}\n",
      "Best rmse:  0.09385324860945476\n",
      "Training model:  47\n"
     ]
    },
    {
     "name": "stderr",
     "output_type": "stream",
     "text": [
      "100%|██████████████████████████████████████████████████████████████████████████████████| 80/80 [00:02<00:00, 31.58it/s]\n"
     ]
    },
    {
     "name": "stdout",
     "output_type": "stream",
     "text": [
      "Best params:  {'C': 1, 'epsilon': 0.01, 'gamma': 1, 'kernel': 'rbf'}\n",
      "Best rmse:  0.09282797172096191\n",
      "Training model:  48\n"
     ]
    },
    {
     "name": "stderr",
     "output_type": "stream",
     "text": [
      "100%|██████████████████████████████████████████████████████████████████████████████████| 80/80 [00:02<00:00, 31.90it/s]\n"
     ]
    },
    {
     "name": "stdout",
     "output_type": "stream",
     "text": [
      "Best params:  {'C': 1, 'epsilon': 0.001, 'gamma': 1, 'kernel': 'rbf'}\n",
      "Best rmse:  0.08719415957967808\n",
      "Training model:  49\n"
     ]
    },
    {
     "name": "stderr",
     "output_type": "stream",
     "text": [
      "100%|██████████████████████████████████████████████████████████████████████████████████| 80/80 [00:02<00:00, 31.74it/s]\n"
     ]
    },
    {
     "name": "stdout",
     "output_type": "stream",
     "text": [
      "Best params:  {'C': 1, 'epsilon': 0.01, 'gamma': 1, 'kernel': 'rbf'}\n",
      "Best rmse:  0.08797625670265452\n",
      "Training model:  50\n"
     ]
    },
    {
     "name": "stderr",
     "output_type": "stream",
     "text": [
      "100%|██████████████████████████████████████████████████████████████████████████████████| 80/80 [00:02<00:00, 31.89it/s]\n"
     ]
    },
    {
     "name": "stdout",
     "output_type": "stream",
     "text": [
      "Best params:  {'C': 10, 'epsilon': 1e-05, 'gamma': 0.1, 'kernel': 'rbf'}\n",
      "Best rmse:  0.09084962529828695\n",
      "Training model:  51\n"
     ]
    },
    {
     "name": "stderr",
     "output_type": "stream",
     "text": [
      "100%|██████████████████████████████████████████████████████████████████████████████████| 80/80 [00:02<00:00, 31.65it/s]\n"
     ]
    },
    {
     "name": "stdout",
     "output_type": "stream",
     "text": [
      "Best params:  {'C': 1, 'epsilon': 0.01, 'gamma': 1, 'kernel': 'rbf'}\n",
      "Best rmse:  0.08563004413422191\n",
      "Training model:  52\n"
     ]
    },
    {
     "name": "stderr",
     "output_type": "stream",
     "text": [
      "100%|██████████████████████████████████████████████████████████████████████████████████| 80/80 [00:02<00:00, 29.93it/s]\n"
     ]
    },
    {
     "name": "stdout",
     "output_type": "stream",
     "text": [
      "Best params:  {'C': 1, 'epsilon': 0.01, 'gamma': 1, 'kernel': 'rbf'}\n",
      "Best rmse:  0.09123232810687266\n",
      "Training model:  53\n"
     ]
    },
    {
     "name": "stderr",
     "output_type": "stream",
     "text": [
      "100%|██████████████████████████████████████████████████████████████████████████████████| 80/80 [00:02<00:00, 31.65it/s]\n"
     ]
    },
    {
     "name": "stdout",
     "output_type": "stream",
     "text": [
      "Best params:  {'C': 1, 'epsilon': 0.01, 'gamma': 1, 'kernel': 'rbf'}\n",
      "Best rmse:  0.092811757980258\n",
      "Training model:  54\n"
     ]
    },
    {
     "name": "stderr",
     "output_type": "stream",
     "text": [
      "100%|██████████████████████████████████████████████████████████████████████████████████| 80/80 [00:02<00:00, 32.33it/s]\n"
     ]
    },
    {
     "name": "stdout",
     "output_type": "stream",
     "text": [
      "Best params:  {'C': 10, 'epsilon': 0.01, 'gamma': 0.1, 'kernel': 'rbf'}\n",
      "Best rmse:  0.09114589576777947\n",
      "Training model:  55\n"
     ]
    },
    {
     "name": "stderr",
     "output_type": "stream",
     "text": [
      "100%|██████████████████████████████████████████████████████████████████████████████████| 80/80 [00:02<00:00, 32.12it/s]\n"
     ]
    },
    {
     "name": "stdout",
     "output_type": "stream",
     "text": [
      "Best params:  {'C': 1, 'epsilon': 0.1, 'gamma': 1, 'kernel': 'rbf'}\n",
      "Best rmse:  0.08909772583311064\n",
      "Training model:  56\n"
     ]
    },
    {
     "name": "stderr",
     "output_type": "stream",
     "text": [
      "100%|██████████████████████████████████████████████████████████████████████████████████| 80/80 [00:02<00:00, 32.12it/s]\n"
     ]
    },
    {
     "name": "stdout",
     "output_type": "stream",
     "text": [
      "Best params:  {'C': 10, 'epsilon': 0.0001, 'gamma': 0.1, 'kernel': 'rbf'}\n",
      "Best rmse:  0.09250096564314099\n",
      "Training model:  57\n"
     ]
    },
    {
     "name": "stderr",
     "output_type": "stream",
     "text": [
      "100%|██████████████████████████████████████████████████████████████████████████████████| 80/80 [00:02<00:00, 29.97it/s]\n"
     ]
    },
    {
     "name": "stdout",
     "output_type": "stream",
     "text": [
      "Best params:  {'C': 1, 'epsilon': 0.01, 'gamma': 1, 'kernel': 'rbf'}\n",
      "Best rmse:  0.09112125035998765\n",
      "Training model:  58\n"
     ]
    },
    {
     "name": "stderr",
     "output_type": "stream",
     "text": [
      "100%|██████████████████████████████████████████████████████████████████████████████████| 80/80 [00:02<00:00, 32.19it/s]\n"
     ]
    },
    {
     "name": "stdout",
     "output_type": "stream",
     "text": [
      "Best params:  {'C': 1, 'epsilon': 0.0001, 'gamma': 1, 'kernel': 'rbf'}\n",
      "Best rmse:  0.09291656461316944\n",
      "Training model:  59\n"
     ]
    },
    {
     "name": "stderr",
     "output_type": "stream",
     "text": [
      "100%|██████████████████████████████████████████████████████████████████████████████████| 80/80 [00:02<00:00, 32.01it/s]\n"
     ]
    },
    {
     "name": "stdout",
     "output_type": "stream",
     "text": [
      "Best params:  {'C': 1, 'epsilon': 0.01, 'gamma': 1, 'kernel': 'rbf'}\n",
      "Best rmse:  0.08981956469194555\n",
      "Training model:  60\n"
     ]
    },
    {
     "name": "stderr",
     "output_type": "stream",
     "text": [
      "100%|██████████████████████████████████████████████████████████████████████████████████| 80/80 [00:02<00:00, 31.93it/s]\n"
     ]
    },
    {
     "name": "stdout",
     "output_type": "stream",
     "text": [
      "Best params:  {'C': 10, 'epsilon': 0.01, 'gamma': 1, 'kernel': 'rbf'}\n",
      "Best rmse:  0.09327025968036223\n",
      "Training model:  61\n"
     ]
    },
    {
     "name": "stderr",
     "output_type": "stream",
     "text": [
      "100%|██████████████████████████████████████████████████████████████████████████████████| 80/80 [00:02<00:00, 31.92it/s]\n"
     ]
    },
    {
     "name": "stdout",
     "output_type": "stream",
     "text": [
      "Best params:  {'C': 10, 'epsilon': 0.01, 'gamma': 1, 'kernel': 'rbf'}\n",
      "Best rmse:  0.09212816779862357\n",
      "Training model:  62\n"
     ]
    },
    {
     "name": "stderr",
     "output_type": "stream",
     "text": [
      "100%|██████████████████████████████████████████████████████████████████████████████████| 80/80 [00:02<00:00, 31.88it/s]\n"
     ]
    },
    {
     "name": "stdout",
     "output_type": "stream",
     "text": [
      "Best params:  {'C': 1, 'epsilon': 1e-05, 'gamma': 1, 'kernel': 'rbf'}\n",
      "Best rmse:  0.09211731314572817\n",
      "Training model:  63\n"
     ]
    },
    {
     "name": "stderr",
     "output_type": "stream",
     "text": [
      "100%|██████████████████████████████████████████████████████████████████████████████████| 80/80 [00:02<00:00, 31.78it/s]\n"
     ]
    },
    {
     "name": "stdout",
     "output_type": "stream",
     "text": [
      "Best params:  {'C': 1, 'epsilon': 0.01, 'gamma': 1, 'kernel': 'rbf'}\n",
      "Best rmse:  0.09321927884799613\n",
      "Training model:  64\n"
     ]
    },
    {
     "name": "stderr",
     "output_type": "stream",
     "text": [
      "100%|██████████████████████████████████████████████████████████████████████████████████| 80/80 [00:02<00:00, 31.79it/s]\n"
     ]
    },
    {
     "name": "stdout",
     "output_type": "stream",
     "text": [
      "Best params:  {'C': 1, 'epsilon': 0.1, 'gamma': 1, 'kernel': 'rbf'}\n",
      "Best rmse:  0.09572019803822306\n",
      "Training model:  65\n"
     ]
    },
    {
     "name": "stderr",
     "output_type": "stream",
     "text": [
      "100%|██████████████████████████████████████████████████████████████████████████████████| 80/80 [00:02<00:00, 32.15it/s]\n"
     ]
    },
    {
     "name": "stdout",
     "output_type": "stream",
     "text": [
      "Best params:  {'C': 1, 'epsilon': 0.1, 'gamma': 1, 'kernel': 'rbf'}\n",
      "Best rmse:  0.09372351448250452\n",
      "Training model:  66\n"
     ]
    },
    {
     "name": "stderr",
     "output_type": "stream",
     "text": [
      "100%|██████████████████████████████████████████████████████████████████████████████████| 80/80 [00:02<00:00, 31.73it/s]\n"
     ]
    },
    {
     "name": "stdout",
     "output_type": "stream",
     "text": [
      "Best params:  {'C': 1, 'epsilon': 0.01, 'gamma': 1, 'kernel': 'rbf'}\n",
      "Best rmse:  0.09333091093535868\n",
      "Training model:  67\n"
     ]
    },
    {
     "name": "stderr",
     "output_type": "stream",
     "text": [
      "100%|██████████████████████████████████████████████████████████████████████████████████| 80/80 [00:02<00:00, 31.80it/s]\n"
     ]
    },
    {
     "name": "stdout",
     "output_type": "stream",
     "text": [
      "Best params:  {'C': 1, 'epsilon': 0.01, 'gamma': 1, 'kernel': 'rbf'}\n",
      "Best rmse:  0.09189419596794722\n",
      "Training model:  68\n"
     ]
    },
    {
     "name": "stderr",
     "output_type": "stream",
     "text": [
      "100%|██████████████████████████████████████████████████████████████████████████████████| 80/80 [00:02<00:00, 31.63it/s]\n"
     ]
    },
    {
     "name": "stdout",
     "output_type": "stream",
     "text": [
      "Best params:  {'C': 10, 'epsilon': 0.01, 'gamma': 1, 'kernel': 'rbf'}\n",
      "Best rmse:  0.08372315291143605\n",
      "Training model:  69\n"
     ]
    },
    {
     "name": "stderr",
     "output_type": "stream",
     "text": [
      "100%|██████████████████████████████████████████████████████████████████████████████████| 80/80 [00:02<00:00, 31.87it/s]\n"
     ]
    },
    {
     "name": "stdout",
     "output_type": "stream",
     "text": [
      "Best params:  {'C': 1, 'epsilon': 0.1, 'gamma': 1, 'kernel': 'rbf'}\n",
      "Best rmse:  0.08912333420459692\n",
      "Training model:  70\n"
     ]
    },
    {
     "name": "stderr",
     "output_type": "stream",
     "text": [
      "100%|██████████████████████████████████████████████████████████████████████████████████| 80/80 [00:02<00:00, 31.81it/s]\n"
     ]
    },
    {
     "name": "stdout",
     "output_type": "stream",
     "text": [
      "Best params:  {'C': 1, 'epsilon': 0.01, 'gamma': 1, 'kernel': 'rbf'}\n",
      "Best rmse:  0.08612777668805724\n",
      "Training model:  71\n"
     ]
    },
    {
     "name": "stderr",
     "output_type": "stream",
     "text": [
      "100%|██████████████████████████████████████████████████████████████████████████████████| 80/80 [00:02<00:00, 31.68it/s]\n"
     ]
    },
    {
     "name": "stdout",
     "output_type": "stream",
     "text": [
      "Best params:  {'C': 1, 'epsilon': 0.1, 'gamma': 1, 'kernel': 'rbf'}\n",
      "Best rmse:  0.09616770146780707\n",
      "Training model:  72\n"
     ]
    },
    {
     "name": "stderr",
     "output_type": "stream",
     "text": [
      "100%|██████████████████████████████████████████████████████████████████████████████████| 80/80 [00:02<00:00, 32.15it/s]\n"
     ]
    },
    {
     "name": "stdout",
     "output_type": "stream",
     "text": [
      "Best params:  {'C': 10, 'epsilon': 0.1, 'gamma': 0.001, 'kernel': 'rbf'}\n",
      "Best rmse:  0.09361864973974442\n",
      "Training model:  73\n"
     ]
    },
    {
     "name": "stderr",
     "output_type": "stream",
     "text": [
      "100%|██████████████████████████████████████████████████████████████████████████████████| 80/80 [00:02<00:00, 31.93it/s]\n"
     ]
    },
    {
     "name": "stdout",
     "output_type": "stream",
     "text": [
      "Best params:  {'C': 10, 'epsilon': 0.01, 'gamma': 0.1, 'kernel': 'rbf'}\n",
      "Best rmse:  0.09641553901893991\n",
      "Training model:  74\n"
     ]
    },
    {
     "name": "stderr",
     "output_type": "stream",
     "text": [
      "100%|██████████████████████████████████████████████████████████████████████████████████| 80/80 [00:02<00:00, 31.99it/s]\n"
     ]
    },
    {
     "name": "stdout",
     "output_type": "stream",
     "text": [
      "Best params:  {'C': 10, 'epsilon': 0.1, 'gamma': 0.1, 'kernel': 'rbf'}\n",
      "Best rmse:  0.09499776923932317\n",
      "Training model:  75\n"
     ]
    },
    {
     "name": "stderr",
     "output_type": "stream",
     "text": [
      "100%|██████████████████████████████████████████████████████████████████████████████████| 80/80 [00:02<00:00, 32.08it/s]\n"
     ]
    },
    {
     "name": "stdout",
     "output_type": "stream",
     "text": [
      "Best params:  {'C': 1, 'epsilon': 0.1, 'gamma': 1, 'kernel': 'rbf'}\n",
      "Best rmse:  0.09310473635081594\n",
      "Training model:  76\n"
     ]
    },
    {
     "name": "stderr",
     "output_type": "stream",
     "text": [
      "100%|██████████████████████████████████████████████████████████████████████████████████| 80/80 [00:02<00:00, 31.92it/s]\n"
     ]
    },
    {
     "name": "stdout",
     "output_type": "stream",
     "text": [
      "Best params:  {'C': 1, 'epsilon': 0.0001, 'gamma': 1, 'kernel': 'rbf'}\n",
      "Best rmse:  0.0923119535681075\n",
      "Training model:  77\n"
     ]
    },
    {
     "name": "stderr",
     "output_type": "stream",
     "text": [
      "100%|██████████████████████████████████████████████████████████████████████████████████| 80/80 [00:02<00:00, 31.84it/s]\n"
     ]
    },
    {
     "name": "stdout",
     "output_type": "stream",
     "text": [
      "Best params:  {'C': 1, 'epsilon': 0.1, 'gamma': 1, 'kernel': 'rbf'}\n",
      "Best rmse:  0.09024141351096161\n",
      "Training model:  78\n"
     ]
    },
    {
     "name": "stderr",
     "output_type": "stream",
     "text": [
      "100%|██████████████████████████████████████████████████████████████████████████████████| 80/80 [00:02<00:00, 31.95it/s]\n"
     ]
    },
    {
     "name": "stdout",
     "output_type": "stream",
     "text": [
      "Best params:  {'C': 1, 'epsilon': 0.001, 'gamma': 1, 'kernel': 'rbf'}\n",
      "Best rmse:  0.09650667782262516\n",
      "Training model:  79\n"
     ]
    },
    {
     "name": "stderr",
     "output_type": "stream",
     "text": [
      "100%|██████████████████████████████████████████████████████████████████████████████████| 80/80 [00:02<00:00, 31.70it/s]\n"
     ]
    },
    {
     "name": "stdout",
     "output_type": "stream",
     "text": [
      "Best params:  {'C': 1, 'epsilon': 0.1, 'gamma': 1, 'kernel': 'rbf'}\n",
      "Best rmse:  0.09674345283942941\n",
      "Training model:  80\n"
     ]
    },
    {
     "name": "stderr",
     "output_type": "stream",
     "text": [
      "100%|██████████████████████████████████████████████████████████████████████████████████| 80/80 [00:02<00:00, 31.94it/s]\n"
     ]
    },
    {
     "name": "stdout",
     "output_type": "stream",
     "text": [
      "Best params:  {'C': 1, 'epsilon': 0.1, 'gamma': 1, 'kernel': 'rbf'}\n",
      "Best rmse:  0.09006545536484951\n",
      "Training model:  81\n"
     ]
    },
    {
     "name": "stderr",
     "output_type": "stream",
     "text": [
      "100%|██████████████████████████████████████████████████████████████████████████████████| 80/80 [00:02<00:00, 31.98it/s]\n"
     ]
    },
    {
     "name": "stdout",
     "output_type": "stream",
     "text": [
      "Best params:  {'C': 1, 'epsilon': 0.001, 'gamma': 0.001, 'kernel': 'rbf'}\n",
      "Best rmse:  0.09995461627562122\n",
      "Training model:  82\n"
     ]
    },
    {
     "name": "stderr",
     "output_type": "stream",
     "text": [
      "100%|██████████████████████████████████████████████████████████████████████████████████| 80/80 [00:02<00:00, 31.71it/s]\n"
     ]
    },
    {
     "name": "stdout",
     "output_type": "stream",
     "text": [
      "Best params:  {'C': 1, 'epsilon': 0.01, 'gamma': 1, 'kernel': 'rbf'}\n",
      "Best rmse:  0.09267239941687405\n",
      "Training model:  83\n"
     ]
    },
    {
     "name": "stderr",
     "output_type": "stream",
     "text": [
      "100%|██████████████████████████████████████████████████████████████████████████████████| 80/80 [00:02<00:00, 32.03it/s]\n"
     ]
    },
    {
     "name": "stdout",
     "output_type": "stream",
     "text": [
      "Best params:  {'C': 1, 'epsilon': 0.1, 'gamma': 1, 'kernel': 'rbf'}\n",
      "Best rmse:  0.09338502426274616\n",
      "Training model:  84\n"
     ]
    },
    {
     "name": "stderr",
     "output_type": "stream",
     "text": [
      "100%|██████████████████████████████████████████████████████████████████████████████████| 80/80 [00:02<00:00, 31.79it/s]\n"
     ]
    },
    {
     "name": "stdout",
     "output_type": "stream",
     "text": [
      "Best params:  {'C': 10, 'epsilon': 0.1, 'gamma': 0.1, 'kernel': 'rbf'}\n",
      "Best rmse:  0.0972466595454761\n",
      "Training model:  85\n"
     ]
    },
    {
     "name": "stderr",
     "output_type": "stream",
     "text": [
      "100%|██████████████████████████████████████████████████████████████████████████████████| 80/80 [00:02<00:00, 31.54it/s]\n"
     ]
    },
    {
     "name": "stdout",
     "output_type": "stream",
     "text": [
      "Best params:  {'C': 1, 'epsilon': 0.01, 'gamma': 1, 'kernel': 'rbf'}\n",
      "Best rmse:  0.09443925340759549\n",
      "Training model:  86\n"
     ]
    },
    {
     "name": "stderr",
     "output_type": "stream",
     "text": [
      "100%|██████████████████████████████████████████████████████████████████████████████████| 80/80 [00:02<00:00, 31.93it/s]\n"
     ]
    },
    {
     "name": "stdout",
     "output_type": "stream",
     "text": [
      "Best params:  {'C': 1000, 'epsilon': 0.1, 'gamma': 0.01, 'kernel': 'rbf'}\n",
      "Best rmse:  0.09394680361180736\n",
      "Training model:  87\n"
     ]
    },
    {
     "name": "stderr",
     "output_type": "stream",
     "text": [
      "100%|██████████████████████████████████████████████████████████████████████████████████| 80/80 [00:02<00:00, 31.97it/s]\n"
     ]
    },
    {
     "name": "stdout",
     "output_type": "stream",
     "text": [
      "Best params:  {'C': 1000, 'epsilon': 0.01, 'gamma': 0.01, 'kernel': 'rbf'}\n",
      "Best rmse:  0.09257347475032658\n",
      "Training model:  88\n"
     ]
    },
    {
     "name": "stderr",
     "output_type": "stream",
     "text": [
      "100%|██████████████████████████████████████████████████████████████████████████████████| 80/80 [00:02<00:00, 31.74it/s]\n"
     ]
    },
    {
     "name": "stdout",
     "output_type": "stream",
     "text": [
      "Best params:  {'C': 1, 'epsilon': 0.01, 'gamma': 1, 'kernel': 'rbf'}\n",
      "Best rmse:  0.0972645323061795\n",
      "Training model:  89\n"
     ]
    },
    {
     "name": "stderr",
     "output_type": "stream",
     "text": [
      "100%|██████████████████████████████████████████████████████████████████████████████████| 80/80 [00:02<00:00, 31.75it/s]\n"
     ]
    },
    {
     "name": "stdout",
     "output_type": "stream",
     "text": [
      "Best params:  {'C': 1000, 'epsilon': 0.001, 'gamma': 0.01, 'kernel': 'rbf'}\n",
      "Best rmse:  0.09656330997025522\n",
      "Training model:  90\n"
     ]
    },
    {
     "name": "stderr",
     "output_type": "stream",
     "text": [
      "100%|██████████████████████████████████████████████████████████████████████████████████| 80/80 [00:02<00:00, 31.78it/s]\n"
     ]
    },
    {
     "name": "stdout",
     "output_type": "stream",
     "text": [
      "Best params:  {'C': 1, 'epsilon': 0.1, 'gamma': 1, 'kernel': 'rbf'}\n",
      "Best rmse:  0.09466487921104809\n",
      "Training model:  91\n"
     ]
    },
    {
     "name": "stderr",
     "output_type": "stream",
     "text": [
      "100%|██████████████████████████████████████████████████████████████████████████████████| 80/80 [00:02<00:00, 31.88it/s]\n"
     ]
    },
    {
     "name": "stdout",
     "output_type": "stream",
     "text": [
      "Best params:  {'C': 1, 'epsilon': 1e-05, 'gamma': 1, 'kernel': 'rbf'}\n",
      "Best rmse:  0.09293660672871672\n",
      "Training model:  92\n"
     ]
    },
    {
     "name": "stderr",
     "output_type": "stream",
     "text": [
      "100%|██████████████████████████████████████████████████████████████████████████████████| 80/80 [00:02<00:00, 31.78it/s]\n"
     ]
    },
    {
     "name": "stdout",
     "output_type": "stream",
     "text": [
      "Best params:  {'C': 1, 'epsilon': 0.1, 'gamma': 1, 'kernel': 'rbf'}\n",
      "Best rmse:  0.0922386717290171\n",
      "Training model:  93\n"
     ]
    },
    {
     "name": "stderr",
     "output_type": "stream",
     "text": [
      "100%|██████████████████████████████████████████████████████████████████████████████████| 80/80 [00:02<00:00, 31.97it/s]\n"
     ]
    },
    {
     "name": "stdout",
     "output_type": "stream",
     "text": [
      "Best params:  {'C': 10, 'epsilon': 0.01, 'gamma': 0.1, 'kernel': 'rbf'}\n",
      "Best rmse:  0.08963734546066245\n",
      "Training model:  94\n"
     ]
    },
    {
     "name": "stderr",
     "output_type": "stream",
     "text": [
      "100%|██████████████████████████████████████████████████████████████████████████████████| 80/80 [00:02<00:00, 32.03it/s]\n"
     ]
    },
    {
     "name": "stdout",
     "output_type": "stream",
     "text": [
      "Best params:  {'C': 1, 'epsilon': 1e-05, 'gamma': 0.001, 'kernel': 'rbf'}\n",
      "Best rmse:  0.09425105060922229\n",
      "Training model:  95\n"
     ]
    },
    {
     "name": "stderr",
     "output_type": "stream",
     "text": [
      "100%|██████████████████████████████████████████████████████████████████████████████████| 80/80 [00:02<00:00, 31.74it/s]\n"
     ]
    },
    {
     "name": "stdout",
     "output_type": "stream",
     "text": [
      "Best params:  {'C': 1, 'epsilon': 0.1, 'gamma': 1, 'kernel': 'rbf'}\n",
      "Best rmse:  0.09243248501632122\n",
      "Training model:  96\n"
     ]
    },
    {
     "name": "stderr",
     "output_type": "stream",
     "text": [
      "100%|██████████████████████████████████████████████████████████████████████████████████| 80/80 [00:02<00:00, 31.90it/s]\n"
     ]
    },
    {
     "name": "stdout",
     "output_type": "stream",
     "text": [
      "Best params:  {'C': 1, 'epsilon': 0.01, 'gamma': 1, 'kernel': 'rbf'}\n",
      "Best rmse:  0.08992119859148252\n",
      "Training model:  97\n"
     ]
    },
    {
     "name": "stderr",
     "output_type": "stream",
     "text": [
      "100%|██████████████████████████████████████████████████████████████████████████████████| 80/80 [00:02<00:00, 32.16it/s]\n"
     ]
    },
    {
     "name": "stdout",
     "output_type": "stream",
     "text": [
      "Best params:  {'C': 1, 'epsilon': 0.01, 'gamma': 1, 'kernel': 'rbf'}\n",
      "Best rmse:  0.09233740280164886\n",
      "Training model:  98\n"
     ]
    },
    {
     "name": "stderr",
     "output_type": "stream",
     "text": [
      "100%|██████████████████████████████████████████████████████████████████████████████████| 80/80 [00:02<00:00, 31.59it/s]\n"
     ]
    },
    {
     "name": "stdout",
     "output_type": "stream",
     "text": [
      "Best params:  {'C': 10, 'epsilon': 0.01, 'gamma': 1, 'kernel': 'rbf'}\n",
      "Best rmse:  0.08851524926043781\n",
      "Training model:  99\n"
     ]
    },
    {
     "name": "stderr",
     "output_type": "stream",
     "text": [
      "100%|██████████████████████████████████████████████████████████████████████████████████| 80/80 [00:02<00:00, 32.04it/s]\n"
     ]
    },
    {
     "name": "stdout",
     "output_type": "stream",
     "text": [
      "Best params:  {'C': 1000, 'epsilon': 0.0001, 'gamma': 0.01, 'kernel': 'rbf'}\n",
      "Best rmse:  0.09715087391457404\n"
     ]
    },
    {
     "name": "stderr",
     "output_type": "stream",
     "text": [
      "100%|████████████████████████████████████████████████████████████████████████████████| 800/800 [13:29<00:00,  1.01s/it]\n"
     ]
    },
    {
     "name": "stdout",
     "output_type": "stream",
     "text": [
      "Best params:  {'comb': 'average', 'k': 9, 'n': 6}\n",
      "Best rmse:  525.0132588183648\n",
      "MSE: 0.0001243696791692392\n",
      "MAPE: 15.288633317803821\n",
      "ARV: 0.0348683094306005\n",
      "MAE: 0.0087088565855868\n",
      "RMSE: 0.011152115457133646\n",
      "NRMSE: 0.04495600827533422\n",
      "SMAPE: 13.069054892100098\n",
      "Time Series:  APPLE\n",
      "\n",
      "###############################################\n",
      "\n",
      "Executing: ENSEMBLE SVR\n",
      "d:  1\n",
      "Training model:  0\n"
     ]
    },
    {
     "name": "stderr",
     "output_type": "stream",
     "text": [
      "100%|██████████████████████████████████████████████████████████████████████████████████| 80/80 [00:02<00:00, 31.43it/s]\n"
     ]
    },
    {
     "name": "stdout",
     "output_type": "stream",
     "text": [
      "Best params:  {'C': 1, 'epsilon': 0.001, 'gamma': 1, 'kernel': 'rbf'}\n",
      "Best rmse:  0.0658089441469476\n",
      "Training model:  1\n"
     ]
    },
    {
     "name": "stderr",
     "output_type": "stream",
     "text": [
      "100%|██████████████████████████████████████████████████████████████████████████████████| 80/80 [00:02<00:00, 32.08it/s]\n"
     ]
    },
    {
     "name": "stdout",
     "output_type": "stream",
     "text": [
      "Best params:  {'C': 100, 'epsilon': 0.001, 'gamma': 0.1, 'kernel': 'rbf'}\n",
      "Best rmse:  0.069220951764057\n",
      "Training model:  2\n"
     ]
    },
    {
     "name": "stderr",
     "output_type": "stream",
     "text": [
      "100%|██████████████████████████████████████████████████████████████████████████████████| 80/80 [00:02<00:00, 32.17it/s]\n"
     ]
    },
    {
     "name": "stdout",
     "output_type": "stream",
     "text": [
      "Best params:  {'C': 1, 'epsilon': 0.01, 'gamma': 1, 'kernel': 'rbf'}\n",
      "Best rmse:  0.06208280164693858\n",
      "Training model:  3\n"
     ]
    },
    {
     "name": "stderr",
     "output_type": "stream",
     "text": [
      "100%|██████████████████████████████████████████████████████████████████████████████████| 80/80 [00:02<00:00, 31.83it/s]\n"
     ]
    },
    {
     "name": "stdout",
     "output_type": "stream",
     "text": [
      "Best params:  {'C': 1, 'epsilon': 0.01, 'gamma': 1, 'kernel': 'rbf'}\n",
      "Best rmse:  0.0625589681054291\n",
      "Training model:  4\n"
     ]
    },
    {
     "name": "stderr",
     "output_type": "stream",
     "text": [
      "100%|██████████████████████████████████████████████████████████████████████████████████| 80/80 [00:02<00:00, 32.19it/s]\n"
     ]
    },
    {
     "name": "stdout",
     "output_type": "stream",
     "text": [
      "Best params:  {'C': 1, 'epsilon': 0.1, 'gamma': 0.001, 'kernel': 'rbf'}\n",
      "Best rmse:  0.06708725953442982\n",
      "Training model:  5\n"
     ]
    },
    {
     "name": "stderr",
     "output_type": "stream",
     "text": [
      "100%|██████████████████████████████████████████████████████████████████████████████████| 80/80 [00:02<00:00, 32.04it/s]\n"
     ]
    },
    {
     "name": "stdout",
     "output_type": "stream",
     "text": [
      "Best params:  {'C': 1, 'epsilon': 1e-05, 'gamma': 1, 'kernel': 'rbf'}\n",
      "Best rmse:  0.06234248080859381\n",
      "Training model:  6\n"
     ]
    },
    {
     "name": "stderr",
     "output_type": "stream",
     "text": [
      "100%|██████████████████████████████████████████████████████████████████████████████████| 80/80 [00:02<00:00, 31.73it/s]\n"
     ]
    },
    {
     "name": "stdout",
     "output_type": "stream",
     "text": [
      "Best params:  {'C': 1, 'epsilon': 0.01, 'gamma': 1, 'kernel': 'rbf'}\n",
      "Best rmse:  0.06351053668929361\n",
      "Training model:  7\n"
     ]
    },
    {
     "name": "stderr",
     "output_type": "stream",
     "text": [
      "100%|██████████████████████████████████████████████████████████████████████████████████| 80/80 [00:02<00:00, 32.15it/s]\n"
     ]
    },
    {
     "name": "stdout",
     "output_type": "stream",
     "text": [
      "Best params:  {'C': 1, 'epsilon': 0.01, 'gamma': 1, 'kernel': 'rbf'}\n",
      "Best rmse:  0.06656038782902597\n",
      "Training model:  8\n"
     ]
    },
    {
     "name": "stderr",
     "output_type": "stream",
     "text": [
      "100%|██████████████████████████████████████████████████████████████████████████████████| 80/80 [00:02<00:00, 31.93it/s]\n"
     ]
    },
    {
     "name": "stdout",
     "output_type": "stream",
     "text": [
      "Best params:  {'C': 100, 'epsilon': 0.1, 'gamma': 0.1, 'kernel': 'rbf'}\n",
      "Best rmse:  0.06712193104332494\n",
      "Training model:  9\n"
     ]
    },
    {
     "name": "stderr",
     "output_type": "stream",
     "text": [
      "100%|██████████████████████████████████████████████████████████████████████████████████| 80/80 [00:02<00:00, 32.04it/s]\n"
     ]
    },
    {
     "name": "stdout",
     "output_type": "stream",
     "text": [
      "Best params:  {'C': 10, 'epsilon': 0.01, 'gamma': 1, 'kernel': 'rbf'}\n",
      "Best rmse:  0.061625536862369545\n",
      "Training model:  10\n"
     ]
    },
    {
     "name": "stderr",
     "output_type": "stream",
     "text": [
      "100%|██████████████████████████████████████████████████████████████████████████████████| 80/80 [00:02<00:00, 31.95it/s]\n"
     ]
    },
    {
     "name": "stdout",
     "output_type": "stream",
     "text": [
      "Best params:  {'C': 1, 'epsilon': 0.01, 'gamma': 1, 'kernel': 'rbf'}\n",
      "Best rmse:  0.062210470070529676\n",
      "Training model:  11\n"
     ]
    },
    {
     "name": "stderr",
     "output_type": "stream",
     "text": [
      "100%|██████████████████████████████████████████████████████████████████████████████████| 80/80 [00:02<00:00, 31.78it/s]\n"
     ]
    },
    {
     "name": "stdout",
     "output_type": "stream",
     "text": [
      "Best params:  {'C': 1, 'epsilon': 0.01, 'gamma': 1, 'kernel': 'rbf'}\n",
      "Best rmse:  0.06581809736805752\n",
      "Training model:  12\n"
     ]
    },
    {
     "name": "stderr",
     "output_type": "stream",
     "text": [
      "100%|██████████████████████████████████████████████████████████████████████████████████| 80/80 [00:02<00:00, 32.22it/s]\n"
     ]
    },
    {
     "name": "stdout",
     "output_type": "stream",
     "text": [
      "Best params:  {'C': 1, 'epsilon': 0.01, 'gamma': 1, 'kernel': 'rbf'}\n",
      "Best rmse:  0.06189549350496306\n",
      "Training model:  13\n"
     ]
    },
    {
     "name": "stderr",
     "output_type": "stream",
     "text": [
      "100%|██████████████████████████████████████████████████████████████████████████████████| 80/80 [00:02<00:00, 31.84it/s]\n"
     ]
    },
    {
     "name": "stdout",
     "output_type": "stream",
     "text": [
      "Best params:  {'C': 100, 'epsilon': 0.1, 'gamma': 0.1, 'kernel': 'rbf'}\n",
      "Best rmse:  0.06298507175782479\n",
      "Training model:  14\n"
     ]
    },
    {
     "name": "stderr",
     "output_type": "stream",
     "text": [
      "100%|██████████████████████████████████████████████████████████████████████████████████| 80/80 [00:02<00:00, 31.89it/s]\n"
     ]
    },
    {
     "name": "stdout",
     "output_type": "stream",
     "text": [
      "Best params:  {'C': 1, 'epsilon': 0.01, 'gamma': 1, 'kernel': 'rbf'}\n",
      "Best rmse:  0.0700813588282991\n",
      "Training model:  15\n"
     ]
    },
    {
     "name": "stderr",
     "output_type": "stream",
     "text": [
      "100%|██████████████████████████████████████████████████████████████████████████████████| 80/80 [00:02<00:00, 31.80it/s]\n"
     ]
    },
    {
     "name": "stdout",
     "output_type": "stream",
     "text": [
      "Best params:  {'C': 1, 'epsilon': 0.01, 'gamma': 1, 'kernel': 'rbf'}\n",
      "Best rmse:  0.06056472689479226\n",
      "Training model:  16\n"
     ]
    },
    {
     "name": "stderr",
     "output_type": "stream",
     "text": [
      "100%|██████████████████████████████████████████████████████████████████████████████████| 80/80 [00:02<00:00, 32.04it/s]\n"
     ]
    },
    {
     "name": "stdout",
     "output_type": "stream",
     "text": [
      "Best params:  {'C': 1, 'epsilon': 0.01, 'gamma': 1, 'kernel': 'rbf'}\n",
      "Best rmse:  0.06576085582301325\n",
      "Training model:  17\n"
     ]
    },
    {
     "name": "stderr",
     "output_type": "stream",
     "text": [
      "100%|██████████████████████████████████████████████████████████████████████████████████| 80/80 [00:02<00:00, 32.06it/s]\n"
     ]
    },
    {
     "name": "stdout",
     "output_type": "stream",
     "text": [
      "Best params:  {'C': 1, 'epsilon': 0.01, 'gamma': 1, 'kernel': 'rbf'}\n",
      "Best rmse:  0.06391778609064686\n",
      "Training model:  18\n"
     ]
    },
    {
     "name": "stderr",
     "output_type": "stream",
     "text": [
      "100%|██████████████████████████████████████████████████████████████████████████████████| 80/80 [00:02<00:00, 31.93it/s]\n"
     ]
    },
    {
     "name": "stdout",
     "output_type": "stream",
     "text": [
      "Best params:  {'C': 1, 'epsilon': 0.01, 'gamma': 1, 'kernel': 'rbf'}\n",
      "Best rmse:  0.06533829727289929\n",
      "Training model:  19\n"
     ]
    },
    {
     "name": "stderr",
     "output_type": "stream",
     "text": [
      "100%|██████████████████████████████████████████████████████████████████████████████████| 80/80 [00:02<00:00, 32.17it/s]\n"
     ]
    },
    {
     "name": "stdout",
     "output_type": "stream",
     "text": [
      "Best params:  {'C': 1, 'epsilon': 0.01, 'gamma': 1, 'kernel': 'rbf'}\n",
      "Best rmse:  0.0639216849179817\n",
      "Training model:  20\n"
     ]
    },
    {
     "name": "stderr",
     "output_type": "stream",
     "text": [
      "100%|██████████████████████████████████████████████████████████████████████████████████| 80/80 [00:02<00:00, 31.99it/s]\n"
     ]
    },
    {
     "name": "stdout",
     "output_type": "stream",
     "text": [
      "Best params:  {'C': 1, 'epsilon': 0.01, 'gamma': 1, 'kernel': 'rbf'}\n",
      "Best rmse:  0.0664547547110695\n",
      "Training model:  21\n"
     ]
    },
    {
     "name": "stderr",
     "output_type": "stream",
     "text": [
      "100%|██████████████████████████████████████████████████████████████████████████████████| 80/80 [00:02<00:00, 31.93it/s]\n"
     ]
    },
    {
     "name": "stdout",
     "output_type": "stream",
     "text": [
      "Best params:  {'C': 1, 'epsilon': 0.01, 'gamma': 1, 'kernel': 'rbf'}\n",
      "Best rmse:  0.06542185805653515\n",
      "Training model:  22\n"
     ]
    },
    {
     "name": "stderr",
     "output_type": "stream",
     "text": [
      "100%|██████████████████████████████████████████████████████████████████████████████████| 80/80 [00:02<00:00, 31.98it/s]\n"
     ]
    },
    {
     "name": "stdout",
     "output_type": "stream",
     "text": [
      "Best params:  {'C': 1, 'epsilon': 0.01, 'gamma': 1, 'kernel': 'rbf'}\n",
      "Best rmse:  0.0588967826474927\n",
      "Training model:  23\n"
     ]
    },
    {
     "name": "stderr",
     "output_type": "stream",
     "text": [
      "100%|██████████████████████████████████████████████████████████████████████████████████| 80/80 [00:02<00:00, 31.74it/s]\n"
     ]
    },
    {
     "name": "stdout",
     "output_type": "stream",
     "text": [
      "Best params:  {'C': 10, 'epsilon': 0.1, 'gamma': 1, 'kernel': 'rbf'}\n",
      "Best rmse:  0.0649299057766281\n",
      "Training model:  24\n"
     ]
    },
    {
     "name": "stderr",
     "output_type": "stream",
     "text": [
      "100%|██████████████████████████████████████████████████████████████████████████████████| 80/80 [00:02<00:00, 31.83it/s]\n"
     ]
    },
    {
     "name": "stdout",
     "output_type": "stream",
     "text": [
      "Best params:  {'C': 10, 'epsilon': 1e-05, 'gamma': 0.1, 'kernel': 'rbf'}\n",
      "Best rmse:  0.061297762445906324\n",
      "Training model:  25\n"
     ]
    },
    {
     "name": "stderr",
     "output_type": "stream",
     "text": [
      "100%|██████████████████████████████████████████████████████████████████████████████████| 80/80 [00:02<00:00, 32.01it/s]\n"
     ]
    },
    {
     "name": "stdout",
     "output_type": "stream",
     "text": [
      "Best params:  {'C': 1, 'epsilon': 0.01, 'gamma': 1, 'kernel': 'rbf'}\n",
      "Best rmse:  0.06623810009922872\n",
      "Training model:  26\n"
     ]
    },
    {
     "name": "stderr",
     "output_type": "stream",
     "text": [
      "100%|██████████████████████████████████████████████████████████████████████████████████| 80/80 [00:02<00:00, 32.11it/s]\n"
     ]
    },
    {
     "name": "stdout",
     "output_type": "stream",
     "text": [
      "Best params:  {'C': 100, 'epsilon': 0.1, 'gamma': 0.1, 'kernel': 'rbf'}\n",
      "Best rmse:  0.06661406629400124\n",
      "Training model:  27\n"
     ]
    },
    {
     "name": "stderr",
     "output_type": "stream",
     "text": [
      "100%|██████████████████████████████████████████████████████████████████████████████████| 80/80 [00:02<00:00, 32.06it/s]\n"
     ]
    },
    {
     "name": "stdout",
     "output_type": "stream",
     "text": [
      "Best params:  {'C': 1, 'epsilon': 0.001, 'gamma': 1, 'kernel': 'rbf'}\n",
      "Best rmse:  0.06570836526375998\n",
      "Training model:  28\n"
     ]
    },
    {
     "name": "stderr",
     "output_type": "stream",
     "text": [
      "100%|██████████████████████████████████████████████████████████████████████████████████| 80/80 [00:02<00:00, 32.24it/s]\n"
     ]
    },
    {
     "name": "stdout",
     "output_type": "stream",
     "text": [
      "Best params:  {'C': 1, 'epsilon': 0.1, 'gamma': 1, 'kernel': 'rbf'}\n",
      "Best rmse:  0.06367956889316444\n",
      "Training model:  29\n"
     ]
    },
    {
     "name": "stderr",
     "output_type": "stream",
     "text": [
      "100%|██████████████████████████████████████████████████████████████████████████████████| 80/80 [00:02<00:00, 31.94it/s]\n"
     ]
    },
    {
     "name": "stdout",
     "output_type": "stream",
     "text": [
      "Best params:  {'C': 1, 'epsilon': 0.01, 'gamma': 0.1, 'kernel': 'rbf'}\n",
      "Best rmse:  0.0617018346339245\n",
      "Training model:  30\n"
     ]
    },
    {
     "name": "stderr",
     "output_type": "stream",
     "text": [
      "100%|██████████████████████████████████████████████████████████████████████████████████| 80/80 [00:02<00:00, 32.20it/s]\n"
     ]
    },
    {
     "name": "stdout",
     "output_type": "stream",
     "text": [
      "Best params:  {'C': 1, 'epsilon': 0.01, 'gamma': 1, 'kernel': 'rbf'}\n",
      "Best rmse:  0.06471649451425478\n",
      "Training model:  31\n"
     ]
    },
    {
     "name": "stderr",
     "output_type": "stream",
     "text": [
      "100%|██████████████████████████████████████████████████████████████████████████████████| 80/80 [00:02<00:00, 31.71it/s]\n"
     ]
    },
    {
     "name": "stdout",
     "output_type": "stream",
     "text": [
      "Best params:  {'C': 10, 'epsilon': 0.01, 'gamma': 0.1, 'kernel': 'rbf'}\n",
      "Best rmse:  0.062722547846694\n",
      "Training model:  32\n"
     ]
    },
    {
     "name": "stderr",
     "output_type": "stream",
     "text": [
      "100%|██████████████████████████████████████████████████████████████████████████████████| 80/80 [00:02<00:00, 32.16it/s]\n"
     ]
    },
    {
     "name": "stdout",
     "output_type": "stream",
     "text": [
      "Best params:  {'C': 1, 'epsilon': 0.1, 'gamma': 1, 'kernel': 'rbf'}\n",
      "Best rmse:  0.06419369583028234\n",
      "Training model:  33\n"
     ]
    },
    {
     "name": "stderr",
     "output_type": "stream",
     "text": [
      "100%|██████████████████████████████████████████████████████████████████████████████████| 80/80 [00:02<00:00, 32.08it/s]\n"
     ]
    },
    {
     "name": "stdout",
     "output_type": "stream",
     "text": [
      "Best params:  {'C': 1, 'epsilon': 0.1, 'gamma': 1, 'kernel': 'rbf'}\n",
      "Best rmse:  0.06350164193248914\n",
      "Training model:  34\n"
     ]
    },
    {
     "name": "stderr",
     "output_type": "stream",
     "text": [
      "100%|██████████████████████████████████████████████████████████████████████████████████| 80/80 [00:02<00:00, 31.78it/s]\n"
     ]
    },
    {
     "name": "stdout",
     "output_type": "stream",
     "text": [
      "Best params:  {'C': 10, 'epsilon': 0.01, 'gamma': 1, 'kernel': 'rbf'}\n",
      "Best rmse:  0.0636715647795962\n",
      "Training model:  35\n"
     ]
    },
    {
     "name": "stderr",
     "output_type": "stream",
     "text": [
      "100%|██████████████████████████████████████████████████████████████████████████████████| 80/80 [00:02<00:00, 31.93it/s]\n"
     ]
    },
    {
     "name": "stdout",
     "output_type": "stream",
     "text": [
      "Best params:  {'C': 1, 'epsilon': 0.01, 'gamma': 1, 'kernel': 'rbf'}\n",
      "Best rmse:  0.06658717630432656\n",
      "Training model:  36\n"
     ]
    },
    {
     "name": "stderr",
     "output_type": "stream",
     "text": [
      "100%|██████████████████████████████████████████████████████████████████████████████████| 80/80 [00:02<00:00, 31.75it/s]\n"
     ]
    },
    {
     "name": "stdout",
     "output_type": "stream",
     "text": [
      "Best params:  {'C': 10, 'epsilon': 0.01, 'gamma': 1, 'kernel': 'rbf'}\n",
      "Best rmse:  0.057554329506069805\n",
      "Training model:  37\n"
     ]
    },
    {
     "name": "stderr",
     "output_type": "stream",
     "text": [
      "100%|██████████████████████████████████████████████████████████████████████████████████| 80/80 [00:02<00:00, 31.69it/s]\n"
     ]
    },
    {
     "name": "stdout",
     "output_type": "stream",
     "text": [
      "Best params:  {'C': 1, 'epsilon': 0.01, 'gamma': 1, 'kernel': 'rbf'}\n",
      "Best rmse:  0.0588060973064149\n",
      "Training model:  38\n"
     ]
    },
    {
     "name": "stderr",
     "output_type": "stream",
     "text": [
      "100%|██████████████████████████████████████████████████████████████████████████████████| 80/80 [00:02<00:00, 31.98it/s]\n"
     ]
    },
    {
     "name": "stdout",
     "output_type": "stream",
     "text": [
      "Best params:  {'C': 10, 'epsilon': 0.01, 'gamma': 1, 'kernel': 'rbf'}\n",
      "Best rmse:  0.06607825995312964\n",
      "Training model:  39\n"
     ]
    },
    {
     "name": "stderr",
     "output_type": "stream",
     "text": [
      "100%|██████████████████████████████████████████████████████████████████████████████████| 80/80 [00:02<00:00, 31.97it/s]\n"
     ]
    },
    {
     "name": "stdout",
     "output_type": "stream",
     "text": [
      "Best params:  {'C': 1, 'epsilon': 0.01, 'gamma': 1, 'kernel': 'rbf'}\n",
      "Best rmse:  0.06622966169099062\n",
      "Training model:  40\n"
     ]
    },
    {
     "name": "stderr",
     "output_type": "stream",
     "text": [
      "100%|██████████████████████████████████████████████████████████████████████████████████| 80/80 [00:02<00:00, 31.50it/s]\n"
     ]
    },
    {
     "name": "stdout",
     "output_type": "stream",
     "text": [
      "Best params:  {'C': 1000, 'epsilon': 0.001, 'gamma': 0.01, 'kernel': 'rbf'}\n",
      "Best rmse:  0.06870045461946836\n",
      "Training model:  41\n"
     ]
    },
    {
     "name": "stderr",
     "output_type": "stream",
     "text": [
      "100%|██████████████████████████████████████████████████████████████████████████████████| 80/80 [00:02<00:00, 32.10it/s]\n"
     ]
    },
    {
     "name": "stdout",
     "output_type": "stream",
     "text": [
      "Best params:  {'C': 10, 'epsilon': 0.01, 'gamma': 1, 'kernel': 'rbf'}\n",
      "Best rmse:  0.06085109155058078\n",
      "Training model:  42\n"
     ]
    },
    {
     "name": "stderr",
     "output_type": "stream",
     "text": [
      "100%|██████████████████████████████████████████████████████████████████████████████████| 80/80 [00:02<00:00, 32.10it/s]\n"
     ]
    },
    {
     "name": "stdout",
     "output_type": "stream",
     "text": [
      "Best params:  {'C': 10, 'epsilon': 0.1, 'gamma': 0.001, 'kernel': 'rbf'}\n",
      "Best rmse:  0.06751162712439583\n",
      "Training model:  43\n"
     ]
    },
    {
     "name": "stderr",
     "output_type": "stream",
     "text": [
      "100%|██████████████████████████████████████████████████████████████████████████████████| 80/80 [00:02<00:00, 31.93it/s]\n"
     ]
    },
    {
     "name": "stdout",
     "output_type": "stream",
     "text": [
      "Best params:  {'C': 1, 'epsilon': 0.01, 'gamma': 1, 'kernel': 'rbf'}\n",
      "Best rmse:  0.06160420481851369\n",
      "Training model:  44\n"
     ]
    },
    {
     "name": "stderr",
     "output_type": "stream",
     "text": [
      "100%|██████████████████████████████████████████████████████████████████████████████████| 80/80 [00:02<00:00, 31.92it/s]\n"
     ]
    },
    {
     "name": "stdout",
     "output_type": "stream",
     "text": [
      "Best params:  {'C': 10, 'epsilon': 0.1, 'gamma': 0.001, 'kernel': 'rbf'}\n",
      "Best rmse:  0.06318828108444009\n",
      "Training model:  45\n"
     ]
    },
    {
     "name": "stderr",
     "output_type": "stream",
     "text": [
      "100%|██████████████████████████████████████████████████████████████████████████████████| 80/80 [00:02<00:00, 32.04it/s]\n"
     ]
    },
    {
     "name": "stdout",
     "output_type": "stream",
     "text": [
      "Best params:  {'C': 1000, 'epsilon': 0.001, 'gamma': 0.01, 'kernel': 'rbf'}\n",
      "Best rmse:  0.07136164805677345\n",
      "Training model:  46\n"
     ]
    },
    {
     "name": "stderr",
     "output_type": "stream",
     "text": [
      "100%|██████████████████████████████████████████████████████████████████████████████████| 80/80 [00:02<00:00, 32.01it/s]\n"
     ]
    },
    {
     "name": "stdout",
     "output_type": "stream",
     "text": [
      "Best params:  {'C': 1, 'epsilon': 0.01, 'gamma': 1, 'kernel': 'rbf'}\n",
      "Best rmse:  0.06181354755358614\n",
      "Training model:  47\n"
     ]
    },
    {
     "name": "stderr",
     "output_type": "stream",
     "text": [
      "100%|██████████████████████████████████████████████████████████████████████████████████| 80/80 [00:02<00:00, 32.07it/s]\n"
     ]
    },
    {
     "name": "stdout",
     "output_type": "stream",
     "text": [
      "Best params:  {'C': 1, 'epsilon': 0.01, 'gamma': 1, 'kernel': 'rbf'}\n",
      "Best rmse:  0.06979140409395458\n",
      "Training model:  48\n"
     ]
    },
    {
     "name": "stderr",
     "output_type": "stream",
     "text": [
      "100%|██████████████████████████████████████████████████████████████████████████████████| 80/80 [00:02<00:00, 32.12it/s]\n"
     ]
    },
    {
     "name": "stdout",
     "output_type": "stream",
     "text": [
      "Best params:  {'C': 10, 'epsilon': 0.01, 'gamma': 0.1, 'kernel': 'rbf'}\n",
      "Best rmse:  0.06707106133771494\n",
      "Training model:  49\n"
     ]
    },
    {
     "name": "stderr",
     "output_type": "stream",
     "text": [
      "100%|██████████████████████████████████████████████████████████████████████████████████| 80/80 [00:02<00:00, 32.28it/s]\n"
     ]
    },
    {
     "name": "stdout",
     "output_type": "stream",
     "text": [
      "Best params:  {'C': 1, 'epsilon': 0.01, 'gamma': 1, 'kernel': 'rbf'}\n",
      "Best rmse:  0.06446285971933548\n",
      "Training model:  50\n"
     ]
    },
    {
     "name": "stderr",
     "output_type": "stream",
     "text": [
      "100%|██████████████████████████████████████████████████████████████████████████████████| 80/80 [00:02<00:00, 32.04it/s]\n"
     ]
    },
    {
     "name": "stdout",
     "output_type": "stream",
     "text": [
      "Best params:  {'C': 1, 'epsilon': 0.01, 'gamma': 1, 'kernel': 'rbf'}\n",
      "Best rmse:  0.06381890904572651\n",
      "Training model:  51\n"
     ]
    },
    {
     "name": "stderr",
     "output_type": "stream",
     "text": [
      "100%|██████████████████████████████████████████████████████████████████████████████████| 80/80 [00:02<00:00, 32.02it/s]\n"
     ]
    },
    {
     "name": "stdout",
     "output_type": "stream",
     "text": [
      "Best params:  {'C': 1, 'epsilon': 0.001, 'gamma': 0.01, 'kernel': 'rbf'}\n",
      "Best rmse:  0.06465634711084121\n",
      "Training model:  52\n"
     ]
    },
    {
     "name": "stderr",
     "output_type": "stream",
     "text": [
      "100%|██████████████████████████████████████████████████████████████████████████████████| 80/80 [00:02<00:00, 31.60it/s]\n"
     ]
    },
    {
     "name": "stdout",
     "output_type": "stream",
     "text": [
      "Best params:  {'C': 1, 'epsilon': 0.01, 'gamma': 1, 'kernel': 'rbf'}\n",
      "Best rmse:  0.06700670457571167\n",
      "Training model:  53\n"
     ]
    },
    {
     "name": "stderr",
     "output_type": "stream",
     "text": [
      "100%|██████████████████████████████████████████████████████████████████████████████████| 80/80 [00:02<00:00, 31.07it/s]\n"
     ]
    },
    {
     "name": "stdout",
     "output_type": "stream",
     "text": [
      "Best params:  {'C': 1, 'epsilon': 0.01, 'gamma': 1, 'kernel': 'rbf'}\n",
      "Best rmse:  0.06344979607217154\n",
      "Training model:  54\n"
     ]
    },
    {
     "name": "stderr",
     "output_type": "stream",
     "text": [
      "100%|██████████████████████████████████████████████████████████████████████████████████| 80/80 [00:02<00:00, 31.94it/s]\n"
     ]
    },
    {
     "name": "stdout",
     "output_type": "stream",
     "text": [
      "Best params:  {'C': 1, 'epsilon': 0.01, 'gamma': 1, 'kernel': 'rbf'}\n",
      "Best rmse:  0.06439361495699333\n",
      "Training model:  55\n"
     ]
    },
    {
     "name": "stderr",
     "output_type": "stream",
     "text": [
      "100%|██████████████████████████████████████████████████████████████████████████████████| 80/80 [00:02<00:00, 31.89it/s]\n"
     ]
    },
    {
     "name": "stdout",
     "output_type": "stream",
     "text": [
      "Best params:  {'C': 1, 'epsilon': 0.01, 'gamma': 1, 'kernel': 'rbf'}\n",
      "Best rmse:  0.06278288600990097\n",
      "Training model:  56\n"
     ]
    },
    {
     "name": "stderr",
     "output_type": "stream",
     "text": [
      "100%|██████████████████████████████████████████████████████████████████████████████████| 80/80 [00:02<00:00, 32.20it/s]\n"
     ]
    },
    {
     "name": "stdout",
     "output_type": "stream",
     "text": [
      "Best params:  {'C': 1, 'epsilon': 0.01, 'gamma': 1, 'kernel': 'rbf'}\n",
      "Best rmse:  0.06852306980415561\n",
      "Training model:  57\n"
     ]
    },
    {
     "name": "stderr",
     "output_type": "stream",
     "text": [
      "100%|██████████████████████████████████████████████████████████████████████████████████| 80/80 [00:02<00:00, 31.93it/s]\n"
     ]
    },
    {
     "name": "stdout",
     "output_type": "stream",
     "text": [
      "Best params:  {'C': 1, 'epsilon': 0.01, 'gamma': 1, 'kernel': 'rbf'}\n",
      "Best rmse:  0.06094137285018806\n",
      "Training model:  58\n"
     ]
    },
    {
     "name": "stderr",
     "output_type": "stream",
     "text": [
      "100%|██████████████████████████████████████████████████████████████████████████████████| 80/80 [00:02<00:00, 32.10it/s]\n"
     ]
    },
    {
     "name": "stdout",
     "output_type": "stream",
     "text": [
      "Best params:  {'C': 1000, 'epsilon': 0.01, 'gamma': 0.01, 'kernel': 'rbf'}\n",
      "Best rmse:  0.06527110593198575\n",
      "Training model:  59\n"
     ]
    },
    {
     "name": "stderr",
     "output_type": "stream",
     "text": [
      "100%|██████████████████████████████████████████████████████████████████████████████████| 80/80 [00:02<00:00, 32.15it/s]\n"
     ]
    },
    {
     "name": "stdout",
     "output_type": "stream",
     "text": [
      "Best params:  {'C': 1, 'epsilon': 0.1, 'gamma': 1, 'kernel': 'rbf'}\n",
      "Best rmse:  0.06390936888132878\n",
      "Training model:  60\n"
     ]
    },
    {
     "name": "stderr",
     "output_type": "stream",
     "text": [
      "100%|██████████████████████████████████████████████████████████████████████████████████| 80/80 [00:02<00:00, 31.90it/s]\n"
     ]
    },
    {
     "name": "stdout",
     "output_type": "stream",
     "text": [
      "Best params:  {'C': 10, 'epsilon': 0.01, 'gamma': 1, 'kernel': 'rbf'}\n",
      "Best rmse:  0.06026891076032582\n",
      "Training model:  61\n"
     ]
    },
    {
     "name": "stderr",
     "output_type": "stream",
     "text": [
      "100%|██████████████████████████████████████████████████████████████████████████████████| 80/80 [00:02<00:00, 32.15it/s]\n"
     ]
    },
    {
     "name": "stdout",
     "output_type": "stream",
     "text": [
      "Best params:  {'C': 10, 'epsilon': 1e-05, 'gamma': 0.1, 'kernel': 'rbf'}\n",
      "Best rmse:  0.06659314537308988\n",
      "Training model:  62\n"
     ]
    },
    {
     "name": "stderr",
     "output_type": "stream",
     "text": [
      "100%|██████████████████████████████████████████████████████████████████████████████████| 80/80 [00:02<00:00, 31.97it/s]\n"
     ]
    },
    {
     "name": "stdout",
     "output_type": "stream",
     "text": [
      "Best params:  {'C': 1, 'epsilon': 0.01, 'gamma': 1, 'kernel': 'rbf'}\n",
      "Best rmse:  0.0650960472954232\n",
      "Training model:  63\n"
     ]
    },
    {
     "name": "stderr",
     "output_type": "stream",
     "text": [
      "100%|██████████████████████████████████████████████████████████████████████████████████| 80/80 [00:02<00:00, 32.12it/s]\n"
     ]
    },
    {
     "name": "stdout",
     "output_type": "stream",
     "text": [
      "Best params:  {'C': 1, 'epsilon': 0.01, 'gamma': 1, 'kernel': 'rbf'}\n",
      "Best rmse:  0.059656550143014055\n",
      "Training model:  64\n"
     ]
    },
    {
     "name": "stderr",
     "output_type": "stream",
     "text": [
      "100%|██████████████████████████████████████████████████████████████████████████████████| 80/80 [00:02<00:00, 32.26it/s]\n"
     ]
    },
    {
     "name": "stdout",
     "output_type": "stream",
     "text": [
      "Best params:  {'C': 1, 'epsilon': 0.1, 'gamma': 1, 'kernel': 'rbf'}\n",
      "Best rmse:  0.0635807980778729\n",
      "Training model:  65\n"
     ]
    },
    {
     "name": "stderr",
     "output_type": "stream",
     "text": [
      "100%|██████████████████████████████████████████████████████████████████████████████████| 80/80 [00:02<00:00, 31.81it/s]\n"
     ]
    },
    {
     "name": "stdout",
     "output_type": "stream",
     "text": [
      "Best params:  {'C': 10, 'epsilon': 0.001, 'gamma': 0.1, 'kernel': 'rbf'}\n",
      "Best rmse:  0.06514650549246331\n",
      "Training model:  66\n"
     ]
    },
    {
     "name": "stderr",
     "output_type": "stream",
     "text": [
      "100%|██████████████████████████████████████████████████████████████████████████████████| 80/80 [00:02<00:00, 32.13it/s]\n"
     ]
    },
    {
     "name": "stdout",
     "output_type": "stream",
     "text": [
      "Best params:  {'C': 1000, 'epsilon': 0.01, 'gamma': 0.01, 'kernel': 'rbf'}\n",
      "Best rmse:  0.06393045555393975\n",
      "Training model:  67\n"
     ]
    },
    {
     "name": "stderr",
     "output_type": "stream",
     "text": [
      "100%|██████████████████████████████████████████████████████████████████████████████████| 80/80 [00:02<00:00, 32.11it/s]\n"
     ]
    },
    {
     "name": "stdout",
     "output_type": "stream",
     "text": [
      "Best params:  {'C': 10, 'epsilon': 0.0001, 'gamma': 0.001, 'kernel': 'rbf'}\n",
      "Best rmse:  0.0631057750630728\n",
      "Training model:  68\n"
     ]
    },
    {
     "name": "stderr",
     "output_type": "stream",
     "text": [
      "100%|██████████████████████████████████████████████████████████████████████████████████| 80/80 [00:02<00:00, 31.85it/s]\n"
     ]
    },
    {
     "name": "stdout",
     "output_type": "stream",
     "text": [
      "Best params:  {'C': 10, 'epsilon': 0.01, 'gamma': 0.001, 'kernel': 'rbf'}\n",
      "Best rmse:  0.06245957728350299\n",
      "Training model:  69\n"
     ]
    },
    {
     "name": "stderr",
     "output_type": "stream",
     "text": [
      "100%|██████████████████████████████████████████████████████████████████████████████████| 80/80 [00:02<00:00, 31.95it/s]\n"
     ]
    },
    {
     "name": "stdout",
     "output_type": "stream",
     "text": [
      "Best params:  {'C': 1, 'epsilon': 0.01, 'gamma': 1, 'kernel': 'rbf'}\n",
      "Best rmse:  0.06557575577364039\n",
      "Training model:  70\n"
     ]
    },
    {
     "name": "stderr",
     "output_type": "stream",
     "text": [
      "100%|██████████████████████████████████████████████████████████████████████████████████| 80/80 [00:02<00:00, 32.11it/s]\n"
     ]
    },
    {
     "name": "stdout",
     "output_type": "stream",
     "text": [
      "Best params:  {'C': 1000, 'epsilon': 0.01, 'gamma': 0.01, 'kernel': 'rbf'}\n",
      "Best rmse:  0.06554717122960317\n",
      "Training model:  71\n"
     ]
    },
    {
     "name": "stderr",
     "output_type": "stream",
     "text": [
      "100%|██████████████████████████████████████████████████████████████████████████████████| 80/80 [00:02<00:00, 32.11it/s]\n"
     ]
    },
    {
     "name": "stdout",
     "output_type": "stream",
     "text": [
      "Best params:  {'C': 1, 'epsilon': 0.01, 'gamma': 1, 'kernel': 'rbf'}\n",
      "Best rmse:  0.06413171890109959\n",
      "Training model:  72\n"
     ]
    },
    {
     "name": "stderr",
     "output_type": "stream",
     "text": [
      "100%|██████████████████████████████████████████████████████████████████████████████████| 80/80 [00:02<00:00, 32.12it/s]\n"
     ]
    },
    {
     "name": "stdout",
     "output_type": "stream",
     "text": [
      "Best params:  {'C': 1, 'epsilon': 0.01, 'gamma': 1, 'kernel': 'rbf'}\n",
      "Best rmse:  0.06623769086702297\n",
      "Training model:  73\n"
     ]
    },
    {
     "name": "stderr",
     "output_type": "stream",
     "text": [
      "100%|██████████████████████████████████████████████████████████████████████████████████| 80/80 [00:02<00:00, 32.37it/s]\n"
     ]
    },
    {
     "name": "stdout",
     "output_type": "stream",
     "text": [
      "Best params:  {'C': 100, 'epsilon': 0.001, 'gamma': 0.01, 'kernel': 'rbf'}\n",
      "Best rmse:  0.07508379896528912\n",
      "Training model:  74\n"
     ]
    },
    {
     "name": "stderr",
     "output_type": "stream",
     "text": [
      "100%|██████████████████████████████████████████████████████████████████████████████████| 80/80 [00:02<00:00, 32.04it/s]\n"
     ]
    },
    {
     "name": "stdout",
     "output_type": "stream",
     "text": [
      "Best params:  {'C': 10, 'epsilon': 0.01, 'gamma': 1, 'kernel': 'rbf'}\n",
      "Best rmse:  0.06283879196468169\n",
      "Training model:  75\n"
     ]
    },
    {
     "name": "stderr",
     "output_type": "stream",
     "text": [
      "100%|██████████████████████████████████████████████████████████████████████████████████| 80/80 [00:02<00:00, 32.15it/s]\n"
     ]
    },
    {
     "name": "stdout",
     "output_type": "stream",
     "text": [
      "Best params:  {'C': 100, 'epsilon': 0.01, 'gamma': 0.1, 'kernel': 'rbf'}\n",
      "Best rmse:  0.0677747387842502\n",
      "Training model:  76\n"
     ]
    },
    {
     "name": "stderr",
     "output_type": "stream",
     "text": [
      "100%|██████████████████████████████████████████████████████████████████████████████████| 80/80 [00:02<00:00, 31.95it/s]\n"
     ]
    },
    {
     "name": "stdout",
     "output_type": "stream",
     "text": [
      "Best params:  {'C': 1, 'epsilon': 0.01, 'gamma': 1, 'kernel': 'rbf'}\n",
      "Best rmse:  0.061712460264112604\n",
      "Training model:  77\n"
     ]
    },
    {
     "name": "stderr",
     "output_type": "stream",
     "text": [
      "100%|██████████████████████████████████████████████████████████████████████████████████| 80/80 [00:02<00:00, 31.65it/s]\n"
     ]
    },
    {
     "name": "stdout",
     "output_type": "stream",
     "text": [
      "Best params:  {'C': 1, 'epsilon': 0.01, 'gamma': 1, 'kernel': 'rbf'}\n",
      "Best rmse:  0.06201955876300114\n",
      "Training model:  78\n"
     ]
    },
    {
     "name": "stderr",
     "output_type": "stream",
     "text": [
      "100%|██████████████████████████████████████████████████████████████████████████████████| 80/80 [00:02<00:00, 31.84it/s]\n"
     ]
    },
    {
     "name": "stdout",
     "output_type": "stream",
     "text": [
      "Best params:  {'C': 100, 'epsilon': 0.0001, 'gamma': 0.1, 'kernel': 'rbf'}\n",
      "Best rmse:  0.0622136074971858\n",
      "Training model:  79\n"
     ]
    },
    {
     "name": "stderr",
     "output_type": "stream",
     "text": [
      "100%|██████████████████████████████████████████████████████████████████████████████████| 80/80 [00:02<00:00, 32.29it/s]\n"
     ]
    },
    {
     "name": "stdout",
     "output_type": "stream",
     "text": [
      "Best params:  {'C': 10, 'epsilon': 0.001, 'gamma': 0.1, 'kernel': 'rbf'}\n",
      "Best rmse:  0.06650736283744225\n",
      "Training model:  80\n"
     ]
    },
    {
     "name": "stderr",
     "output_type": "stream",
     "text": [
      "100%|██████████████████████████████████████████████████████████████████████████████████| 80/80 [00:02<00:00, 31.93it/s]\n"
     ]
    },
    {
     "name": "stdout",
     "output_type": "stream",
     "text": [
      "Best params:  {'C': 1, 'epsilon': 0.01, 'gamma': 1, 'kernel': 'rbf'}\n",
      "Best rmse:  0.06543518828140468\n",
      "Training model:  81\n"
     ]
    },
    {
     "name": "stderr",
     "output_type": "stream",
     "text": [
      "100%|██████████████████████████████████████████████████████████████████████████████████| 80/80 [00:02<00:00, 31.99it/s]\n"
     ]
    },
    {
     "name": "stdout",
     "output_type": "stream",
     "text": [
      "Best params:  {'C': 10, 'epsilon': 0.01, 'gamma': 1, 'kernel': 'rbf'}\n",
      "Best rmse:  0.0634010729054407\n",
      "Training model:  82\n"
     ]
    },
    {
     "name": "stderr",
     "output_type": "stream",
     "text": [
      "100%|██████████████████████████████████████████████████████████████████████████████████| 80/80 [00:02<00:00, 32.07it/s]\n"
     ]
    },
    {
     "name": "stdout",
     "output_type": "stream",
     "text": [
      "Best params:  {'C': 1, 'epsilon': 0.001, 'gamma': 1, 'kernel': 'rbf'}\n",
      "Best rmse:  0.06784743139707013\n",
      "Training model:  83\n"
     ]
    },
    {
     "name": "stderr",
     "output_type": "stream",
     "text": [
      "100%|██████████████████████████████████████████████████████████████████████████████████| 80/80 [00:02<00:00, 32.08it/s]\n"
     ]
    },
    {
     "name": "stdout",
     "output_type": "stream",
     "text": [
      "Best params:  {'C': 1, 'epsilon': 1e-05, 'gamma': 1, 'kernel': 'rbf'}\n",
      "Best rmse:  0.06378512852460319\n",
      "Training model:  84\n"
     ]
    },
    {
     "name": "stderr",
     "output_type": "stream",
     "text": [
      "100%|██████████████████████████████████████████████████████████████████████████████████| 80/80 [00:02<00:00, 31.63it/s]\n"
     ]
    },
    {
     "name": "stdout",
     "output_type": "stream",
     "text": [
      "Best params:  {'C': 10, 'epsilon': 0.1, 'gamma': 0.001, 'kernel': 'rbf'}\n",
      "Best rmse:  0.06306288072485348\n",
      "Training model:  85\n"
     ]
    },
    {
     "name": "stderr",
     "output_type": "stream",
     "text": [
      "100%|██████████████████████████████████████████████████████████████████████████████████| 80/80 [00:02<00:00, 32.13it/s]\n"
     ]
    },
    {
     "name": "stdout",
     "output_type": "stream",
     "text": [
      "Best params:  {'C': 10, 'epsilon': 0.001, 'gamma': 0.1, 'kernel': 'rbf'}\n",
      "Best rmse:  0.06039321246442533\n",
      "Training model:  86\n"
     ]
    },
    {
     "name": "stderr",
     "output_type": "stream",
     "text": [
      "100%|██████████████████████████████████████████████████████████████████████████████████| 80/80 [00:02<00:00, 32.02it/s]\n"
     ]
    },
    {
     "name": "stdout",
     "output_type": "stream",
     "text": [
      "Best params:  {'C': 1000, 'epsilon': 0.001, 'gamma': 0.01, 'kernel': 'rbf'}\n",
      "Best rmse:  0.06472925760465381\n",
      "Training model:  87\n"
     ]
    },
    {
     "name": "stderr",
     "output_type": "stream",
     "text": [
      "100%|██████████████████████████████████████████████████████████████████████████████████| 80/80 [00:02<00:00, 32.28it/s]\n"
     ]
    },
    {
     "name": "stdout",
     "output_type": "stream",
     "text": [
      "Best params:  {'C': 1, 'epsilon': 1e-05, 'gamma': 1, 'kernel': 'rbf'}\n",
      "Best rmse:  0.06699622788041315\n",
      "Training model:  88\n"
     ]
    },
    {
     "name": "stderr",
     "output_type": "stream",
     "text": [
      "100%|██████████████████████████████████████████████████████████████████████████████████| 80/80 [00:02<00:00, 31.94it/s]\n"
     ]
    },
    {
     "name": "stdout",
     "output_type": "stream",
     "text": [
      "Best params:  {'C': 100, 'epsilon': 0.0001, 'gamma': 1, 'kernel': 'rbf'}\n",
      "Best rmse:  0.0680660542598693\n",
      "Training model:  89\n"
     ]
    },
    {
     "name": "stderr",
     "output_type": "stream",
     "text": [
      "100%|██████████████████████████████████████████████████████████████████████████████████| 80/80 [00:02<00:00, 32.29it/s]\n"
     ]
    },
    {
     "name": "stdout",
     "output_type": "stream",
     "text": [
      "Best params:  {'C': 1000, 'epsilon': 0.01, 'gamma': 0.01, 'kernel': 'rbf'}\n",
      "Best rmse:  0.06780780581484336\n",
      "Training model:  90\n"
     ]
    },
    {
     "name": "stderr",
     "output_type": "stream",
     "text": [
      "100%|██████████████████████████████████████████████████████████████████████████████████| 80/80 [00:02<00:00, 32.39it/s]\n"
     ]
    },
    {
     "name": "stdout",
     "output_type": "stream",
     "text": [
      "Best params:  {'C': 1, 'epsilon': 1e-05, 'gamma': 1, 'kernel': 'rbf'}\n",
      "Best rmse:  0.06405878626135214\n",
      "Training model:  91\n"
     ]
    },
    {
     "name": "stderr",
     "output_type": "stream",
     "text": [
      "100%|██████████████████████████████████████████████████████████████████████████████████| 80/80 [00:02<00:00, 31.76it/s]\n"
     ]
    },
    {
     "name": "stdout",
     "output_type": "stream",
     "text": [
      "Best params:  {'C': 1, 'epsilon': 0.01, 'gamma': 0.01, 'kernel': 'rbf'}\n",
      "Best rmse:  0.06615528879017075\n",
      "Training model:  92\n"
     ]
    },
    {
     "name": "stderr",
     "output_type": "stream",
     "text": [
      "100%|██████████████████████████████████████████████████████████████████████████████████| 80/80 [00:02<00:00, 32.08it/s]\n"
     ]
    },
    {
     "name": "stdout",
     "output_type": "stream",
     "text": [
      "Best params:  {'C': 10, 'epsilon': 0.01, 'gamma': 1, 'kernel': 'rbf'}\n",
      "Best rmse:  0.062162543781204845\n",
      "Training model:  93\n"
     ]
    },
    {
     "name": "stderr",
     "output_type": "stream",
     "text": [
      "100%|██████████████████████████████████████████████████████████████████████████████████| 80/80 [00:02<00:00, 31.79it/s]\n"
     ]
    },
    {
     "name": "stdout",
     "output_type": "stream",
     "text": [
      "Best params:  {'C': 10, 'epsilon': 0.1, 'gamma': 1, 'kernel': 'rbf'}\n",
      "Best rmse:  0.06788637721216885\n",
      "Training model:  94\n"
     ]
    },
    {
     "name": "stderr",
     "output_type": "stream",
     "text": [
      "100%|██████████████████████████████████████████████████████████████████████████████████| 80/80 [00:02<00:00, 31.84it/s]\n"
     ]
    },
    {
     "name": "stdout",
     "output_type": "stream",
     "text": [
      "Best params:  {'C': 10, 'epsilon': 0.01, 'gamma': 1, 'kernel': 'rbf'}\n",
      "Best rmse:  0.06515210248634004\n",
      "Training model:  95\n"
     ]
    },
    {
     "name": "stderr",
     "output_type": "stream",
     "text": [
      "100%|██████████████████████████████████████████████████████████████████████████████████| 80/80 [00:02<00:00, 32.41it/s]\n"
     ]
    },
    {
     "name": "stdout",
     "output_type": "stream",
     "text": [
      "Best params:  {'C': 1, 'epsilon': 0.01, 'gamma': 1, 'kernel': 'rbf'}\n",
      "Best rmse:  0.06505520268723801\n",
      "Training model:  96\n"
     ]
    },
    {
     "name": "stderr",
     "output_type": "stream",
     "text": [
      "100%|██████████████████████████████████████████████████████████████████████████████████| 80/80 [00:02<00:00, 32.03it/s]\n"
     ]
    },
    {
     "name": "stdout",
     "output_type": "stream",
     "text": [
      "Best params:  {'C': 1, 'epsilon': 0.01, 'gamma': 1, 'kernel': 'rbf'}\n",
      "Best rmse:  0.0708862360520655\n",
      "Training model:  97\n"
     ]
    },
    {
     "name": "stderr",
     "output_type": "stream",
     "text": [
      "100%|██████████████████████████████████████████████████████████████████████████████████| 80/80 [00:02<00:00, 32.16it/s]\n"
     ]
    },
    {
     "name": "stdout",
     "output_type": "stream",
     "text": [
      "Best params:  {'C': 1, 'epsilon': 0.01, 'gamma': 1, 'kernel': 'rbf'}\n",
      "Best rmse:  0.056471428417028874\n",
      "Training model:  98\n"
     ]
    },
    {
     "name": "stderr",
     "output_type": "stream",
     "text": [
      "100%|██████████████████████████████████████████████████████████████████████████████████| 80/80 [00:02<00:00, 32.17it/s]\n"
     ]
    },
    {
     "name": "stdout",
     "output_type": "stream",
     "text": [
      "Best params:  {'C': 1, 'epsilon': 0.01, 'gamma': 1, 'kernel': 'rbf'}\n",
      "Best rmse:  0.06759227177249105\n",
      "Training model:  99\n"
     ]
    },
    {
     "name": "stderr",
     "output_type": "stream",
     "text": [
      "100%|██████████████████████████████████████████████████████████████████████████████████| 80/80 [00:02<00:00, 32.08it/s]\n"
     ]
    },
    {
     "name": "stdout",
     "output_type": "stream",
     "text": [
      "Best params:  {'C': 10, 'epsilon': 0.0001, 'gamma': 0.1, 'kernel': 'rbf'}\n",
      "Best rmse:  0.06934188396304583\n"
     ]
    },
    {
     "name": "stderr",
     "output_type": "stream",
     "text": [
      "100%|████████████████████████████████████████████████████████████████████████████████| 800/800 [13:57<00:00,  1.05s/it]\n"
     ]
    },
    {
     "name": "stdout",
     "output_type": "stream",
     "text": [
      "Best params:  {'comb': 'average', 'k': 14, 'n': 7}\n",
      "Best rmse:  766.5858934964745\n",
      "MSE: 7.300536829860572e-05\n",
      "MAPE: 5.888461583018218\n",
      "ARV: 0.004029105935869728\n",
      "MAE: 0.006255307233438133\n",
      "RMSE: 0.00854431789545577\n",
      "NRMSE: 0.01977931579632499\n",
      "SMAPE: 6.217286790028152\n",
      "Time Series:  electricity\n",
      "\n",
      "###############################################\n",
      "\n",
      "Executing: ENSEMBLE SVR\n",
      "d:  1\n",
      "Training model:  0\n"
     ]
    },
    {
     "name": "stderr",
     "output_type": "stream",
     "text": [
      "100%|██████████████████████████████████████████████████████████████████████████████████| 80/80 [00:01<00:00, 73.45it/s]\n"
     ]
    },
    {
     "name": "stdout",
     "output_type": "stream",
     "text": [
      "Best params:  {'C': 1, 'epsilon': 0.01, 'gamma': 1, 'kernel': 'rbf'}\n",
      "Best rmse:  0.0841026506417779\n",
      "Training model:  1\n"
     ]
    },
    {
     "name": "stderr",
     "output_type": "stream",
     "text": [
      "100%|██████████████████████████████████████████████████████████████████████████████████| 80/80 [00:01<00:00, 74.06it/s]\n"
     ]
    },
    {
     "name": "stdout",
     "output_type": "stream",
     "text": [
      "Best params:  {'C': 1, 'epsilon': 0.01, 'gamma': 1, 'kernel': 'rbf'}\n",
      "Best rmse:  0.08128754617473814\n",
      "Training model:  2\n"
     ]
    },
    {
     "name": "stderr",
     "output_type": "stream",
     "text": [
      "100%|██████████████████████████████████████████████████████████████████████████████████| 80/80 [00:01<00:00, 74.13it/s]\n"
     ]
    },
    {
     "name": "stdout",
     "output_type": "stream",
     "text": [
      "Best params:  {'C': 100, 'epsilon': 0.0001, 'gamma': 0.01, 'kernel': 'rbf'}\n",
      "Best rmse:  0.09197511229733411\n",
      "Training model:  3\n"
     ]
    },
    {
     "name": "stderr",
     "output_type": "stream",
     "text": [
      "100%|██████████████████████████████████████████████████████████████████████████████████| 80/80 [00:01<00:00, 73.92it/s]\n"
     ]
    },
    {
     "name": "stdout",
     "output_type": "stream",
     "text": [
      "Best params:  {'C': 1, 'epsilon': 0.01, 'gamma': 1, 'kernel': 'rbf'}\n",
      "Best rmse:  0.08731015208318257\n",
      "Training model:  4\n"
     ]
    },
    {
     "name": "stderr",
     "output_type": "stream",
     "text": [
      "100%|██████████████████████████████████████████████████████████████████████████████████| 80/80 [00:01<00:00, 74.68it/s]\n"
     ]
    },
    {
     "name": "stdout",
     "output_type": "stream",
     "text": [
      "Best params:  {'C': 1, 'epsilon': 0.001, 'gamma': 1, 'kernel': 'rbf'}\n",
      "Best rmse:  0.07304156860456201\n",
      "Training model:  5\n"
     ]
    },
    {
     "name": "stderr",
     "output_type": "stream",
     "text": [
      "100%|██████████████████████████████████████████████████████████████████████████████████| 80/80 [00:01<00:00, 74.33it/s]\n"
     ]
    },
    {
     "name": "stdout",
     "output_type": "stream",
     "text": [
      "Best params:  {'C': 10, 'epsilon': 0.01, 'gamma': 1, 'kernel': 'rbf'}\n",
      "Best rmse:  0.06374442488525205\n",
      "Training model:  6\n"
     ]
    },
    {
     "name": "stderr",
     "output_type": "stream",
     "text": [
      "100%|██████████████████████████████████████████████████████████████████████████████████| 80/80 [00:01<00:00, 75.17it/s]\n"
     ]
    },
    {
     "name": "stdout",
     "output_type": "stream",
     "text": [
      "Best params:  {'C': 10, 'epsilon': 0.01, 'gamma': 1, 'kernel': 'rbf'}\n",
      "Best rmse:  0.07894708865902542\n",
      "Training model:  7\n"
     ]
    },
    {
     "name": "stderr",
     "output_type": "stream",
     "text": [
      "100%|██████████████████████████████████████████████████████████████████████████████████| 80/80 [00:01<00:00, 74.68it/s]\n"
     ]
    },
    {
     "name": "stdout",
     "output_type": "stream",
     "text": [
      "Best params:  {'C': 1, 'epsilon': 0.01, 'gamma': 1, 'kernel': 'rbf'}\n",
      "Best rmse:  0.07742532024017011\n",
      "Training model:  8\n"
     ]
    },
    {
     "name": "stderr",
     "output_type": "stream",
     "text": [
      "100%|██████████████████████████████████████████████████████████████████████████████████| 80/80 [00:01<00:00, 74.40it/s]\n"
     ]
    },
    {
     "name": "stdout",
     "output_type": "stream",
     "text": [
      "Best params:  {'C': 1000, 'epsilon': 0.001, 'gamma': 0.01, 'kernel': 'rbf'}\n",
      "Best rmse:  0.07284617089800488\n",
      "Training model:  9\n"
     ]
    },
    {
     "name": "stderr",
     "output_type": "stream",
     "text": [
      "100%|██████████████████████████████████████████████████████████████████████████████████| 80/80 [00:01<00:00, 73.65it/s]\n"
     ]
    },
    {
     "name": "stdout",
     "output_type": "stream",
     "text": [
      "Best params:  {'C': 1, 'epsilon': 0.01, 'gamma': 1, 'kernel': 'rbf'}\n",
      "Best rmse:  0.08210816078383427\n",
      "Training model:  10\n"
     ]
    },
    {
     "name": "stderr",
     "output_type": "stream",
     "text": [
      "100%|██████████████████████████████████████████████████████████████████████████████████| 80/80 [00:01<00:00, 74.33it/s]\n"
     ]
    },
    {
     "name": "stdout",
     "output_type": "stream",
     "text": [
      "Best params:  {'C': 1, 'epsilon': 1e-05, 'gamma': 1, 'kernel': 'rbf'}\n",
      "Best rmse:  0.0767693085886328\n",
      "Training model:  11\n"
     ]
    },
    {
     "name": "stderr",
     "output_type": "stream",
     "text": [
      "100%|██████████████████████████████████████████████████████████████████████████████████| 80/80 [00:01<00:00, 74.47it/s]\n"
     ]
    },
    {
     "name": "stdout",
     "output_type": "stream",
     "text": [
      "Best params:  {'C': 10, 'epsilon': 0.1, 'gamma': 0.1, 'kernel': 'rbf'}\n",
      "Best rmse:  0.08180332395635188\n",
      "Training model:  12\n"
     ]
    },
    {
     "name": "stderr",
     "output_type": "stream",
     "text": [
      "100%|██████████████████████████████████████████████████████████████████████████████████| 80/80 [00:01<00:00, 74.33it/s]\n"
     ]
    },
    {
     "name": "stdout",
     "output_type": "stream",
     "text": [
      "Best params:  {'C': 1, 'epsilon': 0.01, 'gamma': 1, 'kernel': 'rbf'}\n",
      "Best rmse:  0.08923042237463447\n",
      "Training model:  13\n"
     ]
    },
    {
     "name": "stderr",
     "output_type": "stream",
     "text": [
      "100%|██████████████████████████████████████████████████████████████████████████████████| 80/80 [00:01<00:00, 74.89it/s]\n"
     ]
    },
    {
     "name": "stdout",
     "output_type": "stream",
     "text": [
      "Best params:  {'C': 100, 'epsilon': 0.001, 'gamma': 0.01, 'kernel': 'rbf'}\n",
      "Best rmse:  0.09502790782287622\n",
      "Training model:  14\n"
     ]
    },
    {
     "name": "stderr",
     "output_type": "stream",
     "text": [
      "100%|██████████████████████████████████████████████████████████████████████████████████| 80/80 [00:01<00:00, 74.13it/s]\n"
     ]
    },
    {
     "name": "stdout",
     "output_type": "stream",
     "text": [
      "Best params:  {'C': 10, 'epsilon': 0.01, 'gamma': 0.1, 'kernel': 'rbf'}\n",
      "Best rmse:  0.08561751284518376\n",
      "Training model:  15\n"
     ]
    },
    {
     "name": "stderr",
     "output_type": "stream",
     "text": [
      "100%|██████████████████████████████████████████████████████████████████████████████████| 80/80 [00:01<00:00, 74.33it/s]\n"
     ]
    },
    {
     "name": "stdout",
     "output_type": "stream",
     "text": [
      "Best params:  {'C': 100, 'epsilon': 0.01, 'gamma': 0.1, 'kernel': 'rbf'}\n",
      "Best rmse:  0.0770893856773528\n",
      "Training model:  16\n"
     ]
    },
    {
     "name": "stderr",
     "output_type": "stream",
     "text": [
      "100%|██████████████████████████████████████████████████████████████████████████████████| 80/80 [00:01<00:00, 74.19it/s]\n"
     ]
    },
    {
     "name": "stdout",
     "output_type": "stream",
     "text": [
      "Best params:  {'C': 1, 'epsilon': 0.001, 'gamma': 1, 'kernel': 'rbf'}\n",
      "Best rmse:  0.06710792051092308\n",
      "Training model:  17\n"
     ]
    },
    {
     "name": "stderr",
     "output_type": "stream",
     "text": [
      "100%|██████████████████████████████████████████████████████████████████████████████████| 80/80 [00:01<00:00, 74.54it/s]\n"
     ]
    },
    {
     "name": "stdout",
     "output_type": "stream",
     "text": [
      "Best params:  {'C': 10, 'epsilon': 0.0001, 'gamma': 1, 'kernel': 'rbf'}\n",
      "Best rmse:  0.08915224143285677\n",
      "Training model:  18\n"
     ]
    },
    {
     "name": "stderr",
     "output_type": "stream",
     "text": [
      "100%|██████████████████████████████████████████████████████████████████████████████████| 80/80 [00:01<00:00, 74.06it/s]\n"
     ]
    },
    {
     "name": "stdout",
     "output_type": "stream",
     "text": [
      "Best params:  {'C': 10, 'epsilon': 0.01, 'gamma': 0.1, 'kernel': 'rbf'}\n",
      "Best rmse:  0.0824025207235269\n",
      "Training model:  19\n"
     ]
    },
    {
     "name": "stderr",
     "output_type": "stream",
     "text": [
      "100%|██████████████████████████████████████████████████████████████████████████████████| 80/80 [00:01<00:00, 74.82it/s]\n"
     ]
    },
    {
     "name": "stdout",
     "output_type": "stream",
     "text": [
      "Best params:  {'C': 100, 'epsilon': 1e-05, 'gamma': 0.01, 'kernel': 'rbf'}\n",
      "Best rmse:  0.08677796899416763\n",
      "Training model:  20\n"
     ]
    },
    {
     "name": "stderr",
     "output_type": "stream",
     "text": [
      "100%|██████████████████████████████████████████████████████████████████████████████████| 80/80 [00:01<00:00, 74.13it/s]\n"
     ]
    },
    {
     "name": "stdout",
     "output_type": "stream",
     "text": [
      "Best params:  {'C': 10, 'epsilon': 0.01, 'gamma': 1, 'kernel': 'rbf'}\n",
      "Best rmse:  0.08104066599392101\n",
      "Training model:  21\n"
     ]
    },
    {
     "name": "stderr",
     "output_type": "stream",
     "text": [
      "100%|██████████████████████████████████████████████████████████████████████████████████| 80/80 [00:01<00:00, 74.33it/s]\n"
     ]
    },
    {
     "name": "stdout",
     "output_type": "stream",
     "text": [
      "Best params:  {'C': 1, 'epsilon': 1e-05, 'gamma': 1, 'kernel': 'rbf'}\n",
      "Best rmse:  0.06881629947126412\n",
      "Training model:  22\n"
     ]
    },
    {
     "name": "stderr",
     "output_type": "stream",
     "text": [
      "100%|██████████████████████████████████████████████████████████████████████████████████| 80/80 [00:01<00:00, 74.54it/s]\n"
     ]
    },
    {
     "name": "stdout",
     "output_type": "stream",
     "text": [
      "Best params:  {'C': 1, 'epsilon': 1e-05, 'gamma': 1, 'kernel': 'rbf'}\n",
      "Best rmse:  0.07548956433820286\n",
      "Training model:  23\n"
     ]
    },
    {
     "name": "stderr",
     "output_type": "stream",
     "text": [
      "100%|██████████████████████████████████████████████████████████████████████████████████| 80/80 [00:01<00:00, 74.26it/s]\n"
     ]
    },
    {
     "name": "stdout",
     "output_type": "stream",
     "text": [
      "Best params:  {'C': 10, 'epsilon': 0.01, 'gamma': 1, 'kernel': 'rbf'}\n",
      "Best rmse:  0.06621201998320271\n",
      "Training model:  24\n"
     ]
    },
    {
     "name": "stderr",
     "output_type": "stream",
     "text": [
      "100%|██████████████████████████████████████████████████████████████████████████████████| 80/80 [00:01<00:00, 73.51it/s]\n"
     ]
    },
    {
     "name": "stdout",
     "output_type": "stream",
     "text": [
      "Best params:  {'C': 1, 'epsilon': 1e-05, 'gamma': 1, 'kernel': 'rbf'}\n",
      "Best rmse:  0.07400627028859583\n",
      "Training model:  25\n"
     ]
    },
    {
     "name": "stderr",
     "output_type": "stream",
     "text": [
      "100%|██████████████████████████████████████████████████████████████████████████████████| 80/80 [00:01<00:00, 74.33it/s]\n"
     ]
    },
    {
     "name": "stdout",
     "output_type": "stream",
     "text": [
      "Best params:  {'C': 10, 'epsilon': 0.01, 'gamma': 1, 'kernel': 'rbf'}\n",
      "Best rmse:  0.0829873810409304\n",
      "Training model:  26\n"
     ]
    },
    {
     "name": "stderr",
     "output_type": "stream",
     "text": [
      "100%|██████████████████████████████████████████████████████████████████████████████████| 80/80 [00:01<00:00, 74.06it/s]\n"
     ]
    },
    {
     "name": "stdout",
     "output_type": "stream",
     "text": [
      "Best params:  {'C': 10, 'epsilon': 1e-05, 'gamma': 0.1, 'kernel': 'rbf'}\n",
      "Best rmse:  0.06301918971544106\n",
      "Training model:  27\n"
     ]
    },
    {
     "name": "stderr",
     "output_type": "stream",
     "text": [
      "100%|██████████████████████████████████████████████████████████████████████████████████| 80/80 [00:01<00:00, 72.98it/s]\n"
     ]
    },
    {
     "name": "stdout",
     "output_type": "stream",
     "text": [
      "Best params:  {'C': 10, 'epsilon': 0.01, 'gamma': 1, 'kernel': 'rbf'}\n",
      "Best rmse:  0.08643040096826371\n",
      "Training model:  28\n"
     ]
    },
    {
     "name": "stderr",
     "output_type": "stream",
     "text": [
      "100%|██████████████████████████████████████████████████████████████████████████████████| 80/80 [00:01<00:00, 73.85it/s]\n"
     ]
    },
    {
     "name": "stdout",
     "output_type": "stream",
     "text": [
      "Best params:  {'C': 100, 'epsilon': 0.1, 'gamma': 0.1, 'kernel': 'rbf'}\n",
      "Best rmse:  0.07861490567096202\n",
      "Training model:  29\n"
     ]
    },
    {
     "name": "stderr",
     "output_type": "stream",
     "text": [
      "100%|██████████████████████████████████████████████████████████████████████████████████| 80/80 [00:01<00:00, 74.19it/s]\n"
     ]
    },
    {
     "name": "stdout",
     "output_type": "stream",
     "text": [
      "Best params:  {'C': 1, 'epsilon': 0.01, 'gamma': 1, 'kernel': 'rbf'}\n",
      "Best rmse:  0.07948751264622954\n",
      "Training model:  30\n"
     ]
    },
    {
     "name": "stderr",
     "output_type": "stream",
     "text": [
      "100%|██████████████████████████████████████████████████████████████████████████████████| 80/80 [00:01<00:00, 74.19it/s]\n"
     ]
    },
    {
     "name": "stdout",
     "output_type": "stream",
     "text": [
      "Best params:  {'C': 10, 'epsilon': 0.01, 'gamma': 1, 'kernel': 'rbf'}\n",
      "Best rmse:  0.07352367942243013\n",
      "Training model:  31\n"
     ]
    },
    {
     "name": "stderr",
     "output_type": "stream",
     "text": [
      "100%|██████████████████████████████████████████████████████████████████████████████████| 80/80 [00:01<00:00, 73.04it/s]\n"
     ]
    },
    {
     "name": "stdout",
     "output_type": "stream",
     "text": [
      "Best params:  {'C': 10, 'epsilon': 0.01, 'gamma': 1, 'kernel': 'rbf'}\n",
      "Best rmse:  0.08177422352574101\n",
      "Training model:  32\n"
     ]
    },
    {
     "name": "stderr",
     "output_type": "stream",
     "text": [
      "100%|██████████████████████████████████████████████████████████████████████████████████| 80/80 [00:01<00:00, 73.24it/s]\n"
     ]
    },
    {
     "name": "stdout",
     "output_type": "stream",
     "text": [
      "Best params:  {'C': 1, 'epsilon': 0.01, 'gamma': 1, 'kernel': 'rbf'}\n",
      "Best rmse:  0.08297964426569968\n",
      "Training model:  33\n"
     ]
    },
    {
     "name": "stderr",
     "output_type": "stream",
     "text": [
      "100%|██████████████████████████████████████████████████████████████████████████████████| 80/80 [00:01<00:00, 74.06it/s]\n"
     ]
    },
    {
     "name": "stdout",
     "output_type": "stream",
     "text": [
      "Best params:  {'C': 10, 'epsilon': 0.01, 'gamma': 0.1, 'kernel': 'rbf'}\n",
      "Best rmse:  0.08938635069512046\n",
      "Training model:  34\n"
     ]
    },
    {
     "name": "stderr",
     "output_type": "stream",
     "text": [
      "100%|██████████████████████████████████████████████████████████████████████████████████| 80/80 [00:01<00:00, 73.31it/s]\n"
     ]
    },
    {
     "name": "stdout",
     "output_type": "stream",
     "text": [
      "Best params:  {'C': 10, 'epsilon': 1e-05, 'gamma': 1, 'kernel': 'rbf'}\n",
      "Best rmse:  0.06886191838923506\n",
      "Training model:  35\n"
     ]
    },
    {
     "name": "stderr",
     "output_type": "stream",
     "text": [
      "100%|██████████████████████████████████████████████████████████████████████████████████| 80/80 [00:01<00:00, 73.72it/s]\n"
     ]
    },
    {
     "name": "stdout",
     "output_type": "stream",
     "text": [
      "Best params:  {'C': 1, 'epsilon': 0.01, 'gamma': 1, 'kernel': 'rbf'}\n",
      "Best rmse:  0.07480251431728764\n",
      "Training model:  36\n"
     ]
    },
    {
     "name": "stderr",
     "output_type": "stream",
     "text": [
      "100%|██████████████████████████████████████████████████████████████████████████████████| 80/80 [00:01<00:00, 74.33it/s]\n"
     ]
    },
    {
     "name": "stdout",
     "output_type": "stream",
     "text": [
      "Best params:  {'C': 1, 'epsilon': 0.01, 'gamma': 1, 'kernel': 'rbf'}\n",
      "Best rmse:  0.08130562413377478\n",
      "Training model:  37\n"
     ]
    },
    {
     "name": "stderr",
     "output_type": "stream",
     "text": [
      "100%|██████████████████████████████████████████████████████████████████████████████████| 80/80 [00:01<00:00, 74.61it/s]\n"
     ]
    },
    {
     "name": "stdout",
     "output_type": "stream",
     "text": [
      "Best params:  {'C': 10, 'epsilon': 0.01, 'gamma': 1, 'kernel': 'rbf'}\n",
      "Best rmse:  0.08893920041185945\n",
      "Training model:  38\n"
     ]
    },
    {
     "name": "stderr",
     "output_type": "stream",
     "text": [
      "100%|██████████████████████████████████████████████████████████████████████████████████| 80/80 [00:01<00:00, 73.58it/s]\n"
     ]
    },
    {
     "name": "stdout",
     "output_type": "stream",
     "text": [
      "Best params:  {'C': 1, 'epsilon': 1e-05, 'gamma': 1, 'kernel': 'rbf'}\n",
      "Best rmse:  0.08643905528979755\n",
      "Training model:  39\n"
     ]
    },
    {
     "name": "stderr",
     "output_type": "stream",
     "text": [
      "100%|██████████████████████████████████████████████████████████████████████████████████| 80/80 [00:01<00:00, 74.54it/s]\n"
     ]
    },
    {
     "name": "stdout",
     "output_type": "stream",
     "text": [
      "Best params:  {'C': 10, 'epsilon': 0.01, 'gamma': 1, 'kernel': 'rbf'}\n",
      "Best rmse:  0.0882507394379216\n",
      "Training model:  40\n"
     ]
    },
    {
     "name": "stderr",
     "output_type": "stream",
     "text": [
      "100%|██████████████████████████████████████████████████████████████████████████████████| 80/80 [00:01<00:00, 73.38it/s]\n"
     ]
    },
    {
     "name": "stdout",
     "output_type": "stream",
     "text": [
      "Best params:  {'C': 10, 'epsilon': 0.01, 'gamma': 1, 'kernel': 'rbf'}\n",
      "Best rmse:  0.08182211053935386\n",
      "Training model:  41\n"
     ]
    },
    {
     "name": "stderr",
     "output_type": "stream",
     "text": [
      "100%|██████████████████████████████████████████████████████████████████████████████████| 80/80 [00:01<00:00, 74.61it/s]\n"
     ]
    },
    {
     "name": "stdout",
     "output_type": "stream",
     "text": [
      "Best params:  {'C': 10, 'epsilon': 0.01, 'gamma': 0.1, 'kernel': 'rbf'}\n",
      "Best rmse:  0.08823765518549108\n",
      "Training model:  42\n"
     ]
    },
    {
     "name": "stderr",
     "output_type": "stream",
     "text": [
      "100%|██████████████████████████████████████████████████████████████████████████████████| 80/80 [00:01<00:00, 75.10it/s]\n"
     ]
    },
    {
     "name": "stdout",
     "output_type": "stream",
     "text": [
      "Best params:  {'C': 1, 'epsilon': 0.01, 'gamma': 1, 'kernel': 'rbf'}\n",
      "Best rmse:  0.08150660273470504\n",
      "Training model:  43\n"
     ]
    },
    {
     "name": "stderr",
     "output_type": "stream",
     "text": [
      "100%|██████████████████████████████████████████████████████████████████████████████████| 80/80 [00:01<00:00, 74.54it/s]\n"
     ]
    },
    {
     "name": "stdout",
     "output_type": "stream",
     "text": [
      "Best params:  {'C': 10, 'epsilon': 0.01, 'gamma': 1, 'kernel': 'rbf'}\n",
      "Best rmse:  0.08423714265065897\n",
      "Training model:  44\n"
     ]
    },
    {
     "name": "stderr",
     "output_type": "stream",
     "text": [
      "100%|██████████████████████████████████████████████████████████████████████████████████| 80/80 [00:01<00:00, 74.33it/s]\n"
     ]
    },
    {
     "name": "stdout",
     "output_type": "stream",
     "text": [
      "Best params:  {'C': 10, 'epsilon': 0.01, 'gamma': 0.1, 'kernel': 'rbf'}\n",
      "Best rmse:  0.07123060379115016\n",
      "Training model:  45\n"
     ]
    },
    {
     "name": "stderr",
     "output_type": "stream",
     "text": [
      "100%|██████████████████████████████████████████████████████████████████████████████████| 80/80 [00:01<00:00, 74.47it/s]\n"
     ]
    },
    {
     "name": "stdout",
     "output_type": "stream",
     "text": [
      "Best params:  {'C': 10, 'epsilon': 0.01, 'gamma': 1, 'kernel': 'rbf'}\n",
      "Best rmse:  0.0775489014256762\n",
      "Training model:  46\n"
     ]
    },
    {
     "name": "stderr",
     "output_type": "stream",
     "text": [
      "100%|██████████████████████████████████████████████████████████████████████████████████| 80/80 [00:01<00:00, 74.19it/s]\n"
     ]
    },
    {
     "name": "stdout",
     "output_type": "stream",
     "text": [
      "Best params:  {'C': 10, 'epsilon': 1e-05, 'gamma': 1, 'kernel': 'rbf'}\n",
      "Best rmse:  0.07892733397862293\n",
      "Training model:  47\n"
     ]
    },
    {
     "name": "stderr",
     "output_type": "stream",
     "text": [
      "100%|██████████████████████████████████████████████████████████████████████████████████| 80/80 [00:01<00:00, 74.82it/s]\n"
     ]
    },
    {
     "name": "stdout",
     "output_type": "stream",
     "text": [
      "Best params:  {'C': 1, 'epsilon': 0.01, 'gamma': 1, 'kernel': 'rbf'}\n",
      "Best rmse:  0.07473698056221421\n",
      "Training model:  48\n"
     ]
    },
    {
     "name": "stderr",
     "output_type": "stream",
     "text": [
      "100%|██████████████████████████████████████████████████████████████████████████████████| 80/80 [00:01<00:00, 74.75it/s]\n"
     ]
    },
    {
     "name": "stdout",
     "output_type": "stream",
     "text": [
      "Best params:  {'C': 1, 'epsilon': 0.01, 'gamma': 1, 'kernel': 'rbf'}\n",
      "Best rmse:  0.0637319769389315\n",
      "Training model:  49\n"
     ]
    },
    {
     "name": "stderr",
     "output_type": "stream",
     "text": [
      "100%|██████████████████████████████████████████████████████████████████████████████████| 80/80 [00:01<00:00, 75.10it/s]\n"
     ]
    },
    {
     "name": "stdout",
     "output_type": "stream",
     "text": [
      "Best params:  {'C': 10, 'epsilon': 0.01, 'gamma': 0.1, 'kernel': 'rbf'}\n",
      "Best rmse:  0.09264195324452393\n",
      "Training model:  50\n"
     ]
    },
    {
     "name": "stderr",
     "output_type": "stream",
     "text": [
      "100%|██████████████████████████████████████████████████████████████████████████████████| 80/80 [00:01<00:00, 74.61it/s]\n"
     ]
    },
    {
     "name": "stdout",
     "output_type": "stream",
     "text": [
      "Best params:  {'C': 1, 'epsilon': 0.01, 'gamma': 1, 'kernel': 'rbf'}\n",
      "Best rmse:  0.07354776816544957\n",
      "Training model:  51\n"
     ]
    },
    {
     "name": "stderr",
     "output_type": "stream",
     "text": [
      "100%|██████████████████████████████████████████████████████████████████████████████████| 80/80 [00:01<00:00, 73.72it/s]\n"
     ]
    },
    {
     "name": "stdout",
     "output_type": "stream",
     "text": [
      "Best params:  {'C': 1000, 'epsilon': 0.01, 'gamma': 0.01, 'kernel': 'rbf'}\n",
      "Best rmse:  0.09084298933742337\n",
      "Training model:  52\n"
     ]
    },
    {
     "name": "stderr",
     "output_type": "stream",
     "text": [
      "100%|██████████████████████████████████████████████████████████████████████████████████| 80/80 [00:01<00:00, 73.65it/s]\n"
     ]
    },
    {
     "name": "stdout",
     "output_type": "stream",
     "text": [
      "Best params:  {'C': 10, 'epsilon': 0.01, 'gamma': 0.1, 'kernel': 'rbf'}\n",
      "Best rmse:  0.06810610759074072\n",
      "Training model:  53\n"
     ]
    },
    {
     "name": "stderr",
     "output_type": "stream",
     "text": [
      "100%|██████████████████████████████████████████████████████████████████████████████████| 80/80 [00:01<00:00, 73.78it/s]\n"
     ]
    },
    {
     "name": "stdout",
     "output_type": "stream",
     "text": [
      "Best params:  {'C': 1, 'epsilon': 0.01, 'gamma': 1, 'kernel': 'rbf'}\n",
      "Best rmse:  0.07401551737123588\n",
      "Training model:  54\n"
     ]
    },
    {
     "name": "stderr",
     "output_type": "stream",
     "text": [
      "100%|██████████████████████████████████████████████████████████████████████████████████| 80/80 [00:01<00:00, 74.40it/s]\n"
     ]
    },
    {
     "name": "stdout",
     "output_type": "stream",
     "text": [
      "Best params:  {'C': 1, 'epsilon': 0.01, 'gamma': 1, 'kernel': 'rbf'}\n",
      "Best rmse:  0.09102778175283145\n",
      "Training model:  55\n"
     ]
    },
    {
     "name": "stderr",
     "output_type": "stream",
     "text": [
      "100%|██████████████████████████████████████████████████████████████████████████████████| 80/80 [00:01<00:00, 74.89it/s]\n"
     ]
    },
    {
     "name": "stdout",
     "output_type": "stream",
     "text": [
      "Best params:  {'C': 10, 'epsilon': 0.001, 'gamma': 1, 'kernel': 'rbf'}\n",
      "Best rmse:  0.08040522903056657\n",
      "Training model:  56\n"
     ]
    },
    {
     "name": "stderr",
     "output_type": "stream",
     "text": [
      "100%|██████████████████████████████████████████████████████████████████████████████████| 80/80 [00:01<00:00, 74.61it/s]\n"
     ]
    },
    {
     "name": "stdout",
     "output_type": "stream",
     "text": [
      "Best params:  {'C': 10, 'epsilon': 1e-05, 'gamma': 1, 'kernel': 'rbf'}\n",
      "Best rmse:  0.08005874052904428\n",
      "Training model:  57\n"
     ]
    },
    {
     "name": "stderr",
     "output_type": "stream",
     "text": [
      "100%|██████████████████████████████████████████████████████████████████████████████████| 80/80 [00:01<00:00, 74.33it/s]\n"
     ]
    },
    {
     "name": "stdout",
     "output_type": "stream",
     "text": [
      "Best params:  {'C': 1, 'epsilon': 0.01, 'gamma': 1, 'kernel': 'rbf'}\n",
      "Best rmse:  0.07337855627015848\n",
      "Training model:  58\n"
     ]
    },
    {
     "name": "stderr",
     "output_type": "stream",
     "text": [
      "100%|██████████████████████████████████████████████████████████████████████████████████| 80/80 [00:01<00:00, 73.72it/s]\n"
     ]
    },
    {
     "name": "stdout",
     "output_type": "stream",
     "text": [
      "Best params:  {'C': 10, 'epsilon': 1e-05, 'gamma': 1, 'kernel': 'rbf'}\n",
      "Best rmse:  0.07271470943871253\n",
      "Training model:  59\n"
     ]
    },
    {
     "name": "stderr",
     "output_type": "stream",
     "text": [
      "100%|██████████████████████████████████████████████████████████████████████████████████| 80/80 [00:01<00:00, 74.47it/s]\n"
     ]
    },
    {
     "name": "stdout",
     "output_type": "stream",
     "text": [
      "Best params:  {'C': 10, 'epsilon': 0.01, 'gamma': 0.1, 'kernel': 'rbf'}\n",
      "Best rmse:  0.09337735271429182\n",
      "Training model:  60\n"
     ]
    },
    {
     "name": "stderr",
     "output_type": "stream",
     "text": [
      "100%|██████████████████████████████████████████████████████████████████████████████████| 80/80 [00:01<00:00, 71.35it/s]\n"
     ]
    },
    {
     "name": "stdout",
     "output_type": "stream",
     "text": [
      "Best params:  {'C': 1, 'epsilon': 0.0001, 'gamma': 1, 'kernel': 'rbf'}\n",
      "Best rmse:  0.07024977235871584\n",
      "Training model:  61\n"
     ]
    },
    {
     "name": "stderr",
     "output_type": "stream",
     "text": [
      "100%|██████████████████████████████████████████████████████████████████████████████████| 80/80 [00:01<00:00, 71.73it/s]\n"
     ]
    },
    {
     "name": "stdout",
     "output_type": "stream",
     "text": [
      "Best params:  {'C': 1, 'epsilon': 0.01, 'gamma': 1, 'kernel': 'rbf'}\n",
      "Best rmse:  0.08183416162564353\n",
      "Training model:  62\n"
     ]
    },
    {
     "name": "stderr",
     "output_type": "stream",
     "text": [
      "100%|██████████████████████████████████████████████████████████████████████████████████| 80/80 [00:01<00:00, 73.92it/s]\n"
     ]
    },
    {
     "name": "stdout",
     "output_type": "stream",
     "text": [
      "Best params:  {'C': 1, 'epsilon': 0.01, 'gamma': 1, 'kernel': 'rbf'}\n",
      "Best rmse:  0.0766757492286185\n",
      "Training model:  63\n"
     ]
    },
    {
     "name": "stderr",
     "output_type": "stream",
     "text": [
      "100%|██████████████████████████████████████████████████████████████████████████████████| 80/80 [00:01<00:00, 73.18it/s]\n"
     ]
    },
    {
     "name": "stdout",
     "output_type": "stream",
     "text": [
      "Best params:  {'C': 10, 'epsilon': 0.01, 'gamma': 1, 'kernel': 'rbf'}\n",
      "Best rmse:  0.07957710421257368\n",
      "Training model:  64\n"
     ]
    },
    {
     "name": "stderr",
     "output_type": "stream",
     "text": [
      "100%|██████████████████████████████████████████████████████████████████████████████████| 80/80 [00:01<00:00, 73.72it/s]\n"
     ]
    },
    {
     "name": "stdout",
     "output_type": "stream",
     "text": [
      "Best params:  {'C': 1, 'epsilon': 0.0001, 'gamma': 1, 'kernel': 'rbf'}\n",
      "Best rmse:  0.06890632388603272\n",
      "Training model:  65\n"
     ]
    },
    {
     "name": "stderr",
     "output_type": "stream",
     "text": [
      "100%|██████████████████████████████████████████████████████████████████████████████████| 80/80 [00:01<00:00, 72.12it/s]\n"
     ]
    },
    {
     "name": "stdout",
     "output_type": "stream",
     "text": [
      "Best params:  {'C': 1, 'epsilon': 0.01, 'gamma': 1, 'kernel': 'rbf'}\n",
      "Best rmse:  0.082440198792432\n",
      "Training model:  66\n"
     ]
    },
    {
     "name": "stderr",
     "output_type": "stream",
     "text": [
      "100%|██████████████████████████████████████████████████████████████████████████████████| 80/80 [00:01<00:00, 69.49it/s]\n"
     ]
    },
    {
     "name": "stdout",
     "output_type": "stream",
     "text": [
      "Best params:  {'C': 1, 'epsilon': 0.01, 'gamma': 1, 'kernel': 'rbf'}\n",
      "Best rmse:  0.06179247653709553\n",
      "Training model:  67\n"
     ]
    },
    {
     "name": "stderr",
     "output_type": "stream",
     "text": [
      "100%|██████████████████████████████████████████████████████████████████████████████████| 80/80 [00:01<00:00, 73.65it/s]\n"
     ]
    },
    {
     "name": "stdout",
     "output_type": "stream",
     "text": [
      "Best params:  {'C': 1, 'epsilon': 0.01, 'gamma': 1, 'kernel': 'rbf'}\n",
      "Best rmse:  0.0720575503534626\n",
      "Training model:  68\n"
     ]
    },
    {
     "name": "stderr",
     "output_type": "stream",
     "text": [
      "100%|██████████████████████████████████████████████████████████████████████████████████| 80/80 [00:01<00:00, 74.40it/s]\n"
     ]
    },
    {
     "name": "stdout",
     "output_type": "stream",
     "text": [
      "Best params:  {'C': 10, 'epsilon': 0.01, 'gamma': 1, 'kernel': 'rbf'}\n",
      "Best rmse:  0.08375188481232615\n",
      "Training model:  69\n"
     ]
    },
    {
     "name": "stderr",
     "output_type": "stream",
     "text": [
      "100%|██████████████████████████████████████████████████████████████████████████████████| 80/80 [00:01<00:00, 74.68it/s]\n"
     ]
    },
    {
     "name": "stdout",
     "output_type": "stream",
     "text": [
      "Best params:  {'C': 10, 'epsilon': 0.0001, 'gamma': 0.1, 'kernel': 'rbf'}\n",
      "Best rmse:  0.12055236907516141\n",
      "Training model:  70\n"
     ]
    },
    {
     "name": "stderr",
     "output_type": "stream",
     "text": [
      "100%|██████████████████████████████████████████████████████████████████████████████████| 80/80 [00:01<00:00, 74.26it/s]\n"
     ]
    },
    {
     "name": "stdout",
     "output_type": "stream",
     "text": [
      "Best params:  {'C': 1, 'epsilon': 1e-05, 'gamma': 1, 'kernel': 'rbf'}\n",
      "Best rmse:  0.0607921644742656\n",
      "Training model:  71\n"
     ]
    },
    {
     "name": "stderr",
     "output_type": "stream",
     "text": [
      "100%|██████████████████████████████████████████████████████████████████████████████████| 80/80 [00:01<00:00, 74.54it/s]\n"
     ]
    },
    {
     "name": "stdout",
     "output_type": "stream",
     "text": [
      "Best params:  {'C': 1, 'epsilon': 0.01, 'gamma': 1, 'kernel': 'rbf'}\n",
      "Best rmse:  0.0732013440018124\n",
      "Training model:  72\n"
     ]
    },
    {
     "name": "stderr",
     "output_type": "stream",
     "text": [
      "100%|██████████████████████████████████████████████████████████████████████████████████| 80/80 [00:01<00:00, 73.65it/s]\n"
     ]
    },
    {
     "name": "stdout",
     "output_type": "stream",
     "text": [
      "Best params:  {'C': 10, 'epsilon': 0.01, 'gamma': 1, 'kernel': 'rbf'}\n",
      "Best rmse:  0.0853636282183475\n",
      "Training model:  73\n"
     ]
    },
    {
     "name": "stderr",
     "output_type": "stream",
     "text": [
      "100%|██████████████████████████████████████████████████████████████████████████████████| 80/80 [00:01<00:00, 74.26it/s]\n"
     ]
    },
    {
     "name": "stdout",
     "output_type": "stream",
     "text": [
      "Best params:  {'C': 10, 'epsilon': 0.01, 'gamma': 0.1, 'kernel': 'rbf'}\n",
      "Best rmse:  0.08669929462900226\n",
      "Training model:  74\n"
     ]
    },
    {
     "name": "stderr",
     "output_type": "stream",
     "text": [
      "100%|██████████████████████████████████████████████████████████████████████████████████| 80/80 [00:01<00:00, 73.51it/s]\n"
     ]
    },
    {
     "name": "stdout",
     "output_type": "stream",
     "text": [
      "Best params:  {'C': 100, 'epsilon': 0.01, 'gamma': 1, 'kernel': 'rbf'}\n",
      "Best rmse:  0.08469873678670026\n",
      "Training model:  75\n"
     ]
    },
    {
     "name": "stderr",
     "output_type": "stream",
     "text": [
      "100%|██████████████████████████████████████████████████████████████████████████████████| 80/80 [00:01<00:00, 74.68it/s]\n"
     ]
    },
    {
     "name": "stdout",
     "output_type": "stream",
     "text": [
      "Best params:  {'C': 10, 'epsilon': 0.01, 'gamma': 0.1, 'kernel': 'rbf'}\n",
      "Best rmse:  0.08695959425296101\n",
      "Training model:  76\n"
     ]
    },
    {
     "name": "stderr",
     "output_type": "stream",
     "text": [
      "100%|██████████████████████████████████████████████████████████████████████████████████| 80/80 [00:01<00:00, 74.54it/s]\n"
     ]
    },
    {
     "name": "stdout",
     "output_type": "stream",
     "text": [
      "Best params:  {'C': 1, 'epsilon': 0.01, 'gamma': 1, 'kernel': 'rbf'}\n",
      "Best rmse:  0.07436046821740833\n",
      "Training model:  77\n"
     ]
    },
    {
     "name": "stderr",
     "output_type": "stream",
     "text": [
      "100%|██████████████████████████████████████████████████████████████████████████████████| 80/80 [00:01<00:00, 74.61it/s]\n"
     ]
    },
    {
     "name": "stdout",
     "output_type": "stream",
     "text": [
      "Best params:  {'C': 100, 'epsilon': 0.01, 'gamma': 0.1, 'kernel': 'rbf'}\n",
      "Best rmse:  0.0659710125052877\n",
      "Training model:  78\n"
     ]
    },
    {
     "name": "stderr",
     "output_type": "stream",
     "text": [
      "100%|██████████████████████████████████████████████████████████████████████████████████| 80/80 [00:01<00:00, 74.26it/s]\n"
     ]
    },
    {
     "name": "stdout",
     "output_type": "stream",
     "text": [
      "Best params:  {'C': 1, 'epsilon': 0.001, 'gamma': 1, 'kernel': 'rbf'}\n",
      "Best rmse:  0.07450209535727631\n",
      "Training model:  79\n"
     ]
    },
    {
     "name": "stderr",
     "output_type": "stream",
     "text": [
      "100%|██████████████████████████████████████████████████████████████████████████████████| 80/80 [00:01<00:00, 74.26it/s]\n"
     ]
    },
    {
     "name": "stdout",
     "output_type": "stream",
     "text": [
      "Best params:  {'C': 1, 'epsilon': 0.01, 'gamma': 1, 'kernel': 'rbf'}\n",
      "Best rmse:  0.06423503504464673\n",
      "Training model:  80\n"
     ]
    },
    {
     "name": "stderr",
     "output_type": "stream",
     "text": [
      "100%|██████████████████████████████████████████████████████████████████████████████████| 80/80 [00:01<00:00, 74.19it/s]\n"
     ]
    },
    {
     "name": "stdout",
     "output_type": "stream",
     "text": [
      "Best params:  {'C': 100, 'epsilon': 0.01, 'gamma': 0.1, 'kernel': 'rbf'}\n",
      "Best rmse:  0.09198123777680466\n",
      "Training model:  81\n"
     ]
    },
    {
     "name": "stderr",
     "output_type": "stream",
     "text": [
      "100%|██████████████████████████████████████████████████████████████████████████████████| 80/80 [00:01<00:00, 73.85it/s]\n"
     ]
    },
    {
     "name": "stdout",
     "output_type": "stream",
     "text": [
      "Best params:  {'C': 10, 'epsilon': 0.01, 'gamma': 0.1, 'kernel': 'rbf'}\n",
      "Best rmse:  0.07967848685429774\n",
      "Training model:  82\n"
     ]
    },
    {
     "name": "stderr",
     "output_type": "stream",
     "text": [
      "100%|██████████████████████████████████████████████████████████████████████████████████| 80/80 [00:01<00:00, 74.19it/s]\n"
     ]
    },
    {
     "name": "stdout",
     "output_type": "stream",
     "text": [
      "Best params:  {'C': 10, 'epsilon': 0.01, 'gamma': 1, 'kernel': 'rbf'}\n",
      "Best rmse:  0.08633283387250837\n",
      "Training model:  83\n"
     ]
    },
    {
     "name": "stderr",
     "output_type": "stream",
     "text": [
      "100%|██████████████████████████████████████████████████████████████████████████████████| 80/80 [00:01<00:00, 74.61it/s]\n"
     ]
    },
    {
     "name": "stdout",
     "output_type": "stream",
     "text": [
      "Best params:  {'C': 1, 'epsilon': 0.01, 'gamma': 1, 'kernel': 'rbf'}\n",
      "Best rmse:  0.07311328038366131\n",
      "Training model:  84\n"
     ]
    },
    {
     "name": "stderr",
     "output_type": "stream",
     "text": [
      "100%|██████████████████████████████████████████████████████████████████████████████████| 80/80 [00:01<00:00, 75.24it/s]\n"
     ]
    },
    {
     "name": "stdout",
     "output_type": "stream",
     "text": [
      "Best params:  {'C': 1, 'epsilon': 0.01, 'gamma': 1, 'kernel': 'rbf'}\n",
      "Best rmse:  0.0867859012398275\n",
      "Training model:  85\n"
     ]
    },
    {
     "name": "stderr",
     "output_type": "stream",
     "text": [
      "100%|██████████████████████████████████████████████████████████████████████████████████| 80/80 [00:01<00:00, 74.33it/s]\n"
     ]
    },
    {
     "name": "stdout",
     "output_type": "stream",
     "text": [
      "Best params:  {'C': 100, 'epsilon': 0.0001, 'gamma': 0.1, 'kernel': 'rbf'}\n",
      "Best rmse:  0.07357610499153829\n",
      "Training model:  86\n"
     ]
    },
    {
     "name": "stderr",
     "output_type": "stream",
     "text": [
      "100%|██████████████████████████████████████████████████████████████████████████████████| 80/80 [00:01<00:00, 73.99it/s]\n"
     ]
    },
    {
     "name": "stdout",
     "output_type": "stream",
     "text": [
      "Best params:  {'C': 10, 'epsilon': 0.01, 'gamma': 1, 'kernel': 'rbf'}\n",
      "Best rmse:  0.07962528035087608\n",
      "Training model:  87\n"
     ]
    },
    {
     "name": "stderr",
     "output_type": "stream",
     "text": [
      "100%|██████████████████████████████████████████████████████████████████████████████████| 80/80 [00:01<00:00, 74.13it/s]\n"
     ]
    },
    {
     "name": "stdout",
     "output_type": "stream",
     "text": [
      "Best params:  {'C': 1, 'epsilon': 1e-05, 'gamma': 1, 'kernel': 'rbf'}\n",
      "Best rmse:  0.07931830605456351\n",
      "Training model:  88\n"
     ]
    },
    {
     "name": "stderr",
     "output_type": "stream",
     "text": [
      "100%|██████████████████████████████████████████████████████████████████████████████████| 80/80 [00:01<00:00, 74.19it/s]\n"
     ]
    },
    {
     "name": "stdout",
     "output_type": "stream",
     "text": [
      "Best params:  {'C': 1, 'epsilon': 0.01, 'gamma': 1, 'kernel': 'rbf'}\n",
      "Best rmse:  0.06020673758503899\n",
      "Training model:  89\n"
     ]
    },
    {
     "name": "stderr",
     "output_type": "stream",
     "text": [
      "100%|██████████████████████████████████████████████████████████████████████████████████| 80/80 [00:01<00:00, 74.06it/s]\n"
     ]
    },
    {
     "name": "stdout",
     "output_type": "stream",
     "text": [
      "Best params:  {'C': 1000, 'epsilon': 0.01, 'gamma': 0.01, 'kernel': 'rbf'}\n",
      "Best rmse:  0.08928930984551106\n",
      "Training model:  90\n"
     ]
    },
    {
     "name": "stderr",
     "output_type": "stream",
     "text": [
      "100%|██████████████████████████████████████████████████████████████████████████████████| 80/80 [00:01<00:00, 74.33it/s]\n"
     ]
    },
    {
     "name": "stdout",
     "output_type": "stream",
     "text": [
      "Best params:  {'C': 1, 'epsilon': 0.01, 'gamma': 1, 'kernel': 'rbf'}\n",
      "Best rmse:  0.08456400190305138\n",
      "Training model:  91\n"
     ]
    },
    {
     "name": "stderr",
     "output_type": "stream",
     "text": [
      "100%|██████████████████████████████████████████████████████████████████████████████████| 80/80 [00:01<00:00, 74.47it/s]\n"
     ]
    },
    {
     "name": "stdout",
     "output_type": "stream",
     "text": [
      "Best params:  {'C': 10, 'epsilon': 0.01, 'gamma': 1, 'kernel': 'rbf'}\n",
      "Best rmse:  0.07393503389628277\n",
      "Training model:  92\n"
     ]
    },
    {
     "name": "stderr",
     "output_type": "stream",
     "text": [
      "100%|██████████████████████████████████████████████████████████████████████████████████| 80/80 [00:01<00:00, 73.72it/s]\n"
     ]
    },
    {
     "name": "stdout",
     "output_type": "stream",
     "text": [
      "Best params:  {'C': 1, 'epsilon': 0.01, 'gamma': 1, 'kernel': 'rbf'}\n",
      "Best rmse:  0.0882245724493846\n",
      "Training model:  93\n"
     ]
    },
    {
     "name": "stderr",
     "output_type": "stream",
     "text": [
      "100%|██████████████████████████████████████████████████████████████████████████████████| 80/80 [00:01<00:00, 74.68it/s]\n"
     ]
    },
    {
     "name": "stdout",
     "output_type": "stream",
     "text": [
      "Best params:  {'C': 1, 'epsilon': 0.0001, 'gamma': 1, 'kernel': 'rbf'}\n",
      "Best rmse:  0.07420815264597043\n",
      "Training model:  94\n"
     ]
    },
    {
     "name": "stderr",
     "output_type": "stream",
     "text": [
      "100%|██████████████████████████████████████████████████████████████████████████████████| 80/80 [00:01<00:00, 74.75it/s]\n"
     ]
    },
    {
     "name": "stdout",
     "output_type": "stream",
     "text": [
      "Best params:  {'C': 1, 'epsilon': 0.01, 'gamma': 1, 'kernel': 'rbf'}\n",
      "Best rmse:  0.06836182090486272\n",
      "Training model:  95\n"
     ]
    },
    {
     "name": "stderr",
     "output_type": "stream",
     "text": [
      "100%|██████████████████████████████████████████████████████████████████████████████████| 80/80 [00:01<00:00, 74.89it/s]\n"
     ]
    },
    {
     "name": "stdout",
     "output_type": "stream",
     "text": [
      "Best params:  {'C': 100, 'epsilon': 0.1, 'gamma': 0.1, 'kernel': 'rbf'}\n",
      "Best rmse:  0.10076911204355674\n",
      "Training model:  96\n"
     ]
    },
    {
     "name": "stderr",
     "output_type": "stream",
     "text": [
      "100%|██████████████████████████████████████████████████████████████████████████████████| 80/80 [00:01<00:00, 74.06it/s]\n"
     ]
    },
    {
     "name": "stdout",
     "output_type": "stream",
     "text": [
      "Best params:  {'C': 100, 'epsilon': 0.1, 'gamma': 0.1, 'kernel': 'rbf'}\n",
      "Best rmse:  0.08767031044085782\n",
      "Training model:  97\n"
     ]
    },
    {
     "name": "stderr",
     "output_type": "stream",
     "text": [
      "100%|██████████████████████████████████████████████████████████████████████████████████| 80/80 [00:01<00:00, 74.54it/s]\n"
     ]
    },
    {
     "name": "stdout",
     "output_type": "stream",
     "text": [
      "Best params:  {'C': 10, 'epsilon': 0.01, 'gamma': 1, 'kernel': 'rbf'}\n",
      "Best rmse:  0.08105499803102507\n",
      "Training model:  98\n"
     ]
    },
    {
     "name": "stderr",
     "output_type": "stream",
     "text": [
      "100%|██████████████████████████████████████████████████████████████████████████████████| 80/80 [00:01<00:00, 74.89it/s]\n"
     ]
    },
    {
     "name": "stdout",
     "output_type": "stream",
     "text": [
      "Best params:  {'C': 1, 'epsilon': 0.001, 'gamma': 1, 'kernel': 'rbf'}\n",
      "Best rmse:  0.09348532564803376\n",
      "Training model:  99\n"
     ]
    },
    {
     "name": "stderr",
     "output_type": "stream",
     "text": [
      "100%|██████████████████████████████████████████████████████████████████████████████████| 80/80 [00:01<00:00, 73.85it/s]\n"
     ]
    },
    {
     "name": "stdout",
     "output_type": "stream",
     "text": [
      "Best params:  {'C': 10, 'epsilon': 0.01, 'gamma': 1, 'kernel': 'rbf'}\n",
      "Best rmse:  0.05972247554450706\n"
     ]
    },
    {
     "name": "stderr",
     "output_type": "stream",
     "text": [
      "100%|████████████████████████████████████████████████████████████████████████████████| 800/800 [02:55<00:00,  4.55it/s]\n"
     ]
    },
    {
     "name": "stdout",
     "output_type": "stream",
     "text": [
      "Best params:  {'comb': 'median', 'k': 12, 'n': 18}\n",
      "Best rmse:  3330.532630543518\n",
      "MSE: 0.0012236581952656254\n",
      "MAPE: 3.729406667451661\n",
      "ARV: 0.08636228434428506\n",
      "MAE: 0.027160041942422858\n",
      "RMSE: 0.034980826108964684\n",
      "NRMSE: 0.07660265965405352\n",
      "SMAPE: 3.7408666310297183\n",
      "Time Series:  goldman\n",
      "\n",
      "###############################################\n",
      "\n",
      "Executing: ENSEMBLE SVR\n",
      "d:  1\n",
      "Training model:  0\n"
     ]
    },
    {
     "name": "stderr",
     "output_type": "stream",
     "text": [
      "100%|██████████████████████████████████████████████████████████████████████████████████| 80/80 [00:01<00:00, 65.29it/s]\n"
     ]
    },
    {
     "name": "stdout",
     "output_type": "stream",
     "text": [
      "Best params:  {'C': 1, 'epsilon': 1e-05, 'gamma': 1, 'kernel': 'rbf'}\n",
      "Best rmse:  0.09088879835329632\n",
      "Training model:  1\n"
     ]
    },
    {
     "name": "stderr",
     "output_type": "stream",
     "text": [
      "100%|██████████████████████████████████████████████████████████████████████████████████| 80/80 [00:01<00:00, 64.97it/s]\n"
     ]
    },
    {
     "name": "stdout",
     "output_type": "stream",
     "text": [
      "Best params:  {'C': 1, 'epsilon': 0.01, 'gamma': 1, 'kernel': 'rbf'}\n",
      "Best rmse:  0.08203620764092477\n",
      "Training model:  2\n"
     ]
    },
    {
     "name": "stderr",
     "output_type": "stream",
     "text": [
      "100%|██████████████████████████████████████████████████████████████████████████████████| 80/80 [00:01<00:00, 66.60it/s]\n"
     ]
    },
    {
     "name": "stdout",
     "output_type": "stream",
     "text": [
      "Best params:  {'C': 1, 'epsilon': 0.1, 'gamma': 1, 'kernel': 'rbf'}\n",
      "Best rmse:  0.10477258392706933\n",
      "Training model:  3\n"
     ]
    },
    {
     "name": "stderr",
     "output_type": "stream",
     "text": [
      "100%|██████████████████████████████████████████████████████████████████████████████████| 80/80 [00:01<00:00, 65.83it/s]\n"
     ]
    },
    {
     "name": "stdout",
     "output_type": "stream",
     "text": [
      "Best params:  {'C': 1, 'epsilon': 0.01, 'gamma': 1, 'kernel': 'rbf'}\n",
      "Best rmse:  0.06991114989328256\n",
      "Training model:  4\n"
     ]
    },
    {
     "name": "stderr",
     "output_type": "stream",
     "text": [
      "100%|██████████████████████████████████████████████████████████████████████████████████| 80/80 [00:01<00:00, 65.77it/s]\n"
     ]
    },
    {
     "name": "stdout",
     "output_type": "stream",
     "text": [
      "Best params:  {'C': 1, 'epsilon': 0.01, 'gamma': 1, 'kernel': 'rbf'}\n",
      "Best rmse:  0.07259477678491529\n",
      "Training model:  5\n"
     ]
    },
    {
     "name": "stderr",
     "output_type": "stream",
     "text": [
      "100%|██████████████████████████████████████████████████████████████████████████████████| 80/80 [00:01<00:00, 65.34it/s]\n"
     ]
    },
    {
     "name": "stdout",
     "output_type": "stream",
     "text": [
      "Best params:  {'C': 1, 'epsilon': 0.0001, 'gamma': 1, 'kernel': 'rbf'}\n",
      "Best rmse:  0.07216868408376809\n",
      "Training model:  6\n"
     ]
    },
    {
     "name": "stderr",
     "output_type": "stream",
     "text": [
      "100%|██████████████████████████████████████████████████████████████████████████████████| 80/80 [00:01<00:00, 65.51it/s]\n"
     ]
    },
    {
     "name": "stdout",
     "output_type": "stream",
     "text": [
      "Best params:  {'C': 1, 'epsilon': 0.001, 'gamma': 1, 'kernel': 'rbf'}\n",
      "Best rmse:  0.07295024235253386\n",
      "Training model:  7\n"
     ]
    },
    {
     "name": "stderr",
     "output_type": "stream",
     "text": [
      "100%|██████████████████████████████████████████████████████████████████████████████████| 80/80 [00:01<00:00, 65.83it/s]\n"
     ]
    },
    {
     "name": "stdout",
     "output_type": "stream",
     "text": [
      "Best params:  {'C': 10, 'epsilon': 0.001, 'gamma': 0.1, 'kernel': 'rbf'}\n",
      "Best rmse:  0.07685555616337762\n",
      "Training model:  8\n"
     ]
    },
    {
     "name": "stderr",
     "output_type": "stream",
     "text": [
      "100%|██████████████████████████████████████████████████████████████████████████████████| 80/80 [00:01<00:00, 65.29it/s]\n"
     ]
    },
    {
     "name": "stdout",
     "output_type": "stream",
     "text": [
      "Best params:  {'C': 1, 'epsilon': 0.001, 'gamma': 1, 'kernel': 'rbf'}\n",
      "Best rmse:  0.09303713835814147\n",
      "Training model:  9\n"
     ]
    },
    {
     "name": "stderr",
     "output_type": "stream",
     "text": [
      "100%|██████████████████████████████████████████████████████████████████████████████████| 80/80 [00:01<00:00, 65.56it/s]\n"
     ]
    },
    {
     "name": "stdout",
     "output_type": "stream",
     "text": [
      "Best params:  {'C': 1, 'epsilon': 0.1, 'gamma': 1, 'kernel': 'rbf'}\n",
      "Best rmse:  0.08463630506600212\n",
      "Training model:  10\n"
     ]
    },
    {
     "name": "stderr",
     "output_type": "stream",
     "text": [
      "100%|██████████████████████████████████████████████████████████████████████████████████| 80/80 [00:01<00:00, 65.99it/s]\n"
     ]
    },
    {
     "name": "stdout",
     "output_type": "stream",
     "text": [
      "Best params:  {'C': 1, 'epsilon': 0.01, 'gamma': 1, 'kernel': 'rbf'}\n",
      "Best rmse:  0.0710654739568818\n",
      "Training model:  11\n"
     ]
    },
    {
     "name": "stderr",
     "output_type": "stream",
     "text": [
      "100%|██████████████████████████████████████████████████████████████████████████████████| 80/80 [00:01<00:00, 64.09it/s]\n"
     ]
    },
    {
     "name": "stdout",
     "output_type": "stream",
     "text": [
      "Best params:  {'C': 1, 'epsilon': 0.01, 'gamma': 1, 'kernel': 'rbf'}\n",
      "Best rmse:  0.09729300457317355\n",
      "Training model:  12\n"
     ]
    },
    {
     "name": "stderr",
     "output_type": "stream",
     "text": [
      "100%|██████████████████████████████████████████████████████████████████████████████████| 80/80 [00:01<00:00, 65.24it/s]\n"
     ]
    },
    {
     "name": "stdout",
     "output_type": "stream",
     "text": [
      "Best params:  {'C': 1, 'epsilon': 0.01, 'gamma': 1, 'kernel': 'rbf'}\n",
      "Best rmse:  0.08776395701519976\n",
      "Training model:  13\n"
     ]
    },
    {
     "name": "stderr",
     "output_type": "stream",
     "text": [
      "100%|██████████████████████████████████████████████████████████████████████████████████| 80/80 [00:01<00:00, 65.13it/s]\n"
     ]
    },
    {
     "name": "stdout",
     "output_type": "stream",
     "text": [
      "Best params:  {'C': 1, 'epsilon': 0.01, 'gamma': 1, 'kernel': 'rbf'}\n",
      "Best rmse:  0.07741964681546375\n",
      "Training model:  14\n"
     ]
    },
    {
     "name": "stderr",
     "output_type": "stream",
     "text": [
      "100%|██████████████████████████████████████████████████████████████████████████████████| 80/80 [00:01<00:00, 65.18it/s]\n"
     ]
    },
    {
     "name": "stdout",
     "output_type": "stream",
     "text": [
      "Best params:  {'C': 1, 'epsilon': 0.1, 'gamma': 1, 'kernel': 'rbf'}\n",
      "Best rmse:  0.092160175407288\n",
      "Training model:  15\n"
     ]
    },
    {
     "name": "stderr",
     "output_type": "stream",
     "text": [
      "100%|██████████████████████████████████████████████████████████████████████████████████| 80/80 [00:01<00:00, 65.99it/s]\n"
     ]
    },
    {
     "name": "stdout",
     "output_type": "stream",
     "text": [
      "Best params:  {'C': 1, 'epsilon': 0.001, 'gamma': 1, 'kernel': 'rbf'}\n",
      "Best rmse:  0.07202563097704041\n",
      "Training model:  16\n"
     ]
    },
    {
     "name": "stderr",
     "output_type": "stream",
     "text": [
      "100%|██████████████████████████████████████████████████████████████████████████████████| 80/80 [00:01<00:00, 65.56it/s]\n"
     ]
    },
    {
     "name": "stdout",
     "output_type": "stream",
     "text": [
      "Best params:  {'C': 1, 'epsilon': 0.0001, 'gamma': 1, 'kernel': 'rbf'}\n",
      "Best rmse:  0.0754813968462731\n",
      "Training model:  17\n"
     ]
    },
    {
     "name": "stderr",
     "output_type": "stream",
     "text": [
      "100%|██████████████████████████████████████████████████████████████████████████████████| 80/80 [00:01<00:00, 65.61it/s]\n"
     ]
    },
    {
     "name": "stdout",
     "output_type": "stream",
     "text": [
      "Best params:  {'C': 1, 'epsilon': 0.01, 'gamma': 0.01, 'kernel': 'rbf'}\n",
      "Best rmse:  0.08095229188968818\n",
      "Training model:  18\n"
     ]
    },
    {
     "name": "stderr",
     "output_type": "stream",
     "text": [
      "100%|██████████████████████████████████████████████████████████████████████████████████| 80/80 [00:01<00:00, 65.83it/s]\n"
     ]
    },
    {
     "name": "stdout",
     "output_type": "stream",
     "text": [
      "Best params:  {'C': 1, 'epsilon': 0.1, 'gamma': 1, 'kernel': 'rbf'}\n",
      "Best rmse:  0.07661482970539212\n",
      "Training model:  19\n"
     ]
    },
    {
     "name": "stderr",
     "output_type": "stream",
     "text": [
      "100%|██████████████████████████████████████████████████████████████████████████████████| 80/80 [00:01<00:00, 65.88it/s]\n"
     ]
    },
    {
     "name": "stdout",
     "output_type": "stream",
     "text": [
      "Best params:  {'C': 1, 'epsilon': 0.01, 'gamma': 1, 'kernel': 'rbf'}\n",
      "Best rmse:  0.07180197681667005\n",
      "Training model:  20\n"
     ]
    },
    {
     "name": "stderr",
     "output_type": "stream",
     "text": [
      "100%|██████████████████████████████████████████████████████████████████████████████████| 80/80 [00:01<00:00, 65.83it/s]\n"
     ]
    },
    {
     "name": "stdout",
     "output_type": "stream",
     "text": [
      "Best params:  {'C': 1, 'epsilon': 0.0001, 'gamma': 1, 'kernel': 'rbf'}\n",
      "Best rmse:  0.07337898606684713\n",
      "Training model:  21\n"
     ]
    },
    {
     "name": "stderr",
     "output_type": "stream",
     "text": [
      "100%|██████████████████████████████████████████████████████████████████████████████████| 80/80 [00:01<00:00, 65.40it/s]\n"
     ]
    },
    {
     "name": "stdout",
     "output_type": "stream",
     "text": [
      "Best params:  {'C': 1, 'epsilon': 0.01, 'gamma': 1, 'kernel': 'rbf'}\n",
      "Best rmse:  0.09685107287995955\n",
      "Training model:  22\n"
     ]
    },
    {
     "name": "stderr",
     "output_type": "stream",
     "text": [
      "100%|██████████████████████████████████████████████████████████████████████████████████| 80/80 [00:01<00:00, 63.53it/s]\n"
     ]
    },
    {
     "name": "stdout",
     "output_type": "stream",
     "text": [
      "Best params:  {'C': 1, 'epsilon': 0.01, 'gamma': 1, 'kernel': 'rbf'}\n",
      "Best rmse:  0.08091796994862072\n",
      "Training model:  23\n"
     ]
    },
    {
     "name": "stderr",
     "output_type": "stream",
     "text": [
      "100%|██████████████████████████████████████████████████████████████████████████████████| 80/80 [00:01<00:00, 65.77it/s]\n"
     ]
    },
    {
     "name": "stdout",
     "output_type": "stream",
     "text": [
      "Best params:  {'C': 100, 'epsilon': 0.1, 'gamma': 0.001, 'kernel': 'rbf'}\n",
      "Best rmse:  0.08962164478934594\n",
      "Training model:  24\n"
     ]
    },
    {
     "name": "stderr",
     "output_type": "stream",
     "text": [
      "100%|██████████████████████████████████████████████████████████████████████████████████| 80/80 [00:01<00:00, 65.18it/s]\n"
     ]
    },
    {
     "name": "stdout",
     "output_type": "stream",
     "text": [
      "Best params:  {'C': 1000, 'epsilon': 1e-05, 'gamma': 0.01, 'kernel': 'rbf'}\n",
      "Best rmse:  0.1090707531906584\n",
      "Training model:  25\n"
     ]
    },
    {
     "name": "stderr",
     "output_type": "stream",
     "text": [
      "100%|██████████████████████████████████████████████████████████████████████████████████| 80/80 [00:01<00:00, 65.08it/s]\n"
     ]
    },
    {
     "name": "stdout",
     "output_type": "stream",
     "text": [
      "Best params:  {'C': 1, 'epsilon': 0.1, 'gamma': 0.01, 'kernel': 'rbf'}\n",
      "Best rmse:  0.11232542098804328\n",
      "Training model:  26\n"
     ]
    },
    {
     "name": "stderr",
     "output_type": "stream",
     "text": [
      "100%|██████████████████████████████████████████████████████████████████████████████████| 80/80 [00:01<00:00, 64.71it/s]\n"
     ]
    },
    {
     "name": "stdout",
     "output_type": "stream",
     "text": [
      "Best params:  {'C': 1, 'epsilon': 0.01, 'gamma': 1, 'kernel': 'rbf'}\n",
      "Best rmse:  0.07968711281319399\n",
      "Training model:  27\n"
     ]
    },
    {
     "name": "stderr",
     "output_type": "stream",
     "text": [
      "100%|██████████████████████████████████████████████████████████████████████████████████| 80/80 [00:01<00:00, 65.56it/s]\n"
     ]
    },
    {
     "name": "stdout",
     "output_type": "stream",
     "text": [
      "Best params:  {'C': 1, 'epsilon': 0.01, 'gamma': 1, 'kernel': 'rbf'}\n",
      "Best rmse:  0.08941003463310915\n",
      "Training model:  28\n"
     ]
    },
    {
     "name": "stderr",
     "output_type": "stream",
     "text": [
      "100%|██████████████████████████████████████████████████████████████████████████████████| 80/80 [00:01<00:00, 65.83it/s]\n"
     ]
    },
    {
     "name": "stdout",
     "output_type": "stream",
     "text": [
      "Best params:  {'C': 1, 'epsilon': 0.0001, 'gamma': 1, 'kernel': 'rbf'}\n",
      "Best rmse:  0.10003002874256786\n",
      "Training model:  29\n"
     ]
    },
    {
     "name": "stderr",
     "output_type": "stream",
     "text": [
      "100%|██████████████████████████████████████████████████████████████████████████████████| 80/80 [00:01<00:00, 65.61it/s]\n"
     ]
    },
    {
     "name": "stdout",
     "output_type": "stream",
     "text": [
      "Best params:  {'C': 1, 'epsilon': 0.01, 'gamma': 1, 'kernel': 'rbf'}\n",
      "Best rmse:  0.08133858972026957\n",
      "Training model:  30\n"
     ]
    },
    {
     "name": "stderr",
     "output_type": "stream",
     "text": [
      "100%|██████████████████████████████████████████████████████████████████████████████████| 80/80 [00:01<00:00, 65.67it/s]\n"
     ]
    },
    {
     "name": "stdout",
     "output_type": "stream",
     "text": [
      "Best params:  {'C': 1, 'epsilon': 0.01, 'gamma': 1, 'kernel': 'rbf'}\n",
      "Best rmse:  0.0994723792043389\n",
      "Training model:  31\n"
     ]
    },
    {
     "name": "stderr",
     "output_type": "stream",
     "text": [
      "100%|██████████████████████████████████████████████████████████████████████████████████| 80/80 [00:01<00:00, 66.16it/s]\n"
     ]
    },
    {
     "name": "stdout",
     "output_type": "stream",
     "text": [
      "Best params:  {'C': 1, 'epsilon': 0.01, 'gamma': 1, 'kernel': 'rbf'}\n",
      "Best rmse:  0.07691464356281277\n",
      "Training model:  32\n"
     ]
    },
    {
     "name": "stderr",
     "output_type": "stream",
     "text": [
      "100%|██████████████████████████████████████████████████████████████████████████████████| 80/80 [00:01<00:00, 65.67it/s]\n"
     ]
    },
    {
     "name": "stdout",
     "output_type": "stream",
     "text": [
      "Best params:  {'C': 10, 'epsilon': 1e-05, 'gamma': 0.1, 'kernel': 'rbf'}\n",
      "Best rmse:  0.0744882627151489\n",
      "Training model:  33\n"
     ]
    },
    {
     "name": "stderr",
     "output_type": "stream",
     "text": [
      "100%|██████████████████████████████████████████████████████████████████████████████████| 80/80 [00:01<00:00, 64.61it/s]\n"
     ]
    },
    {
     "name": "stdout",
     "output_type": "stream",
     "text": [
      "Best params:  {'C': 1, 'epsilon': 0.1, 'gamma': 1, 'kernel': 'rbf'}\n",
      "Best rmse:  0.09100017206463938\n",
      "Training model:  34\n"
     ]
    },
    {
     "name": "stderr",
     "output_type": "stream",
     "text": [
      "100%|██████████████████████████████████████████████████████████████████████████████████| 80/80 [00:01<00:00, 65.56it/s]\n"
     ]
    },
    {
     "name": "stdout",
     "output_type": "stream",
     "text": [
      "Best params:  {'C': 1, 'epsilon': 0.01, 'gamma': 1, 'kernel': 'rbf'}\n",
      "Best rmse:  0.08364150235833225\n",
      "Training model:  35\n"
     ]
    },
    {
     "name": "stderr",
     "output_type": "stream",
     "text": [
      "100%|██████████████████████████████████████████████████████████████████████████████████| 80/80 [00:01<00:00, 66.05it/s]\n"
     ]
    },
    {
     "name": "stdout",
     "output_type": "stream",
     "text": [
      "Best params:  {'C': 10, 'epsilon': 0.01, 'gamma': 1, 'kernel': 'rbf'}\n",
      "Best rmse:  0.07311115567709395\n",
      "Training model:  36\n"
     ]
    },
    {
     "name": "stderr",
     "output_type": "stream",
     "text": [
      "100%|██████████████████████████████████████████████████████████████████████████████████| 80/80 [00:01<00:00, 65.67it/s]\n"
     ]
    },
    {
     "name": "stdout",
     "output_type": "stream",
     "text": [
      "Best params:  {'C': 1, 'epsilon': 0.001, 'gamma': 1, 'kernel': 'rbf'}\n",
      "Best rmse:  0.06898596700925183\n",
      "Training model:  37\n"
     ]
    },
    {
     "name": "stderr",
     "output_type": "stream",
     "text": [
      "100%|██████████████████████████████████████████████████████████████████████████████████| 80/80 [00:01<00:00, 64.87it/s]\n"
     ]
    },
    {
     "name": "stdout",
     "output_type": "stream",
     "text": [
      "Best params:  {'C': 1000, 'epsilon': 0.01, 'gamma': 0.01, 'kernel': 'rbf'}\n",
      "Best rmse:  0.08065987723248048\n",
      "Training model:  38\n"
     ]
    },
    {
     "name": "stderr",
     "output_type": "stream",
     "text": [
      "100%|██████████████████████████████████████████████████████████████████████████████████| 80/80 [00:01<00:00, 66.38it/s]\n"
     ]
    },
    {
     "name": "stdout",
     "output_type": "stream",
     "text": [
      "Best params:  {'C': 10, 'epsilon': 0.1, 'gamma': 1, 'kernel': 'rbf'}\n",
      "Best rmse:  0.10934995269219126\n",
      "Training model:  39\n"
     ]
    },
    {
     "name": "stderr",
     "output_type": "stream",
     "text": [
      "100%|██████████████████████████████████████████████████████████████████████████████████| 80/80 [00:01<00:00, 65.83it/s]\n"
     ]
    },
    {
     "name": "stdout",
     "output_type": "stream",
     "text": [
      "Best params:  {'C': 1, 'epsilon': 0.01, 'gamma': 1, 'kernel': 'rbf'}\n",
      "Best rmse:  0.0735034825042089\n",
      "Training model:  40\n"
     ]
    },
    {
     "name": "stderr",
     "output_type": "stream",
     "text": [
      "100%|██████████████████████████████████████████████████████████████████████████████████| 80/80 [00:01<00:00, 64.87it/s]\n"
     ]
    },
    {
     "name": "stdout",
     "output_type": "stream",
     "text": [
      "Best params:  {'C': 1, 'epsilon': 0.1, 'gamma': 1, 'kernel': 'rbf'}\n",
      "Best rmse:  0.0855989636994316\n",
      "Training model:  41\n"
     ]
    },
    {
     "name": "stderr",
     "output_type": "stream",
     "text": [
      "100%|██████████████████████████████████████████████████████████████████████████████████| 80/80 [00:01<00:00, 65.61it/s]\n"
     ]
    },
    {
     "name": "stdout",
     "output_type": "stream",
     "text": [
      "Best params:  {'C': 1, 'epsilon': 0.1, 'gamma': 1, 'kernel': 'rbf'}\n",
      "Best rmse:  0.08415008087771823\n",
      "Training model:  42\n"
     ]
    },
    {
     "name": "stderr",
     "output_type": "stream",
     "text": [
      "100%|██████████████████████████████████████████████████████████████████████████████████| 80/80 [00:01<00:00, 65.67it/s]\n"
     ]
    },
    {
     "name": "stdout",
     "output_type": "stream",
     "text": [
      "Best params:  {'C': 1, 'epsilon': 0.01, 'gamma': 1, 'kernel': 'rbf'}\n",
      "Best rmse:  0.08057949283397906\n",
      "Training model:  43\n"
     ]
    },
    {
     "name": "stderr",
     "output_type": "stream",
     "text": [
      "100%|██████████████████████████████████████████████████████████████████████████████████| 80/80 [00:01<00:00, 65.34it/s]\n"
     ]
    },
    {
     "name": "stdout",
     "output_type": "stream",
     "text": [
      "Best params:  {'C': 1, 'epsilon': 0.01, 'gamma': 1, 'kernel': 'rbf'}\n",
      "Best rmse:  0.09273713020389407\n",
      "Training model:  44\n"
     ]
    },
    {
     "name": "stderr",
     "output_type": "stream",
     "text": [
      "100%|██████████████████████████████████████████████████████████████████████████████████| 80/80 [00:01<00:00, 64.92it/s]\n"
     ]
    },
    {
     "name": "stdout",
     "output_type": "stream",
     "text": [
      "Best params:  {'C': 1, 'epsilon': 0.01, 'gamma': 0.001, 'kernel': 'rbf'}\n",
      "Best rmse:  0.09546485206331733\n",
      "Training model:  45\n"
     ]
    },
    {
     "name": "stderr",
     "output_type": "stream",
     "text": [
      "100%|██████████████████████████████████████████████████████████████████████████████████| 80/80 [00:01<00:00, 65.77it/s]\n"
     ]
    },
    {
     "name": "stdout",
     "output_type": "stream",
     "text": [
      "Best params:  {'C': 10, 'epsilon': 0.001, 'gamma': 0.1, 'kernel': 'rbf'}\n",
      "Best rmse:  0.07734777500005795\n",
      "Training model:  46\n"
     ]
    },
    {
     "name": "stderr",
     "output_type": "stream",
     "text": [
      "100%|██████████████████████████████████████████████████████████████████████████████████| 80/80 [00:01<00:00, 65.45it/s]\n"
     ]
    },
    {
     "name": "stdout",
     "output_type": "stream",
     "text": [
      "Best params:  {'C': 10, 'epsilon': 0.01, 'gamma': 0.1, 'kernel': 'rbf'}\n",
      "Best rmse:  0.08046724517175778\n",
      "Training model:  47\n"
     ]
    },
    {
     "name": "stderr",
     "output_type": "stream",
     "text": [
      "100%|██████████████████████████████████████████████████████████████████████████████████| 80/80 [00:01<00:00, 65.18it/s]\n"
     ]
    },
    {
     "name": "stdout",
     "output_type": "stream",
     "text": [
      "Best params:  {'C': 1, 'epsilon': 0.01, 'gamma': 1, 'kernel': 'rbf'}\n",
      "Best rmse:  0.07224401612197578\n",
      "Training model:  48\n"
     ]
    },
    {
     "name": "stderr",
     "output_type": "stream",
     "text": [
      "100%|██████████████████████████████████████████████████████████████████████████████████| 80/80 [00:01<00:00, 65.83it/s]\n"
     ]
    },
    {
     "name": "stdout",
     "output_type": "stream",
     "text": [
      "Best params:  {'C': 1, 'epsilon': 0.01, 'gamma': 1, 'kernel': 'rbf'}\n",
      "Best rmse:  0.0839116020520095\n",
      "Training model:  49\n"
     ]
    },
    {
     "name": "stderr",
     "output_type": "stream",
     "text": [
      "100%|██████████████████████████████████████████████████████████████████████████████████| 80/80 [00:01<00:00, 65.94it/s]\n"
     ]
    },
    {
     "name": "stdout",
     "output_type": "stream",
     "text": [
      "Best params:  {'C': 1, 'epsilon': 0.01, 'gamma': 1, 'kernel': 'rbf'}\n",
      "Best rmse:  0.0730478521186936\n",
      "Training model:  50\n"
     ]
    },
    {
     "name": "stderr",
     "output_type": "stream",
     "text": [
      "100%|██████████████████████████████████████████████████████████████████████████████████| 80/80 [00:01<00:00, 64.92it/s]\n"
     ]
    },
    {
     "name": "stdout",
     "output_type": "stream",
     "text": [
      "Best params:  {'C': 1, 'epsilon': 0.01, 'gamma': 1, 'kernel': 'rbf'}\n",
      "Best rmse:  0.07335879797794517\n",
      "Training model:  51\n"
     ]
    },
    {
     "name": "stderr",
     "output_type": "stream",
     "text": [
      "100%|██████████████████████████████████████████████████████████████████████████████████| 80/80 [00:01<00:00, 65.67it/s]\n"
     ]
    },
    {
     "name": "stdout",
     "output_type": "stream",
     "text": [
      "Best params:  {'C': 1, 'epsilon': 1e-05, 'gamma': 1, 'kernel': 'rbf'}\n",
      "Best rmse:  0.10503924139437026\n",
      "Training model:  52\n"
     ]
    },
    {
     "name": "stderr",
     "output_type": "stream",
     "text": [
      "100%|██████████████████████████████████████████████████████████████████████████████████| 80/80 [00:01<00:00, 65.61it/s]\n"
     ]
    },
    {
     "name": "stdout",
     "output_type": "stream",
     "text": [
      "Best params:  {'C': 1, 'epsilon': 0.01, 'gamma': 1, 'kernel': 'rbf'}\n",
      "Best rmse:  0.08300795071018509\n",
      "Training model:  53\n"
     ]
    },
    {
     "name": "stderr",
     "output_type": "stream",
     "text": [
      "100%|██████████████████████████████████████████████████████████████████████████████████| 80/80 [00:01<00:00, 66.27it/s]\n"
     ]
    },
    {
     "name": "stdout",
     "output_type": "stream",
     "text": [
      "Best params:  {'C': 1, 'epsilon': 0.001, 'gamma': 1, 'kernel': 'rbf'}\n",
      "Best rmse:  0.0837329990689354\n",
      "Training model:  54\n"
     ]
    },
    {
     "name": "stderr",
     "output_type": "stream",
     "text": [
      "100%|██████████████████████████████████████████████████████████████████████████████████| 80/80 [00:01<00:00, 65.67it/s]\n"
     ]
    },
    {
     "name": "stdout",
     "output_type": "stream",
     "text": [
      "Best params:  {'C': 1, 'epsilon': 0.01, 'gamma': 1, 'kernel': 'rbf'}\n",
      "Best rmse:  0.0827869350727078\n",
      "Training model:  55\n"
     ]
    },
    {
     "name": "stderr",
     "output_type": "stream",
     "text": [
      "100%|██████████████████████████████████████████████████████████████████████████████████| 80/80 [00:01<00:00, 65.88it/s]\n"
     ]
    },
    {
     "name": "stdout",
     "output_type": "stream",
     "text": [
      "Best params:  {'C': 1, 'epsilon': 0.01, 'gamma': 1, 'kernel': 'rbf'}\n",
      "Best rmse:  0.081077539873531\n",
      "Training model:  56\n"
     ]
    },
    {
     "name": "stderr",
     "output_type": "stream",
     "text": [
      "100%|██████████████████████████████████████████████████████████████████████████████████| 80/80 [00:01<00:00, 65.56it/s]\n"
     ]
    },
    {
     "name": "stdout",
     "output_type": "stream",
     "text": [
      "Best params:  {'C': 10, 'epsilon': 0.01, 'gamma': 0.001, 'kernel': 'rbf'}\n",
      "Best rmse:  0.0831641613270717\n",
      "Training model:  57\n"
     ]
    },
    {
     "name": "stderr",
     "output_type": "stream",
     "text": [
      "100%|██████████████████████████████████████████████████████████████████████████████████| 80/80 [00:01<00:00, 65.13it/s]\n"
     ]
    },
    {
     "name": "stdout",
     "output_type": "stream",
     "text": [
      "Best params:  {'C': 1, 'epsilon': 0.001, 'gamma': 1, 'kernel': 'rbf'}\n",
      "Best rmse:  0.06759042390604855\n",
      "Training model:  58\n"
     ]
    },
    {
     "name": "stderr",
     "output_type": "stream",
     "text": [
      "100%|██████████████████████████████████████████████████████████████████████████████████| 80/80 [00:01<00:00, 66.38it/s]\n"
     ]
    },
    {
     "name": "stdout",
     "output_type": "stream",
     "text": [
      "Best params:  {'C': 1, 'epsilon': 0.01, 'gamma': 1, 'kernel': 'rbf'}\n",
      "Best rmse:  0.06642629279492494\n",
      "Training model:  59\n"
     ]
    },
    {
     "name": "stderr",
     "output_type": "stream",
     "text": [
      "100%|██████████████████████████████████████████████████████████████████████████████████| 80/80 [00:01<00:00, 65.18it/s]\n"
     ]
    },
    {
     "name": "stdout",
     "output_type": "stream",
     "text": [
      "Best params:  {'C': 1, 'epsilon': 0.01, 'gamma': 1, 'kernel': 'rbf'}\n",
      "Best rmse:  0.08452644331249008\n",
      "Training model:  60\n"
     ]
    },
    {
     "name": "stderr",
     "output_type": "stream",
     "text": [
      "100%|██████████████████████████████████████████████████████████████████████████████████| 80/80 [00:01<00:00, 64.82it/s]\n"
     ]
    },
    {
     "name": "stdout",
     "output_type": "stream",
     "text": [
      "Best params:  {'C': 1, 'epsilon': 0.01, 'gamma': 1, 'kernel': 'rbf'}\n",
      "Best rmse:  0.07349243807373151\n",
      "Training model:  61\n"
     ]
    },
    {
     "name": "stderr",
     "output_type": "stream",
     "text": [
      "100%|██████████████████████████████████████████████████████████████████████████████████| 80/80 [00:01<00:00, 65.83it/s]\n"
     ]
    },
    {
     "name": "stdout",
     "output_type": "stream",
     "text": [
      "Best params:  {'C': 1, 'epsilon': 0.01, 'gamma': 1, 'kernel': 'rbf'}\n",
      "Best rmse:  0.07446697550608337\n",
      "Training model:  62\n"
     ]
    },
    {
     "name": "stderr",
     "output_type": "stream",
     "text": [
      "100%|██████████████████████████████████████████████████████████████████████████████████| 80/80 [00:01<00:00, 65.77it/s]\n"
     ]
    },
    {
     "name": "stdout",
     "output_type": "stream",
     "text": [
      "Best params:  {'C': 1, 'epsilon': 0.1, 'gamma': 1, 'kernel': 'rbf'}\n",
      "Best rmse:  0.10398339896825172\n",
      "Training model:  63\n"
     ]
    },
    {
     "name": "stderr",
     "output_type": "stream",
     "text": [
      "100%|██████████████████████████████████████████████████████████████████████████████████| 80/80 [00:01<00:00, 64.45it/s]\n"
     ]
    },
    {
     "name": "stdout",
     "output_type": "stream",
     "text": [
      "Best params:  {'C': 1, 'epsilon': 0.001, 'gamma': 1, 'kernel': 'rbf'}\n",
      "Best rmse:  0.09346169570665876\n",
      "Training model:  64\n"
     ]
    },
    {
     "name": "stderr",
     "output_type": "stream",
     "text": [
      "100%|██████████████████████████████████████████████████████████████████████████████████| 80/80 [00:01<00:00, 65.61it/s]\n"
     ]
    },
    {
     "name": "stdout",
     "output_type": "stream",
     "text": [
      "Best params:  {'C': 10, 'epsilon': 0.01, 'gamma': 0.1, 'kernel': 'rbf'}\n",
      "Best rmse:  0.10211587158735938\n",
      "Training model:  65\n"
     ]
    },
    {
     "name": "stderr",
     "output_type": "stream",
     "text": [
      "100%|██████████████████████████████████████████████████████████████████████████████████| 80/80 [00:01<00:00, 66.16it/s]\n"
     ]
    },
    {
     "name": "stdout",
     "output_type": "stream",
     "text": [
      "Best params:  {'C': 1, 'epsilon': 0.01, 'gamma': 1, 'kernel': 'rbf'}\n",
      "Best rmse:  0.09008501968549315\n",
      "Training model:  66\n"
     ]
    },
    {
     "name": "stderr",
     "output_type": "stream",
     "text": [
      "100%|██████████████████████████████████████████████████████████████████████████████████| 80/80 [00:01<00:00, 65.61it/s]\n"
     ]
    },
    {
     "name": "stdout",
     "output_type": "stream",
     "text": [
      "Best params:  {'C': 1, 'epsilon': 0.01, 'gamma': 1, 'kernel': 'rbf'}\n",
      "Best rmse:  0.0735360861248343\n",
      "Training model:  67\n"
     ]
    },
    {
     "name": "stderr",
     "output_type": "stream",
     "text": [
      "100%|██████████████████████████████████████████████████████████████████████████████████| 80/80 [00:01<00:00, 66.10it/s]\n"
     ]
    },
    {
     "name": "stdout",
     "output_type": "stream",
     "text": [
      "Best params:  {'C': 1, 'epsilon': 0.01, 'gamma': 1, 'kernel': 'rbf'}\n",
      "Best rmse:  0.08765827536876264\n",
      "Training model:  68\n"
     ]
    },
    {
     "name": "stderr",
     "output_type": "stream",
     "text": [
      "100%|██████████████████████████████████████████████████████████████████████████████████| 80/80 [00:01<00:00, 65.40it/s]\n"
     ]
    },
    {
     "name": "stdout",
     "output_type": "stream",
     "text": [
      "Best params:  {'C': 10, 'epsilon': 0.1, 'gamma': 1, 'kernel': 'rbf'}\n",
      "Best rmse:  0.10466592694646534\n",
      "Training model:  69\n"
     ]
    },
    {
     "name": "stderr",
     "output_type": "stream",
     "text": [
      "100%|██████████████████████████████████████████████████████████████████████████████████| 80/80 [00:01<00:00, 65.61it/s]\n"
     ]
    },
    {
     "name": "stdout",
     "output_type": "stream",
     "text": [
      "Best params:  {'C': 1, 'epsilon': 0.01, 'gamma': 1, 'kernel': 'rbf'}\n",
      "Best rmse:  0.06460090041687784\n",
      "Training model:  70\n"
     ]
    },
    {
     "name": "stderr",
     "output_type": "stream",
     "text": [
      "100%|██████████████████████████████████████████████████████████████████████████████████| 80/80 [00:01<00:00, 65.24it/s]\n"
     ]
    },
    {
     "name": "stdout",
     "output_type": "stream",
     "text": [
      "Best params:  {'C': 1, 'epsilon': 0.01, 'gamma': 1, 'kernel': 'rbf'}\n",
      "Best rmse:  0.0983501258327152\n",
      "Training model:  71\n"
     ]
    },
    {
     "name": "stderr",
     "output_type": "stream",
     "text": [
      "100%|██████████████████████████████████████████████████████████████████████████████████| 80/80 [00:01<00:00, 66.32it/s]\n"
     ]
    },
    {
     "name": "stdout",
     "output_type": "stream",
     "text": [
      "Best params:  {'C': 1, 'epsilon': 0.01, 'gamma': 1, 'kernel': 'rbf'}\n",
      "Best rmse:  0.07758396316731363\n",
      "Training model:  72\n"
     ]
    },
    {
     "name": "stderr",
     "output_type": "stream",
     "text": [
      "100%|██████████████████████████████████████████████████████████████████████████████████| 80/80 [00:01<00:00, 65.83it/s]\n"
     ]
    },
    {
     "name": "stdout",
     "output_type": "stream",
     "text": [
      "Best params:  {'C': 1, 'epsilon': 0.01, 'gamma': 1, 'kernel': 'rbf'}\n",
      "Best rmse:  0.08961830951878023\n",
      "Training model:  73\n"
     ]
    },
    {
     "name": "stderr",
     "output_type": "stream",
     "text": [
      "100%|██████████████████████████████████████████████████████████████████████████████████| 80/80 [00:01<00:00, 65.72it/s]\n"
     ]
    },
    {
     "name": "stdout",
     "output_type": "stream",
     "text": [
      "Best params:  {'C': 1, 'epsilon': 0.01, 'gamma': 1, 'kernel': 'rbf'}\n",
      "Best rmse:  0.08705943987001522\n",
      "Training model:  74\n"
     ]
    },
    {
     "name": "stderr",
     "output_type": "stream",
     "text": [
      "100%|██████████████████████████████████████████████████████████████████████████████████| 80/80 [00:01<00:00, 64.97it/s]\n"
     ]
    },
    {
     "name": "stdout",
     "output_type": "stream",
     "text": [
      "Best params:  {'C': 1, 'epsilon': 0.01, 'gamma': 1, 'kernel': 'rbf'}\n",
      "Best rmse:  0.06343426307855649\n",
      "Training model:  75\n"
     ]
    },
    {
     "name": "stderr",
     "output_type": "stream",
     "text": [
      "100%|██████████████████████████████████████████████████████████████████████████████████| 80/80 [00:01<00:00, 64.45it/s]\n"
     ]
    },
    {
     "name": "stdout",
     "output_type": "stream",
     "text": [
      "Best params:  {'C': 1, 'epsilon': 0.01, 'gamma': 1, 'kernel': 'rbf'}\n",
      "Best rmse:  0.07256281194861063\n",
      "Training model:  76\n"
     ]
    },
    {
     "name": "stderr",
     "output_type": "stream",
     "text": [
      "100%|██████████████████████████████████████████████████████████████████████████████████| 80/80 [00:01<00:00, 61.05it/s]\n"
     ]
    },
    {
     "name": "stdout",
     "output_type": "stream",
     "text": [
      "Best params:  {'C': 1, 'epsilon': 0.1, 'gamma': 1, 'kernel': 'rbf'}\n",
      "Best rmse:  0.08930543007427634\n",
      "Training model:  77\n"
     ]
    },
    {
     "name": "stderr",
     "output_type": "stream",
     "text": [
      "100%|██████████████████████████████████████████████████████████████████████████████████| 80/80 [00:01<00:00, 63.08it/s]\n"
     ]
    },
    {
     "name": "stdout",
     "output_type": "stream",
     "text": [
      "Best params:  {'C': 1, 'epsilon': 0.01, 'gamma': 1, 'kernel': 'rbf'}\n",
      "Best rmse:  0.06705972015197438\n",
      "Training model:  78\n"
     ]
    },
    {
     "name": "stderr",
     "output_type": "stream",
     "text": [
      "100%|██████████████████████████████████████████████████████████████████████████████████| 80/80 [00:01<00:00, 65.13it/s]\n"
     ]
    },
    {
     "name": "stdout",
     "output_type": "stream",
     "text": [
      "Best params:  {'C': 1, 'epsilon': 0.01, 'gamma': 1, 'kernel': 'rbf'}\n",
      "Best rmse:  0.08638247749205047\n",
      "Training model:  79\n"
     ]
    },
    {
     "name": "stderr",
     "output_type": "stream",
     "text": [
      "100%|██████████████████████████████████████████████████████████████████████████████████| 80/80 [00:01<00:00, 65.61it/s]\n"
     ]
    },
    {
     "name": "stdout",
     "output_type": "stream",
     "text": [
      "Best params:  {'C': 1, 'epsilon': 0.001, 'gamma': 1, 'kernel': 'rbf'}\n",
      "Best rmse:  0.07697165328301603\n",
      "Training model:  80\n"
     ]
    },
    {
     "name": "stderr",
     "output_type": "stream",
     "text": [
      "100%|██████████████████████████████████████████████████████████████████████████████████| 80/80 [00:01<00:00, 65.08it/s]\n"
     ]
    },
    {
     "name": "stdout",
     "output_type": "stream",
     "text": [
      "Best params:  {'C': 1, 'epsilon': 0.01, 'gamma': 1, 'kernel': 'rbf'}\n",
      "Best rmse:  0.08616903844656264\n",
      "Training model:  81\n"
     ]
    },
    {
     "name": "stderr",
     "output_type": "stream",
     "text": [
      "100%|██████████████████████████████████████████████████████████████████████████████████| 80/80 [00:01<00:00, 65.29it/s]\n"
     ]
    },
    {
     "name": "stdout",
     "output_type": "stream",
     "text": [
      "Best params:  {'C': 100, 'epsilon': 0.1, 'gamma': 0.1, 'kernel': 'rbf'}\n",
      "Best rmse:  0.08646982659834962\n",
      "Training model:  82\n"
     ]
    },
    {
     "name": "stderr",
     "output_type": "stream",
     "text": [
      "100%|██████████████████████████████████████████████████████████████████████████████████| 80/80 [00:01<00:00, 65.24it/s]\n"
     ]
    },
    {
     "name": "stdout",
     "output_type": "stream",
     "text": [
      "Best params:  {'C': 10, 'epsilon': 0.1, 'gamma': 1, 'kernel': 'rbf'}\n",
      "Best rmse:  0.09714441858837279\n",
      "Training model:  83\n"
     ]
    },
    {
     "name": "stderr",
     "output_type": "stream",
     "text": [
      "100%|██████████████████████████████████████████████████████████████████████████████████| 80/80 [00:01<00:00, 65.29it/s]\n"
     ]
    },
    {
     "name": "stdout",
     "output_type": "stream",
     "text": [
      "Best params:  {'C': 1, 'epsilon': 1e-05, 'gamma': 1, 'kernel': 'rbf'}\n",
      "Best rmse:  0.09830293087189239\n",
      "Training model:  84\n"
     ]
    },
    {
     "name": "stderr",
     "output_type": "stream",
     "text": [
      "100%|██████████████████████████████████████████████████████████████████████████████████| 80/80 [00:01<00:00, 64.87it/s]\n"
     ]
    },
    {
     "name": "stdout",
     "output_type": "stream",
     "text": [
      "Best params:  {'C': 10, 'epsilon': 0.1, 'gamma': 1, 'kernel': 'rbf'}\n",
      "Best rmse:  0.07982704497838639\n",
      "Training model:  85\n"
     ]
    },
    {
     "name": "stderr",
     "output_type": "stream",
     "text": [
      "100%|██████████████████████████████████████████████████████████████████████████████████| 80/80 [00:01<00:00, 65.45it/s]\n"
     ]
    },
    {
     "name": "stdout",
     "output_type": "stream",
     "text": [
      "Best params:  {'C': 10, 'epsilon': 0.1, 'gamma': 0.001, 'kernel': 'rbf'}\n",
      "Best rmse:  0.07208260125093614\n",
      "Training model:  86\n"
     ]
    },
    {
     "name": "stderr",
     "output_type": "stream",
     "text": [
      "100%|██████████████████████████████████████████████████████████████████████████████████| 80/80 [00:01<00:00, 65.34it/s]\n"
     ]
    },
    {
     "name": "stdout",
     "output_type": "stream",
     "text": [
      "Best params:  {'C': 1, 'epsilon': 0.001, 'gamma': 1, 'kernel': 'rbf'}\n",
      "Best rmse:  0.07595420447439546\n",
      "Training model:  87\n"
     ]
    },
    {
     "name": "stderr",
     "output_type": "stream",
     "text": [
      "100%|██████████████████████████████████████████████████████████████████████████████████| 80/80 [00:01<00:00, 65.34it/s]\n"
     ]
    },
    {
     "name": "stdout",
     "output_type": "stream",
     "text": [
      "Best params:  {'C': 1, 'epsilon': 0.01, 'gamma': 1, 'kernel': 'rbf'}\n",
      "Best rmse:  0.08227075840261572\n",
      "Training model:  88\n"
     ]
    },
    {
     "name": "stderr",
     "output_type": "stream",
     "text": [
      "100%|██████████████████████████████████████████████████████████████████████████████████| 80/80 [00:01<00:00, 65.40it/s]\n"
     ]
    },
    {
     "name": "stdout",
     "output_type": "stream",
     "text": [
      "Best params:  {'C': 1, 'epsilon': 0.01, 'gamma': 1, 'kernel': 'rbf'}\n",
      "Best rmse:  0.10929104884176123\n",
      "Training model:  89\n"
     ]
    },
    {
     "name": "stderr",
     "output_type": "stream",
     "text": [
      "100%|██████████████████████████████████████████████████████████████████████████████████| 80/80 [00:01<00:00, 65.13it/s]\n"
     ]
    },
    {
     "name": "stdout",
     "output_type": "stream",
     "text": [
      "Best params:  {'C': 10, 'epsilon': 0.01, 'gamma': 1, 'kernel': 'rbf'}\n",
      "Best rmse:  0.07835987980551086\n",
      "Training model:  90\n"
     ]
    },
    {
     "name": "stderr",
     "output_type": "stream",
     "text": [
      "100%|██████████████████████████████████████████████████████████████████████████████████| 80/80 [00:01<00:00, 64.76it/s]\n"
     ]
    },
    {
     "name": "stdout",
     "output_type": "stream",
     "text": [
      "Best params:  {'C': 10, 'epsilon': 0.1, 'gamma': 0.001, 'kernel': 'rbf'}\n",
      "Best rmse:  0.09990623389528581\n",
      "Training model:  91\n"
     ]
    },
    {
     "name": "stderr",
     "output_type": "stream",
     "text": [
      "100%|██████████████████████████████████████████████████████████████████████████████████| 80/80 [00:01<00:00, 64.87it/s]\n"
     ]
    },
    {
     "name": "stdout",
     "output_type": "stream",
     "text": [
      "Best params:  {'C': 1, 'epsilon': 0.01, 'gamma': 1, 'kernel': 'rbf'}\n",
      "Best rmse:  0.0909053651862522\n",
      "Training model:  92\n"
     ]
    },
    {
     "name": "stderr",
     "output_type": "stream",
     "text": [
      "100%|██████████████████████████████████████████████████████████████████████████████████| 80/80 [00:01<00:00, 65.40it/s]\n"
     ]
    },
    {
     "name": "stdout",
     "output_type": "stream",
     "text": [
      "Best params:  {'C': 1, 'epsilon': 0.01, 'gamma': 1, 'kernel': 'rbf'}\n",
      "Best rmse:  0.07405381357209984\n",
      "Training model:  93\n"
     ]
    },
    {
     "name": "stderr",
     "output_type": "stream",
     "text": [
      "100%|██████████████████████████████████████████████████████████████████████████████████| 80/80 [00:01<00:00, 65.72it/s]\n"
     ]
    },
    {
     "name": "stdout",
     "output_type": "stream",
     "text": [
      "Best params:  {'C': 100, 'epsilon': 0.1, 'gamma': 1, 'kernel': 'rbf'}\n",
      "Best rmse:  0.08378246946739543\n",
      "Training model:  94\n"
     ]
    },
    {
     "name": "stderr",
     "output_type": "stream",
     "text": [
      "100%|██████████████████████████████████████████████████████████████████████████████████| 80/80 [00:01<00:00, 65.72it/s]\n"
     ]
    },
    {
     "name": "stdout",
     "output_type": "stream",
     "text": [
      "Best params:  {'C': 1, 'epsilon': 1e-05, 'gamma': 1, 'kernel': 'rbf'}\n",
      "Best rmse:  0.07848400145408961\n",
      "Training model:  95\n"
     ]
    },
    {
     "name": "stderr",
     "output_type": "stream",
     "text": [
      "100%|██████████████████████████████████████████████████████████████████████████████████| 80/80 [00:01<00:00, 65.34it/s]\n"
     ]
    },
    {
     "name": "stdout",
     "output_type": "stream",
     "text": [
      "Best params:  {'C': 1, 'epsilon': 0.01, 'gamma': 1, 'kernel': 'rbf'}\n",
      "Best rmse:  0.08184246913259945\n",
      "Training model:  96\n"
     ]
    },
    {
     "name": "stderr",
     "output_type": "stream",
     "text": [
      "100%|██████████████████████████████████████████████████████████████████████████████████| 80/80 [00:01<00:00, 65.24it/s]\n"
     ]
    },
    {
     "name": "stdout",
     "output_type": "stream",
     "text": [
      "Best params:  {'C': 10, 'epsilon': 0.1, 'gamma': 0.001, 'kernel': 'rbf'}\n",
      "Best rmse:  0.09078150010940701\n",
      "Training model:  97\n"
     ]
    },
    {
     "name": "stderr",
     "output_type": "stream",
     "text": [
      "100%|██████████████████████████████████████████████████████████████████████████████████| 80/80 [00:01<00:00, 65.99it/s]\n"
     ]
    },
    {
     "name": "stdout",
     "output_type": "stream",
     "text": [
      "Best params:  {'C': 1, 'epsilon': 0.1, 'gamma': 0.001, 'kernel': 'rbf'}\n",
      "Best rmse:  0.08751819054384223\n",
      "Training model:  98\n"
     ]
    },
    {
     "name": "stderr",
     "output_type": "stream",
     "text": [
      "100%|██████████████████████████████████████████████████████████████████████████████████| 80/80 [00:01<00:00, 65.45it/s]\n"
     ]
    },
    {
     "name": "stdout",
     "output_type": "stream",
     "text": [
      "Best params:  {'C': 1, 'epsilon': 0.1, 'gamma': 1, 'kernel': 'rbf'}\n",
      "Best rmse:  0.09367513687057435\n",
      "Training model:  99\n"
     ]
    },
    {
     "name": "stderr",
     "output_type": "stream",
     "text": [
      "100%|██████████████████████████████████████████████████████████████████████████████████| 80/80 [00:01<00:00, 65.83it/s]\n"
     ]
    },
    {
     "name": "stdout",
     "output_type": "stream",
     "text": [
      "Best params:  {'C': 10, 'epsilon': 0.1, 'gamma': 0.001, 'kernel': 'rbf'}\n",
      "Best rmse:  0.08322782858563435\n"
     ]
    },
    {
     "name": "stderr",
     "output_type": "stream",
     "text": [
      "100%|████████████████████████████████████████████████████████████████████████████████| 800/800 [04:30<00:00,  2.95it/s]\n"
     ]
    },
    {
     "name": "stdout",
     "output_type": "stream",
     "text": [
      "Best params:  {'comb': 'average', 'k': 2, 'n': 5}\n",
      "Best rmse:  2.448671577170162\n",
      "MSE: 0.0004661122835281884\n",
      "MAPE: 9.690177201109556\n",
      "ARV: 0.03183816899281718\n",
      "MAE: 0.016712996277948044\n",
      "RMSE: 0.021589633705280605\n",
      "NRMSE: 0.05050461743022561\n",
      "SMAPE: 9.52203613773185\n",
      "Time Series:  msft\n",
      "\n",
      "###############################################\n",
      "\n",
      "Executing: ENSEMBLE SVR\n",
      "d:  1\n",
      "Training model:  0\n"
     ]
    },
    {
     "name": "stderr",
     "output_type": "stream",
     "text": [
      "100%|██████████████████████████████████████████████████████████████████████████████████| 80/80 [00:01<00:00, 65.45it/s]\n"
     ]
    },
    {
     "name": "stdout",
     "output_type": "stream",
     "text": [
      "Best params:  {'C': 1, 'epsilon': 0.01, 'gamma': 1, 'kernel': 'rbf'}\n",
      "Best rmse:  0.12429305062436821\n",
      "Training model:  1\n"
     ]
    },
    {
     "name": "stderr",
     "output_type": "stream",
     "text": [
      "100%|██████████████████████████████████████████████████████████████████████████████████| 80/80 [00:01<00:00, 66.43it/s]\n"
     ]
    },
    {
     "name": "stdout",
     "output_type": "stream",
     "text": [
      "Best params:  {'C': 1, 'epsilon': 0.01, 'gamma': 1, 'kernel': 'rbf'}\n",
      "Best rmse:  0.13084343793002107\n",
      "Training model:  2\n"
     ]
    },
    {
     "name": "stderr",
     "output_type": "stream",
     "text": [
      "100%|██████████████████████████████████████████████████████████████████████████████████| 80/80 [00:01<00:00, 65.24it/s]\n"
     ]
    },
    {
     "name": "stdout",
     "output_type": "stream",
     "text": [
      "Best params:  {'C': 1, 'epsilon': 0.001, 'gamma': 1, 'kernel': 'rbf'}\n",
      "Best rmse:  0.13488503329120888\n",
      "Training model:  3\n"
     ]
    },
    {
     "name": "stderr",
     "output_type": "stream",
     "text": [
      "100%|██████████████████████████████████████████████████████████████████████████████████| 80/80 [00:01<00:00, 66.60it/s]\n"
     ]
    },
    {
     "name": "stdout",
     "output_type": "stream",
     "text": [
      "Best params:  {'C': 1, 'epsilon': 0.01, 'gamma': 1, 'kernel': 'rbf'}\n",
      "Best rmse:  0.1482136285860248\n",
      "Training model:  4\n"
     ]
    },
    {
     "name": "stderr",
     "output_type": "stream",
     "text": [
      "100%|██████████████████████████████████████████████████████████████████████████████████| 80/80 [00:01<00:00, 66.10it/s]\n"
     ]
    },
    {
     "name": "stdout",
     "output_type": "stream",
     "text": [
      "Best params:  {'C': 1, 'epsilon': 0.01, 'gamma': 1, 'kernel': 'rbf'}\n",
      "Best rmse:  0.12697681176955505\n",
      "Training model:  5\n"
     ]
    },
    {
     "name": "stderr",
     "output_type": "stream",
     "text": [
      "100%|██████████████████████████████████████████████████████████████████████████████████| 80/80 [00:01<00:00, 66.32it/s]\n"
     ]
    },
    {
     "name": "stdout",
     "output_type": "stream",
     "text": [
      "Best params:  {'C': 10, 'epsilon': 0.01, 'gamma': 1, 'kernel': 'rbf'}\n",
      "Best rmse:  0.1423531440135172\n",
      "Training model:  6\n"
     ]
    },
    {
     "name": "stderr",
     "output_type": "stream",
     "text": [
      "100%|██████████████████████████████████████████████████████████████████████████████████| 80/80 [00:01<00:00, 66.60it/s]\n"
     ]
    },
    {
     "name": "stdout",
     "output_type": "stream",
     "text": [
      "Best params:  {'C': 1, 'epsilon': 0.01, 'gamma': 1, 'kernel': 'rbf'}\n",
      "Best rmse:  0.11844026525808872\n",
      "Training model:  7\n"
     ]
    },
    {
     "name": "stderr",
     "output_type": "stream",
     "text": [
      "100%|██████████████████████████████████████████████████████████████████████████████████| 80/80 [00:01<00:00, 65.83it/s]\n"
     ]
    },
    {
     "name": "stdout",
     "output_type": "stream",
     "text": [
      "Best params:  {'C': 1, 'epsilon': 0.01, 'gamma': 1, 'kernel': 'rbf'}\n",
      "Best rmse:  0.14366874981314703\n",
      "Training model:  8\n"
     ]
    },
    {
     "name": "stderr",
     "output_type": "stream",
     "text": [
      "100%|██████████████████████████████████████████████████████████████████████████████████| 80/80 [00:01<00:00, 65.83it/s]\n"
     ]
    },
    {
     "name": "stdout",
     "output_type": "stream",
     "text": [
      "Best params:  {'C': 1, 'epsilon': 0.01, 'gamma': 1, 'kernel': 'rbf'}\n",
      "Best rmse:  0.13467239540341747\n",
      "Training model:  9\n"
     ]
    },
    {
     "name": "stderr",
     "output_type": "stream",
     "text": [
      "100%|██████████████████████████████████████████████████████████████████████████████████| 80/80 [00:01<00:00, 65.72it/s]\n"
     ]
    },
    {
     "name": "stdout",
     "output_type": "stream",
     "text": [
      "Best params:  {'C': 10, 'epsilon': 0.1, 'gamma': 1, 'kernel': 'rbf'}\n",
      "Best rmse:  0.14224841407418398\n",
      "Training model:  10\n"
     ]
    },
    {
     "name": "stderr",
     "output_type": "stream",
     "text": [
      "100%|██████████████████████████████████████████████████████████████████████████████████| 80/80 [00:01<00:00, 65.61it/s]\n"
     ]
    },
    {
     "name": "stdout",
     "output_type": "stream",
     "text": [
      "Best params:  {'C': 1, 'epsilon': 0.01, 'gamma': 1, 'kernel': 'rbf'}\n",
      "Best rmse:  0.11693566056669634\n",
      "Training model:  11\n"
     ]
    },
    {
     "name": "stderr",
     "output_type": "stream",
     "text": [
      "100%|██████████████████████████████████████████████████████████████████████████████████| 80/80 [00:01<00:00, 66.65it/s]\n"
     ]
    },
    {
     "name": "stdout",
     "output_type": "stream",
     "text": [
      "Best params:  {'C': 1, 'epsilon': 0.01, 'gamma': 0.001, 'kernel': 'rbf'}\n",
      "Best rmse:  0.18838461331361012\n",
      "Training model:  12\n"
     ]
    },
    {
     "name": "stderr",
     "output_type": "stream",
     "text": [
      "100%|██████████████████████████████████████████████████████████████████████████████████| 80/80 [00:01<00:00, 65.94it/s]\n"
     ]
    },
    {
     "name": "stdout",
     "output_type": "stream",
     "text": [
      "Best params:  {'C': 1, 'epsilon': 0.1, 'gamma': 1, 'kernel': 'rbf'}\n",
      "Best rmse:  0.13411515798773274\n",
      "Training model:  13\n"
     ]
    },
    {
     "name": "stderr",
     "output_type": "stream",
     "text": [
      "100%|██████████████████████████████████████████████████████████████████████████████████| 80/80 [00:01<00:00, 66.21it/s]\n"
     ]
    },
    {
     "name": "stdout",
     "output_type": "stream",
     "text": [
      "Best params:  {'C': 1, 'epsilon': 0.1, 'gamma': 1, 'kernel': 'rbf'}\n",
      "Best rmse:  0.15998300421278855\n",
      "Training model:  14\n"
     ]
    },
    {
     "name": "stderr",
     "output_type": "stream",
     "text": [
      "100%|██████████████████████████████████████████████████████████████████████████████████| 80/80 [00:01<00:00, 66.60it/s]\n"
     ]
    },
    {
     "name": "stdout",
     "output_type": "stream",
     "text": [
      "Best params:  {'C': 1, 'epsilon': 0.1, 'gamma': 1, 'kernel': 'rbf'}\n",
      "Best rmse:  0.1477628834372506\n",
      "Training model:  15\n"
     ]
    },
    {
     "name": "stderr",
     "output_type": "stream",
     "text": [
      "100%|██████████████████████████████████████████████████████████████████████████████████| 80/80 [00:01<00:00, 66.10it/s]\n"
     ]
    },
    {
     "name": "stdout",
     "output_type": "stream",
     "text": [
      "Best params:  {'C': 1, 'epsilon': 0.01, 'gamma': 1, 'kernel': 'rbf'}\n",
      "Best rmse:  0.1257990511000774\n",
      "Training model:  16\n"
     ]
    },
    {
     "name": "stderr",
     "output_type": "stream",
     "text": [
      "100%|██████████████████████████████████████████████████████████████████████████████████| 80/80 [00:01<00:00, 66.32it/s]\n"
     ]
    },
    {
     "name": "stdout",
     "output_type": "stream",
     "text": [
      "Best params:  {'C': 1, 'epsilon': 0.01, 'gamma': 1, 'kernel': 'rbf'}\n",
      "Best rmse:  0.13351741616607762\n",
      "Training model:  17\n"
     ]
    },
    {
     "name": "stderr",
     "output_type": "stream",
     "text": [
      "100%|██████████████████████████████████████████████████████████████████████████████████| 80/80 [00:01<00:00, 66.43it/s]\n"
     ]
    },
    {
     "name": "stdout",
     "output_type": "stream",
     "text": [
      "Best params:  {'C': 1, 'epsilon': 0.01, 'gamma': 1, 'kernel': 'rbf'}\n",
      "Best rmse:  0.12959614677301123\n",
      "Training model:  18\n"
     ]
    },
    {
     "name": "stderr",
     "output_type": "stream",
     "text": [
      "100%|██████████████████████████████████████████████████████████████████████████████████| 80/80 [00:01<00:00, 66.49it/s]\n"
     ]
    },
    {
     "name": "stdout",
     "output_type": "stream",
     "text": [
      "Best params:  {'C': 1, 'epsilon': 0.1, 'gamma': 1, 'kernel': 'rbf'}\n",
      "Best rmse:  0.15630666757722042\n",
      "Training model:  19\n"
     ]
    },
    {
     "name": "stderr",
     "output_type": "stream",
     "text": [
      "100%|██████████████████████████████████████████████████████████████████████████████████| 80/80 [00:01<00:00, 66.16it/s]\n"
     ]
    },
    {
     "name": "stdout",
     "output_type": "stream",
     "text": [
      "Best params:  {'C': 1, 'epsilon': 0.01, 'gamma': 1, 'kernel': 'rbf'}\n",
      "Best rmse:  0.1514617212173387\n",
      "Training model:  20\n"
     ]
    },
    {
     "name": "stderr",
     "output_type": "stream",
     "text": [
      "100%|██████████████████████████████████████████████████████████████████████████████████| 80/80 [00:01<00:00, 66.43it/s]\n"
     ]
    },
    {
     "name": "stdout",
     "output_type": "stream",
     "text": [
      "Best params:  {'C': 1, 'epsilon': 0.01, 'gamma': 1, 'kernel': 'rbf'}\n",
      "Best rmse:  0.13188043888399414\n",
      "Training model:  21\n"
     ]
    },
    {
     "name": "stderr",
     "output_type": "stream",
     "text": [
      "100%|██████████████████████████████████████████████████████████████████████████████████| 80/80 [00:01<00:00, 66.16it/s]\n"
     ]
    },
    {
     "name": "stdout",
     "output_type": "stream",
     "text": [
      "Best params:  {'C': 1, 'epsilon': 0.1, 'gamma': 0.001, 'kernel': 'rbf'}\n",
      "Best rmse:  0.15751585246104705\n",
      "Training model:  22\n"
     ]
    },
    {
     "name": "stderr",
     "output_type": "stream",
     "text": [
      "100%|██████████████████████████████████████████████████████████████████████████████████| 80/80 [00:01<00:00, 66.49it/s]\n"
     ]
    },
    {
     "name": "stdout",
     "output_type": "stream",
     "text": [
      "Best params:  {'C': 1, 'epsilon': 0.0001, 'gamma': 1, 'kernel': 'rbf'}\n",
      "Best rmse:  0.12084622042453406\n",
      "Training model:  23\n"
     ]
    },
    {
     "name": "stderr",
     "output_type": "stream",
     "text": [
      "100%|██████████████████████████████████████████████████████████████████████████████████| 80/80 [00:01<00:00, 66.43it/s]\n"
     ]
    },
    {
     "name": "stdout",
     "output_type": "stream",
     "text": [
      "Best params:  {'C': 10, 'epsilon': 0.1, 'gamma': 1, 'kernel': 'rbf'}\n",
      "Best rmse:  0.13703623663015072\n",
      "Training model:  24\n"
     ]
    },
    {
     "name": "stderr",
     "output_type": "stream",
     "text": [
      "100%|██████████████████████████████████████████████████████████████████████████████████| 80/80 [00:01<00:00, 66.82it/s]\n"
     ]
    },
    {
     "name": "stdout",
     "output_type": "stream",
     "text": [
      "Best params:  {'C': 10, 'epsilon': 0.01, 'gamma': 1, 'kernel': 'rbf'}\n",
      "Best rmse:  0.11696933211730888\n",
      "Training model:  25\n"
     ]
    },
    {
     "name": "stderr",
     "output_type": "stream",
     "text": [
      "100%|██████████████████████████████████████████████████████████████████████████████████| 80/80 [00:01<00:00, 66.38it/s]\n"
     ]
    },
    {
     "name": "stdout",
     "output_type": "stream",
     "text": [
      "Best params:  {'C': 1, 'epsilon': 0.01, 'gamma': 1, 'kernel': 'rbf'}\n",
      "Best rmse:  0.11791931278798941\n",
      "Training model:  26\n"
     ]
    },
    {
     "name": "stderr",
     "output_type": "stream",
     "text": [
      "100%|██████████████████████████████████████████████████████████████████████████████████| 80/80 [00:01<00:00, 66.05it/s]\n"
     ]
    },
    {
     "name": "stdout",
     "output_type": "stream",
     "text": [
      "Best params:  {'C': 1, 'epsilon': 0.01, 'gamma': 0.001, 'kernel': 'rbf'}\n",
      "Best rmse:  0.15696979842499664\n",
      "Training model:  27\n"
     ]
    },
    {
     "name": "stderr",
     "output_type": "stream",
     "text": [
      "100%|██████████████████████████████████████████████████████████████████████████████████| 80/80 [00:01<00:00, 66.16it/s]\n"
     ]
    },
    {
     "name": "stdout",
     "output_type": "stream",
     "text": [
      "Best params:  {'C': 1, 'epsilon': 0.01, 'gamma': 1, 'kernel': 'rbf'}\n",
      "Best rmse:  0.14825575406439614\n",
      "Training model:  28\n"
     ]
    },
    {
     "name": "stderr",
     "output_type": "stream",
     "text": [
      "100%|██████████████████████████████████████████████████████████████████████████████████| 80/80 [00:01<00:00, 65.99it/s]\n"
     ]
    },
    {
     "name": "stdout",
     "output_type": "stream",
     "text": [
      "Best params:  {'C': 1, 'epsilon': 0.01, 'gamma': 1, 'kernel': 'rbf'}\n",
      "Best rmse:  0.11676034549144618\n",
      "Training model:  29\n"
     ]
    },
    {
     "name": "stderr",
     "output_type": "stream",
     "text": [
      "100%|██████████████████████████████████████████████████████████████████████████████████| 80/80 [00:01<00:00, 66.49it/s]\n"
     ]
    },
    {
     "name": "stdout",
     "output_type": "stream",
     "text": [
      "Best params:  {'C': 1, 'epsilon': 0.01, 'gamma': 1, 'kernel': 'rbf'}\n",
      "Best rmse:  0.13852311593695882\n",
      "Training model:  30\n"
     ]
    },
    {
     "name": "stderr",
     "output_type": "stream",
     "text": [
      "100%|██████████████████████████████████████████████████████████████████████████████████| 80/80 [00:01<00:00, 65.51it/s]\n"
     ]
    },
    {
     "name": "stdout",
     "output_type": "stream",
     "text": [
      "Best params:  {'C': 1, 'epsilon': 0.01, 'gamma': 1, 'kernel': 'rbf'}\n",
      "Best rmse:  0.12350978971270306\n",
      "Training model:  31\n"
     ]
    },
    {
     "name": "stderr",
     "output_type": "stream",
     "text": [
      "100%|██████████████████████████████████████████████████████████████████████████████████| 80/80 [00:01<00:00, 65.94it/s]\n"
     ]
    },
    {
     "name": "stdout",
     "output_type": "stream",
     "text": [
      "Best params:  {'C': 1, 'epsilon': 0.01, 'gamma': 1, 'kernel': 'rbf'}\n",
      "Best rmse:  0.11552656544737273\n",
      "Training model:  32\n"
     ]
    },
    {
     "name": "stderr",
     "output_type": "stream",
     "text": [
      "100%|██████████████████████████████████████████████████████████████████████████████████| 80/80 [00:01<00:00, 65.83it/s]\n"
     ]
    },
    {
     "name": "stdout",
     "output_type": "stream",
     "text": [
      "Best params:  {'C': 1, 'epsilon': 0.01, 'gamma': 1, 'kernel': 'rbf'}\n",
      "Best rmse:  0.135723867138319\n",
      "Training model:  33\n"
     ]
    },
    {
     "name": "stderr",
     "output_type": "stream",
     "text": [
      "100%|██████████████████████████████████████████████████████████████████████████████████| 80/80 [00:01<00:00, 66.60it/s]\n"
     ]
    },
    {
     "name": "stdout",
     "output_type": "stream",
     "text": [
      "Best params:  {'C': 1, 'epsilon': 0.01, 'gamma': 1, 'kernel': 'rbf'}\n",
      "Best rmse:  0.13339095295464462\n",
      "Training model:  34\n"
     ]
    },
    {
     "name": "stderr",
     "output_type": "stream",
     "text": [
      "100%|██████████████████████████████████████████████████████████████████████████████████| 80/80 [00:01<00:00, 66.27it/s]\n"
     ]
    },
    {
     "name": "stdout",
     "output_type": "stream",
     "text": [
      "Best params:  {'C': 1, 'epsilon': 0.1, 'gamma': 1, 'kernel': 'rbf'}\n",
      "Best rmse:  0.14202139910333283\n",
      "Training model:  35\n"
     ]
    },
    {
     "name": "stderr",
     "output_type": "stream",
     "text": [
      "100%|██████████████████████████████████████████████████████████████████████████████████| 80/80 [00:01<00:00, 65.94it/s]\n"
     ]
    },
    {
     "name": "stdout",
     "output_type": "stream",
     "text": [
      "Best params:  {'C': 1, 'epsilon': 0.01, 'gamma': 1, 'kernel': 'rbf'}\n",
      "Best rmse:  0.13246606779074366\n",
      "Training model:  36\n"
     ]
    },
    {
     "name": "stderr",
     "output_type": "stream",
     "text": [
      "100%|██████████████████████████████████████████████████████████████████████████████████| 80/80 [00:01<00:00, 66.60it/s]\n"
     ]
    },
    {
     "name": "stdout",
     "output_type": "stream",
     "text": [
      "Best params:  {'C': 1, 'epsilon': 0.0001, 'gamma': 1, 'kernel': 'rbf'}\n",
      "Best rmse:  0.15522436830124517\n",
      "Training model:  37\n"
     ]
    },
    {
     "name": "stderr",
     "output_type": "stream",
     "text": [
      "100%|██████████████████████████████████████████████████████████████████████████████████| 80/80 [00:01<00:00, 65.83it/s]\n"
     ]
    },
    {
     "name": "stdout",
     "output_type": "stream",
     "text": [
      "Best params:  {'C': 1, 'epsilon': 0.01, 'gamma': 1, 'kernel': 'rbf'}\n",
      "Best rmse:  0.15520831552884676\n",
      "Training model:  38\n"
     ]
    },
    {
     "name": "stderr",
     "output_type": "stream",
     "text": [
      "100%|██████████████████████████████████████████████████████████████████████████████████| 80/80 [00:01<00:00, 66.43it/s]\n"
     ]
    },
    {
     "name": "stdout",
     "output_type": "stream",
     "text": [
      "Best params:  {'C': 1, 'epsilon': 0.01, 'gamma': 1, 'kernel': 'rbf'}\n",
      "Best rmse:  0.12146511522523461\n",
      "Training model:  39\n"
     ]
    },
    {
     "name": "stderr",
     "output_type": "stream",
     "text": [
      "100%|██████████████████████████████████████████████████████████████████████████████████| 80/80 [00:01<00:00, 66.38it/s]\n"
     ]
    },
    {
     "name": "stdout",
     "output_type": "stream",
     "text": [
      "Best params:  {'C': 1, 'epsilon': 0.01, 'gamma': 1, 'kernel': 'rbf'}\n",
      "Best rmse:  0.13804287473645677\n",
      "Training model:  40\n"
     ]
    },
    {
     "name": "stderr",
     "output_type": "stream",
     "text": [
      "100%|██████████████████████████████████████████████████████████████████████████████████| 80/80 [00:01<00:00, 65.40it/s]\n"
     ]
    },
    {
     "name": "stdout",
     "output_type": "stream",
     "text": [
      "Best params:  {'C': 1, 'epsilon': 0.01, 'gamma': 1, 'kernel': 'rbf'}\n",
      "Best rmse:  0.14074298676743277\n",
      "Training model:  41\n"
     ]
    },
    {
     "name": "stderr",
     "output_type": "stream",
     "text": [
      "100%|██████████████████████████████████████████████████████████████████████████████████| 80/80 [00:01<00:00, 66.10it/s]\n"
     ]
    },
    {
     "name": "stdout",
     "output_type": "stream",
     "text": [
      "Best params:  {'C': 1, 'epsilon': 0.01, 'gamma': 1, 'kernel': 'rbf'}\n",
      "Best rmse:  0.14698388222593575\n",
      "Training model:  42\n"
     ]
    },
    {
     "name": "stderr",
     "output_type": "stream",
     "text": [
      "100%|██████████████████████████████████████████████████████████████████████████████████| 80/80 [00:01<00:00, 65.67it/s]\n"
     ]
    },
    {
     "name": "stdout",
     "output_type": "stream",
     "text": [
      "Best params:  {'C': 1, 'epsilon': 0.1, 'gamma': 1, 'kernel': 'rbf'}\n",
      "Best rmse:  0.13801921088633398\n",
      "Training model:  43\n"
     ]
    },
    {
     "name": "stderr",
     "output_type": "stream",
     "text": [
      "100%|██████████████████████████████████████████████████████████████████████████████████| 80/80 [00:01<00:00, 66.54it/s]\n"
     ]
    },
    {
     "name": "stdout",
     "output_type": "stream",
     "text": [
      "Best params:  {'C': 1, 'epsilon': 0.01, 'gamma': 1, 'kernel': 'rbf'}\n",
      "Best rmse:  0.12447220895911594\n",
      "Training model:  44\n"
     ]
    },
    {
     "name": "stderr",
     "output_type": "stream",
     "text": [
      "100%|██████████████████████████████████████████████████████████████████████████████████| 80/80 [00:01<00:00, 66.65it/s]\n"
     ]
    },
    {
     "name": "stdout",
     "output_type": "stream",
     "text": [
      "Best params:  {'C': 10, 'epsilon': 0.01, 'gamma': 1, 'kernel': 'rbf'}\n",
      "Best rmse:  0.13584146436274686\n",
      "Training model:  45\n"
     ]
    },
    {
     "name": "stderr",
     "output_type": "stream",
     "text": [
      "100%|██████████████████████████████████████████████████████████████████████████████████| 80/80 [00:01<00:00, 66.05it/s]\n"
     ]
    },
    {
     "name": "stdout",
     "output_type": "stream",
     "text": [
      "Best params:  {'C': 1, 'epsilon': 0.01, 'gamma': 1, 'kernel': 'rbf'}\n",
      "Best rmse:  0.14959584935705303\n",
      "Training model:  46\n"
     ]
    },
    {
     "name": "stderr",
     "output_type": "stream",
     "text": [
      "100%|██████████████████████████████████████████████████████████████████████████████████| 80/80 [00:01<00:00, 65.77it/s]\n"
     ]
    },
    {
     "name": "stdout",
     "output_type": "stream",
     "text": [
      "Best params:  {'C': 1, 'epsilon': 0.01, 'gamma': 1, 'kernel': 'rbf'}\n",
      "Best rmse:  0.15537393124017265\n",
      "Training model:  47\n"
     ]
    },
    {
     "name": "stderr",
     "output_type": "stream",
     "text": [
      "100%|██████████████████████████████████████████████████████████████████████████████████| 80/80 [00:01<00:00, 66.05it/s]\n"
     ]
    },
    {
     "name": "stdout",
     "output_type": "stream",
     "text": [
      "Best params:  {'C': 1, 'epsilon': 0.1, 'gamma': 1, 'kernel': 'rbf'}\n",
      "Best rmse:  0.14806734124169965\n",
      "Training model:  48\n"
     ]
    },
    {
     "name": "stderr",
     "output_type": "stream",
     "text": [
      "100%|██████████████████████████████████████████████████████████████████████████████████| 80/80 [00:01<00:00, 66.32it/s]\n"
     ]
    },
    {
     "name": "stdout",
     "output_type": "stream",
     "text": [
      "Best params:  {'C': 1, 'epsilon': 0.0001, 'gamma': 1, 'kernel': 'rbf'}\n",
      "Best rmse:  0.1448549024132877\n",
      "Training model:  49\n"
     ]
    },
    {
     "name": "stderr",
     "output_type": "stream",
     "text": [
      "100%|██████████████████████████████████████████████████████████████████████████████████| 80/80 [00:01<00:00, 66.49it/s]\n"
     ]
    },
    {
     "name": "stdout",
     "output_type": "stream",
     "text": [
      "Best params:  {'C': 1, 'epsilon': 0.01, 'gamma': 1, 'kernel': 'rbf'}\n",
      "Best rmse:  0.15555404553260768\n",
      "Training model:  50\n"
     ]
    },
    {
     "name": "stderr",
     "output_type": "stream",
     "text": [
      "100%|██████████████████████████████████████████████████████████████████████████████████| 80/80 [00:01<00:00, 66.99it/s]\n"
     ]
    },
    {
     "name": "stdout",
     "output_type": "stream",
     "text": [
      "Best params:  {'C': 1, 'epsilon': 0.01, 'gamma': 1, 'kernel': 'rbf'}\n",
      "Best rmse:  0.13875611785520042\n",
      "Training model:  51\n"
     ]
    },
    {
     "name": "stderr",
     "output_type": "stream",
     "text": [
      "100%|██████████████████████████████████████████████████████████████████████████████████| 80/80 [00:01<00:00, 66.82it/s]\n"
     ]
    },
    {
     "name": "stdout",
     "output_type": "stream",
     "text": [
      "Best params:  {'C': 1, 'epsilon': 0.001, 'gamma': 1, 'kernel': 'rbf'}\n",
      "Best rmse:  0.17217269166257743\n",
      "Training model:  52\n"
     ]
    },
    {
     "name": "stderr",
     "output_type": "stream",
     "text": [
      "100%|██████████████████████████████████████████████████████████████████████████████████| 80/80 [00:01<00:00, 66.16it/s]\n"
     ]
    },
    {
     "name": "stdout",
     "output_type": "stream",
     "text": [
      "Best params:  {'C': 1, 'epsilon': 0.01, 'gamma': 1, 'kernel': 'rbf'}\n",
      "Best rmse:  0.1329313323703775\n",
      "Training model:  53\n"
     ]
    },
    {
     "name": "stderr",
     "output_type": "stream",
     "text": [
      "100%|██████████████████████████████████████████████████████████████████████████████████| 80/80 [00:01<00:00, 66.43it/s]\n"
     ]
    },
    {
     "name": "stdout",
     "output_type": "stream",
     "text": [
      "Best params:  {'C': 1, 'epsilon': 1e-05, 'gamma': 1, 'kernel': 'rbf'}\n",
      "Best rmse:  0.1510528889660736\n",
      "Training model:  54\n"
     ]
    },
    {
     "name": "stderr",
     "output_type": "stream",
     "text": [
      "100%|██████████████████████████████████████████████████████████████████████████████████| 80/80 [00:01<00:00, 66.60it/s]\n"
     ]
    },
    {
     "name": "stdout",
     "output_type": "stream",
     "text": [
      "Best params:  {'C': 1, 'epsilon': 0.001, 'gamma': 1, 'kernel': 'rbf'}\n",
      "Best rmse:  0.12251878501889447\n",
      "Training model:  55\n"
     ]
    },
    {
     "name": "stderr",
     "output_type": "stream",
     "text": [
      "100%|██████████████████████████████████████████████████████████████████████████████████| 80/80 [00:01<00:00, 66.71it/s]\n"
     ]
    },
    {
     "name": "stdout",
     "output_type": "stream",
     "text": [
      "Best params:  {'C': 1, 'epsilon': 0.01, 'gamma': 1, 'kernel': 'rbf'}\n",
      "Best rmse:  0.1314807250839928\n",
      "Training model:  56\n"
     ]
    },
    {
     "name": "stderr",
     "output_type": "stream",
     "text": [
      "100%|██████████████████████████████████████████████████████████████████████████████████| 80/80 [00:01<00:00, 66.32it/s]\n"
     ]
    },
    {
     "name": "stdout",
     "output_type": "stream",
     "text": [
      "Best params:  {'C': 1, 'epsilon': 0.1, 'gamma': 1, 'kernel': 'rbf'}\n",
      "Best rmse:  0.15512760614862567\n",
      "Training model:  57\n"
     ]
    },
    {
     "name": "stderr",
     "output_type": "stream",
     "text": [
      "100%|██████████████████████████████████████████████████████████████████████████████████| 80/80 [00:01<00:00, 66.43it/s]\n"
     ]
    },
    {
     "name": "stdout",
     "output_type": "stream",
     "text": [
      "Best params:  {'C': 1, 'epsilon': 0.001, 'gamma': 1, 'kernel': 'rbf'}\n",
      "Best rmse:  0.11051883993744548\n",
      "Training model:  58\n"
     ]
    },
    {
     "name": "stderr",
     "output_type": "stream",
     "text": [
      "100%|██████████████████████████████████████████████████████████████████████████████████| 80/80 [00:01<00:00, 66.65it/s]\n"
     ]
    },
    {
     "name": "stdout",
     "output_type": "stream",
     "text": [
      "Best params:  {'C': 1, 'epsilon': 0.01, 'gamma': 1, 'kernel': 'rbf'}\n",
      "Best rmse:  0.1441142559345419\n",
      "Training model:  59\n"
     ]
    },
    {
     "name": "stderr",
     "output_type": "stream",
     "text": [
      "100%|██████████████████████████████████████████████████████████████████████████████████| 80/80 [00:01<00:00, 66.43it/s]\n"
     ]
    },
    {
     "name": "stdout",
     "output_type": "stream",
     "text": [
      "Best params:  {'C': 1, 'epsilon': 0.1, 'gamma': 1, 'kernel': 'rbf'}\n",
      "Best rmse:  0.1568458573521808\n",
      "Training model:  60\n"
     ]
    },
    {
     "name": "stderr",
     "output_type": "stream",
     "text": [
      "100%|██████████████████████████████████████████████████████████████████████████████████| 80/80 [00:01<00:00, 65.88it/s]\n"
     ]
    },
    {
     "name": "stdout",
     "output_type": "stream",
     "text": [
      "Best params:  {'C': 1, 'epsilon': 0.01, 'gamma': 1, 'kernel': 'rbf'}\n",
      "Best rmse:  0.13368983168048718\n",
      "Training model:  61\n"
     ]
    },
    {
     "name": "stderr",
     "output_type": "stream",
     "text": [
      "100%|██████████████████████████████████████████████████████████████████████████████████| 80/80 [00:01<00:00, 66.32it/s]\n"
     ]
    },
    {
     "name": "stdout",
     "output_type": "stream",
     "text": [
      "Best params:  {'C': 1, 'epsilon': 0.1, 'gamma': 1, 'kernel': 'rbf'}\n",
      "Best rmse:  0.13752565101831002\n",
      "Training model:  62\n"
     ]
    },
    {
     "name": "stderr",
     "output_type": "stream",
     "text": [
      "100%|██████████████████████████████████████████████████████████████████████████████████| 80/80 [00:01<00:00, 65.94it/s]\n"
     ]
    },
    {
     "name": "stdout",
     "output_type": "stream",
     "text": [
      "Best params:  {'C': 1, 'epsilon': 0.01, 'gamma': 1, 'kernel': 'rbf'}\n",
      "Best rmse:  0.1304576065088878\n",
      "Training model:  63\n"
     ]
    },
    {
     "name": "stderr",
     "output_type": "stream",
     "text": [
      "100%|██████████████████████████████████████████████████████████████████████████████████| 80/80 [00:01<00:00, 66.49it/s]\n"
     ]
    },
    {
     "name": "stdout",
     "output_type": "stream",
     "text": [
      "Best params:  {'C': 1, 'epsilon': 0.01, 'gamma': 1, 'kernel': 'rbf'}\n",
      "Best rmse:  0.14187635639604604\n",
      "Training model:  64\n"
     ]
    },
    {
     "name": "stderr",
     "output_type": "stream",
     "text": [
      "100%|██████████████████████████████████████████████████████████████████████████████████| 80/80 [00:01<00:00, 66.21it/s]\n"
     ]
    },
    {
     "name": "stdout",
     "output_type": "stream",
     "text": [
      "Best params:  {'C': 1, 'epsilon': 0.01, 'gamma': 1, 'kernel': 'rbf'}\n",
      "Best rmse:  0.1018531295728298\n",
      "Training model:  65\n"
     ]
    },
    {
     "name": "stderr",
     "output_type": "stream",
     "text": [
      "100%|██████████████████████████████████████████████████████████████████████████████████| 80/80 [00:01<00:00, 66.21it/s]\n"
     ]
    },
    {
     "name": "stdout",
     "output_type": "stream",
     "text": [
      "Best params:  {'C': 1, 'epsilon': 0.01, 'gamma': 1, 'kernel': 'rbf'}\n",
      "Best rmse:  0.1520507325076954\n",
      "Training model:  66\n"
     ]
    },
    {
     "name": "stderr",
     "output_type": "stream",
     "text": [
      "100%|██████████████████████████████████████████████████████████████████████████████████| 80/80 [00:01<00:00, 66.38it/s]\n"
     ]
    },
    {
     "name": "stdout",
     "output_type": "stream",
     "text": [
      "Best params:  {'C': 100, 'epsilon': 0.1, 'gamma': 1, 'kernel': 'rbf'}\n",
      "Best rmse:  0.1396344557613835\n",
      "Training model:  67\n"
     ]
    },
    {
     "name": "stderr",
     "output_type": "stream",
     "text": [
      "100%|██████████████████████████████████████████████████████████████████████████████████| 80/80 [00:01<00:00, 66.27it/s]\n"
     ]
    },
    {
     "name": "stdout",
     "output_type": "stream",
     "text": [
      "Best params:  {'C': 1, 'epsilon': 0.01, 'gamma': 1, 'kernel': 'rbf'}\n",
      "Best rmse:  0.14569518698483103\n",
      "Training model:  68\n"
     ]
    },
    {
     "name": "stderr",
     "output_type": "stream",
     "text": [
      "100%|██████████████████████████████████████████████████████████████████████████████████| 80/80 [00:01<00:00, 66.10it/s]\n"
     ]
    },
    {
     "name": "stdout",
     "output_type": "stream",
     "text": [
      "Best params:  {'C': 1, 'epsilon': 0.001, 'gamma': 1, 'kernel': 'rbf'}\n",
      "Best rmse:  0.1331438572843045\n",
      "Training model:  69\n"
     ]
    },
    {
     "name": "stderr",
     "output_type": "stream",
     "text": [
      "100%|██████████████████████████████████████████████████████████████████████████████████| 80/80 [00:01<00:00, 65.77it/s]\n"
     ]
    },
    {
     "name": "stdout",
     "output_type": "stream",
     "text": [
      "Best params:  {'C': 1, 'epsilon': 0.01, 'gamma': 1, 'kernel': 'rbf'}\n",
      "Best rmse:  0.14471058791621147\n",
      "Training model:  70\n"
     ]
    },
    {
     "name": "stderr",
     "output_type": "stream",
     "text": [
      "100%|██████████████████████████████████████████████████████████████████████████████████| 80/80 [00:01<00:00, 65.40it/s]\n"
     ]
    },
    {
     "name": "stdout",
     "output_type": "stream",
     "text": [
      "Best params:  {'C': 1, 'epsilon': 0.01, 'gamma': 1, 'kernel': 'rbf'}\n",
      "Best rmse:  0.15107205554127182\n",
      "Training model:  71\n"
     ]
    },
    {
     "name": "stderr",
     "output_type": "stream",
     "text": [
      "100%|██████████████████████████████████████████████████████████████████████████████████| 80/80 [00:01<00:00, 66.38it/s]\n"
     ]
    },
    {
     "name": "stdout",
     "output_type": "stream",
     "text": [
      "Best params:  {'C': 1, 'epsilon': 0.01, 'gamma': 1, 'kernel': 'rbf'}\n",
      "Best rmse:  0.1391808727678871\n",
      "Training model:  72\n"
     ]
    },
    {
     "name": "stderr",
     "output_type": "stream",
     "text": [
      "100%|██████████████████████████████████████████████████████████████████████████████████| 80/80 [00:01<00:00, 66.99it/s]\n"
     ]
    },
    {
     "name": "stdout",
     "output_type": "stream",
     "text": [
      "Best params:  {'C': 100, 'epsilon': 0.1, 'gamma': 1, 'kernel': 'rbf'}\n",
      "Best rmse:  0.16334373065586033\n",
      "Training model:  73\n"
     ]
    },
    {
     "name": "stderr",
     "output_type": "stream",
     "text": [
      "100%|██████████████████████████████████████████████████████████████████████████████████| 80/80 [00:01<00:00, 66.43it/s]\n"
     ]
    },
    {
     "name": "stdout",
     "output_type": "stream",
     "text": [
      "Best params:  {'C': 1, 'epsilon': 0.01, 'gamma': 1, 'kernel': 'rbf'}\n",
      "Best rmse:  0.15679166478533352\n",
      "Training model:  74\n"
     ]
    },
    {
     "name": "stderr",
     "output_type": "stream",
     "text": [
      "100%|██████████████████████████████████████████████████████████████████████████████████| 80/80 [00:01<00:00, 66.05it/s]\n"
     ]
    },
    {
     "name": "stdout",
     "output_type": "stream",
     "text": [
      "Best params:  {'C': 1, 'epsilon': 0.01, 'gamma': 1, 'kernel': 'rbf'}\n",
      "Best rmse:  0.10728193627003534\n",
      "Training model:  75\n"
     ]
    },
    {
     "name": "stderr",
     "output_type": "stream",
     "text": [
      "100%|██████████████████████████████████████████████████████████████████████████████████| 80/80 [00:01<00:00, 65.99it/s]\n"
     ]
    },
    {
     "name": "stdout",
     "output_type": "stream",
     "text": [
      "Best params:  {'C': 1, 'epsilon': 0.001, 'gamma': 1, 'kernel': 'rbf'}\n",
      "Best rmse:  0.13999447227886008\n",
      "Training model:  76\n"
     ]
    },
    {
     "name": "stderr",
     "output_type": "stream",
     "text": [
      "100%|██████████████████████████████████████████████████████████████████████████████████| 80/80 [00:01<00:00, 66.60it/s]\n"
     ]
    },
    {
     "name": "stdout",
     "output_type": "stream",
     "text": [
      "Best params:  {'C': 1, 'epsilon': 0.01, 'gamma': 1, 'kernel': 'rbf'}\n",
      "Best rmse:  0.15118390438917292\n",
      "Training model:  77\n"
     ]
    },
    {
     "name": "stderr",
     "output_type": "stream",
     "text": [
      "100%|██████████████████████████████████████████████████████████████████████████████████| 80/80 [00:01<00:00, 65.99it/s]\n"
     ]
    },
    {
     "name": "stdout",
     "output_type": "stream",
     "text": [
      "Best params:  {'C': 1, 'epsilon': 0.01, 'gamma': 1, 'kernel': 'rbf'}\n",
      "Best rmse:  0.137894377977031\n",
      "Training model:  78\n"
     ]
    },
    {
     "name": "stderr",
     "output_type": "stream",
     "text": [
      "100%|██████████████████████████████████████████████████████████████████████████████████| 80/80 [00:01<00:00, 64.61it/s]\n"
     ]
    },
    {
     "name": "stdout",
     "output_type": "stream",
     "text": [
      "Best params:  {'C': 1, 'epsilon': 1e-05, 'gamma': 1, 'kernel': 'rbf'}\n",
      "Best rmse:  0.1442664344624075\n",
      "Training model:  79\n"
     ]
    },
    {
     "name": "stderr",
     "output_type": "stream",
     "text": [
      "100%|██████████████████████████████████████████████████████████████████████████████████| 80/80 [00:01<00:00, 65.88it/s]\n"
     ]
    },
    {
     "name": "stdout",
     "output_type": "stream",
     "text": [
      "Best params:  {'C': 1, 'epsilon': 0.01, 'gamma': 1, 'kernel': 'rbf'}\n",
      "Best rmse:  0.1435401915962079\n",
      "Training model:  80\n"
     ]
    },
    {
     "name": "stderr",
     "output_type": "stream",
     "text": [
      "100%|██████████████████████████████████████████████████████████████████████████████████| 80/80 [00:01<00:00, 66.49it/s]\n"
     ]
    },
    {
     "name": "stdout",
     "output_type": "stream",
     "text": [
      "Best params:  {'C': 1, 'epsilon': 0.1, 'gamma': 1, 'kernel': 'rbf'}\n",
      "Best rmse:  0.14993743000663065\n",
      "Training model:  81\n"
     ]
    },
    {
     "name": "stderr",
     "output_type": "stream",
     "text": [
      "100%|██████████████████████████████████████████████████████████████████████████████████| 80/80 [00:01<00:00, 66.43it/s]\n"
     ]
    },
    {
     "name": "stdout",
     "output_type": "stream",
     "text": [
      "Best params:  {'C': 1, 'epsilon': 0.1, 'gamma': 1, 'kernel': 'rbf'}\n",
      "Best rmse:  0.15766180423763587\n",
      "Training model:  82\n"
     ]
    },
    {
     "name": "stderr",
     "output_type": "stream",
     "text": [
      "100%|██████████████████████████████████████████████████████████████████████████████████| 80/80 [00:01<00:00, 66.87it/s]\n"
     ]
    },
    {
     "name": "stdout",
     "output_type": "stream",
     "text": [
      "Best params:  {'C': 1, 'epsilon': 0.01, 'gamma': 1, 'kernel': 'rbf'}\n",
      "Best rmse:  0.12423442431133103\n",
      "Training model:  83\n"
     ]
    },
    {
     "name": "stderr",
     "output_type": "stream",
     "text": [
      "100%|██████████████████████████████████████████████████████████████████████████████████| 80/80 [00:01<00:00, 66.16it/s]\n"
     ]
    },
    {
     "name": "stdout",
     "output_type": "stream",
     "text": [
      "Best params:  {'C': 1, 'epsilon': 1e-05, 'gamma': 0.001, 'kernel': 'rbf'}\n",
      "Best rmse:  0.14724553478918082\n",
      "Training model:  84\n"
     ]
    },
    {
     "name": "stderr",
     "output_type": "stream",
     "text": [
      "100%|██████████████████████████████████████████████████████████████████████████████████| 80/80 [00:01<00:00, 66.10it/s]\n"
     ]
    },
    {
     "name": "stdout",
     "output_type": "stream",
     "text": [
      "Best params:  {'C': 1, 'epsilon': 0.01, 'gamma': 1, 'kernel': 'rbf'}\n",
      "Best rmse:  0.12396791825264929\n",
      "Training model:  85\n"
     ]
    },
    {
     "name": "stderr",
     "output_type": "stream",
     "text": [
      "100%|██████████████████████████████████████████████████████████████████████████████████| 80/80 [00:01<00:00, 66.65it/s]\n"
     ]
    },
    {
     "name": "stdout",
     "output_type": "stream",
     "text": [
      "Best params:  {'C': 1, 'epsilon': 1e-05, 'gamma': 1, 'kernel': 'rbf'}\n",
      "Best rmse:  0.14725391573664737\n",
      "Training model:  86\n"
     ]
    },
    {
     "name": "stderr",
     "output_type": "stream",
     "text": [
      "100%|██████████████████████████████████████████████████████████████████████████████████| 80/80 [00:01<00:00, 66.21it/s]\n"
     ]
    },
    {
     "name": "stdout",
     "output_type": "stream",
     "text": [
      "Best params:  {'C': 1, 'epsilon': 0.01, 'gamma': 1, 'kernel': 'rbf'}\n",
      "Best rmse:  0.14952682235254994\n",
      "Training model:  87\n"
     ]
    },
    {
     "name": "stderr",
     "output_type": "stream",
     "text": [
      "100%|██████████████████████████████████████████████████████████████████████████████████| 80/80 [00:01<00:00, 65.77it/s]\n"
     ]
    },
    {
     "name": "stdout",
     "output_type": "stream",
     "text": [
      "Best params:  {'C': 1, 'epsilon': 0.01, 'gamma': 1, 'kernel': 'rbf'}\n",
      "Best rmse:  0.14358077891426993\n",
      "Training model:  88\n"
     ]
    },
    {
     "name": "stderr",
     "output_type": "stream",
     "text": [
      "100%|██████████████████████████████████████████████████████████████████████████████████| 80/80 [00:01<00:00, 66.38it/s]\n"
     ]
    },
    {
     "name": "stdout",
     "output_type": "stream",
     "text": [
      "Best params:  {'C': 1, 'epsilon': 0.01, 'gamma': 1, 'kernel': 'rbf'}\n",
      "Best rmse:  0.14539713938069784\n",
      "Training model:  89\n"
     ]
    },
    {
     "name": "stderr",
     "output_type": "stream",
     "text": [
      "100%|██████████████████████████████████████████████████████████████████████████████████| 80/80 [00:01<00:00, 65.61it/s]\n"
     ]
    },
    {
     "name": "stdout",
     "output_type": "stream",
     "text": [
      "Best params:  {'C': 1, 'epsilon': 0.01, 'gamma': 1, 'kernel': 'rbf'}\n",
      "Best rmse:  0.13893359958195858\n",
      "Training model:  90\n"
     ]
    },
    {
     "name": "stderr",
     "output_type": "stream",
     "text": [
      "100%|██████████████████████████████████████████████████████████████████████████████████| 80/80 [00:01<00:00, 66.10it/s]\n"
     ]
    },
    {
     "name": "stdout",
     "output_type": "stream",
     "text": [
      "Best params:  {'C': 1, 'epsilon': 0.01, 'gamma': 1, 'kernel': 'rbf'}\n",
      "Best rmse:  0.11748062601181995\n",
      "Training model:  91\n"
     ]
    },
    {
     "name": "stderr",
     "output_type": "stream",
     "text": [
      "100%|██████████████████████████████████████████████████████████████████████████████████| 80/80 [00:01<00:00, 66.05it/s]\n"
     ]
    },
    {
     "name": "stdout",
     "output_type": "stream",
     "text": [
      "Best params:  {'C': 1, 'epsilon': 0.01, 'gamma': 1, 'kernel': 'rbf'}\n",
      "Best rmse:  0.12743003777938638\n",
      "Training model:  92\n"
     ]
    },
    {
     "name": "stderr",
     "output_type": "stream",
     "text": [
      "100%|██████████████████████████████████████████████████████████████████████████████████| 80/80 [00:01<00:00, 66.93it/s]\n"
     ]
    },
    {
     "name": "stdout",
     "output_type": "stream",
     "text": [
      "Best params:  {'C': 1, 'epsilon': 0.01, 'gamma': 1, 'kernel': 'rbf'}\n",
      "Best rmse:  0.12465140380219639\n",
      "Training model:  93\n"
     ]
    },
    {
     "name": "stderr",
     "output_type": "stream",
     "text": [
      "100%|██████████████████████████████████████████████████████████████████████████████████| 80/80 [00:01<00:00, 66.10it/s]\n"
     ]
    },
    {
     "name": "stdout",
     "output_type": "stream",
     "text": [
      "Best params:  {'C': 10, 'epsilon': 0.1, 'gamma': 1, 'kernel': 'rbf'}\n",
      "Best rmse:  0.17302126373078625\n",
      "Training model:  94\n"
     ]
    },
    {
     "name": "stderr",
     "output_type": "stream",
     "text": [
      "100%|██████████████████████████████████████████████████████████████████████████████████| 80/80 [00:01<00:00, 66.43it/s]\n"
     ]
    },
    {
     "name": "stdout",
     "output_type": "stream",
     "text": [
      "Best params:  {'C': 1, 'epsilon': 0.01, 'gamma': 1, 'kernel': 'rbf'}\n",
      "Best rmse:  0.12123448328163364\n",
      "Training model:  95\n"
     ]
    },
    {
     "name": "stderr",
     "output_type": "stream",
     "text": [
      "100%|██████████████████████████████████████████████████████████████████████████████████| 80/80 [00:01<00:00, 65.83it/s]\n"
     ]
    },
    {
     "name": "stdout",
     "output_type": "stream",
     "text": [
      "Best params:  {'C': 1, 'epsilon': 0.01, 'gamma': 1, 'kernel': 'rbf'}\n",
      "Best rmse:  0.13924435684786532\n",
      "Training model:  96\n"
     ]
    },
    {
     "name": "stderr",
     "output_type": "stream",
     "text": [
      "100%|██████████████████████████████████████████████████████████████████████████████████| 80/80 [00:01<00:00, 66.49it/s]\n"
     ]
    },
    {
     "name": "stdout",
     "output_type": "stream",
     "text": [
      "Best params:  {'C': 1, 'epsilon': 0.01, 'gamma': 1, 'kernel': 'rbf'}\n",
      "Best rmse:  0.13081540601433786\n",
      "Training model:  97\n"
     ]
    },
    {
     "name": "stderr",
     "output_type": "stream",
     "text": [
      "100%|██████████████████████████████████████████████████████████████████████████████████| 80/80 [00:01<00:00, 66.65it/s]\n"
     ]
    },
    {
     "name": "stdout",
     "output_type": "stream",
     "text": [
      "Best params:  {'C': 1, 'epsilon': 0.01, 'gamma': 1, 'kernel': 'rbf'}\n",
      "Best rmse:  0.14428576155946\n",
      "Training model:  98\n"
     ]
    },
    {
     "name": "stderr",
     "output_type": "stream",
     "text": [
      "100%|██████████████████████████████████████████████████████████████████████████████████| 80/80 [00:01<00:00, 65.83it/s]\n"
     ]
    },
    {
     "name": "stdout",
     "output_type": "stream",
     "text": [
      "Best params:  {'C': 1, 'epsilon': 0.01, 'gamma': 1, 'kernel': 'rbf'}\n",
      "Best rmse:  0.13488486297772193\n",
      "Training model:  99\n"
     ]
    },
    {
     "name": "stderr",
     "output_type": "stream",
     "text": [
      "100%|██████████████████████████████████████████████████████████████████████████████████| 80/80 [00:01<00:00, 65.94it/s]\n"
     ]
    },
    {
     "name": "stdout",
     "output_type": "stream",
     "text": [
      "Best params:  {'C': 1, 'epsilon': 0.01, 'gamma': 1, 'kernel': 'rbf'}\n",
      "Best rmse:  0.13708283281518427\n"
     ]
    },
    {
     "name": "stderr",
     "output_type": "stream",
     "text": [
      "100%|████████████████████████████████████████████████████████████████████████████████| 800/800 [04:33<00:00,  2.93it/s]\n"
     ]
    },
    {
     "name": "stdout",
     "output_type": "stream",
     "text": [
      "Best params:  {'comb': 'median', 'k': 1, 'n': 15}\n",
      "Best rmse:  0.2563309515072409\n",
      "MSE: 0.0014644193777119856\n",
      "MAPE: 4.238365876492538\n",
      "ARV: 0.08838733610512925\n",
      "MAE: 0.02987372934258294\n",
      "RMSE: 0.03826773285304456\n",
      "NRMSE: 0.07558788374972797\n",
      "SMAPE: 4.220966445148545\n",
      "Time Series:  pollutions\n",
      "\n",
      "###############################################\n",
      "\n",
      "Executing: ENSEMBLE SVR\n",
      "d:  2\n",
      "Training model:  0\n"
     ]
    },
    {
     "name": "stderr",
     "output_type": "stream",
     "text": [
      "100%|██████████████████████████████████████████████████████████████████████████████████| 80/80 [00:01<00:00, 76.76it/s]\n"
     ]
    },
    {
     "name": "stdout",
     "output_type": "stream",
     "text": [
      "Best params:  {'C': 1000, 'epsilon': 0.01, 'gamma': 0.001, 'kernel': 'rbf'}\n",
      "Best rmse:  0.10994947016229169\n",
      "Training model:  1\n"
     ]
    },
    {
     "name": "stderr",
     "output_type": "stream",
     "text": [
      "100%|██████████████████████████████████████████████████████████████████████████████████| 80/80 [00:01<00:00, 78.11it/s]\n"
     ]
    },
    {
     "name": "stdout",
     "output_type": "stream",
     "text": [
      "Best params:  {'C': 1000, 'epsilon': 1e-05, 'gamma': 0.001, 'kernel': 'rbf'}\n",
      "Best rmse:  0.2091359670618901\n",
      "Training model:  2\n"
     ]
    },
    {
     "name": "stderr",
     "output_type": "stream",
     "text": [
      "100%|██████████████████████████████████████████████████████████████████████████████████| 80/80 [00:01<00:00, 78.03it/s]\n"
     ]
    },
    {
     "name": "stdout",
     "output_type": "stream",
     "text": [
      "Best params:  {'C': 1000, 'epsilon': 0.01, 'gamma': 0.01, 'kernel': 'rbf'}\n",
      "Best rmse:  0.15103386770988977\n",
      "Training model:  3\n"
     ]
    },
    {
     "name": "stderr",
     "output_type": "stream",
     "text": [
      "100%|██████████████████████████████████████████████████████████████████████████████████| 80/80 [00:01<00:00, 76.98it/s]\n"
     ]
    },
    {
     "name": "stdout",
     "output_type": "stream",
     "text": [
      "Best params:  {'C': 1000, 'epsilon': 1e-05, 'gamma': 0.001, 'kernel': 'rbf'}\n",
      "Best rmse:  0.19364132425078587\n",
      "Training model:  4\n"
     ]
    },
    {
     "name": "stderr",
     "output_type": "stream",
     "text": [
      "100%|██████████████████████████████████████████████████████████████████████████████████| 80/80 [00:01<00:00, 77.13it/s]\n"
     ]
    },
    {
     "name": "stdout",
     "output_type": "stream",
     "text": [
      "Best params:  {'C': 1000, 'epsilon': 0.001, 'gamma': 0.01, 'kernel': 'rbf'}\n",
      "Best rmse:  0.166921974114935\n",
      "Training model:  5\n"
     ]
    },
    {
     "name": "stderr",
     "output_type": "stream",
     "text": [
      "100%|██████████████████████████████████████████████████████████████████████████████████| 80/80 [00:01<00:00, 78.57it/s]\n"
     ]
    },
    {
     "name": "stdout",
     "output_type": "stream",
     "text": [
      "Best params:  {'C': 100, 'epsilon': 0.1, 'gamma': 0.1, 'kernel': 'rbf'}\n",
      "Best rmse:  0.10553279937053942\n",
      "Training model:  6\n"
     ]
    },
    {
     "name": "stderr",
     "output_type": "stream",
     "text": [
      "100%|██████████████████████████████████████████████████████████████████████████████████| 80/80 [00:01<00:00, 77.58it/s]\n"
     ]
    },
    {
     "name": "stdout",
     "output_type": "stream",
     "text": [
      "Best params:  {'C': 10, 'epsilon': 0.001, 'gamma': 1, 'kernel': 'rbf'}\n",
      "Best rmse:  0.16168842840633216\n",
      "Training model:  7\n"
     ]
    },
    {
     "name": "stderr",
     "output_type": "stream",
     "text": [
      "100%|██████████████████████████████████████████████████████████████████████████████████| 80/80 [00:01<00:00, 77.50it/s]\n"
     ]
    },
    {
     "name": "stdout",
     "output_type": "stream",
     "text": [
      "Best params:  {'C': 10, 'epsilon': 0.0001, 'gamma': 0.1, 'kernel': 'rbf'}\n",
      "Best rmse:  0.17095723033523877\n",
      "Training model:  8\n"
     ]
    },
    {
     "name": "stderr",
     "output_type": "stream",
     "text": [
      "100%|██████████████████████████████████████████████████████████████████████████████████| 80/80 [00:01<00:00, 78.26it/s]\n"
     ]
    },
    {
     "name": "stdout",
     "output_type": "stream",
     "text": [
      "Best params:  {'C': 100, 'epsilon': 1e-05, 'gamma': 0.1, 'kernel': 'rbf'}\n",
      "Best rmse:  0.14007732509108095\n",
      "Training model:  9\n"
     ]
    },
    {
     "name": "stderr",
     "output_type": "stream",
     "text": [
      "100%|██████████████████████████████████████████████████████████████████████████████████| 80/80 [00:01<00:00, 78.26it/s]\n"
     ]
    },
    {
     "name": "stdout",
     "output_type": "stream",
     "text": [
      "Best params:  {'C': 100, 'epsilon': 0.1, 'gamma': 0.1, 'kernel': 'rbf'}\n",
      "Best rmse:  0.11577827061968553\n",
      "Training model:  10\n"
     ]
    },
    {
     "name": "stderr",
     "output_type": "stream",
     "text": [
      "100%|██████████████████████████████████████████████████████████████████████████████████| 80/80 [00:01<00:00, 77.88it/s]\n"
     ]
    },
    {
     "name": "stdout",
     "output_type": "stream",
     "text": [
      "Best params:  {'C': 1, 'epsilon': 0.01, 'gamma': 0.1, 'kernel': 'rbf'}\n",
      "Best rmse:  0.17468921744575927\n",
      "Training model:  11\n"
     ]
    },
    {
     "name": "stderr",
     "output_type": "stream",
     "text": [
      "100%|██████████████████████████████████████████████████████████████████████████████████| 80/80 [00:01<00:00, 78.11it/s]\n"
     ]
    },
    {
     "name": "stdout",
     "output_type": "stream",
     "text": [
      "Best params:  {'C': 1000, 'epsilon': 0.01, 'gamma': 0.01, 'kernel': 'rbf'}\n",
      "Best rmse:  0.14807611791510364\n",
      "Training model:  12\n"
     ]
    },
    {
     "name": "stderr",
     "output_type": "stream",
     "text": [
      "100%|██████████████████████████████████████████████████████████████████████████████████| 80/80 [00:01<00:00, 78.18it/s]\n"
     ]
    },
    {
     "name": "stdout",
     "output_type": "stream",
     "text": [
      "Best params:  {'C': 1000, 'epsilon': 0.0001, 'gamma': 0.001, 'kernel': 'rbf'}\n",
      "Best rmse:  0.11579933744964971\n",
      "Training model:  13\n"
     ]
    },
    {
     "name": "stderr",
     "output_type": "stream",
     "text": [
      "100%|██████████████████████████████████████████████████████████████████████████████████| 80/80 [00:01<00:00, 77.50it/s]\n"
     ]
    },
    {
     "name": "stdout",
     "output_type": "stream",
     "text": [
      "Best params:  {'C': 10, 'epsilon': 0.1, 'gamma': 0.01, 'kernel': 'rbf'}\n",
      "Best rmse:  0.18657136213822048\n",
      "Training model:  14\n"
     ]
    },
    {
     "name": "stderr",
     "output_type": "stream",
     "text": [
      "100%|██████████████████████████████████████████████████████████████████████████████████| 80/80 [00:01<00:00, 78.41it/s]\n"
     ]
    },
    {
     "name": "stdout",
     "output_type": "stream",
     "text": [
      "Best params:  {'C': 10, 'epsilon': 0.1, 'gamma': 0.1, 'kernel': 'rbf'}\n",
      "Best rmse:  0.2476961762954656\n",
      "Training model:  15\n"
     ]
    },
    {
     "name": "stderr",
     "output_type": "stream",
     "text": [
      "100%|██████████████████████████████████████████████████████████████████████████████████| 80/80 [00:01<00:00, 77.05it/s]\n"
     ]
    },
    {
     "name": "stdout",
     "output_type": "stream",
     "text": [
      "Best params:  {'C': 1, 'epsilon': 0.1, 'gamma': 0.1, 'kernel': 'rbf'}\n",
      "Best rmse:  0.12644900471731493\n",
      "Training model:  16\n"
     ]
    },
    {
     "name": "stderr",
     "output_type": "stream",
     "text": [
      "100%|██████████████████████████████████████████████████████████████████████████████████| 80/80 [00:01<00:00, 77.80it/s]\n"
     ]
    },
    {
     "name": "stdout",
     "output_type": "stream",
     "text": [
      "Best params:  {'C': 100, 'epsilon': 0.1, 'gamma': 0.01, 'kernel': 'rbf'}\n",
      "Best rmse:  0.22048980698913148\n",
      "Training model:  17\n"
     ]
    },
    {
     "name": "stderr",
     "output_type": "stream",
     "text": [
      "100%|██████████████████████████████████████████████████████████████████████████████████| 80/80 [00:01<00:00, 77.58it/s]\n"
     ]
    },
    {
     "name": "stdout",
     "output_type": "stream",
     "text": [
      "Best params:  {'C': 100, 'epsilon': 0.0001, 'gamma': 0.01, 'kernel': 'rbf'}\n",
      "Best rmse:  0.19794080933585578\n",
      "Training model:  18\n"
     ]
    },
    {
     "name": "stderr",
     "output_type": "stream",
     "text": [
      "100%|██████████████████████████████████████████████████████████████████████████████████| 80/80 [00:01<00:00, 76.39it/s]\n"
     ]
    },
    {
     "name": "stdout",
     "output_type": "stream",
     "text": [
      "Best params:  {'C': 10, 'epsilon': 0.01, 'gamma': 0.1, 'kernel': 'rbf'}\n",
      "Best rmse:  0.12447633282185115\n",
      "Training model:  19\n"
     ]
    },
    {
     "name": "stderr",
     "output_type": "stream",
     "text": [
      "100%|██████████████████████████████████████████████████████████████████████████████████| 80/80 [00:01<00:00, 75.17it/s]\n"
     ]
    },
    {
     "name": "stdout",
     "output_type": "stream",
     "text": [
      "Best params:  {'C': 100, 'epsilon': 1e-05, 'gamma': 0.1, 'kernel': 'rbf'}\n",
      "Best rmse:  0.2274388539170046\n",
      "Training model:  20\n"
     ]
    },
    {
     "name": "stderr",
     "output_type": "stream",
     "text": [
      "100%|██████████████████████████████████████████████████████████████████████████████████| 80/80 [00:01<00:00, 77.96it/s]\n"
     ]
    },
    {
     "name": "stdout",
     "output_type": "stream",
     "text": [
      "Best params:  {'C': 10, 'epsilon': 0.1, 'gamma': 0.01, 'kernel': 'rbf'}\n",
      "Best rmse:  0.2425284224438911\n",
      "Training model:  21\n"
     ]
    },
    {
     "name": "stderr",
     "output_type": "stream",
     "text": [
      "100%|██████████████████████████████████████████████████████████████████████████████████| 80/80 [00:01<00:00, 78.49it/s]\n"
     ]
    },
    {
     "name": "stdout",
     "output_type": "stream",
     "text": [
      "Best params:  {'C': 100, 'epsilon': 1e-05, 'gamma': 0.1, 'kernel': 'rbf'}\n",
      "Best rmse:  0.25446144382679015\n",
      "Training model:  22\n"
     ]
    },
    {
     "name": "stderr",
     "output_type": "stream",
     "text": [
      "100%|██████████████████████████████████████████████████████████████████████████████████| 80/80 [00:01<00:00, 77.43it/s]\n"
     ]
    },
    {
     "name": "stdout",
     "output_type": "stream",
     "text": [
      "Best params:  {'C': 100, 'epsilon': 0.01, 'gamma': 0.01, 'kernel': 'rbf'}\n",
      "Best rmse:  0.17085904809885522\n",
      "Training model:  23\n"
     ]
    },
    {
     "name": "stderr",
     "output_type": "stream",
     "text": [
      "100%|██████████████████████████████████████████████████████████████████████████████████| 80/80 [00:01<00:00, 77.73it/s]\n"
     ]
    },
    {
     "name": "stdout",
     "output_type": "stream",
     "text": [
      "Best params:  {'C': 100, 'epsilon': 0.1, 'gamma': 0.1, 'kernel': 'rbf'}\n",
      "Best rmse:  0.09683412331047365\n",
      "Training model:  24\n"
     ]
    },
    {
     "name": "stderr",
     "output_type": "stream",
     "text": [
      "100%|██████████████████████████████████████████████████████████████████████████████████| 80/80 [00:01<00:00, 77.96it/s]\n"
     ]
    },
    {
     "name": "stdout",
     "output_type": "stream",
     "text": [
      "Best params:  {'C': 1000, 'epsilon': 1e-05, 'gamma': 0.01, 'kernel': 'rbf'}\n",
      "Best rmse:  0.15213206582425867\n",
      "Training model:  25\n"
     ]
    },
    {
     "name": "stderr",
     "output_type": "stream",
     "text": [
      "100%|██████████████████████████████████████████████████████████████████████████████████| 80/80 [00:01<00:00, 75.60it/s]\n"
     ]
    },
    {
     "name": "stdout",
     "output_type": "stream",
     "text": [
      "Best params:  {'C': 10, 'epsilon': 0.01, 'gamma': 0.1, 'kernel': 'rbf'}\n",
      "Best rmse:  0.10224863835671848\n",
      "Training model:  26\n"
     ]
    },
    {
     "name": "stderr",
     "output_type": "stream",
     "text": [
      "100%|██████████████████████████████████████████████████████████████████████████████████| 80/80 [00:01<00:00, 76.46it/s]\n"
     ]
    },
    {
     "name": "stdout",
     "output_type": "stream",
     "text": [
      "Best params:  {'C': 1000, 'epsilon': 0.0001, 'gamma': 0.01, 'kernel': 'rbf'}\n",
      "Best rmse:  0.29094746364369395\n",
      "Training model:  27\n"
     ]
    },
    {
     "name": "stderr",
     "output_type": "stream",
     "text": [
      "100%|██████████████████████████████████████████████████████████████████████████████████| 80/80 [00:01<00:00, 69.19it/s]\n"
     ]
    },
    {
     "name": "stdout",
     "output_type": "stream",
     "text": [
      "Best params:  {'C': 100, 'epsilon': 1e-05, 'gamma': 0.01, 'kernel': 'rbf'}\n",
      "Best rmse:  0.1272169502155895\n",
      "Training model:  28\n"
     ]
    },
    {
     "name": "stderr",
     "output_type": "stream",
     "text": [
      "100%|██████████████████████████████████████████████████████████████████████████████████| 80/80 [00:01<00:00, 74.26it/s]\n"
     ]
    },
    {
     "name": "stdout",
     "output_type": "stream",
     "text": [
      "Best params:  {'C': 100, 'epsilon': 0.1, 'gamma': 0.1, 'kernel': 'rbf'}\n",
      "Best rmse:  0.17531967777508284\n",
      "Training model:  29\n"
     ]
    },
    {
     "name": "stderr",
     "output_type": "stream",
     "text": [
      "100%|██████████████████████████████████████████████████████████████████████████████████| 80/80 [00:01<00:00, 76.25it/s]\n"
     ]
    },
    {
     "name": "stdout",
     "output_type": "stream",
     "text": [
      "Best params:  {'C': 10, 'epsilon': 0.01, 'gamma': 1, 'kernel': 'rbf'}\n",
      "Best rmse:  0.12124793837654843\n",
      "Training model:  30\n"
     ]
    },
    {
     "name": "stderr",
     "output_type": "stream",
     "text": [
      "100%|██████████████████████████████████████████████████████████████████████████████████| 80/80 [00:01<00:00, 75.81it/s]\n"
     ]
    },
    {
     "name": "stdout",
     "output_type": "stream",
     "text": [
      "Best params:  {'C': 1000, 'epsilon': 0.0001, 'gamma': 0.01, 'kernel': 'rbf'}\n",
      "Best rmse:  0.2524447464866272\n",
      "Training model:  31\n"
     ]
    },
    {
     "name": "stderr",
     "output_type": "stream",
     "text": [
      "100%|██████████████████████████████████████████████████████████████████████████████████| 80/80 [00:01<00:00, 74.82it/s]\n"
     ]
    },
    {
     "name": "stdout",
     "output_type": "stream",
     "text": [
      "Best params:  {'C': 100, 'epsilon': 0.1, 'gamma': 0.001, 'kernel': 'rbf'}\n",
      "Best rmse:  0.26433072013230596\n",
      "Training model:  32\n"
     ]
    },
    {
     "name": "stderr",
     "output_type": "stream",
     "text": [
      "100%|██████████████████████████████████████████████████████████████████████████████████| 80/80 [00:01<00:00, 74.61it/s]\n"
     ]
    },
    {
     "name": "stdout",
     "output_type": "stream",
     "text": [
      "Best params:  {'C': 1, 'epsilon': 0.1, 'gamma': 0.1, 'kernel': 'rbf'}\n",
      "Best rmse:  0.15230409515670817\n",
      "Training model:  33\n"
     ]
    },
    {
     "name": "stderr",
     "output_type": "stream",
     "text": [
      "100%|██████████████████████████████████████████████████████████████████████████████████| 80/80 [00:01<00:00, 76.98it/s]\n"
     ]
    },
    {
     "name": "stdout",
     "output_type": "stream",
     "text": [
      "Best params:  {'C': 1000, 'epsilon': 0.1, 'gamma': 0.01, 'kernel': 'rbf'}\n",
      "Best rmse:  0.15994062423599034\n",
      "Training model:  34\n"
     ]
    },
    {
     "name": "stderr",
     "output_type": "stream",
     "text": [
      "100%|██████████████████████████████████████████████████████████████████████████████████| 80/80 [00:01<00:00, 77.20it/s]\n"
     ]
    },
    {
     "name": "stdout",
     "output_type": "stream",
     "text": [
      "Best params:  {'C': 1000, 'epsilon': 0.01, 'gamma': 0.01, 'kernel': 'rbf'}\n",
      "Best rmse:  0.11916455386710235\n",
      "Training model:  35\n"
     ]
    },
    {
     "name": "stderr",
     "output_type": "stream",
     "text": [
      "100%|██████████████████████████████████████████████████████████████████████████████████| 80/80 [00:01<00:00, 77.35it/s]\n"
     ]
    },
    {
     "name": "stdout",
     "output_type": "stream",
     "text": [
      "Best params:  {'C': 100, 'epsilon': 0.1, 'gamma': 0.001, 'kernel': 'rbf'}\n",
      "Best rmse:  0.24622731360139538\n",
      "Training model:  36\n"
     ]
    },
    {
     "name": "stderr",
     "output_type": "stream",
     "text": [
      "100%|██████████████████████████████████████████████████████████████████████████████████| 80/80 [00:01<00:00, 76.39it/s]\n"
     ]
    },
    {
     "name": "stdout",
     "output_type": "stream",
     "text": [
      "Best params:  {'C': 100, 'epsilon': 0.0001, 'gamma': 0.01, 'kernel': 'rbf'}\n",
      "Best rmse:  0.18790818786227553\n",
      "Training model:  37\n"
     ]
    },
    {
     "name": "stderr",
     "output_type": "stream",
     "text": [
      "100%|██████████████████████████████████████████████████████████████████████████████████| 80/80 [00:01<00:00, 77.73it/s]\n"
     ]
    },
    {
     "name": "stdout",
     "output_type": "stream",
     "text": [
      "Best params:  {'C': 100, 'epsilon': 1e-05, 'gamma': 0.01, 'kernel': 'rbf'}\n",
      "Best rmse:  0.13741263750235128\n",
      "Training model:  38\n"
     ]
    },
    {
     "name": "stderr",
     "output_type": "stream",
     "text": [
      "100%|██████████████████████████████████████████████████████████████████████████████████| 80/80 [00:01<00:00, 77.20it/s]\n"
     ]
    },
    {
     "name": "stdout",
     "output_type": "stream",
     "text": [
      "Best params:  {'C': 1000, 'epsilon': 0.01, 'gamma': 0.01, 'kernel': 'rbf'}\n",
      "Best rmse:  0.20589690076226036\n",
      "Training model:  39\n"
     ]
    },
    {
     "name": "stderr",
     "output_type": "stream",
     "text": [
      "100%|██████████████████████████████████████████████████████████████████████████████████| 80/80 [00:01<00:00, 77.65it/s]\n"
     ]
    },
    {
     "name": "stdout",
     "output_type": "stream",
     "text": [
      "Best params:  {'C': 100, 'epsilon': 0.01, 'gamma': 0.01, 'kernel': 'rbf'}\n",
      "Best rmse:  0.14483259338409127\n",
      "Training model:  40\n"
     ]
    },
    {
     "name": "stderr",
     "output_type": "stream",
     "text": [
      "100%|██████████████████████████████████████████████████████████████████████████████████| 80/80 [00:01<00:00, 76.54it/s]\n"
     ]
    },
    {
     "name": "stdout",
     "output_type": "stream",
     "text": [
      "Best params:  {'C': 1000, 'epsilon': 0.01, 'gamma': 0.01, 'kernel': 'rbf'}\n",
      "Best rmse:  0.21578179622443697\n",
      "Training model:  41\n"
     ]
    },
    {
     "name": "stderr",
     "output_type": "stream",
     "text": [
      "100%|██████████████████████████████████████████████████████████████████████████████████| 80/80 [00:01<00:00, 76.83it/s]\n"
     ]
    },
    {
     "name": "stdout",
     "output_type": "stream",
     "text": [
      "Best params:  {'C': 1000, 'epsilon': 0.1, 'gamma': 0.01, 'kernel': 'rbf'}\n",
      "Best rmse:  0.18620993628821056\n",
      "Training model:  42\n"
     ]
    },
    {
     "name": "stderr",
     "output_type": "stream",
     "text": [
      "100%|██████████████████████████████████████████████████████████████████████████████████| 80/80 [00:01<00:00, 77.05it/s]\n"
     ]
    },
    {
     "name": "stdout",
     "output_type": "stream",
     "text": [
      "Best params:  {'C': 1000, 'epsilon': 0.1, 'gamma': 0.001, 'kernel': 'rbf'}\n",
      "Best rmse:  0.11453943796733222\n",
      "Training model:  43\n"
     ]
    },
    {
     "name": "stderr",
     "output_type": "stream",
     "text": [
      "100%|██████████████████████████████████████████████████████████████████████████████████| 80/80 [00:01<00:00, 77.20it/s]\n"
     ]
    },
    {
     "name": "stdout",
     "output_type": "stream",
     "text": [
      "Best params:  {'C': 1, 'epsilon': 0.01, 'gamma': 1, 'kernel': 'rbf'}\n",
      "Best rmse:  0.16203367904052718\n",
      "Training model:  44\n"
     ]
    },
    {
     "name": "stderr",
     "output_type": "stream",
     "text": [
      "100%|██████████████████████████████████████████████████████████████████████████████████| 80/80 [00:01<00:00, 76.83it/s]\n"
     ]
    },
    {
     "name": "stdout",
     "output_type": "stream",
     "text": [
      "Best params:  {'C': 100, 'epsilon': 0.01, 'gamma': 0.01, 'kernel': 'rbf'}\n",
      "Best rmse:  0.13862462378361404\n",
      "Training model:  45\n"
     ]
    },
    {
     "name": "stderr",
     "output_type": "stream",
     "text": [
      "100%|██████████████████████████████████████████████████████████████████████████████████| 80/80 [00:01<00:00, 76.46it/s]\n"
     ]
    },
    {
     "name": "stdout",
     "output_type": "stream",
     "text": [
      "Best params:  {'C': 1000, 'epsilon': 0.01, 'gamma': 0.01, 'kernel': 'rbf'}\n",
      "Best rmse:  0.26511481244099694\n",
      "Training model:  46\n"
     ]
    },
    {
     "name": "stderr",
     "output_type": "stream",
     "text": [
      "100%|██████████████████████████████████████████████████████████████████████████████████| 80/80 [00:01<00:00, 76.76it/s]\n"
     ]
    },
    {
     "name": "stdout",
     "output_type": "stream",
     "text": [
      "Best params:  {'C': 1, 'epsilon': 0.01, 'gamma': 0.1, 'kernel': 'rbf'}\n",
      "Best rmse:  0.15140292600916846\n",
      "Training model:  47\n"
     ]
    },
    {
     "name": "stderr",
     "output_type": "stream",
     "text": [
      "100%|██████████████████████████████████████████████████████████████████████████████████| 80/80 [00:01<00:00, 77.35it/s]\n"
     ]
    },
    {
     "name": "stdout",
     "output_type": "stream",
     "text": [
      "Best params:  {'C': 1, 'epsilon': 0.01, 'gamma': 1, 'kernel': 'rbf'}\n",
      "Best rmse:  0.18134735445398256\n",
      "Training model:  48\n"
     ]
    },
    {
     "name": "stderr",
     "output_type": "stream",
     "text": [
      "100%|██████████████████████████████████████████████████████████████████████████████████| 80/80 [00:01<00:00, 77.28it/s]\n"
     ]
    },
    {
     "name": "stdout",
     "output_type": "stream",
     "text": [
      "Best params:  {'C': 10, 'epsilon': 0.0001, 'gamma': 1, 'kernel': 'rbf'}\n",
      "Best rmse:  0.15825034049927578\n",
      "Training model:  49\n"
     ]
    },
    {
     "name": "stderr",
     "output_type": "stream",
     "text": [
      "100%|██████████████████████████████████████████████████████████████████████████████████| 80/80 [00:01<00:00, 76.83it/s]\n"
     ]
    },
    {
     "name": "stdout",
     "output_type": "stream",
     "text": [
      "Best params:  {'C': 100, 'epsilon': 1e-05, 'gamma': 0.01, 'kernel': 'rbf'}\n",
      "Best rmse:  0.08762747431700076\n",
      "Training model:  50\n"
     ]
    },
    {
     "name": "stderr",
     "output_type": "stream",
     "text": [
      "100%|██████████████████████████████████████████████████████████████████████████████████| 80/80 [00:01<00:00, 76.61it/s]\n"
     ]
    },
    {
     "name": "stdout",
     "output_type": "stream",
     "text": [
      "Best params:  {'C': 100, 'epsilon': 1e-05, 'gamma': 0.1, 'kernel': 'rbf'}\n",
      "Best rmse:  0.14662638502205635\n",
      "Training model:  51\n"
     ]
    },
    {
     "name": "stderr",
     "output_type": "stream",
     "text": [
      "100%|██████████████████████████████████████████████████████████████████████████████████| 80/80 [00:01<00:00, 77.35it/s]\n"
     ]
    },
    {
     "name": "stdout",
     "output_type": "stream",
     "text": [
      "Best params:  {'C': 100, 'epsilon': 0.01, 'gamma': 0.001, 'kernel': 'rbf'}\n",
      "Best rmse:  0.19526888350456822\n",
      "Training model:  52\n"
     ]
    },
    {
     "name": "stderr",
     "output_type": "stream",
     "text": [
      "100%|██████████████████████████████████████████████████████████████████████████████████| 80/80 [00:01<00:00, 77.05it/s]\n"
     ]
    },
    {
     "name": "stdout",
     "output_type": "stream",
     "text": [
      "Best params:  {'C': 1000, 'epsilon': 0.01, 'gamma': 0.01, 'kernel': 'rbf'}\n",
      "Best rmse:  0.16027563890179103\n",
      "Training model:  53\n"
     ]
    },
    {
     "name": "stderr",
     "output_type": "stream",
     "text": [
      "100%|██████████████████████████████████████████████████████████████████████████████████| 80/80 [00:01<00:00, 77.80it/s]\n"
     ]
    },
    {
     "name": "stdout",
     "output_type": "stream",
     "text": [
      "Best params:  {'C': 1000, 'epsilon': 0.001, 'gamma': 0.001, 'kernel': 'rbf'}\n",
      "Best rmse:  0.1424252080683718\n",
      "Training model:  54\n"
     ]
    },
    {
     "name": "stderr",
     "output_type": "stream",
     "text": [
      "100%|██████████████████████████████████████████████████████████████████████████████████| 80/80 [00:01<00:00, 75.96it/s]\n"
     ]
    },
    {
     "name": "stdout",
     "output_type": "stream",
     "text": [
      "Best params:  {'C': 10, 'epsilon': 0.01, 'gamma': 0.1, 'kernel': 'rbf'}\n",
      "Best rmse:  0.2199149573166896\n",
      "Training model:  55\n"
     ]
    },
    {
     "name": "stderr",
     "output_type": "stream",
     "text": [
      "100%|██████████████████████████████████████████████████████████████████████████████████| 80/80 [00:01<00:00, 76.32it/s]\n"
     ]
    },
    {
     "name": "stdout",
     "output_type": "stream",
     "text": [
      "Best params:  {'C': 10, 'epsilon': 0.001, 'gamma': 0.01, 'kernel': 'rbf'}\n",
      "Best rmse:  0.1707973189924466\n",
      "Training model:  56\n"
     ]
    },
    {
     "name": "stderr",
     "output_type": "stream",
     "text": [
      "100%|██████████████████████████████████████████████████████████████████████████████████| 80/80 [00:01<00:00, 76.54it/s]\n"
     ]
    },
    {
     "name": "stdout",
     "output_type": "stream",
     "text": [
      "Best params:  {'C': 100, 'epsilon': 0.0001, 'gamma': 0.01, 'kernel': 'rbf'}\n",
      "Best rmse:  0.10301750253816544\n",
      "Training model:  57\n"
     ]
    },
    {
     "name": "stderr",
     "output_type": "stream",
     "text": [
      "100%|██████████████████████████████████████████████████████████████████████████████████| 80/80 [00:01<00:00, 75.88it/s]\n"
     ]
    },
    {
     "name": "stdout",
     "output_type": "stream",
     "text": [
      "Best params:  {'C': 1000, 'epsilon': 1e-05, 'gamma': 0.001, 'kernel': 'rbf'}\n",
      "Best rmse:  0.0879334244892326\n",
      "Training model:  58\n"
     ]
    },
    {
     "name": "stderr",
     "output_type": "stream",
     "text": [
      "100%|██████████████████████████████████████████████████████████████████████████████████| 80/80 [00:01<00:00, 76.46it/s]\n"
     ]
    },
    {
     "name": "stdout",
     "output_type": "stream",
     "text": [
      "Best params:  {'C': 100, 'epsilon': 0.0001, 'gamma': 0.01, 'kernel': 'rbf'}\n",
      "Best rmse:  0.1868089615664718\n",
      "Training model:  59\n"
     ]
    },
    {
     "name": "stderr",
     "output_type": "stream",
     "text": [
      "100%|██████████████████████████████████████████████████████████████████████████████████| 80/80 [00:01<00:00, 76.83it/s]\n"
     ]
    },
    {
     "name": "stdout",
     "output_type": "stream",
     "text": [
      "Best params:  {'C': 1000, 'epsilon': 0.01, 'gamma': 0.01, 'kernel': 'rbf'}\n",
      "Best rmse:  0.19455197091631474\n",
      "Training model:  60\n"
     ]
    },
    {
     "name": "stderr",
     "output_type": "stream",
     "text": [
      "100%|██████████████████████████████████████████████████████████████████████████████████| 80/80 [00:01<00:00, 77.50it/s]\n"
     ]
    },
    {
     "name": "stdout",
     "output_type": "stream",
     "text": [
      "Best params:  {'C': 10, 'epsilon': 0.01, 'gamma': 0.01, 'kernel': 'rbf'}\n",
      "Best rmse:  0.20506329003223467\n",
      "Training model:  61\n"
     ]
    },
    {
     "name": "stderr",
     "output_type": "stream",
     "text": [
      "100%|██████████████████████████████████████████████████████████████████████████████████| 80/80 [00:01<00:00, 77.80it/s]\n"
     ]
    },
    {
     "name": "stdout",
     "output_type": "stream",
     "text": [
      "Best params:  {'C': 1000, 'epsilon': 0.001, 'gamma': 0.001, 'kernel': 'rbf'}\n",
      "Best rmse:  0.18904941297076688\n",
      "Training model:  62\n"
     ]
    },
    {
     "name": "stderr",
     "output_type": "stream",
     "text": [
      "100%|██████████████████████████████████████████████████████████████████████████████████| 80/80 [00:01<00:00, 77.35it/s]\n"
     ]
    },
    {
     "name": "stdout",
     "output_type": "stream",
     "text": [
      "Best params:  {'C': 100, 'epsilon': 0.01, 'gamma': 0.01, 'kernel': 'rbf'}\n",
      "Best rmse:  0.08358777271169901\n",
      "Training model:  63\n"
     ]
    },
    {
     "name": "stderr",
     "output_type": "stream",
     "text": [
      "100%|██████████████████████████████████████████████████████████████████████████████████| 80/80 [00:01<00:00, 76.76it/s]\n"
     ]
    },
    {
     "name": "stdout",
     "output_type": "stream",
     "text": [
      "Best params:  {'C': 100, 'epsilon': 0.1, 'gamma': 0.1, 'kernel': 'rbf'}\n",
      "Best rmse:  0.0965779950088584\n",
      "Training model:  64\n"
     ]
    },
    {
     "name": "stderr",
     "output_type": "stream",
     "text": [
      "100%|██████████████████████████████████████████████████████████████████████████████████| 80/80 [00:01<00:00, 77.73it/s]\n"
     ]
    },
    {
     "name": "stdout",
     "output_type": "stream",
     "text": [
      "Best params:  {'C': 1000, 'epsilon': 0.0001, 'gamma': 0.01, 'kernel': 'rbf'}\n",
      "Best rmse:  0.15985917829937177\n",
      "Training model:  65\n"
     ]
    },
    {
     "name": "stderr",
     "output_type": "stream",
     "text": [
      "100%|██████████████████████████████████████████████████████████████████████████████████| 80/80 [00:01<00:00, 76.98it/s]\n"
     ]
    },
    {
     "name": "stdout",
     "output_type": "stream",
     "text": [
      "Best params:  {'C': 100, 'epsilon': 0.1, 'gamma': 0.001, 'kernel': 'rbf'}\n",
      "Best rmse:  0.17785990338022278\n",
      "Training model:  66\n"
     ]
    },
    {
     "name": "stderr",
     "output_type": "stream",
     "text": [
      "100%|██████████████████████████████████████████████████████████████████████████████████| 80/80 [00:01<00:00, 77.50it/s]\n"
     ]
    },
    {
     "name": "stdout",
     "output_type": "stream",
     "text": [
      "Best params:  {'C': 100, 'epsilon': 0.001, 'gamma': 0.01, 'kernel': 'rbf'}\n",
      "Best rmse:  0.15759138886293758\n",
      "Training model:  67\n"
     ]
    },
    {
     "name": "stderr",
     "output_type": "stream",
     "text": [
      "100%|██████████████████████████████████████████████████████████████████████████████████| 80/80 [00:01<00:00, 76.83it/s]\n"
     ]
    },
    {
     "name": "stdout",
     "output_type": "stream",
     "text": [
      "Best params:  {'C': 1000, 'epsilon': 0.1, 'gamma': 0.001, 'kernel': 'rbf'}\n",
      "Best rmse:  0.2475696055721632\n",
      "Training model:  68\n"
     ]
    },
    {
     "name": "stderr",
     "output_type": "stream",
     "text": [
      "100%|██████████████████████████████████████████████████████████████████████████████████| 80/80 [00:01<00:00, 76.17it/s]\n"
     ]
    },
    {
     "name": "stdout",
     "output_type": "stream",
     "text": [
      "Best params:  {'C': 10, 'epsilon': 0.01, 'gamma': 1, 'kernel': 'rbf'}\n",
      "Best rmse:  0.12236099563379879\n",
      "Training model:  69\n"
     ]
    },
    {
     "name": "stderr",
     "output_type": "stream",
     "text": [
      "100%|██████████████████████████████████████████████████████████████████████████████████| 80/80 [00:01<00:00, 77.80it/s]\n"
     ]
    },
    {
     "name": "stdout",
     "output_type": "stream",
     "text": [
      "Best params:  {'C': 10, 'epsilon': 0.0001, 'gamma': 0.01, 'kernel': 'rbf'}\n",
      "Best rmse:  0.106981027599541\n",
      "Training model:  70\n"
     ]
    },
    {
     "name": "stderr",
     "output_type": "stream",
     "text": [
      "100%|██████████████████████████████████████████████████████████████████████████████████| 80/80 [00:01<00:00, 76.54it/s]\n"
     ]
    },
    {
     "name": "stdout",
     "output_type": "stream",
     "text": [
      "Best params:  {'C': 1000, 'epsilon': 0.01, 'gamma': 0.01, 'kernel': 'rbf'}\n",
      "Best rmse:  0.07347212920412925\n",
      "Training model:  71\n"
     ]
    },
    {
     "name": "stderr",
     "output_type": "stream",
     "text": [
      "100%|██████████████████████████████████████████████████████████████████████████████████| 80/80 [00:01<00:00, 76.10it/s]\n"
     ]
    },
    {
     "name": "stdout",
     "output_type": "stream",
     "text": [
      "Best params:  {'C': 10, 'epsilon': 0.01, 'gamma': 1, 'kernel': 'rbf'}\n",
      "Best rmse:  0.10142806766971722\n",
      "Training model:  72\n"
     ]
    },
    {
     "name": "stderr",
     "output_type": "stream",
     "text": [
      "100%|██████████████████████████████████████████████████████████████████████████████████| 80/80 [00:01<00:00, 78.18it/s]\n"
     ]
    },
    {
     "name": "stdout",
     "output_type": "stream",
     "text": [
      "Best params:  {'C': 1000, 'epsilon': 0.01, 'gamma': 0.001, 'kernel': 'rbf'}\n",
      "Best rmse:  0.15380921197831873\n",
      "Training model:  73\n"
     ]
    },
    {
     "name": "stderr",
     "output_type": "stream",
     "text": [
      "100%|██████████████████████████████████████████████████████████████████████████████████| 80/80 [00:01<00:00, 76.54it/s]\n"
     ]
    },
    {
     "name": "stdout",
     "output_type": "stream",
     "text": [
      "Best params:  {'C': 100, 'epsilon': 1e-05, 'gamma': 0.01, 'kernel': 'rbf'}\n",
      "Best rmse:  0.1906131359056704\n",
      "Training model:  74\n"
     ]
    },
    {
     "name": "stderr",
     "output_type": "stream",
     "text": [
      "100%|██████████████████████████████████████████████████████████████████████████████████| 80/80 [00:01<00:00, 76.68it/s]\n"
     ]
    },
    {
     "name": "stdout",
     "output_type": "stream",
     "text": [
      "Best params:  {'C': 10, 'epsilon': 0.1, 'gamma': 0.1, 'kernel': 'rbf'}\n",
      "Best rmse:  0.1919348663563877\n",
      "Training model:  75\n"
     ]
    },
    {
     "name": "stderr",
     "output_type": "stream",
     "text": [
      "100%|██████████████████████████████████████████████████████████████████████████████████| 80/80 [00:01<00:00, 76.98it/s]\n"
     ]
    },
    {
     "name": "stdout",
     "output_type": "stream",
     "text": [
      "Best params:  {'C': 10, 'epsilon': 0.01, 'gamma': 0.01, 'kernel': 'rbf'}\n",
      "Best rmse:  0.26015343771164795\n",
      "Training model:  76\n"
     ]
    },
    {
     "name": "stderr",
     "output_type": "stream",
     "text": [
      "100%|██████████████████████████████████████████████████████████████████████████████████| 80/80 [00:01<00:00, 77.50it/s]\n"
     ]
    },
    {
     "name": "stdout",
     "output_type": "stream",
     "text": [
      "Best params:  {'C': 1000, 'epsilon': 1e-05, 'gamma': 0.01, 'kernel': 'rbf'}\n",
      "Best rmse:  0.12913995726795835\n",
      "Training model:  77\n"
     ]
    },
    {
     "name": "stderr",
     "output_type": "stream",
     "text": [
      "100%|██████████████████████████████████████████████████████████████████████████████████| 80/80 [00:01<00:00, 76.25it/s]\n"
     ]
    },
    {
     "name": "stdout",
     "output_type": "stream",
     "text": [
      "Best params:  {'C': 1000, 'epsilon': 0.001, 'gamma': 0.001, 'kernel': 'rbf'}\n",
      "Best rmse:  0.10808548093532742\n",
      "Training model:  78\n"
     ]
    },
    {
     "name": "stderr",
     "output_type": "stream",
     "text": [
      "100%|██████████████████████████████████████████████████████████████████████████████████| 80/80 [00:01<00:00, 75.81it/s]\n"
     ]
    },
    {
     "name": "stdout",
     "output_type": "stream",
     "text": [
      "Best params:  {'C': 1000, 'epsilon': 0.1, 'gamma': 0.01, 'kernel': 'rbf'}\n",
      "Best rmse:  0.2557112764761935\n",
      "Training model:  79\n"
     ]
    },
    {
     "name": "stderr",
     "output_type": "stream",
     "text": [
      "100%|██████████████████████████████████████████████████████████████████████████████████| 80/80 [00:01<00:00, 75.03it/s]\n"
     ]
    },
    {
     "name": "stdout",
     "output_type": "stream",
     "text": [
      "Best params:  {'C': 1000, 'epsilon': 0.1, 'gamma': 0.01, 'kernel': 'rbf'}\n",
      "Best rmse:  0.15922314051274736\n",
      "Training model:  80\n"
     ]
    },
    {
     "name": "stderr",
     "output_type": "stream",
     "text": [
      "100%|██████████████████████████████████████████████████████████████████████████████████| 80/80 [00:01<00:00, 76.91it/s]\n"
     ]
    },
    {
     "name": "stdout",
     "output_type": "stream",
     "text": [
      "Best params:  {'C': 100, 'epsilon': 1e-05, 'gamma': 0.01, 'kernel': 'rbf'}\n",
      "Best rmse:  0.12118129312301221\n",
      "Training model:  81\n"
     ]
    },
    {
     "name": "stderr",
     "output_type": "stream",
     "text": [
      "100%|██████████████████████████████████████████████████████████████████████████████████| 80/80 [00:01<00:00, 77.50it/s]\n"
     ]
    },
    {
     "name": "stdout",
     "output_type": "stream",
     "text": [
      "Best params:  {'C': 1000, 'epsilon': 0.1, 'gamma': 0.01, 'kernel': 'rbf'}\n",
      "Best rmse:  0.17379264103768316\n",
      "Training model:  82\n"
     ]
    },
    {
     "name": "stderr",
     "output_type": "stream",
     "text": [
      "100%|██████████████████████████████████████████████████████████████████████████████████| 80/80 [00:01<00:00, 76.03it/s]\n"
     ]
    },
    {
     "name": "stdout",
     "output_type": "stream",
     "text": [
      "Best params:  {'C': 1000, 'epsilon': 0.1, 'gamma': 0.001, 'kernel': 'rbf'}\n",
      "Best rmse:  0.09889633635881298\n",
      "Training model:  83\n"
     ]
    },
    {
     "name": "stderr",
     "output_type": "stream",
     "text": [
      "100%|██████████████████████████████████████████████████████████████████████████████████| 80/80 [00:01<00:00, 77.20it/s]\n"
     ]
    },
    {
     "name": "stdout",
     "output_type": "stream",
     "text": [
      "Best params:  {'C': 1000, 'epsilon': 0.01, 'gamma': 0.001, 'kernel': 'rbf'}\n",
      "Best rmse:  0.1622636346555211\n",
      "Training model:  84\n"
     ]
    },
    {
     "name": "stderr",
     "output_type": "stream",
     "text": [
      "100%|██████████████████████████████████████████████████████████████████████████████████| 80/80 [00:01<00:00, 75.53it/s]\n"
     ]
    },
    {
     "name": "stdout",
     "output_type": "stream",
     "text": [
      "Best params:  {'C': 1000, 'epsilon': 0.1, 'gamma': 0.01, 'kernel': 'rbf'}\n",
      "Best rmse:  0.1383308964653504\n",
      "Training model:  85\n"
     ]
    },
    {
     "name": "stderr",
     "output_type": "stream",
     "text": [
      "100%|██████████████████████████████████████████████████████████████████████████████████| 80/80 [00:01<00:00, 76.10it/s]\n"
     ]
    },
    {
     "name": "stdout",
     "output_type": "stream",
     "text": [
      "Best params:  {'C': 1000, 'epsilon': 0.01, 'gamma': 0.001, 'kernel': 'rbf'}\n",
      "Best rmse:  0.29276520119978694\n",
      "Training model:  86\n"
     ]
    },
    {
     "name": "stderr",
     "output_type": "stream",
     "text": [
      "100%|██████████████████████████████████████████████████████████████████████████████████| 80/80 [00:01<00:00, 77.20it/s]\n"
     ]
    },
    {
     "name": "stdout",
     "output_type": "stream",
     "text": [
      "Best params:  {'C': 1000, 'epsilon': 1e-05, 'gamma': 0.01, 'kernel': 'rbf'}\n",
      "Best rmse:  0.11622006909815621\n",
      "Training model:  87\n"
     ]
    },
    {
     "name": "stderr",
     "output_type": "stream",
     "text": [
      "100%|██████████████████████████████████████████████████████████████████████████████████| 80/80 [00:01<00:00, 77.58it/s]\n"
     ]
    },
    {
     "name": "stdout",
     "output_type": "stream",
     "text": [
      "Best params:  {'C': 1, 'epsilon': 0.01, 'gamma': 0.1, 'kernel': 'rbf'}\n",
      "Best rmse:  0.12710328224144024\n",
      "Training model:  88\n"
     ]
    },
    {
     "name": "stderr",
     "output_type": "stream",
     "text": [
      "100%|██████████████████████████████████████████████████████████████████████████████████| 80/80 [00:01<00:00, 77.28it/s]\n"
     ]
    },
    {
     "name": "stdout",
     "output_type": "stream",
     "text": [
      "Best params:  {'C': 100, 'epsilon': 0.01, 'gamma': 0.1, 'kernel': 'rbf'}\n",
      "Best rmse:  0.09853503458028354\n",
      "Training model:  89\n"
     ]
    },
    {
     "name": "stderr",
     "output_type": "stream",
     "text": [
      "100%|██████████████████████████████████████████████████████████████████████████████████| 80/80 [00:01<00:00, 77.13it/s]\n"
     ]
    },
    {
     "name": "stdout",
     "output_type": "stream",
     "text": [
      "Best params:  {'C': 1000, 'epsilon': 0.1, 'gamma': 0.001, 'kernel': 'rbf'}\n",
      "Best rmse:  0.20547739346186472\n",
      "Training model:  90\n"
     ]
    },
    {
     "name": "stderr",
     "output_type": "stream",
     "text": [
      "100%|██████████████████████████████████████████████████████████████████████████████████| 80/80 [00:01<00:00, 76.54it/s]\n"
     ]
    },
    {
     "name": "stdout",
     "output_type": "stream",
     "text": [
      "Best params:  {'C': 1000, 'epsilon': 0.01, 'gamma': 0.01, 'kernel': 'rbf'}\n",
      "Best rmse:  0.23123874075829917\n",
      "Training model:  91\n"
     ]
    },
    {
     "name": "stderr",
     "output_type": "stream",
     "text": [
      "100%|██████████████████████████████████████████████████████████████████████████████████| 80/80 [00:01<00:00, 77.80it/s]\n"
     ]
    },
    {
     "name": "stdout",
     "output_type": "stream",
     "text": [
      "Best params:  {'C': 1000, 'epsilon': 0.1, 'gamma': 0.01, 'kernel': 'rbf'}\n",
      "Best rmse:  0.09702590073321816\n",
      "Training model:  92\n"
     ]
    },
    {
     "name": "stderr",
     "output_type": "stream",
     "text": [
      "100%|██████████████████████████████████████████████████████████████████████████████████| 80/80 [00:01<00:00, 76.98it/s]\n"
     ]
    },
    {
     "name": "stdout",
     "output_type": "stream",
     "text": [
      "Best params:  {'C': 100, 'epsilon': 0.1, 'gamma': 0.1, 'kernel': 'rbf'}\n",
      "Best rmse:  0.12325660542287827\n",
      "Training model:  93\n"
     ]
    },
    {
     "name": "stderr",
     "output_type": "stream",
     "text": [
      "100%|██████████████████████████████████████████████████████████████████████████████████| 80/80 [00:01<00:00, 78.03it/s]\n"
     ]
    },
    {
     "name": "stdout",
     "output_type": "stream",
     "text": [
      "Best params:  {'C': 1, 'epsilon': 0.01, 'gamma': 0.1, 'kernel': 'rbf'}\n",
      "Best rmse:  0.124883546496971\n",
      "Training model:  94\n"
     ]
    },
    {
     "name": "stderr",
     "output_type": "stream",
     "text": [
      "100%|██████████████████████████████████████████████████████████████████████████████████| 80/80 [00:01<00:00, 76.61it/s]\n"
     ]
    },
    {
     "name": "stdout",
     "output_type": "stream",
     "text": [
      "Best params:  {'C': 1000, 'epsilon': 0.1, 'gamma': 0.01, 'kernel': 'rbf'}\n",
      "Best rmse:  0.14681288628923653\n",
      "Training model:  95\n"
     ]
    },
    {
     "name": "stderr",
     "output_type": "stream",
     "text": [
      "100%|██████████████████████████████████████████████████████████████████████████████████| 80/80 [00:01<00:00, 77.50it/s]\n"
     ]
    },
    {
     "name": "stdout",
     "output_type": "stream",
     "text": [
      "Best params:  {'C': 100, 'epsilon': 1e-05, 'gamma': 0.1, 'kernel': 'rbf'}\n",
      "Best rmse:  0.15353479542775142\n",
      "Training model:  96\n"
     ]
    },
    {
     "name": "stderr",
     "output_type": "stream",
     "text": [
      "100%|██████████████████████████████████████████████████████████████████████████████████| 80/80 [00:01<00:00, 76.98it/s]\n"
     ]
    },
    {
     "name": "stdout",
     "output_type": "stream",
     "text": [
      "Best params:  {'C': 10, 'epsilon': 0.0001, 'gamma': 1, 'kernel': 'rbf'}\n",
      "Best rmse:  0.1263497769075225\n",
      "Training model:  97\n"
     ]
    },
    {
     "name": "stderr",
     "output_type": "stream",
     "text": [
      "100%|██████████████████████████████████████████████████████████████████████████████████| 80/80 [00:01<00:00, 76.98it/s]\n"
     ]
    },
    {
     "name": "stdout",
     "output_type": "stream",
     "text": [
      "Best params:  {'C': 10, 'epsilon': 0.0001, 'gamma': 0.01, 'kernel': 'rbf'}\n",
      "Best rmse:  0.23576242423103974\n",
      "Training model:  98\n"
     ]
    },
    {
     "name": "stderr",
     "output_type": "stream",
     "text": [
      "100%|██████████████████████████████████████████████████████████████████████████████████| 80/80 [00:01<00:00, 77.73it/s]\n"
     ]
    },
    {
     "name": "stdout",
     "output_type": "stream",
     "text": [
      "Best params:  {'C': 1000, 'epsilon': 0.01, 'gamma': 0.01, 'kernel': 'rbf'}\n",
      "Best rmse:  0.14149360066929545\n",
      "Training model:  99\n"
     ]
    },
    {
     "name": "stderr",
     "output_type": "stream",
     "text": [
      "100%|██████████████████████████████████████████████████████████████████████████████████| 80/80 [00:01<00:00, 76.91it/s]\n"
     ]
    },
    {
     "name": "stdout",
     "output_type": "stream",
     "text": [
      "Best params:  {'C': 1000, 'epsilon': 0.1, 'gamma': 0.001, 'kernel': 'rbf'}\n",
      "Best rmse:  0.09783818267404387\n"
     ]
    },
    {
     "name": "stderr",
     "output_type": "stream",
     "text": [
      "100%|████████████████████████████████████████████████████████████████████████████████| 800/800 [00:48<00:00, 16.54it/s]\n"
     ]
    },
    {
     "name": "stdout",
     "output_type": "stream",
     "text": [
      "Best params:  {'comb': 'median', 'k': 4, 'n': 7}\n",
      "Best rmse:  306.4149647383013\n",
      "MSE: 0.024952862911636352\n",
      "MAPE: 23.02296088569291\n",
      "ARV: 0.6442502038707288\n",
      "MAE: 0.11722947801327319\n",
      "RMSE: 0.1579647521177948\n",
      "NRMSE: 0.21345847011156643\n",
      "SMAPE: 24.811214402217573\n",
      "Time Series:  star\n",
      "\n",
      "###############################################\n",
      "\n",
      "Executing: ENSEMBLE SVR\n",
      "d:  0\n",
      "Training model:  0\n"
     ]
    },
    {
     "name": "stderr",
     "output_type": "stream",
     "text": [
      "100%|██████████████████████████████████████████████████████████████████████████████████| 80/80 [00:01<00:00, 67.84it/s]\n"
     ]
    },
    {
     "name": "stdout",
     "output_type": "stream",
     "text": [
      "Best params:  {'C': 10, 'epsilon': 0.001, 'gamma': 1, 'kernel': 'rbf'}\n",
      "Best rmse:  0.007667336261059347\n",
      "Training model:  1\n"
     ]
    },
    {
     "name": "stderr",
     "output_type": "stream",
     "text": [
      "100%|██████████████████████████████████████████████████████████████████████████████████| 80/80 [00:01<00:00, 67.50it/s]\n"
     ]
    },
    {
     "name": "stdout",
     "output_type": "stream",
     "text": [
      "Best params:  {'C': 10, 'epsilon': 0.001, 'gamma': 1, 'kernel': 'rbf'}\n",
      "Best rmse:  0.007671693641549042\n",
      "Training model:  2\n"
     ]
    },
    {
     "name": "stderr",
     "output_type": "stream",
     "text": [
      "100%|██████████████████████████████████████████████████████████████████████████████████| 80/80 [00:01<00:00, 68.07it/s]\n"
     ]
    },
    {
     "name": "stdout",
     "output_type": "stream",
     "text": [
      "Best params:  {'C': 10, 'epsilon': 0.001, 'gamma': 1, 'kernel': 'rbf'}\n",
      "Best rmse:  0.007235909956314926\n",
      "Training model:  3\n"
     ]
    },
    {
     "name": "stderr",
     "output_type": "stream",
     "text": [
      "100%|██████████████████████████████████████████████████████████████████████████████████| 80/80 [00:01<00:00, 68.01it/s]\n"
     ]
    },
    {
     "name": "stdout",
     "output_type": "stream",
     "text": [
      "Best params:  {'C': 100, 'epsilon': 0.001, 'gamma': 1, 'kernel': 'rbf'}\n",
      "Best rmse:  0.007484962321617133\n",
      "Training model:  4\n"
     ]
    },
    {
     "name": "stderr",
     "output_type": "stream",
     "text": [
      "100%|██████████████████████████████████████████████████████████████████████████████████| 80/80 [00:01<00:00, 68.01it/s]\n"
     ]
    },
    {
     "name": "stdout",
     "output_type": "stream",
     "text": [
      "Best params:  {'C': 10, 'epsilon': 0.001, 'gamma': 1, 'kernel': 'rbf'}\n",
      "Best rmse:  0.005628668103181816\n",
      "Training model:  5\n"
     ]
    },
    {
     "name": "stderr",
     "output_type": "stream",
     "text": [
      "100%|██████████████████████████████████████████████████████████████████████████████████| 80/80 [00:01<00:00, 67.72it/s]\n"
     ]
    },
    {
     "name": "stdout",
     "output_type": "stream",
     "text": [
      "Best params:  {'C': 10, 'epsilon': 0.001, 'gamma': 1, 'kernel': 'rbf'}\n",
      "Best rmse:  0.007010203106135316\n",
      "Training model:  6\n"
     ]
    },
    {
     "name": "stderr",
     "output_type": "stream",
     "text": [
      "100%|██████████████████████████████████████████████████████████████████████████████████| 80/80 [00:01<00:00, 67.78it/s]\n"
     ]
    },
    {
     "name": "stdout",
     "output_type": "stream",
     "text": [
      "Best params:  {'C': 100, 'epsilon': 1e-05, 'gamma': 1, 'kernel': 'rbf'}\n",
      "Best rmse:  0.006486355707170694\n",
      "Training model:  7\n"
     ]
    },
    {
     "name": "stderr",
     "output_type": "stream",
     "text": [
      "100%|██████████████████████████████████████████████████████████████████████████████████| 80/80 [00:01<00:00, 68.42it/s]\n"
     ]
    },
    {
     "name": "stdout",
     "output_type": "stream",
     "text": [
      "Best params:  {'C': 10, 'epsilon': 1e-05, 'gamma': 1, 'kernel': 'rbf'}\n",
      "Best rmse:  0.007456042719998763\n",
      "Training model:  8\n"
     ]
    },
    {
     "name": "stderr",
     "output_type": "stream",
     "text": [
      "100%|██████████████████████████████████████████████████████████████████████████████████| 80/80 [00:01<00:00, 67.84it/s]\n"
     ]
    },
    {
     "name": "stdout",
     "output_type": "stream",
     "text": [
      "Best params:  {'C': 10, 'epsilon': 0.001, 'gamma': 1, 'kernel': 'rbf'}\n",
      "Best rmse:  0.006746850326287682\n",
      "Training model:  9\n"
     ]
    },
    {
     "name": "stderr",
     "output_type": "stream",
     "text": [
      "100%|██████████████████████████████████████████████████████████████████████████████████| 80/80 [00:01<00:00, 67.72it/s]\n"
     ]
    },
    {
     "name": "stdout",
     "output_type": "stream",
     "text": [
      "Best params:  {'C': 10, 'epsilon': 0.001, 'gamma': 1, 'kernel': 'rbf'}\n",
      "Best rmse:  0.006462290078282944\n",
      "Training model:  10\n"
     ]
    },
    {
     "name": "stderr",
     "output_type": "stream",
     "text": [
      "100%|██████████████████████████████████████████████████████████████████████████████████| 80/80 [00:01<00:00, 67.90it/s]\n"
     ]
    },
    {
     "name": "stdout",
     "output_type": "stream",
     "text": [
      "Best params:  {'C': 10, 'epsilon': 0.001, 'gamma': 1, 'kernel': 'rbf'}\n",
      "Best rmse:  0.0075492348654030315\n",
      "Training model:  11\n"
     ]
    },
    {
     "name": "stderr",
     "output_type": "stream",
     "text": [
      "100%|██████████████████████████████████████████████████████████████████████████████████| 80/80 [00:01<00:00, 69.13it/s]\n"
     ]
    },
    {
     "name": "stdout",
     "output_type": "stream",
     "text": [
      "Best params:  {'C': 10, 'epsilon': 1e-05, 'gamma': 1, 'kernel': 'rbf'}\n",
      "Best rmse:  0.007612536568172496\n",
      "Training model:  12\n"
     ]
    },
    {
     "name": "stderr",
     "output_type": "stream",
     "text": [
      "100%|██████████████████████████████████████████████████████████████████████████████████| 80/80 [00:01<00:00, 68.48it/s]\n"
     ]
    },
    {
     "name": "stdout",
     "output_type": "stream",
     "text": [
      "Best params:  {'C': 100, 'epsilon': 0.001, 'gamma': 1, 'kernel': 'rbf'}\n",
      "Best rmse:  0.006986077827813789\n",
      "Training model:  13\n"
     ]
    },
    {
     "name": "stderr",
     "output_type": "stream",
     "text": [
      "100%|██████████████████████████████████████████████████████████████████████████████████| 80/80 [00:01<00:00, 68.36it/s]\n"
     ]
    },
    {
     "name": "stdout",
     "output_type": "stream",
     "text": [
      "Best params:  {'C': 100, 'epsilon': 0.001, 'gamma': 1, 'kernel': 'rbf'}\n",
      "Best rmse:  0.0061362920807654835\n",
      "Training model:  14\n"
     ]
    },
    {
     "name": "stderr",
     "output_type": "stream",
     "text": [
      "100%|██████████████████████████████████████████████████████████████████████████████████| 80/80 [00:01<00:00, 67.95it/s]\n"
     ]
    },
    {
     "name": "stdout",
     "output_type": "stream",
     "text": [
      "Best params:  {'C': 10, 'epsilon': 1e-05, 'gamma': 1, 'kernel': 'rbf'}\n",
      "Best rmse:  0.007425578544451928\n",
      "Training model:  15\n"
     ]
    },
    {
     "name": "stderr",
     "output_type": "stream",
     "text": [
      "100%|██████████████████████████████████████████████████████████████████████████████████| 80/80 [00:01<00:00, 68.95it/s]\n"
     ]
    },
    {
     "name": "stdout",
     "output_type": "stream",
     "text": [
      "Best params:  {'C': 100, 'epsilon': 0.001, 'gamma': 0.1, 'kernel': 'rbf'}\n",
      "Best rmse:  0.009023289449069187\n",
      "Training model:  16\n"
     ]
    },
    {
     "name": "stderr",
     "output_type": "stream",
     "text": [
      "100%|██████████████████████████████████████████████████████████████████████████████████| 80/80 [00:01<00:00, 69.07it/s]\n"
     ]
    },
    {
     "name": "stdout",
     "output_type": "stream",
     "text": [
      "Best params:  {'C': 10, 'epsilon': 0.0001, 'gamma': 1, 'kernel': 'rbf'}\n",
      "Best rmse:  0.008130513284917248\n",
      "Training model:  17\n"
     ]
    },
    {
     "name": "stderr",
     "output_type": "stream",
     "text": [
      "100%|██████████████████████████████████████████████████████████████████████████████████| 80/80 [00:01<00:00, 68.83it/s]\n"
     ]
    },
    {
     "name": "stdout",
     "output_type": "stream",
     "text": [
      "Best params:  {'C': 100, 'epsilon': 0.001, 'gamma': 1, 'kernel': 'rbf'}\n",
      "Best rmse:  0.006763943859571239\n",
      "Training model:  18\n"
     ]
    },
    {
     "name": "stderr",
     "output_type": "stream",
     "text": [
      "100%|██████████████████████████████████████████████████████████████████████████████████| 80/80 [00:01<00:00, 68.83it/s]\n"
     ]
    },
    {
     "name": "stdout",
     "output_type": "stream",
     "text": [
      "Best params:  {'C': 10, 'epsilon': 0.0001, 'gamma': 1, 'kernel': 'rbf'}\n",
      "Best rmse:  0.008875767408015257\n",
      "Training model:  19\n"
     ]
    },
    {
     "name": "stderr",
     "output_type": "stream",
     "text": [
      "100%|██████████████████████████████████████████████████████████████████████████████████| 80/80 [00:01<00:00, 68.54it/s]\n"
     ]
    },
    {
     "name": "stdout",
     "output_type": "stream",
     "text": [
      "Best params:  {'C': 100, 'epsilon': 0.0001, 'gamma': 1, 'kernel': 'rbf'}\n",
      "Best rmse:  0.008840076230604971\n",
      "Training model:  20\n"
     ]
    },
    {
     "name": "stderr",
     "output_type": "stream",
     "text": [
      "100%|██████████████████████████████████████████████████████████████████████████████████| 80/80 [00:01<00:00, 68.07it/s]\n"
     ]
    },
    {
     "name": "stdout",
     "output_type": "stream",
     "text": [
      "Best params:  {'C': 10, 'epsilon': 0.001, 'gamma': 1, 'kernel': 'rbf'}\n",
      "Best rmse:  0.0063056451717580396\n",
      "Training model:  21\n"
     ]
    },
    {
     "name": "stderr",
     "output_type": "stream",
     "text": [
      "100%|██████████████████████████████████████████████████████████████████████████████████| 80/80 [00:01<00:00, 67.72it/s]\n"
     ]
    },
    {
     "name": "stdout",
     "output_type": "stream",
     "text": [
      "Best params:  {'C': 100, 'epsilon': 0.0001, 'gamma': 1, 'kernel': 'rbf'}\n",
      "Best rmse:  0.005861589460347389\n",
      "Training model:  22\n"
     ]
    },
    {
     "name": "stderr",
     "output_type": "stream",
     "text": [
      "100%|██████████████████████████████████████████████████████████████████████████████████| 80/80 [00:01<00:00, 68.71it/s]\n"
     ]
    },
    {
     "name": "stdout",
     "output_type": "stream",
     "text": [
      "Best params:  {'C': 10, 'epsilon': 1e-05, 'gamma': 1, 'kernel': 'rbf'}\n",
      "Best rmse:  0.005818484361430896\n",
      "Training model:  23\n"
     ]
    },
    {
     "name": "stderr",
     "output_type": "stream",
     "text": [
      "100%|██████████████████████████████████████████████████████████████████████████████████| 80/80 [00:01<00:00, 67.72it/s]\n"
     ]
    },
    {
     "name": "stdout",
     "output_type": "stream",
     "text": [
      "Best params:  {'C': 10, 'epsilon': 1e-05, 'gamma': 1, 'kernel': 'rbf'}\n",
      "Best rmse:  0.008503467563552204\n",
      "Training model:  24\n"
     ]
    },
    {
     "name": "stderr",
     "output_type": "stream",
     "text": [
      "100%|██████████████████████████████████████████████████████████████████████████████████| 80/80 [00:01<00:00, 68.54it/s]\n"
     ]
    },
    {
     "name": "stdout",
     "output_type": "stream",
     "text": [
      "Best params:  {'C': 10, 'epsilon': 0.0001, 'gamma': 1, 'kernel': 'rbf'}\n",
      "Best rmse:  0.0061558028948884135\n",
      "Training model:  25\n"
     ]
    },
    {
     "name": "stderr",
     "output_type": "stream",
     "text": [
      "100%|██████████████████████████████████████████████████████████████████████████████████| 80/80 [00:01<00:00, 68.19it/s]\n"
     ]
    },
    {
     "name": "stdout",
     "output_type": "stream",
     "text": [
      "Best params:  {'C': 10, 'epsilon': 0.0001, 'gamma': 1, 'kernel': 'rbf'}\n",
      "Best rmse:  0.005822684615344022\n",
      "Training model:  26\n"
     ]
    },
    {
     "name": "stderr",
     "output_type": "stream",
     "text": [
      "100%|██████████████████████████████████████████████████████████████████████████████████| 80/80 [00:01<00:00, 68.07it/s]\n"
     ]
    },
    {
     "name": "stdout",
     "output_type": "stream",
     "text": [
      "Best params:  {'C': 100, 'epsilon': 0.001, 'gamma': 1, 'kernel': 'rbf'}\n",
      "Best rmse:  0.007427218049916413\n",
      "Training model:  27\n"
     ]
    },
    {
     "name": "stderr",
     "output_type": "stream",
     "text": [
      "100%|██████████████████████████████████████████████████████████████████████████████████| 80/80 [00:01<00:00, 67.84it/s]\n"
     ]
    },
    {
     "name": "stdout",
     "output_type": "stream",
     "text": [
      "Best params:  {'C': 100, 'epsilon': 0.001, 'gamma': 1, 'kernel': 'rbf'}\n",
      "Best rmse:  0.006801658092079317\n",
      "Training model:  28\n"
     ]
    },
    {
     "name": "stderr",
     "output_type": "stream",
     "text": [
      "100%|██████████████████████████████████████████████████████████████████████████████████| 80/80 [00:01<00:00, 68.48it/s]\n"
     ]
    },
    {
     "name": "stdout",
     "output_type": "stream",
     "text": [
      "Best params:  {'C': 10, 'epsilon': 0.0001, 'gamma': 1, 'kernel': 'rbf'}\n",
      "Best rmse:  0.008617524051944585\n",
      "Training model:  29\n"
     ]
    },
    {
     "name": "stderr",
     "output_type": "stream",
     "text": [
      "100%|██████████████████████████████████████████████████████████████████████████████████| 80/80 [00:01<00:00, 68.42it/s]\n"
     ]
    },
    {
     "name": "stdout",
     "output_type": "stream",
     "text": [
      "Best params:  {'C': 10, 'epsilon': 1e-05, 'gamma': 1, 'kernel': 'rbf'}\n",
      "Best rmse:  0.007676506416734223\n",
      "Training model:  30\n"
     ]
    },
    {
     "name": "stderr",
     "output_type": "stream",
     "text": [
      "100%|██████████████████████████████████████████████████████████████████████████████████| 80/80 [00:01<00:00, 68.60it/s]\n"
     ]
    },
    {
     "name": "stdout",
     "output_type": "stream",
     "text": [
      "Best params:  {'C': 10, 'epsilon': 0.001, 'gamma': 0.1, 'kernel': 'rbf'}\n",
      "Best rmse:  0.009786585868564722\n",
      "Training model:  31\n"
     ]
    },
    {
     "name": "stderr",
     "output_type": "stream",
     "text": [
      "100%|██████████████████████████████████████████████████████████████████████████████████| 80/80 [00:01<00:00, 68.77it/s]\n"
     ]
    },
    {
     "name": "stdout",
     "output_type": "stream",
     "text": [
      "Best params:  {'C': 100, 'epsilon': 0.0001, 'gamma': 1, 'kernel': 'rbf'}\n",
      "Best rmse:  0.007635175162130564\n",
      "Training model:  32\n"
     ]
    },
    {
     "name": "stderr",
     "output_type": "stream",
     "text": [
      "100%|██████████████████████████████████████████████████████████████████████████████████| 80/80 [00:01<00:00, 67.50it/s]\n"
     ]
    },
    {
     "name": "stdout",
     "output_type": "stream",
     "text": [
      "Best params:  {'C': 10, 'epsilon': 0.001, 'gamma': 1, 'kernel': 'rbf'}\n",
      "Best rmse:  0.008839388412505918\n",
      "Training model:  33\n"
     ]
    },
    {
     "name": "stderr",
     "output_type": "stream",
     "text": [
      "100%|██████████████████████████████████████████████████████████████████████████████████| 80/80 [00:01<00:00, 67.90it/s]\n"
     ]
    },
    {
     "name": "stdout",
     "output_type": "stream",
     "text": [
      "Best params:  {'C': 100, 'epsilon': 1e-05, 'gamma': 1, 'kernel': 'rbf'}\n",
      "Best rmse:  0.007063555122906508\n",
      "Training model:  34\n"
     ]
    },
    {
     "name": "stderr",
     "output_type": "stream",
     "text": [
      "100%|██████████████████████████████████████████████████████████████████████████████████| 80/80 [00:01<00:00, 67.67it/s]\n"
     ]
    },
    {
     "name": "stdout",
     "output_type": "stream",
     "text": [
      "Best params:  {'C': 100, 'epsilon': 1e-05, 'gamma': 1, 'kernel': 'rbf'}\n",
      "Best rmse:  0.006612343825340025\n",
      "Training model:  35\n"
     ]
    },
    {
     "name": "stderr",
     "output_type": "stream",
     "text": [
      "100%|██████████████████████████████████████████████████████████████████████████████████| 80/80 [00:01<00:00, 68.36it/s]\n"
     ]
    },
    {
     "name": "stdout",
     "output_type": "stream",
     "text": [
      "Best params:  {'C': 10, 'epsilon': 1e-05, 'gamma': 1, 'kernel': 'rbf'}\n",
      "Best rmse:  0.007652158162442617\n",
      "Training model:  36\n"
     ]
    },
    {
     "name": "stderr",
     "output_type": "stream",
     "text": [
      "100%|██████████████████████████████████████████████████████████████████████████████████| 80/80 [00:01<00:00, 68.36it/s]\n"
     ]
    },
    {
     "name": "stdout",
     "output_type": "stream",
     "text": [
      "Best params:  {'C': 10, 'epsilon': 1e-05, 'gamma': 1, 'kernel': 'rbf'}\n",
      "Best rmse:  0.006443653815902276\n",
      "Training model:  37\n"
     ]
    },
    {
     "name": "stderr",
     "output_type": "stream",
     "text": [
      "100%|██████████████████████████████████████████████████████████████████████████████████| 80/80 [00:01<00:00, 68.54it/s]\n"
     ]
    },
    {
     "name": "stdout",
     "output_type": "stream",
     "text": [
      "Best params:  {'C': 100, 'epsilon': 0.001, 'gamma': 1, 'kernel': 'rbf'}\n",
      "Best rmse:  0.006459119112622654\n",
      "Training model:  38\n"
     ]
    },
    {
     "name": "stderr",
     "output_type": "stream",
     "text": [
      "100%|██████████████████████████████████████████████████████████████████████████████████| 80/80 [00:01<00:00, 68.42it/s]\n"
     ]
    },
    {
     "name": "stdout",
     "output_type": "stream",
     "text": [
      "Best params:  {'C': 100, 'epsilon': 0.001, 'gamma': 1, 'kernel': 'rbf'}\n",
      "Best rmse:  0.006425987502068617\n",
      "Training model:  39\n"
     ]
    },
    {
     "name": "stderr",
     "output_type": "stream",
     "text": [
      "100%|██████████████████████████████████████████████████████████████████████████████████| 80/80 [00:01<00:00, 68.13it/s]\n"
     ]
    },
    {
     "name": "stdout",
     "output_type": "stream",
     "text": [
      "Best params:  {'C': 10, 'epsilon': 1e-05, 'gamma': 1, 'kernel': 'rbf'}\n",
      "Best rmse:  0.007862672000685165\n",
      "Training model:  40\n"
     ]
    },
    {
     "name": "stderr",
     "output_type": "stream",
     "text": [
      "100%|██████████████████████████████████████████████████████████████████████████████████| 80/80 [00:01<00:00, 68.42it/s]\n"
     ]
    },
    {
     "name": "stdout",
     "output_type": "stream",
     "text": [
      "Best params:  {'C': 100, 'epsilon': 1e-05, 'gamma': 1, 'kernel': 'rbf'}\n",
      "Best rmse:  0.006769575296665076\n",
      "Training model:  41\n"
     ]
    },
    {
     "name": "stderr",
     "output_type": "stream",
     "text": [
      "100%|██████████████████████████████████████████████████████████████████████████████████| 80/80 [00:01<00:00, 67.95it/s]\n"
     ]
    },
    {
     "name": "stdout",
     "output_type": "stream",
     "text": [
      "Best params:  {'C': 100, 'epsilon': 0.0001, 'gamma': 0.1, 'kernel': 'rbf'}\n",
      "Best rmse:  0.008710347472014239\n",
      "Training model:  42\n"
     ]
    },
    {
     "name": "stderr",
     "output_type": "stream",
     "text": [
      "100%|██████████████████████████████████████████████████████████████████████████████████| 80/80 [00:01<00:00, 68.54it/s]\n"
     ]
    },
    {
     "name": "stdout",
     "output_type": "stream",
     "text": [
      "Best params:  {'C': 10, 'epsilon': 1e-05, 'gamma': 1, 'kernel': 'rbf'}\n",
      "Best rmse:  0.0058217651199719\n",
      "Training model:  43\n"
     ]
    },
    {
     "name": "stderr",
     "output_type": "stream",
     "text": [
      "100%|██████████████████████████████████████████████████████████████████████████████████| 80/80 [00:01<00:00, 68.19it/s]\n"
     ]
    },
    {
     "name": "stdout",
     "output_type": "stream",
     "text": [
      "Best params:  {'C': 10, 'epsilon': 0.0001, 'gamma': 1, 'kernel': 'rbf'}\n",
      "Best rmse:  0.00792703541917493\n",
      "Training model:  44\n"
     ]
    },
    {
     "name": "stderr",
     "output_type": "stream",
     "text": [
      "100%|██████████████████████████████████████████████████████████████████████████████████| 80/80 [00:01<00:00, 67.55it/s]\n"
     ]
    },
    {
     "name": "stdout",
     "output_type": "stream",
     "text": [
      "Best params:  {'C': 100, 'epsilon': 0.0001, 'gamma': 0.1, 'kernel': 'rbf'}\n",
      "Best rmse:  0.007917649942455937\n",
      "Training model:  45\n"
     ]
    },
    {
     "name": "stderr",
     "output_type": "stream",
     "text": [
      "100%|██████████████████████████████████████████████████████████████████████████████████| 80/80 [00:01<00:00, 68.30it/s]\n"
     ]
    },
    {
     "name": "stdout",
     "output_type": "stream",
     "text": [
      "Best params:  {'C': 10, 'epsilon': 0.001, 'gamma': 1, 'kernel': 'rbf'}\n",
      "Best rmse:  0.007361212263752729\n",
      "Training model:  46\n"
     ]
    },
    {
     "name": "stderr",
     "output_type": "stream",
     "text": [
      "100%|██████████████████████████████████████████████████████████████████████████████████| 80/80 [00:01<00:00, 67.04it/s]\n"
     ]
    },
    {
     "name": "stdout",
     "output_type": "stream",
     "text": [
      "Best params:  {'C': 10, 'epsilon': 1e-05, 'gamma': 1, 'kernel': 'rbf'}\n",
      "Best rmse:  0.007141386836119815\n",
      "Training model:  47\n"
     ]
    },
    {
     "name": "stderr",
     "output_type": "stream",
     "text": [
      "100%|██████████████████████████████████████████████████████████████████████████████████| 80/80 [00:01<00:00, 67.95it/s]\n"
     ]
    },
    {
     "name": "stdout",
     "output_type": "stream",
     "text": [
      "Best params:  {'C': 100, 'epsilon': 1e-05, 'gamma': 1, 'kernel': 'rbf'}\n",
      "Best rmse:  0.007925366629844898\n",
      "Training model:  48\n"
     ]
    },
    {
     "name": "stderr",
     "output_type": "stream",
     "text": [
      "100%|██████████████████████████████████████████████████████████████████████████████████| 80/80 [00:01<00:00, 68.36it/s]\n"
     ]
    },
    {
     "name": "stdout",
     "output_type": "stream",
     "text": [
      "Best params:  {'C': 1, 'epsilon': 0.001, 'gamma': 1, 'kernel': 'rbf'}\n",
      "Best rmse:  0.009344785339718248\n",
      "Training model:  49\n"
     ]
    },
    {
     "name": "stderr",
     "output_type": "stream",
     "text": [
      "100%|██████████████████████████████████████████████████████████████████████████████████| 80/80 [00:01<00:00, 68.01it/s]\n"
     ]
    },
    {
     "name": "stdout",
     "output_type": "stream",
     "text": [
      "Best params:  {'C': 10, 'epsilon': 0.0001, 'gamma': 1, 'kernel': 'rbf'}\n",
      "Best rmse:  0.006252456105627652\n",
      "Training model:  50\n"
     ]
    },
    {
     "name": "stderr",
     "output_type": "stream",
     "text": [
      "100%|██████████████████████████████████████████████████████████████████████████████████| 80/80 [00:01<00:00, 68.01it/s]\n"
     ]
    },
    {
     "name": "stdout",
     "output_type": "stream",
     "text": [
      "Best params:  {'C': 100, 'epsilon': 0.001, 'gamma': 1, 'kernel': 'rbf'}\n",
      "Best rmse:  0.006211576196246467\n",
      "Training model:  51\n"
     ]
    },
    {
     "name": "stderr",
     "output_type": "stream",
     "text": [
      "100%|██████████████████████████████████████████████████████████████████████████████████| 80/80 [00:01<00:00, 68.24it/s]\n"
     ]
    },
    {
     "name": "stdout",
     "output_type": "stream",
     "text": [
      "Best params:  {'C': 10, 'epsilon': 1e-05, 'gamma': 1, 'kernel': 'rbf'}\n",
      "Best rmse:  0.007249717673625805\n",
      "Training model:  52\n"
     ]
    },
    {
     "name": "stderr",
     "output_type": "stream",
     "text": [
      "100%|██████████████████████████████████████████████████████████████████████████████████| 80/80 [00:01<00:00, 67.55it/s]\n"
     ]
    },
    {
     "name": "stdout",
     "output_type": "stream",
     "text": [
      "Best params:  {'C': 100, 'epsilon': 1e-05, 'gamma': 0.1, 'kernel': 'rbf'}\n",
      "Best rmse:  0.008356211784138007\n",
      "Training model:  53\n"
     ]
    },
    {
     "name": "stderr",
     "output_type": "stream",
     "text": [
      "100%|██████████████████████████████████████████████████████████████████████████████████| 80/80 [00:01<00:00, 67.61it/s]\n"
     ]
    },
    {
     "name": "stdout",
     "output_type": "stream",
     "text": [
      "Best params:  {'C': 10, 'epsilon': 0.01, 'gamma': 1, 'kernel': 'rbf'}\n",
      "Best rmse:  0.009776599423283593\n",
      "Training model:  54\n"
     ]
    },
    {
     "name": "stderr",
     "output_type": "stream",
     "text": [
      "100%|██████████████████████████████████████████████████████████████████████████████████| 80/80 [00:01<00:00, 67.55it/s]\n"
     ]
    },
    {
     "name": "stdout",
     "output_type": "stream",
     "text": [
      "Best params:  {'C': 10, 'epsilon': 0.0001, 'gamma': 1, 'kernel': 'rbf'}\n",
      "Best rmse:  0.006940415020064138\n",
      "Training model:  55\n"
     ]
    },
    {
     "name": "stderr",
     "output_type": "stream",
     "text": [
      "100%|██████████████████████████████████████████████████████████████████████████████████| 80/80 [00:01<00:00, 67.78it/s]\n"
     ]
    },
    {
     "name": "stdout",
     "output_type": "stream",
     "text": [
      "Best params:  {'C': 10, 'epsilon': 0.0001, 'gamma': 1, 'kernel': 'rbf'}\n",
      "Best rmse:  0.007660259490919557\n",
      "Training model:  56\n"
     ]
    },
    {
     "name": "stderr",
     "output_type": "stream",
     "text": [
      "100%|██████████████████████████████████████████████████████████████████████████████████| 80/80 [00:01<00:00, 67.95it/s]\n"
     ]
    },
    {
     "name": "stdout",
     "output_type": "stream",
     "text": [
      "Best params:  {'C': 10, 'epsilon': 0.001, 'gamma': 1, 'kernel': 'rbf'}\n",
      "Best rmse:  0.005913468527900212\n",
      "Training model:  57\n"
     ]
    },
    {
     "name": "stderr",
     "output_type": "stream",
     "text": [
      "100%|██████████████████████████████████████████████████████████████████████████████████| 80/80 [00:01<00:00, 67.90it/s]\n"
     ]
    },
    {
     "name": "stdout",
     "output_type": "stream",
     "text": [
      "Best params:  {'C': 10, 'epsilon': 0.001, 'gamma': 1, 'kernel': 'rbf'}\n",
      "Best rmse:  0.007626117728253945\n",
      "Training model:  58\n"
     ]
    },
    {
     "name": "stderr",
     "output_type": "stream",
     "text": [
      "100%|██████████████████████████████████████████████████████████████████████████████████| 80/80 [00:01<00:00, 68.36it/s]\n"
     ]
    },
    {
     "name": "stdout",
     "output_type": "stream",
     "text": [
      "Best params:  {'C': 10, 'epsilon': 1e-05, 'gamma': 1, 'kernel': 'rbf'}\n",
      "Best rmse:  0.0072248251868733205\n",
      "Training model:  59\n"
     ]
    },
    {
     "name": "stderr",
     "output_type": "stream",
     "text": [
      "100%|██████████████████████████████████████████████████████████████████████████████████| 80/80 [00:01<00:00, 68.24it/s]\n"
     ]
    },
    {
     "name": "stdout",
     "output_type": "stream",
     "text": [
      "Best params:  {'C': 10, 'epsilon': 0.001, 'gamma': 1, 'kernel': 'rbf'}\n",
      "Best rmse:  0.0075844254077827855\n",
      "Training model:  60\n"
     ]
    },
    {
     "name": "stderr",
     "output_type": "stream",
     "text": [
      "100%|██████████████████████████████████████████████████████████████████████████████████| 80/80 [00:01<00:00, 67.90it/s]\n"
     ]
    },
    {
     "name": "stdout",
     "output_type": "stream",
     "text": [
      "Best params:  {'C': 100, 'epsilon': 0.0001, 'gamma': 1, 'kernel': 'rbf'}\n",
      "Best rmse:  0.008365055951228028\n",
      "Training model:  61\n"
     ]
    },
    {
     "name": "stderr",
     "output_type": "stream",
     "text": [
      "100%|██████████████████████████████████████████████████████████████████████████████████| 80/80 [00:01<00:00, 67.84it/s]\n"
     ]
    },
    {
     "name": "stdout",
     "output_type": "stream",
     "text": [
      "Best params:  {'C': 100, 'epsilon': 0.001, 'gamma': 1, 'kernel': 'rbf'}\n",
      "Best rmse:  0.007271065013991327\n",
      "Training model:  62\n"
     ]
    },
    {
     "name": "stderr",
     "output_type": "stream",
     "text": [
      "100%|██████████████████████████████████████████████████████████████████████████████████| 80/80 [00:01<00:00, 68.19it/s]\n"
     ]
    },
    {
     "name": "stdout",
     "output_type": "stream",
     "text": [
      "Best params:  {'C': 10, 'epsilon': 0.001, 'gamma': 1, 'kernel': 'rbf'}\n",
      "Best rmse:  0.006723353186690239\n",
      "Training model:  63\n"
     ]
    },
    {
     "name": "stderr",
     "output_type": "stream",
     "text": [
      "100%|██████████████████████████████████████████████████████████████████████████████████| 80/80 [00:01<00:00, 68.71it/s]\n"
     ]
    },
    {
     "name": "stdout",
     "output_type": "stream",
     "text": [
      "Best params:  {'C': 10, 'epsilon': 1e-05, 'gamma': 1, 'kernel': 'rbf'}\n",
      "Best rmse:  0.008421513940665594\n",
      "Training model:  64\n"
     ]
    },
    {
     "name": "stderr",
     "output_type": "stream",
     "text": [
      "100%|██████████████████████████████████████████████████████████████████████████████████| 80/80 [00:01<00:00, 68.54it/s]\n"
     ]
    },
    {
     "name": "stdout",
     "output_type": "stream",
     "text": [
      "Best params:  {'C': 1, 'epsilon': 1e-05, 'gamma': 1, 'kernel': 'rbf'}\n",
      "Best rmse:  0.007115999159713055\n",
      "Training model:  65\n"
     ]
    },
    {
     "name": "stderr",
     "output_type": "stream",
     "text": [
      "100%|██████████████████████████████████████████████████████████████████████████████████| 80/80 [00:01<00:00, 67.90it/s]\n"
     ]
    },
    {
     "name": "stdout",
     "output_type": "stream",
     "text": [
      "Best params:  {'C': 10, 'epsilon': 1e-05, 'gamma': 1, 'kernel': 'rbf'}\n",
      "Best rmse:  0.00634751122721191\n",
      "Training model:  66\n"
     ]
    },
    {
     "name": "stderr",
     "output_type": "stream",
     "text": [
      "100%|██████████████████████████████████████████████████████████████████████████████████| 80/80 [00:01<00:00, 63.88it/s]\n"
     ]
    },
    {
     "name": "stdout",
     "output_type": "stream",
     "text": [
      "Best params:  {'C': 100, 'epsilon': 1e-05, 'gamma': 1, 'kernel': 'rbf'}\n",
      "Best rmse:  0.006831501939586527\n",
      "Training model:  67\n"
     ]
    },
    {
     "name": "stderr",
     "output_type": "stream",
     "text": [
      "100%|██████████████████████████████████████████████████████████████████████████████████| 80/80 [00:01<00:00, 66.99it/s]\n"
     ]
    },
    {
     "name": "stdout",
     "output_type": "stream",
     "text": [
      "Best params:  {'C': 10, 'epsilon': 0.001, 'gamma': 1, 'kernel': 'rbf'}\n",
      "Best rmse:  0.007922868594410062\n",
      "Training model:  68\n"
     ]
    },
    {
     "name": "stderr",
     "output_type": "stream",
     "text": [
      "100%|██████████████████████████████████████████████████████████████████████████████████| 80/80 [00:01<00:00, 68.71it/s]\n"
     ]
    },
    {
     "name": "stdout",
     "output_type": "stream",
     "text": [
      "Best params:  {'C': 10, 'epsilon': 1e-05, 'gamma': 1, 'kernel': 'rbf'}\n",
      "Best rmse:  0.008228577002893636\n",
      "Training model:  69\n"
     ]
    },
    {
     "name": "stderr",
     "output_type": "stream",
     "text": [
      "100%|██████████████████████████████████████████████████████████████████████████████████| 80/80 [00:01<00:00, 68.30it/s]\n"
     ]
    },
    {
     "name": "stdout",
     "output_type": "stream",
     "text": [
      "Best params:  {'C': 10, 'epsilon': 0.0001, 'gamma': 1, 'kernel': 'rbf'}\n",
      "Best rmse:  0.00854163370378555\n",
      "Training model:  70\n"
     ]
    },
    {
     "name": "stderr",
     "output_type": "stream",
     "text": [
      "100%|██████████████████████████████████████████████████████████████████████████████████| 80/80 [00:01<00:00, 68.30it/s]\n"
     ]
    },
    {
     "name": "stdout",
     "output_type": "stream",
     "text": [
      "Best params:  {'C': 10, 'epsilon': 0.0001, 'gamma': 1, 'kernel': 'rbf'}\n",
      "Best rmse:  0.006137359376143979\n",
      "Training model:  71\n"
     ]
    },
    {
     "name": "stderr",
     "output_type": "stream",
     "text": [
      "100%|██████████████████████████████████████████████████████████████████████████████████| 80/80 [00:01<00:00, 68.71it/s]\n"
     ]
    },
    {
     "name": "stdout",
     "output_type": "stream",
     "text": [
      "Best params:  {'C': 10, 'epsilon': 0.001, 'gamma': 1, 'kernel': 'rbf'}\n",
      "Best rmse:  0.006735765841122015\n",
      "Training model:  72\n"
     ]
    },
    {
     "name": "stderr",
     "output_type": "stream",
     "text": [
      "100%|██████████████████████████████████████████████████████████████████████████████████| 80/80 [00:01<00:00, 68.13it/s]\n"
     ]
    },
    {
     "name": "stdout",
     "output_type": "stream",
     "text": [
      "Best params:  {'C': 10, 'epsilon': 1e-05, 'gamma': 1, 'kernel': 'rbf'}\n",
      "Best rmse:  0.006765206751037055\n",
      "Training model:  73\n"
     ]
    },
    {
     "name": "stderr",
     "output_type": "stream",
     "text": [
      "100%|██████████████████████████████████████████████████████████████████████████████████| 80/80 [00:01<00:00, 66.82it/s]\n"
     ]
    },
    {
     "name": "stdout",
     "output_type": "stream",
     "text": [
      "Best params:  {'C': 10, 'epsilon': 0.001, 'gamma': 1, 'kernel': 'rbf'}\n",
      "Best rmse:  0.007598620462046835\n",
      "Training model:  74\n"
     ]
    },
    {
     "name": "stderr",
     "output_type": "stream",
     "text": [
      "100%|██████████████████████████████████████████████████████████████████████████████████| 80/80 [00:01<00:00, 67.78it/s]\n"
     ]
    },
    {
     "name": "stdout",
     "output_type": "stream",
     "text": [
      "Best params:  {'C': 10, 'epsilon': 0.0001, 'gamma': 1, 'kernel': 'rbf'}\n",
      "Best rmse:  0.00683594261308221\n",
      "Training model:  75\n"
     ]
    },
    {
     "name": "stderr",
     "output_type": "stream",
     "text": [
      "100%|██████████████████████████████████████████████████████████████████████████████████| 80/80 [00:01<00:00, 68.89it/s]\n"
     ]
    },
    {
     "name": "stdout",
     "output_type": "stream",
     "text": [
      "Best params:  {'C': 10, 'epsilon': 1e-05, 'gamma': 1, 'kernel': 'rbf'}\n",
      "Best rmse:  0.007741614717851028\n",
      "Training model:  76\n"
     ]
    },
    {
     "name": "stderr",
     "output_type": "stream",
     "text": [
      "100%|██████████████████████████████████████████████████████████████████████████████████| 80/80 [00:01<00:00, 68.24it/s]\n"
     ]
    },
    {
     "name": "stdout",
     "output_type": "stream",
     "text": [
      "Best params:  {'C': 10, 'epsilon': 0.001, 'gamma': 1, 'kernel': 'rbf'}\n",
      "Best rmse:  0.008251015530735034\n",
      "Training model:  77\n"
     ]
    },
    {
     "name": "stderr",
     "output_type": "stream",
     "text": [
      "100%|██████████████████████████████████████████████████████████████████████████████████| 80/80 [00:01<00:00, 68.48it/s]\n"
     ]
    },
    {
     "name": "stdout",
     "output_type": "stream",
     "text": [
      "Best params:  {'C': 10, 'epsilon': 0.001, 'gamma': 1, 'kernel': 'rbf'}\n",
      "Best rmse:  0.007093880763908541\n",
      "Training model:  78\n"
     ]
    },
    {
     "name": "stderr",
     "output_type": "stream",
     "text": [
      "100%|██████████████████████████████████████████████████████████████████████████████████| 80/80 [00:01<00:00, 67.32it/s]\n"
     ]
    },
    {
     "name": "stdout",
     "output_type": "stream",
     "text": [
      "Best params:  {'C': 10, 'epsilon': 0.001, 'gamma': 1, 'kernel': 'rbf'}\n",
      "Best rmse:  0.006309310318330918\n",
      "Training model:  79\n"
     ]
    },
    {
     "name": "stderr",
     "output_type": "stream",
     "text": [
      "100%|██████████████████████████████████████████████████████████████████████████████████| 80/80 [00:01<00:00, 67.90it/s]\n"
     ]
    },
    {
     "name": "stdout",
     "output_type": "stream",
     "text": [
      "Best params:  {'C': 100, 'epsilon': 0.001, 'gamma': 1, 'kernel': 'rbf'}\n",
      "Best rmse:  0.006673957283886805\n",
      "Training model:  80\n"
     ]
    },
    {
     "name": "stderr",
     "output_type": "stream",
     "text": [
      "100%|██████████████████████████████████████████████████████████████████████████████████| 80/80 [00:01<00:00, 68.01it/s]\n"
     ]
    },
    {
     "name": "stdout",
     "output_type": "stream",
     "text": [
      "Best params:  {'C': 10, 'epsilon': 0.001, 'gamma': 1, 'kernel': 'rbf'}\n",
      "Best rmse:  0.007232341006437523\n",
      "Training model:  81\n"
     ]
    },
    {
     "name": "stderr",
     "output_type": "stream",
     "text": [
      "100%|██████████████████████████████████████████████████████████████████████████████████| 80/80 [00:01<00:00, 67.95it/s]\n"
     ]
    },
    {
     "name": "stdout",
     "output_type": "stream",
     "text": [
      "Best params:  {'C': 10, 'epsilon': 0.001, 'gamma': 1, 'kernel': 'rbf'}\n",
      "Best rmse:  0.008076963279145415\n",
      "Training model:  82\n"
     ]
    },
    {
     "name": "stderr",
     "output_type": "stream",
     "text": [
      "100%|██████████████████████████████████████████████████████████████████████████████████| 80/80 [00:01<00:00, 68.01it/s]\n"
     ]
    },
    {
     "name": "stdout",
     "output_type": "stream",
     "text": [
      "Best params:  {'C': 10, 'epsilon': 0.001, 'gamma': 1, 'kernel': 'rbf'}\n",
      "Best rmse:  0.007944297672386311\n",
      "Training model:  83\n"
     ]
    },
    {
     "name": "stderr",
     "output_type": "stream",
     "text": [
      "100%|██████████████████████████████████████████████████████████████████████████████████| 80/80 [00:01<00:00, 68.13it/s]\n"
     ]
    },
    {
     "name": "stdout",
     "output_type": "stream",
     "text": [
      "Best params:  {'C': 10, 'epsilon': 1e-05, 'gamma': 1, 'kernel': 'rbf'}\n",
      "Best rmse:  0.006543461818478724\n",
      "Training model:  84\n"
     ]
    },
    {
     "name": "stderr",
     "output_type": "stream",
     "text": [
      "100%|██████████████████████████████████████████████████████████████████████████████████| 80/80 [00:01<00:00, 67.44it/s]\n"
     ]
    },
    {
     "name": "stdout",
     "output_type": "stream",
     "text": [
      "Best params:  {'C': 10, 'epsilon': 0.0001, 'gamma': 1, 'kernel': 'rbf'}\n",
      "Best rmse:  0.008321266569093773\n",
      "Training model:  85\n"
     ]
    },
    {
     "name": "stderr",
     "output_type": "stream",
     "text": [
      "100%|██████████████████████████████████████████████████████████████████████████████████| 80/80 [00:01<00:00, 68.07it/s]\n"
     ]
    },
    {
     "name": "stdout",
     "output_type": "stream",
     "text": [
      "Best params:  {'C': 10, 'epsilon': 0.001, 'gamma': 0.1, 'kernel': 'rbf'}\n",
      "Best rmse:  0.008755025620768372\n",
      "Training model:  86\n"
     ]
    },
    {
     "name": "stderr",
     "output_type": "stream",
     "text": [
      "100%|██████████████████████████████████████████████████████████████████████████████████| 80/80 [00:01<00:00, 68.19it/s]\n"
     ]
    },
    {
     "name": "stdout",
     "output_type": "stream",
     "text": [
      "Best params:  {'C': 10, 'epsilon': 1e-05, 'gamma': 1, 'kernel': 'rbf'}\n",
      "Best rmse:  0.00839159990022532\n",
      "Training model:  87\n"
     ]
    },
    {
     "name": "stderr",
     "output_type": "stream",
     "text": [
      "100%|██████████████████████████████████████████████████████████████████████████████████| 80/80 [00:01<00:00, 67.61it/s]\n"
     ]
    },
    {
     "name": "stdout",
     "output_type": "stream",
     "text": [
      "Best params:  {'C': 10, 'epsilon': 0.0001, 'gamma': 1, 'kernel': 'rbf'}\n",
      "Best rmse:  0.005915552449438547\n",
      "Training model:  88\n"
     ]
    },
    {
     "name": "stderr",
     "output_type": "stream",
     "text": [
      "100%|██████████████████████████████████████████████████████████████████████████████████| 80/80 [00:01<00:00, 68.01it/s]\n"
     ]
    },
    {
     "name": "stdout",
     "output_type": "stream",
     "text": [
      "Best params:  {'C': 10, 'epsilon': 0.0001, 'gamma': 1, 'kernel': 'rbf'}\n",
      "Best rmse:  0.00932518280038567\n",
      "Training model:  89\n"
     ]
    },
    {
     "name": "stderr",
     "output_type": "stream",
     "text": [
      "100%|██████████████████████████████████████████████████████████████████████████████████| 80/80 [00:01<00:00, 68.24it/s]\n"
     ]
    },
    {
     "name": "stdout",
     "output_type": "stream",
     "text": [
      "Best params:  {'C': 100, 'epsilon': 0.001, 'gamma': 1, 'kernel': 'rbf'}\n",
      "Best rmse:  0.00687924270873391\n",
      "Training model:  90\n"
     ]
    },
    {
     "name": "stderr",
     "output_type": "stream",
     "text": [
      "100%|██████████████████████████████████████████████████████████████████████████████████| 80/80 [00:01<00:00, 68.24it/s]\n"
     ]
    },
    {
     "name": "stdout",
     "output_type": "stream",
     "text": [
      "Best params:  {'C': 10, 'epsilon': 0.001, 'gamma': 1, 'kernel': 'rbf'}\n",
      "Best rmse:  0.006634743036969022\n",
      "Training model:  91\n"
     ]
    },
    {
     "name": "stderr",
     "output_type": "stream",
     "text": [
      "100%|██████████████████████████████████████████████████████████████████████████████████| 80/80 [00:01<00:00, 68.48it/s]\n"
     ]
    },
    {
     "name": "stdout",
     "output_type": "stream",
     "text": [
      "Best params:  {'C': 10, 'epsilon': 1e-05, 'gamma': 1, 'kernel': 'rbf'}\n",
      "Best rmse:  0.005949063360784021\n",
      "Training model:  92\n"
     ]
    },
    {
     "name": "stderr",
     "output_type": "stream",
     "text": [
      "100%|██████████████████████████████████████████████████████████████████████████████████| 80/80 [00:01<00:00, 68.65it/s]\n"
     ]
    },
    {
     "name": "stdout",
     "output_type": "stream",
     "text": [
      "Best params:  {'C': 10, 'epsilon': 0.0001, 'gamma': 1, 'kernel': 'rbf'}\n",
      "Best rmse:  0.0071211828908280496\n",
      "Training model:  93\n"
     ]
    },
    {
     "name": "stderr",
     "output_type": "stream",
     "text": [
      "100%|██████████████████████████████████████████████████████████████████████████████████| 80/80 [00:01<00:00, 67.78it/s]\n"
     ]
    },
    {
     "name": "stdout",
     "output_type": "stream",
     "text": [
      "Best params:  {'C': 10, 'epsilon': 0.001, 'gamma': 1, 'kernel': 'rbf'}\n",
      "Best rmse:  0.0077296990943278455\n",
      "Training model:  94\n"
     ]
    },
    {
     "name": "stderr",
     "output_type": "stream",
     "text": [
      "100%|██████████████████████████████████████████████████████████████████████████████████| 80/80 [00:01<00:00, 68.19it/s]\n"
     ]
    },
    {
     "name": "stdout",
     "output_type": "stream",
     "text": [
      "Best params:  {'C': 10, 'epsilon': 1e-05, 'gamma': 1, 'kernel': 'rbf'}\n",
      "Best rmse:  0.005970208507693893\n",
      "Training model:  95\n"
     ]
    },
    {
     "name": "stderr",
     "output_type": "stream",
     "text": [
      "100%|██████████████████████████████████████████████████████████████████████████████████| 80/80 [00:01<00:00, 67.84it/s]\n"
     ]
    },
    {
     "name": "stdout",
     "output_type": "stream",
     "text": [
      "Best params:  {'C': 10, 'epsilon': 0.001, 'gamma': 1, 'kernel': 'rbf'}\n",
      "Best rmse:  0.00633111275470309\n",
      "Training model:  96\n"
     ]
    },
    {
     "name": "stderr",
     "output_type": "stream",
     "text": [
      "100%|██████████████████████████████████████████████████████████████████████████████████| 80/80 [00:01<00:00, 68.42it/s]\n"
     ]
    },
    {
     "name": "stdout",
     "output_type": "stream",
     "text": [
      "Best params:  {'C': 10, 'epsilon': 1e-05, 'gamma': 1, 'kernel': 'rbf'}\n",
      "Best rmse:  0.007618471741798998\n",
      "Training model:  97\n"
     ]
    },
    {
     "name": "stderr",
     "output_type": "stream",
     "text": [
      "100%|██████████████████████████████████████████████████████████████████████████████████| 80/80 [00:01<00:00, 68.01it/s]\n"
     ]
    },
    {
     "name": "stdout",
     "output_type": "stream",
     "text": [
      "Best params:  {'C': 10, 'epsilon': 1e-05, 'gamma': 1, 'kernel': 'rbf'}\n",
      "Best rmse:  0.00733856790094141\n",
      "Training model:  98\n"
     ]
    },
    {
     "name": "stderr",
     "output_type": "stream",
     "text": [
      "100%|██████████████████████████████████████████████████████████████████████████████████| 80/80 [00:01<00:00, 68.30it/s]\n"
     ]
    },
    {
     "name": "stdout",
     "output_type": "stream",
     "text": [
      "Best params:  {'C': 100, 'epsilon': 0.001, 'gamma': 0.1, 'kernel': 'rbf'}\n",
      "Best rmse:  0.008007726039064867\n",
      "Training model:  99\n"
     ]
    },
    {
     "name": "stderr",
     "output_type": "stream",
     "text": [
      "100%|██████████████████████████████████████████████████████████████████████████████████| 80/80 [00:01<00:00, 68.19it/s]\n"
     ]
    },
    {
     "name": "stdout",
     "output_type": "stream",
     "text": [
      "Best params:  {'C': 10, 'epsilon': 0.001, 'gamma': 1, 'kernel': 'rbf'}\n",
      "Best rmse:  0.008311810435032742\n"
     ]
    },
    {
     "name": "stderr",
     "output_type": "stream",
     "text": [
      "100%|████████████████████████████████████████████████████████████████████████████████| 800/800 [03:38<00:00,  3.66it/s]\n"
     ]
    },
    {
     "name": "stdout",
     "output_type": "stream",
     "text": [
      "Best params:  {'comb': 'median', 'k': 20, 'n': 20}\n",
      "Best rmse:  0.163725011594788\n",
      "MSE: 3.554827566217041e-05\n",
      "MAPE: 1.5410927155984988\n",
      "ARV: 0.0005021627758066672\n",
      "MAE: 0.004337630496672376\n",
      "RMSE: 0.0059622374711319915\n",
      "NRMSE: 0.0059622374711319915\n",
      "SMAPE: 4.159830894809293\n",
      "Time Series:  sunspot\n",
      "\n",
      "###############################################\n",
      "\n",
      "Executing: ENSEMBLE SVR\n",
      "d:  0\n",
      "Training model:  0\n"
     ]
    },
    {
     "name": "stderr",
     "output_type": "stream",
     "text": [
      "100%|██████████████████████████████████████████████████████████████████████████████████| 80/80 [00:01<00:00, 73.78it/s]\n"
     ]
    },
    {
     "name": "stdout",
     "output_type": "stream",
     "text": [
      "Best params:  {'C': 10, 'epsilon': 0.0001, 'gamma': 1, 'kernel': 'rbf'}\n",
      "Best rmse:  0.06418829550551704\n",
      "Training model:  1\n"
     ]
    },
    {
     "name": "stderr",
     "output_type": "stream",
     "text": [
      "100%|██████████████████████████████████████████████████████████████████████████████████| 80/80 [00:01<00:00, 76.03it/s]\n"
     ]
    },
    {
     "name": "stdout",
     "output_type": "stream",
     "text": [
      "Best params:  {'C': 1, 'epsilon': 1e-05, 'gamma': 1, 'kernel': 'rbf'}\n",
      "Best rmse:  0.05881849263055618\n",
      "Training model:  2\n"
     ]
    },
    {
     "name": "stderr",
     "output_type": "stream",
     "text": [
      "100%|██████████████████████████████████████████████████████████████████████████████████| 80/80 [00:01<00:00, 74.54it/s]\n"
     ]
    },
    {
     "name": "stdout",
     "output_type": "stream",
     "text": [
      "Best params:  {'C': 10, 'epsilon': 0.01, 'gamma': 1, 'kernel': 'rbf'}\n",
      "Best rmse:  0.0844320462951223\n",
      "Training model:  3\n"
     ]
    },
    {
     "name": "stderr",
     "output_type": "stream",
     "text": [
      "100%|██████████████████████████████████████████████████████████████████████████████████| 80/80 [00:01<00:00, 75.45it/s]\n"
     ]
    },
    {
     "name": "stdout",
     "output_type": "stream",
     "text": [
      "Best params:  {'C': 100, 'epsilon': 0.01, 'gamma': 0.1, 'kernel': 'rbf'}\n",
      "Best rmse:  0.07275923884855384\n",
      "Training model:  4\n"
     ]
    },
    {
     "name": "stderr",
     "output_type": "stream",
     "text": [
      "100%|██████████████████████████████████████████████████████████████████████████████████| 80/80 [00:01<00:00, 75.38it/s]\n"
     ]
    },
    {
     "name": "stdout",
     "output_type": "stream",
     "text": [
      "Best params:  {'C': 100, 'epsilon': 0.01, 'gamma': 0.01, 'kernel': 'rbf'}\n",
      "Best rmse:  0.07335166232183903\n",
      "Training model:  5\n"
     ]
    },
    {
     "name": "stderr",
     "output_type": "stream",
     "text": [
      "100%|██████████████████████████████████████████████████████████████████████████████████| 80/80 [00:01<00:00, 76.32it/s]\n"
     ]
    },
    {
     "name": "stdout",
     "output_type": "stream",
     "text": [
      "Best params:  {'C': 10, 'epsilon': 0.01, 'gamma': 1, 'kernel': 'rbf'}\n",
      "Best rmse:  0.0707084275014686\n",
      "Training model:  6\n"
     ]
    },
    {
     "name": "stderr",
     "output_type": "stream",
     "text": [
      "100%|██████████████████████████████████████████████████████████████████████████████████| 80/80 [00:01<00:00, 75.24it/s]\n"
     ]
    },
    {
     "name": "stdout",
     "output_type": "stream",
     "text": [
      "Best params:  {'C': 10, 'epsilon': 0.0001, 'gamma': 1, 'kernel': 'rbf'}\n",
      "Best rmse:  0.05769134012534352\n",
      "Training model:  7\n"
     ]
    },
    {
     "name": "stderr",
     "output_type": "stream",
     "text": [
      "100%|██████████████████████████████████████████████████████████████████████████████████| 80/80 [00:01<00:00, 75.74it/s]\n"
     ]
    },
    {
     "name": "stdout",
     "output_type": "stream",
     "text": [
      "Best params:  {'C': 100, 'epsilon': 0.01, 'gamma': 0.1, 'kernel': 'rbf'}\n",
      "Best rmse:  0.07239967903506356\n",
      "Training model:  8\n"
     ]
    },
    {
     "name": "stderr",
     "output_type": "stream",
     "text": [
      "100%|██████████████████████████████████████████████████████████████████████████████████| 80/80 [00:01<00:00, 74.75it/s]\n"
     ]
    },
    {
     "name": "stdout",
     "output_type": "stream",
     "text": [
      "Best params:  {'C': 10, 'epsilon': 0.01, 'gamma': 1, 'kernel': 'rbf'}\n",
      "Best rmse:  0.051176352094212355\n",
      "Training model:  9\n"
     ]
    },
    {
     "name": "stderr",
     "output_type": "stream",
     "text": [
      "100%|██████████████████████████████████████████████████████████████████████████████████| 80/80 [00:01<00:00, 74.54it/s]\n"
     ]
    },
    {
     "name": "stdout",
     "output_type": "stream",
     "text": [
      "Best params:  {'C': 1, 'epsilon': 0.0001, 'gamma': 1, 'kernel': 'rbf'}\n",
      "Best rmse:  0.06032321145856416\n",
      "Training model:  10\n"
     ]
    },
    {
     "name": "stderr",
     "output_type": "stream",
     "text": [
      "100%|██████████████████████████████████████████████████████████████████████████████████| 80/80 [00:01<00:00, 76.10it/s]\n"
     ]
    },
    {
     "name": "stdout",
     "output_type": "stream",
     "text": [
      "Best params:  {'C': 10, 'epsilon': 0.0001, 'gamma': 1, 'kernel': 'rbf'}\n",
      "Best rmse:  0.06262007340589817\n",
      "Training model:  11\n"
     ]
    },
    {
     "name": "stderr",
     "output_type": "stream",
     "text": [
      "100%|██████████████████████████████████████████████████████████████████████████████████| 80/80 [00:01<00:00, 75.96it/s]\n"
     ]
    },
    {
     "name": "stdout",
     "output_type": "stream",
     "text": [
      "Best params:  {'C': 10, 'epsilon': 0.01, 'gamma': 1, 'kernel': 'rbf'}\n",
      "Best rmse:  0.07198369005810276\n",
      "Training model:  12\n"
     ]
    },
    {
     "name": "stderr",
     "output_type": "stream",
     "text": [
      "100%|██████████████████████████████████████████████████████████████████████████████████| 80/80 [00:01<00:00, 75.38it/s]\n"
     ]
    },
    {
     "name": "stdout",
     "output_type": "stream",
     "text": [
      "Best params:  {'C': 10, 'epsilon': 0.01, 'gamma': 0.1, 'kernel': 'rbf'}\n",
      "Best rmse:  0.07134729267891686\n",
      "Training model:  13\n"
     ]
    },
    {
     "name": "stderr",
     "output_type": "stream",
     "text": [
      "100%|██████████████████████████████████████████████████████████████████████████████████| 80/80 [00:01<00:00, 74.96it/s]\n"
     ]
    },
    {
     "name": "stdout",
     "output_type": "stream",
     "text": [
      "Best params:  {'C': 10, 'epsilon': 0.001, 'gamma': 1, 'kernel': 'rbf'}\n",
      "Best rmse:  0.07755750417415437\n",
      "Training model:  14\n"
     ]
    },
    {
     "name": "stderr",
     "output_type": "stream",
     "text": [
      "100%|██████████████████████████████████████████████████████████████████████████████████| 80/80 [00:01<00:00, 75.31it/s]\n"
     ]
    },
    {
     "name": "stdout",
     "output_type": "stream",
     "text": [
      "Best params:  {'C': 10, 'epsilon': 0.01, 'gamma': 1, 'kernel': 'rbf'}\n",
      "Best rmse:  0.0799331869301614\n",
      "Training model:  15\n"
     ]
    },
    {
     "name": "stderr",
     "output_type": "stream",
     "text": [
      "100%|██████████████████████████████████████████████████████████████████████████████████| 80/80 [00:01<00:00, 75.67it/s]\n"
     ]
    },
    {
     "name": "stdout",
     "output_type": "stream",
     "text": [
      "Best params:  {'C': 1, 'epsilon': 0.0001, 'gamma': 1, 'kernel': 'rbf'}\n",
      "Best rmse:  0.07548122890141934\n",
      "Training model:  16\n"
     ]
    },
    {
     "name": "stderr",
     "output_type": "stream",
     "text": [
      "100%|██████████████████████████████████████████████████████████████████████████████████| 80/80 [00:01<00:00, 75.81it/s]\n"
     ]
    },
    {
     "name": "stdout",
     "output_type": "stream",
     "text": [
      "Best params:  {'C': 1, 'epsilon': 0.01, 'gamma': 1, 'kernel': 'rbf'}\n",
      "Best rmse:  0.07334117469256533\n",
      "Training model:  17\n"
     ]
    },
    {
     "name": "stderr",
     "output_type": "stream",
     "text": [
      "100%|██████████████████████████████████████████████████████████████████████████████████| 80/80 [00:01<00:00, 75.10it/s]\n"
     ]
    },
    {
     "name": "stdout",
     "output_type": "stream",
     "text": [
      "Best params:  {'C': 1, 'epsilon': 0.01, 'gamma': 1, 'kernel': 'rbf'}\n",
      "Best rmse:  0.059855741080155435\n",
      "Training model:  18\n"
     ]
    },
    {
     "name": "stderr",
     "output_type": "stream",
     "text": [
      "100%|██████████████████████████████████████████████████████████████████████████████████| 80/80 [00:01<00:00, 75.74it/s]\n"
     ]
    },
    {
     "name": "stdout",
     "output_type": "stream",
     "text": [
      "Best params:  {'C': 1, 'epsilon': 0.001, 'gamma': 1, 'kernel': 'rbf'}\n",
      "Best rmse:  0.07302803403575112\n",
      "Training model:  19\n"
     ]
    },
    {
     "name": "stderr",
     "output_type": "stream",
     "text": [
      "100%|██████████████████████████████████████████████████████████████████████████████████| 80/80 [00:01<00:00, 74.82it/s]\n"
     ]
    },
    {
     "name": "stdout",
     "output_type": "stream",
     "text": [
      "Best params:  {'C': 1, 'epsilon': 0.0001, 'gamma': 1, 'kernel': 'rbf'}\n",
      "Best rmse:  0.050652501662491516\n",
      "Training model:  20\n"
     ]
    },
    {
     "name": "stderr",
     "output_type": "stream",
     "text": [
      "100%|██████████████████████████████████████████████████████████████████████████████████| 80/80 [00:01<00:00, 75.31it/s]\n"
     ]
    },
    {
     "name": "stdout",
     "output_type": "stream",
     "text": [
      "Best params:  {'C': 10, 'epsilon': 1e-05, 'gamma': 1, 'kernel': 'rbf'}\n",
      "Best rmse:  0.07519498080024543\n",
      "Training model:  21\n"
     ]
    },
    {
     "name": "stderr",
     "output_type": "stream",
     "text": [
      "100%|██████████████████████████████████████████████████████████████████████████████████| 80/80 [00:01<00:00, 73.85it/s]\n"
     ]
    },
    {
     "name": "stdout",
     "output_type": "stream",
     "text": [
      "Best params:  {'C': 1, 'epsilon': 0.01, 'gamma': 1, 'kernel': 'rbf'}\n",
      "Best rmse:  0.05130946052220741\n",
      "Training model:  22\n"
     ]
    },
    {
     "name": "stderr",
     "output_type": "stream",
     "text": [
      "100%|██████████████████████████████████████████████████████████████████████████████████| 80/80 [00:01<00:00, 74.89it/s]\n"
     ]
    },
    {
     "name": "stdout",
     "output_type": "stream",
     "text": [
      "Best params:  {'C': 100, 'epsilon': 0.1, 'gamma': 0.01, 'kernel': 'rbf'}\n",
      "Best rmse:  0.08065801556914619\n",
      "Training model:  23\n"
     ]
    },
    {
     "name": "stderr",
     "output_type": "stream",
     "text": [
      "100%|██████████████████████████████████████████████████████████████████████████████████| 80/80 [00:01<00:00, 75.88it/s]\n"
     ]
    },
    {
     "name": "stdout",
     "output_type": "stream",
     "text": [
      "Best params:  {'C': 1, 'epsilon': 0.01, 'gamma': 1, 'kernel': 'rbf'}\n",
      "Best rmse:  0.06856467805562635\n",
      "Training model:  24\n"
     ]
    },
    {
     "name": "stderr",
     "output_type": "stream",
     "text": [
      "100%|██████████████████████████████████████████████████████████████████████████████████| 80/80 [00:01<00:00, 75.88it/s]\n"
     ]
    },
    {
     "name": "stdout",
     "output_type": "stream",
     "text": [
      "Best params:  {'C': 1, 'epsilon': 0.01, 'gamma': 1, 'kernel': 'rbf'}\n",
      "Best rmse:  0.07536396373227153\n",
      "Training model:  25\n"
     ]
    },
    {
     "name": "stderr",
     "output_type": "stream",
     "text": [
      "100%|██████████████████████████████████████████████████████████████████████████████████| 80/80 [00:01<00:00, 74.82it/s]\n"
     ]
    },
    {
     "name": "stdout",
     "output_type": "stream",
     "text": [
      "Best params:  {'C': 10, 'epsilon': 1e-05, 'gamma': 1, 'kernel': 'rbf'}\n",
      "Best rmse:  0.06632683704077001\n",
      "Training model:  26\n"
     ]
    },
    {
     "name": "stderr",
     "output_type": "stream",
     "text": [
      "100%|██████████████████████████████████████████████████████████████████████████████████| 80/80 [00:01<00:00, 73.18it/s]\n"
     ]
    },
    {
     "name": "stdout",
     "output_type": "stream",
     "text": [
      "Best params:  {'C': 1, 'epsilon': 0.01, 'gamma': 1, 'kernel': 'rbf'}\n",
      "Best rmse:  0.07182547358911745\n",
      "Training model:  27\n"
     ]
    },
    {
     "name": "stderr",
     "output_type": "stream",
     "text": [
      "100%|██████████████████████████████████████████████████████████████████████████████████| 80/80 [00:01<00:00, 75.81it/s]\n"
     ]
    },
    {
     "name": "stdout",
     "output_type": "stream",
     "text": [
      "Best params:  {'C': 10, 'epsilon': 0.01, 'gamma': 1, 'kernel': 'rbf'}\n",
      "Best rmse:  0.05742167552955008\n",
      "Training model:  28\n"
     ]
    },
    {
     "name": "stderr",
     "output_type": "stream",
     "text": [
      "100%|██████████████████████████████████████████████████████████████████████████████████| 80/80 [00:01<00:00, 75.31it/s]\n"
     ]
    },
    {
     "name": "stdout",
     "output_type": "stream",
     "text": [
      "Best params:  {'C': 10, 'epsilon': 0.01, 'gamma': 1, 'kernel': 'rbf'}\n",
      "Best rmse:  0.07618823954955291\n",
      "Training model:  29\n"
     ]
    },
    {
     "name": "stderr",
     "output_type": "stream",
     "text": [
      "100%|██████████████████████████████████████████████████████████████████████████████████| 80/80 [00:01<00:00, 74.89it/s]\n"
     ]
    },
    {
     "name": "stdout",
     "output_type": "stream",
     "text": [
      "Best params:  {'C': 10, 'epsilon': 0.001, 'gamma': 0.1, 'kernel': 'rbf'}\n",
      "Best rmse:  0.07294544319960972\n",
      "Training model:  30\n"
     ]
    },
    {
     "name": "stderr",
     "output_type": "stream",
     "text": [
      "100%|██████████████████████████████████████████████████████████████████████████████████| 80/80 [00:01<00:00, 75.17it/s]\n"
     ]
    },
    {
     "name": "stdout",
     "output_type": "stream",
     "text": [
      "Best params:  {'C': 10, 'epsilon': 0.01, 'gamma': 1, 'kernel': 'rbf'}\n",
      "Best rmse:  0.08962910145631092\n",
      "Training model:  31\n"
     ]
    },
    {
     "name": "stderr",
     "output_type": "stream",
     "text": [
      "100%|██████████████████████████████████████████████████████████████████████████████████| 80/80 [00:01<00:00, 75.81it/s]\n"
     ]
    },
    {
     "name": "stdout",
     "output_type": "stream",
     "text": [
      "Best params:  {'C': 100, 'epsilon': 0.01, 'gamma': 0.01, 'kernel': 'rbf'}\n",
      "Best rmse:  0.06871443352104427\n",
      "Training model:  32\n"
     ]
    },
    {
     "name": "stderr",
     "output_type": "stream",
     "text": [
      "100%|██████████████████████████████████████████████████████████████████████████████████| 80/80 [00:01<00:00, 75.03it/s]\n"
     ]
    },
    {
     "name": "stdout",
     "output_type": "stream",
     "text": [
      "Best params:  {'C': 1, 'epsilon': 0.01, 'gamma': 1, 'kernel': 'rbf'}\n",
      "Best rmse:  0.09243738932790126\n",
      "Training model:  33\n"
     ]
    },
    {
     "name": "stderr",
     "output_type": "stream",
     "text": [
      "100%|██████████████████████████████████████████████████████████████████████████████████| 80/80 [00:01<00:00, 73.92it/s]\n"
     ]
    },
    {
     "name": "stdout",
     "output_type": "stream",
     "text": [
      "Best params:  {'C': 10, 'epsilon': 0.01, 'gamma': 1, 'kernel': 'rbf'}\n",
      "Best rmse:  0.07156934011542404\n",
      "Training model:  34\n"
     ]
    },
    {
     "name": "stderr",
     "output_type": "stream",
     "text": [
      "100%|██████████████████████████████████████████████████████████████████████████████████| 80/80 [00:01<00:00, 75.60it/s]\n"
     ]
    },
    {
     "name": "stdout",
     "output_type": "stream",
     "text": [
      "Best params:  {'C': 10, 'epsilon': 0.01, 'gamma': 1, 'kernel': 'rbf'}\n",
      "Best rmse:  0.0731449425893042\n",
      "Training model:  35\n"
     ]
    },
    {
     "name": "stderr",
     "output_type": "stream",
     "text": [
      "100%|██████████████████████████████████████████████████████████████████████████████████| 80/80 [00:01<00:00, 76.03it/s]\n"
     ]
    },
    {
     "name": "stdout",
     "output_type": "stream",
     "text": [
      "Best params:  {'C': 100, 'epsilon': 0.01, 'gamma': 0.1, 'kernel': 'rbf'}\n",
      "Best rmse:  0.08642196304980228\n",
      "Training model:  36\n"
     ]
    },
    {
     "name": "stderr",
     "output_type": "stream",
     "text": [
      "100%|██████████████████████████████████████████████████████████████████████████████████| 80/80 [00:01<00:00, 74.40it/s]\n"
     ]
    },
    {
     "name": "stdout",
     "output_type": "stream",
     "text": [
      "Best params:  {'C': 100, 'epsilon': 0.01, 'gamma': 0.1, 'kernel': 'rbf'}\n",
      "Best rmse:  0.08021669743255716\n",
      "Training model:  37\n"
     ]
    },
    {
     "name": "stderr",
     "output_type": "stream",
     "text": [
      "100%|██████████████████████████████████████████████████████████████████████████████████| 80/80 [00:01<00:00, 75.67it/s]\n"
     ]
    },
    {
     "name": "stdout",
     "output_type": "stream",
     "text": [
      "Best params:  {'C': 1, 'epsilon': 0.01, 'gamma': 1, 'kernel': 'rbf'}\n",
      "Best rmse:  0.07992260093119016\n",
      "Training model:  38\n"
     ]
    },
    {
     "name": "stderr",
     "output_type": "stream",
     "text": [
      "100%|██████████████████████████████████████████████████████████████████████████████████| 80/80 [00:01<00:00, 76.10it/s]\n"
     ]
    },
    {
     "name": "stdout",
     "output_type": "stream",
     "text": [
      "Best params:  {'C': 1000, 'epsilon': 0.01, 'gamma': 0.1, 'kernel': 'rbf'}\n",
      "Best rmse:  0.07663879412336505\n",
      "Training model:  39\n"
     ]
    },
    {
     "name": "stderr",
     "output_type": "stream",
     "text": [
      "100%|██████████████████████████████████████████████████████████████████████████████████| 80/80 [00:01<00:00, 75.81it/s]\n"
     ]
    },
    {
     "name": "stdout",
     "output_type": "stream",
     "text": [
      "Best params:  {'C': 1, 'epsilon': 1e-05, 'gamma': 1, 'kernel': 'rbf'}\n",
      "Best rmse:  0.06087820561806174\n",
      "Training model:  40\n"
     ]
    },
    {
     "name": "stderr",
     "output_type": "stream",
     "text": [
      "100%|██████████████████████████████████████████████████████████████████████████████████| 80/80 [00:01<00:00, 75.74it/s]\n"
     ]
    },
    {
     "name": "stdout",
     "output_type": "stream",
     "text": [
      "Best params:  {'C': 1, 'epsilon': 0.01, 'gamma': 1, 'kernel': 'rbf'}\n",
      "Best rmse:  0.06647544957323084\n",
      "Training model:  41\n"
     ]
    },
    {
     "name": "stderr",
     "output_type": "stream",
     "text": [
      "100%|██████████████████████████████████████████████████████████████████████████████████| 80/80 [00:01<00:00, 75.74it/s]\n"
     ]
    },
    {
     "name": "stdout",
     "output_type": "stream",
     "text": [
      "Best params:  {'C': 1, 'epsilon': 0.0001, 'gamma': 1, 'kernel': 'rbf'}\n",
      "Best rmse:  0.04967321566217612\n",
      "Training model:  42\n"
     ]
    },
    {
     "name": "stderr",
     "output_type": "stream",
     "text": [
      "100%|██████████████████████████████████████████████████████████████████████████████████| 80/80 [00:01<00:00, 75.53it/s]\n"
     ]
    },
    {
     "name": "stdout",
     "output_type": "stream",
     "text": [
      "Best params:  {'C': 1, 'epsilon': 0.01, 'gamma': 1, 'kernel': 'rbf'}\n",
      "Best rmse:  0.06427726037536552\n",
      "Training model:  43\n"
     ]
    },
    {
     "name": "stderr",
     "output_type": "stream",
     "text": [
      "100%|██████████████████████████████████████████████████████████████████████████████████| 80/80 [00:01<00:00, 74.82it/s]\n"
     ]
    },
    {
     "name": "stdout",
     "output_type": "stream",
     "text": [
      "Best params:  {'C': 100, 'epsilon': 0.01, 'gamma': 0.1, 'kernel': 'rbf'}\n",
      "Best rmse:  0.060350291407390205\n",
      "Training model:  44\n"
     ]
    },
    {
     "name": "stderr",
     "output_type": "stream",
     "text": [
      "100%|██████████████████████████████████████████████████████████████████████████████████| 80/80 [00:01<00:00, 75.53it/s]\n"
     ]
    },
    {
     "name": "stdout",
     "output_type": "stream",
     "text": [
      "Best params:  {'C': 10, 'epsilon': 0.01, 'gamma': 1, 'kernel': 'rbf'}\n",
      "Best rmse:  0.05300839001593368\n",
      "Training model:  45\n"
     ]
    },
    {
     "name": "stderr",
     "output_type": "stream",
     "text": [
      "100%|██████████████████████████████████████████████████████████████████████████████████| 80/80 [00:01<00:00, 75.81it/s]\n"
     ]
    },
    {
     "name": "stdout",
     "output_type": "stream",
     "text": [
      "Best params:  {'C': 1, 'epsilon': 1e-05, 'gamma': 1, 'kernel': 'rbf'}\n",
      "Best rmse:  0.07943276256416135\n",
      "Training model:  46\n"
     ]
    },
    {
     "name": "stderr",
     "output_type": "stream",
     "text": [
      "100%|██████████████████████████████████████████████████████████████████████████████████| 80/80 [00:01<00:00, 75.24it/s]\n"
     ]
    },
    {
     "name": "stdout",
     "output_type": "stream",
     "text": [
      "Best params:  {'C': 1, 'epsilon': 0.01, 'gamma': 1, 'kernel': 'rbf'}\n",
      "Best rmse:  0.074994268479726\n",
      "Training model:  47\n"
     ]
    },
    {
     "name": "stderr",
     "output_type": "stream",
     "text": [
      "100%|██████████████████████████████████████████████████████████████████████████████████| 80/80 [00:01<00:00, 75.17it/s]\n"
     ]
    },
    {
     "name": "stdout",
     "output_type": "stream",
     "text": [
      "Best params:  {'C': 1, 'epsilon': 0.01, 'gamma': 1, 'kernel': 'rbf'}\n",
      "Best rmse:  0.06265197897163345\n",
      "Training model:  48\n"
     ]
    },
    {
     "name": "stderr",
     "output_type": "stream",
     "text": [
      "100%|██████████████████████████████████████████████████████████████████████████████████| 80/80 [00:01<00:00, 74.96it/s]\n"
     ]
    },
    {
     "name": "stdout",
     "output_type": "stream",
     "text": [
      "Best params:  {'C': 10, 'epsilon': 0.01, 'gamma': 0.1, 'kernel': 'rbf'}\n",
      "Best rmse:  0.07699714813720383\n",
      "Training model:  49\n"
     ]
    },
    {
     "name": "stderr",
     "output_type": "stream",
     "text": [
      "100%|██████████████████████████████████████████████████████████████████████████████████| 80/80 [00:01<00:00, 76.03it/s]\n"
     ]
    },
    {
     "name": "stdout",
     "output_type": "stream",
     "text": [
      "Best params:  {'C': 100, 'epsilon': 0.01, 'gamma': 0.1, 'kernel': 'rbf'}\n",
      "Best rmse:  0.07350642349128955\n",
      "Training model:  50\n"
     ]
    },
    {
     "name": "stderr",
     "output_type": "stream",
     "text": [
      "100%|██████████████████████████████████████████████████████████████████████████████████| 80/80 [00:01<00:00, 74.40it/s]\n"
     ]
    },
    {
     "name": "stdout",
     "output_type": "stream",
     "text": [
      "Best params:  {'C': 1, 'epsilon': 1e-05, 'gamma': 1, 'kernel': 'rbf'}\n",
      "Best rmse:  0.06020369849051736\n",
      "Training model:  51\n"
     ]
    },
    {
     "name": "stderr",
     "output_type": "stream",
     "text": [
      "100%|██████████████████████████████████████████████████████████████████████████████████| 80/80 [00:01<00:00, 76.54it/s]\n"
     ]
    },
    {
     "name": "stdout",
     "output_type": "stream",
     "text": [
      "Best params:  {'C': 1000, 'epsilon': 0.01, 'gamma': 0.001, 'kernel': 'rbf'}\n",
      "Best rmse:  0.08061552245190964\n",
      "Training model:  52\n"
     ]
    },
    {
     "name": "stderr",
     "output_type": "stream",
     "text": [
      "100%|██████████████████████████████████████████████████████████████████████████████████| 80/80 [00:01<00:00, 75.67it/s]\n"
     ]
    },
    {
     "name": "stdout",
     "output_type": "stream",
     "text": [
      "Best params:  {'C': 1, 'epsilon': 0.01, 'gamma': 1, 'kernel': 'rbf'}\n",
      "Best rmse:  0.07446400431889656\n",
      "Training model:  53\n"
     ]
    },
    {
     "name": "stderr",
     "output_type": "stream",
     "text": [
      "100%|██████████████████████████████████████████████████████████████████████████████████| 80/80 [00:01<00:00, 75.81it/s]\n"
     ]
    },
    {
     "name": "stdout",
     "output_type": "stream",
     "text": [
      "Best params:  {'C': 10, 'epsilon': 0.01, 'gamma': 1, 'kernel': 'rbf'}\n",
      "Best rmse:  0.0655746742209898\n",
      "Training model:  54\n"
     ]
    },
    {
     "name": "stderr",
     "output_type": "stream",
     "text": [
      "100%|██████████████████████████████████████████████████████████████████████████████████| 80/80 [00:01<00:00, 75.81it/s]\n"
     ]
    },
    {
     "name": "stdout",
     "output_type": "stream",
     "text": [
      "Best params:  {'C': 1000, 'epsilon': 0.01, 'gamma': 0.1, 'kernel': 'rbf'}\n",
      "Best rmse:  0.05524883376316746\n",
      "Training model:  55\n"
     ]
    },
    {
     "name": "stderr",
     "output_type": "stream",
     "text": [
      "100%|██████████████████████████████████████████████████████████████████████████████████| 80/80 [00:01<00:00, 75.03it/s]\n"
     ]
    },
    {
     "name": "stdout",
     "output_type": "stream",
     "text": [
      "Best params:  {'C': 10, 'epsilon': 0.01, 'gamma': 0.1, 'kernel': 'rbf'}\n",
      "Best rmse:  0.10162296580649223\n",
      "Training model:  56\n"
     ]
    },
    {
     "name": "stderr",
     "output_type": "stream",
     "text": [
      "100%|██████████████████████████████████████████████████████████████████████████████████| 80/80 [00:01<00:00, 75.53it/s]\n"
     ]
    },
    {
     "name": "stdout",
     "output_type": "stream",
     "text": [
      "Best params:  {'C': 1, 'epsilon': 0.001, 'gamma': 1, 'kernel': 'rbf'}\n",
      "Best rmse:  0.049022593631487726\n",
      "Training model:  57\n"
     ]
    },
    {
     "name": "stderr",
     "output_type": "stream",
     "text": [
      "100%|██████████████████████████████████████████████████████████████████████████████████| 80/80 [00:01<00:00, 74.61it/s]\n"
     ]
    },
    {
     "name": "stdout",
     "output_type": "stream",
     "text": [
      "Best params:  {'C': 100, 'epsilon': 0.0001, 'gamma': 0.1, 'kernel': 'rbf'}\n",
      "Best rmse:  0.07523128341035767\n",
      "Training model:  58\n"
     ]
    },
    {
     "name": "stderr",
     "output_type": "stream",
     "text": [
      "100%|██████████████████████████████████████████████████████████████████████████████████| 80/80 [00:01<00:00, 74.75it/s]\n"
     ]
    },
    {
     "name": "stdout",
     "output_type": "stream",
     "text": [
      "Best params:  {'C': 1, 'epsilon': 0.01, 'gamma': 1, 'kernel': 'rbf'}\n",
      "Best rmse:  0.07315273143611206\n",
      "Training model:  59\n"
     ]
    },
    {
     "name": "stderr",
     "output_type": "stream",
     "text": [
      "100%|██████████████████████████████████████████████████████████████████████████████████| 80/80 [00:01<00:00, 74.89it/s]\n"
     ]
    },
    {
     "name": "stdout",
     "output_type": "stream",
     "text": [
      "Best params:  {'C': 100, 'epsilon': 0.01, 'gamma': 0.1, 'kernel': 'rbf'}\n",
      "Best rmse:  0.05203690083116867\n",
      "Training model:  60\n"
     ]
    },
    {
     "name": "stderr",
     "output_type": "stream",
     "text": [
      "100%|██████████████████████████████████████████████████████████████████████████████████| 80/80 [00:01<00:00, 75.81it/s]\n"
     ]
    },
    {
     "name": "stdout",
     "output_type": "stream",
     "text": [
      "Best params:  {'C': 100, 'epsilon': 0.01, 'gamma': 0.1, 'kernel': 'rbf'}\n",
      "Best rmse:  0.0749525851284559\n",
      "Training model:  61\n"
     ]
    },
    {
     "name": "stderr",
     "output_type": "stream",
     "text": [
      "100%|██████████████████████████████████████████████████████████████████████████████████| 80/80 [00:01<00:00, 75.17it/s]\n"
     ]
    },
    {
     "name": "stdout",
     "output_type": "stream",
     "text": [
      "Best params:  {'C': 1, 'epsilon': 0.001, 'gamma': 1, 'kernel': 'rbf'}\n",
      "Best rmse:  0.0629513508329293\n",
      "Training model:  62\n"
     ]
    },
    {
     "name": "stderr",
     "output_type": "stream",
     "text": [
      "100%|██████████████████████████████████████████████████████████████████████████████████| 80/80 [00:01<00:00, 75.45it/s]\n"
     ]
    },
    {
     "name": "stdout",
     "output_type": "stream",
     "text": [
      "Best params:  {'C': 1, 'epsilon': 1e-05, 'gamma': 1, 'kernel': 'rbf'}\n",
      "Best rmse:  0.053627159418531946\n",
      "Training model:  63\n"
     ]
    },
    {
     "name": "stderr",
     "output_type": "stream",
     "text": [
      "100%|██████████████████████████████████████████████████████████████████████████████████| 80/80 [00:01<00:00, 75.74it/s]\n"
     ]
    },
    {
     "name": "stdout",
     "output_type": "stream",
     "text": [
      "Best params:  {'C': 100, 'epsilon': 0.0001, 'gamma': 0.01, 'kernel': 'rbf'}\n",
      "Best rmse:  0.06689534911581162\n",
      "Training model:  64\n"
     ]
    },
    {
     "name": "stderr",
     "output_type": "stream",
     "text": [
      "100%|██████████████████████████████████████████████████████████████████████████████████| 80/80 [00:01<00:00, 75.53it/s]\n"
     ]
    },
    {
     "name": "stdout",
     "output_type": "stream",
     "text": [
      "Best params:  {'C': 10, 'epsilon': 0.01, 'gamma': 1, 'kernel': 'rbf'}\n",
      "Best rmse:  0.06282000017103538\n",
      "Training model:  65\n"
     ]
    },
    {
     "name": "stderr",
     "output_type": "stream",
     "text": [
      "100%|██████████████████████████████████████████████████████████████████████████████████| 80/80 [00:01<00:00, 72.58it/s]\n"
     ]
    },
    {
     "name": "stdout",
     "output_type": "stream",
     "text": [
      "Best params:  {'C': 10, 'epsilon': 0.01, 'gamma': 0.1, 'kernel': 'rbf'}\n",
      "Best rmse:  0.07097988989389842\n",
      "Training model:  66\n"
     ]
    },
    {
     "name": "stderr",
     "output_type": "stream",
     "text": [
      "100%|██████████████████████████████████████████████████████████████████████████████████| 80/80 [00:01<00:00, 75.03it/s]\n"
     ]
    },
    {
     "name": "stdout",
     "output_type": "stream",
     "text": [
      "Best params:  {'C': 1, 'epsilon': 0.01, 'gamma': 1, 'kernel': 'rbf'}\n",
      "Best rmse:  0.08382247324121055\n",
      "Training model:  67\n"
     ]
    },
    {
     "name": "stderr",
     "output_type": "stream",
     "text": [
      "100%|██████████████████████████████████████████████████████████████████████████████████| 80/80 [00:01<00:00, 74.89it/s]\n"
     ]
    },
    {
     "name": "stdout",
     "output_type": "stream",
     "text": [
      "Best params:  {'C': 1, 'epsilon': 0.01, 'gamma': 1, 'kernel': 'rbf'}\n",
      "Best rmse:  0.03981504255671282\n",
      "Training model:  68\n"
     ]
    },
    {
     "name": "stderr",
     "output_type": "stream",
     "text": [
      "100%|██████████████████████████████████████████████████████████████████████████████████| 80/80 [00:01<00:00, 75.96it/s]\n"
     ]
    },
    {
     "name": "stdout",
     "output_type": "stream",
     "text": [
      "Best params:  {'C': 100, 'epsilon': 0.1, 'gamma': 0.1, 'kernel': 'rbf'}\n",
      "Best rmse:  0.0908857871770683\n",
      "Training model:  69\n"
     ]
    },
    {
     "name": "stderr",
     "output_type": "stream",
     "text": [
      "100%|██████████████████████████████████████████████████████████████████████████████████| 80/80 [00:01<00:00, 75.81it/s]\n"
     ]
    },
    {
     "name": "stdout",
     "output_type": "stream",
     "text": [
      "Best params:  {'C': 1, 'epsilon': 0.01, 'gamma': 1, 'kernel': 'rbf'}\n",
      "Best rmse:  0.08016403914573385\n",
      "Training model:  70\n"
     ]
    },
    {
     "name": "stderr",
     "output_type": "stream",
     "text": [
      "100%|██████████████████████████████████████████████████████████████████████████████████| 80/80 [00:01<00:00, 75.96it/s]\n"
     ]
    },
    {
     "name": "stdout",
     "output_type": "stream",
     "text": [
      "Best params:  {'C': 1, 'epsilon': 0.01, 'gamma': 1, 'kernel': 'rbf'}\n",
      "Best rmse:  0.07044003478264105\n",
      "Training model:  71\n"
     ]
    },
    {
     "name": "stderr",
     "output_type": "stream",
     "text": [
      "100%|██████████████████████████████████████████████████████████████████████████████████| 80/80 [00:01<00:00, 76.46it/s]\n"
     ]
    },
    {
     "name": "stdout",
     "output_type": "stream",
     "text": [
      "Best params:  {'C': 1000, 'epsilon': 0.01, 'gamma': 0.1, 'kernel': 'rbf'}\n",
      "Best rmse:  0.06132584533414762\n",
      "Training model:  72\n"
     ]
    },
    {
     "name": "stderr",
     "output_type": "stream",
     "text": [
      "100%|██████████████████████████████████████████████████████████████████████████████████| 80/80 [00:01<00:00, 74.13it/s]\n"
     ]
    },
    {
     "name": "stdout",
     "output_type": "stream",
     "text": [
      "Best params:  {'C': 10, 'epsilon': 0.01, 'gamma': 1, 'kernel': 'rbf'}\n",
      "Best rmse:  0.08007761856559231\n",
      "Training model:  73\n"
     ]
    },
    {
     "name": "stderr",
     "output_type": "stream",
     "text": [
      "100%|██████████████████████████████████████████████████████████████████████████████████| 80/80 [00:01<00:00, 76.98it/s]\n"
     ]
    },
    {
     "name": "stdout",
     "output_type": "stream",
     "text": [
      "Best params:  {'C': 100, 'epsilon': 0.01, 'gamma': 0.1, 'kernel': 'rbf'}\n",
      "Best rmse:  0.06218828977382192\n",
      "Training model:  74\n"
     ]
    },
    {
     "name": "stderr",
     "output_type": "stream",
     "text": [
      "100%|██████████████████████████████████████████████████████████████████████████████████| 80/80 [00:01<00:00, 76.03it/s]\n"
     ]
    },
    {
     "name": "stdout",
     "output_type": "stream",
     "text": [
      "Best params:  {'C': 1, 'epsilon': 0.01, 'gamma': 1, 'kernel': 'rbf'}\n",
      "Best rmse:  0.0697613599565955\n",
      "Training model:  75\n"
     ]
    },
    {
     "name": "stderr",
     "output_type": "stream",
     "text": [
      "100%|██████████████████████████████████████████████████████████████████████████████████| 80/80 [00:01<00:00, 75.03it/s]\n"
     ]
    },
    {
     "name": "stdout",
     "output_type": "stream",
     "text": [
      "Best params:  {'C': 10, 'epsilon': 0.01, 'gamma': 1, 'kernel': 'rbf'}\n",
      "Best rmse:  0.06595441716107266\n",
      "Training model:  76\n"
     ]
    },
    {
     "name": "stderr",
     "output_type": "stream",
     "text": [
      "100%|██████████████████████████████████████████████████████████████████████████████████| 80/80 [00:01<00:00, 75.24it/s]\n"
     ]
    },
    {
     "name": "stdout",
     "output_type": "stream",
     "text": [
      "Best params:  {'C': 100, 'epsilon': 0.01, 'gamma': 0.1, 'kernel': 'rbf'}\n",
      "Best rmse:  0.07834806926712347\n",
      "Training model:  77\n"
     ]
    },
    {
     "name": "stderr",
     "output_type": "stream",
     "text": [
      "100%|██████████████████████████████████████████████████████████████████████████████████| 80/80 [00:01<00:00, 75.67it/s]\n"
     ]
    },
    {
     "name": "stdout",
     "output_type": "stream",
     "text": [
      "Best params:  {'C': 100, 'epsilon': 1e-05, 'gamma': 0.1, 'kernel': 'rbf'}\n",
      "Best rmse:  0.07941006261609151\n",
      "Training model:  78\n"
     ]
    },
    {
     "name": "stderr",
     "output_type": "stream",
     "text": [
      "100%|██████████████████████████████████████████████████████████████████████████████████| 80/80 [00:01<00:00, 75.10it/s]\n"
     ]
    },
    {
     "name": "stdout",
     "output_type": "stream",
     "text": [
      "Best params:  {'C': 1, 'epsilon': 0.01, 'gamma': 1, 'kernel': 'rbf'}\n",
      "Best rmse:  0.07658018358099032\n",
      "Training model:  79\n"
     ]
    },
    {
     "name": "stderr",
     "output_type": "stream",
     "text": [
      "100%|██████████████████████████████████████████████████████████████████████████████████| 80/80 [00:01<00:00, 75.10it/s]\n"
     ]
    },
    {
     "name": "stdout",
     "output_type": "stream",
     "text": [
      "Best params:  {'C': 1, 'epsilon': 0.01, 'gamma': 1, 'kernel': 'rbf'}\n",
      "Best rmse:  0.07345535876316059\n",
      "Training model:  80\n"
     ]
    },
    {
     "name": "stderr",
     "output_type": "stream",
     "text": [
      "100%|██████████████████████████████████████████████████████████████████████████████████| 80/80 [00:01<00:00, 73.31it/s]\n"
     ]
    },
    {
     "name": "stdout",
     "output_type": "stream",
     "text": [
      "Best params:  {'C': 10, 'epsilon': 0.01, 'gamma': 1, 'kernel': 'rbf'}\n",
      "Best rmse:  0.07026415505301652\n",
      "Training model:  81\n"
     ]
    },
    {
     "name": "stderr",
     "output_type": "stream",
     "text": [
      "100%|██████████████████████████████████████████████████████████████████████████████████| 80/80 [00:01<00:00, 74.06it/s]\n"
     ]
    },
    {
     "name": "stdout",
     "output_type": "stream",
     "text": [
      "Best params:  {'C': 1, 'epsilon': 1e-05, 'gamma': 1, 'kernel': 'rbf'}\n",
      "Best rmse:  0.07886120402081233\n",
      "Training model:  82\n"
     ]
    },
    {
     "name": "stderr",
     "output_type": "stream",
     "text": [
      "100%|██████████████████████████████████████████████████████████████████████████████████| 80/80 [00:01<00:00, 74.68it/s]\n"
     ]
    },
    {
     "name": "stdout",
     "output_type": "stream",
     "text": [
      "Best params:  {'C': 10, 'epsilon': 0.01, 'gamma': 0.1, 'kernel': 'rbf'}\n",
      "Best rmse:  0.061487518160888634\n",
      "Training model:  83\n"
     ]
    },
    {
     "name": "stderr",
     "output_type": "stream",
     "text": [
      "100%|██████████████████████████████████████████████████████████████████████████████████| 80/80 [00:01<00:00, 75.53it/s]\n"
     ]
    },
    {
     "name": "stdout",
     "output_type": "stream",
     "text": [
      "Best params:  {'C': 1, 'epsilon': 0.01, 'gamma': 1, 'kernel': 'rbf'}\n",
      "Best rmse:  0.07562689498643317\n",
      "Training model:  84\n"
     ]
    },
    {
     "name": "stderr",
     "output_type": "stream",
     "text": [
      "100%|██████████████████████████████████████████████████████████████████████████████████| 80/80 [00:01<00:00, 74.75it/s]\n"
     ]
    },
    {
     "name": "stdout",
     "output_type": "stream",
     "text": [
      "Best params:  {'C': 10, 'epsilon': 0.01, 'gamma': 1, 'kernel': 'rbf'}\n",
      "Best rmse:  0.06607429080788499\n",
      "Training model:  85\n"
     ]
    },
    {
     "name": "stderr",
     "output_type": "stream",
     "text": [
      "100%|██████████████████████████████████████████████████████████████████████████████████| 80/80 [00:01<00:00, 75.24it/s]\n"
     ]
    },
    {
     "name": "stdout",
     "output_type": "stream",
     "text": [
      "Best params:  {'C': 100, 'epsilon': 0.01, 'gamma': 0.1, 'kernel': 'rbf'}\n",
      "Best rmse:  0.09123800295951799\n",
      "Training model:  86\n"
     ]
    },
    {
     "name": "stderr",
     "output_type": "stream",
     "text": [
      "100%|██████████████████████████████████████████████████████████████████████████████████| 80/80 [00:01<00:00, 75.17it/s]\n"
     ]
    },
    {
     "name": "stdout",
     "output_type": "stream",
     "text": [
      "Best params:  {'C': 10, 'epsilon': 0.01, 'gamma': 1, 'kernel': 'rbf'}\n",
      "Best rmse:  0.07132170885591052\n",
      "Training model:  87\n"
     ]
    },
    {
     "name": "stderr",
     "output_type": "stream",
     "text": [
      "100%|██████████████████████████████████████████████████████████████████████████████████| 80/80 [00:01<00:00, 74.54it/s]\n"
     ]
    },
    {
     "name": "stdout",
     "output_type": "stream",
     "text": [
      "Best params:  {'C': 1, 'epsilon': 0.01, 'gamma': 1, 'kernel': 'rbf'}\n",
      "Best rmse:  0.06617179944939773\n",
      "Training model:  88\n"
     ]
    },
    {
     "name": "stderr",
     "output_type": "stream",
     "text": [
      "100%|██████████████████████████████████████████████████████████████████████████████████| 80/80 [00:01<00:00, 75.45it/s]\n"
     ]
    },
    {
     "name": "stdout",
     "output_type": "stream",
     "text": [
      "Best params:  {'C': 10, 'epsilon': 0.01, 'gamma': 1, 'kernel': 'rbf'}\n",
      "Best rmse:  0.06964760125673082\n",
      "Training model:  89\n"
     ]
    },
    {
     "name": "stderr",
     "output_type": "stream",
     "text": [
      "100%|██████████████████████████████████████████████████████████████████████████████████| 80/80 [00:01<00:00, 75.67it/s]\n"
     ]
    },
    {
     "name": "stdout",
     "output_type": "stream",
     "text": [
      "Best params:  {'C': 1, 'epsilon': 0.0001, 'gamma': 1, 'kernel': 'rbf'}\n",
      "Best rmse:  0.0747483031455695\n",
      "Training model:  90\n"
     ]
    },
    {
     "name": "stderr",
     "output_type": "stream",
     "text": [
      "100%|██████████████████████████████████████████████████████████████████████████████████| 80/80 [00:01<00:00, 75.03it/s]\n"
     ]
    },
    {
     "name": "stdout",
     "output_type": "stream",
     "text": [
      "Best params:  {'C': 100, 'epsilon': 0.01, 'gamma': 0.1, 'kernel': 'rbf'}\n",
      "Best rmse:  0.07220344580048842\n",
      "Training model:  91\n"
     ]
    },
    {
     "name": "stderr",
     "output_type": "stream",
     "text": [
      "100%|██████████████████████████████████████████████████████████████████████████████████| 80/80 [00:01<00:00, 75.45it/s]\n"
     ]
    },
    {
     "name": "stdout",
     "output_type": "stream",
     "text": [
      "Best params:  {'C': 10, 'epsilon': 0.1, 'gamma': 0.1, 'kernel': 'rbf'}\n",
      "Best rmse:  0.07778999798835724\n",
      "Training model:  92\n"
     ]
    },
    {
     "name": "stderr",
     "output_type": "stream",
     "text": [
      "100%|██████████████████████████████████████████████████████████████████████████████████| 80/80 [00:01<00:00, 75.74it/s]\n"
     ]
    },
    {
     "name": "stdout",
     "output_type": "stream",
     "text": [
      "Best params:  {'C': 1, 'epsilon': 0.01, 'gamma': 1, 'kernel': 'rbf'}\n",
      "Best rmse:  0.07145807811589783\n",
      "Training model:  93\n"
     ]
    },
    {
     "name": "stderr",
     "output_type": "stream",
     "text": [
      "100%|██████████████████████████████████████████████████████████████████████████████████| 80/80 [00:01<00:00, 74.82it/s]\n"
     ]
    },
    {
     "name": "stdout",
     "output_type": "stream",
     "text": [
      "Best params:  {'C': 10, 'epsilon': 0.01, 'gamma': 1, 'kernel': 'rbf'}\n",
      "Best rmse:  0.0668589026371012\n",
      "Training model:  94\n"
     ]
    },
    {
     "name": "stderr",
     "output_type": "stream",
     "text": [
      "100%|██████████████████████████████████████████████████████████████████████████████████| 80/80 [00:01<00:00, 75.24it/s]\n"
     ]
    },
    {
     "name": "stdout",
     "output_type": "stream",
     "text": [
      "Best params:  {'C': 1, 'epsilon': 0.01, 'gamma': 1, 'kernel': 'rbf'}\n",
      "Best rmse:  0.09437619305999251\n",
      "Training model:  95\n"
     ]
    },
    {
     "name": "stderr",
     "output_type": "stream",
     "text": [
      "100%|██████████████████████████████████████████████████████████████████████████████████| 80/80 [00:01<00:00, 75.24it/s]\n"
     ]
    },
    {
     "name": "stdout",
     "output_type": "stream",
     "text": [
      "Best params:  {'C': 1000, 'epsilon': 0.01, 'gamma': 0.1, 'kernel': 'rbf'}\n",
      "Best rmse:  0.08370896220659454\n",
      "Training model:  96\n"
     ]
    },
    {
     "name": "stderr",
     "output_type": "stream",
     "text": [
      "100%|██████████████████████████████████████████████████████████████████████████████████| 80/80 [00:01<00:00, 76.03it/s]\n"
     ]
    },
    {
     "name": "stdout",
     "output_type": "stream",
     "text": [
      "Best params:  {'C': 100, 'epsilon': 0.01, 'gamma': 0.1, 'kernel': 'rbf'}\n",
      "Best rmse:  0.06724046712384674\n",
      "Training model:  97\n"
     ]
    },
    {
     "name": "stderr",
     "output_type": "stream",
     "text": [
      "100%|██████████████████████████████████████████████████████████████████████████████████| 80/80 [00:01<00:00, 75.38it/s]\n"
     ]
    },
    {
     "name": "stdout",
     "output_type": "stream",
     "text": [
      "Best params:  {'C': 10, 'epsilon': 0.01, 'gamma': 0.1, 'kernel': 'rbf'}\n",
      "Best rmse:  0.07013949678505299\n",
      "Training model:  98\n"
     ]
    },
    {
     "name": "stderr",
     "output_type": "stream",
     "text": [
      "100%|██████████████████████████████████████████████████████████████████████████████████| 80/80 [00:01<00:00, 75.31it/s]\n"
     ]
    },
    {
     "name": "stdout",
     "output_type": "stream",
     "text": [
      "Best params:  {'C': 10, 'epsilon': 0.01, 'gamma': 1, 'kernel': 'rbf'}\n",
      "Best rmse:  0.07283663933906617\n",
      "Training model:  99\n"
     ]
    },
    {
     "name": "stderr",
     "output_type": "stream",
     "text": [
      "100%|██████████████████████████████████████████████████████████████████████████████████| 80/80 [00:01<00:00, 75.17it/s]\n"
     ]
    },
    {
     "name": "stdout",
     "output_type": "stream",
     "text": [
      "Best params:  {'C': 10, 'epsilon': 0.01, 'gamma': 1, 'kernel': 'rbf'}\n",
      "Best rmse:  0.08634829564109746\n"
     ]
    },
    {
     "name": "stderr",
     "output_type": "stream",
     "text": [
      "100%|████████████████████████████████████████████████████████████████████████████████| 800/800 [01:54<00:00,  6.99it/s]\n"
     ]
    },
    {
     "name": "stdout",
     "output_type": "stream",
     "text": [
      "Best params:  {'comb': 'median', 'k': 11, 'n': 19}\n",
      "Best rmse:  7.204670627045233\n",
      "MSE: 0.01844475382271149\n",
      "MAPE: 66.20677504826965\n",
      "ARV: 0.4180242951067989\n",
      "MAE: 0.09303618814889683\n",
      "RMSE: 0.135811464253617\n",
      "NRMSE: 0.135811464253617\n",
      "SMAPE: 45.566231779704516\n",
      "Time Series:  vehicle\n",
      "\n",
      "###############################################\n",
      "\n",
      "Executing: ENSEMBLE SVR\n",
      "d:  1\n",
      "Training model:  0\n"
     ]
    },
    {
     "name": "stderr",
     "output_type": "stream",
     "text": [
      "100%|██████████████████████████████████████████████████████████████████████████████████| 80/80 [00:01<00:00, 75.17it/s]\n"
     ]
    },
    {
     "name": "stdout",
     "output_type": "stream",
     "text": [
      "Best params:  {'C': 1, 'epsilon': 0.01, 'gamma': 1, 'kernel': 'rbf'}\n",
      "Best rmse:  0.07742000039619916\n",
      "Training model:  1\n"
     ]
    },
    {
     "name": "stderr",
     "output_type": "stream",
     "text": [
      "100%|██████████████████████████████████████████████████████████████████████████████████| 80/80 [00:01<00:00, 75.81it/s]\n"
     ]
    },
    {
     "name": "stdout",
     "output_type": "stream",
     "text": [
      "Best params:  {'C': 10, 'epsilon': 0.01, 'gamma': 0.1, 'kernel': 'rbf'}\n",
      "Best rmse:  0.11204748916342468\n",
      "Training model:  2\n"
     ]
    },
    {
     "name": "stderr",
     "output_type": "stream",
     "text": [
      "100%|██████████████████████████████████████████████████████████████████████████████████| 80/80 [00:01<00:00, 73.72it/s]\n"
     ]
    },
    {
     "name": "stdout",
     "output_type": "stream",
     "text": [
      "Best params:  {'C': 1, 'epsilon': 0.01, 'gamma': 1, 'kernel': 'rbf'}\n",
      "Best rmse:  0.11485850694596153\n",
      "Training model:  3\n"
     ]
    },
    {
     "name": "stderr",
     "output_type": "stream",
     "text": [
      "100%|██████████████████████████████████████████████████████████████████████████████████| 80/80 [00:01<00:00, 76.25it/s]\n"
     ]
    },
    {
     "name": "stdout",
     "output_type": "stream",
     "text": [
      "Best params:  {'C': 1, 'epsilon': 1e-05, 'gamma': 1, 'kernel': 'rbf'}\n",
      "Best rmse:  0.07514293543737804\n",
      "Training model:  4\n"
     ]
    },
    {
     "name": "stderr",
     "output_type": "stream",
     "text": [
      "100%|██████████████████████████████████████████████████████████████████████████████████| 80/80 [00:01<00:00, 75.60it/s]\n"
     ]
    },
    {
     "name": "stdout",
     "output_type": "stream",
     "text": [
      "Best params:  {'C': 10, 'epsilon': 0.01, 'gamma': 0.1, 'kernel': 'rbf'}\n",
      "Best rmse:  0.08584210564251223\n",
      "Training model:  5\n"
     ]
    },
    {
     "name": "stderr",
     "output_type": "stream",
     "text": [
      "100%|██████████████████████████████████████████████████████████████████████████████████| 80/80 [00:01<00:00, 74.54it/s]\n"
     ]
    },
    {
     "name": "stdout",
     "output_type": "stream",
     "text": [
      "Best params:  {'C': 1, 'epsilon': 0.01, 'gamma': 1, 'kernel': 'rbf'}\n",
      "Best rmse:  0.10742321840738166\n",
      "Training model:  6\n"
     ]
    },
    {
     "name": "stderr",
     "output_type": "stream",
     "text": [
      "100%|██████████████████████████████████████████████████████████████████████████████████| 80/80 [00:01<00:00, 76.10it/s]\n"
     ]
    },
    {
     "name": "stdout",
     "output_type": "stream",
     "text": [
      "Best params:  {'C': 1, 'epsilon': 0.01, 'gamma': 1, 'kernel': 'rbf'}\n",
      "Best rmse:  0.10594793141133269\n",
      "Training model:  7\n"
     ]
    },
    {
     "name": "stderr",
     "output_type": "stream",
     "text": [
      "100%|██████████████████████████████████████████████████████████████████████████████████| 80/80 [00:01<00:00, 76.03it/s]\n"
     ]
    },
    {
     "name": "stdout",
     "output_type": "stream",
     "text": [
      "Best params:  {'C': 1, 'epsilon': 0.001, 'gamma': 1, 'kernel': 'rbf'}\n",
      "Best rmse:  0.09290531194203612\n",
      "Training model:  8\n"
     ]
    },
    {
     "name": "stderr",
     "output_type": "stream",
     "text": [
      "100%|██████████████████████████████████████████████████████████████████████████████████| 80/80 [00:01<00:00, 75.74it/s]\n"
     ]
    },
    {
     "name": "stdout",
     "output_type": "stream",
     "text": [
      "Best params:  {'C': 10, 'epsilon': 0.01, 'gamma': 1, 'kernel': 'rbf'}\n",
      "Best rmse:  0.10592957681266925\n",
      "Training model:  9\n"
     ]
    },
    {
     "name": "stderr",
     "output_type": "stream",
     "text": [
      "100%|██████████████████████████████████████████████████████████████████████████████████| 80/80 [00:01<00:00, 76.10it/s]\n"
     ]
    },
    {
     "name": "stdout",
     "output_type": "stream",
     "text": [
      "Best params:  {'C': 10, 'epsilon': 0.01, 'gamma': 0.01, 'kernel': 'rbf'}\n",
      "Best rmse:  0.11232036862966684\n",
      "Training model:  10\n"
     ]
    },
    {
     "name": "stderr",
     "output_type": "stream",
     "text": [
      "100%|██████████████████████████████████████████████████████████████████████████████████| 80/80 [00:01<00:00, 76.25it/s]\n"
     ]
    },
    {
     "name": "stdout",
     "output_type": "stream",
     "text": [
      "Best params:  {'C': 1, 'epsilon': 0.01, 'gamma': 1, 'kernel': 'rbf'}\n",
      "Best rmse:  0.09879369570323125\n",
      "Training model:  11\n"
     ]
    },
    {
     "name": "stderr",
     "output_type": "stream",
     "text": [
      "100%|██████████████████████████████████████████████████████████████████████████████████| 80/80 [00:01<00:00, 74.82it/s]\n"
     ]
    },
    {
     "name": "stdout",
     "output_type": "stream",
     "text": [
      "Best params:  {'C': 1, 'epsilon': 0.1, 'gamma': 0.1, 'kernel': 'rbf'}\n",
      "Best rmse:  0.09984898690888051\n",
      "Training model:  12\n"
     ]
    },
    {
     "name": "stderr",
     "output_type": "stream",
     "text": [
      "100%|██████████████████████████████████████████████████████████████████████████████████| 80/80 [00:01<00:00, 76.54it/s]\n"
     ]
    },
    {
     "name": "stdout",
     "output_type": "stream",
     "text": [
      "Best params:  {'C': 100, 'epsilon': 0.01, 'gamma': 0.1, 'kernel': 'rbf'}\n",
      "Best rmse:  0.08509659967038569\n",
      "Training model:  13\n"
     ]
    },
    {
     "name": "stderr",
     "output_type": "stream",
     "text": [
      "100%|██████████████████████████████████████████████████████████████████████████████████| 80/80 [00:01<00:00, 76.17it/s]\n"
     ]
    },
    {
     "name": "stdout",
     "output_type": "stream",
     "text": [
      "Best params:  {'C': 10, 'epsilon': 0.01, 'gamma': 1, 'kernel': 'rbf'}\n",
      "Best rmse:  0.11567984862238757\n",
      "Training model:  14\n"
     ]
    },
    {
     "name": "stderr",
     "output_type": "stream",
     "text": [
      "100%|██████████████████████████████████████████████████████████████████████████████████| 80/80 [00:01<00:00, 75.67it/s]\n"
     ]
    },
    {
     "name": "stdout",
     "output_type": "stream",
     "text": [
      "Best params:  {'C': 1, 'epsilon': 0.01, 'gamma': 1, 'kernel': 'rbf'}\n",
      "Best rmse:  0.10794273737569411\n",
      "Training model:  15\n"
     ]
    },
    {
     "name": "stderr",
     "output_type": "stream",
     "text": [
      "100%|██████████████████████████████████████████████████████████████████████████████████| 80/80 [00:01<00:00, 75.60it/s]\n"
     ]
    },
    {
     "name": "stdout",
     "output_type": "stream",
     "text": [
      "Best params:  {'C': 10, 'epsilon': 0.01, 'gamma': 0.1, 'kernel': 'rbf'}\n",
      "Best rmse:  0.09875582439056717\n",
      "Training model:  16\n"
     ]
    },
    {
     "name": "stderr",
     "output_type": "stream",
     "text": [
      "100%|██████████████████████████████████████████████████████████████████████████████████| 80/80 [00:01<00:00, 75.31it/s]\n"
     ]
    },
    {
     "name": "stdout",
     "output_type": "stream",
     "text": [
      "Best params:  {'C': 1, 'epsilon': 0.01, 'gamma': 1, 'kernel': 'rbf'}\n",
      "Best rmse:  0.0744714575933279\n",
      "Training model:  17\n"
     ]
    },
    {
     "name": "stderr",
     "output_type": "stream",
     "text": [
      "100%|██████████████████████████████████████████████████████████████████████████████████| 80/80 [00:01<00:00, 75.67it/s]\n"
     ]
    },
    {
     "name": "stdout",
     "output_type": "stream",
     "text": [
      "Best params:  {'C': 10, 'epsilon': 0.01, 'gamma': 0.1, 'kernel': 'rbf'}\n",
      "Best rmse:  0.07655283596059148\n",
      "Training model:  18\n"
     ]
    },
    {
     "name": "stderr",
     "output_type": "stream",
     "text": [
      "100%|██████████████████████████████████████████████████████████████████████████████████| 80/80 [00:01<00:00, 75.74it/s]\n"
     ]
    },
    {
     "name": "stdout",
     "output_type": "stream",
     "text": [
      "Best params:  {'C': 10, 'epsilon': 0.01, 'gamma': 1, 'kernel': 'rbf'}\n",
      "Best rmse:  0.08821375486902011\n",
      "Training model:  19\n"
     ]
    },
    {
     "name": "stderr",
     "output_type": "stream",
     "text": [
      "100%|██████████████████████████████████████████████████████████████████████████████████| 80/80 [00:01<00:00, 76.25it/s]\n"
     ]
    },
    {
     "name": "stdout",
     "output_type": "stream",
     "text": [
      "Best params:  {'C': 10, 'epsilon': 0.001, 'gamma': 1, 'kernel': 'rbf'}\n",
      "Best rmse:  0.09949593014441378\n",
      "Training model:  20\n"
     ]
    },
    {
     "name": "stderr",
     "output_type": "stream",
     "text": [
      "100%|██████████████████████████████████████████████████████████████████████████████████| 80/80 [00:01<00:00, 75.74it/s]\n"
     ]
    },
    {
     "name": "stdout",
     "output_type": "stream",
     "text": [
      "Best params:  {'C': 1, 'epsilon': 0.01, 'gamma': 1, 'kernel': 'rbf'}\n",
      "Best rmse:  0.12145360324315785\n",
      "Training model:  21\n"
     ]
    },
    {
     "name": "stderr",
     "output_type": "stream",
     "text": [
      "100%|██████████████████████████████████████████████████████████████████████████████████| 80/80 [00:01<00:00, 75.74it/s]\n"
     ]
    },
    {
     "name": "stdout",
     "output_type": "stream",
     "text": [
      "Best params:  {'C': 10, 'epsilon': 0.01, 'gamma': 1, 'kernel': 'rbf'}\n",
      "Best rmse:  0.08763879053070357\n",
      "Training model:  22\n"
     ]
    },
    {
     "name": "stderr",
     "output_type": "stream",
     "text": [
      "100%|██████████████████████████████████████████████████████████████████████████████████| 80/80 [00:01<00:00, 76.68it/s]\n"
     ]
    },
    {
     "name": "stdout",
     "output_type": "stream",
     "text": [
      "Best params:  {'C': 100, 'epsilon': 1e-05, 'gamma': 0.01, 'kernel': 'rbf'}\n",
      "Best rmse:  0.09218099486483161\n",
      "Training model:  23\n"
     ]
    },
    {
     "name": "stderr",
     "output_type": "stream",
     "text": [
      "100%|██████████████████████████████████████████████████████████████████████████████████| 80/80 [00:01<00:00, 76.03it/s]\n"
     ]
    },
    {
     "name": "stdout",
     "output_type": "stream",
     "text": [
      "Best params:  {'C': 1000, 'epsilon': 0.0001, 'gamma': 0.01, 'kernel': 'rbf'}\n",
      "Best rmse:  0.11716787729512819\n",
      "Training model:  24\n"
     ]
    },
    {
     "name": "stderr",
     "output_type": "stream",
     "text": [
      "100%|██████████████████████████████████████████████████████████████████████████████████| 80/80 [00:01<00:00, 76.10it/s]\n"
     ]
    },
    {
     "name": "stdout",
     "output_type": "stream",
     "text": [
      "Best params:  {'C': 1, 'epsilon': 0.1, 'gamma': 0.1, 'kernel': 'rbf'}\n",
      "Best rmse:  0.1205722110112642\n",
      "Training model:  25\n"
     ]
    },
    {
     "name": "stderr",
     "output_type": "stream",
     "text": [
      "100%|██████████████████████████████████████████████████████████████████████████████████| 80/80 [00:01<00:00, 75.74it/s]\n"
     ]
    },
    {
     "name": "stdout",
     "output_type": "stream",
     "text": [
      "Best params:  {'C': 10, 'epsilon': 0.001, 'gamma': 1, 'kernel': 'rbf'}\n",
      "Best rmse:  0.09671420297404282\n",
      "Training model:  26\n"
     ]
    },
    {
     "name": "stderr",
     "output_type": "stream",
     "text": [
      "100%|██████████████████████████████████████████████████████████████████████████████████| 80/80 [00:01<00:00, 75.96it/s]\n"
     ]
    },
    {
     "name": "stdout",
     "output_type": "stream",
     "text": [
      "Best params:  {'C': 1, 'epsilon': 0.01, 'gamma': 1, 'kernel': 'rbf'}\n",
      "Best rmse:  0.08859199803218536\n",
      "Training model:  27\n"
     ]
    },
    {
     "name": "stderr",
     "output_type": "stream",
     "text": [
      "100%|██████████████████████████████████████████████████████████████████████████████████| 80/80 [00:01<00:00, 76.39it/s]\n"
     ]
    },
    {
     "name": "stdout",
     "output_type": "stream",
     "text": [
      "Best params:  {'C': 1, 'epsilon': 0.01, 'gamma': 1, 'kernel': 'rbf'}\n",
      "Best rmse:  0.08966650129579189\n",
      "Training model:  28\n"
     ]
    },
    {
     "name": "stderr",
     "output_type": "stream",
     "text": [
      "100%|██████████████████████████████████████████████████████████████████████████████████| 80/80 [00:01<00:00, 76.54it/s]\n"
     ]
    },
    {
     "name": "stdout",
     "output_type": "stream",
     "text": [
      "Best params:  {'C': 10, 'epsilon': 0.01, 'gamma': 1, 'kernel': 'rbf'}\n",
      "Best rmse:  0.09985281270082573\n",
      "Training model:  29\n"
     ]
    },
    {
     "name": "stderr",
     "output_type": "stream",
     "text": [
      "100%|██████████████████████████████████████████████████████████████████████████████████| 80/80 [00:01<00:00, 75.45it/s]\n"
     ]
    },
    {
     "name": "stdout",
     "output_type": "stream",
     "text": [
      "Best params:  {'C': 10, 'epsilon': 0.01, 'gamma': 0.1, 'kernel': 'rbf'}\n",
      "Best rmse:  0.1086976233963783\n",
      "Training model:  30\n"
     ]
    },
    {
     "name": "stderr",
     "output_type": "stream",
     "text": [
      "100%|██████████████████████████████████████████████████████████████████████████████████| 80/80 [00:01<00:00, 71.16it/s]\n"
     ]
    },
    {
     "name": "stdout",
     "output_type": "stream",
     "text": [
      "Best params:  {'C': 10, 'epsilon': 1e-05, 'gamma': 1, 'kernel': 'rbf'}\n",
      "Best rmse:  0.12536028050313455\n",
      "Training model:  31\n"
     ]
    },
    {
     "name": "stderr",
     "output_type": "stream",
     "text": [
      "100%|██████████████████████████████████████████████████████████████████████████████████| 80/80 [00:01<00:00, 75.67it/s]\n"
     ]
    },
    {
     "name": "stdout",
     "output_type": "stream",
     "text": [
      "Best params:  {'C': 10, 'epsilon': 0.0001, 'gamma': 1, 'kernel': 'rbf'}\n",
      "Best rmse:  0.07082978938433705\n",
      "Training model:  32\n"
     ]
    },
    {
     "name": "stderr",
     "output_type": "stream",
     "text": [
      "100%|██████████████████████████████████████████████████████████████████████████████████| 80/80 [00:01<00:00, 75.74it/s]\n"
     ]
    },
    {
     "name": "stdout",
     "output_type": "stream",
     "text": [
      "Best params:  {'C': 1, 'epsilon': 0.01, 'gamma': 0.1, 'kernel': 'rbf'}\n",
      "Best rmse:  0.1397939848803283\n",
      "Training model:  33\n"
     ]
    },
    {
     "name": "stderr",
     "output_type": "stream",
     "text": [
      "100%|██████████████████████████████████████████████████████████████████████████████████| 80/80 [00:01<00:00, 75.60it/s]\n"
     ]
    },
    {
     "name": "stdout",
     "output_type": "stream",
     "text": [
      "Best params:  {'C': 100, 'epsilon': 0.01, 'gamma': 0.1, 'kernel': 'rbf'}\n",
      "Best rmse:  0.10401054233731945\n",
      "Training model:  34\n"
     ]
    },
    {
     "name": "stderr",
     "output_type": "stream",
     "text": [
      "100%|██████████████████████████████████████████████████████████████████████████████████| 80/80 [00:01<00:00, 75.17it/s]\n"
     ]
    },
    {
     "name": "stdout",
     "output_type": "stream",
     "text": [
      "Best params:  {'C': 10, 'epsilon': 0.001, 'gamma': 0.1, 'kernel': 'rbf'}\n",
      "Best rmse:  0.1044234085866053\n",
      "Training model:  35\n"
     ]
    },
    {
     "name": "stderr",
     "output_type": "stream",
     "text": [
      "100%|██████████████████████████████████████████████████████████████████████████████████| 80/80 [00:01<00:00, 76.17it/s]\n"
     ]
    },
    {
     "name": "stdout",
     "output_type": "stream",
     "text": [
      "Best params:  {'C': 100, 'epsilon': 0.1, 'gamma': 0.001, 'kernel': 'rbf'}\n",
      "Best rmse:  0.113990337349002\n",
      "Training model:  36\n"
     ]
    },
    {
     "name": "stderr",
     "output_type": "stream",
     "text": [
      "100%|██████████████████████████████████████████████████████████████████████████████████| 80/80 [00:01<00:00, 76.10it/s]\n"
     ]
    },
    {
     "name": "stdout",
     "output_type": "stream",
     "text": [
      "Best params:  {'C': 100, 'epsilon': 0.0001, 'gamma': 0.1, 'kernel': 'rbf'}\n",
      "Best rmse:  0.09163949492419683\n",
      "Training model:  37\n"
     ]
    },
    {
     "name": "stderr",
     "output_type": "stream",
     "text": [
      "100%|██████████████████████████████████████████████████████████████████████████████████| 80/80 [00:01<00:00, 76.25it/s]\n"
     ]
    },
    {
     "name": "stdout",
     "output_type": "stream",
     "text": [
      "Best params:  {'C': 1, 'epsilon': 0.01, 'gamma': 1, 'kernel': 'rbf'}\n",
      "Best rmse:  0.09523590025308203\n",
      "Training model:  38\n"
     ]
    },
    {
     "name": "stderr",
     "output_type": "stream",
     "text": [
      "100%|██████████████████████████████████████████████████████████████████████████████████| 80/80 [00:01<00:00, 75.96it/s]\n"
     ]
    },
    {
     "name": "stdout",
     "output_type": "stream",
     "text": [
      "Best params:  {'C': 10, 'epsilon': 0.001, 'gamma': 0.01, 'kernel': 'rbf'}\n",
      "Best rmse:  0.10637250421329486\n",
      "Training model:  39\n"
     ]
    },
    {
     "name": "stderr",
     "output_type": "stream",
     "text": [
      "100%|██████████████████████████████████████████████████████████████████████████████████| 80/80 [00:01<00:00, 76.46it/s]\n"
     ]
    },
    {
     "name": "stdout",
     "output_type": "stream",
     "text": [
      "Best params:  {'C': 10, 'epsilon': 0.001, 'gamma': 0.1, 'kernel': 'rbf'}\n",
      "Best rmse:  0.07236498230694043\n",
      "Training model:  40\n"
     ]
    },
    {
     "name": "stderr",
     "output_type": "stream",
     "text": [
      "100%|██████████████████████████████████████████████████████████████████████████████████| 80/80 [00:01<00:00, 76.46it/s]\n"
     ]
    },
    {
     "name": "stdout",
     "output_type": "stream",
     "text": [
      "Best params:  {'C': 1, 'epsilon': 0.01, 'gamma': 1, 'kernel': 'rbf'}\n",
      "Best rmse:  0.11101937105935837\n",
      "Training model:  41\n"
     ]
    },
    {
     "name": "stderr",
     "output_type": "stream",
     "text": [
      "100%|██████████████████████████████████████████████████████████████████████████████████| 80/80 [00:01<00:00, 76.61it/s]\n"
     ]
    },
    {
     "name": "stdout",
     "output_type": "stream",
     "text": [
      "Best params:  {'C': 1, 'epsilon': 0.01, 'gamma': 1, 'kernel': 'rbf'}\n",
      "Best rmse:  0.08907602779518178\n",
      "Training model:  42\n"
     ]
    },
    {
     "name": "stderr",
     "output_type": "stream",
     "text": [
      "100%|██████████████████████████████████████████████████████████████████████████████████| 80/80 [00:01<00:00, 75.81it/s]\n"
     ]
    },
    {
     "name": "stdout",
     "output_type": "stream",
     "text": [
      "Best params:  {'C': 100, 'epsilon': 0.01, 'gamma': 0.1, 'kernel': 'rbf'}\n",
      "Best rmse:  0.11267392092881219\n",
      "Training model:  43\n"
     ]
    },
    {
     "name": "stderr",
     "output_type": "stream",
     "text": [
      "100%|██████████████████████████████████████████████████████████████████████████████████| 80/80 [00:01<00:00, 76.98it/s]\n"
     ]
    },
    {
     "name": "stdout",
     "output_type": "stream",
     "text": [
      "Best params:  {'C': 1, 'epsilon': 0.01, 'gamma': 1, 'kernel': 'rbf'}\n",
      "Best rmse:  0.11186471204649306\n",
      "Training model:  44\n"
     ]
    },
    {
     "name": "stderr",
     "output_type": "stream",
     "text": [
      "100%|██████████████████████████████████████████████████████████████████████████████████| 80/80 [00:01<00:00, 76.61it/s]\n"
     ]
    },
    {
     "name": "stdout",
     "output_type": "stream",
     "text": [
      "Best params:  {'C': 10, 'epsilon': 0.01, 'gamma': 1, 'kernel': 'rbf'}\n",
      "Best rmse:  0.098123010603344\n",
      "Training model:  45\n"
     ]
    },
    {
     "name": "stderr",
     "output_type": "stream",
     "text": [
      "100%|██████████████████████████████████████████████████████████████████████████████████| 80/80 [00:01<00:00, 76.76it/s]\n"
     ]
    },
    {
     "name": "stdout",
     "output_type": "stream",
     "text": [
      "Best params:  {'C': 1, 'epsilon': 0.001, 'gamma': 1, 'kernel': 'rbf'}\n",
      "Best rmse:  0.07551222292225954\n",
      "Training model:  46\n"
     ]
    },
    {
     "name": "stderr",
     "output_type": "stream",
     "text": [
      "100%|██████████████████████████████████████████████████████████████████████████████████| 80/80 [00:01<00:00, 76.98it/s]\n"
     ]
    },
    {
     "name": "stdout",
     "output_type": "stream",
     "text": [
      "Best params:  {'C': 100, 'epsilon': 0.1, 'gamma': 0.1, 'kernel': 'rbf'}\n",
      "Best rmse:  0.14592852445794804\n",
      "Training model:  47\n"
     ]
    },
    {
     "name": "stderr",
     "output_type": "stream",
     "text": [
      "100%|██████████████████████████████████████████████████████████████████████████████████| 80/80 [00:01<00:00, 75.81it/s]\n"
     ]
    },
    {
     "name": "stdout",
     "output_type": "stream",
     "text": [
      "Best params:  {'C': 1, 'epsilon': 0.01, 'gamma': 1, 'kernel': 'rbf'}\n",
      "Best rmse:  0.09992788808468954\n",
      "Training model:  48\n"
     ]
    },
    {
     "name": "stderr",
     "output_type": "stream",
     "text": [
      "100%|██████████████████████████████████████████████████████████████████████████████████| 80/80 [00:01<00:00, 76.54it/s]\n"
     ]
    },
    {
     "name": "stdout",
     "output_type": "stream",
     "text": [
      "Best params:  {'C': 1000, 'epsilon': 0.01, 'gamma': 0.01, 'kernel': 'rbf'}\n",
      "Best rmse:  0.10807324978964167\n",
      "Training model:  49\n"
     ]
    },
    {
     "name": "stderr",
     "output_type": "stream",
     "text": [
      "100%|██████████████████████████████████████████████████████████████████████████████████| 80/80 [00:01<00:00, 77.05it/s]\n"
     ]
    },
    {
     "name": "stdout",
     "output_type": "stream",
     "text": [
      "Best params:  {'C': 1, 'epsilon': 0.01, 'gamma': 1, 'kernel': 'rbf'}\n",
      "Best rmse:  0.08200735679715314\n",
      "Training model:  50\n"
     ]
    },
    {
     "name": "stderr",
     "output_type": "stream",
     "text": [
      "100%|██████████████████████████████████████████████████████████████████████████████████| 80/80 [00:01<00:00, 76.76it/s]\n"
     ]
    },
    {
     "name": "stdout",
     "output_type": "stream",
     "text": [
      "Best params:  {'C': 1, 'epsilon': 0.01, 'gamma': 1, 'kernel': 'rbf'}\n",
      "Best rmse:  0.1182456230146815\n",
      "Training model:  51\n"
     ]
    },
    {
     "name": "stderr",
     "output_type": "stream",
     "text": [
      "100%|██████████████████████████████████████████████████████████████████████████████████| 80/80 [00:01<00:00, 76.10it/s]\n"
     ]
    },
    {
     "name": "stdout",
     "output_type": "stream",
     "text": [
      "Best params:  {'C': 1, 'epsilon': 0.001, 'gamma': 1, 'kernel': 'rbf'}\n",
      "Best rmse:  0.10899241003875346\n",
      "Training model:  52\n"
     ]
    },
    {
     "name": "stderr",
     "output_type": "stream",
     "text": [
      "100%|██████████████████████████████████████████████████████████████████████████████████| 80/80 [00:01<00:00, 75.96it/s]\n"
     ]
    },
    {
     "name": "stdout",
     "output_type": "stream",
     "text": [
      "Best params:  {'C': 10, 'epsilon': 0.01, 'gamma': 1, 'kernel': 'rbf'}\n",
      "Best rmse:  0.07833140729786929\n",
      "Training model:  53\n"
     ]
    },
    {
     "name": "stderr",
     "output_type": "stream",
     "text": [
      "100%|██████████████████████████████████████████████████████████████████████████████████| 80/80 [00:01<00:00, 75.96it/s]\n"
     ]
    },
    {
     "name": "stdout",
     "output_type": "stream",
     "text": [
      "Best params:  {'C': 1, 'epsilon': 0.01, 'gamma': 1, 'kernel': 'rbf'}\n",
      "Best rmse:  0.09486830587810981\n",
      "Training model:  54\n"
     ]
    },
    {
     "name": "stderr",
     "output_type": "stream",
     "text": [
      "100%|██████████████████████████████████████████████████████████████████████████████████| 80/80 [00:01<00:00, 75.45it/s]\n"
     ]
    },
    {
     "name": "stdout",
     "output_type": "stream",
     "text": [
      "Best params:  {'C': 1, 'epsilon': 0.001, 'gamma': 1, 'kernel': 'rbf'}\n",
      "Best rmse:  0.08579078681499036\n",
      "Training model:  55\n"
     ]
    },
    {
     "name": "stderr",
     "output_type": "stream",
     "text": [
      "100%|██████████████████████████████████████████████████████████████████████████████████| 80/80 [00:01<00:00, 75.31it/s]\n"
     ]
    },
    {
     "name": "stdout",
     "output_type": "stream",
     "text": [
      "Best params:  {'C': 1, 'epsilon': 1e-05, 'gamma': 1, 'kernel': 'rbf'}\n",
      "Best rmse:  0.11991744869742499\n",
      "Training model:  56\n"
     ]
    },
    {
     "name": "stderr",
     "output_type": "stream",
     "text": [
      "100%|██████████████████████████████████████████████████████████████████████████████████| 80/80 [00:01<00:00, 75.96it/s]\n"
     ]
    },
    {
     "name": "stdout",
     "output_type": "stream",
     "text": [
      "Best params:  {'C': 10, 'epsilon': 0.01, 'gamma': 1, 'kernel': 'rbf'}\n",
      "Best rmse:  0.09754444351181246\n",
      "Training model:  57\n"
     ]
    },
    {
     "name": "stderr",
     "output_type": "stream",
     "text": [
      "100%|██████████████████████████████████████████████████████████████████████████████████| 80/80 [00:01<00:00, 76.32it/s]\n"
     ]
    },
    {
     "name": "stdout",
     "output_type": "stream",
     "text": [
      "Best params:  {'C': 100, 'epsilon': 0.01, 'gamma': 0.1, 'kernel': 'rbf'}\n",
      "Best rmse:  0.09098779202452995\n",
      "Training model:  58\n"
     ]
    },
    {
     "name": "stderr",
     "output_type": "stream",
     "text": [
      "100%|██████████████████████████████████████████████████████████████████████████████████| 80/80 [00:01<00:00, 76.54it/s]\n"
     ]
    },
    {
     "name": "stdout",
     "output_type": "stream",
     "text": [
      "Best params:  {'C': 10, 'epsilon': 0.01, 'gamma': 1, 'kernel': 'rbf'}\n",
      "Best rmse:  0.12712960185678976\n",
      "Training model:  59\n"
     ]
    },
    {
     "name": "stderr",
     "output_type": "stream",
     "text": [
      "100%|██████████████████████████████████████████████████████████████████████████████████| 80/80 [00:01<00:00, 75.88it/s]\n"
     ]
    },
    {
     "name": "stdout",
     "output_type": "stream",
     "text": [
      "Best params:  {'C': 10, 'epsilon': 0.01, 'gamma': 0.1, 'kernel': 'rbf'}\n",
      "Best rmse:  0.07698465350791367\n",
      "Training model:  60\n"
     ]
    },
    {
     "name": "stderr",
     "output_type": "stream",
     "text": [
      "100%|██████████████████████████████████████████████████████████████████████████████████| 80/80 [00:01<00:00, 75.24it/s]\n"
     ]
    },
    {
     "name": "stdout",
     "output_type": "stream",
     "text": [
      "Best params:  {'C': 10, 'epsilon': 0.01, 'gamma': 0.1, 'kernel': 'rbf'}\n",
      "Best rmse:  0.1022748340923654\n",
      "Training model:  61\n"
     ]
    },
    {
     "name": "stderr",
     "output_type": "stream",
     "text": [
      "100%|██████████████████████████████████████████████████████████████████████████████████| 80/80 [00:01<00:00, 75.96it/s]\n"
     ]
    },
    {
     "name": "stdout",
     "output_type": "stream",
     "text": [
      "Best params:  {'C': 10, 'epsilon': 0.01, 'gamma': 0.1, 'kernel': 'rbf'}\n",
      "Best rmse:  0.12155183064712693\n",
      "Training model:  62\n"
     ]
    },
    {
     "name": "stderr",
     "output_type": "stream",
     "text": [
      "100%|██████████████████████████████████████████████████████████████████████████████████| 80/80 [00:01<00:00, 75.53it/s]\n"
     ]
    },
    {
     "name": "stdout",
     "output_type": "stream",
     "text": [
      "Best params:  {'C': 1, 'epsilon': 0.01, 'gamma': 1, 'kernel': 'rbf'}\n",
      "Best rmse:  0.09357227554871404\n",
      "Training model:  63\n"
     ]
    },
    {
     "name": "stderr",
     "output_type": "stream",
     "text": [
      "100%|██████████████████████████████████████████████████████████████████████████████████| 80/80 [00:01<00:00, 75.17it/s]\n"
     ]
    },
    {
     "name": "stdout",
     "output_type": "stream",
     "text": [
      "Best params:  {'C': 100, 'epsilon': 0.0001, 'gamma': 0.1, 'kernel': 'rbf'}\n",
      "Best rmse:  0.10525768885283049\n",
      "Training model:  64\n"
     ]
    },
    {
     "name": "stderr",
     "output_type": "stream",
     "text": [
      "100%|██████████████████████████████████████████████████████████████████████████████████| 80/80 [00:01<00:00, 75.96it/s]\n"
     ]
    },
    {
     "name": "stdout",
     "output_type": "stream",
     "text": [
      "Best params:  {'C': 10, 'epsilon': 0.1, 'gamma': 0.1, 'kernel': 'rbf'}\n",
      "Best rmse:  0.10702538566140353\n",
      "Training model:  65\n"
     ]
    },
    {
     "name": "stderr",
     "output_type": "stream",
     "text": [
      "100%|██████████████████████████████████████████████████████████████████████████████████| 80/80 [00:01<00:00, 76.17it/s]\n"
     ]
    },
    {
     "name": "stdout",
     "output_type": "stream",
     "text": [
      "Best params:  {'C': 100, 'epsilon': 0.1, 'gamma': 0.1, 'kernel': 'rbf'}\n",
      "Best rmse:  0.11961553811224414\n",
      "Training model:  66\n"
     ]
    },
    {
     "name": "stderr",
     "output_type": "stream",
     "text": [
      "100%|██████████████████████████████████████████████████████████████████████████████████| 80/80 [00:01<00:00, 75.45it/s]\n"
     ]
    },
    {
     "name": "stdout",
     "output_type": "stream",
     "text": [
      "Best params:  {'C': 10, 'epsilon': 1e-05, 'gamma': 0.1, 'kernel': 'rbf'}\n",
      "Best rmse:  0.07297194737141544\n",
      "Training model:  67\n"
     ]
    },
    {
     "name": "stderr",
     "output_type": "stream",
     "text": [
      "100%|██████████████████████████████████████████████████████████████████████████████████| 80/80 [00:01<00:00, 75.60it/s]\n"
     ]
    },
    {
     "name": "stdout",
     "output_type": "stream",
     "text": [
      "Best params:  {'C': 10, 'epsilon': 0.01, 'gamma': 0.1, 'kernel': 'rbf'}\n",
      "Best rmse:  0.10503418947837402\n",
      "Training model:  68\n"
     ]
    },
    {
     "name": "stderr",
     "output_type": "stream",
     "text": [
      "100%|██████████████████████████████████████████████████████████████████████████████████| 80/80 [00:01<00:00, 76.10it/s]\n"
     ]
    },
    {
     "name": "stdout",
     "output_type": "stream",
     "text": [
      "Best params:  {'C': 1, 'epsilon': 0.1, 'gamma': 1, 'kernel': 'rbf'}\n",
      "Best rmse:  0.12489479822283706\n",
      "Training model:  69\n"
     ]
    },
    {
     "name": "stderr",
     "output_type": "stream",
     "text": [
      "100%|██████████████████████████████████████████████████████████████████████████████████| 80/80 [00:01<00:00, 75.67it/s]\n"
     ]
    },
    {
     "name": "stdout",
     "output_type": "stream",
     "text": [
      "Best params:  {'C': 1, 'epsilon': 1e-05, 'gamma': 1, 'kernel': 'rbf'}\n",
      "Best rmse:  0.10288090202918988\n",
      "Training model:  70\n"
     ]
    },
    {
     "name": "stderr",
     "output_type": "stream",
     "text": [
      "100%|██████████████████████████████████████████████████████████████████████████████████| 80/80 [00:01<00:00, 75.88it/s]\n"
     ]
    },
    {
     "name": "stdout",
     "output_type": "stream",
     "text": [
      "Best params:  {'C': 1, 'epsilon': 1e-05, 'gamma': 1, 'kernel': 'rbf'}\n",
      "Best rmse:  0.11139245772462229\n",
      "Training model:  71\n"
     ]
    },
    {
     "name": "stderr",
     "output_type": "stream",
     "text": [
      "100%|██████████████████████████████████████████████████████████████████████████████████| 80/80 [00:01<00:00, 76.03it/s]\n"
     ]
    },
    {
     "name": "stdout",
     "output_type": "stream",
     "text": [
      "Best params:  {'C': 10, 'epsilon': 0.01, 'gamma': 0.1, 'kernel': 'rbf'}\n",
      "Best rmse:  0.08913744047190532\n",
      "Training model:  72\n"
     ]
    },
    {
     "name": "stderr",
     "output_type": "stream",
     "text": [
      "100%|██████████████████████████████████████████████████████████████████████████████████| 80/80 [00:01<00:00, 75.60it/s]\n"
     ]
    },
    {
     "name": "stdout",
     "output_type": "stream",
     "text": [
      "Best params:  {'C': 1, 'epsilon': 0.01, 'gamma': 1, 'kernel': 'rbf'}\n",
      "Best rmse:  0.07936662312964457\n",
      "Training model:  73\n"
     ]
    },
    {
     "name": "stderr",
     "output_type": "stream",
     "text": [
      "100%|██████████████████████████████████████████████████████████████████████████████████| 80/80 [00:01<00:00, 76.54it/s]\n"
     ]
    },
    {
     "name": "stdout",
     "output_type": "stream",
     "text": [
      "Best params:  {'C': 10, 'epsilon': 0.01, 'gamma': 0.1, 'kernel': 'rbf'}\n",
      "Best rmse:  0.09713031150899784\n",
      "Training model:  74\n"
     ]
    },
    {
     "name": "stderr",
     "output_type": "stream",
     "text": [
      "100%|██████████████████████████████████████████████████████████████████████████████████| 80/80 [00:01<00:00, 76.25it/s]\n"
     ]
    },
    {
     "name": "stdout",
     "output_type": "stream",
     "text": [
      "Best params:  {'C': 1, 'epsilon': 0.01, 'gamma': 1, 'kernel': 'rbf'}\n",
      "Best rmse:  0.09775450766566852\n",
      "Training model:  75\n"
     ]
    },
    {
     "name": "stderr",
     "output_type": "stream",
     "text": [
      "100%|██████████████████████████████████████████████████████████████████████████████████| 80/80 [00:01<00:00, 76.91it/s]\n"
     ]
    },
    {
     "name": "stdout",
     "output_type": "stream",
     "text": [
      "Best params:  {'C': 1, 'epsilon': 0.0001, 'gamma': 0.1, 'kernel': 'rbf'}\n",
      "Best rmse:  0.11275617432569206\n",
      "Training model:  76\n"
     ]
    },
    {
     "name": "stderr",
     "output_type": "stream",
     "text": [
      "100%|██████████████████████████████████████████████████████████████████████████████████| 80/80 [00:01<00:00, 76.76it/s]\n"
     ]
    },
    {
     "name": "stdout",
     "output_type": "stream",
     "text": [
      "Best params:  {'C': 1, 'epsilon': 0.01, 'gamma': 1, 'kernel': 'rbf'}\n",
      "Best rmse:  0.09296711022639162\n",
      "Training model:  77\n"
     ]
    },
    {
     "name": "stderr",
     "output_type": "stream",
     "text": [
      "100%|██████████████████████████████████████████████████████████████████████████████████| 80/80 [00:01<00:00, 76.25it/s]\n"
     ]
    },
    {
     "name": "stdout",
     "output_type": "stream",
     "text": [
      "Best params:  {'C': 10, 'epsilon': 0.01, 'gamma': 0.1, 'kernel': 'rbf'}\n",
      "Best rmse:  0.11017490141308799\n",
      "Training model:  78\n"
     ]
    },
    {
     "name": "stderr",
     "output_type": "stream",
     "text": [
      "100%|██████████████████████████████████████████████████████████████████████████████████| 80/80 [00:01<00:00, 75.96it/s]\n"
     ]
    },
    {
     "name": "stdout",
     "output_type": "stream",
     "text": [
      "Best params:  {'C': 1, 'epsilon': 0.01, 'gamma': 1, 'kernel': 'rbf'}\n",
      "Best rmse:  0.08435884643205549\n",
      "Training model:  79\n"
     ]
    },
    {
     "name": "stderr",
     "output_type": "stream",
     "text": [
      "100%|██████████████████████████████████████████████████████████████████████████████████| 80/80 [00:01<00:00, 76.91it/s]\n"
     ]
    },
    {
     "name": "stdout",
     "output_type": "stream",
     "text": [
      "Best params:  {'C': 1, 'epsilon': 0.01, 'gamma': 1, 'kernel': 'rbf'}\n",
      "Best rmse:  0.08194799236194607\n",
      "Training model:  80\n"
     ]
    },
    {
     "name": "stderr",
     "output_type": "stream",
     "text": [
      "100%|██████████████████████████████████████████████████████████████████████████████████| 80/80 [00:01<00:00, 76.61it/s]\n"
     ]
    },
    {
     "name": "stdout",
     "output_type": "stream",
     "text": [
      "Best params:  {'C': 10, 'epsilon': 0.01, 'gamma': 1, 'kernel': 'rbf'}\n",
      "Best rmse:  0.09099917216203991\n",
      "Training model:  81\n"
     ]
    },
    {
     "name": "stderr",
     "output_type": "stream",
     "text": [
      "100%|██████████████████████████████████████████████████████████████████████████████████| 80/80 [00:01<00:00, 75.96it/s]\n"
     ]
    },
    {
     "name": "stdout",
     "output_type": "stream",
     "text": [
      "Best params:  {'C': 10, 'epsilon': 1e-05, 'gamma': 1, 'kernel': 'rbf'}\n",
      "Best rmse:  0.0768234853540095\n",
      "Training model:  82\n"
     ]
    },
    {
     "name": "stderr",
     "output_type": "stream",
     "text": [
      "100%|██████████████████████████████████████████████████████████████████████████████████| 80/80 [00:01<00:00, 75.88it/s]\n"
     ]
    },
    {
     "name": "stdout",
     "output_type": "stream",
     "text": [
      "Best params:  {'C': 1, 'epsilon': 0.01, 'gamma': 1, 'kernel': 'rbf'}\n",
      "Best rmse:  0.1081914050979184\n",
      "Training model:  83\n"
     ]
    },
    {
     "name": "stderr",
     "output_type": "stream",
     "text": [
      "100%|██████████████████████████████████████████████████████████████████████████████████| 80/80 [00:01<00:00, 76.46it/s]\n"
     ]
    },
    {
     "name": "stdout",
     "output_type": "stream",
     "text": [
      "Best params:  {'C': 100, 'epsilon': 0.01, 'gamma': 0.1, 'kernel': 'rbf'}\n",
      "Best rmse:  0.10950442495848979\n",
      "Training model:  84\n"
     ]
    },
    {
     "name": "stderr",
     "output_type": "stream",
     "text": [
      "100%|██████████████████████████████████████████████████████████████████████████████████| 80/80 [00:01<00:00, 75.67it/s]\n"
     ]
    },
    {
     "name": "stdout",
     "output_type": "stream",
     "text": [
      "Best params:  {'C': 10, 'epsilon': 0.0001, 'gamma': 1, 'kernel': 'rbf'}\n",
      "Best rmse:  0.08155575211872901\n",
      "Training model:  85\n"
     ]
    },
    {
     "name": "stderr",
     "output_type": "stream",
     "text": [
      "100%|██████████████████████████████████████████████████████████████████████████████████| 80/80 [00:01<00:00, 76.10it/s]\n"
     ]
    },
    {
     "name": "stdout",
     "output_type": "stream",
     "text": [
      "Best params:  {'C': 1, 'epsilon': 0.01, 'gamma': 1, 'kernel': 'rbf'}\n",
      "Best rmse:  0.09484098868793028\n",
      "Training model:  86\n"
     ]
    },
    {
     "name": "stderr",
     "output_type": "stream",
     "text": [
      "100%|██████████████████████████████████████████████████████████████████████████████████| 80/80 [00:01<00:00, 67.78it/s]\n"
     ]
    },
    {
     "name": "stdout",
     "output_type": "stream",
     "text": [
      "Best params:  {'C': 10, 'epsilon': 0.01, 'gamma': 1, 'kernel': 'rbf'}\n",
      "Best rmse:  0.10618089507436505\n",
      "Training model:  87\n"
     ]
    },
    {
     "name": "stderr",
     "output_type": "stream",
     "text": [
      "100%|██████████████████████████████████████████████████████████████████████████████████| 80/80 [00:01<00:00, 67.61it/s]\n"
     ]
    },
    {
     "name": "stdout",
     "output_type": "stream",
     "text": [
      "Best params:  {'C': 10, 'epsilon': 0.0001, 'gamma': 0.1, 'kernel': 'rbf'}\n",
      "Best rmse:  0.10320042073898301\n",
      "Training model:  88\n"
     ]
    },
    {
     "name": "stderr",
     "output_type": "stream",
     "text": [
      "100%|██████████████████████████████████████████████████████████████████████████████████| 80/80 [00:01<00:00, 74.13it/s]\n"
     ]
    },
    {
     "name": "stdout",
     "output_type": "stream",
     "text": [
      "Best params:  {'C': 1, 'epsilon': 1e-05, 'gamma': 1, 'kernel': 'rbf'}\n",
      "Best rmse:  0.09429506397802072\n",
      "Training model:  89\n"
     ]
    },
    {
     "name": "stderr",
     "output_type": "stream",
     "text": [
      "100%|██████████████████████████████████████████████████████████████████████████████████| 80/80 [00:01<00:00, 75.53it/s]\n"
     ]
    },
    {
     "name": "stdout",
     "output_type": "stream",
     "text": [
      "Best params:  {'C': 100, 'epsilon': 0.001, 'gamma': 0.1, 'kernel': 'rbf'}\n",
      "Best rmse:  0.09961114393959644\n",
      "Training model:  90\n"
     ]
    },
    {
     "name": "stderr",
     "output_type": "stream",
     "text": [
      "100%|██████████████████████████████████████████████████████████████████████████████████| 80/80 [00:01<00:00, 73.38it/s]\n"
     ]
    },
    {
     "name": "stdout",
     "output_type": "stream",
     "text": [
      "Best params:  {'C': 1, 'epsilon': 1e-05, 'gamma': 1, 'kernel': 'rbf'}\n",
      "Best rmse:  0.09411189069760191\n",
      "Training model:  91\n"
     ]
    },
    {
     "name": "stderr",
     "output_type": "stream",
     "text": [
      "100%|██████████████████████████████████████████████████████████████████████████████████| 80/80 [00:01<00:00, 74.82it/s]\n"
     ]
    },
    {
     "name": "stdout",
     "output_type": "stream",
     "text": [
      "Best params:  {'C': 10, 'epsilon': 0.0001, 'gamma': 1, 'kernel': 'rbf'}\n",
      "Best rmse:  0.09825993075798004\n",
      "Training model:  92\n"
     ]
    },
    {
     "name": "stderr",
     "output_type": "stream",
     "text": [
      "100%|██████████████████████████████████████████████████████████████████████████████████| 80/80 [00:01<00:00, 73.58it/s]\n"
     ]
    },
    {
     "name": "stdout",
     "output_type": "stream",
     "text": [
      "Best params:  {'C': 1, 'epsilon': 0.01, 'gamma': 1, 'kernel': 'rbf'}\n",
      "Best rmse:  0.1129558522608263\n",
      "Training model:  93\n"
     ]
    },
    {
     "name": "stderr",
     "output_type": "stream",
     "text": [
      "100%|██████████████████████████████████████████████████████████████████████████████████| 80/80 [00:01<00:00, 66.60it/s]\n"
     ]
    },
    {
     "name": "stdout",
     "output_type": "stream",
     "text": [
      "Best params:  {'C': 1, 'epsilon': 0.001, 'gamma': 1, 'kernel': 'rbf'}\n",
      "Best rmse:  0.11641767636572867\n",
      "Training model:  94\n"
     ]
    },
    {
     "name": "stderr",
     "output_type": "stream",
     "text": [
      "100%|██████████████████████████████████████████████████████████████████████████████████| 80/80 [00:01<00:00, 75.67it/s]\n"
     ]
    },
    {
     "name": "stdout",
     "output_type": "stream",
     "text": [
      "Best params:  {'C': 10, 'epsilon': 0.01, 'gamma': 0.1, 'kernel': 'rbf'}\n",
      "Best rmse:  0.10943065095864354\n",
      "Training model:  95\n"
     ]
    },
    {
     "name": "stderr",
     "output_type": "stream",
     "text": [
      "100%|██████████████████████████████████████████████████████████████████████████████████| 80/80 [00:01<00:00, 66.65it/s]\n"
     ]
    },
    {
     "name": "stdout",
     "output_type": "stream",
     "text": [
      "Best params:  {'C': 100, 'epsilon': 0.01, 'gamma': 0.1, 'kernel': 'rbf'}\n",
      "Best rmse:  0.08753466067269022\n",
      "Training model:  96\n"
     ]
    },
    {
     "name": "stderr",
     "output_type": "stream",
     "text": [
      "100%|██████████████████████████████████████████████████████████████████████████████████| 80/80 [00:01<00:00, 71.60it/s]\n"
     ]
    },
    {
     "name": "stdout",
     "output_type": "stream",
     "text": [
      "Best params:  {'C': 100, 'epsilon': 0.01, 'gamma': 0.1, 'kernel': 'rbf'}\n",
      "Best rmse:  0.09225682700342912\n",
      "Training model:  97\n"
     ]
    },
    {
     "name": "stderr",
     "output_type": "stream",
     "text": [
      "100%|██████████████████████████████████████████████████████████████████████████████████| 80/80 [00:01<00:00, 71.60it/s]\n"
     ]
    },
    {
     "name": "stdout",
     "output_type": "stream",
     "text": [
      "Best params:  {'C': 1000, 'epsilon': 0.01, 'gamma': 0.01, 'kernel': 'rbf'}\n",
      "Best rmse:  0.09548186868179971\n",
      "Training model:  98\n"
     ]
    },
    {
     "name": "stderr",
     "output_type": "stream",
     "text": [
      "100%|██████████████████████████████████████████████████████████████████████████████████| 80/80 [00:01<00:00, 74.47it/s]\n"
     ]
    },
    {
     "name": "stdout",
     "output_type": "stream",
     "text": [
      "Best params:  {'C': 10, 'epsilon': 1e-05, 'gamma': 0.1, 'kernel': 'rbf'}\n",
      "Best rmse:  0.0890561333417116\n",
      "Training model:  99\n"
     ]
    },
    {
     "name": "stderr",
     "output_type": "stream",
     "text": [
      "100%|██████████████████████████████████████████████████████████████████████████████████| 80/80 [00:01<00:00, 72.45it/s]\n"
     ]
    },
    {
     "name": "stdout",
     "output_type": "stream",
     "text": [
      "Best params:  {'C': 10, 'epsilon': 0.01, 'gamma': 1, 'kernel': 'rbf'}\n",
      "Best rmse:  0.07251381637868014\n"
     ]
    },
    {
     "name": "stderr",
     "output_type": "stream",
     "text": [
      "100%|████████████████████████████████████████████████████████████████████████████████| 800/800 [01:33<00:00,  8.60it/s]\n"
     ]
    },
    {
     "name": "stdout",
     "output_type": "stream",
     "text": [
      "Best params:  {'comb': 'median', 'k': 2, 'n': 19}\n",
      "Best rmse:  0.4712195676474672\n",
      "MSE: 0.01742423180391223\n",
      "MAPE: 14.926233901705066\n",
      "ARV: 0.9047927121948989\n",
      "MAE: 0.09636485324096174\n",
      "RMSE: 0.13200087804220179\n",
      "NRMSE: 0.21448386919994658\n",
      "SMAPE: 14.046616293291175\n",
      "Time Series:  wine\n",
      "\n",
      "###############################################\n",
      "\n",
      "Executing: ENSEMBLE SVR\n",
      "d:  1\n",
      "Training model:  0\n"
     ]
    },
    {
     "name": "stderr",
     "output_type": "stream",
     "text": [
      "100%|██████████████████████████████████████████████████████████████████████████████████| 80/80 [00:01<00:00, 72.38it/s]\n"
     ]
    },
    {
     "name": "stdout",
     "output_type": "stream",
     "text": [
      "Best params:  {'C': 1, 'epsilon': 0.01, 'gamma': 1, 'kernel': 'rbf'}\n",
      "Best rmse:  0.06661255441082635\n",
      "Training model:  1\n"
     ]
    },
    {
     "name": "stderr",
     "output_type": "stream",
     "text": [
      "100%|██████████████████████████████████████████████████████████████████████████████████| 80/80 [00:01<00:00, 76.61it/s]\n"
     ]
    },
    {
     "name": "stdout",
     "output_type": "stream",
     "text": [
      "Best params:  {'C': 1, 'epsilon': 0.001, 'gamma': 1, 'kernel': 'rbf'}\n",
      "Best rmse:  0.06990007008294717\n",
      "Training model:  2\n"
     ]
    },
    {
     "name": "stderr",
     "output_type": "stream",
     "text": [
      "100%|██████████████████████████████████████████████████████████████████████████████████| 80/80 [00:01<00:00, 75.03it/s]\n"
     ]
    },
    {
     "name": "stdout",
     "output_type": "stream",
     "text": [
      "Best params:  {'C': 1, 'epsilon': 0.0001, 'gamma': 1, 'kernel': 'rbf'}\n",
      "Best rmse:  0.05014946932867941\n",
      "Training model:  3\n"
     ]
    },
    {
     "name": "stderr",
     "output_type": "stream",
     "text": [
      "100%|██████████████████████████████████████████████████████████████████████████████████| 80/80 [00:01<00:00, 75.81it/s]\n"
     ]
    },
    {
     "name": "stdout",
     "output_type": "stream",
     "text": [
      "Best params:  {'C': 1000, 'epsilon': 1e-05, 'gamma': 0.01, 'kernel': 'rbf'}\n",
      "Best rmse:  0.05995179145583334\n",
      "Training model:  4\n"
     ]
    },
    {
     "name": "stderr",
     "output_type": "stream",
     "text": [
      "100%|██████████████████████████████████████████████████████████████████████████████████| 80/80 [00:01<00:00, 76.83it/s]\n"
     ]
    },
    {
     "name": "stdout",
     "output_type": "stream",
     "text": [
      "Best params:  {'C': 10, 'epsilon': 0.001, 'gamma': 1, 'kernel': 'rbf'}\n",
      "Best rmse:  0.050398772493231644\n",
      "Training model:  5\n"
     ]
    },
    {
     "name": "stderr",
     "output_type": "stream",
     "text": [
      "100%|██████████████████████████████████████████████████████████████████████████████████| 80/80 [00:01<00:00, 74.54it/s]\n"
     ]
    },
    {
     "name": "stdout",
     "output_type": "stream",
     "text": [
      "Best params:  {'C': 1000, 'epsilon': 0.001, 'gamma': 0.01, 'kernel': 'rbf'}\n",
      "Best rmse:  0.07634533106962453\n",
      "Training model:  6\n"
     ]
    },
    {
     "name": "stderr",
     "output_type": "stream",
     "text": [
      "100%|██████████████████████████████████████████████████████████████████████████████████| 80/80 [00:01<00:00, 74.82it/s]\n"
     ]
    },
    {
     "name": "stdout",
     "output_type": "stream",
     "text": [
      "Best params:  {'C': 1000, 'epsilon': 0.01, 'gamma': 0.01, 'kernel': 'rbf'}\n",
      "Best rmse:  0.05645221042106661\n",
      "Training model:  7\n"
     ]
    },
    {
     "name": "stderr",
     "output_type": "stream",
     "text": [
      "100%|██████████████████████████████████████████████████████████████████████████████████| 80/80 [00:01<00:00, 75.88it/s]\n"
     ]
    },
    {
     "name": "stdout",
     "output_type": "stream",
     "text": [
      "Best params:  {'C': 100, 'epsilon': 0.01, 'gamma': 0.1, 'kernel': 'rbf'}\n",
      "Best rmse:  0.0975597971912403\n",
      "Training model:  8\n"
     ]
    },
    {
     "name": "stderr",
     "output_type": "stream",
     "text": [
      "100%|██████████████████████████████████████████████████████████████████████████████████| 80/80 [00:01<00:00, 76.03it/s]\n"
     ]
    },
    {
     "name": "stdout",
     "output_type": "stream",
     "text": [
      "Best params:  {'C': 1000, 'epsilon': 0.01, 'gamma': 0.01, 'kernel': 'rbf'}\n",
      "Best rmse:  0.06314626416894656\n",
      "Training model:  9\n"
     ]
    },
    {
     "name": "stderr",
     "output_type": "stream",
     "text": [
      "100%|██████████████████████████████████████████████████████████████████████████████████| 80/80 [00:01<00:00, 75.81it/s]\n"
     ]
    },
    {
     "name": "stdout",
     "output_type": "stream",
     "text": [
      "Best params:  {'C': 10, 'epsilon': 0.01, 'gamma': 1, 'kernel': 'rbf'}\n",
      "Best rmse:  0.058120390440470335\n",
      "Training model:  10\n"
     ]
    },
    {
     "name": "stderr",
     "output_type": "stream",
     "text": [
      "100%|██████████████████████████████████████████████████████████████████████████████████| 80/80 [00:01<00:00, 76.32it/s]\n"
     ]
    },
    {
     "name": "stdout",
     "output_type": "stream",
     "text": [
      "Best params:  {'C': 1, 'epsilon': 0.001, 'gamma': 1, 'kernel': 'rbf'}\n",
      "Best rmse:  0.05311104542585858\n",
      "Training model:  11\n"
     ]
    },
    {
     "name": "stderr",
     "output_type": "stream",
     "text": [
      "100%|██████████████████████████████████████████████████████████████████████████████████| 80/80 [00:01<00:00, 77.28it/s]\n"
     ]
    },
    {
     "name": "stdout",
     "output_type": "stream",
     "text": [
      "Best params:  {'C': 1000, 'epsilon': 0.01, 'gamma': 0.01, 'kernel': 'rbf'}\n",
      "Best rmse:  0.07750563875964944\n",
      "Training model:  12\n"
     ]
    },
    {
     "name": "stderr",
     "output_type": "stream",
     "text": [
      "100%|██████████████████████████████████████████████████████████████████████████████████| 80/80 [00:01<00:00, 77.28it/s]\n"
     ]
    },
    {
     "name": "stdout",
     "output_type": "stream",
     "text": [
      "Best params:  {'C': 100, 'epsilon': 0.01, 'gamma': 0.1, 'kernel': 'rbf'}\n",
      "Best rmse:  0.065187594832088\n",
      "Training model:  13\n"
     ]
    },
    {
     "name": "stderr",
     "output_type": "stream",
     "text": [
      "100%|██████████████████████████████████████████████████████████████████████████████████| 80/80 [00:01<00:00, 77.43it/s]\n"
     ]
    },
    {
     "name": "stdout",
     "output_type": "stream",
     "text": [
      "Best params:  {'C': 10, 'epsilon': 0.01, 'gamma': 0.1, 'kernel': 'rbf'}\n",
      "Best rmse:  0.07259958974059169\n",
      "Training model:  14\n"
     ]
    },
    {
     "name": "stderr",
     "output_type": "stream",
     "text": [
      "100%|██████████████████████████████████████████████████████████████████████████████████| 80/80 [00:01<00:00, 76.46it/s]\n"
     ]
    },
    {
     "name": "stdout",
     "output_type": "stream",
     "text": [
      "Best params:  {'C': 10, 'epsilon': 0.01, 'gamma': 0.1, 'kernel': 'rbf'}\n",
      "Best rmse:  0.0664776356032172\n",
      "Training model:  15\n"
     ]
    },
    {
     "name": "stderr",
     "output_type": "stream",
     "text": [
      "100%|██████████████████████████████████████████████████████████████████████████████████| 80/80 [00:01<00:00, 75.10it/s]\n"
     ]
    },
    {
     "name": "stdout",
     "output_type": "stream",
     "text": [
      "Best params:  {'C': 1000, 'epsilon': 0.0001, 'gamma': 0.01, 'kernel': 'rbf'}\n",
      "Best rmse:  0.07790759430612317\n",
      "Training model:  16\n"
     ]
    },
    {
     "name": "stderr",
     "output_type": "stream",
     "text": [
      "100%|██████████████████████████████████████████████████████████████████████████████████| 80/80 [00:01<00:00, 76.25it/s]\n"
     ]
    },
    {
     "name": "stdout",
     "output_type": "stream",
     "text": [
      "Best params:  {'C': 1000, 'epsilon': 0.0001, 'gamma': 0.01, 'kernel': 'rbf'}\n",
      "Best rmse:  0.061975663457675405\n",
      "Training model:  17\n"
     ]
    },
    {
     "name": "stderr",
     "output_type": "stream",
     "text": [
      "100%|██████████████████████████████████████████████████████████████████████████████████| 80/80 [00:01<00:00, 76.32it/s]\n"
     ]
    },
    {
     "name": "stdout",
     "output_type": "stream",
     "text": [
      "Best params:  {'C': 100, 'epsilon': 0.01, 'gamma': 0.1, 'kernel': 'rbf'}\n",
      "Best rmse:  0.08016571680720161\n",
      "Training model:  18\n"
     ]
    },
    {
     "name": "stderr",
     "output_type": "stream",
     "text": [
      "100%|██████████████████████████████████████████████████████████████████████████████████| 80/80 [00:01<00:00, 72.38it/s]\n"
     ]
    },
    {
     "name": "stdout",
     "output_type": "stream",
     "text": [
      "Best params:  {'C': 10, 'epsilon': 0.01, 'gamma': 1, 'kernel': 'rbf'}\n",
      "Best rmse:  0.07023720541401311\n",
      "Training model:  19\n"
     ]
    },
    {
     "name": "stderr",
     "output_type": "stream",
     "text": [
      "100%|██████████████████████████████████████████████████████████████████████████████████| 80/80 [00:01<00:00, 74.06it/s]\n"
     ]
    },
    {
     "name": "stdout",
     "output_type": "stream",
     "text": [
      "Best params:  {'C': 1, 'epsilon': 0.01, 'gamma': 1, 'kernel': 'rbf'}\n",
      "Best rmse:  0.07038256462901073\n",
      "Training model:  20\n"
     ]
    },
    {
     "name": "stderr",
     "output_type": "stream",
     "text": [
      "100%|██████████████████████████████████████████████████████████████████████████████████| 80/80 [00:01<00:00, 73.31it/s]\n"
     ]
    },
    {
     "name": "stdout",
     "output_type": "stream",
     "text": [
      "Best params:  {'C': 10, 'epsilon': 1e-05, 'gamma': 1, 'kernel': 'rbf'}\n",
      "Best rmse:  0.05088745895949263\n",
      "Training model:  21\n"
     ]
    },
    {
     "name": "stderr",
     "output_type": "stream",
     "text": [
      "100%|██████████████████████████████████████████████████████████████████████████████████| 80/80 [00:01<00:00, 67.67it/s]\n"
     ]
    },
    {
     "name": "stdout",
     "output_type": "stream",
     "text": [
      "Best params:  {'C': 100, 'epsilon': 1e-05, 'gamma': 0.01, 'kernel': 'rbf'}\n",
      "Best rmse:  0.07680108888945851\n",
      "Training model:  22\n"
     ]
    },
    {
     "name": "stderr",
     "output_type": "stream",
     "text": [
      "100%|██████████████████████████████████████████████████████████████████████████████████| 80/80 [00:01<00:00, 66.65it/s]\n"
     ]
    },
    {
     "name": "stdout",
     "output_type": "stream",
     "text": [
      "Best params:  {'C': 1, 'epsilon': 0.001, 'gamma': 1, 'kernel': 'rbf'}\n",
      "Best rmse:  0.06330708481593544\n",
      "Training model:  23\n"
     ]
    },
    {
     "name": "stderr",
     "output_type": "stream",
     "text": [
      "100%|██████████████████████████████████████████████████████████████████████████████████| 80/80 [00:01<00:00, 74.54it/s]\n"
     ]
    },
    {
     "name": "stdout",
     "output_type": "stream",
     "text": [
      "Best params:  {'C': 1, 'epsilon': 0.01, 'gamma': 1, 'kernel': 'rbf'}\n",
      "Best rmse:  0.056492608814638356\n",
      "Training model:  24\n"
     ]
    },
    {
     "name": "stderr",
     "output_type": "stream",
     "text": [
      "100%|██████████████████████████████████████████████████████████████████████████████████| 80/80 [00:01<00:00, 76.10it/s]\n"
     ]
    },
    {
     "name": "stdout",
     "output_type": "stream",
     "text": [
      "Best params:  {'C': 1000, 'epsilon': 0.01, 'gamma': 0.1, 'kernel': 'rbf'}\n",
      "Best rmse:  0.06451345684683461\n",
      "Training model:  25\n"
     ]
    },
    {
     "name": "stderr",
     "output_type": "stream",
     "text": [
      "100%|██████████████████████████████████████████████████████████████████████████████████| 80/80 [00:01<00:00, 72.91it/s]\n"
     ]
    },
    {
     "name": "stdout",
     "output_type": "stream",
     "text": [
      "Best params:  {'C': 10, 'epsilon': 0.01, 'gamma': 1, 'kernel': 'rbf'}\n",
      "Best rmse:  0.07217947488616529\n",
      "Training model:  26\n"
     ]
    },
    {
     "name": "stderr",
     "output_type": "stream",
     "text": [
      "100%|██████████████████████████████████████████████████████████████████████████████████| 80/80 [00:01<00:00, 76.32it/s]\n"
     ]
    },
    {
     "name": "stdout",
     "output_type": "stream",
     "text": [
      "Best params:  {'C': 1, 'epsilon': 0.01, 'gamma': 1, 'kernel': 'rbf'}\n",
      "Best rmse:  0.06927608634773842\n",
      "Training model:  27\n"
     ]
    },
    {
     "name": "stderr",
     "output_type": "stream",
     "text": [
      "100%|██████████████████████████████████████████████████████████████████████████████████| 80/80 [00:01<00:00, 75.67it/s]\n"
     ]
    },
    {
     "name": "stdout",
     "output_type": "stream",
     "text": [
      "Best params:  {'C': 10, 'epsilon': 0.01, 'gamma': 1, 'kernel': 'rbf'}\n",
      "Best rmse:  0.08981338935436929\n",
      "Training model:  28\n"
     ]
    },
    {
     "name": "stderr",
     "output_type": "stream",
     "text": [
      "100%|██████████████████████████████████████████████████████████████████████████████████| 80/80 [00:01<00:00, 76.10it/s]\n"
     ]
    },
    {
     "name": "stdout",
     "output_type": "stream",
     "text": [
      "Best params:  {'C': 1, 'epsilon': 0.001, 'gamma': 1, 'kernel': 'rbf'}\n",
      "Best rmse:  0.06592179761238992\n",
      "Training model:  29\n"
     ]
    },
    {
     "name": "stderr",
     "output_type": "stream",
     "text": [
      "100%|██████████████████████████████████████████████████████████████████████████████████| 80/80 [00:01<00:00, 76.98it/s]\n"
     ]
    },
    {
     "name": "stdout",
     "output_type": "stream",
     "text": [
      "Best params:  {'C': 1000, 'epsilon': 0.1, 'gamma': 0.01, 'kernel': 'rbf'}\n",
      "Best rmse:  0.07180277400742549\n",
      "Training model:  30\n"
     ]
    },
    {
     "name": "stderr",
     "output_type": "stream",
     "text": [
      "100%|██████████████████████████████████████████████████████████████████████████████████| 80/80 [00:01<00:00, 76.32it/s]\n"
     ]
    },
    {
     "name": "stdout",
     "output_type": "stream",
     "text": [
      "Best params:  {'C': 1000, 'epsilon': 0.01, 'gamma': 0.01, 'kernel': 'rbf'}\n",
      "Best rmse:  0.07739622727527845\n",
      "Training model:  31\n"
     ]
    },
    {
     "name": "stderr",
     "output_type": "stream",
     "text": [
      "100%|██████████████████████████████████████████████████████████████████████████████████| 80/80 [00:01<00:00, 76.03it/s]\n"
     ]
    },
    {
     "name": "stdout",
     "output_type": "stream",
     "text": [
      "Best params:  {'C': 10, 'epsilon': 0.01, 'gamma': 1, 'kernel': 'rbf'}\n",
      "Best rmse:  0.048595528451773354\n",
      "Training model:  32\n"
     ]
    },
    {
     "name": "stderr",
     "output_type": "stream",
     "text": [
      "100%|██████████████████████████████████████████████████████████████████████████████████| 80/80 [00:01<00:00, 76.54it/s]\n"
     ]
    },
    {
     "name": "stdout",
     "output_type": "stream",
     "text": [
      "Best params:  {'C': 1, 'epsilon': 0.01, 'gamma': 1, 'kernel': 'rbf'}\n",
      "Best rmse:  0.06982125842363553\n",
      "Training model:  33\n"
     ]
    },
    {
     "name": "stderr",
     "output_type": "stream",
     "text": [
      "100%|██████████████████████████████████████████████████████████████████████████████████| 80/80 [00:01<00:00, 76.98it/s]\n"
     ]
    },
    {
     "name": "stdout",
     "output_type": "stream",
     "text": [
      "Best params:  {'C': 1000, 'epsilon': 0.001, 'gamma': 0.01, 'kernel': 'rbf'}\n",
      "Best rmse:  0.06807861758764712\n",
      "Training model:  34\n"
     ]
    },
    {
     "name": "stderr",
     "output_type": "stream",
     "text": [
      "100%|██████████████████████████████████████████████████████████████████████████████████| 80/80 [00:01<00:00, 76.32it/s]\n"
     ]
    },
    {
     "name": "stdout",
     "output_type": "stream",
     "text": [
      "Best params:  {'C': 1, 'epsilon': 0.01, 'gamma': 1, 'kernel': 'rbf'}\n",
      "Best rmse:  0.06482071758261478\n",
      "Training model:  35\n"
     ]
    },
    {
     "name": "stderr",
     "output_type": "stream",
     "text": [
      "100%|██████████████████████████████████████████████████████████████████████████████████| 80/80 [00:01<00:00, 71.54it/s]\n"
     ]
    },
    {
     "name": "stdout",
     "output_type": "stream",
     "text": [
      "Best params:  {'C': 10, 'epsilon': 1e-05, 'gamma': 1, 'kernel': 'rbf'}\n",
      "Best rmse:  0.06833190692862126\n",
      "Training model:  36\n"
     ]
    },
    {
     "name": "stderr",
     "output_type": "stream",
     "text": [
      "100%|██████████████████████████████████████████████████████████████████████████████████| 80/80 [00:01<00:00, 77.05it/s]\n"
     ]
    },
    {
     "name": "stdout",
     "output_type": "stream",
     "text": [
      "Best params:  {'C': 1, 'epsilon': 1e-05, 'gamma': 1, 'kernel': 'rbf'}\n",
      "Best rmse:  0.07667897908006001\n",
      "Training model:  37\n"
     ]
    },
    {
     "name": "stderr",
     "output_type": "stream",
     "text": [
      "100%|██████████████████████████████████████████████████████████████████████████████████| 80/80 [00:01<00:00, 77.43it/s]\n"
     ]
    },
    {
     "name": "stdout",
     "output_type": "stream",
     "text": [
      "Best params:  {'C': 1, 'epsilon': 0.01, 'gamma': 1, 'kernel': 'rbf'}\n",
      "Best rmse:  0.057883217269506806\n",
      "Training model:  38\n"
     ]
    },
    {
     "name": "stderr",
     "output_type": "stream",
     "text": [
      "100%|██████████████████████████████████████████████████████████████████████████████████| 80/80 [00:01<00:00, 76.83it/s]\n"
     ]
    },
    {
     "name": "stdout",
     "output_type": "stream",
     "text": [
      "Best params:  {'C': 1, 'epsilon': 0.001, 'gamma': 1, 'kernel': 'rbf'}\n",
      "Best rmse:  0.07314078499732601\n",
      "Training model:  39\n"
     ]
    },
    {
     "name": "stderr",
     "output_type": "stream",
     "text": [
      "100%|██████████████████████████████████████████████████████████████████████████████████| 80/80 [00:01<00:00, 77.43it/s]\n"
     ]
    },
    {
     "name": "stdout",
     "output_type": "stream",
     "text": [
      "Best params:  {'C': 10, 'epsilon': 0.0001, 'gamma': 0.1, 'kernel': 'rbf'}\n",
      "Best rmse:  0.08086503202185144\n",
      "Training model:  40\n"
     ]
    },
    {
     "name": "stderr",
     "output_type": "stream",
     "text": [
      "100%|██████████████████████████████████████████████████████████████████████████████████| 80/80 [00:01<00:00, 77.73it/s]\n"
     ]
    },
    {
     "name": "stdout",
     "output_type": "stream",
     "text": [
      "Best params:  {'C': 1, 'epsilon': 1e-05, 'gamma': 1, 'kernel': 'rbf'}\n",
      "Best rmse:  0.06613867604673104\n",
      "Training model:  41\n"
     ]
    },
    {
     "name": "stderr",
     "output_type": "stream",
     "text": [
      "100%|██████████████████████████████████████████████████████████████████████████████████| 80/80 [00:01<00:00, 77.13it/s]\n"
     ]
    },
    {
     "name": "stdout",
     "output_type": "stream",
     "text": [
      "Best params:  {'C': 100, 'epsilon': 0.0001, 'gamma': 0.1, 'kernel': 'rbf'}\n",
      "Best rmse:  0.059423324410812876\n",
      "Training model:  42\n"
     ]
    },
    {
     "name": "stderr",
     "output_type": "stream",
     "text": [
      "100%|██████████████████████████████████████████████████████████████████████████████████| 80/80 [00:01<00:00, 77.35it/s]\n"
     ]
    },
    {
     "name": "stdout",
     "output_type": "stream",
     "text": [
      "Best params:  {'C': 10, 'epsilon': 0.01, 'gamma': 1, 'kernel': 'rbf'}\n",
      "Best rmse:  0.06330881527501418\n",
      "Training model:  43\n"
     ]
    },
    {
     "name": "stderr",
     "output_type": "stream",
     "text": [
      "100%|██████████████████████████████████████████████████████████████████████████████████| 80/80 [00:01<00:00, 77.43it/s]\n"
     ]
    },
    {
     "name": "stdout",
     "output_type": "stream",
     "text": [
      "Best params:  {'C': 1, 'epsilon': 0.1, 'gamma': 1, 'kernel': 'rbf'}\n",
      "Best rmse:  0.07423817154303054\n",
      "Training model:  44\n"
     ]
    },
    {
     "name": "stderr",
     "output_type": "stream",
     "text": [
      "100%|██████████████████████████████████████████████████████████████████████████████████| 80/80 [00:01<00:00, 77.13it/s]\n"
     ]
    },
    {
     "name": "stdout",
     "output_type": "stream",
     "text": [
      "Best params:  {'C': 1000, 'epsilon': 0.01, 'gamma': 0.01, 'kernel': 'rbf'}\n",
      "Best rmse:  0.05553138279496483\n",
      "Training model:  45\n"
     ]
    },
    {
     "name": "stderr",
     "output_type": "stream",
     "text": [
      "100%|██████████████████████████████████████████████████████████████████████████████████| 80/80 [00:01<00:00, 77.73it/s]\n"
     ]
    },
    {
     "name": "stdout",
     "output_type": "stream",
     "text": [
      "Best params:  {'C': 10, 'epsilon': 0.01, 'gamma': 0.1, 'kernel': 'rbf'}\n",
      "Best rmse:  0.0822675912156535\n",
      "Training model:  46\n"
     ]
    },
    {
     "name": "stderr",
     "output_type": "stream",
     "text": [
      "100%|██████████████████████████████████████████████████████████████████████████████████| 80/80 [00:01<00:00, 77.28it/s]\n"
     ]
    },
    {
     "name": "stdout",
     "output_type": "stream",
     "text": [
      "Best params:  {'C': 100, 'epsilon': 0.01, 'gamma': 0.1, 'kernel': 'rbf'}\n",
      "Best rmse:  0.05852481692374368\n",
      "Training model:  47\n"
     ]
    },
    {
     "name": "stderr",
     "output_type": "stream",
     "text": [
      "100%|██████████████████████████████████████████████████████████████████████████████████| 80/80 [00:01<00:00, 77.20it/s]\n"
     ]
    },
    {
     "name": "stdout",
     "output_type": "stream",
     "text": [
      "Best params:  {'C': 10, 'epsilon': 0.01, 'gamma': 1, 'kernel': 'rbf'}\n",
      "Best rmse:  0.07148547563153995\n",
      "Training model:  48\n"
     ]
    },
    {
     "name": "stderr",
     "output_type": "stream",
     "text": [
      "100%|██████████████████████████████████████████████████████████████████████████████████| 80/80 [00:01<00:00, 77.20it/s]\n"
     ]
    },
    {
     "name": "stdout",
     "output_type": "stream",
     "text": [
      "Best params:  {'C': 10, 'epsilon': 0.01, 'gamma': 1, 'kernel': 'rbf'}\n",
      "Best rmse:  0.055108373215704706\n",
      "Training model:  49\n"
     ]
    },
    {
     "name": "stderr",
     "output_type": "stream",
     "text": [
      "100%|██████████████████████████████████████████████████████████████████████████████████| 80/80 [00:01<00:00, 77.73it/s]\n"
     ]
    },
    {
     "name": "stdout",
     "output_type": "stream",
     "text": [
      "Best params:  {'C': 100, 'epsilon': 0.01, 'gamma': 0.01, 'kernel': 'rbf'}\n",
      "Best rmse:  0.07362867282213237\n",
      "Training model:  50\n"
     ]
    },
    {
     "name": "stderr",
     "output_type": "stream",
     "text": [
      "100%|██████████████████████████████████████████████████████████████████████████████████| 80/80 [00:01<00:00, 77.50it/s]\n"
     ]
    },
    {
     "name": "stdout",
     "output_type": "stream",
     "text": [
      "Best params:  {'C': 1, 'epsilon': 0.01, 'gamma': 1, 'kernel': 'rbf'}\n",
      "Best rmse:  0.07765805663999506\n",
      "Training model:  51\n"
     ]
    },
    {
     "name": "stderr",
     "output_type": "stream",
     "text": [
      "100%|██████████████████████████████████████████████████████████████████████████████████| 80/80 [00:01<00:00, 77.73it/s]\n"
     ]
    },
    {
     "name": "stdout",
     "output_type": "stream",
     "text": [
      "Best params:  {'C': 100, 'epsilon': 1e-05, 'gamma': 0.1, 'kernel': 'rbf'}\n",
      "Best rmse:  0.04397039919794964\n",
      "Training model:  52\n"
     ]
    },
    {
     "name": "stderr",
     "output_type": "stream",
     "text": [
      "100%|██████████████████████████████████████████████████████████████████████████████████| 80/80 [00:01<00:00, 77.35it/s]\n"
     ]
    },
    {
     "name": "stdout",
     "output_type": "stream",
     "text": [
      "Best params:  {'C': 100, 'epsilon': 0.01, 'gamma': 0.1, 'kernel': 'rbf'}\n",
      "Best rmse:  0.060179270100374146\n",
      "Training model:  53\n"
     ]
    },
    {
     "name": "stderr",
     "output_type": "stream",
     "text": [
      "100%|██████████████████████████████████████████████████████████████████████████████████| 80/80 [00:01<00:00, 76.25it/s]\n"
     ]
    },
    {
     "name": "stdout",
     "output_type": "stream",
     "text": [
      "Best params:  {'C': 1, 'epsilon': 0.001, 'gamma': 1, 'kernel': 'rbf'}\n",
      "Best rmse:  0.06626557076722651\n",
      "Training model:  54\n"
     ]
    },
    {
     "name": "stderr",
     "output_type": "stream",
     "text": [
      "100%|██████████████████████████████████████████████████████████████████████████████████| 80/80 [00:01<00:00, 77.20it/s]\n"
     ]
    },
    {
     "name": "stdout",
     "output_type": "stream",
     "text": [
      "Best params:  {'C': 10, 'epsilon': 0.0001, 'gamma': 1, 'kernel': 'rbf'}\n",
      "Best rmse:  0.065115680473452\n",
      "Training model:  55\n"
     ]
    },
    {
     "name": "stderr",
     "output_type": "stream",
     "text": [
      "100%|██████████████████████████████████████████████████████████████████████████████████| 80/80 [00:01<00:00, 75.60it/s]\n"
     ]
    },
    {
     "name": "stdout",
     "output_type": "stream",
     "text": [
      "Best params:  {'C': 1000, 'epsilon': 0.01, 'gamma': 0.01, 'kernel': 'rbf'}\n",
      "Best rmse:  0.06183480886065894\n",
      "Training model:  56\n"
     ]
    },
    {
     "name": "stderr",
     "output_type": "stream",
     "text": [
      "100%|██████████████████████████████████████████████████████████████████████████████████| 80/80 [00:01<00:00, 77.88it/s]\n"
     ]
    },
    {
     "name": "stdout",
     "output_type": "stream",
     "text": [
      "Best params:  {'C': 100, 'epsilon': 0.01, 'gamma': 0.1, 'kernel': 'rbf'}\n",
      "Best rmse:  0.05469181377196821\n",
      "Training model:  57\n"
     ]
    },
    {
     "name": "stderr",
     "output_type": "stream",
     "text": [
      "100%|██████████████████████████████████████████████████████████████████████████████████| 80/80 [00:01<00:00, 76.76it/s]\n"
     ]
    },
    {
     "name": "stdout",
     "output_type": "stream",
     "text": [
      "Best params:  {'C': 1, 'epsilon': 1e-05, 'gamma': 0.1, 'kernel': 'rbf'}\n",
      "Best rmse:  0.0674605545196464\n",
      "Training model:  58\n"
     ]
    },
    {
     "name": "stderr",
     "output_type": "stream",
     "text": [
      "100%|██████████████████████████████████████████████████████████████████████████████████| 80/80 [00:01<00:00, 76.61it/s]\n"
     ]
    },
    {
     "name": "stdout",
     "output_type": "stream",
     "text": [
      "Best params:  {'C': 1000, 'epsilon': 0.01, 'gamma': 0.01, 'kernel': 'rbf'}\n",
      "Best rmse:  0.07830885522083791\n",
      "Training model:  59\n"
     ]
    },
    {
     "name": "stderr",
     "output_type": "stream",
     "text": [
      "100%|██████████████████████████████████████████████████████████████████████████████████| 80/80 [00:01<00:00, 76.98it/s]\n"
     ]
    },
    {
     "name": "stdout",
     "output_type": "stream",
     "text": [
      "Best params:  {'C': 1000, 'epsilon': 1e-05, 'gamma': 0.01, 'kernel': 'rbf'}\n",
      "Best rmse:  0.059451066615905254\n",
      "Training model:  60\n"
     ]
    },
    {
     "name": "stderr",
     "output_type": "stream",
     "text": [
      "100%|██████████████████████████████████████████████████████████████████████████████████| 80/80 [00:01<00:00, 77.05it/s]\n"
     ]
    },
    {
     "name": "stdout",
     "output_type": "stream",
     "text": [
      "Best params:  {'C': 100, 'epsilon': 0.0001, 'gamma': 0.1, 'kernel': 'rbf'}\n",
      "Best rmse:  0.060547007709836724\n",
      "Training model:  61\n"
     ]
    },
    {
     "name": "stderr",
     "output_type": "stream",
     "text": [
      "100%|██████████████████████████████████████████████████████████████████████████████████| 80/80 [00:01<00:00, 77.05it/s]\n"
     ]
    },
    {
     "name": "stdout",
     "output_type": "stream",
     "text": [
      "Best params:  {'C': 1, 'epsilon': 0.01, 'gamma': 1, 'kernel': 'rbf'}\n",
      "Best rmse:  0.05779338304088249\n",
      "Training model:  62\n"
     ]
    },
    {
     "name": "stderr",
     "output_type": "stream",
     "text": [
      "100%|██████████████████████████████████████████████████████████████████████████████████| 80/80 [00:01<00:00, 77.05it/s]\n"
     ]
    },
    {
     "name": "stdout",
     "output_type": "stream",
     "text": [
      "Best params:  {'C': 1, 'epsilon': 0.001, 'gamma': 1, 'kernel': 'rbf'}\n",
      "Best rmse:  0.06019378441328395\n",
      "Training model:  63\n"
     ]
    },
    {
     "name": "stderr",
     "output_type": "stream",
     "text": [
      "100%|██████████████████████████████████████████████████████████████████████████████████| 80/80 [00:01<00:00, 77.35it/s]\n"
     ]
    },
    {
     "name": "stdout",
     "output_type": "stream",
     "text": [
      "Best params:  {'C': 1000, 'epsilon': 0.01, 'gamma': 0.01, 'kernel': 'rbf'}\n",
      "Best rmse:  0.05692106299904942\n",
      "Training model:  64\n"
     ]
    },
    {
     "name": "stderr",
     "output_type": "stream",
     "text": [
      "100%|██████████████████████████████████████████████████████████████████████████████████| 80/80 [00:01<00:00, 76.76it/s]\n"
     ]
    },
    {
     "name": "stdout",
     "output_type": "stream",
     "text": [
      "Best params:  {'C': 1, 'epsilon': 0.01, 'gamma': 1, 'kernel': 'rbf'}\n",
      "Best rmse:  0.05976432155950755\n",
      "Training model:  65\n"
     ]
    },
    {
     "name": "stderr",
     "output_type": "stream",
     "text": [
      "100%|██████████████████████████████████████████████████████████████████████████████████| 80/80 [00:01<00:00, 77.13it/s]\n"
     ]
    },
    {
     "name": "stdout",
     "output_type": "stream",
     "text": [
      "Best params:  {'C': 10, 'epsilon': 0.01, 'gamma': 1, 'kernel': 'rbf'}\n",
      "Best rmse:  0.05378603346475404\n",
      "Training model:  66\n"
     ]
    },
    {
     "name": "stderr",
     "output_type": "stream",
     "text": [
      "100%|██████████████████████████████████████████████████████████████████████████████████| 80/80 [00:01<00:00, 76.91it/s]\n"
     ]
    },
    {
     "name": "stdout",
     "output_type": "stream",
     "text": [
      "Best params:  {'C': 1, 'epsilon': 0.01, 'gamma': 1, 'kernel': 'rbf'}\n",
      "Best rmse:  0.06378479302778355\n",
      "Training model:  67\n"
     ]
    },
    {
     "name": "stderr",
     "output_type": "stream",
     "text": [
      "100%|██████████████████████████████████████████████████████████████████████████████████| 80/80 [00:01<00:00, 77.13it/s]\n"
     ]
    },
    {
     "name": "stdout",
     "output_type": "stream",
     "text": [
      "Best params:  {'C': 10, 'epsilon': 0.001, 'gamma': 1, 'kernel': 'rbf'}\n",
      "Best rmse:  0.061975107569032566\n",
      "Training model:  68\n"
     ]
    },
    {
     "name": "stderr",
     "output_type": "stream",
     "text": [
      "100%|██████████████████████████████████████████████████████████████████████████████████| 80/80 [00:01<00:00, 76.61it/s]\n"
     ]
    },
    {
     "name": "stdout",
     "output_type": "stream",
     "text": [
      "Best params:  {'C': 1, 'epsilon': 0.01, 'gamma': 1, 'kernel': 'rbf'}\n",
      "Best rmse:  0.06739304181817363\n",
      "Training model:  69\n"
     ]
    },
    {
     "name": "stderr",
     "output_type": "stream",
     "text": [
      "100%|██████████████████████████████████████████████████████████████████████████████████| 80/80 [00:01<00:00, 75.88it/s]\n"
     ]
    },
    {
     "name": "stdout",
     "output_type": "stream",
     "text": [
      "Best params:  {'C': 10, 'epsilon': 0.001, 'gamma': 1, 'kernel': 'rbf'}\n",
      "Best rmse:  0.05228012186496721\n",
      "Training model:  70\n"
     ]
    },
    {
     "name": "stderr",
     "output_type": "stream",
     "text": [
      "100%|██████████████████████████████████████████████████████████████████████████████████| 80/80 [00:01<00:00, 77.13it/s]\n"
     ]
    },
    {
     "name": "stdout",
     "output_type": "stream",
     "text": [
      "Best params:  {'C': 1000, 'epsilon': 0.001, 'gamma': 0.01, 'kernel': 'rbf'}\n",
      "Best rmse:  0.07259847220092448\n",
      "Training model:  71\n"
     ]
    },
    {
     "name": "stderr",
     "output_type": "stream",
     "text": [
      "100%|██████████████████████████████████████████████████████████████████████████████████| 80/80 [00:01<00:00, 76.32it/s]\n"
     ]
    },
    {
     "name": "stdout",
     "output_type": "stream",
     "text": [
      "Best params:  {'C': 1000, 'epsilon': 0.01, 'gamma': 0.01, 'kernel': 'rbf'}\n",
      "Best rmse:  0.06316485237067271\n",
      "Training model:  72\n"
     ]
    },
    {
     "name": "stderr",
     "output_type": "stream",
     "text": [
      "100%|██████████████████████████████████████████████████████████████████████████████████| 80/80 [00:01<00:00, 76.39it/s]\n"
     ]
    },
    {
     "name": "stdout",
     "output_type": "stream",
     "text": [
      "Best params:  {'C': 1, 'epsilon': 0.01, 'gamma': 1, 'kernel': 'rbf'}\n",
      "Best rmse:  0.054959205400798045\n",
      "Training model:  73\n"
     ]
    },
    {
     "name": "stderr",
     "output_type": "stream",
     "text": [
      "100%|██████████████████████████████████████████████████████████████████████████████████| 80/80 [00:01<00:00, 77.58it/s]\n"
     ]
    },
    {
     "name": "stdout",
     "output_type": "stream",
     "text": [
      "Best params:  {'C': 1, 'epsilon': 0.01, 'gamma': 1, 'kernel': 'rbf'}\n",
      "Best rmse:  0.06281573681819608\n",
      "Training model:  74\n"
     ]
    },
    {
     "name": "stderr",
     "output_type": "stream",
     "text": [
      "100%|██████████████████████████████████████████████████████████████████████████████████| 80/80 [00:01<00:00, 77.73it/s]\n"
     ]
    },
    {
     "name": "stdout",
     "output_type": "stream",
     "text": [
      "Best params:  {'C': 10, 'epsilon': 0.01, 'gamma': 1, 'kernel': 'rbf'}\n",
      "Best rmse:  0.05699090013395115\n",
      "Training model:  75\n"
     ]
    },
    {
     "name": "stderr",
     "output_type": "stream",
     "text": [
      "100%|██████████████████████████████████████████████████████████████████████████████████| 80/80 [00:01<00:00, 76.10it/s]\n"
     ]
    },
    {
     "name": "stdout",
     "output_type": "stream",
     "text": [
      "Best params:  {'C': 10, 'epsilon': 0.01, 'gamma': 1, 'kernel': 'rbf'}\n",
      "Best rmse:  0.06678557058725251\n",
      "Training model:  76\n"
     ]
    },
    {
     "name": "stderr",
     "output_type": "stream",
     "text": [
      "100%|██████████████████████████████████████████████████████████████████████████████████| 80/80 [00:01<00:00, 77.13it/s]\n"
     ]
    },
    {
     "name": "stdout",
     "output_type": "stream",
     "text": [
      "Best params:  {'C': 10, 'epsilon': 0.01, 'gamma': 1, 'kernel': 'rbf'}\n",
      "Best rmse:  0.04277178268141867\n",
      "Training model:  77\n"
     ]
    },
    {
     "name": "stderr",
     "output_type": "stream",
     "text": [
      "100%|██████████████████████████████████████████████████████████████████████████████████| 80/80 [00:01<00:00, 76.46it/s]\n"
     ]
    },
    {
     "name": "stdout",
     "output_type": "stream",
     "text": [
      "Best params:  {'C': 10, 'epsilon': 0.01, 'gamma': 1, 'kernel': 'rbf'}\n",
      "Best rmse:  0.053844314452254426\n",
      "Training model:  78\n"
     ]
    },
    {
     "name": "stderr",
     "output_type": "stream",
     "text": [
      "100%|██████████████████████████████████████████████████████████████████████████████████| 80/80 [00:01<00:00, 75.38it/s]\n"
     ]
    },
    {
     "name": "stdout",
     "output_type": "stream",
     "text": [
      "Best params:  {'C': 1, 'epsilon': 1e-05, 'gamma': 1, 'kernel': 'rbf'}\n",
      "Best rmse:  0.07536842378337953\n",
      "Training model:  79\n"
     ]
    },
    {
     "name": "stderr",
     "output_type": "stream",
     "text": [
      "100%|██████████████████████████████████████████████████████████████████████████████████| 80/80 [00:01<00:00, 72.32it/s]\n"
     ]
    },
    {
     "name": "stdout",
     "output_type": "stream",
     "text": [
      "Best params:  {'C': 1000, 'epsilon': 1e-05, 'gamma': 0.01, 'kernel': 'rbf'}\n",
      "Best rmse:  0.07982300074823927\n",
      "Training model:  80\n"
     ]
    },
    {
     "name": "stderr",
     "output_type": "stream",
     "text": [
      "100%|██████████████████████████████████████████████████████████████████████████████████| 80/80 [00:01<00:00, 76.98it/s]\n"
     ]
    },
    {
     "name": "stdout",
     "output_type": "stream",
     "text": [
      "Best params:  {'C': 1000, 'epsilon': 0.01, 'gamma': 0.01, 'kernel': 'rbf'}\n",
      "Best rmse:  0.06393085456633703\n",
      "Training model:  81\n"
     ]
    },
    {
     "name": "stderr",
     "output_type": "stream",
     "text": [
      "100%|██████████████████████████████████████████████████████████████████████████████████| 80/80 [00:01<00:00, 77.13it/s]\n"
     ]
    },
    {
     "name": "stdout",
     "output_type": "stream",
     "text": [
      "Best params:  {'C': 1000, 'epsilon': 0.01, 'gamma': 0.01, 'kernel': 'rbf'}\n",
      "Best rmse:  0.08242720781308188\n",
      "Training model:  82\n"
     ]
    },
    {
     "name": "stderr",
     "output_type": "stream",
     "text": [
      "100%|██████████████████████████████████████████████████████████████████████████████████| 80/80 [00:01<00:00, 77.20it/s]\n"
     ]
    },
    {
     "name": "stdout",
     "output_type": "stream",
     "text": [
      "Best params:  {'C': 1, 'epsilon': 1e-05, 'gamma': 1, 'kernel': 'rbf'}\n",
      "Best rmse:  0.05635867015131201\n",
      "Training model:  83\n"
     ]
    },
    {
     "name": "stderr",
     "output_type": "stream",
     "text": [
      "100%|██████████████████████████████████████████████████████████████████████████████████| 80/80 [00:01<00:00, 76.83it/s]\n"
     ]
    },
    {
     "name": "stdout",
     "output_type": "stream",
     "text": [
      "Best params:  {'C': 10, 'epsilon': 0.01, 'gamma': 1, 'kernel': 'rbf'}\n",
      "Best rmse:  0.06014775812911529\n",
      "Training model:  84\n"
     ]
    },
    {
     "name": "stderr",
     "output_type": "stream",
     "text": [
      "100%|██████████████████████████████████████████████████████████████████████████████████| 80/80 [00:01<00:00, 77.43it/s]\n"
     ]
    },
    {
     "name": "stdout",
     "output_type": "stream",
     "text": [
      "Best params:  {'C': 1000, 'epsilon': 0.01, 'gamma': 0.1, 'kernel': 'rbf'}\n",
      "Best rmse:  0.05189626167201818\n",
      "Training model:  85\n"
     ]
    },
    {
     "name": "stderr",
     "output_type": "stream",
     "text": [
      "100%|██████████████████████████████████████████████████████████████████████████████████| 80/80 [00:01<00:00, 77.88it/s]\n"
     ]
    },
    {
     "name": "stdout",
     "output_type": "stream",
     "text": [
      "Best params:  {'C': 10, 'epsilon': 0.0001, 'gamma': 1, 'kernel': 'rbf'}\n",
      "Best rmse:  0.06063207347564071\n",
      "Training model:  86\n"
     ]
    },
    {
     "name": "stderr",
     "output_type": "stream",
     "text": [
      "100%|██████████████████████████████████████████████████████████████████████████████████| 80/80 [00:01<00:00, 77.28it/s]\n"
     ]
    },
    {
     "name": "stdout",
     "output_type": "stream",
     "text": [
      "Best params:  {'C': 1, 'epsilon': 0.01, 'gamma': 1, 'kernel': 'rbf'}\n",
      "Best rmse:  0.07889869626458094\n",
      "Training model:  87\n"
     ]
    },
    {
     "name": "stderr",
     "output_type": "stream",
     "text": [
      "100%|██████████████████████████████████████████████████████████████████████████████████| 80/80 [00:01<00:00, 77.65it/s]\n"
     ]
    },
    {
     "name": "stdout",
     "output_type": "stream",
     "text": [
      "Best params:  {'C': 1, 'epsilon': 1e-05, 'gamma': 1, 'kernel': 'rbf'}\n",
      "Best rmse:  0.06642896582477627\n",
      "Training model:  88\n"
     ]
    },
    {
     "name": "stderr",
     "output_type": "stream",
     "text": [
      "100%|██████████████████████████████████████████████████████████████████████████████████| 80/80 [00:01<00:00, 76.46it/s]\n"
     ]
    },
    {
     "name": "stdout",
     "output_type": "stream",
     "text": [
      "Best params:  {'C': 1000, 'epsilon': 0.0001, 'gamma': 0.01, 'kernel': 'rbf'}\n",
      "Best rmse:  0.062183662788772985\n",
      "Training model:  89\n"
     ]
    },
    {
     "name": "stderr",
     "output_type": "stream",
     "text": [
      "100%|██████████████████████████████████████████████████████████████████████████████████| 80/80 [00:01<00:00, 77.20it/s]\n"
     ]
    },
    {
     "name": "stdout",
     "output_type": "stream",
     "text": [
      "Best params:  {'C': 1, 'epsilon': 0.01, 'gamma': 1, 'kernel': 'rbf'}\n",
      "Best rmse:  0.060486651234364044\n",
      "Training model:  90\n"
     ]
    },
    {
     "name": "stderr",
     "output_type": "stream",
     "text": [
      "100%|██████████████████████████████████████████████████████████████████████████████████| 80/80 [00:01<00:00, 77.35it/s]\n"
     ]
    },
    {
     "name": "stdout",
     "output_type": "stream",
     "text": [
      "Best params:  {'C': 1, 'epsilon': 0.001, 'gamma': 1, 'kernel': 'rbf'}\n",
      "Best rmse:  0.06833855339437028\n",
      "Training model:  91\n"
     ]
    },
    {
     "name": "stderr",
     "output_type": "stream",
     "text": [
      "100%|██████████████████████████████████████████████████████████████████████████████████| 80/80 [00:01<00:00, 77.43it/s]\n"
     ]
    },
    {
     "name": "stdout",
     "output_type": "stream",
     "text": [
      "Best params:  {'C': 1, 'epsilon': 0.01, 'gamma': 1, 'kernel': 'rbf'}\n",
      "Best rmse:  0.07466682046789379\n",
      "Training model:  92\n"
     ]
    },
    {
     "name": "stderr",
     "output_type": "stream",
     "text": [
      "100%|██████████████████████████████████████████████████████████████████████████████████| 80/80 [00:01<00:00, 76.83it/s]\n"
     ]
    },
    {
     "name": "stdout",
     "output_type": "stream",
     "text": [
      "Best params:  {'C': 10, 'epsilon': 0.001, 'gamma': 1, 'kernel': 'rbf'}\n",
      "Best rmse:  0.05541920773355977\n",
      "Training model:  93\n"
     ]
    },
    {
     "name": "stderr",
     "output_type": "stream",
     "text": [
      "100%|██████████████████████████████████████████████████████████████████████████████████| 80/80 [00:01<00:00, 76.25it/s]\n"
     ]
    },
    {
     "name": "stdout",
     "output_type": "stream",
     "text": [
      "Best params:  {'C': 1, 'epsilon': 0.01, 'gamma': 1, 'kernel': 'rbf'}\n",
      "Best rmse:  0.08667433634488692\n",
      "Training model:  94\n"
     ]
    },
    {
     "name": "stderr",
     "output_type": "stream",
     "text": [
      "100%|██████████████████████████████████████████████████████████████████████████████████| 80/80 [00:01<00:00, 77.65it/s]\n"
     ]
    },
    {
     "name": "stdout",
     "output_type": "stream",
     "text": [
      "Best params:  {'C': 100, 'epsilon': 0.01, 'gamma': 0.1, 'kernel': 'rbf'}\n",
      "Best rmse:  0.05440996667208956\n",
      "Training model:  95\n"
     ]
    },
    {
     "name": "stderr",
     "output_type": "stream",
     "text": [
      "100%|██████████████████████████████████████████████████████████████████████████████████| 80/80 [00:01<00:00, 76.17it/s]\n"
     ]
    },
    {
     "name": "stdout",
     "output_type": "stream",
     "text": [
      "Best params:  {'C': 1, 'epsilon': 0.01, 'gamma': 1, 'kernel': 'rbf'}\n",
      "Best rmse:  0.08536673494373705\n",
      "Training model:  96\n"
     ]
    },
    {
     "name": "stderr",
     "output_type": "stream",
     "text": [
      "100%|██████████████████████████████████████████████████████████████████████████████████| 80/80 [00:01<00:00, 76.03it/s]\n"
     ]
    },
    {
     "name": "stdout",
     "output_type": "stream",
     "text": [
      "Best params:  {'C': 1000, 'epsilon': 0.01, 'gamma': 0.1, 'kernel': 'rbf'}\n",
      "Best rmse:  0.053109465772126024\n",
      "Training model:  97\n"
     ]
    },
    {
     "name": "stderr",
     "output_type": "stream",
     "text": [
      "100%|██████████████████████████████████████████████████████████████████████████████████| 80/80 [00:01<00:00, 76.17it/s]\n"
     ]
    },
    {
     "name": "stdout",
     "output_type": "stream",
     "text": [
      "Best params:  {'C': 1, 'epsilon': 0.01, 'gamma': 1, 'kernel': 'rbf'}\n",
      "Best rmse:  0.06311439337536326\n",
      "Training model:  98\n"
     ]
    },
    {
     "name": "stderr",
     "output_type": "stream",
     "text": [
      "100%|██████████████████████████████████████████████████████████████████████████████████| 80/80 [00:01<00:00, 78.34it/s]\n"
     ]
    },
    {
     "name": "stdout",
     "output_type": "stream",
     "text": [
      "Best params:  {'C': 100, 'epsilon': 0.01, 'gamma': 0.1, 'kernel': 'rbf'}\n",
      "Best rmse:  0.0641219691140765\n",
      "Training model:  99\n"
     ]
    },
    {
     "name": "stderr",
     "output_type": "stream",
     "text": [
      "100%|██████████████████████████████████████████████████████████████████████████████████| 80/80 [00:01<00:00, 76.46it/s]\n"
     ]
    },
    {
     "name": "stdout",
     "output_type": "stream",
     "text": [
      "Best params:  {'C': 10, 'epsilon': 1e-05, 'gamma': 0.1, 'kernel': 'rbf'}\n",
      "Best rmse:  0.07138729455631154\n"
     ]
    },
    {
     "name": "stderr",
     "output_type": "stream",
     "text": [
      "100%|████████████████████████████████████████████████████████████████████████████████| 800/800 [01:10<00:00, 11.28it/s]\n"
     ]
    },
    {
     "name": "stdout",
     "output_type": "stream",
     "text": [
      "Best params:  {'comb': 'median', 'k': 4, 'n': 9}\n",
      "Best rmse:  10.088866394242833\n",
      "MSE: 0.001471355386236489\n",
      "MAPE: 48.850652118568576\n",
      "ARV: 0.26651135349228555\n",
      "MAE: 0.030040078770301536\n",
      "RMSE: 0.03835825056277318\n",
      "NRMSE: 0.11753361390388194\n",
      "SMAPE: 40.18516463200131\n"
     ]
    }
   ],
   "source": [
    "metric_res = []\n",
    "params_res = []\n",
    "\n",
    "for f in file_names:\n",
    "    print(\"Time Series: \", f)\n",
    "    df = read_file(file_prefix + f + file_suffix)\n",
    "\n",
    "    results = run_ensemble(df=df, ens_size=ens_size, train_proportion=train_proportion, val_proportion=val_proportion, plot_curves=plot_curves, max_k = max_k, **ensemble_svr)\n",
    "    \n",
    "    \n",
    "    val_index, test_index = define_split_points(df, train_proportion, val_proportion)\n",
    "    min_max_scaler = preprocessing.MinMaxScaler()\n",
    "    real = df['y'].loc[test_index:].values\n",
    "\n",
    "    if (execution == \"oracle\"):\n",
    "        oracle_pred = oracle(results, real)\n",
    "        calculate_metrics(oracle_pred, real, True, min_max_scaler, df)\n",
    "\n",
    "    else:\n",
    "        parameters = {\n",
    "            'k': list(range(1,max_k +1)),\n",
    "            'n': list(range(1,max_n +1)),\n",
    "            'comb': ['median', 'average'],\n",
    "        }\n",
    "        grid = list(ParameterGrid(parameters))\n",
    "        pred_results = []\n",
    "        for r in results:\n",
    "            temp = pd.DataFrame(data = np.zeros(df['y'].size), columns = ['y'])\n",
    "            temp['y'][val_index - max_k:] = r\n",
    "            pred_results.append(temp)\n",
    "        best_params = parallel_gridsearch_dsnaw(df, pred_results, val_index, test_index, parameters)\n",
    "        params_res.append((f, best_params))\n",
    "        y_dsnaw = test_dsnaw(best_params, df, pred_results, test_index)\n",
    "        m = calculate_metrics(y_dsnaw, real, True, min_max_scaler, df)\n",
    "        metric_res.append((f, m))\n",
    "        \n",
    "    "
   ]
  },
  {
   "cell_type": "code",
   "execution_count": 22,
   "id": "14aa5fc2-d211-4176-b867-91c4dde0e251",
   "metadata": {
    "tags": []
   },
   "outputs": [
    {
     "name": "stdout",
     "output_type": "stream",
     "text": [
      "   Time Series Metrics    DSNAW\n",
      "0          amz     MSE 1.24E-04\n",
      "1          amz    MAPE 1.53E+01\n",
      "2          amz     ARV 3.49E-02\n",
      "3          amz     MAE 8.71E-03\n",
      "4          amz    RMSE 1.12E-02\n",
      "..         ...     ...      ...\n",
      "65        wine     ARV 2.67E-01\n",
      "66        wine     MAE 3.00E-02\n",
      "67        wine    RMSE 3.84E-02\n",
      "68        wine   NRMSE 1.18E-01\n",
      "69        wine   SMAPE 4.02E+01\n",
      "\n",
      "[70 rows x 3 columns]\n"
     ]
    }
   ],
   "source": [
    "metrics_df = pd.DataFrame(columns=['Time Series', 'Metrics', 'DSNAW'])\n",
    "\n",
    "\n",
    "for f in metric_res:\n",
    "    f_name = f[0]\n",
    "    for me, value in f[1].items():\n",
    "        new_row = {'Time Series': f_name, 'Metrics': me, 'DSNAW': value}\n",
    "        new_row = pd.Series(new_row)\n",
    "        metrics_df = pd.concat([metrics_df, new_row.to_frame().T], ignore_index=True)\n",
    "        \n",
    "        \n",
    "#         rows[me] = []\n",
    "#     for mo in f[1]:\n",
    "#         mo_name = mo[0]\n",
    "#         for me, value in mo[1].items():\n",
    "#             rows[me].append((mo_name, value))\n",
    "#     for me, res in rows.items():\n",
    "#         new_row = {'Time Series': f_name, 'Metrics': me}\n",
    "#         for r in res:\n",
    "#             new_row[r[0]] = r[1]\n",
    "#         new_row = pd.Series(new_row)\n",
    "#         metrics_df = pd.concat([metrics_df, new_row.to_frame().T], ignore_index=True)\n",
    "        \n",
    "# metrics_df['DSNAW'] = dsnaw\n",
    "\n",
    "# columns_models.insert(-1, 'DSNAW')\n",
    "# metrics_df = metrics_df[['Time Series', 'Metrics'] + columns_models]\n",
    "\n",
    "metrics_df['DSNAW'] = metrics_df['DSNAW'].apply(lambda x: pd.to_numeric(x, errors='coerce'))\n",
    "pd.set_option('display.float_format', '{:.2E}'.format)\n",
    "print(metrics_df)"
   ]
  },
  {
   "cell_type": "code",
   "execution_count": 23,
   "id": "456c3240-45f6-46f3-b7fa-18c54ad481c6",
   "metadata": {},
   "outputs": [
    {
     "data": {
      "text/html": [
       "<div>\n",
       "<style scoped>\n",
       "    .dataframe tbody tr th:only-of-type {\n",
       "        vertical-align: middle;\n",
       "    }\n",
       "\n",
       "    .dataframe tbody tr th {\n",
       "        vertical-align: top;\n",
       "    }\n",
       "\n",
       "    .dataframe thead th {\n",
       "        text-align: right;\n",
       "    }\n",
       "</style>\n",
       "<table border=\"1\" class=\"dataframe\">\n",
       "  <thead>\n",
       "    <tr style=\"text-align: right;\">\n",
       "      <th></th>\n",
       "      <th>Time Series</th>\n",
       "      <th>k</th>\n",
       "      <th>n</th>\n",
       "      <th>comb</th>\n",
       "    </tr>\n",
       "  </thead>\n",
       "  <tbody>\n",
       "    <tr>\n",
       "      <th>0</th>\n",
       "      <td>amz</td>\n",
       "      <td>9</td>\n",
       "      <td>6</td>\n",
       "      <td>average</td>\n",
       "    </tr>\n",
       "    <tr>\n",
       "      <th>1</th>\n",
       "      <td>APPLE</td>\n",
       "      <td>14</td>\n",
       "      <td>7</td>\n",
       "      <td>average</td>\n",
       "    </tr>\n",
       "    <tr>\n",
       "      <th>2</th>\n",
       "      <td>electricity</td>\n",
       "      <td>12</td>\n",
       "      <td>18</td>\n",
       "      <td>median</td>\n",
       "    </tr>\n",
       "    <tr>\n",
       "      <th>3</th>\n",
       "      <td>goldman</td>\n",
       "      <td>2</td>\n",
       "      <td>5</td>\n",
       "      <td>average</td>\n",
       "    </tr>\n",
       "    <tr>\n",
       "      <th>4</th>\n",
       "      <td>msft</td>\n",
       "      <td>1</td>\n",
       "      <td>15</td>\n",
       "      <td>median</td>\n",
       "    </tr>\n",
       "    <tr>\n",
       "      <th>5</th>\n",
       "      <td>pollutions</td>\n",
       "      <td>4</td>\n",
       "      <td>7</td>\n",
       "      <td>median</td>\n",
       "    </tr>\n",
       "    <tr>\n",
       "      <th>6</th>\n",
       "      <td>star</td>\n",
       "      <td>20</td>\n",
       "      <td>20</td>\n",
       "      <td>median</td>\n",
       "    </tr>\n",
       "    <tr>\n",
       "      <th>7</th>\n",
       "      <td>sunspot</td>\n",
       "      <td>11</td>\n",
       "      <td>19</td>\n",
       "      <td>median</td>\n",
       "    </tr>\n",
       "    <tr>\n",
       "      <th>8</th>\n",
       "      <td>vehicle</td>\n",
       "      <td>2</td>\n",
       "      <td>19</td>\n",
       "      <td>median</td>\n",
       "    </tr>\n",
       "    <tr>\n",
       "      <th>9</th>\n",
       "      <td>wine</td>\n",
       "      <td>4</td>\n",
       "      <td>9</td>\n",
       "      <td>median</td>\n",
       "    </tr>\n",
       "  </tbody>\n",
       "</table>\n",
       "</div>"
      ],
      "text/plain": [
       "   Time Series   k   n     comb\n",
       "0          amz   9   6  average\n",
       "1        APPLE  14   7  average\n",
       "2  electricity  12  18   median\n",
       "3      goldman   2   5  average\n",
       "4         msft   1  15   median\n",
       "5   pollutions   4   7   median\n",
       "6         star  20  20   median\n",
       "7      sunspot  11  19   median\n",
       "8      vehicle   2  19   median\n",
       "9         wine   4   9   median"
      ]
     },
     "execution_count": 23,
     "metadata": {},
     "output_type": "execute_result"
    }
   ],
   "source": [
    "params_df = pd.DataFrame(columns=['Time Series', 'k', 'n', 'comb'])\n",
    "\n",
    "for f in params_res:\n",
    "    new_row = {'Time Series': f[0]}\n",
    "    for key, value in f[1].items():\n",
    "        new_row[key] = value\n",
    "    new_row = pd.Series(new_row)\n",
    "    params_df = pd.concat([params_df, new_row.to_frame().T], ignore_index=True)\n",
    "    \n",
    "    \n",
    "params_df"
   ]
  },
  {
   "cell_type": "code",
   "execution_count": 24,
   "id": "5dba2c02-6cc6-490a-9b4e-0a132a9587eb",
   "metadata": {},
   "outputs": [],
   "source": [
    "params_df.to_csv('results/params_results_bagging.csv', index=False)\n",
    "metrics_df.to_csv('results/metrics_results_bagging.csv', index=False)"
   ]
  },
  {
   "cell_type": "code",
   "execution_count": null,
   "id": "aa19198c-223f-4973-9791-d4ab10394f3d",
   "metadata": {},
   "outputs": [],
   "source": []
  }
 ],
 "metadata": {
  "kernelspec": {
   "display_name": "Python 3 (ipykernel)",
   "language": "python",
   "name": "python3"
  },
  "language_info": {
   "codemirror_mode": {
    "name": "ipython",
    "version": 3
   },
   "file_extension": ".py",
   "mimetype": "text/x-python",
   "name": "python",
   "nbconvert_exporter": "python",
   "pygments_lexer": "ipython3",
   "version": "3.9.6"
  }
 },
 "nbformat": 4,
 "nbformat_minor": 5
}
