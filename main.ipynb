{
 "cells": [
  {
   "cell_type": "code",
   "execution_count": 1,
   "id": "d70ebf36-7a1f-4fc6-b9d4-982bc7304fd3",
   "metadata": {},
   "outputs": [],
   "source": [
    "import numpy as np\n",
    "import pandas as pd\n",
    "from tqdm import tqdm\n",
    "from functools import partial\n",
    "import gridsearch\n",
    "import matplotlib.pyplot as plt\n",
    "from dbn.models import SupervisedDBNRegression\n",
    "from elm.elm import Model as elm\n",
    "from sklearn.svm import SVR\n",
    "from sklearn.ensemble import GradientBoostingRegressor\n",
    "from sklearn.ensemble import RandomForestRegressor\n",
    "from sklearn.neural_network import MLPRegressor\n",
    "from sklearn.base import clone\n",
    "from sklearn.utils._testing import ignore_warnings\n",
    "from sklearn.exceptions import ConvergenceWarning\n",
    "from sklearn.model_selection import ParameterGrid\n",
    "import sklearn.metrics as metrics\n",
    "from sklearn import preprocessing\n",
    "from statsmodels.tsa.stattools import adfuller\n",
    "from multiprocessing import Pool\n",
    "from statsmodels.tsa.arima_model import ARIMA\n",
    "import pmdarima as pm"
   ]
  },
  {
   "cell_type": "code",
   "execution_count": 2,
   "id": "c50d7981-800c-42f9-9f28-2406911efcbf",
   "metadata": {},
   "outputs": [],
   "source": [
    "file_names = [\"amz\", \"APPLE\", \"electricity\", \"goldman\", \"msft\", \"pollutions\", \"star\", \"sunspot\", \"vehicle\", \"wine\"]\n",
    "file_prefix = \"dataset/\"\n",
    "file_suffix = \".txt\"\n",
    "models = [\n",
    "          {'model_name': \"SVR\", 'windows': True, 'lags': 20, 'normalize_before_metrics': True, 'differencing_order': 'ADF', 'level': '5%', 'p_level': 0.05},\n",
    "          {'model_name': \"GB\", 'windows': True, 'lags': 20, 'normalize_before_metrics': True, 'differencing_order': 'ADF', 'level': '5%', 'p_level': 0.05},\n",
    "          {'model_name': \"RF\", 'windows': True, 'lags': 20, 'normalize_before_metrics': True, 'differencing_order': 'ADF', 'level': '5%', 'p_level': 0.05},\n",
    "          {'model_name': \"ARIMA\", 'windows': False, 'lags': 20, 'normalize_before_metrics': True, 'differencing_order': 'ADF', 'level': '5%', 'p_level': 0.05},\n",
    "          {'model_name': \"DBN\", 'windows': True, 'lags': 20, 'normalize_before_metrics': True, 'differencing_order': 'ADF', 'level': '5%', 'p_level': 0.05},\n",
    "          {'model_name': \"MLP\", 'windows': True, 'lags': 20, 'normalize_before_metrics': True, 'differencing_order': 'ADF', 'level': '5%', 'p_level': 0.05},\n",
    "          {'model_name': \"ELM\", 'windows': True, 'lags': 20, 'normalize_before_metrics': True, 'differencing_order': 'ADF', 'level': '5%', 'p_level': 0.05},\n",
    "         ]\n",
    "\n",
    "\n",
    "random_seed = 156\n",
    "\n",
    "execution = \"dsnaw\" # \"oracle\" or \"dsnaw\"\n",
    "plot_curves = False\n",
    "train_proportion = 1/2\n",
    "val_proportion = 1/4\n",
    "max_k = 20\n",
    "max_n = len(models)"
   ]
  },
  {
   "cell_type": "code",
   "execution_count": 3,
   "id": "1163a523-71f1-471d-bee0-d5bf102fc875",
   "metadata": {},
   "outputs": [],
   "source": [
    "#read files\n",
    "def read_file(path):\n",
    "    array_ts = np.loadtxt(path)\n",
    "    df = pd.DataFrame(data = array_ts, columns = ['y'])\n",
    "    return df"
   ]
  },
  {
   "cell_type": "code",
   "execution_count": 4,
   "id": "0adb11be-a3f9-4917-bd78-d714d43378be",
   "metadata": {},
   "outputs": [],
   "source": [
    "#define split points\n",
    "\n",
    "def define_split_points(df, train, val):\n",
    "    val_index = int(df.shape[0]*train)\n",
    "    test_index = int(df.shape[0]*(train+val))\n",
    "\n",
    "    # fig, ax=plt.subplots(figsize=(9, 4))\n",
    "    # df['y'].loc[:val_index-1].plot(ax=ax, label = 'train')\n",
    "    # df['y'].loc[val_index:test_index-1].plot(ax=ax, label = 'validation')\n",
    "    # df['y'].loc[test_index:].plot(ax=ax, label = 'test')\n",
    "    # ax.legend()\n",
    "    \n",
    "    return val_index, test_index\n"
   ]
  },
  {
   "cell_type": "code",
   "execution_count": 5,
   "id": "7e08b8bd-b936-444c-8567-ee3ab4c17c9e",
   "metadata": {},
   "outputs": [],
   "source": [
    "#difference time series\n",
    "\n",
    "def check_ADF(ts, lvl, p_lvl):\n",
    "    result = adfuller(ts)\n",
    "    return result[0] < result[4][lvl] and result[1] < p_lvl\n",
    "\n",
    "def difference(df, differencing_order, level, p_level):\n",
    "\n",
    "    df_differenced = None\n",
    "    if differencing_order:    \n",
    "        df_differenced = df.copy()\n",
    "\n",
    "        if differencing_order == 'ADF':\n",
    "            stationary = check_ADF(df_differenced['y'].values, level, p_level)\n",
    "            d = 0\n",
    "            while not stationary:\n",
    "                df_differenced = df_differenced.diff().dropna()\n",
    "                d += 1\n",
    "                stationary = check_ADF(df_differenced['y'].values, level, p_level)\n",
    "            if d == 0:\n",
    "                df_differenced = None\n",
    "            differencing_order = d\n",
    "        else:\n",
    "            i = 0\n",
    "            while i < differencing_order:\n",
    "                df_differenced = df_differenced.diff().dropna()\n",
    "                i+=1\n",
    "                \n",
    "    print(\"d: \", differencing_order)\n",
    "    # if differencing_order:\n",
    "    #     fig, ax=plt.subplots(figsize=(9, 4))\n",
    "    #     df_differenced.y.plot(ax = ax)\n",
    "        \n",
    "    return df_differenced, differencing_order\n"
   ]
  },
  {
   "cell_type": "code",
   "execution_count": 6,
   "id": "3a7b31b5-b50d-4a72-b52d-4439d7a1999a",
   "metadata": {},
   "outputs": [],
   "source": [
    "#normalize time series\n",
    "\n",
    "def normalize(df, val_index, d):\n",
    "    min_max_scaler = preprocessing.MinMaxScaler()\n",
    "    min_max_scaler.fit(df['y'].loc[:val_index-1].values.reshape(-1,1))\n",
    "    df_normalized = pd.DataFrame({'y': np.append(np.zeros(d),min_max_scaler.transform(df['y'].values.reshape(-1, 1)).flatten())}).iloc[d:]\n",
    "    \n",
    "    return df_normalized, min_max_scaler\n"
   ]
  },
  {
   "cell_type": "code",
   "execution_count": 7,
   "id": "93b32bff-2b57-4892-9b29-72df0041822c",
   "metadata": {},
   "outputs": [],
   "source": [
    "#create windows\n",
    "\n",
    "def create_windows(df, lags):\n",
    "    df_windowed = df.copy()\n",
    "    df_windowed['x'] = df_windowed['y'].shift()\n",
    "    for i in range(1, lags):\n",
    "        df_windowed[f'x-{i}'] = df_windowed['x'].shift(i)\n",
    "    df_windowed = df_windowed.dropna()\n",
    "    return df_windowed"
   ]
  },
  {
   "cell_type": "code",
   "execution_count": 8,
   "id": "19bbf07b-bb72-4460-b336-a6f60f16f13f",
   "metadata": {},
   "outputs": [],
   "source": [
    "#gridsearch\n",
    "\n",
    "def parallel_gridsearch(estimator, param_grid, x_train, y_train, x_val, y_val):\n",
    "    pool = Pool()\n",
    "    list_params = list(ParameterGrid(param_grid))\n",
    "    results = list(tqdm(pool.imap(partial(gridsearch.validate_params, estimator=estimator, x_train=x_train, \n",
    "                               y_train=y_train, x_val=x_val, y_val=y_val), list_params), total=len(list_params)))\n",
    "    idx = np.argmin([r[1] for r in results])\n",
    "    best_params = results[idx][0]\n",
    "    best_rmse = results[idx][1]\n",
    "    \n",
    "    pool.close()\n",
    "    pool.join()\n",
    "    print('Best params: ', best_params)\n",
    "    print('Best rmse: ', best_rmse)\n",
    "    return best_params\n",
    "    "
   ]
  },
  {
   "cell_type": "code",
   "execution_count": 9,
   "id": "96b98610-d9d3-43cc-96a2-b57da9ee947b",
   "metadata": {},
   "outputs": [],
   "source": [
    "#SVR\n",
    "\n",
    "def svr_model(lags):\n",
    "    parameters = {'C':[1, 10, 100, 1000], 'gamma': [0.001, 0.01, 0.1, 1],\n",
    "                      'kernel':[\"rbf\"],\n",
    "                      'epsilon': [0.1, 0.01, 0.001, 0.0001, 0.00001],\n",
    "                 }\n",
    "\n",
    "    model = SVR(max_iter = 10000)\n",
    "\n",
    "    return model, parameters"
   ]
  },
  {
   "cell_type": "code",
   "execution_count": 10,
   "id": "4cc807a2-50b7-4cce-9425-f141c7d4894d",
   "metadata": {},
   "outputs": [],
   "source": [
    "#Gradient Boosting\n",
    "\n",
    "def gb_model(lags):\n",
    "    parameters = {'n_estimators': [50, 100, 200], \n",
    "                  'max_depth': [5, 10, 15],\n",
    "                  'max_features': [0.6, 0.8, 1],\n",
    "                  'subsample' : [0.6, 0.8, 1],\n",
    "                  'learning_rate': [0.1, 0.3, 0.5],\n",
    "                 }\n",
    "    \n",
    "    model = GradientBoostingRegressor(random_state=random_seed)\n",
    "\n",
    "    return model, parameters"
   ]
  },
  {
   "cell_type": "code",
   "execution_count": 11,
   "id": "cc7d4a98-ed7c-4580-8a39-5de35170d040",
   "metadata": {},
   "outputs": [],
   "source": [
    "#Random Forest\n",
    "\n",
    "def rf_model(lags):\n",
    "    parameters = {'n_estimators': [50, 100, 200], \n",
    "                  'max_depth': [5, 10, 15],\n",
    "                  'max_features': [0.6, 0.8, 1],\n",
    "                 }\n",
    "    \n",
    "    model = RandomForestRegressor(random_state=random_seed)\n",
    "\n",
    "    return model, parameters"
   ]
  },
  {
   "cell_type": "code",
   "execution_count": 12,
   "id": "bdd044f8-9f56-49a1-8180-39b6cda1d36b",
   "metadata": {},
   "outputs": [],
   "source": [
    "#MLP\n",
    "\n",
    "def mlp_model(lags):\n",
    "    parameters = {'hidden_layer_sizes': [20, 50, 100], \n",
    "                      'max_iter': [1000],\n",
    "                      'tol': [0.001, 0.0001, 0.00001],\n",
    "                 }\n",
    "    \n",
    "    model = MLPRegressor(activation='logistic', solver='lbfgs', random_state=random_seed)\n",
    "    \n",
    "    return model, parameters"
   ]
  },
  {
   "cell_type": "code",
   "execution_count": 13,
   "id": "8df571af-0c47-4bfb-985e-5ca3f026106d",
   "metadata": {},
   "outputs": [],
   "source": [
    "#ELM\n",
    "\n",
    "def elm_model(lags):\n",
    "    parameters = {'hidden_dim': [20, 50, 100, 200, 500],  \n",
    "                 }\n",
    "    \n",
    "    model = elm(input_dim=lags)\n",
    "    \n",
    "    return model, parameters"
   ]
  },
  {
   "cell_type": "code",
   "execution_count": 14,
   "id": "d089bea0-20db-4176-ab84-e075fca15742",
   "metadata": {},
   "outputs": [],
   "source": [
    "#Deep Belief Network\n",
    "\n",
    "def dbn_model(lags):\n",
    "    \n",
    "    model = SupervisedDBNRegression(hidden_layers_structure=[100],\n",
    "                                    learning_rate_rbm=0.01,\n",
    "                                    learning_rate=0.01,\n",
    "                                    n_epochs_rbm=20,\n",
    "                                    n_iter_backprop=200,\n",
    "                                    batch_size=16,\n",
    "                                    activation_function='relu',\n",
    "                                    verbose=False)\n",
    "\n",
    "    return model"
   ]
  },
  {
   "cell_type": "code",
   "execution_count": 15,
   "id": "b3b55ea8-811f-49fe-89fa-9955b17be746",
   "metadata": {},
   "outputs": [],
   "source": [
    "models_name = {\n",
    "    'SVR': svr_model, \n",
    "    'GB': gb_model,\n",
    "    'RF': rf_model,\n",
    "    'DBN': dbn_model,\n",
    "    'MLP': mlp_model,\n",
    "    'ELM': elm_model,\n",
    "         }"
   ]
  },
  {
   "cell_type": "code",
   "execution_count": 16,
   "id": "6816fbd7-8839-4666-9a83-828e9cfabada",
   "metadata": {},
   "outputs": [],
   "source": [
    "#train model\n",
    "@ignore_warnings(category=ConvergenceWarning)\n",
    "def train_model(model_name, df, val_index, test_index, lags):\n",
    "\n",
    "    if model_name == \"ARIMA\":\n",
    "        \n",
    "        model = pm.auto_arima(df['y'].loc[:test_index-1],\n",
    "                          test='adf',       \n",
    "                          max_p=lags, max_q=lags,        \n",
    "                          seasonal=False,   \n",
    "                          trace=True,\n",
    "                          error_action='ignore',  \n",
    "                          suppress_warnings=True, \n",
    "                          stepwise=True)\n",
    "        best_params=model.get_params()\n",
    "        \n",
    "    elif model_name == \"DBN\":\n",
    "        \n",
    "        model = dbn_model(lags)\n",
    "        \n",
    "        x_train = df.drop(columns = ['y']).loc[:test_index-1].values\n",
    "        y_train = df['y'].loc[:test_index-1].values\n",
    "        \n",
    "        model.fit(x_train, y_train)\n",
    "        best_params={}\n",
    "        \n",
    "    else:\n",
    "        \n",
    "        model, param_grid = models_name[model_name](lags)\n",
    "\n",
    "        x_train = df.drop(columns = ['y']).loc[:val_index-1].values\n",
    "        y_train = df['y'].loc[:val_index-1].values\n",
    "        x_val = df.drop(columns = ['y']).loc[val_index:test_index-1].values\n",
    "        y_val = df['y'].loc[val_index:test_index-1].values\n",
    "        \n",
    "        \n",
    "        best_params = parallel_gridsearch(model, param_grid, \n",
    "                                    x_train, y_train,\n",
    "                                    x_val, y_val)\n",
    "\n",
    "        model.set_params(**best_params)\n",
    "        model.fit(x_train, y_train)\n",
    "\n",
    "        \n",
    "    \n",
    "    return model, best_params"
   ]
  },
  {
   "cell_type": "code",
   "execution_count": 17,
   "id": "bd4d511f-ca06-4d18-934e-3d06e3e4cc13",
   "metadata": {
    "tags": []
   },
   "outputs": [],
   "source": [
    "#test model\n",
    "\n",
    "def test_model(model, model_name, df, test_index, scaler):\n",
    "    if model_name != \"ARIMA\":\n",
    "        y_test = df['y'].loc[test_index:].values\n",
    "        x_test = df.drop(columns = ['y']).loc[test_index:].values\n",
    "\n",
    "        y_pred = model.predict(x_test)\n",
    "\n",
    "    else:\n",
    "        y_test = df['y'].loc[test_index:].values\n",
    "        y_pred = np.zeros(y_test.size)\n",
    "        for i in tqdm(range(y_pred.size)):\n",
    "            y_pred[i] = model.predict(n_periods = 1)\n",
    "            model.update([y_test[i]])\n",
    "\n",
    "    y_pred = scaler.inverse_transform(y_pred.reshape(-1, 1)).flatten()\n",
    "    y_test = scaler.inverse_transform(y_test.reshape(-1, 1)).flatten()\n",
    "\n",
    "    return y_pred, y_test"
   ]
  },
  {
   "cell_type": "code",
   "execution_count": 18,
   "id": "78ff7ece-000f-4085-8c18-817eb7a6134b",
   "metadata": {
    "tags": []
   },
   "outputs": [],
   "source": [
    "def recursive_differencing_coefficients(order):\n",
    "    if order <= 1:\n",
    "        return np.array([1, -1])\n",
    "    else:\n",
    "        prev_coefficients = recursive_differencing_coefficients(order-1)\n",
    "        coefficients = np.zeros(order+1)\n",
    "        coefficients[0] = prev_coefficients[0]\n",
    "        coefficients[-1] = -prev_coefficients[-1]\n",
    "        for i in range(1, order):\n",
    "            coefficients[i] = prev_coefficients[i] - prev_coefficients[i-1]\n",
    "        return coefficients   \n",
    "\n",
    "def inverse_difference(differencing_order, df, df_diff, test_index, y_pred):\n",
    "    df_pred = df.copy()\n",
    "    \n",
    "    for i in range(1, differencing_order + 1):\n",
    "        df_pred[f'y-{i}'] = df_pred['y'].shift(i)\n",
    "    \n",
    "    df_pred['y_diff'] = df_diff['y']\n",
    "    df_pred['y_diff'][test_index:] = y_pred\n",
    "    \n",
    "    df_pred.fillna(0, inplace=True)\n",
    "    \n",
    "    coefficients = recursive_differencing_coefficients(differencing_order)\n",
    "    df_pred['y_pred'] = df_pred['y_diff']\n",
    "    for i in range(1, differencing_order + 1):\n",
    "        df_pred['y_pred'] = df_pred['y_pred'] - coefficients[i]*df_pred[f'y-{i}']\n",
    "        \n",
    "    y_pred = df_pred['y_pred'][test_index:].values    \n",
    "    y_test = df_pred['y'][test_index:].values\n",
    "    \n",
    "    return y_pred, y_test\n"
   ]
  },
  {
   "cell_type": "code",
   "execution_count": 19,
   "id": "142e93db-40fc-4d84-88d3-090af92f5668",
   "metadata": {
    "tags": []
   },
   "outputs": [],
   "source": [
    "#plot results\n",
    "def plot_results(y_pred, y_test):\n",
    "    fig, ax=plt.subplots(figsize=(9, 4))\n",
    "    plt.plot(y_pred, label = 'predicted')\n",
    "    plt.plot(y_test, label = 'real')\n",
    "    ax.legend()\n",
    "    plt.show()"
   ]
  },
  {
   "cell_type": "code",
   "execution_count": 20,
   "id": "ff133909-af3c-4e6d-a8b3-08abf2962289",
   "metadata": {},
   "outputs": [],
   "source": [
    "def oracle(preds, real):\n",
    "    best_pred = np.zeros(real.size)\n",
    "    for i in range(real.size):\n",
    "        candidates = np.array([p[i] for p in preds])\n",
    "        idx = np.argmin(np.absolute(candidates - real[i]))\n",
    "        best_pred[i] = candidates[idx]\n",
    "    return best_pred"
   ]
  },
  {
   "cell_type": "code",
   "execution_count": 21,
   "id": "89830e38-9dc7-43da-ad2b-4969f00da99e",
   "metadata": {},
   "outputs": [],
   "source": [
    "#calculate metrics\n",
    "\n",
    "def mean_absolute_percentage_error(y_true, y_pred):\n",
    "    y_true = np.asarray(y_true).reshape(-1)\n",
    "    y_pred = np.asarray(y_pred).reshape(-1)\n",
    "\n",
    "    posi_with_zeros = np.where(y_true == 0)[0]\n",
    "\n",
    "    y_true = [n for k, n in enumerate(y_true) if k not in posi_with_zeros]\n",
    "    y_pred = [n for k, n in enumerate(y_pred) if k not in posi_with_zeros]\n",
    "    \n",
    "    y_true = np.asarray(y_true).reshape(-1)\n",
    "    y_pred = np.asarray(y_pred).reshape(-1)\n",
    "    return np.mean(np.abs((y_true - y_pred) / y_true)) * 100\n",
    "\n",
    "def mean_absolute_percentage_error(y_true, y_pred):\n",
    "    y_true = np.asarray(y_true).reshape(-1)\n",
    "    y_pred = np.asarray(y_pred).reshape(-1)\n",
    "\n",
    "    posi_with_zeros = np.where(y_true == 0)[0]\n",
    "\n",
    "    y_true = [n for k, n in enumerate(y_true) if k not in posi_with_zeros]\n",
    "    y_pred = [n for k, n in enumerate(y_pred) if k not in posi_with_zeros]\n",
    "    \n",
    "    y_true = np.asarray(y_true).reshape(-1)\n",
    "    y_pred = np.asarray(y_pred).reshape(-1)\n",
    "    return np.mean(np.abs((y_true - y_pred) / y_true)) * 100\n",
    "\n",
    "\n",
    "def symmetric_mean_absolute_percentage_error(y_true, y_pred):\n",
    "    y_true = np.asarray(y_true).reshape(-1)\n",
    "    y_pred = np.asarray(y_pred).reshape(-1)\n",
    "\n",
    "    posi_with_zeros = np.where((np.abs(y_true)+np.abs(y_pred))/2 == 0 )[0]\n",
    "\n",
    "    y_true = [n for k, n in enumerate(y_true) if k not in posi_with_zeros]\n",
    "    y_pred = [n for k, n in enumerate(y_pred) if k not in posi_with_zeros]\n",
    "    \n",
    "    y_true = np.asarray(y_true).reshape(-1)\n",
    "    y_pred = np.asarray(y_pred).reshape(-1)\n",
    "    return np.mean(np.abs(y_true - y_pred) / ((np.abs(y_true)+np.abs(y_pred))/2)) * 100\n",
    "\n",
    "\n",
    "def mean_absolute_error(y_true, y_pred):\n",
    "    \n",
    "    y_true = np.asarray(y_true).reshape(-1)\n",
    "    y_pred = np.asarray(y_pred).reshape(-1)\n",
    "\n",
    "    return np.mean(np.abs(y_true - y_pred))\n",
    "\n",
    "def average_relative_variance(y_true, y_pred):\n",
    "    y_true = np.asarray(y_true).reshape(-1)\n",
    "    y_pred = np.asarray(y_pred).reshape(-1)\n",
    "    mean = np.mean(y_true)\n",
    "\n",
    "    error_sup = np.square(np.subtract(y_true, y_pred)).sum()\n",
    "    error_inf = np.square(np.subtract(y_pred, mean)).sum()\n",
    "\n",
    "    return error_sup / error_inf\n",
    "\n",
    "def calculate_metrics(y_pred, y_test, normalize_before_metrics, scaler, df):\n",
    "    if normalize_before_metrics:\n",
    "        scaler.fit(df['y'].values.reshape(-1,1))\n",
    "        y_pred = scaler.transform(y_pred.reshape(-1, 1)).flatten()\n",
    "        y_test = scaler.transform(y_test.reshape(-1, 1)).flatten()\n",
    "\n",
    "    mse = metrics.mean_squared_error(y_test, y_pred)\n",
    "    rmse = np.sqrt(mse)\n",
    "    nrmse = rmse/(y_test.max()-y_test.min())\n",
    "    mape = mean_absolute_percentage_error(y_test, y_pred)\n",
    "    smape = symmetric_mean_absolute_percentage_error(y_test, y_pred)\n",
    "    arv = average_relative_variance(y_test, y_pred)\n",
    "    mae = mean_absolute_error(y_test, y_pred)\n",
    "    \n",
    "    res = {'MSE': mse, 'MAPE': mape, 'ARV': arv, 'MAE': mae, 'RMSE': rmse, 'NRMSE': nrmse, 'SMAPE': smape}\n",
    "    \n",
    "    for key, value in res.items():\n",
    "        print(f'{key}: {value}')\n",
    "    \n",
    "    return res"
   ]
  },
  {
   "cell_type": "code",
   "execution_count": 22,
   "id": "05e8b125-721a-460f-8c30-1bd2088ae559",
   "metadata": {},
   "outputs": [],
   "source": [
    "#gridsearch\n",
    "\n",
    "def parallel_gridsearch_dsnaw(df, pred_results, val_index, test_index, param_grid):\n",
    "    pool = Pool()\n",
    "    list_params = list(ParameterGrid(param_grid))\n",
    "    results = list(tqdm(pool.imap(partial(gridsearch.validate_dsnaw_params, df=df, pred_results=pred_results, val_index=val_index, test_index=test_index), list_params), total=len(list_params)))\n",
    "    idx = np.argmin([r[1] for r in results])\n",
    "    \n",
    "    best_params = results[idx][0]\n",
    "    best_rmse = results[idx][1]\n",
    "    \n",
    "    pool.close()\n",
    "    pool.join()\n",
    "    \n",
    "    print('Best params: ', best_params)\n",
    "    print('Best rmse: ', best_rmse)\n",
    "    return best_params"
   ]
  },
  {
   "cell_type": "code",
   "execution_count": 23,
   "id": "6485de5b-93e2-40b8-afb6-5d3e7eeba5b3",
   "metadata": {
    "tags": []
   },
   "outputs": [],
   "source": [
    "def run_model(execution, df, model_name, train_proportion, val_proportion, windows, lags, max_k, plot_curves, normalize_before_metrics, differencing_order, level, p_level):\n",
    "    print(\"\\n###############################################\\n\")\n",
    "    print(\"Executing: \", model_name)\n",
    "    val_index, test_index = define_split_points(df, train_proportion, val_proportion)\n",
    "    d = 0\n",
    "    if differencing_order:\n",
    "        df_differenced, d = difference(df, differencing_order, level, p_level)\n",
    "    if(d):\n",
    "        df_normalized, min_max_scaler = normalize(df_differenced, val_index, d)\n",
    "    else:\n",
    "        df_normalized, min_max_scaler = normalize(df, val_index, d)\n",
    "    \n",
    "    if(windows):\n",
    "        df_normalized = create_windows(df_normalized, lags)        \n",
    "\n",
    "    estimator, params = train_model(model_name, df_normalized, val_index, test_index, lags)\n",
    "    if(execution == \"dsnaw\"):\n",
    "        result_index = val_index - max_k\n",
    "    else:\n",
    "        result_index = test_index\n",
    "    y_pred, y_test = test_model(estimator, model_name, df_normalized, result_index, min_max_scaler)\n",
    "    if d:\n",
    "        y_pred, y_test = inverse_difference(d, df, df_differenced, result_index, y_pred)        \n",
    "    if(execution == \"dsnaw\"):\n",
    "        if plot_curves:\n",
    "            plot_results(y_pred[(test_index-result_index):], y_test[(test_index-result_index):])\n",
    "        m = calculate_metrics(y_pred[(test_index-result_index):], y_test[(test_index-result_index):], normalize_before_metrics, min_max_scaler, df)\n",
    "    else:\n",
    "        if plot_curves:\n",
    "            plot_results(y_pred, y_test)\n",
    "        m = calculate_metrics(y_pred, y_test, normalize_before_metrics, min_max_scaler, df)\n",
    "    return y_pred, m"
   ]
  },
  {
   "cell_type": "code",
   "execution_count": 24,
   "id": "e51eb454-65e4-475a-a67a-696774074f67",
   "metadata": {},
   "outputs": [],
   "source": [
    "def test_dsnaw(params, df, pred_results, test_index):\n",
    "    k = params['k']\n",
    "    n = params['n']\n",
    "    comb = params['comb']    \n",
    "    \n",
    "    y_dsnaw = np.zeros(df['y'].size-test_index)\n",
    "    for i in range(test_index, df['y'].size):\n",
    "        rmse_roc = []\n",
    "        real_roc = df['y'].loc[i-k:i-1].values\n",
    "        for j in range(0, len(pred_results)):      \n",
    "            pred_roc = pred_results[j]['y'].loc[i-k:i-1].values\n",
    "            rmse_roc.append((j, np.sqrt(metrics.mean_squared_error(pred_roc, real_roc))))\n",
    "        sorted_rmse_roc = sorted(rmse_roc, key=lambda x: x[1])\n",
    "        \n",
    "        comb_values = np.zeros(n)\n",
    "        for j in range(0, n):\n",
    "            comb_values[j] = pred_results[sorted_rmse_roc[j][0]]['y'].loc[i]\n",
    "        if comb == 'median':\n",
    "            y_dsnaw[i-test_index] = np.median(comb_values)\n",
    "        else:\n",
    "            y_dsnaw[i-test_index] = np.average(comb_values)\n",
    "\n",
    "    return y_dsnaw"
   ]
  },
  {
   "cell_type": "code",
   "execution_count": 25,
   "id": "2d40926b-66b7-47b0-8987-22097e4fa3ed",
   "metadata": {},
   "outputs": [
    {
     "name": "stdout",
     "output_type": "stream",
     "text": [
      "Time Series:  amz\n",
      "\n",
      "###############################################\n",
      "\n",
      "Executing:  SVR\n",
      "d:  1\n"
     ]
    },
    {
     "name": "stderr",
     "output_type": "stream",
     "text": [
      "100%|██████████████████████████████████████████████████████████████████████████████████| 80/80 [00:02<00:00, 30.82it/s]\n"
     ]
    },
    {
     "name": "stdout",
     "output_type": "stream",
     "text": [
      "Best params:  {'C': 1, 'epsilon': 0.01, 'gamma': 0.001, 'kernel': 'rbf'}\n",
      "Best rmse:  0.08131776087386697\n",
      "MSE: 0.000116965672799083\n",
      "MAPE: 14.668850997280291\n",
      "ARV: 0.032990833288604145\n",
      "MAE: 0.008399620849528071\n",
      "RMSE: 0.010815066934563234\n",
      "NRMSE: 0.043597310346846385\n",
      "SMAPE: 12.986642290913933\n",
      "\n",
      "###############################################\n",
      "\n",
      "Executing:  GB\n",
      "d:  1\n"
     ]
    },
    {
     "name": "stderr",
     "output_type": "stream",
     "text": [
      "100%|████████████████████████████████████████████████████████████████████████████████| 243/243 [00:13<00:00, 18.01it/s]\n"
     ]
    },
    {
     "name": "stdout",
     "output_type": "stream",
     "text": [
      "Best params:  {'learning_rate': 0.1, 'max_depth': 5, 'max_features': 1, 'n_estimators': 50, 'subsample': 0.8}\n",
      "Best rmse:  0.0827683777309238\n",
      "MSE: 0.00012247026688499472\n",
      "MAPE: 15.593520032938446\n",
      "ARV: 0.034570539447279634\n",
      "MAE: 0.008576347690939467\n",
      "RMSE: 0.011066628523854712\n",
      "NRMSE: 0.04461139641270663\n",
      "SMAPE: 13.316431977811183\n",
      "\n",
      "###############################################\n",
      "\n",
      "Executing:  RF\n",
      "d:  1\n"
     ]
    },
    {
     "name": "stderr",
     "output_type": "stream",
     "text": [
      "100%|██████████████████████████████████████████████████████████████████████████████████| 27/27 [00:03<00:00,  7.15it/s]\n"
     ]
    },
    {
     "name": "stdout",
     "output_type": "stream",
     "text": [
      "Best params:  {'max_depth': 5, 'max_features': 1, 'n_estimators': 200}\n",
      "Best rmse:  0.08144751272869277\n",
      "MSE: 0.00011818897015583928\n",
      "MAPE: 14.72981782983862\n",
      "ARV: 0.0333319626202262\n",
      "MAE: 0.00842329479845689\n",
      "RMSE: 0.010871475068077896\n",
      "NRMSE: 0.04382470079369288\n",
      "SMAPE: 12.971694102309197\n",
      "\n",
      "###############################################\n",
      "\n",
      "Executing:  ARIMA\n",
      "d:  1\n",
      "Performing stepwise search to minimize aic\n",
      " ARIMA(2,0,2)(0,0,0)[0]             : AIC=inf, Time=0.70 sec\n",
      " ARIMA(0,0,0)(0,0,0)[0]             : AIC=1893.366, Time=0.05 sec\n",
      " ARIMA(1,0,0)(0,0,0)[0]             : AIC=-1935.624, Time=0.07 sec\n",
      " ARIMA(0,0,1)(0,0,0)[0]             : AIC=457.333, Time=0.07 sec\n",
      " ARIMA(2,0,0)(0,0,0)[0]             : AIC=-2370.976, Time=0.09 sec\n",
      " ARIMA(3,0,0)(0,0,0)[0]             : AIC=-2515.390, Time=0.15 sec\n",
      " ARIMA(4,0,0)(0,0,0)[0]             : AIC=inf, Time=0.36 sec\n",
      " ARIMA(3,0,1)(0,0,0)[0]             : AIC=inf, Time=0.72 sec\n",
      " ARIMA(2,0,1)(0,0,0)[0]             : AIC=inf, Time=0.49 sec\n",
      " ARIMA(4,0,1)(0,0,0)[0]             : AIC=inf, Time=0.84 sec\n",
      " ARIMA(3,0,0)(0,0,0)[0] intercept   : AIC=-2990.904, Time=0.38 sec\n",
      " ARIMA(2,0,0)(0,0,0)[0] intercept   : AIC=-2991.672, Time=0.22 sec\n",
      " ARIMA(1,0,0)(0,0,0)[0] intercept   : AIC=-2992.790, Time=0.07 sec\n",
      " ARIMA(0,0,0)(0,0,0)[0] intercept   : AIC=-2991.567, Time=0.13 sec\n",
      " ARIMA(1,0,1)(0,0,0)[0] intercept   : AIC=-2991.151, Time=0.64 sec\n",
      " ARIMA(0,0,1)(0,0,0)[0] intercept   : AIC=-2992.638, Time=0.15 sec\n",
      " ARIMA(2,0,1)(0,0,0)[0] intercept   : AIC=-2989.785, Time=0.32 sec\n",
      "\n",
      "Best model:  ARIMA(1,0,0)(0,0,0)[0] intercept\n",
      "Total fit time: 5.447 seconds\n"
     ]
    },
    {
     "name": "stderr",
     "output_type": "stream",
     "text": [
      "100%|██████████████████████████████████████████████████████████████████████████████| 1151/1151 [02:49<00:00,  6.80it/s]\n"
     ]
    },
    {
     "name": "stdout",
     "output_type": "stream",
     "text": [
      "MSE: 0.00011697673009511108\n",
      "MAPE: 14.685379909420297\n",
      "ARV: 0.03293572237524124\n",
      "MAE: 0.008416455794275886\n",
      "RMSE: 0.01081557812116907\n",
      "NRMSE: 0.04359937102397716\n",
      "SMAPE: 13.076156897436375\n",
      "\n",
      "###############################################\n",
      "\n",
      "Executing:  DBN\n",
      "d:  1\n",
      "MSE: 0.0001174741933141405\n",
      "MAPE: 14.766106465935724\n",
      "ARV: 0.032918973904207775\n",
      "MAE: 0.00844888431847613\n",
      "RMSE: 0.010838551255317313\n",
      "NRMSE: 0.04369197949927931\n",
      "SMAPE: 12.958715733766683\n",
      "\n",
      "###############################################\n",
      "\n",
      "Executing:  MLP\n",
      "d:  1\n"
     ]
    },
    {
     "name": "stderr",
     "output_type": "stream",
     "text": [
      "100%|████████████████████████████████████████████████████████████████████████████████████| 9/9 [00:00<00:00,  9.88it/s]\n"
     ]
    },
    {
     "name": "stdout",
     "output_type": "stream",
     "text": [
      "Best params:  {'hidden_layer_sizes': 20, 'max_iter': 1000, 'tol': 0.001}\n",
      "Best rmse:  0.08139113494332303\n",
      "MSE: 0.00011789341071588545\n",
      "MAPE: 14.519963921176487\n",
      "ARV: 0.03318748762720953\n",
      "MAE: 0.008446724553317794\n",
      "RMSE: 0.010857873213290228\n",
      "NRMSE: 0.043769869483997\n",
      "SMAPE: 13.080746703447774\n",
      "\n",
      "###############################################\n",
      "\n",
      "Executing:  ELM\n",
      "d:  1\n"
     ]
    },
    {
     "name": "stderr",
     "output_type": "stream",
     "text": [
      "100%|████████████████████████████████████████████████████████████████████████████████████| 5/5 [00:01<00:00,  4.52it/s]\n"
     ]
    },
    {
     "name": "stdout",
     "output_type": "stream",
     "text": [
      "Best params:  {'hidden_dim': 50}\n",
      "Best rmse:  0.08377306228062659\n",
      "MSE: 0.00011909677525104786\n",
      "MAPE: 14.813279623879447\n",
      "ARV: 0.033515492550268096\n",
      "MAE: 0.008453214307324533\n",
      "RMSE: 0.010913146899544963\n",
      "NRMSE: 0.043992686787693996\n",
      "SMAPE: 12.957787461641928\n"
     ]
    },
    {
     "name": "stderr",
     "output_type": "stream",
     "text": [
      "100%|████████████████████████████████████████████████████████████████████████████████| 280/280 [00:23<00:00, 12.16it/s]\n"
     ]
    },
    {
     "name": "stdout",
     "output_type": "stream",
     "text": [
      "Best params:  {'comb': 'median', 'k': 3, 'n': 6}\n",
      "Best rmse:  573.6114310562388\n",
      "MSE: 0.00011698653628286024\n",
      "MAPE: 14.684450386928505\n",
      "ARV: 0.03297481036501943\n",
      "MAE: 0.008400109410224718\n",
      "RMSE: 0.010816031447941535\n",
      "NRMSE: 0.04360119845862063\n",
      "SMAPE: 12.97056100658335\n",
      "Time Series:  APPLE\n",
      "\n",
      "###############################################\n",
      "\n",
      "Executing:  SVR\n",
      "d:  1\n"
     ]
    },
    {
     "name": "stderr",
     "output_type": "stream",
     "text": [
      "100%|██████████████████████████████████████████████████████████████████████████████████| 80/80 [00:02<00:00, 31.37it/s]\n"
     ]
    },
    {
     "name": "stdout",
     "output_type": "stream",
     "text": [
      "Best params:  {'C': 1, 'epsilon': 0.01, 'gamma': 0.01, 'kernel': 'rbf'}\n",
      "Best rmse:  0.05696026985933901\n",
      "MSE: 7.120186659012352e-05\n",
      "MAPE: 5.879558107460695\n",
      "ARV: 0.003926816169021208\n",
      "MAE: 0.006220289876619507\n",
      "RMSE: 0.008438119849239138\n",
      "NRMSE: 0.019533477015655488\n",
      "SMAPE: 6.278833193758985\n",
      "\n",
      "###############################################\n",
      "\n",
      "Executing:  GB\n",
      "d:  1\n"
     ]
    },
    {
     "name": "stderr",
     "output_type": "stream",
     "text": [
      "100%|████████████████████████████████████████████████████████████████████████████████| 243/243 [00:13<00:00, 17.39it/s]\n"
     ]
    },
    {
     "name": "stdout",
     "output_type": "stream",
     "text": [
      "Best params:  {'learning_rate': 0.1, 'max_depth': 5, 'max_features': 1, 'n_estimators': 50, 'subsample': 1}\n",
      "Best rmse:  0.05783789253398876\n",
      "MSE: 7.447825655026618e-05\n",
      "MAPE: 6.258445316555231\n",
      "ARV: 0.00410368730441717\n",
      "MAE: 0.00641928535922674\n",
      "RMSE: 0.008630078594674916\n",
      "NRMSE: 0.019977843984709847\n",
      "SMAPE: 6.72538955175888\n",
      "\n",
      "###############################################\n",
      "\n",
      "Executing:  RF\n",
      "d:  1\n"
     ]
    },
    {
     "name": "stderr",
     "output_type": "stream",
     "text": [
      "100%|██████████████████████████████████████████████████████████████████████████████████| 27/27 [00:04<00:00,  6.64it/s]\n"
     ]
    },
    {
     "name": "stdout",
     "output_type": "stream",
     "text": [
      "Best params:  {'max_depth': 10, 'max_features': 0.8, 'n_estimators': 100}\n",
      "Best rmse:  0.057027201247150494\n",
      "MSE: 7.195541817561799e-05\n",
      "MAPE: 5.9611588679407665\n",
      "ARV: 0.003965562097906077\n",
      "MAE: 0.006252323162550498\n",
      "RMSE: 0.008482653958262\n",
      "NRMSE: 0.019636569411894587\n",
      "SMAPE: 6.3545222369512\n",
      "\n",
      "###############################################\n",
      "\n",
      "Executing:  ARIMA\n",
      "d:  1\n",
      "Performing stepwise search to minimize aic\n",
      " ARIMA(2,0,2)(0,0,0)[0]             : AIC=inf, Time=1.16 sec\n",
      " ARIMA(0,0,0)(0,0,0)[0]             : AIC=2028.891, Time=0.05 sec\n",
      " ARIMA(1,0,0)(0,0,0)[0]             : AIC=-3421.866, Time=0.06 sec\n",
      " ARIMA(0,0,1)(0,0,0)[0]             : AIC=192.257, Time=0.07 sec\n",
      " ARIMA(2,0,0)(0,0,0)[0]             : AIC=inf, Time=0.12 sec\n",
      " ARIMA(1,0,1)(0,0,0)[0]             : AIC=inf, Time=0.51 sec\n",
      " ARIMA(2,0,1)(0,0,0)[0]             : AIC=inf, Time=0.61 sec\n",
      " ARIMA(1,0,0)(0,0,0)[0] intercept   : AIC=-4398.123, Time=0.07 sec\n",
      " ARIMA(0,0,0)(0,0,0)[0] intercept   : AIC=-4368.419, Time=0.13 sec\n",
      " ARIMA(2,0,0)(0,0,0)[0] intercept   : AIC=-4400.173, Time=0.25 sec\n",
      " ARIMA(3,0,0)(0,0,0)[0] intercept   : AIC=-4398.473, Time=0.32 sec\n",
      " ARIMA(2,0,1)(0,0,0)[0] intercept   : AIC=-4398.096, Time=0.36 sec\n",
      " ARIMA(1,0,1)(0,0,0)[0] intercept   : AIC=-4400.241, Time=0.49 sec\n",
      " ARIMA(0,0,1)(0,0,0)[0] intercept   : AIC=-4400.826, Time=0.17 sec\n",
      " ARIMA(0,0,2)(0,0,0)[0] intercept   : AIC=-4400.328, Time=0.30 sec\n",
      " ARIMA(1,0,2)(0,0,0)[0] intercept   : AIC=-4398.250, Time=0.58 sec\n",
      "\n",
      "Best model:  ARIMA(0,0,1)(0,0,0)[0] intercept\n",
      "Total fit time: 5.271 seconds\n"
     ]
    },
    {
     "name": "stderr",
     "output_type": "stream",
     "text": [
      "100%|██████████████████████████████████████████████████████████████████████████████| 1190/1190 [03:20<00:00,  5.93it/s]\n"
     ]
    },
    {
     "name": "stdout",
     "output_type": "stream",
     "text": [
      "MSE: 7.114900811885856e-05\n",
      "MAPE: 5.842599444286938\n",
      "ARV: 0.003914830780183619\n",
      "MAE: 0.0061879210769446615\n",
      "RMSE: 0.008434987143965221\n",
      "NRMSE: 0.019526225088975353\n",
      "SMAPE: 6.219701020678701\n",
      "\n",
      "###############################################\n",
      "\n",
      "Executing:  DBN\n",
      "d:  1\n",
      "MSE: 7.154365236554417e-05\n",
      "MAPE: 5.896395430917371\n",
      "ARV: 0.00393100411066851\n",
      "MAE: 0.006249745433244705\n",
      "RMSE: 0.0084583480872771\n",
      "NRMSE: 0.019580303539791354\n",
      "SMAPE: 6.340160127345603\n",
      "\n",
      "###############################################\n",
      "\n",
      "Executing:  MLP\n",
      "d:  1\n"
     ]
    },
    {
     "name": "stderr",
     "output_type": "stream",
     "text": [
      "100%|████████████████████████████████████████████████████████████████████████████████████| 9/9 [00:00<00:00,  9.96it/s]\n"
     ]
    },
    {
     "name": "stdout",
     "output_type": "stream",
     "text": [
      "Best params:  {'hidden_layer_sizes': 100, 'max_iter': 1000, 'tol': 1e-05}\n",
      "Best rmse:  0.05719696636915719\n",
      "MSE: 7.222129446175823e-05\n",
      "MAPE: 5.837478564572332\n",
      "ARV: 0.0039807541046523055\n",
      "MAE: 0.00629819953060858\n",
      "RMSE: 0.008498311271173717\n",
      "NRMSE: 0.019672814661707613\n",
      "SMAPE: 6.222690581408831\n",
      "\n",
      "###############################################\n",
      "\n",
      "Executing:  ELM\n",
      "d:  1\n"
     ]
    },
    {
     "name": "stderr",
     "output_type": "stream",
     "text": [
      "100%|████████████████████████████████████████████████████████████████████████████████████| 5/5 [00:01<00:00,  4.43it/s]\n"
     ]
    },
    {
     "name": "stdout",
     "output_type": "stream",
     "text": [
      "Best params:  {'hidden_dim': 20}\n",
      "Best rmse:  0.057882909272821234\n",
      "MSE: 7.64488523854178e-05\n",
      "MAPE: 6.075561378592563\n",
      "ARV: 0.004175669029977726\n",
      "MAE: 0.006461202990226557\n",
      "RMSE: 0.008743503438863497\n",
      "NRMSE: 0.020240412142847792\n",
      "SMAPE: 6.574006349794717\n"
     ]
    },
    {
     "name": "stderr",
     "output_type": "stream",
     "text": [
      "100%|████████████████████████████████████████████████████████████████████████████████| 280/280 [00:23<00:00, 11.79it/s]\n"
     ]
    },
    {
     "name": "stdout",
     "output_type": "stream",
     "text": [
      "Best params:  {'comb': 'median', 'k': 2, 'n': 5}\n",
      "Best rmse:  818.7853629848939\n",
      "MSE: 7.182277490916397e-05\n",
      "MAPE: 5.90462763620292\n",
      "ARV: 0.003954426058025504\n",
      "MAE: 0.006239418090812755\n",
      "RMSE: 0.008474831851379941\n",
      "NRMSE: 0.019618461948653413\n",
      "SMAPE: 6.321227873912477\n",
      "Time Series:  electricity\n",
      "\n",
      "###############################################\n",
      "\n",
      "Executing:  SVR\n",
      "d:  1\n"
     ]
    },
    {
     "name": "stderr",
     "output_type": "stream",
     "text": [
      "100%|██████████████████████████████████████████████████████████████████████████████████| 80/80 [00:01<00:00, 72.78it/s]\n"
     ]
    },
    {
     "name": "stdout",
     "output_type": "stream",
     "text": [
      "Best params:  {'C': 100, 'epsilon': 0.001, 'gamma': 0.01, 'kernel': 'rbf'}\n",
      "Best rmse:  0.12800568777162202\n",
      "MSE: 0.001236696347153764\n",
      "MAPE: 3.9211749829611335\n",
      "ARV: 0.08650696599957435\n",
      "MAE: 0.028369576592869466\n",
      "RMSE: 0.0351666937193954\n",
      "NRMSE: 0.07700968129665813\n",
      "SMAPE: 3.9790925360280003\n",
      "\n",
      "###############################################\n",
      "\n",
      "Executing:  GB\n",
      "d:  1\n"
     ]
    },
    {
     "name": "stderr",
     "output_type": "stream",
     "text": [
      "100%|████████████████████████████████████████████████████████████████████████████████| 243/243 [00:03<00:00, 75.08it/s]\n"
     ]
    },
    {
     "name": "stdout",
     "output_type": "stream",
     "text": [
      "Best params:  {'learning_rate': 0.3, 'max_depth': 10, 'max_features': 0.8, 'n_estimators': 50, 'subsample': 0.8}\n",
      "Best rmse:  0.14586020763090005\n",
      "MSE: 0.002833959074809433\n",
      "MAPE: 6.042175424894428\n",
      "ARV: 0.20957658703234813\n",
      "MAE: 0.04398676774903146\n",
      "RMSE: 0.053234942235428725\n",
      "NRMSE: 0.11657638241764323\n",
      "SMAPE: 6.116576955012386\n",
      "\n",
      "###############################################\n",
      "\n",
      "Executing:  RF\n",
      "d:  1\n"
     ]
    },
    {
     "name": "stderr",
     "output_type": "stream",
     "text": [
      "100%|██████████████████████████████████████████████████████████████████████████████████| 27/27 [00:01<00:00, 16.15it/s]\n"
     ]
    },
    {
     "name": "stdout",
     "output_type": "stream",
     "text": [
      "Best params:  {'max_depth': 15, 'max_features': 0.8, 'n_estimators': 50}\n",
      "Best rmse:  0.1596517637492184\n",
      "MSE: 0.003083801199826308\n",
      "MAPE: 6.1612285501289294\n",
      "ARV: 0.2427865081597946\n",
      "MAE: 0.045214604389649096\n",
      "RMSE: 0.055531983575470345\n",
      "NRMSE: 0.12160655167191951\n",
      "SMAPE: 6.163861654798932\n",
      "\n",
      "###############################################\n",
      "\n",
      "Executing:  ARIMA\n",
      "d:  1\n",
      "Performing stepwise search to minimize aic\n",
      " ARIMA(2,0,2)(0,0,0)[0]             : AIC=inf, Time=0.25 sec\n",
      " ARIMA(0,0,0)(0,0,0)[0]             : AIC=653.671, Time=0.02 sec\n",
      " ARIMA(1,0,0)(0,0,0)[0]             : AIC=193.061, Time=0.02 sec\n",
      " ARIMA(0,0,1)(0,0,0)[0]             : AIC=376.306, Time=0.03 sec\n",
      " ARIMA(2,0,0)(0,0,0)[0]             : AIC=191.013, Time=0.03 sec\n",
      " ARIMA(3,0,0)(0,0,0)[0]             : AIC=172.995, Time=0.05 sec\n",
      " ARIMA(4,0,0)(0,0,0)[0]             : AIC=101.071, Time=0.06 sec\n",
      " ARIMA(5,0,0)(0,0,0)[0]             : AIC=-18.940, Time=0.13 sec\n",
      " ARIMA(6,0,0)(0,0,0)[0]             : AIC=inf, Time=0.21 sec\n",
      " ARIMA(5,0,1)(0,0,0)[0]             : AIC=-93.975, Time=0.36 sec\n",
      " ARIMA(4,0,1)(0,0,0)[0]             : AIC=-56.638, Time=0.32 sec\n",
      " ARIMA(6,0,1)(0,0,0)[0]             : AIC=-61.434, Time=0.26 sec\n",
      " ARIMA(5,0,2)(0,0,0)[0]             : AIC=inf, Time=0.39 sec\n",
      " ARIMA(4,0,2)(0,0,0)[0]             : AIC=inf, Time=0.39 sec\n",
      " ARIMA(6,0,2)(0,0,0)[0]             : AIC=inf, Time=0.43 sec\n",
      " ARIMA(5,0,1)(0,0,0)[0] intercept   : AIC=-142.474, Time=0.46 sec\n",
      " ARIMA(4,0,1)(0,0,0)[0] intercept   : AIC=-143.200, Time=0.33 sec\n",
      " ARIMA(3,0,1)(0,0,0)[0] intercept   : AIC=-170.069, Time=0.80 sec\n",
      " ARIMA(2,0,1)(0,0,0)[0] intercept   : AIC=-172.271, Time=0.43 sec\n",
      " ARIMA(1,0,1)(0,0,0)[0] intercept   : AIC=41.306, Time=0.08 sec\n",
      " ARIMA(2,0,0)(0,0,0)[0] intercept   : AIC=-36.651, Time=0.06 sec\n",
      " ARIMA(2,0,2)(0,0,0)[0] intercept   : AIC=-167.169, Time=0.41 sec\n",
      " ARIMA(1,0,0)(0,0,0)[0] intercept   : AIC=77.479, Time=0.03 sec\n",
      " ARIMA(1,0,2)(0,0,0)[0] intercept   : AIC=-69.595, Time=0.53 sec\n",
      " ARIMA(3,0,0)(0,0,0)[0] intercept   : AIC=-117.609, Time=0.10 sec\n",
      " ARIMA(3,0,2)(0,0,0)[0] intercept   : AIC=-168.909, Time=0.40 sec\n",
      " ARIMA(2,0,1)(0,0,0)[0]             : AIC=189.566, Time=0.08 sec\n",
      "\n",
      "Best model:  ARIMA(2,0,1)(0,0,0)[0] intercept\n",
      "Total fit time: 6.648 seconds\n"
     ]
    },
    {
     "name": "stderr",
     "output_type": "stream",
     "text": [
      "100%|████████████████████████████████████████████████████████████████████████████████| 263/263 [00:13<00:00, 19.05it/s]\n"
     ]
    },
    {
     "name": "stdout",
     "output_type": "stream",
     "text": [
      "MSE: 0.005287198526847555\n",
      "MAPE: 8.26974682023827\n",
      "ARV: 0.4886640263281947\n",
      "MAE: 0.058099816702994904\n",
      "RMSE: 0.07271312485959845\n",
      "NRMSE: 0.1592306236179787\n",
      "SMAPE: 8.090810466261743\n",
      "\n",
      "###############################################\n",
      "\n",
      "Executing:  DBN\n",
      "d:  1\n",
      "MSE: 0.0013581821282617644\n",
      "MAPE: 4.093387470671265\n",
      "ARV: 0.10173296505219397\n",
      "MAE: 0.029601234226256077\n",
      "RMSE: 0.03685352260316189\n",
      "NRMSE: 0.08070357858985774\n",
      "SMAPE: 4.094587760478522\n",
      "\n",
      "###############################################\n",
      "\n",
      "Executing:  MLP\n",
      "d:  1\n"
     ]
    },
    {
     "name": "stderr",
     "output_type": "stream",
     "text": [
      "100%|████████████████████████████████████████████████████████████████████████████████████| 9/9 [00:01<00:00,  4.71it/s]\n"
     ]
    },
    {
     "name": "stdout",
     "output_type": "stream",
     "text": [
      "Best params:  {'hidden_layer_sizes': 100, 'max_iter': 1000, 'tol': 0.0001}\n",
      "Best rmse:  0.13985366517381728\n",
      "MSE: 0.0012312240183823214\n",
      "MAPE: 4.013921433423941\n",
      "ARV: 0.09265186432264692\n",
      "MAE: 0.028960082219922762\n",
      "RMSE: 0.035088801894369685\n",
      "NRMSE: 0.07683911011164117\n",
      "SMAPE: 3.987711354649412\n",
      "\n",
      "###############################################\n",
      "\n",
      "Executing:  ELM\n",
      "d:  1\n"
     ]
    },
    {
     "name": "stderr",
     "output_type": "stream",
     "text": [
      "100%|████████████████████████████████████████████████████████████████████████████████████| 5/5 [00:00<00:00,  5.47it/s]\n"
     ]
    },
    {
     "name": "stdout",
     "output_type": "stream",
     "text": [
      "Best params:  {'hidden_dim': 50}\n",
      "Best rmse:  0.16861018531338542\n",
      "MSE: 0.0037795697041272704\n",
      "MAPE: 6.813845384818137\n",
      "ARV: 0.17968834169026035\n",
      "MAE: 0.04827517668545689\n",
      "RMSE: 0.061478205114717445\n",
      "NRMSE: 0.1346278675030461\n",
      "SMAPE: 6.653171873216977\n"
     ]
    },
    {
     "name": "stderr",
     "output_type": "stream",
     "text": [
      "100%|████████████████████████████████████████████████████████████████████████████████| 280/280 [00:06<00:00, 46.39it/s]\n"
     ]
    },
    {
     "name": "stdout",
     "output_type": "stream",
     "text": [
      "Best params:  {'comb': 'average', 'k': 11, 'n': 6}\n",
      "Best rmse:  6688.219987251803\n",
      "MSE: 0.0013603016192418734\n",
      "MAPE: 4.017406996216457\n",
      "ARV: 0.10279672744647794\n",
      "MAE: 0.029243117338625488\n",
      "RMSE: 0.03688226700247523\n",
      "NRMSE: 0.08076652442854952\n",
      "SMAPE: 4.012613229980761\n",
      "Time Series:  goldman\n",
      "\n",
      "###############################################\n",
      "\n",
      "Executing:  SVR\n",
      "d:  1\n"
     ]
    },
    {
     "name": "stderr",
     "output_type": "stream",
     "text": [
      "100%|██████████████████████████████████████████████████████████████████████████████████| 80/80 [00:01<00:00, 65.29it/s]\n"
     ]
    },
    {
     "name": "stdout",
     "output_type": "stream",
     "text": [
      "Best params:  {'C': 1, 'epsilon': 0.1, 'gamma': 0.01, 'kernel': 'rbf'}\n",
      "Best rmse:  0.09988062699045391\n",
      "MSE: 0.00039690760560997796\n",
      "MAPE: 8.96840398670514\n",
      "ARV: 0.027172820985681644\n",
      "MAE: 0.015394679715514625\n",
      "RMSE: 0.01992254013949973\n",
      "NRMSE: 0.04660478643218694\n",
      "SMAPE: 8.76434755314369\n",
      "\n",
      "###############################################\n",
      "\n",
      "Executing:  GB\n",
      "d:  1\n"
     ]
    },
    {
     "name": "stderr",
     "output_type": "stream",
     "text": [
      "100%|████████████████████████████████████████████████████████████████████████████████| 243/243 [00:04<00:00, 52.84it/s]\n"
     ]
    },
    {
     "name": "stdout",
     "output_type": "stream",
     "text": [
      "Best params:  {'learning_rate': 0.1, 'max_depth': 15, 'max_features': 1, 'n_estimators': 50, 'subsample': 1}\n",
      "Best rmse:  0.10038449540006525\n",
      "MSE: 0.00044428251675868093\n",
      "MAPE: 8.977645662622303\n",
      "ARV: 0.03075810020915335\n",
      "MAE: 0.015960120167668672\n",
      "RMSE: 0.021078010265646065\n",
      "NRMSE: 0.04930777701876654\n",
      "SMAPE: 8.931132166679404\n",
      "\n",
      "###############################################\n",
      "\n",
      "Executing:  RF\n",
      "d:  1\n"
     ]
    },
    {
     "name": "stderr",
     "output_type": "stream",
     "text": [
      "100%|██████████████████████████████████████████████████████████████████████████████████| 27/27 [00:01<00:00, 13.73it/s]\n"
     ]
    },
    {
     "name": "stdout",
     "output_type": "stream",
     "text": [
      "Best params:  {'max_depth': 10, 'max_features': 1, 'n_estimators': 200}\n",
      "Best rmse:  0.1000194846459854\n",
      "MSE: 0.00040420449116240683\n",
      "MAPE: 8.815797821209848\n",
      "ARV: 0.027734921032854718\n",
      "MAE: 0.01539597271722484\n",
      "RMSE: 0.02010483750649099\n",
      "NRMSE: 0.047031234555583265\n",
      "SMAPE: 8.743826671399448\n",
      "\n",
      "###############################################\n",
      "\n",
      "Executing:  ARIMA\n",
      "d:  1\n",
      "Performing stepwise search to minimize aic\n",
      " ARIMA(2,0,2)(0,0,0)[0]             : AIC=inf, Time=0.37 sec\n",
      " ARIMA(0,0,0)(0,0,0)[0]             : AIC=1293.505, Time=0.02 sec\n",
      " ARIMA(1,0,0)(0,0,0)[0]             : AIC=-628.289, Time=0.03 sec\n",
      " ARIMA(0,0,1)(0,0,0)[0]             : AIC=727.333, Time=0.03 sec\n",
      " ARIMA(2,0,0)(0,0,0)[0]             : AIC=inf, Time=0.05 sec\n",
      " ARIMA(1,0,1)(0,0,0)[0]             : AIC=-1048.257, Time=0.06 sec\n",
      " ARIMA(2,0,1)(0,0,0)[0]             : AIC=-1069.595, Time=0.21 sec\n",
      " ARIMA(3,0,1)(0,0,0)[0]             : AIC=inf, Time=0.30 sec\n",
      " ARIMA(1,0,2)(0,0,0)[0]             : AIC=inf, Time=0.29 sec\n",
      " ARIMA(3,0,0)(0,0,0)[0]             : AIC=inf, Time=0.04 sec\n",
      " ARIMA(3,0,2)(0,0,0)[0]             : AIC=inf, Time=0.53 sec\n",
      " ARIMA(2,0,1)(0,0,0)[0] intercept   : AIC=-1084.794, Time=0.42 sec\n",
      " ARIMA(1,0,1)(0,0,0)[0] intercept   : AIC=-1086.161, Time=0.32 sec\n",
      " ARIMA(0,0,1)(0,0,0)[0] intercept   : AIC=-1084.304, Time=0.06 sec\n",
      " ARIMA(1,0,0)(0,0,0)[0] intercept   : AIC=-1084.556, Time=0.07 sec\n",
      " ARIMA(1,0,2)(0,0,0)[0] intercept   : AIC=-1083.315, Time=0.43 sec\n",
      " ARIMA(0,0,0)(0,0,0)[0] intercept   : AIC=-1079.128, Time=0.05 sec\n",
      " ARIMA(0,0,2)(0,0,0)[0] intercept   : AIC=-1082.502, Time=0.11 sec\n",
      " ARIMA(2,0,0)(0,0,0)[0] intercept   : AIC=-1082.693, Time=0.04 sec\n",
      " ARIMA(2,0,2)(0,0,0)[0] intercept   : AIC=-1084.613, Time=0.48 sec\n",
      "\n",
      "Best model:  ARIMA(1,0,1)(0,0,0)[0] intercept\n",
      "Total fit time: 3.896 seconds\n"
     ]
    },
    {
     "name": "stderr",
     "output_type": "stream",
     "text": [
      "100%|████████████████████████████████████████████████████████████████████████████████| 397/397 [00:26<00:00, 15.22it/s]\n"
     ]
    },
    {
     "name": "stdout",
     "output_type": "stream",
     "text": [
      "MSE: 0.0004022595557116565\n",
      "MAPE: 8.841919840251105\n",
      "ARV: 0.02746148716955683\n",
      "MAE: 0.015449230724452622\n",
      "RMSE: 0.02005640934244354\n",
      "NRMSE: 0.04691794657990694\n",
      "SMAPE: 8.815586821274351\n",
      "\n",
      "###############################################\n",
      "\n",
      "Executing:  DBN\n",
      "d:  1\n",
      "MSE: 0.00040009604846834616\n",
      "MAPE: 8.859142800267065\n",
      "ARV: 0.02669798053108525\n",
      "MAE: 0.015616027311760827\n",
      "RMSE: 0.020002401067580517\n",
      "NRMSE: 0.04679160505428132\n",
      "SMAPE: 9.05683911480875\n",
      "\n",
      "###############################################\n",
      "\n",
      "Executing:  MLP\n",
      "d:  1\n"
     ]
    },
    {
     "name": "stderr",
     "output_type": "stream",
     "text": [
      "100%|████████████████████████████████████████████████████████████████████████████████████| 9/9 [00:00<00:00, 10.03it/s]\n"
     ]
    },
    {
     "name": "stdout",
     "output_type": "stream",
     "text": [
      "Best params:  {'hidden_layer_sizes': 50, 'max_iter': 1000, 'tol': 0.001}\n",
      "Best rmse:  0.10016122086416651\n",
      "MSE: 0.00039244683561383606\n",
      "MAPE: 8.750441525951796\n",
      "ARV: 0.026765221709980632\n",
      "MAE: 0.015361466483388823\n",
      "RMSE: 0.01981027096265561\n",
      "NRMSE: 0.04634215521281929\n",
      "SMAPE: 8.709907819678685\n",
      "\n",
      "###############################################\n",
      "\n",
      "Executing:  ELM\n",
      "d:  1\n"
     ]
    },
    {
     "name": "stderr",
     "output_type": "stream",
     "text": [
      "100%|████████████████████████████████████████████████████████████████████████████████████| 5/5 [00:00<00:00,  5.80it/s]\n"
     ]
    },
    {
     "name": "stdout",
     "output_type": "stream",
     "text": [
      "Best params:  {'hidden_dim': 20}\n",
      "Best rmse:  0.10506623476429794\n",
      "MSE: 0.0004396435388024787\n",
      "MAPE: 9.515314458018588\n",
      "ARV: 0.02958870057926105\n",
      "MAE: 0.016412621289602247\n",
      "RMSE: 0.020967678431397185\n",
      "NRMSE: 0.049049677823792624\n",
      "SMAPE: 9.59971191195779\n"
     ]
    },
    {
     "name": "stderr",
     "output_type": "stream",
     "text": [
      "100%|████████████████████████████████████████████████████████████████████████████████| 280/280 [00:08<00:00, 32.30it/s]\n"
     ]
    },
    {
     "name": "stdout",
     "output_type": "stream",
     "text": [
      "Best params:  {'comb': 'median', 'k': 10, 'n': 1}\n",
      "Best rmse:  2.9230484477884855\n",
      "MSE: 0.00040642726121105095\n",
      "MAPE: 9.010483398748038\n",
      "ARV: 0.02740072725495797\n",
      "MAE: 0.015657010264384607\n",
      "RMSE: 0.020160041200628805\n",
      "NRMSE: 0.0471603725248154\n",
      "SMAPE: 9.004592436191853\n",
      "Time Series:  msft\n",
      "\n",
      "###############################################\n",
      "\n",
      "Executing:  SVR\n",
      "d:  1\n"
     ]
    },
    {
     "name": "stderr",
     "output_type": "stream",
     "text": [
      "100%|██████████████████████████████████████████████████████████████████████████████████| 80/80 [00:01<00:00, 64.45it/s]\n"
     ]
    },
    {
     "name": "stdout",
     "output_type": "stream",
     "text": [
      "Best params:  {'C': 1, 'epsilon': 0.01, 'gamma': 0.001, 'kernel': 'rbf'}\n",
      "Best rmse:  0.18242903909397168\n",
      "MSE: 0.0013071781751906016\n",
      "MAPE: 3.985590184030028\n",
      "ARV: 0.08019739507010303\n",
      "MAE: 0.027943651535473735\n",
      "RMSE: 0.036154919100872034\n",
      "NRMSE: 0.07141457353829386\n",
      "SMAPE: 3.970643729446334\n",
      "\n",
      "###############################################\n",
      "\n",
      "Executing:  GB\n",
      "d:  1\n"
     ]
    },
    {
     "name": "stderr",
     "output_type": "stream",
     "text": [
      "100%|████████████████████████████████████████████████████████████████████████████████| 243/243 [00:04<00:00, 55.97it/s]\n"
     ]
    },
    {
     "name": "stdout",
     "output_type": "stream",
     "text": [
      "Best params:  {'learning_rate': 0.1, 'max_depth': 15, 'max_features': 1, 'n_estimators': 100, 'subsample': 0.8}\n",
      "Best rmse:  0.1830002216352002\n",
      "MSE: 0.001343809333811274\n",
      "MAPE: 3.9845943207409924\n",
      "ARV: 0.08229403930511037\n",
      "MAE: 0.02806170183476162\n",
      "RMSE: 0.0366580050440729\n",
      "NRMSE: 0.072408288058483\n",
      "SMAPE: 3.98731464281891\n",
      "\n",
      "###############################################\n",
      "\n",
      "Executing:  RF\n",
      "d:  1\n"
     ]
    },
    {
     "name": "stderr",
     "output_type": "stream",
     "text": [
      "100%|██████████████████████████████████████████████████████████████████████████████████| 27/27 [00:01<00:00, 14.18it/s]\n"
     ]
    },
    {
     "name": "stdout",
     "output_type": "stream",
     "text": [
      "Best params:  {'max_depth': 5, 'max_features': 1, 'n_estimators': 200}\n",
      "Best rmse:  0.18396867916579057\n",
      "MSE: 0.001298793359805306\n",
      "MAPE: 3.959031935833226\n",
      "ARV: 0.0798133595979937\n",
      "MAE: 0.02778975082713512\n",
      "RMSE: 0.03603877578116806\n",
      "NRMSE: 0.07118516282870717\n",
      "SMAPE: 3.9542482674132193\n",
      "\n",
      "###############################################\n",
      "\n",
      "Executing:  ARIMA\n",
      "d:  1\n",
      "Performing stepwise search to minimize aic\n",
      " ARIMA(2,0,2)(0,0,0)[0]             : AIC=inf, Time=0.31 sec\n",
      " ARIMA(0,0,0)(0,0,0)[0]             : AIC=822.455, Time=0.02 sec\n",
      " ARIMA(1,0,0)(0,0,0)[0]             : AIC=-96.262, Time=0.04 sec\n",
      " ARIMA(0,0,1)(0,0,0)[0]             : AIC=460.544, Time=0.03 sec\n",
      " ARIMA(2,0,0)(0,0,0)[0]             : AIC=-271.911, Time=0.03 sec\n",
      " ARIMA(3,0,0)(0,0,0)[0]             : AIC=-307.452, Time=0.04 sec\n",
      " ARIMA(4,0,0)(0,0,0)[0]             : AIC=-339.846, Time=0.12 sec\n",
      " ARIMA(5,0,0)(0,0,0)[0]             : AIC=inf, Time=0.17 sec\n",
      " ARIMA(4,0,1)(0,0,0)[0]             : AIC=inf, Time=0.38 sec\n",
      " ARIMA(3,0,1)(0,0,0)[0]             : AIC=inf, Time=0.32 sec\n",
      " ARIMA(5,0,1)(0,0,0)[0]             : AIC=inf, Time=0.44 sec\n",
      " ARIMA(4,0,0)(0,0,0)[0] intercept   : AIC=-466.706, Time=0.11 sec\n",
      " ARIMA(3,0,0)(0,0,0)[0] intercept   : AIC=-468.698, Time=0.09 sec\n",
      " ARIMA(2,0,0)(0,0,0)[0] intercept   : AIC=-468.898, Time=0.04 sec\n",
      " ARIMA(1,0,0)(0,0,0)[0] intercept   : AIC=-467.858, Time=0.14 sec\n",
      " ARIMA(2,0,1)(0,0,0)[0] intercept   : AIC=-468.149, Time=0.32 sec\n",
      " ARIMA(1,0,1)(0,0,0)[0] intercept   : AIC=-468.025, Time=0.26 sec\n",
      " ARIMA(3,0,1)(0,0,0)[0] intercept   : AIC=-466.699, Time=0.14 sec\n",
      "\n",
      "Best model:  ARIMA(2,0,0)(0,0,0)[0] intercept\n",
      "Total fit time: 2.988 seconds\n"
     ]
    },
    {
     "name": "stderr",
     "output_type": "stream",
     "text": [
      "100%|████████████████████████████████████████████████████████████████████████████████| 397/397 [00:24<00:00, 16.07it/s]\n"
     ]
    },
    {
     "name": "stdout",
     "output_type": "stream",
     "text": [
      "MSE: 0.0013231319742622505\n",
      "MAPE: 4.004657272232033\n",
      "ARV: 0.08073922603060048\n",
      "MAE: 0.028100704079290394\n",
      "RMSE: 0.03637488108932111\n",
      "NRMSE: 0.0718490508373828\n",
      "SMAPE: 3.9885729928778932\n",
      "\n",
      "###############################################\n",
      "\n",
      "Executing:  DBN\n",
      "d:  1\n",
      "MSE: 0.0013482978695857609\n",
      "MAPE: 4.052761043651124\n",
      "ARV: 0.08073718613716585\n",
      "MAE: 0.02842230357600728\n",
      "RMSE: 0.03671917577486947\n",
      "NRMSE: 0.07252911481626594\n",
      "SMAPE: 4.043293622856862\n",
      "\n",
      "###############################################\n",
      "\n",
      "Executing:  MLP\n",
      "d:  1\n"
     ]
    },
    {
     "name": "stderr",
     "output_type": "stream",
     "text": [
      "100%|████████████████████████████████████████████████████████████████████████████████████| 9/9 [00:01<00:00,  8.36it/s]\n"
     ]
    },
    {
     "name": "stdout",
     "output_type": "stream",
     "text": [
      "Best params:  {'hidden_layer_sizes': 100, 'max_iter': 1000, 'tol': 0.001}\n",
      "Best rmse:  0.18256444159752805\n",
      "MSE: 0.0013054868058135368\n",
      "MAPE: 3.98128938410676\n",
      "ARV: 0.08048607869623624\n",
      "MAE: 0.027876215877690392\n",
      "RMSE: 0.03613152094520153\n",
      "NRMSE: 0.07136835660985517\n",
      "SMAPE: 3.9726283034929497\n",
      "\n",
      "###############################################\n",
      "\n",
      "Executing:  ELM\n",
      "d:  1\n"
     ]
    },
    {
     "name": "stderr",
     "output_type": "stream",
     "text": [
      "100%|████████████████████████████████████████████████████████████████████████████████████| 5/5 [00:01<00:00,  4.86it/s]\n"
     ]
    },
    {
     "name": "stdout",
     "output_type": "stream",
     "text": [
      "Best params:  {'hidden_dim': 20}\n",
      "Best rmse:  0.19011525604281793\n",
      "MSE: 0.0013974482062880426\n",
      "MAPE: 4.06326784208516\n",
      "ARV: 0.08172095447584035\n",
      "MAE: 0.02864013361278923\n",
      "RMSE: 0.03738245853723431\n",
      "NRMSE: 0.07383925619640373\n",
      "SMAPE: 4.071760488310994\n"
     ]
    },
    {
     "name": "stderr",
     "output_type": "stream",
     "text": [
      "100%|████████████████████████████████████████████████████████████████████████████████| 280/280 [00:08<00:00, 32.72it/s]\n"
     ]
    },
    {
     "name": "stdout",
     "output_type": "stream",
     "text": [
      "Best params:  {'comb': 'average', 'k': 18, 'n': 6}\n",
      "Best rmse:  0.39738632138043684\n",
      "MSE: 0.0013147069829058306\n",
      "MAPE: 3.9724566211547176\n",
      "ARV: 0.07998120727416377\n",
      "MAE: 0.02789025948138526\n",
      "RMSE: 0.03625888832970242\n",
      "NRMSE: 0.07161993751981217\n",
      "SMAPE: 3.965413365255679\n",
      "Time Series:  pollutions\n",
      "\n",
      "###############################################\n",
      "\n",
      "Executing:  SVR\n",
      "d:  2\n"
     ]
    },
    {
     "name": "stderr",
     "output_type": "stream",
     "text": [
      "100%|██████████████████████████████████████████████████████████████████████████████████| 80/80 [00:01<00:00, 77.50it/s]\n"
     ]
    },
    {
     "name": "stdout",
     "output_type": "stream",
     "text": [
      "Best params:  {'C': 1000, 'epsilon': 0.001, 'gamma': 0.001, 'kernel': 'rbf'}\n",
      "Best rmse:  0.29014463133128826\n",
      "MSE: 0.022571093191291344\n",
      "MAPE: 21.871840588978724\n",
      "ARV: 0.5942456959789871\n",
      "MAE: 0.11406258711952866\n",
      "RMSE: 0.15023679040531765\n",
      "NRMSE: 0.20301564117593135\n",
      "SMAPE: 23.170413219165333\n",
      "\n",
      "###############################################\n",
      "\n",
      "Executing:  GB\n",
      "d:  2\n"
     ]
    },
    {
     "name": "stderr",
     "output_type": "stream",
     "text": [
      "100%|███████████████████████████████████████████████████████████████████████████████| 243/243 [00:01<00:00, 131.75it/s]\n"
     ]
    },
    {
     "name": "stdout",
     "output_type": "stream",
     "text": [
      "Best params:  {'learning_rate': 0.3, 'max_depth': 5, 'max_features': 0.6, 'n_estimators': 50, 'subsample': 0.8}\n",
      "Best rmse:  0.37406318723262977\n",
      "MSE: 0.07275662305370065\n",
      "MAPE: 37.60849688574673\n",
      "ARV: 0.984663593690514\n",
      "MAE: 0.20907953092045242\n",
      "RMSE: 0.2697343564577947\n",
      "NRMSE: 0.36449323215519225\n",
      "SMAPE: 41.117501904698656\n",
      "\n",
      "###############################################\n",
      "\n",
      "Executing:  RF\n",
      "d:  2\n"
     ]
    },
    {
     "name": "stderr",
     "output_type": "stream",
     "text": [
      "100%|██████████████████████████████████████████████████████████████████████████████████| 27/27 [00:01<00:00, 19.05it/s]\n"
     ]
    },
    {
     "name": "stdout",
     "output_type": "stream",
     "text": [
      "Best params:  {'max_depth': 5, 'max_features': 0.8, 'n_estimators': 100}\n",
      "Best rmse:  0.4546931372360137\n",
      "MSE: 0.08641360721463294\n",
      "MAPE: 42.23035205074696\n",
      "ARV: 1.011010126377495\n",
      "MAE: 0.22869811267861295\n",
      "RMSE: 0.2939619145648513\n",
      "NRMSE: 0.3972320388746491\n",
      "SMAPE: 43.34766903982192\n",
      "\n",
      "###############################################\n",
      "\n",
      "Executing:  ARIMA\n",
      "d:  2\n",
      "Performing stepwise search to minimize aic\n",
      " ARIMA(2,0,2)(0,0,0)[0]             : AIC=inf, Time=0.15 sec\n",
      " ARIMA(0,0,0)(0,0,0)[0]             : AIC=172.219, Time=0.01 sec\n",
      " ARIMA(1,0,0)(0,0,0)[0]             : AIC=152.671, Time=0.01 sec\n",
      " ARIMA(0,0,1)(0,0,0)[0]             : AIC=159.738, Time=0.01 sec\n",
      " ARIMA(2,0,0)(0,0,0)[0]             : AIC=137.722, Time=0.02 sec\n",
      " ARIMA(3,0,0)(0,0,0)[0]             : AIC=58.425, Time=0.04 sec\n",
      " ARIMA(4,0,0)(0,0,0)[0]             : AIC=inf, Time=0.08 sec\n",
      " ARIMA(3,0,1)(0,0,0)[0]             : AIC=inf, Time=0.15 sec\n",
      " ARIMA(2,0,1)(0,0,0)[0]             : AIC=inf, Time=0.13 sec\n",
      " ARIMA(4,0,1)(0,0,0)[0]             : AIC=-3.382, Time=0.19 sec\n",
      " ARIMA(5,0,1)(0,0,0)[0]             : AIC=-0.258, Time=0.24 sec\n",
      " ARIMA(4,0,2)(0,0,0)[0]             : AIC=4.826, Time=0.21 sec\n",
      " ARIMA(3,0,2)(0,0,0)[0]             : AIC=-19.032, Time=0.19 sec\n",
      " ARIMA(3,0,3)(0,0,0)[0]             : AIC=inf, Time=0.24 sec\n",
      " ARIMA(2,0,3)(0,0,0)[0]             : AIC=inf, Time=0.15 sec\n",
      " ARIMA(4,0,3)(0,0,0)[0]             : AIC=inf, Time=0.25 sec\n",
      " ARIMA(3,0,2)(0,0,0)[0] intercept   : AIC=-8.889, Time=0.20 sec\n",
      "\n",
      "Best model:  ARIMA(3,0,2)(0,0,0)[0]          \n",
      "Total fit time: 2.252 seconds\n"
     ]
    },
    {
     "name": "stderr",
     "output_type": "stream",
     "text": [
      "100%|██████████████████████████████████████████████████████████████████████████████████| 85/85 [00:02<00:00, 30.27it/s]\n"
     ]
    },
    {
     "name": "stdout",
     "output_type": "stream",
     "text": [
      "MSE: 0.028414201584983017\n",
      "MAPE: 22.88988753139784\n",
      "ARV: 0.9449541791262698\n",
      "MAE: 0.12938078075480858\n",
      "RMSE: 0.16856512564876228\n",
      "NRMSE: 0.22778280187669422\n",
      "SMAPE: 24.623796099665405\n",
      "\n",
      "###############################################\n",
      "\n",
      "Executing:  DBN\n",
      "d:  2\n",
      "MSE: 0.03006307290550405\n",
      "MAPE: 22.01165792337434\n",
      "ARV: 0.7015039308619099\n",
      "MAE: 0.12432784035301489\n",
      "RMSE: 0.17338706095180242\n",
      "NRMSE: 0.23429870443700945\n",
      "SMAPE: 24.700616192197103\n",
      "\n",
      "###############################################\n",
      "\n",
      "Executing:  MLP\n",
      "d:  2\n"
     ]
    },
    {
     "name": "stderr",
     "output_type": "stream",
     "text": [
      "100%|████████████████████████████████████████████████████████████████████████████████████| 9/9 [00:01<00:00,  7.74it/s]\n"
     ]
    },
    {
     "name": "stdout",
     "output_type": "stream",
     "text": [
      "Best params:  {'hidden_layer_sizes': 100, 'max_iter': 1000, 'tol': 0.0001}\n",
      "Best rmse:  0.2914364995744228\n",
      "MSE: 0.028042579744211208\n",
      "MAPE: 26.347616209337808\n",
      "ARV: 0.7112263268326036\n",
      "MAE: 0.13926260267678472\n",
      "RMSE: 0.1674591882943758\n",
      "NRMSE: 0.2262883438248718\n",
      "SMAPE: 24.0451724773297\n",
      "\n",
      "###############################################\n",
      "\n",
      "Executing:  ELM\n",
      "d:  2\n"
     ]
    },
    {
     "name": "stderr",
     "output_type": "stream",
     "text": [
      "100%|████████████████████████████████████████████████████████████████████████████████████| 5/5 [00:00<00:00,  7.82it/s]\n"
     ]
    },
    {
     "name": "stdout",
     "output_type": "stream",
     "text": [
      "Best params:  {'hidden_dim': 20}\n",
      "Best rmse:  0.3232189120803216\n",
      "MSE: 0.03972382585909057\n",
      "MAPE: 30.369767731555385\n",
      "ARV: 0.6894276278143231\n",
      "MAE: 0.15697803327617652\n",
      "RMSE: 0.1993083687633075\n",
      "NRMSE: 0.2693262826438793\n",
      "SMAPE: 34.29655037168092\n"
     ]
    },
    {
     "name": "stderr",
     "output_type": "stream",
     "text": [
      "100%|███████████████████████████████████████████████████████████████████████████████| 280/280 [00:02<00:00, 108.88it/s]\n"
     ]
    },
    {
     "name": "stdout",
     "output_type": "stream",
     "text": [
      "Best params:  {'comb': 'average', 'k': 15, 'n': 4}\n",
      "Best rmse:  464.7299256008663\n",
      "MSE: 0.021248715170328974\n",
      "MAPE: 20.457164065089973\n",
      "ARV: 0.6876108266470499\n",
      "MAE: 0.1127891882180371\n",
      "RMSE: 0.14576939037510234\n",
      "NRMSE: 0.19697882370215072\n",
      "SMAPE: 20.282740412456445\n",
      "Time Series:  star\n",
      "\n",
      "###############################################\n",
      "\n",
      "Executing:  SVR\n",
      "d:  0\n"
     ]
    },
    {
     "name": "stderr",
     "output_type": "stream",
     "text": [
      "100%|██████████████████████████████████████████████████████████████████████████████████| 80/80 [00:01<00:00, 69.01it/s]\n"
     ]
    },
    {
     "name": "stdout",
     "output_type": "stream",
     "text": [
      "Best params:  {'C': 10, 'epsilon': 0.0001, 'gamma': 1, 'kernel': 'rbf'}\n",
      "Best rmse:  0.006544894872162269\n",
      "MSE: 4.162154113633509e-05\n",
      "MAPE: 1.7250894488841344\n",
      "ARV: 0.0005919816361925365\n",
      "MAE: 0.004624150689349772\n",
      "RMSE: 0.006451475888223957\n",
      "NRMSE: 0.006451475888223957\n",
      "SMAPE: 4.346419164953462\n",
      "\n",
      "###############################################\n",
      "\n",
      "Executing:  GB\n",
      "d:  0\n"
     ]
    },
    {
     "name": "stderr",
     "output_type": "stream",
     "text": [
      "100%|████████████████████████████████████████████████████████████████████████████████| 243/243 [00:03<00:00, 79.42it/s]\n"
     ]
    },
    {
     "name": "stdout",
     "output_type": "stream",
     "text": [
      "Best params:  {'learning_rate': 0.1, 'max_depth': 5, 'max_features': 0.8, 'n_estimators': 200, 'subsample': 0.6}\n",
      "Best rmse:  0.021294027571678396\n",
      "MSE: 0.0009642769393515571\n",
      "MAPE: 8.592861104153883\n",
      "ARV: 0.013468514260134573\n",
      "MAE: 0.02476779363048117\n",
      "RMSE: 0.0310528088802214\n",
      "NRMSE: 0.0310528088802214\n",
      "SMAPE: 11.449926662509823\n",
      "\n",
      "###############################################\n",
      "\n",
      "Executing:  RF\n",
      "d:  0\n"
     ]
    },
    {
     "name": "stderr",
     "output_type": "stream",
     "text": [
      "100%|██████████████████████████████████████████████████████████████████████████████████| 27/27 [00:01<00:00, 16.39it/s]\n"
     ]
    },
    {
     "name": "stdout",
     "output_type": "stream",
     "text": [
      "Best params:  {'max_depth': 15, 'max_features': 0.8, 'n_estimators': 50}\n",
      "Best rmse:  0.025732050215723112\n",
      "MSE: 0.0010979653979238738\n",
      "MAPE: 8.552524144072878\n",
      "ARV: 0.015619377179435186\n",
      "MAE: 0.026509803921568636\n",
      "RMSE: 0.033135560926652104\n",
      "NRMSE: 0.033135560926652104\n",
      "SMAPE: 10.802608724902962\n",
      "\n",
      "###############################################\n",
      "\n",
      "Executing:  ARIMA\n",
      "d:  0\n",
      "Performing stepwise search to minimize aic\n",
      " ARIMA(2,0,2)(0,0,0)[0]             : AIC=-2149.773, Time=0.18 sec\n",
      " ARIMA(0,0,0)(0,0,0)[0]             : AIC=777.341, Time=0.02 sec\n",
      " ARIMA(1,0,0)(0,0,0)[0]             : AIC=inf, Time=0.03 sec\n",
      " ARIMA(0,0,1)(0,0,0)[0]             : AIC=195.760, Time=0.03 sec\n",
      " ARIMA(1,0,2)(0,0,0)[0]             : AIC=-1801.256, Time=0.10 sec\n",
      " ARIMA(2,0,1)(0,0,0)[0]             : AIC=-2040.121, Time=0.12 sec\n",
      " ARIMA(3,0,2)(0,0,0)[0]             : AIC=-2437.568, Time=0.28 sec\n",
      " ARIMA(3,0,1)(0,0,0)[0]             : AIC=-2102.132, Time=0.21 sec\n",
      " ARIMA(4,0,2)(0,0,0)[0]             : AIC=-2101.143, Time=0.45 sec\n",
      " ARIMA(3,0,3)(0,0,0)[0]             : AIC=inf, Time=0.39 sec\n",
      " ARIMA(2,0,3)(0,0,0)[0]             : AIC=-2182.961, Time=0.29 sec\n",
      " ARIMA(4,0,1)(0,0,0)[0]             : AIC=-2378.229, Time=0.28 sec\n",
      " ARIMA(4,0,3)(0,0,0)[0]             : AIC=-2118.088, Time=0.44 sec\n",
      " ARIMA(3,0,2)(0,0,0)[0] intercept   : AIC=-2461.577, Time=0.65 sec\n",
      " ARIMA(2,0,2)(0,0,0)[0] intercept   : AIC=-2257.439, Time=0.61 sec\n",
      " ARIMA(3,0,1)(0,0,0)[0] intercept   : AIC=-2482.077, Time=0.30 sec\n",
      " ARIMA(2,0,1)(0,0,0)[0] intercept   : AIC=-2279.027, Time=0.39 sec\n",
      " ARIMA(3,0,0)(0,0,0)[0] intercept   : AIC=inf, Time=0.05 sec\n",
      " ARIMA(4,0,1)(0,0,0)[0] intercept   : AIC=-2485.492, Time=0.54 sec\n",
      " ARIMA(4,0,0)(0,0,0)[0] intercept   : AIC=inf, Time=0.13 sec\n",
      " ARIMA(5,0,1)(0,0,0)[0] intercept   : AIC=-2515.309, Time=0.46 sec\n",
      " ARIMA(5,0,0)(0,0,0)[0] intercept   : AIC=inf, Time=0.11 sec\n",
      " ARIMA(6,0,1)(0,0,0)[0] intercept   : AIC=-2513.603, Time=0.12 sec\n",
      " ARIMA(5,0,2)(0,0,0)[0] intercept   : AIC=-2516.789, Time=0.60 sec\n",
      " ARIMA(4,0,2)(0,0,0)[0] intercept   : AIC=-2488.480, Time=0.49 sec\n",
      " ARIMA(6,0,2)(0,0,0)[0] intercept   : AIC=-2524.959, Time=0.66 sec\n",
      " ARIMA(7,0,2)(0,0,0)[0] intercept   : AIC=-2529.143, Time=1.03 sec\n",
      " ARIMA(7,0,1)(0,0,0)[0] intercept   : AIC=-2537.908, Time=0.73 sec\n",
      " ARIMA(7,0,0)(0,0,0)[0] intercept   : AIC=inf, Time=0.45 sec\n",
      " ARIMA(8,0,1)(0,0,0)[0] intercept   : AIC=-2539.713, Time=0.56 sec\n",
      " ARIMA(8,0,0)(0,0,0)[0] intercept   : AIC=inf, Time=1.25 sec\n",
      " ARIMA(9,0,1)(0,0,0)[0] intercept   : AIC=-2537.953, Time=0.75 sec\n",
      " ARIMA(8,0,2)(0,0,0)[0] intercept   : AIC=-2537.386, Time=0.92 sec\n",
      " ARIMA(9,0,0)(0,0,0)[0] intercept   : AIC=inf, Time=0.71 sec\n",
      " ARIMA(9,0,2)(0,0,0)[0] intercept   : AIC=-2537.397, Time=1.12 sec\n",
      " ARIMA(8,0,1)(0,0,0)[0]             : AIC=-2481.782, Time=0.52 sec\n",
      "\n",
      "Best model:  ARIMA(8,0,1)(0,0,0)[0] intercept\n",
      "Total fit time: 15.966 seconds\n"
     ]
    },
    {
     "name": "stderr",
     "output_type": "stream",
     "text": [
      "100%|████████████████████████████████████████████████████████████████████████████████| 320/320 [01:27<00:00,  3.66it/s]\n"
     ]
    },
    {
     "name": "stdout",
     "output_type": "stream",
     "text": [
      "MSE: 0.00018658555159829082\n",
      "MAPE: 4.083527225708466\n",
      "ARV: 0.0026446298651954113\n",
      "MAE: 0.010938129656565484\n",
      "RMSE: 0.013659632191178899\n",
      "NRMSE: 0.013659632191178899\n",
      "SMAPE: 6.675698579415777\n",
      "\n",
      "###############################################\n",
      "\n",
      "Executing:  DBN\n",
      "d:  0\n",
      "MSE: 0.0012641817330314214\n",
      "MAPE: 10.239017499896427\n",
      "ARV: 0.018362827531595554\n",
      "MAE: 0.0288315650630058\n",
      "RMSE: 0.0355553333978381\n",
      "NRMSE: 0.0355553333978381\n",
      "SMAPE: 12.649759964114082\n",
      "\n",
      "###############################################\n",
      "\n",
      "Executing:  MLP\n",
      "d:  0\n"
     ]
    },
    {
     "name": "stderr",
     "output_type": "stream",
     "text": [
      "100%|████████████████████████████████████████████████████████████████████████████████████| 9/9 [00:00<00:00,  9.75it/s]\n"
     ]
    },
    {
     "name": "stdout",
     "output_type": "stream",
     "text": [
      "Best params:  {'hidden_layer_sizes': 50, 'max_iter': 1000, 'tol': 1e-05}\n",
      "Best rmse:  0.011827989764396052\n",
      "MSE: 0.00013491550411818363\n",
      "MAPE: 4.051639905970305\n",
      "ARV: 0.0019233462889940384\n",
      "MAE: 0.009409386039368549\n",
      "RMSE: 0.011615313345673617\n",
      "NRMSE: 0.011615313345673617\n",
      "SMAPE: 6.404456743473248\n",
      "\n",
      "###############################################\n",
      "\n",
      "Executing:  ELM\n",
      "d:  0\n"
     ]
    },
    {
     "name": "stderr",
     "output_type": "stream",
     "text": [
      "100%|████████████████████████████████████████████████████████████████████████████████████| 5/5 [00:00<00:00,  5.84it/s]\n"
     ]
    },
    {
     "name": "stdout",
     "output_type": "stream",
     "text": [
      "Best params:  {'hidden_dim': 100}\n",
      "Best rmse:  0.008342957613839295\n",
      "MSE: 4.3605740891663294e-05\n",
      "MAPE: 2.6906909647448947\n",
      "ARV: 0.0006141509803196389\n",
      "MAE: 0.005383332608059166\n",
      "RMSE: 0.0066034643098651855\n",
      "NRMSE: 0.0066034643098651855\n",
      "SMAPE: 5.622749501617971\n"
     ]
    },
    {
     "name": "stderr",
     "output_type": "stream",
     "text": [
      "100%|████████████████████████████████████████████████████████████████████████████████| 280/280 [00:07<00:00, 39.20it/s]\n"
     ]
    },
    {
     "name": "stdout",
     "output_type": "stream",
     "text": [
      "Best params:  {'comb': 'median', 'k': 13, 'n': 1}\n",
      "Best rmse:  0.20728748146498827\n",
      "MSE: 3.183541516630272e-05\n",
      "MAPE: 1.681408507682288\n",
      "ARV: 0.00045070069741906445\n",
      "MAE: 0.004284675673615889\n",
      "RMSE: 0.005642288114435731\n",
      "NRMSE: 0.005642288114435731\n",
      "SMAPE: 4.31314771572903\n",
      "Time Series:  sunspot\n",
      "\n",
      "###############################################\n",
      "\n",
      "Executing:  SVR\n",
      "d:  0\n"
     ]
    },
    {
     "name": "stderr",
     "output_type": "stream",
     "text": [
      "100%|██████████████████████████████████████████████████████████████████████████████████| 80/80 [00:01<00:00, 76.61it/s]\n"
     ]
    },
    {
     "name": "stdout",
     "output_type": "stream",
     "text": [
      "Best params:  {'C': 1, 'epsilon': 0.01, 'gamma': 0.1, 'kernel': 'rbf'}\n",
      "Best rmse:  0.08256552770405057\n",
      "MSE: 0.02240927299808357\n",
      "MAPE: 58.37693205561229\n",
      "ARV: 0.5818623459054921\n",
      "MAE: 0.10320234346825999\n",
      "RMSE: 0.14969727117781262\n",
      "NRMSE: 0.14969727117781262\n",
      "SMAPE: 51.503675252373974\n",
      "\n",
      "###############################################\n",
      "\n",
      "Executing:  GB\n",
      "d:  0\n"
     ]
    },
    {
     "name": "stderr",
     "output_type": "stream",
     "text": [
      "100%|████████████████████████████████████████████████████████████████████████████████| 243/243 [00:02<00:00, 97.37it/s]\n"
     ]
    },
    {
     "name": "stdout",
     "output_type": "stream",
     "text": [
      "Best params:  {'learning_rate': 0.1, 'max_depth': 15, 'max_features': 0.8, 'n_estimators': 50, 'subsample': 0.6}\n",
      "Best rmse:  0.07869228152886285\n",
      "MSE: 0.020907631536540062\n",
      "MAPE: 52.8886645983351\n",
      "ARV: 0.5948264632542634\n",
      "MAE: 0.09619021692495873\n",
      "RMSE: 0.14459471476004945\n",
      "NRMSE: 0.14459471476004945\n",
      "SMAPE: 41.08933877460623\n",
      "\n",
      "###############################################\n",
      "\n",
      "Executing:  RF\n",
      "d:  0\n"
     ]
    },
    {
     "name": "stderr",
     "output_type": "stream",
     "text": [
      "100%|██████████████████████████████████████████████████████████████████████████████████| 27/27 [00:01<00:00, 17.81it/s]\n"
     ]
    },
    {
     "name": "stdout",
     "output_type": "stream",
     "text": [
      "Best params:  {'max_depth': 15, 'max_features': 0.8, 'n_estimators': 200}\n",
      "Best rmse:  0.07878614475260577\n",
      "MSE: 0.021545167561657235\n",
      "MAPE: 57.24755585634674\n",
      "ARV: 0.7214696657343914\n",
      "MAE: 0.10019116453034112\n",
      "RMSE: 0.1467827222858918\n",
      "NRMSE: 0.1467827222858918\n",
      "SMAPE: 43.318710311787456\n",
      "\n",
      "###############################################\n",
      "\n",
      "Executing:  ARIMA\n",
      "d:  0\n",
      "Performing stepwise search to minimize aic\n",
      " ARIMA(2,0,2)(0,0,0)[0]             : AIC=-376.662, Time=0.16 sec\n",
      " ARIMA(0,0,0)(0,0,0)[0]             : AIC=180.260, Time=0.01 sec\n",
      " ARIMA(1,0,0)(0,0,0)[0]             : AIC=-284.879, Time=0.02 sec\n",
      " ARIMA(0,0,1)(0,0,0)[0]             : AIC=-69.286, Time=0.03 sec\n",
      " ARIMA(1,0,2)(0,0,0)[0]             : AIC=-376.753, Time=0.07 sec\n",
      " ARIMA(0,0,2)(0,0,0)[0]             : AIC=-241.212, Time=0.06 sec\n",
      " ARIMA(1,0,1)(0,0,0)[0]             : AIC=-352.244, Time=0.05 sec\n",
      " ARIMA(1,0,3)(0,0,0)[0]             : AIC=-376.413, Time=0.12 sec\n",
      " ARIMA(0,0,3)(0,0,0)[0]             : AIC=-305.909, Time=0.07 sec\n",
      " ARIMA(2,0,1)(0,0,0)[0]             : AIC=-372.464, Time=0.08 sec\n",
      " ARIMA(2,0,3)(0,0,0)[0]             : AIC=-374.711, Time=0.26 sec\n",
      " ARIMA(1,0,2)(0,0,0)[0] intercept   : AIC=-403.390, Time=0.11 sec\n",
      " ARIMA(0,0,2)(0,0,0)[0] intercept   : AIC=-365.258, Time=0.08 sec\n",
      " ARIMA(1,0,1)(0,0,0)[0] intercept   : AIC=-370.975, Time=0.09 sec\n",
      " ARIMA(2,0,2)(0,0,0)[0] intercept   : AIC=-428.710, Time=0.19 sec\n",
      " ARIMA(2,0,1)(0,0,0)[0] intercept   : AIC=-430.607, Time=0.12 sec\n",
      " ARIMA(2,0,0)(0,0,0)[0] intercept   : AIC=-429.620, Time=0.06 sec\n",
      " ARIMA(3,0,1)(0,0,0)[0] intercept   : AIC=-429.607, Time=0.21 sec\n",
      " ARIMA(1,0,0)(0,0,0)[0] intercept   : AIC=-296.997, Time=0.03 sec\n",
      " ARIMA(3,0,0)(0,0,0)[0] intercept   : AIC=-430.751, Time=0.11 sec\n",
      " ARIMA(4,0,0)(0,0,0)[0] intercept   : AIC=-428.776, Time=0.15 sec\n",
      " ARIMA(4,0,1)(0,0,0)[0] intercept   : AIC=-427.784, Time=0.30 sec\n",
      " ARIMA(3,0,0)(0,0,0)[0]             : AIC=-374.404, Time=0.10 sec\n",
      "\n",
      "Best model:  ARIMA(3,0,0)(0,0,0)[0] intercept\n",
      "Total fit time: 2.473 seconds\n"
     ]
    },
    {
     "name": "stderr",
     "output_type": "stream",
     "text": [
      "100%|████████████████████████████████████████████████████████████████████████████████| 177/177 [00:07<00:00, 22.90it/s]\n"
     ]
    },
    {
     "name": "stdout",
     "output_type": "stream",
     "text": [
      "MSE: 0.01582910647560369\n",
      "MAPE: 60.30057750845786\n",
      "ARV: 0.3086598847715719\n",
      "MAE: 0.08861061557849652\n",
      "RMSE: 0.12581377697058335\n",
      "NRMSE: 0.12581377697058335\n",
      "SMAPE: 48.023480157010844\n",
      "\n",
      "###############################################\n",
      "\n",
      "Executing:  DBN\n",
      "d:  0\n",
      "MSE: 0.02284081862018037\n",
      "MAPE: 74.59131022755675\n",
      "ARV: 0.6659004037485996\n",
      "MAE: 0.10454540521418053\n",
      "RMSE: 0.1511317922218233\n",
      "NRMSE: 0.1511317922218233\n",
      "SMAPE: 48.08102822501175\n",
      "\n",
      "###############################################\n",
      "\n",
      "Executing:  MLP\n",
      "d:  0\n"
     ]
    },
    {
     "name": "stderr",
     "output_type": "stream",
     "text": [
      "100%|████████████████████████████████████████████████████████████████████████████████████| 9/9 [00:01<00:00,  5.34it/s]\n"
     ]
    },
    {
     "name": "stdout",
     "output_type": "stream",
     "text": [
      "Best params:  {'hidden_layer_sizes': 20, 'max_iter': 1000, 'tol': 0.001}\n",
      "Best rmse:  0.08746557196575322\n",
      "MSE: 0.013092691665464272\n",
      "MAPE: 53.80680451942378\n",
      "ARV: 0.2521951770877788\n",
      "MAE: 0.07700608372642305\n",
      "RMSE: 0.11442330036082805\n",
      "NRMSE: 0.11442330036082805\n",
      "SMAPE: 42.332544395223564\n",
      "\n",
      "###############################################\n",
      "\n",
      "Executing:  ELM\n",
      "d:  0\n"
     ]
    },
    {
     "name": "stderr",
     "output_type": "stream",
     "text": [
      "100%|████████████████████████████████████████████████████████████████████████████████████| 5/5 [00:00<00:00,  7.13it/s]\n"
     ]
    },
    {
     "name": "stdout",
     "output_type": "stream",
     "text": [
      "Best params:  {'hidden_dim': 20}\n",
      "Best rmse:  0.11216322589151717\n",
      "MSE: 0.02260169820732566\n",
      "MAPE: 92.3172353342831\n",
      "ARV: 0.37065296004358605\n",
      "MAE: 0.11106731742341826\n",
      "RMSE: 0.15033861183117816\n",
      "NRMSE: 0.15033861183117816\n",
      "SMAPE: 61.23934913554321\n"
     ]
    },
    {
     "name": "stderr",
     "output_type": "stream",
     "text": [
      "100%|████████████████████████████████████████████████████████████████████████████████| 280/280 [00:04<00:00, 64.62it/s]\n"
     ]
    },
    {
     "name": "stdout",
     "output_type": "stream",
     "text": [
      "Best params:  {'comb': 'median', 'k': 1, 'n': 3}\n",
      "Best rmse:  11.614545313878422\n",
      "MSE: 0.014784967246299633\n",
      "MAPE: 52.58012002581448\n",
      "ARV: 0.3166193513519164\n",
      "MAE: 0.0809522932062353\n",
      "RMSE: 0.1215934506718994\n",
      "NRMSE: 0.1215934506718994\n",
      "SMAPE: 41.367321057857524\n",
      "Time Series:  vehicle\n",
      "\n",
      "###############################################\n",
      "\n",
      "Executing:  SVR\n",
      "d:  1\n"
     ]
    },
    {
     "name": "stderr",
     "output_type": "stream",
     "text": [
      "100%|██████████████████████████████████████████████████████████████████████████████████| 80/80 [00:01<00:00, 76.03it/s]\n"
     ]
    },
    {
     "name": "stdout",
     "output_type": "stream",
     "text": [
      "Best params:  {'C': 100, 'epsilon': 0.001, 'gamma': 0.01, 'kernel': 'rbf'}\n",
      "Best rmse:  0.1419602509630056\n",
      "MSE: 0.017432192210699388\n",
      "MAPE: 14.608890417590354\n",
      "ARV: 0.772359744075972\n",
      "MAE: 0.09840026110379275\n",
      "RMSE: 0.13203102745453202\n",
      "NRMSE: 0.21453285798476834\n",
      "SMAPE: 14.417166052100669\n",
      "\n",
      "###############################################\n",
      "\n",
      "Executing:  GB\n",
      "d:  1\n"
     ]
    },
    {
     "name": "stderr",
     "output_type": "stream",
     "text": [
      "100%|███████████████████████████████████████████████████████████████████████████████| 243/243 [00:02<00:00, 107.21it/s]\n"
     ]
    },
    {
     "name": "stdout",
     "output_type": "stream",
     "text": [
      "Best params:  {'learning_rate': 0.5, 'max_depth': 5, 'max_features': 0.6, 'n_estimators': 50, 'subsample': 1}\n",
      "Best rmse:  0.15902092705686396\n",
      "MSE: 0.019652676565823715\n",
      "MAPE: 16.435297695892817\n",
      "ARV: 1.0653009021318391\n",
      "MAE: 0.10683893852122799\n",
      "RMSE: 0.14018800435780415\n",
      "NRMSE: 0.2277868604818507\n",
      "SMAPE: 15.907756240670881\n",
      "\n",
      "###############################################\n",
      "\n",
      "Executing:  RF\n",
      "d:  1\n"
     ]
    },
    {
     "name": "stderr",
     "output_type": "stream",
     "text": [
      "100%|██████████████████████████████████████████████████████████████████████████████████| 27/27 [00:01<00:00, 18.23it/s]\n"
     ]
    },
    {
     "name": "stdout",
     "output_type": "stream",
     "text": [
      "Best params:  {'max_depth': 5, 'max_features': 0.8, 'n_estimators': 100}\n",
      "Best rmse:  0.16008751343094557\n",
      "MSE: 0.02031675879712133\n",
      "MAPE: 16.796976006335925\n",
      "ARV: 1.0159696831599843\n",
      "MAE: 0.10834576013148131\n",
      "RMSE: 0.1425368682030068\n",
      "NRMSE: 0.23160345180468916\n",
      "SMAPE: 16.328496307278535\n",
      "\n",
      "###############################################\n",
      "\n",
      "Executing:  ARIMA\n",
      "d:  1\n",
      "Performing stepwise search to minimize aic\n",
      " ARIMA(2,0,2)(0,0,0)[0]             : AIC=inf, Time=0.24 sec\n",
      " ARIMA(0,0,0)(0,0,0)[0]             : AIC=322.555, Time=0.01 sec\n",
      " ARIMA(1,0,0)(0,0,0)[0]             : AIC=83.173, Time=0.01 sec\n",
      " ARIMA(0,0,1)(0,0,0)[0]             : AIC=188.241, Time=0.03 sec\n",
      " ARIMA(2,0,0)(0,0,0)[0]             : AIC=74.343, Time=0.03 sec\n",
      " ARIMA(3,0,0)(0,0,0)[0]             : AIC=39.491, Time=0.05 sec\n",
      " ARIMA(4,0,0)(0,0,0)[0]             : AIC=5.288, Time=0.07 sec\n",
      " ARIMA(5,0,0)(0,0,0)[0]             : AIC=inf, Time=0.09 sec\n",
      " ARIMA(4,0,1)(0,0,0)[0]             : AIC=inf, Time=0.22 sec\n",
      " ARIMA(3,0,1)(0,0,0)[0]             : AIC=inf, Time=0.18 sec\n",
      " ARIMA(5,0,1)(0,0,0)[0]             : AIC=-27.062, Time=0.17 sec\n",
      " ARIMA(6,0,1)(0,0,0)[0]             : AIC=-25.409, Time=0.23 sec\n",
      " ARIMA(5,0,2)(0,0,0)[0]             : AIC=inf, Time=0.31 sec\n",
      " ARIMA(4,0,2)(0,0,0)[0]             : AIC=inf, Time=0.29 sec\n",
      " ARIMA(6,0,0)(0,0,0)[0]             : AIC=inf, Time=0.13 sec\n",
      " ARIMA(6,0,2)(0,0,0)[0]             : AIC=inf, Time=0.35 sec\n",
      " ARIMA(5,0,1)(0,0,0)[0] intercept   : AIC=-94.154, Time=0.32 sec\n",
      " ARIMA(4,0,1)(0,0,0)[0] intercept   : AIC=-94.911, Time=0.28 sec\n",
      " ARIMA(3,0,1)(0,0,0)[0] intercept   : AIC=-89.238, Time=0.24 sec\n",
      " ARIMA(4,0,0)(0,0,0)[0] intercept   : AIC=-85.410, Time=0.11 sec\n",
      " ARIMA(4,0,2)(0,0,0)[0] intercept   : AIC=-107.480, Time=0.36 sec\n",
      " ARIMA(3,0,2)(0,0,0)[0] intercept   : AIC=-103.027, Time=0.29 sec\n",
      " ARIMA(5,0,2)(0,0,0)[0] intercept   : AIC=-122.299, Time=0.37 sec\n",
      " ARIMA(6,0,2)(0,0,0)[0] intercept   : AIC=-119.392, Time=0.41 sec\n",
      " ARIMA(5,0,3)(0,0,0)[0] intercept   : AIC=-111.813, Time=0.45 sec\n",
      " ARIMA(4,0,3)(0,0,0)[0] intercept   : AIC=-90.362, Time=0.42 sec\n",
      " ARIMA(6,0,1)(0,0,0)[0] intercept   : AIC=-119.705, Time=0.38 sec\n",
      " ARIMA(6,0,3)(0,0,0)[0] intercept   : AIC=-114.385, Time=0.52 sec\n",
      "\n",
      "Best model:  ARIMA(5,0,2)(0,0,0)[0] intercept\n",
      "Total fit time: 6.558 seconds\n"
     ]
    },
    {
     "name": "stderr",
     "output_type": "stream",
     "text": [
      "100%|████████████████████████████████████████████████████████████████████████████████| 146/146 [00:10<00:00, 13.39it/s]\n"
     ]
    },
    {
     "name": "stdout",
     "output_type": "stream",
     "text": [
      "MSE: 0.02330353426503647\n",
      "MAPE: 18.18576230968248\n",
      "ARV: 1.3827002741513406\n",
      "MAE: 0.11758971701787799\n",
      "RMSE: 0.152654951655806\n",
      "NRMSE: 0.24804399159526927\n",
      "SMAPE: 16.952274663742116\n",
      "\n",
      "###############################################\n",
      "\n",
      "Executing:  DBN\n",
      "d:  1\n",
      "MSE: 0.017073432062064336\n",
      "MAPE: 14.976695186833746\n",
      "ARV: 0.8356301857148694\n",
      "MAE: 0.09840645458660335\n",
      "RMSE: 0.13066534376820937\n",
      "NRMSE: 0.21231380364596253\n",
      "SMAPE: 14.537021597066072\n",
      "\n",
      "###############################################\n",
      "\n",
      "Executing:  MLP\n",
      "d:  1\n"
     ]
    },
    {
     "name": "stderr",
     "output_type": "stream",
     "text": [
      "100%|████████████████████████████████████████████████████████████████████████████████████| 9/9 [00:01<00:00,  8.06it/s]\n"
     ]
    },
    {
     "name": "stdout",
     "output_type": "stream",
     "text": [
      "Best params:  {'hidden_layer_sizes': 20, 'max_iter': 1000, 'tol': 0.001}\n",
      "Best rmse:  0.14798054015804799\n",
      "MSE: 0.019181637238567265\n",
      "MAPE: 15.69123444316908\n",
      "ARV: 0.7698143852521212\n",
      "MAE: 0.10624876604636589\n",
      "RMSE: 0.13849778784719727\n",
      "NRMSE: 0.22504048347014102\n",
      "SMAPE: 15.414648171672704\n",
      "\n",
      "###############################################\n",
      "\n",
      "Executing:  ELM\n",
      "d:  1\n"
     ]
    },
    {
     "name": "stderr",
     "output_type": "stream",
     "text": [
      "100%|████████████████████████████████████████████████████████████████████████████████████| 5/5 [00:00<00:00,  6.74it/s]\n"
     ]
    },
    {
     "name": "stdout",
     "output_type": "stream",
     "text": [
      "Best params:  {'hidden_dim': 20}\n",
      "Best rmse:  0.15261618501716454\n",
      "MSE: 0.021545537973977257\n",
      "MAPE: 16.06169614272004\n",
      "ARV: 0.7620845881953852\n",
      "MAE: 0.11048617989635451\n",
      "RMSE: 0.1467839840513169\n",
      "NRMSE: 0.23850445014346333\n",
      "SMAPE: 15.922326584655188\n"
     ]
    },
    {
     "name": "stderr",
     "output_type": "stream",
     "text": [
      "100%|████████████████████████████████████████████████████████████████████████████████| 280/280 [00:03<00:00, 74.08it/s]\n"
     ]
    },
    {
     "name": "stdout",
     "output_type": "stream",
     "text": [
      "Best params:  {'comb': 'median', 'k': 7, 'n': 2}\n",
      "Best rmse:  0.8966592341072911\n",
      "MSE: 0.019268410059034572\n",
      "MAPE: 15.564280683218753\n",
      "ARV: 0.9035182780707808\n",
      "MAE: 0.10350952978649092\n",
      "RMSE: 0.1388106986475991\n",
      "NRMSE: 0.22554892190009737\n",
      "SMAPE: 15.011257442677842\n",
      "Time Series:  wine\n",
      "\n",
      "###############################################\n",
      "\n",
      "Executing:  SVR\n",
      "d:  1\n"
     ]
    },
    {
     "name": "stderr",
     "output_type": "stream",
     "text": [
      "100%|██████████████████████████████████████████████████████████████████████████████████| 80/80 [00:01<00:00, 77.05it/s]\n"
     ]
    },
    {
     "name": "stdout",
     "output_type": "stream",
     "text": [
      "Best params:  {'C': 1000, 'epsilon': 0.001, 'gamma': 0.01, 'kernel': 'rbf'}\n",
      "Best rmse:  0.07371257888687521\n",
      "MSE: 0.0016883514830440206\n",
      "MAPE: 67.55307003044577\n",
      "ARV: 0.4454383513459492\n",
      "MAE: 0.03450664499601557\n",
      "RMSE: 0.04108955442742134\n",
      "NRMSE: 0.1259026090788936\n",
      "SMAPE: 41.56684740402943\n",
      "\n",
      "###############################################\n",
      "\n",
      "Executing:  GB\n",
      "d:  1\n"
     ]
    },
    {
     "name": "stderr",
     "output_type": "stream",
     "text": [
      "100%|███████████████████████████████████████████████████████████████████████████████| 243/243 [00:02<00:00, 119.21it/s]\n"
     ]
    },
    {
     "name": "stdout",
     "output_type": "stream",
     "text": [
      "Best params:  {'learning_rate': 0.1, 'max_depth': 10, 'max_features': 0.6, 'n_estimators': 200, 'subsample': 0.6}\n",
      "Best rmse:  0.07090080235557437\n",
      "MSE: 0.004100370132455281\n",
      "MAPE: 133.3311920615562\n",
      "ARV: 0.746873438762865\n",
      "MAE: 0.04812843049040046\n",
      "RMSE: 0.06403413255799817\n",
      "NRMSE: 0.1962071497610457\n",
      "SMAPE: 51.37807519120494\n",
      "\n",
      "###############################################\n",
      "\n",
      "Executing:  RF\n",
      "d:  1\n"
     ]
    },
    {
     "name": "stderr",
     "output_type": "stream",
     "text": [
      "100%|██████████████████████████████████████████████████████████████████████████████████| 27/27 [00:01<00:00, 18.51it/s]\n"
     ]
    },
    {
     "name": "stdout",
     "output_type": "stream",
     "text": [
      "Best params:  {'max_depth': 5, 'max_features': 0.6, 'n_estimators': 200}\n",
      "Best rmse:  0.08495561690011623\n",
      "MSE: 0.0034498881598029473\n",
      "MAPE: 134.99440954822575\n",
      "ARV: 1.0025498146137026\n",
      "MAE: 0.04248945406585391\n",
      "RMSE: 0.05873574856765637\n",
      "NRMSE: 0.17997235779063941\n",
      "SMAPE: 44.67950698995573\n",
      "\n",
      "###############################################\n",
      "\n",
      "Executing:  ARIMA\n",
      "d:  1\n",
      "Performing stepwise search to minimize aic\n",
      " ARIMA(2,0,2)(0,0,0)[0]             : AIC=inf, Time=0.26 sec\n",
      " ARIMA(0,0,0)(0,0,0)[0]             : AIC=237.805, Time=0.01 sec\n",
      " ARIMA(1,0,0)(0,0,0)[0]             : AIC=4.494, Time=0.01 sec\n",
      " ARIMA(0,0,1)(0,0,0)[0]             : AIC=138.904, Time=0.02 sec\n",
      " ARIMA(2,0,0)(0,0,0)[0]             : AIC=-38.043, Time=0.03 sec\n",
      " ARIMA(3,0,0)(0,0,0)[0]             : AIC=inf, Time=0.03 sec\n",
      " ARIMA(2,0,1)(0,0,0)[0]             : AIC=inf, Time=0.14 sec\n",
      " ARIMA(1,0,1)(0,0,0)[0]             : AIC=inf, Time=0.10 sec\n",
      " ARIMA(3,0,1)(0,0,0)[0]             : AIC=inf, Time=0.15 sec\n",
      " ARIMA(2,0,0)(0,0,0)[0] intercept   : AIC=-167.634, Time=0.07 sec\n",
      " ARIMA(1,0,0)(0,0,0)[0] intercept   : AIC=-146.323, Time=0.02 sec\n",
      " ARIMA(3,0,0)(0,0,0)[0] intercept   : AIC=-169.205, Time=0.21 sec\n",
      " ARIMA(4,0,0)(0,0,0)[0] intercept   : AIC=-170.766, Time=0.09 sec\n",
      " ARIMA(5,0,0)(0,0,0)[0] intercept   : AIC=-169.097, Time=0.09 sec\n",
      " ARIMA(4,0,1)(0,0,0)[0] intercept   : AIC=-184.458, Time=0.29 sec\n",
      " ARIMA(3,0,1)(0,0,0)[0] intercept   : AIC=-187.650, Time=0.32 sec\n",
      " ARIMA(2,0,1)(0,0,0)[0] intercept   : AIC=-191.276, Time=0.25 sec\n",
      " ARIMA(1,0,1)(0,0,0)[0] intercept   : AIC=-191.195, Time=0.23 sec\n",
      " ARIMA(2,0,2)(0,0,0)[0] intercept   : AIC=-190.999, Time=0.66 sec\n",
      " ARIMA(1,0,2)(0,0,0)[0] intercept   : AIC=inf, Time=0.40 sec\n",
      " ARIMA(3,0,2)(0,0,0)[0] intercept   : AIC=-184.730, Time=0.33 sec\n",
      "\n",
      "Best model:  ARIMA(2,0,1)(0,0,0)[0] intercept\n",
      "Total fit time: 3.722 seconds\n"
     ]
    },
    {
     "name": "stderr",
     "output_type": "stream",
     "text": [
      "100%|████████████████████████████████████████████████████████████████████████████████| 114/114 [00:08<00:00, 13.77it/s]\n"
     ]
    },
    {
     "name": "stdout",
     "output_type": "stream",
     "text": [
      "MSE: 0.004465029350644877\n",
      "MAPE: 127.76121069095723\n",
      "ARV: 2.6490315248176977\n",
      "MAE: 0.047768828457479304\n",
      "RMSE: 0.06682087511133686\n",
      "NRMSE: 0.2047460147642245\n",
      "SMAPE: 46.98362178871293\n",
      "\n",
      "###############################################\n",
      "\n",
      "Executing:  DBN\n",
      "d:  1\n",
      "MSE: 0.00584884910921618\n",
      "MAPE: 166.88823195784312\n",
      "ARV: 1.782198318245957\n",
      "MAE: 0.05051200101639433\n",
      "RMSE: 0.07647776872540268\n",
      "NRMSE: 0.23433572724834928\n",
      "SMAPE: 53.99719217532437\n",
      "\n",
      "###############################################\n",
      "\n",
      "Executing:  MLP\n",
      "d:  1\n"
     ]
    },
    {
     "name": "stderr",
     "output_type": "stream",
     "text": [
      "100%|████████████████████████████████████████████████████████████████████████████████████| 9/9 [00:01<00:00,  7.47it/s]\n"
     ]
    },
    {
     "name": "stdout",
     "output_type": "stream",
     "text": [
      "Best params:  {'hidden_layer_sizes': 20, 'max_iter': 1000, 'tol': 0.0001}\n",
      "Best rmse:  0.07867569191898713\n",
      "MSE: 0.0014799438012167883\n",
      "MAPE: 43.951010841363725\n",
      "ARV: 0.46651897357822913\n",
      "MAE: 0.0294362217919573\n",
      "RMSE: 0.03847003770750411\n",
      "NRMSE: 0.11787614118068568\n",
      "SMAPE: 36.75818403851831\n",
      "\n",
      "###############################################\n",
      "\n",
      "Executing:  ELM\n",
      "d:  1\n"
     ]
    },
    {
     "name": "stderr",
     "output_type": "stream",
     "text": [
      "100%|████████████████████████████████████████████████████████████████████████████████████| 5/5 [00:00<00:00,  7.62it/s]\n"
     ]
    },
    {
     "name": "stdout",
     "output_type": "stream",
     "text": [
      "Best params:  {'hidden_dim': 20}\n",
      "Best rmse:  0.08291752841496676\n",
      "MSE: 0.0016201848038707055\n",
      "MAPE: 51.62825753320925\n",
      "ARV: 0.5211849165840442\n",
      "MAE: 0.031645151845437404\n",
      "RMSE: 0.04025151927406847\n",
      "NRMSE: 0.12333478341669699\n",
      "SMAPE: 39.78745350433096\n"
     ]
    },
    {
     "name": "stderr",
     "output_type": "stream",
     "text": [
      "100%|████████████████████████████████████████████████████████████████████████████████| 280/280 [00:03<00:00, 88.48it/s]\n"
     ]
    },
    {
     "name": "stdout",
     "output_type": "stream",
     "text": [
      "Best params:  {'comb': 'median', 'k': 16, 'n': 1}\n",
      "Best rmse:  18.059938909306208\n",
      "MSE: 0.0017616269702650893\n",
      "MAPE: 53.252039487872224\n",
      "ARV: 0.46295284462127057\n",
      "MAE: 0.03250189605461762\n",
      "RMSE: 0.04197174013863482\n",
      "NRMSE: 0.12860571657863748\n",
      "SMAPE: 39.9414535532061\n"
     ]
    }
   ],
   "source": [
    "metric_res = []\n",
    "params_res = []\n",
    "\n",
    "for f in file_names:\n",
    "    print(\"Time Series: \", f)\n",
    "    df = read_file(file_prefix + f + file_suffix)\n",
    "\n",
    "    results = []\n",
    "    m_results = []\n",
    "    for args in models:\n",
    "        run_result = run_model(execution=execution, df=df, train_proportion=train_proportion, val_proportion=val_proportion, plot_curves=plot_curves, max_k = max_k, **args)\n",
    "        results.append(run_result[0])\n",
    "        m_results.append((args['model_name'], run_result[1]))\n",
    "\n",
    "    val_index, test_index = define_split_points(df, train_proportion, val_proportion)\n",
    "    min_max_scaler = preprocessing.MinMaxScaler()\n",
    "    real = df['y'].loc[test_index:].values\n",
    "\n",
    "    if (execution == \"oracle\"):\n",
    "        oracle_pred = oracle(results, real)\n",
    "        calculate_metrics(oracle_pred, real, True, min_max_scaler, df)\n",
    "\n",
    "    else:\n",
    "        parameters = {\n",
    "            'k': list(range(1,max_k +1)),\n",
    "            'n': list(range(1,max_n +1)),\n",
    "            'comb': ['median', 'average'],\n",
    "        }\n",
    "        grid = list(ParameterGrid(parameters))\n",
    "        pred_results = []\n",
    "        for r in results:\n",
    "            temp = pd.DataFrame(data = np.zeros(df['y'].size), columns = ['y'])\n",
    "            temp['y'][val_index - max_k:] = r\n",
    "            pred_results.append(temp)\n",
    "        \n",
    "        best_params = parallel_gridsearch_dsnaw(df, pred_results, val_index, test_index, parameters)\n",
    "        params_res.append((f, best_params))\n",
    "        y_dsnaw = test_dsnaw(best_params, df, pred_results, test_index)\n",
    "        m = calculate_metrics(y_dsnaw, real, True, min_max_scaler, df)\n",
    "        m_results.append((\"Proposed\", m))\n",
    "        metric_res.append((f, m_results))\n",
    "        \n",
    "    "
   ]
  },
  {
   "cell_type": "code",
   "execution_count": 26,
   "id": "456c3240-45f6-46f3-b7fa-18c54ad481c6",
   "metadata": {},
   "outputs": [
    {
     "data": {
      "text/html": [
       "<div>\n",
       "<style scoped>\n",
       "    .dataframe tbody tr th:only-of-type {\n",
       "        vertical-align: middle;\n",
       "    }\n",
       "\n",
       "    .dataframe tbody tr th {\n",
       "        vertical-align: top;\n",
       "    }\n",
       "\n",
       "    .dataframe thead th {\n",
       "        text-align: right;\n",
       "    }\n",
       "</style>\n",
       "<table border=\"1\" class=\"dataframe\">\n",
       "  <thead>\n",
       "    <tr style=\"text-align: right;\">\n",
       "      <th></th>\n",
       "      <th>Time Series</th>\n",
       "      <th>k</th>\n",
       "      <th>n</th>\n",
       "      <th>comb</th>\n",
       "    </tr>\n",
       "  </thead>\n",
       "  <tbody>\n",
       "    <tr>\n",
       "      <th>0</th>\n",
       "      <td>amz</td>\n",
       "      <td>3</td>\n",
       "      <td>6</td>\n",
       "      <td>median</td>\n",
       "    </tr>\n",
       "    <tr>\n",
       "      <th>1</th>\n",
       "      <td>APPLE</td>\n",
       "      <td>2</td>\n",
       "      <td>5</td>\n",
       "      <td>median</td>\n",
       "    </tr>\n",
       "    <tr>\n",
       "      <th>2</th>\n",
       "      <td>electricity</td>\n",
       "      <td>11</td>\n",
       "      <td>6</td>\n",
       "      <td>average</td>\n",
       "    </tr>\n",
       "    <tr>\n",
       "      <th>3</th>\n",
       "      <td>goldman</td>\n",
       "      <td>10</td>\n",
       "      <td>1</td>\n",
       "      <td>median</td>\n",
       "    </tr>\n",
       "    <tr>\n",
       "      <th>4</th>\n",
       "      <td>msft</td>\n",
       "      <td>18</td>\n",
       "      <td>6</td>\n",
       "      <td>average</td>\n",
       "    </tr>\n",
       "    <tr>\n",
       "      <th>5</th>\n",
       "      <td>pollutions</td>\n",
       "      <td>15</td>\n",
       "      <td>4</td>\n",
       "      <td>average</td>\n",
       "    </tr>\n",
       "    <tr>\n",
       "      <th>6</th>\n",
       "      <td>star</td>\n",
       "      <td>13</td>\n",
       "      <td>1</td>\n",
       "      <td>median</td>\n",
       "    </tr>\n",
       "    <tr>\n",
       "      <th>7</th>\n",
       "      <td>sunspot</td>\n",
       "      <td>1</td>\n",
       "      <td>3</td>\n",
       "      <td>median</td>\n",
       "    </tr>\n",
       "    <tr>\n",
       "      <th>8</th>\n",
       "      <td>vehicle</td>\n",
       "      <td>7</td>\n",
       "      <td>2</td>\n",
       "      <td>median</td>\n",
       "    </tr>\n",
       "    <tr>\n",
       "      <th>9</th>\n",
       "      <td>wine</td>\n",
       "      <td>16</td>\n",
       "      <td>1</td>\n",
       "      <td>median</td>\n",
       "    </tr>\n",
       "  </tbody>\n",
       "</table>\n",
       "</div>"
      ],
      "text/plain": [
       "   Time Series   k  n     comb\n",
       "0          amz   3  6   median\n",
       "1        APPLE   2  5   median\n",
       "2  electricity  11  6  average\n",
       "3      goldman  10  1   median\n",
       "4         msft  18  6  average\n",
       "5   pollutions  15  4  average\n",
       "6         star  13  1   median\n",
       "7      sunspot   1  3   median\n",
       "8      vehicle   7  2   median\n",
       "9         wine  16  1   median"
      ]
     },
     "execution_count": 26,
     "metadata": {},
     "output_type": "execute_result"
    }
   ],
   "source": [
    "params_df = pd.DataFrame(columns=['Time Series', 'k', 'n', 'comb'])\n",
    "\n",
    "for f in params_res:\n",
    "    new_row = {'Time Series': f[0]}\n",
    "    for key, value in f[1].items():\n",
    "        new_row[key] = value\n",
    "    new_row = pd.Series(new_row)\n",
    "    params_df = pd.concat([params_df, new_row.to_frame().T], ignore_index=True)\n",
    "    \n",
    "    \n",
    "params_df"
   ]
  },
  {
   "cell_type": "code",
   "execution_count": 27,
   "id": "14aa5fc2-d211-4176-b867-91c4dde0e251",
   "metadata": {
    "tags": []
   },
   "outputs": [
    {
     "name": "stdout",
     "output_type": "stream",
     "text": [
      "   Time Series Metrics      SVR       GB       RF    ARIMA      DBN      MLP  \\\n",
      "0          amz     MSE 1.17E-04 1.22E-04 1.18E-04 1.17E-04 1.17E-04 1.18E-04   \n",
      "1          amz    MAPE 1.47E+01 1.56E+01 1.47E+01 1.47E+01 1.48E+01 1.45E+01   \n",
      "2          amz     ARV 3.30E-02 3.46E-02 3.33E-02 3.29E-02 3.29E-02 3.32E-02   \n",
      "3          amz     MAE 8.40E-03 8.58E-03 8.42E-03 8.42E-03 8.45E-03 8.45E-03   \n",
      "4          amz    RMSE 1.08E-02 1.11E-02 1.09E-02 1.08E-02 1.08E-02 1.09E-02   \n",
      "..         ...     ...      ...      ...      ...      ...      ...      ...   \n",
      "65        wine     ARV 4.45E-01 7.47E-01 1.00E+00 2.65E+00 1.78E+00 4.67E-01   \n",
      "66        wine     MAE 3.45E-02 4.81E-02 4.25E-02 4.78E-02 5.05E-02 2.94E-02   \n",
      "67        wine    RMSE 4.11E-02 6.40E-02 5.87E-02 6.68E-02 7.65E-02 3.85E-02   \n",
      "68        wine   NRMSE 1.26E-01 1.96E-01 1.80E-01 2.05E-01 2.34E-01 1.18E-01   \n",
      "69        wine   SMAPE 4.16E+01 5.14E+01 4.47E+01 4.70E+01 5.40E+01 3.68E+01   \n",
      "\n",
      "        ELM    DSNAW  Proposed   Best  \n",
      "0  1.19E-04 1.24E-04  1.17E-04    SVR  \n",
      "1  1.48E+01 1.53E+01  1.47E+01    MLP  \n",
      "2  3.35E-02 3.49E-02  3.30E-02    DBN  \n",
      "3  8.45E-03 8.71E-03  8.40E-03    SVR  \n",
      "4  1.09E-02 1.12E-02  1.08E-02    SVR  \n",
      "..      ...      ...       ...    ...  \n",
      "65 5.21E-01 2.67E-01  4.63E-01  DSNAW  \n",
      "66 3.16E-02 3.00E-02  3.25E-02    MLP  \n",
      "67 4.03E-02 3.84E-02  4.20E-02  DSNAW  \n",
      "68 1.23E-01 1.18E-01  1.29E-01  DSNAW  \n",
      "69 3.98E+01 4.02E+01  3.99E+01    MLP  \n",
      "\n",
      "[70 rows x 12 columns]\n"
     ]
    }
   ],
   "source": [
    "columns_models = [m['model_name'] for m in models] + ['Proposed']\n",
    "\n",
    "metrics_df = pd.DataFrame(columns=['Time Series', 'Metrics'] + columns_models)\n",
    "\n",
    "metrics_list = list(metric_res[0][1][0][1].keys())\n",
    "\n",
    "for f in metric_res:\n",
    "    f_name = f[0]\n",
    "    rows = {}\n",
    "    for me in metrics_list:\n",
    "        rows[me] = []\n",
    "    for mo in f[1]:\n",
    "        mo_name = mo[0]\n",
    "        for me, value in mo[1].items():\n",
    "            rows[me].append((mo_name, value))\n",
    "    for me, res in rows.items():\n",
    "        new_row = {'Time Series': f_name, 'Metrics': me}\n",
    "        for r in res:\n",
    "            new_row[r[0]] = r[1]\n",
    "        new_row = pd.Series(new_row)\n",
    "        metrics_df = pd.concat([metrics_df, new_row.to_frame().T], ignore_index=True)\n",
    "        \n",
    "        \n",
    "df_dsnaw = pd.read_csv('results/metrics_results_bagging.csv') \n",
    "\n",
    "metrics_df['DSNAW'] = df_dsnaw['DSNAW']\n",
    "\n",
    "columns_models.insert(-1, 'DSNAW')\n",
    "metrics_df = metrics_df[['Time Series', 'Metrics'] + columns_models]\n",
    "metrics_df[columns_models] = metrics_df[columns_models].apply(lambda x: pd.to_numeric(x, errors='coerce'))\n",
    "metrics_df['Best'] = metrics_df[columns_models].idxmin(axis=1)\n",
    "pd.set_option('display.float_format', '{:.2E}'.format)\n",
    "print(metrics_df)"
   ]
  },
  {
   "cell_type": "code",
   "execution_count": 28,
   "id": "5dba2c02-6cc6-490a-9b4e-0a132a9587eb",
   "metadata": {},
   "outputs": [],
   "source": [
    "params_df.to_csv('results/params_results.csv', index=False)\n",
    "metrics_df.to_csv('results/metrics_results.csv', index=False, float_format=\"%.2E\")"
   ]
  },
  {
   "cell_type": "code",
   "execution_count": 29,
   "id": "f8a02eec-f99b-413e-af46-104eb0eff2a1",
   "metadata": {},
   "outputs": [
    {
     "data": {
      "text/plain": [
       "MLP         16\n",
       "DSNAW       16\n",
       "Proposed    12\n",
       "RF           7\n",
       "SVR          6\n",
       "DBN          5\n",
       "ARIMA        5\n",
       "ELM          2\n",
       "GB           1\n",
       "Name: Best, dtype: int64"
      ]
     },
     "execution_count": 29,
     "metadata": {},
     "output_type": "execute_result"
    }
   ],
   "source": [
    "metrics_df['Best'].value_counts()"
   ]
  },
  {
   "cell_type": "code",
   "execution_count": 30,
   "id": "e4179863-9a3d-4b36-9e10-bf73582b14f9",
   "metadata": {},
   "outputs": [
    {
     "data": {
      "text/plain": [
       "DSNAW             61\n",
       "DSNAW_ORIGINAL     9\n",
       "Name: Best, dtype: int64"
      ]
     },
     "execution_count": 30,
     "metadata": {},
     "output_type": "execute_result"
    }
   ],
   "source": [
    "dsnaw_original = [1.30E-4, 22.40, 3.93E-2, 8.94E-3, 1.14E-2, 4.61E-2, 13.80,\n",
    "        1.90E-2, 245.72, 2.25, 8.02E-2, 1.38E-1, 3.21E-1, 42.15, \n",
    "         3.74E-3,6.933, 2.67E-1, 5.18E-2, 6.11E-2, 1.35E-1, 7.25,\n",
    "         4.06E-4, 9.52, 2.64E-2, 1.53E-2, 2.01E-2, 4.71E-2, 9.44,\n",
    "         1.99E-3, 5.03, 1.28E-1, 3.41E-2, 4.46E-2, 9.51E-2, 5.08,\n",
    "         4.47E-2, 32.26, 1.78, 1.74E-1, 2.11E-1, 4.18E-1, 37.43,\n",
    "         6.77E-5, 2.99, 1.07E-3, 6.08E-3, 8.23E-3, 8.31E-3, 3.77,\n",
    "         3.31E-2, 62.44, 9.55E-1, 1.14E-1, 1.82E-1, 1.84E-1, 46.31,\n",
    "         1.81E-2, 15.39, 1.45, 1.09E-1, 1.34E-1, 2.30E-1, 15.14,\n",
    "         2.94E-3, 135.02, 1.39, 3.54E-2, 5.43E-2, 2.40E-1, 43.84\n",
    "        ]\n",
    "df_dsnaw_2 = pd.DataFrame()\n",
    "df_dsnaw_2['Time Series'] = metrics_df['Time Series']\n",
    "df_dsnaw_2['Metrics'] = metrics_df['Metrics']\n",
    "df_dsnaw_2['DSNAW_ORIGINAL'] = dsnaw_original\n",
    "df_dsnaw_2['DSNAW'] = metrics_df['DSNAW']\n",
    "\n",
    "col = ['DSNAW', 'DSNAW_ORIGINAL']\n",
    "\n",
    "df_dsnaw_2[col] = df_dsnaw_2[col].apply(lambda x: pd.to_numeric(x, errors='coerce'))\n",
    "df_dsnaw_2['Best'] = df_dsnaw_2[col].idxmin(axis=1)\n",
    "df_dsnaw_2['Best'].value_counts()"
   ]
  },
  {
   "cell_type": "code",
   "execution_count": 31,
   "id": "d540f67d-e15f-49d4-b102-e6e16ccf5177",
   "metadata": {},
   "outputs": [
    {
     "data": {
      "text/plain": [
       "Proposed    46\n",
       "DSNAW       24\n",
       "Name: Best, dtype: int64"
      ]
     },
     "execution_count": 31,
     "metadata": {},
     "output_type": "execute_result"
    }
   ],
   "source": [
    "df_direct = pd.DataFrame()\n",
    "df_direct[['Time Series', 'Metrics', 'DSNAW', 'Proposed']] = metrics_df[['Time Series', 'Metrics', 'DSNAW', 'Proposed']]\n",
    "col = ['DSNAW', 'Proposed']\n",
    "df_direct[col] = df_direct[col].apply(lambda x: pd.to_numeric(x, errors='coerce'))\n",
    "df_direct['Best'] = df_direct[col].idxmin(axis=1)\n",
    "df_direct['Best'].value_counts()"
   ]
  },
  {
   "cell_type": "code",
   "execution_count": 32,
   "id": "e91d5350-a6b0-4604-b3df-a41a81304a9e",
   "metadata": {},
   "outputs": [],
   "source": [
    "df_direct.to_csv('results/direct_comparison.csv', index=False, float_format=\"%.2E\")"
   ]
  },
  {
   "cell_type": "code",
   "execution_count": null,
   "id": "b82e3ce2-4d91-45b6-bb02-27577b414897",
   "metadata": {},
   "outputs": [],
   "source": []
  }
 ],
 "metadata": {
  "kernelspec": {
   "display_name": "Python 3 (ipykernel)",
   "language": "python",
   "name": "python3"
  },
  "language_info": {
   "codemirror_mode": {
    "name": "ipython",
    "version": 3
   },
   "file_extension": ".py",
   "mimetype": "text/x-python",
   "name": "python",
   "nbconvert_exporter": "python",
   "pygments_lexer": "ipython3",
   "version": "3.9.6"
  }
 },
 "nbformat": 4,
 "nbformat_minor": 5
}
