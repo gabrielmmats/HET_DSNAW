{
 "cells": [
  {
   "cell_type": "code",
   "execution_count": 1,
   "id": "4962375d-351d-4b4b-b3e1-6c4ba7fbc2da",
   "metadata": {},
   "outputs": [],
   "source": [
    "import numpy as np\n",
    "import pandas as pd\n",
    "import pickle as pkl\n",
    "import sklearn.metrics as metrics\n",
    "from dm_test.dm_test import dm_test as dm"
   ]
  },
  {
   "cell_type": "code",
   "execution_count": 2,
   "id": "8c5f3145-e9b5-4a72-bf6a-fde3feae90ce",
   "metadata": {},
   "outputs": [],
   "source": [
    "with open('results_pkl/proposed_dynamic_n.pkl', 'rb') as handle:\n",
    "    dict_results_dyn = pkl.load(handle)\n",
    "    \n",
    "with open('results_pkl/proposed.pkl', 'rb') as handle:\n",
    "    dict_results = pkl.load(handle)\n",
    "\n",
    "\n",
    "value_res = dict_results['value']\n",
    "value_res_dyn = dict_results_dyn['value']"
   ]
  },
  {
   "cell_type": "code",
   "execution_count": 3,
   "id": "6663649c-6c54-4d81-a927-56a4b4cd71dd",
   "metadata": {},
   "outputs": [],
   "source": [
    "def get_percentage_difference(base, proposed):\n",
    "    return ((base-proposed)/base)*100\n",
    "\n",
    "model_columns = [\"Static\"]\n",
    "df_percentage_mse = pd.DataFrame(columns = [\"Time Series\"] + model_columns)\n",
    "\n",
    "\n",
    "for file_name, file_res in value_res.items():\n",
    "    new_row = {'Time Series': file_name}\n",
    "    real = file_res['Real']\n",
    "    proposed_static = file_res['Proposed']\n",
    "    mse_proposed_static = metrics.mean_squared_error(real, proposed_static)    \n",
    "    proposed_dynamic = value_res_dyn[file_name]['Proposed']\n",
    "    mse_proposed_dynamic = metrics.mean_squared_error(real, proposed_dynamic)   \n",
    "    new_row['Static'] = get_percentage_difference(mse_proposed_static, mse_proposed_dynamic)\n",
    "    new_row = pd.Series(new_row)\n",
    "    df_percentage_mse = pd.concat([df_percentage_mse, new_row.to_frame().T], ignore_index=True)\n",
    "    \n",
    "        \n",
    "df_percentage_mse[model_columns] = df_percentage_mse[model_columns].apply(lambda x: pd.to_numeric(x, errors='coerce'))\n",
    "df_percentage_mse.loc['Average'] = df_percentage_mse.mean(numeric_only=True)\n",
    "df_percentage_mse.to_csv('results/dynamic/percentage_difference_mse.csv', index=False, float_format=\"%.2f\")"
   ]
  }
 ],
 "metadata": {
  "kernelspec": {
   "display_name": "Python 3 (ipykernel)",
   "language": "python",
   "name": "python3"
  },
  "language_info": {
   "codemirror_mode": {
    "name": "ipython",
    "version": 3
   },
   "file_extension": ".py",
   "mimetype": "text/x-python",
   "name": "python",
   "nbconvert_exporter": "python",
   "pygments_lexer": "ipython3",
   "version": "3.9.6"
  }
 },
 "nbformat": 4,
 "nbformat_minor": 5
}
