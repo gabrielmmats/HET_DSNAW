{
 "cells": [
  {
   "cell_type": "code",
   "execution_count": 35,
   "id": "d70ebf36-7a1f-4fc6-b9d4-982bc7304fd3",
   "metadata": {},
   "outputs": [],
   "source": [
    "import numpy as np\n",
    "import pandas as pd\n",
    "from tqdm import tqdm\n",
    "from functools import partial\n",
    "import pickle as pkl\n",
    "import parallel\n",
    "import matplotlib.pyplot as plt\n",
    "from dbn.models import SupervisedDBNRegression\n",
    "from elm.elm import Model as elm\n",
    "from sklearn.svm import SVR\n",
    "from sklearn.ensemble import GradientBoostingRegressor\n",
    "from sklearn.ensemble import RandomForestRegressor\n",
    "from sklearn.neural_network import MLPRegressor\n",
    "from sklearn.base import clone\n",
    "from sklearn.utils._testing import ignore_warnings\n",
    "from sklearn.exceptions import ConvergenceWarning\n",
    "from sklearn.model_selection import ParameterGrid\n",
    "import sklearn.metrics as metrics\n",
    "from sklearn import preprocessing\n",
    "from statsmodels.tsa.stattools import adfuller\n",
    "from multiprocessing import Pool\n",
    "from statsmodels.tsa.arima_model import ARIMA\n",
    "import pmdarima as pm\n",
    "from dm_test.dm_test import dm_test as dm"
   ]
  },
  {
   "cell_type": "code",
   "execution_count": 2,
   "id": "c50d7981-800c-42f9-9f28-2406911efcbf",
   "metadata": {},
   "outputs": [],
   "source": [
    "file_names = [\"amz\", \"APPLE\", \"electricity\", \"goldman\", \"msft\", \"pollutions\", \"star\", \"sunspot\", \"vehicle\", \"wine\"]\n",
    "file_prefix = \"dataset/\"\n",
    "file_suffix = \".txt\"\n",
    "models = [\n",
    "          {'model_name': \"SVR\", 'windows': True, 'lags': 20, 'normalize_before_metrics': True, 'differencing_order': 'ADF', 'level': '5%', 'p_level': 0.05},\n",
    "          {'model_name': \"GB\", 'windows': True, 'lags': 20, 'normalize_before_metrics': True, 'differencing_order': 'ADF', 'level': '5%', 'p_level': 0.05},\n",
    "          {'model_name': \"RF\", 'windows': True, 'lags': 20, 'normalize_before_metrics': True, 'differencing_order': 'ADF', 'level': '5%', 'p_level': 0.05},\n",
    "          {'model_name': \"ARIMA\", 'windows': False, 'lags': 20, 'normalize_before_metrics': True, 'differencing_order': 'ADF', 'level': '5%', 'p_level': 0.05},\n",
    "          {'model_name': \"DBN\", 'windows': True, 'lags': 20, 'normalize_before_metrics': True, 'differencing_order': 'ADF', 'level': '5%', 'p_level': 0.05},\n",
    "          {'model_name': \"MLP\", 'windows': True, 'lags': 20, 'normalize_before_metrics': True, 'differencing_order': 'ADF', 'level': '5%', 'p_level': 0.05},\n",
    "          {'model_name': \"ELM\", 'windows': True, 'lags': 20, 'normalize_before_metrics': True, 'differencing_order': 'ADF', 'level': '5%', 'p_level': 0.05},\n",
    "         ]\n",
    "\n",
    "#156\n",
    "random_seed = 431\n",
    "\n",
    "execution = \"dsnaw\" # \"oracle\" or \"dsnaw\"\n",
    "plot_curves = False\n",
    "train_proportion = 1/2\n",
    "val_proportion = 1/4\n",
    "max_k = 20\n",
    "max_n = len(models)"
   ]
  },
  {
   "cell_type": "code",
   "execution_count": 3,
   "id": "1163a523-71f1-471d-bee0-d5bf102fc875",
   "metadata": {},
   "outputs": [],
   "source": [
    "#read files\n",
    "def read_file(path):\n",
    "    array_ts = np.loadtxt(path)\n",
    "    df = pd.DataFrame(data = array_ts, columns = ['y'])\n",
    "    return df"
   ]
  },
  {
   "cell_type": "code",
   "execution_count": 4,
   "id": "0adb11be-a3f9-4917-bd78-d714d43378be",
   "metadata": {},
   "outputs": [],
   "source": [
    "#define split points\n",
    "\n",
    "def define_split_points(df, train, val):\n",
    "    val_index = int(df.shape[0]*train)\n",
    "    test_index = int(df.shape[0]*(train+val))\n",
    "\n",
    "    # fig, ax=plt.subplots(figsize=(9, 4))\n",
    "    # df['y'].loc[:val_index-1].plot(ax=ax, label = 'train')\n",
    "    # df['y'].loc[val_index:test_index-1].plot(ax=ax, label = 'validation')\n",
    "    # df['y'].loc[test_index:].plot(ax=ax, label = 'test')\n",
    "    # ax.legend()\n",
    "    \n",
    "    return val_index, test_index\n"
   ]
  },
  {
   "cell_type": "code",
   "execution_count": 5,
   "id": "7e08b8bd-b936-444c-8567-ee3ab4c17c9e",
   "metadata": {},
   "outputs": [],
   "source": [
    "#difference time series\n",
    "\n",
    "def check_ADF(ts, lvl, p_lvl):\n",
    "    result = adfuller(ts)\n",
    "    return result[0] < result[4][lvl] and result[1] < p_lvl\n",
    "\n",
    "def difference(df, differencing_order, level, p_level):\n",
    "\n",
    "    df_differenced = None\n",
    "    if differencing_order:    \n",
    "        df_differenced = df.copy()\n",
    "\n",
    "        if differencing_order == 'ADF':\n",
    "            stationary = check_ADF(df_differenced['y'].values, level, p_level)\n",
    "            d = 0\n",
    "            while not stationary:\n",
    "                df_differenced = df_differenced.diff().dropna()\n",
    "                d += 1\n",
    "                stationary = check_ADF(df_differenced['y'].values, level, p_level)\n",
    "            if d == 0:\n",
    "                df_differenced = None\n",
    "            differencing_order = d\n",
    "        else:\n",
    "            i = 0\n",
    "            while i < differencing_order:\n",
    "                df_differenced = df_differenced.diff().dropna()\n",
    "                i+=1\n",
    "                \n",
    "    print(\"d: \", differencing_order)\n",
    "    # if differencing_order:\n",
    "    #     fig, ax=plt.subplots(figsize=(9, 4))\n",
    "    #     df_differenced.y.plot(ax = ax)\n",
    "        \n",
    "    return df_differenced, differencing_order\n"
   ]
  },
  {
   "cell_type": "code",
   "execution_count": 6,
   "id": "3a7b31b5-b50d-4a72-b52d-4439d7a1999a",
   "metadata": {},
   "outputs": [],
   "source": [
    "#normalize time series\n",
    "\n",
    "def normalize(df, val_index, d):\n",
    "    min_max_scaler = preprocessing.MinMaxScaler()\n",
    "    min_max_scaler.fit(df['y'].loc[:val_index-1].values.reshape(-1,1))\n",
    "    df_normalized = pd.DataFrame({'y': np.append(np.zeros(d),min_max_scaler.transform(df['y'].values.reshape(-1, 1)).flatten())}).iloc[d:]\n",
    "    \n",
    "    return df_normalized, min_max_scaler\n"
   ]
  },
  {
   "cell_type": "code",
   "execution_count": 7,
   "id": "93b32bff-2b57-4892-9b29-72df0041822c",
   "metadata": {},
   "outputs": [],
   "source": [
    "#create windows\n",
    "\n",
    "def create_windows(df, lags):\n",
    "    df_windowed = df.copy()\n",
    "    df_windowed['x'] = df_windowed['y'].shift()\n",
    "    for i in range(1, lags):\n",
    "        df_windowed[f'x-{i}'] = df_windowed['x'].shift(i)\n",
    "    df_windowed = df_windowed.dropna()\n",
    "    return df_windowed"
   ]
  },
  {
   "cell_type": "code",
   "execution_count": 8,
   "id": "19bbf07b-bb72-4460-b336-a6f60f16f13f",
   "metadata": {},
   "outputs": [],
   "source": [
    "#gridsearch\n",
    "\n",
    "def parallel_gridsearch(estimator, param_grid, x_train, y_train, x_val, y_val):\n",
    "    pool = Pool()\n",
    "    list_params = list(ParameterGrid(param_grid))\n",
    "    results = list(tqdm(pool.imap(partial(parallel.validate_params, estimator=estimator, x_train=x_train, \n",
    "                               y_train=y_train, x_val=x_val, y_val=y_val), list_params), total=len(list_params)))\n",
    "    idx = np.argmin([r[1] for r in results])\n",
    "    best_params = results[idx][0]\n",
    "    best_rmse = results[idx][1]\n",
    "    \n",
    "    pool.close()\n",
    "    pool.join()\n",
    "    print('Best params: ', best_params)\n",
    "    print('Best rmse: ', best_rmse)\n",
    "    return best_params\n",
    "    "
   ]
  },
  {
   "cell_type": "code",
   "execution_count": 9,
   "id": "96b98610-d9d3-43cc-96a2-b57da9ee947b",
   "metadata": {},
   "outputs": [],
   "source": [
    "#SVR\n",
    "\n",
    "def svr_model(lags):\n",
    "    parameters = {'C':[1, 10, 100, 1000], 'gamma': [0.001, 0.01, 0.1, 1],\n",
    "                      'kernel':[\"rbf\"],\n",
    "                      'epsilon': [0.1, 0.01, 0.001, 0.0001, 0.00001],\n",
    "                 }\n",
    "\n",
    "    model = SVR(max_iter = 10000)\n",
    "\n",
    "    return model, parameters"
   ]
  },
  {
   "cell_type": "code",
   "execution_count": 10,
   "id": "4cc807a2-50b7-4cce-9425-f141c7d4894d",
   "metadata": {},
   "outputs": [],
   "source": [
    "#Gradient Boosting\n",
    "\n",
    "def gb_model(lags):\n",
    "    parameters = {'n_estimators': [50, 100, 200], \n",
    "                  'max_depth': [5, 10, 15],\n",
    "                  'max_features': [0.6, 0.8, 1],\n",
    "                  'subsample' : [0.6, 0.8, 1],\n",
    "                  'learning_rate': [0.1, 0.3, 0.5],\n",
    "                 }\n",
    "    \n",
    "    model = GradientBoostingRegressor(random_state=random_seed)\n",
    "\n",
    "    return model, parameters"
   ]
  },
  {
   "cell_type": "code",
   "execution_count": 11,
   "id": "cc7d4a98-ed7c-4580-8a39-5de35170d040",
   "metadata": {},
   "outputs": [],
   "source": [
    "#Random Forest\n",
    "\n",
    "def rf_model(lags):\n",
    "    parameters = {'n_estimators': [50, 100, 200], \n",
    "                  'max_depth': [5, 10, 15],\n",
    "                  'max_features': [0.6, 0.8, 1],\n",
    "                 }\n",
    "    \n",
    "    model = RandomForestRegressor(random_state=random_seed)\n",
    "\n",
    "    return model, parameters"
   ]
  },
  {
   "cell_type": "code",
   "execution_count": 12,
   "id": "bdd044f8-9f56-49a1-8180-39b6cda1d36b",
   "metadata": {},
   "outputs": [],
   "source": [
    "#MLP\n",
    "\n",
    "def mlp_model(lags):\n",
    "    parameters = {'hidden_layer_sizes': [20, 50, 100], \n",
    "                      'max_iter': [1000],\n",
    "                      'tol': [0.001, 0.0001, 0.00001],\n",
    "                 }\n",
    "    \n",
    "    model = MLPRegressor(activation='logistic', solver='lbfgs', random_state=random_seed)\n",
    "    \n",
    "    return model, parameters"
   ]
  },
  {
   "cell_type": "code",
   "execution_count": 13,
   "id": "8df571af-0c47-4bfb-985e-5ca3f026106d",
   "metadata": {},
   "outputs": [],
   "source": [
    "#ELM\n",
    "\n",
    "def elm_model(lags):\n",
    "    parameters = {'hidden_dim': [20, 50, 100, 200, 500],  \n",
    "                 }\n",
    "    \n",
    "    model = elm(input_dim=lags)\n",
    "    \n",
    "    return model, parameters"
   ]
  },
  {
   "cell_type": "code",
   "execution_count": 14,
   "id": "d089bea0-20db-4176-ab84-e075fca15742",
   "metadata": {},
   "outputs": [],
   "source": [
    "#Deep Belief Network\n",
    "\n",
    "def dbn_model(lags):\n",
    "    \n",
    "    model = SupervisedDBNRegression(hidden_layers_structure=[100],\n",
    "                                    learning_rate_rbm=0.01,\n",
    "                                    learning_rate=0.01,\n",
    "                                    n_epochs_rbm=20,\n",
    "                                    n_iter_backprop=200,\n",
    "                                    batch_size=16,\n",
    "                                    activation_function='relu',\n",
    "                                    verbose=False)\n",
    "\n",
    "    return model"
   ]
  },
  {
   "cell_type": "code",
   "execution_count": 15,
   "id": "b3b55ea8-811f-49fe-89fa-9955b17be746",
   "metadata": {},
   "outputs": [],
   "source": [
    "models_name = {\n",
    "    'SVR': svr_model, \n",
    "    'GB': gb_model,\n",
    "    'RF': rf_model,\n",
    "    'DBN': dbn_model,\n",
    "    'MLP': mlp_model,\n",
    "    'ELM': elm_model,\n",
    "         }"
   ]
  },
  {
   "cell_type": "code",
   "execution_count": 16,
   "id": "6816fbd7-8839-4666-9a83-828e9cfabada",
   "metadata": {},
   "outputs": [],
   "source": [
    "#train model\n",
    "@ignore_warnings(category=ConvergenceWarning)\n",
    "def train_model(model_name, df, val_index, test_index, lags):\n",
    "\n",
    "    if model_name == \"ARIMA\":\n",
    "        \n",
    "        model = pm.auto_arima(df['y'].loc[:test_index-1],\n",
    "                          test='adf',       \n",
    "                          max_p=lags, max_q=lags,        \n",
    "                          seasonal=False,   \n",
    "                          trace=True,\n",
    "                          error_action='ignore',  \n",
    "                          suppress_warnings=True, \n",
    "                          stepwise=True)\n",
    "        best_params=model.get_params()\n",
    "        \n",
    "    elif model_name == \"DBN\":\n",
    "        \n",
    "        model = dbn_model(lags)\n",
    "        \n",
    "        x_train = df.drop(columns = ['y']).loc[:test_index-1].values\n",
    "        y_train = df['y'].loc[:test_index-1].values\n",
    "        \n",
    "        model.fit(x_train, y_train)\n",
    "        best_params={}\n",
    "        \n",
    "    else:\n",
    "        \n",
    "        model, param_grid = models_name[model_name](lags)\n",
    "\n",
    "        x_train = df.drop(columns = ['y']).loc[:val_index-1].values\n",
    "        y_train = df['y'].loc[:val_index-1].values\n",
    "        x_val = df.drop(columns = ['y']).loc[val_index:test_index-1].values\n",
    "        y_val = df['y'].loc[val_index:test_index-1].values\n",
    "        \n",
    "        \n",
    "        best_params = parallel_gridsearch(model, param_grid, \n",
    "                                    x_train, y_train,\n",
    "                                    x_val, y_val)\n",
    "\n",
    "        model.set_params(**best_params)\n",
    "        model.fit(x_train, y_train)\n",
    "\n",
    "        \n",
    "    \n",
    "    return model, best_params"
   ]
  },
  {
   "cell_type": "code",
   "execution_count": 17,
   "id": "bd4d511f-ca06-4d18-934e-3d06e3e4cc13",
   "metadata": {
    "tags": []
   },
   "outputs": [],
   "source": [
    "#test model\n",
    "\n",
    "def test_model(model, model_name, df, test_index, scaler):\n",
    "    if model_name != \"ARIMA\":\n",
    "        y_test = df['y'].loc[test_index:].values\n",
    "        x_test = df.drop(columns = ['y']).loc[test_index:].values\n",
    "\n",
    "        y_pred = model.predict(x_test)\n",
    "\n",
    "    else:\n",
    "        y_test = df['y'].loc[test_index:].values\n",
    "        y_pred = np.zeros(y_test.size)\n",
    "        for i in tqdm(range(y_pred.size)):\n",
    "            y_pred[i] = model.predict(n_periods = 1)\n",
    "            model.update([y_test[i]])\n",
    "\n",
    "    y_pred = scaler.inverse_transform(y_pred.reshape(-1, 1)).flatten()\n",
    "    y_test = scaler.inverse_transform(y_test.reshape(-1, 1)).flatten()\n",
    "\n",
    "    return y_pred, y_test"
   ]
  },
  {
   "cell_type": "code",
   "execution_count": 18,
   "id": "78ff7ece-000f-4085-8c18-817eb7a6134b",
   "metadata": {
    "tags": []
   },
   "outputs": [],
   "source": [
    "def recursive_differencing_coefficients(order):\n",
    "    if order <= 1:\n",
    "        return np.array([1, -1])\n",
    "    else:\n",
    "        prev_coefficients = recursive_differencing_coefficients(order-1)\n",
    "        coefficients = np.zeros(order+1)\n",
    "        coefficients[0] = prev_coefficients[0]\n",
    "        coefficients[-1] = -prev_coefficients[-1]\n",
    "        for i in range(1, order):\n",
    "            coefficients[i] = prev_coefficients[i] - prev_coefficients[i-1]\n",
    "        return coefficients   \n",
    "\n",
    "def inverse_difference(differencing_order, df, df_diff, test_index, y_pred):\n",
    "    df_pred = df.copy()\n",
    "    \n",
    "    for i in range(1, differencing_order + 1):\n",
    "        df_pred[f'y-{i}'] = df_pred['y'].shift(i)\n",
    "    \n",
    "    df_pred['y_diff'] = df_diff['y']\n",
    "    df_pred['y_diff'][test_index:] = y_pred\n",
    "    \n",
    "    df_pred.fillna(0, inplace=True)\n",
    "    \n",
    "    coefficients = recursive_differencing_coefficients(differencing_order)\n",
    "    df_pred['y_pred'] = df_pred['y_diff']\n",
    "    for i in range(1, differencing_order + 1):\n",
    "        df_pred['y_pred'] = df_pred['y_pred'] - coefficients[i]*df_pred[f'y-{i}']\n",
    "        \n",
    "    y_pred = df_pred['y_pred'][test_index:].values    \n",
    "    y_test = df_pred['y'][test_index:].values\n",
    "    \n",
    "    return y_pred, y_test\n"
   ]
  },
  {
   "cell_type": "code",
   "execution_count": 19,
   "id": "142e93db-40fc-4d84-88d3-090af92f5668",
   "metadata": {
    "tags": []
   },
   "outputs": [],
   "source": [
    "#plot results\n",
    "def plot_results(y_pred, y_test):\n",
    "    fig, ax=plt.subplots(figsize=(9, 4))\n",
    "    plt.plot(y_pred, label = 'predicted')\n",
    "    plt.plot(y_test, label = 'real')\n",
    "    ax.legend()\n",
    "    plt.show()"
   ]
  },
  {
   "cell_type": "code",
   "execution_count": 20,
   "id": "ff133909-af3c-4e6d-a8b3-08abf2962289",
   "metadata": {},
   "outputs": [],
   "source": [
    "def oracle(preds, real):\n",
    "    best_pred = np.zeros(real.size)\n",
    "    for i in range(real.size):\n",
    "        candidates = np.array([p[i] for p in preds])\n",
    "        idx = np.argmin(np.absolute(candidates - real[i]))\n",
    "        best_pred[i] = candidates[idx]\n",
    "    return best_pred"
   ]
  },
  {
   "cell_type": "code",
   "execution_count": 21,
   "id": "89830e38-9dc7-43da-ad2b-4969f00da99e",
   "metadata": {},
   "outputs": [],
   "source": [
    "#calculate metrics\n",
    "\n",
    "def mean_absolute_percentage_error(y_true, y_pred):\n",
    "    y_true = np.asarray(y_true).reshape(-1)\n",
    "    y_pred = np.asarray(y_pred).reshape(-1)\n",
    "\n",
    "    posi_with_zeros = np.where(y_true == 0)[0]\n",
    "\n",
    "    y_true = [n for k, n in enumerate(y_true) if k not in posi_with_zeros]\n",
    "    y_pred = [n for k, n in enumerate(y_pred) if k not in posi_with_zeros]\n",
    "    \n",
    "    y_true = np.asarray(y_true).reshape(-1)\n",
    "    y_pred = np.asarray(y_pred).reshape(-1)\n",
    "    return np.mean(np.abs((y_true - y_pred) / y_true)) * 100\n",
    "\n",
    "def mean_absolute_percentage_error(y_true, y_pred):\n",
    "    y_true = np.asarray(y_true).reshape(-1)\n",
    "    y_pred = np.asarray(y_pred).reshape(-1)\n",
    "\n",
    "    posi_with_zeros = np.where(y_true == 0)[0]\n",
    "\n",
    "    y_true = [n for k, n in enumerate(y_true) if k not in posi_with_zeros]\n",
    "    y_pred = [n for k, n in enumerate(y_pred) if k not in posi_with_zeros]\n",
    "    \n",
    "    y_true = np.asarray(y_true).reshape(-1)\n",
    "    y_pred = np.asarray(y_pred).reshape(-1)\n",
    "    return np.mean(np.abs((y_true - y_pred) / y_true)) * 100\n",
    "\n",
    "\n",
    "def symmetric_mean_absolute_percentage_error(y_true, y_pred):\n",
    "    y_true = np.asarray(y_true).reshape(-1)\n",
    "    y_pred = np.asarray(y_pred).reshape(-1)\n",
    "\n",
    "    posi_with_zeros = np.where((np.abs(y_true)+np.abs(y_pred))/2 == 0 )[0]\n",
    "\n",
    "    y_true = [n for k, n in enumerate(y_true) if k not in posi_with_zeros]\n",
    "    y_pred = [n for k, n in enumerate(y_pred) if k not in posi_with_zeros]\n",
    "    \n",
    "    y_true = np.asarray(y_true).reshape(-1)\n",
    "    y_pred = np.asarray(y_pred).reshape(-1)\n",
    "    return np.mean(np.abs(y_true - y_pred) / ((np.abs(y_true)+np.abs(y_pred))/2)) * 100\n",
    "\n",
    "\n",
    "def mean_absolute_error(y_true, y_pred):\n",
    "    \n",
    "    y_true = np.asarray(y_true).reshape(-1)\n",
    "    y_pred = np.asarray(y_pred).reshape(-1)\n",
    "\n",
    "    return np.mean(np.abs(y_true - y_pred))\n",
    "\n",
    "def average_relative_variance(y_true, y_pred):\n",
    "    y_true = np.asarray(y_true).reshape(-1)\n",
    "    y_pred = np.asarray(y_pred).reshape(-1)\n",
    "    mean = np.mean(y_true)\n",
    "\n",
    "    error_sup = np.square(np.subtract(y_true, y_pred)).sum()\n",
    "    error_inf = np.square(np.subtract(y_pred, mean)).sum()\n",
    "\n",
    "    return error_sup / error_inf\n",
    "\n",
    "def calculate_metrics(y_pred, y_test, normalize_before_metrics, scaler, df):\n",
    "    if normalize_before_metrics:\n",
    "        scaler.fit(df['y'].values.reshape(-1,1))\n",
    "        y_pred = scaler.transform(y_pred.reshape(-1, 1)).flatten()\n",
    "        y_test = scaler.transform(y_test.reshape(-1, 1)).flatten()\n",
    "\n",
    "    mse = metrics.mean_squared_error(y_test, y_pred)\n",
    "    rmse = np.sqrt(mse)\n",
    "    nrmse = rmse/(y_test.max()-y_test.min())\n",
    "    mape = mean_absolute_percentage_error(y_test, y_pred)\n",
    "    smape = symmetric_mean_absolute_percentage_error(y_test, y_pred)\n",
    "    arv = average_relative_variance(y_test, y_pred)\n",
    "    mae = mean_absolute_error(y_test, y_pred)\n",
    "    \n",
    "    res = {'MSE': mse, 'MAPE': mape, 'ARV': arv, 'MAE': mae, 'RMSE': rmse, 'NRMSE': nrmse, 'SMAPE': smape}\n",
    "    \n",
    "    # for key, value in res.items():\n",
    "    #     print(f'{key}: {value}')\n",
    "    \n",
    "    return res"
   ]
  },
  {
   "cell_type": "code",
   "execution_count": 22,
   "id": "05e8b125-721a-460f-8c30-1bd2088ae559",
   "metadata": {},
   "outputs": [],
   "source": [
    "#gridsearch\n",
    "\n",
    "def parallel_gridsearch_dsnaw(df, pred_results, val_index, test_index, param_grid):\n",
    "    pool = Pool()\n",
    "    list_params = list(ParameterGrid(param_grid))\n",
    "    results = list(tqdm(pool.imap(partial(parallel.validate_ds_params, df=df, pred_results=pred_results, val_index=val_index, test_index=test_index), list_params), total=len(list_params)))\n",
    "    idx = np.argmin([r[1] for r in results])\n",
    "    \n",
    "    best_params = results[idx][0]\n",
    "    best_rmse = results[idx][1]\n",
    "    \n",
    "    pool.close()\n",
    "    pool.join()\n",
    "    \n",
    "    print('Best params: ', best_params)\n",
    "    print('Best rmse: ', best_rmse)\n",
    "    return best_params"
   ]
  },
  {
   "cell_type": "code",
   "execution_count": 23,
   "id": "6485de5b-93e2-40b8-afb6-5d3e7eeba5b3",
   "metadata": {
    "tags": []
   },
   "outputs": [],
   "source": [
    "def run_model(execution, df, model_name, train_proportion, val_proportion, windows, lags, max_k, plot_curves, normalize_before_metrics, differencing_order, level, p_level):\n",
    "    print(\"\\n###############################################\\n\")\n",
    "    print(\"Executing: \", model_name)\n",
    "    val_index, test_index = define_split_points(df, train_proportion, val_proportion)\n",
    "    d = 0\n",
    "    if differencing_order:\n",
    "        df_differenced, d = difference(df, differencing_order, level, p_level)\n",
    "    if(d):\n",
    "        df_normalized, min_max_scaler = normalize(df_differenced, val_index, d)\n",
    "    else:\n",
    "        df_normalized, min_max_scaler = normalize(df, val_index, d)\n",
    "    \n",
    "    if(windows):\n",
    "        df_normalized = create_windows(df_normalized, lags)        \n",
    "\n",
    "    estimator, params = train_model(model_name, df_normalized, val_index, test_index, lags)\n",
    "    if(execution == \"dsnaw\"):\n",
    "        result_index = val_index - max_k\n",
    "    else:\n",
    "        result_index = test_index\n",
    "    y_pred, y_test = test_model(estimator, model_name, df_normalized, result_index, min_max_scaler)\n",
    "    if d:\n",
    "        y_pred, y_test = inverse_difference(d, df, df_differenced, result_index, y_pred)        \n",
    "    if(execution == \"dsnaw\"):\n",
    "        if plot_curves:\n",
    "            plot_results(y_pred[(test_index-result_index):], y_test[(test_index-result_index):])\n",
    "        m = calculate_metrics(y_pred[(test_index-result_index):], y_test[(test_index-result_index):], normalize_before_metrics, min_max_scaler, df)\n",
    "    else:\n",
    "        if plot_curves:\n",
    "            plot_results(y_pred, y_test)\n",
    "        m = calculate_metrics(y_pred, y_test, normalize_before_metrics, min_max_scaler, df)\n",
    "    return y_pred, m"
   ]
  },
  {
   "cell_type": "code",
   "execution_count": 24,
   "id": "e51eb454-65e4-475a-a67a-696774074f67",
   "metadata": {},
   "outputs": [],
   "source": [
    "def test_dsnaw(params, df, pred_results, test_index):\n",
    "    k = params['k']\n",
    "    n = params['n']\n",
    "    comb = params['comb']    \n",
    "    \n",
    "    y_dsnaw = np.zeros(df['y'].size-test_index)\n",
    "    for i in range(test_index, df['y'].size):\n",
    "        rmse_roc = []\n",
    "        real_roc = df['y'].loc[i-k:i-1].values\n",
    "        for j in range(0, len(pred_results)):      \n",
    "            pred_roc = pred_results[j]['y'].loc[i-k:i-1].values\n",
    "            rmse_roc.append((j, np.sqrt(metrics.mean_squared_error(pred_roc, real_roc))))\n",
    "        sorted_rmse_roc = sorted(rmse_roc, key=lambda x: x[1])\n",
    "        \n",
    "        comb_values = np.zeros(n)\n",
    "        for j in range(0, n):\n",
    "            comb_values[j] = pred_results[sorted_rmse_roc[j][0]]['y'].loc[i]\n",
    "        if comb == 'median':\n",
    "            y_dsnaw[i-test_index] = np.median(comb_values)\n",
    "        else:\n",
    "            y_dsnaw[i-test_index] = np.average(comb_values)\n",
    "\n",
    "    return y_dsnaw"
   ]
  },
  {
   "cell_type": "code",
   "execution_count": 25,
   "id": "2d40926b-66b7-47b0-8987-22097e4fa3ed",
   "metadata": {},
   "outputs": [
    {
     "name": "stdout",
     "output_type": "stream",
     "text": [
      "Time Series:  amz\n",
      "\n",
      "###############################################\n",
      "\n",
      "Executing:  SVR\n",
      "d:  1\n"
     ]
    },
    {
     "name": "stderr",
     "output_type": "stream",
     "text": [
      "100%|██████████████████████████████████████████████████████████████████████████████████| 80/80 [00:02<00:00, 31.06it/s]\n"
     ]
    },
    {
     "name": "stdout",
     "output_type": "stream",
     "text": [
      "Best params:  {'C': 1, 'epsilon': 0.01, 'gamma': 0.001, 'kernel': 'rbf'}\n",
      "Best rmse:  0.08131776087386697\n",
      "\n",
      "###############################################\n",
      "\n",
      "Executing:  GB\n",
      "d:  1\n"
     ]
    },
    {
     "name": "stderr",
     "output_type": "stream",
     "text": [
      "100%|████████████████████████████████████████████████████████████████████████████████| 243/243 [00:13<00:00, 18.03it/s]\n"
     ]
    },
    {
     "name": "stdout",
     "output_type": "stream",
     "text": [
      "Best params:  {'learning_rate': 0.1, 'max_depth': 5, 'max_features': 1, 'n_estimators': 50, 'subsample': 0.8}\n",
      "Best rmse:  0.08261307852340775\n",
      "\n",
      "###############################################\n",
      "\n",
      "Executing:  RF\n",
      "d:  1\n"
     ]
    },
    {
     "name": "stderr",
     "output_type": "stream",
     "text": [
      "100%|██████████████████████████████████████████████████████████████████████████████████| 27/27 [00:03<00:00,  7.09it/s]\n"
     ]
    },
    {
     "name": "stdout",
     "output_type": "stream",
     "text": [
      "Best params:  {'max_depth': 5, 'max_features': 1, 'n_estimators': 50}\n",
      "Best rmse:  0.08138547181416124\n",
      "\n",
      "###############################################\n",
      "\n",
      "Executing:  ARIMA\n",
      "d:  1\n",
      "Performing stepwise search to minimize aic\n",
      " ARIMA(2,0,2)(0,0,0)[0]             : AIC=inf, Time=0.71 sec\n",
      " ARIMA(0,0,0)(0,0,0)[0]             : AIC=1893.366, Time=0.06 sec\n",
      " ARIMA(1,0,0)(0,0,0)[0]             : AIC=-1935.624, Time=0.06 sec\n",
      " ARIMA(0,0,1)(0,0,0)[0]             : AIC=457.333, Time=0.08 sec\n",
      " ARIMA(2,0,0)(0,0,0)[0]             : AIC=-2370.976, Time=0.09 sec\n",
      " ARIMA(3,0,0)(0,0,0)[0]             : AIC=-2515.390, Time=0.15 sec\n",
      " ARIMA(4,0,0)(0,0,0)[0]             : AIC=inf, Time=0.36 sec\n",
      " ARIMA(3,0,1)(0,0,0)[0]             : AIC=inf, Time=0.72 sec\n",
      " ARIMA(2,0,1)(0,0,0)[0]             : AIC=inf, Time=0.51 sec\n",
      " ARIMA(4,0,1)(0,0,0)[0]             : AIC=inf, Time=0.85 sec\n",
      " ARIMA(3,0,0)(0,0,0)[0] intercept   : AIC=-2990.904, Time=0.40 sec\n",
      " ARIMA(2,0,0)(0,0,0)[0] intercept   : AIC=-2991.672, Time=0.22 sec\n",
      " ARIMA(1,0,0)(0,0,0)[0] intercept   : AIC=-2992.790, Time=0.07 sec\n",
      " ARIMA(0,0,0)(0,0,0)[0] intercept   : AIC=-2991.567, Time=0.14 sec\n",
      " ARIMA(1,0,1)(0,0,0)[0] intercept   : AIC=-2991.151, Time=0.65 sec\n",
      " ARIMA(0,0,1)(0,0,0)[0] intercept   : AIC=-2992.638, Time=0.14 sec\n",
      " ARIMA(2,0,1)(0,0,0)[0] intercept   : AIC=-2989.785, Time=0.33 sec\n",
      "\n",
      "Best model:  ARIMA(1,0,0)(0,0,0)[0] intercept\n",
      "Total fit time: 5.544 seconds\n"
     ]
    },
    {
     "name": "stderr",
     "output_type": "stream",
     "text": [
      "100%|██████████████████████████████████████████████████████████████████████████████| 1151/1151 [02:50<00:00,  6.73it/s]\n"
     ]
    },
    {
     "name": "stdout",
     "output_type": "stream",
     "text": [
      "\n",
      "###############################################\n",
      "\n",
      "Executing:  DBN\n",
      "d:  1\n",
      "\n",
      "###############################################\n",
      "\n",
      "Executing:  MLP\n",
      "d:  1\n"
     ]
    },
    {
     "name": "stderr",
     "output_type": "stream",
     "text": [
      "100%|████████████████████████████████████████████████████████████████████████████████████| 9/9 [00:00<00:00,  9.51it/s]\n"
     ]
    },
    {
     "name": "stdout",
     "output_type": "stream",
     "text": [
      "Best params:  {'hidden_layer_sizes': 50, 'max_iter': 1000, 'tol': 0.001}\n",
      "Best rmse:  0.08158497861822231\n",
      "\n",
      "###############################################\n",
      "\n",
      "Executing:  ELM\n",
      "d:  1\n"
     ]
    },
    {
     "name": "stderr",
     "output_type": "stream",
     "text": [
      "100%|████████████████████████████████████████████████████████████████████████████████████| 5/5 [00:00<00:00,  5.29it/s]\n"
     ]
    },
    {
     "name": "stdout",
     "output_type": "stream",
     "text": [
      "Best params:  {'hidden_dim': 50}\n",
      "Best rmse:  0.08298273314378958\n"
     ]
    },
    {
     "name": "stderr",
     "output_type": "stream",
     "text": [
      "100%|████████████████████████████████████████████████████████████████████████████████| 280/280 [00:22<00:00, 12.22it/s]\n"
     ]
    },
    {
     "name": "stdout",
     "output_type": "stream",
     "text": [
      "Best params:  {'comb': 'median', 'k': 10, 'n': 6}\n",
      "Best rmse:  573.4729655764602\n",
      "Time Series:  APPLE\n",
      "\n",
      "###############################################\n",
      "\n",
      "Executing:  SVR\n",
      "d:  1\n"
     ]
    },
    {
     "name": "stderr",
     "output_type": "stream",
     "text": [
      "100%|██████████████████████████████████████████████████████████████████████████████████| 80/80 [00:02<00:00, 31.22it/s]\n"
     ]
    },
    {
     "name": "stdout",
     "output_type": "stream",
     "text": [
      "Best params:  {'C': 1, 'epsilon': 0.01, 'gamma': 0.01, 'kernel': 'rbf'}\n",
      "Best rmse:  0.05696026985933901\n",
      "\n",
      "###############################################\n",
      "\n",
      "Executing:  GB\n",
      "d:  1\n"
     ]
    },
    {
     "name": "stderr",
     "output_type": "stream",
     "text": [
      "100%|████████████████████████████████████████████████████████████████████████████████| 243/243 [00:14<00:00, 16.97it/s]\n"
     ]
    },
    {
     "name": "stdout",
     "output_type": "stream",
     "text": [
      "Best params:  {'learning_rate': 0.1, 'max_depth': 5, 'max_features': 1, 'n_estimators': 50, 'subsample': 0.8}\n",
      "Best rmse:  0.05779191914119293\n",
      "\n",
      "###############################################\n",
      "\n",
      "Executing:  RF\n",
      "d:  1\n"
     ]
    },
    {
     "name": "stderr",
     "output_type": "stream",
     "text": [
      "100%|██████████████████████████████████████████████████████████████████████████████████| 27/27 [00:04<00:00,  6.61it/s]\n"
     ]
    },
    {
     "name": "stdout",
     "output_type": "stream",
     "text": [
      "Best params:  {'max_depth': 10, 'max_features': 0.8, 'n_estimators': 200}\n",
      "Best rmse:  0.05698439180596846\n",
      "\n",
      "###############################################\n",
      "\n",
      "Executing:  ARIMA\n",
      "d:  1\n",
      "Performing stepwise search to minimize aic\n",
      " ARIMA(2,0,2)(0,0,0)[0]             : AIC=inf, Time=1.18 sec\n",
      " ARIMA(0,0,0)(0,0,0)[0]             : AIC=2028.891, Time=0.05 sec\n",
      " ARIMA(1,0,0)(0,0,0)[0]             : AIC=-3421.866, Time=0.06 sec\n",
      " ARIMA(0,0,1)(0,0,0)[0]             : AIC=192.257, Time=0.07 sec\n",
      " ARIMA(2,0,0)(0,0,0)[0]             : AIC=inf, Time=0.12 sec\n",
      " ARIMA(1,0,1)(0,0,0)[0]             : AIC=inf, Time=0.52 sec\n",
      " ARIMA(2,0,1)(0,0,0)[0]             : AIC=inf, Time=0.61 sec\n",
      " ARIMA(1,0,0)(0,0,0)[0] intercept   : AIC=-4398.123, Time=0.08 sec\n",
      " ARIMA(0,0,0)(0,0,0)[0] intercept   : AIC=-4368.419, Time=0.14 sec\n",
      " ARIMA(2,0,0)(0,0,0)[0] intercept   : AIC=-4400.173, Time=0.25 sec\n",
      " ARIMA(3,0,0)(0,0,0)[0] intercept   : AIC=-4398.473, Time=0.32 sec\n",
      " ARIMA(2,0,1)(0,0,0)[0] intercept   : AIC=-4398.096, Time=0.36 sec\n",
      " ARIMA(1,0,1)(0,0,0)[0] intercept   : AIC=-4400.241, Time=0.50 sec\n",
      " ARIMA(0,0,1)(0,0,0)[0] intercept   : AIC=-4400.826, Time=0.17 sec\n",
      " ARIMA(0,0,2)(0,0,0)[0] intercept   : AIC=-4400.328, Time=0.30 sec\n",
      " ARIMA(1,0,2)(0,0,0)[0] intercept   : AIC=-4398.250, Time=0.59 sec\n",
      "\n",
      "Best model:  ARIMA(0,0,1)(0,0,0)[0] intercept\n",
      "Total fit time: 5.329 seconds\n"
     ]
    },
    {
     "name": "stderr",
     "output_type": "stream",
     "text": [
      "100%|██████████████████████████████████████████████████████████████████████████████| 1190/1190 [03:22<00:00,  5.87it/s]\n"
     ]
    },
    {
     "name": "stdout",
     "output_type": "stream",
     "text": [
      "\n",
      "###############################################\n",
      "\n",
      "Executing:  DBN\n",
      "d:  1\n",
      "\n",
      "###############################################\n",
      "\n",
      "Executing:  MLP\n",
      "d:  1\n"
     ]
    },
    {
     "name": "stderr",
     "output_type": "stream",
     "text": [
      "100%|████████████████████████████████████████████████████████████████████████████████████| 9/9 [00:00<00:00,  9.62it/s]\n"
     ]
    },
    {
     "name": "stdout",
     "output_type": "stream",
     "text": [
      "Best params:  {'hidden_layer_sizes': 20, 'max_iter': 1000, 'tol': 1e-05}\n",
      "Best rmse:  0.05720156466887112\n",
      "\n",
      "###############################################\n",
      "\n",
      "Executing:  ELM\n",
      "d:  1\n"
     ]
    },
    {
     "name": "stderr",
     "output_type": "stream",
     "text": [
      "100%|████████████████████████████████████████████████████████████████████████████████████| 5/5 [00:01<00:00,  3.38it/s]\n"
     ]
    },
    {
     "name": "stdout",
     "output_type": "stream",
     "text": [
      "Best params:  {'hidden_dim': 50}\n",
      "Best rmse:  0.05714768001193756\n"
     ]
    },
    {
     "name": "stderr",
     "output_type": "stream",
     "text": [
      "100%|████████████████████████████████████████████████████████████████████████████████| 280/280 [00:23<00:00, 11.89it/s]\n"
     ]
    },
    {
     "name": "stdout",
     "output_type": "stream",
     "text": [
      "Best params:  {'comb': 'median', 'k': 6, 'n': 1}\n",
      "Best rmse:  815.9944118670187\n",
      "Time Series:  electricity\n",
      "\n",
      "###############################################\n",
      "\n",
      "Executing:  SVR\n",
      "d:  1\n"
     ]
    },
    {
     "name": "stderr",
     "output_type": "stream",
     "text": [
      "100%|██████████████████████████████████████████████████████████████████████████████████| 80/80 [00:01<00:00, 72.26it/s]\n"
     ]
    },
    {
     "name": "stdout",
     "output_type": "stream",
     "text": [
      "Best params:  {'C': 100, 'epsilon': 0.001, 'gamma': 0.01, 'kernel': 'rbf'}\n",
      "Best rmse:  0.12800568777162202\n",
      "\n",
      "###############################################\n",
      "\n",
      "Executing:  GB\n",
      "d:  1\n"
     ]
    },
    {
     "name": "stderr",
     "output_type": "stream",
     "text": [
      "100%|████████████████████████████████████████████████████████████████████████████████| 243/243 [00:03<00:00, 73.92it/s]\n"
     ]
    },
    {
     "name": "stdout",
     "output_type": "stream",
     "text": [
      "Best params:  {'learning_rate': 0.3, 'max_depth': 10, 'max_features': 0.6, 'n_estimators': 50, 'subsample': 0.8}\n",
      "Best rmse:  0.145617231962356\n",
      "\n",
      "###############################################\n",
      "\n",
      "Executing:  RF\n",
      "d:  1\n"
     ]
    },
    {
     "name": "stderr",
     "output_type": "stream",
     "text": [
      "100%|██████████████████████████████████████████████████████████████████████████████████| 27/27 [00:01<00:00, 16.12it/s]\n"
     ]
    },
    {
     "name": "stdout",
     "output_type": "stream",
     "text": [
      "Best params:  {'max_depth': 15, 'max_features': 0.8, 'n_estimators': 200}\n",
      "Best rmse:  0.15926124269922867\n",
      "\n",
      "###############################################\n",
      "\n",
      "Executing:  ARIMA\n",
      "d:  1\n",
      "Performing stepwise search to minimize aic\n",
      " ARIMA(2,0,2)(0,0,0)[0]             : AIC=inf, Time=0.24 sec\n",
      " ARIMA(0,0,0)(0,0,0)[0]             : AIC=653.671, Time=0.02 sec\n",
      " ARIMA(1,0,0)(0,0,0)[0]             : AIC=193.061, Time=0.02 sec\n",
      " ARIMA(0,0,1)(0,0,0)[0]             : AIC=376.306, Time=0.03 sec\n",
      " ARIMA(2,0,0)(0,0,0)[0]             : AIC=191.013, Time=0.03 sec\n",
      " ARIMA(3,0,0)(0,0,0)[0]             : AIC=172.995, Time=0.05 sec\n",
      " ARIMA(4,0,0)(0,0,0)[0]             : AIC=101.071, Time=0.07 sec\n",
      " ARIMA(5,0,0)(0,0,0)[0]             : AIC=-18.940, Time=0.11 sec\n",
      " ARIMA(6,0,0)(0,0,0)[0]             : AIC=inf, Time=0.21 sec\n",
      " ARIMA(5,0,1)(0,0,0)[0]             : AIC=-93.975, Time=0.35 sec\n",
      " ARIMA(4,0,1)(0,0,0)[0]             : AIC=-56.638, Time=0.33 sec\n",
      " ARIMA(6,0,1)(0,0,0)[0]             : AIC=-61.434, Time=0.25 sec\n",
      " ARIMA(5,0,2)(0,0,0)[0]             : AIC=inf, Time=0.39 sec\n",
      " ARIMA(4,0,2)(0,0,0)[0]             : AIC=inf, Time=0.38 sec\n",
      " ARIMA(6,0,2)(0,0,0)[0]             : AIC=inf, Time=0.42 sec\n",
      " ARIMA(5,0,1)(0,0,0)[0] intercept   : AIC=-142.474, Time=0.45 sec\n",
      " ARIMA(4,0,1)(0,0,0)[0] intercept   : AIC=-143.200, Time=0.33 sec\n",
      " ARIMA(3,0,1)(0,0,0)[0] intercept   : AIC=-170.069, Time=0.78 sec\n",
      " ARIMA(2,0,1)(0,0,0)[0] intercept   : AIC=-172.271, Time=0.43 sec\n",
      " ARIMA(1,0,1)(0,0,0)[0] intercept   : AIC=41.306, Time=0.08 sec\n",
      " ARIMA(2,0,0)(0,0,0)[0] intercept   : AIC=-36.651, Time=0.06 sec\n",
      " ARIMA(2,0,2)(0,0,0)[0] intercept   : AIC=-167.169, Time=0.40 sec\n",
      " ARIMA(1,0,0)(0,0,0)[0] intercept   : AIC=77.479, Time=0.05 sec\n",
      " ARIMA(1,0,2)(0,0,0)[0] intercept   : AIC=-69.595, Time=0.52 sec\n",
      " ARIMA(3,0,0)(0,0,0)[0] intercept   : AIC=-117.609, Time=0.09 sec\n",
      " ARIMA(3,0,2)(0,0,0)[0] intercept   : AIC=-168.909, Time=0.41 sec\n",
      " ARIMA(2,0,1)(0,0,0)[0]             : AIC=189.566, Time=0.08 sec\n",
      "\n",
      "Best model:  ARIMA(2,0,1)(0,0,0)[0] intercept\n",
      "Total fit time: 6.573 seconds\n"
     ]
    },
    {
     "name": "stderr",
     "output_type": "stream",
     "text": [
      "100%|████████████████████████████████████████████████████████████████████████████████| 263/263 [00:13<00:00, 18.91it/s]\n"
     ]
    },
    {
     "name": "stdout",
     "output_type": "stream",
     "text": [
      "\n",
      "###############################################\n",
      "\n",
      "Executing:  DBN\n",
      "d:  1\n",
      "\n",
      "###############################################\n",
      "\n",
      "Executing:  MLP\n",
      "d:  1\n"
     ]
    },
    {
     "name": "stderr",
     "output_type": "stream",
     "text": [
      "100%|████████████████████████████████████████████████████████████████████████████████████| 9/9 [00:02<00:00,  4.43it/s]\n"
     ]
    },
    {
     "name": "stdout",
     "output_type": "stream",
     "text": [
      "Best params:  {'hidden_layer_sizes': 50, 'max_iter': 1000, 'tol': 0.0001}\n",
      "Best rmse:  0.13738324138576455\n",
      "\n",
      "###############################################\n",
      "\n",
      "Executing:  ELM\n",
      "d:  1\n"
     ]
    },
    {
     "name": "stderr",
     "output_type": "stream",
     "text": [
      "100%|████████████████████████████████████████████████████████████████████████████████████| 5/5 [00:01<00:00,  4.75it/s]\n"
     ]
    },
    {
     "name": "stdout",
     "output_type": "stream",
     "text": [
      "Best params:  {'hidden_dim': 20}\n",
      "Best rmse:  0.14372389280395254\n"
     ]
    },
    {
     "name": "stderr",
     "output_type": "stream",
     "text": [
      "100%|████████████████████████████████████████████████████████████████████████████████| 280/280 [00:06<00:00, 46.00it/s]\n"
     ]
    },
    {
     "name": "stdout",
     "output_type": "stream",
     "text": [
      "Best params:  {'comb': 'average', 'k': 13, 'n': 4}\n",
      "Best rmse:  6796.526706439403\n",
      "Time Series:  goldman\n",
      "\n",
      "###############################################\n",
      "\n",
      "Executing:  SVR\n",
      "d:  1\n"
     ]
    },
    {
     "name": "stderr",
     "output_type": "stream",
     "text": [
      "100%|██████████████████████████████████████████████████████████████████████████████████| 80/80 [00:01<00:00, 64.50it/s]\n"
     ]
    },
    {
     "name": "stdout",
     "output_type": "stream",
     "text": [
      "Best params:  {'C': 1, 'epsilon': 0.1, 'gamma': 0.01, 'kernel': 'rbf'}\n",
      "Best rmse:  0.09988062699045391\n",
      "\n",
      "###############################################\n",
      "\n",
      "Executing:  GB\n",
      "d:  1\n"
     ]
    },
    {
     "name": "stderr",
     "output_type": "stream",
     "text": [
      "100%|████████████████████████████████████████████████████████████████████████████████| 243/243 [00:04<00:00, 52.73it/s]\n"
     ]
    },
    {
     "name": "stdout",
     "output_type": "stream",
     "text": [
      "Best params:  {'learning_rate': 0.1, 'max_depth': 10, 'max_features': 0.6, 'n_estimators': 50, 'subsample': 1}\n",
      "Best rmse:  0.1013696251328296\n",
      "\n",
      "###############################################\n",
      "\n",
      "Executing:  RF\n",
      "d:  1\n"
     ]
    },
    {
     "name": "stderr",
     "output_type": "stream",
     "text": [
      "100%|██████████████████████████████████████████████████████████████████████████████████| 27/27 [00:01<00:00, 13.88it/s]\n"
     ]
    },
    {
     "name": "stdout",
     "output_type": "stream",
     "text": [
      "Best params:  {'max_depth': 5, 'max_features': 1, 'n_estimators': 50}\n",
      "Best rmse:  0.0991327987951365\n",
      "\n",
      "###############################################\n",
      "\n",
      "Executing:  ARIMA\n",
      "d:  1\n",
      "Performing stepwise search to minimize aic\n",
      " ARIMA(2,0,2)(0,0,0)[0]             : AIC=inf, Time=0.37 sec\n",
      " ARIMA(0,0,0)(0,0,0)[0]             : AIC=1293.505, Time=0.02 sec\n",
      " ARIMA(1,0,0)(0,0,0)[0]             : AIC=-628.289, Time=0.03 sec\n",
      " ARIMA(0,0,1)(0,0,0)[0]             : AIC=727.333, Time=0.03 sec\n",
      " ARIMA(2,0,0)(0,0,0)[0]             : AIC=inf, Time=0.05 sec\n",
      " ARIMA(1,0,1)(0,0,0)[0]             : AIC=-1048.257, Time=0.06 sec\n",
      " ARIMA(2,0,1)(0,0,0)[0]             : AIC=-1069.595, Time=0.22 sec\n",
      " ARIMA(3,0,1)(0,0,0)[0]             : AIC=inf, Time=0.29 sec\n",
      " ARIMA(1,0,2)(0,0,0)[0]             : AIC=inf, Time=0.28 sec\n",
      " ARIMA(3,0,0)(0,0,0)[0]             : AIC=inf, Time=0.05 sec\n",
      " ARIMA(3,0,2)(0,0,0)[0]             : AIC=inf, Time=0.53 sec\n",
      " ARIMA(2,0,1)(0,0,0)[0] intercept   : AIC=-1084.794, Time=0.44 sec\n",
      " ARIMA(1,0,1)(0,0,0)[0] intercept   : AIC=-1086.161, Time=0.31 sec\n",
      " ARIMA(0,0,1)(0,0,0)[0] intercept   : AIC=-1084.304, Time=0.06 sec\n",
      " ARIMA(1,0,0)(0,0,0)[0] intercept   : AIC=-1084.556, Time=0.06 sec\n",
      " ARIMA(1,0,2)(0,0,0)[0] intercept   : AIC=-1083.315, Time=0.43 sec\n",
      " ARIMA(0,0,0)(0,0,0)[0] intercept   : AIC=-1079.128, Time=0.06 sec\n",
      " ARIMA(0,0,2)(0,0,0)[0] intercept   : AIC=-1082.502, Time=0.12 sec\n",
      " ARIMA(2,0,0)(0,0,0)[0] intercept   : AIC=-1082.693, Time=0.04 sec\n",
      " ARIMA(2,0,2)(0,0,0)[0] intercept   : AIC=-1084.613, Time=0.49 sec\n",
      "\n",
      "Best model:  ARIMA(1,0,1)(0,0,0)[0] intercept\n",
      "Total fit time: 3.932 seconds\n"
     ]
    },
    {
     "name": "stderr",
     "output_type": "stream",
     "text": [
      "100%|████████████████████████████████████████████████████████████████████████████████| 397/397 [00:26<00:00, 15.09it/s]\n"
     ]
    },
    {
     "name": "stdout",
     "output_type": "stream",
     "text": [
      "\n",
      "###############################################\n",
      "\n",
      "Executing:  DBN\n",
      "d:  1\n",
      "\n",
      "###############################################\n",
      "\n",
      "Executing:  MLP\n",
      "d:  1\n"
     ]
    },
    {
     "name": "stderr",
     "output_type": "stream",
     "text": [
      "100%|████████████████████████████████████████████████████████████████████████████████████| 9/9 [00:00<00:00,  9.71it/s]\n"
     ]
    },
    {
     "name": "stdout",
     "output_type": "stream",
     "text": [
      "Best params:  {'hidden_layer_sizes': 100, 'max_iter': 1000, 'tol': 0.001}\n",
      "Best rmse:  0.10001089956475911\n",
      "\n",
      "###############################################\n",
      "\n",
      "Executing:  ELM\n",
      "d:  1\n"
     ]
    },
    {
     "name": "stderr",
     "output_type": "stream",
     "text": [
      "100%|████████████████████████████████████████████████████████████████████████████████████| 5/5 [00:00<00:00,  6.19it/s]\n"
     ]
    },
    {
     "name": "stdout",
     "output_type": "stream",
     "text": [
      "Best params:  {'hidden_dim': 20}\n",
      "Best rmse:  0.1085407219232746\n"
     ]
    },
    {
     "name": "stderr",
     "output_type": "stream",
     "text": [
      "100%|████████████████████████████████████████████████████████████████████████████████| 280/280 [00:08<00:00, 32.76it/s]\n"
     ]
    },
    {
     "name": "stdout",
     "output_type": "stream",
     "text": [
      "Best params:  {'comb': 'median', 'k': 5, 'n': 1}\n",
      "Best rmse:  2.914825102536966\n",
      "Time Series:  msft\n",
      "\n",
      "###############################################\n",
      "\n",
      "Executing:  SVR\n",
      "d:  1\n"
     ]
    },
    {
     "name": "stderr",
     "output_type": "stream",
     "text": [
      "100%|██████████████████████████████████████████████████████████████████████████████████| 80/80 [00:01<00:00, 63.29it/s]\n"
     ]
    },
    {
     "name": "stdout",
     "output_type": "stream",
     "text": [
      "Best params:  {'C': 1, 'epsilon': 0.01, 'gamma': 0.001, 'kernel': 'rbf'}\n",
      "Best rmse:  0.18242903909397168\n",
      "\n",
      "###############################################\n",
      "\n",
      "Executing:  GB\n",
      "d:  1\n"
     ]
    },
    {
     "name": "stderr",
     "output_type": "stream",
     "text": [
      "100%|████████████████████████████████████████████████████████████████████████████████| 243/243 [00:04<00:00, 55.85it/s]\n"
     ]
    },
    {
     "name": "stdout",
     "output_type": "stream",
     "text": [
      "Best params:  {'learning_rate': 0.1, 'max_depth': 15, 'max_features': 1, 'n_estimators': 50, 'subsample': 0.8}\n",
      "Best rmse:  0.18632884315454512\n",
      "\n",
      "###############################################\n",
      "\n",
      "Executing:  RF\n",
      "d:  1\n"
     ]
    },
    {
     "name": "stderr",
     "output_type": "stream",
     "text": [
      "100%|██████████████████████████████████████████████████████████████████████████████████| 27/27 [00:01<00:00, 14.13it/s]\n"
     ]
    },
    {
     "name": "stdout",
     "output_type": "stream",
     "text": [
      "Best params:  {'max_depth': 5, 'max_features': 1, 'n_estimators': 50}\n",
      "Best rmse:  0.18358830536310808\n",
      "\n",
      "###############################################\n",
      "\n",
      "Executing:  ARIMA\n",
      "d:  1\n",
      "Performing stepwise search to minimize aic\n",
      " ARIMA(2,0,2)(0,0,0)[0]             : AIC=inf, Time=0.31 sec\n",
      " ARIMA(0,0,0)(0,0,0)[0]             : AIC=822.455, Time=0.03 sec\n",
      " ARIMA(1,0,0)(0,0,0)[0]             : AIC=-96.262, Time=0.03 sec\n",
      " ARIMA(0,0,1)(0,0,0)[0]             : AIC=460.544, Time=0.03 sec\n",
      " ARIMA(2,0,0)(0,0,0)[0]             : AIC=-271.911, Time=0.03 sec\n",
      " ARIMA(3,0,0)(0,0,0)[0]             : AIC=-307.452, Time=0.05 sec\n",
      " ARIMA(4,0,0)(0,0,0)[0]             : AIC=-339.846, Time=0.12 sec\n",
      " ARIMA(5,0,0)(0,0,0)[0]             : AIC=inf, Time=0.17 sec\n",
      " ARIMA(4,0,1)(0,0,0)[0]             : AIC=inf, Time=0.38 sec\n",
      " ARIMA(3,0,1)(0,0,0)[0]             : AIC=inf, Time=0.31 sec\n",
      " ARIMA(5,0,1)(0,0,0)[0]             : AIC=inf, Time=0.44 sec\n",
      " ARIMA(4,0,0)(0,0,0)[0] intercept   : AIC=-466.706, Time=0.13 sec\n",
      " ARIMA(3,0,0)(0,0,0)[0] intercept   : AIC=-468.698, Time=0.08 sec\n",
      " ARIMA(2,0,0)(0,0,0)[0] intercept   : AIC=-468.898, Time=0.03 sec\n",
      " ARIMA(1,0,0)(0,0,0)[0] intercept   : AIC=-467.858, Time=0.14 sec\n",
      " ARIMA(2,0,1)(0,0,0)[0] intercept   : AIC=-468.149, Time=0.32 sec\n",
      " ARIMA(1,0,1)(0,0,0)[0] intercept   : AIC=-468.025, Time=0.27 sec\n",
      " ARIMA(3,0,1)(0,0,0)[0] intercept   : AIC=-466.699, Time=0.14 sec\n",
      "\n",
      "Best model:  ARIMA(2,0,0)(0,0,0)[0] intercept\n",
      "Total fit time: 3.022 seconds\n"
     ]
    },
    {
     "name": "stderr",
     "output_type": "stream",
     "text": [
      "100%|████████████████████████████████████████████████████████████████████████████████| 397/397 [00:24<00:00, 15.90it/s]\n"
     ]
    },
    {
     "name": "stdout",
     "output_type": "stream",
     "text": [
      "\n",
      "###############################################\n",
      "\n",
      "Executing:  DBN\n",
      "d:  1\n",
      "\n",
      "###############################################\n",
      "\n",
      "Executing:  MLP\n",
      "d:  1\n"
     ]
    },
    {
     "name": "stderr",
     "output_type": "stream",
     "text": [
      "100%|████████████████████████████████████████████████████████████████████████████████████| 9/9 [00:01<00:00,  8.39it/s]\n"
     ]
    },
    {
     "name": "stdout",
     "output_type": "stream",
     "text": [
      "Best params:  {'hidden_layer_sizes': 50, 'max_iter': 1000, 'tol': 0.001}\n",
      "Best rmse:  0.18229213743005815\n",
      "\n",
      "###############################################\n",
      "\n",
      "Executing:  ELM\n",
      "d:  1\n"
     ]
    },
    {
     "name": "stderr",
     "output_type": "stream",
     "text": [
      "100%|████████████████████████████████████████████████████████████████████████████████████| 5/5 [00:00<00:00,  5.19it/s]\n"
     ]
    },
    {
     "name": "stdout",
     "output_type": "stream",
     "text": [
      "Best params:  {'hidden_dim': 20}\n",
      "Best rmse:  0.1891674980213997\n"
     ]
    },
    {
     "name": "stderr",
     "output_type": "stream",
     "text": [
      "100%|████████████████████████████████████████████████████████████████████████████████| 280/280 [00:08<00:00, 32.75it/s]\n"
     ]
    },
    {
     "name": "stdout",
     "output_type": "stream",
     "text": [
      "Best params:  {'comb': 'median', 'k': 11, 'n': 4}\n",
      "Best rmse:  0.39795580275903203\n",
      "Time Series:  pollutions\n",
      "\n",
      "###############################################\n",
      "\n",
      "Executing:  SVR\n",
      "d:  2\n"
     ]
    },
    {
     "name": "stderr",
     "output_type": "stream",
     "text": [
      "100%|██████████████████████████████████████████████████████████████████████████████████| 80/80 [00:01<00:00, 76.24it/s]\n"
     ]
    },
    {
     "name": "stdout",
     "output_type": "stream",
     "text": [
      "Best params:  {'C': 1000, 'epsilon': 0.001, 'gamma': 0.001, 'kernel': 'rbf'}\n",
      "Best rmse:  0.29014463133128826\n",
      "\n",
      "###############################################\n",
      "\n",
      "Executing:  GB\n",
      "d:  2\n"
     ]
    },
    {
     "name": "stderr",
     "output_type": "stream",
     "text": [
      "100%|███████████████████████████████████████████████████████████████████████████████| 243/243 [00:01<00:00, 130.71it/s]\n"
     ]
    },
    {
     "name": "stdout",
     "output_type": "stream",
     "text": [
      "Best params:  {'learning_rate': 0.1, 'max_depth': 5, 'max_features': 0.6, 'n_estimators': 50, 'subsample': 0.6}\n",
      "Best rmse:  0.42191592178406184\n",
      "\n",
      "###############################################\n",
      "\n",
      "Executing:  RF\n",
      "d:  2\n"
     ]
    },
    {
     "name": "stderr",
     "output_type": "stream",
     "text": [
      "100%|██████████████████████████████████████████████████████████████████████████████████| 27/27 [00:01<00:00, 19.15it/s]\n"
     ]
    },
    {
     "name": "stdout",
     "output_type": "stream",
     "text": [
      "Best params:  {'max_depth': 15, 'max_features': 0.8, 'n_estimators': 200}\n",
      "Best rmse:  0.45151325598701025\n",
      "\n",
      "###############################################\n",
      "\n",
      "Executing:  ARIMA\n",
      "d:  2\n",
      "Performing stepwise search to minimize aic\n",
      " ARIMA(2,0,2)(0,0,0)[0]             : AIC=inf, Time=0.15 sec\n",
      " ARIMA(0,0,0)(0,0,0)[0]             : AIC=172.219, Time=0.00 sec\n",
      " ARIMA(1,0,0)(0,0,0)[0]             : AIC=152.671, Time=0.02 sec\n",
      " ARIMA(0,0,1)(0,0,0)[0]             : AIC=159.738, Time=0.02 sec\n",
      " ARIMA(2,0,0)(0,0,0)[0]             : AIC=137.722, Time=0.02 sec\n",
      " ARIMA(3,0,0)(0,0,0)[0]             : AIC=58.425, Time=0.04 sec\n",
      " ARIMA(4,0,0)(0,0,0)[0]             : AIC=inf, Time=0.08 sec\n",
      " ARIMA(3,0,1)(0,0,0)[0]             : AIC=inf, Time=0.14 sec\n",
      " ARIMA(2,0,1)(0,0,0)[0]             : AIC=inf, Time=0.13 sec\n",
      " ARIMA(4,0,1)(0,0,0)[0]             : AIC=-3.382, Time=0.19 sec\n",
      " ARIMA(5,0,1)(0,0,0)[0]             : AIC=-0.258, Time=0.24 sec\n",
      " ARIMA(4,0,2)(0,0,0)[0]             : AIC=4.826, Time=0.22 sec\n",
      " ARIMA(3,0,2)(0,0,0)[0]             : AIC=-19.032, Time=0.17 sec\n",
      " ARIMA(3,0,3)(0,0,0)[0]             : AIC=inf, Time=0.23 sec\n",
      " ARIMA(2,0,3)(0,0,0)[0]             : AIC=inf, Time=0.16 sec\n",
      " ARIMA(4,0,3)(0,0,0)[0]             : AIC=inf, Time=0.24 sec\n",
      " ARIMA(3,0,2)(0,0,0)[0] intercept   : AIC=-8.889, Time=0.21 sec\n",
      "\n",
      "Best model:  ARIMA(3,0,2)(0,0,0)[0]          \n",
      "Total fit time: 2.241 seconds\n"
     ]
    },
    {
     "name": "stderr",
     "output_type": "stream",
     "text": [
      "100%|██████████████████████████████████████████████████████████████████████████████████| 85/85 [00:02<00:00, 29.86it/s]\n"
     ]
    },
    {
     "name": "stdout",
     "output_type": "stream",
     "text": [
      "\n",
      "###############################################\n",
      "\n",
      "Executing:  DBN\n",
      "d:  2\n",
      "\n",
      "###############################################\n",
      "\n",
      "Executing:  MLP\n",
      "d:  2\n"
     ]
    },
    {
     "name": "stderr",
     "output_type": "stream",
     "text": [
      "100%|████████████████████████████████████████████████████████████████████████████████████| 9/9 [00:01<00:00,  7.53it/s]\n"
     ]
    },
    {
     "name": "stdout",
     "output_type": "stream",
     "text": [
      "Best params:  {'hidden_layer_sizes': 100, 'max_iter': 1000, 'tol': 0.0001}\n",
      "Best rmse:  0.3236507386893927\n",
      "\n",
      "###############################################\n",
      "\n",
      "Executing:  ELM\n",
      "d:  2\n"
     ]
    },
    {
     "name": "stderr",
     "output_type": "stream",
     "text": [
      "100%|████████████████████████████████████████████████████████████████████████████████████| 5/5 [00:00<00:00,  7.43it/s]\n"
     ]
    },
    {
     "name": "stdout",
     "output_type": "stream",
     "text": [
      "Best params:  {'hidden_dim': 20}\n",
      "Best rmse:  0.39194310482727585\n"
     ]
    },
    {
     "name": "stderr",
     "output_type": "stream",
     "text": [
      "100%|███████████████████████████████████████████████████████████████████████████████| 280/280 [00:02<00:00, 108.06it/s]\n"
     ]
    },
    {
     "name": "stdout",
     "output_type": "stream",
     "text": [
      "Best params:  {'comb': 'median', 'k': 2, 'n': 6}\n",
      "Best rmse:  477.9493051567816\n",
      "Time Series:  star\n",
      "\n",
      "###############################################\n",
      "\n",
      "Executing:  SVR\n",
      "d:  0\n"
     ]
    },
    {
     "name": "stderr",
     "output_type": "stream",
     "text": [
      "100%|██████████████████████████████████████████████████████████████████████████████████| 80/80 [00:01<00:00, 67.76it/s]\n"
     ]
    },
    {
     "name": "stdout",
     "output_type": "stream",
     "text": [
      "Best params:  {'C': 10, 'epsilon': 0.0001, 'gamma': 1, 'kernel': 'rbf'}\n",
      "Best rmse:  0.006544894872162269\n",
      "\n",
      "###############################################\n",
      "\n",
      "Executing:  GB\n",
      "d:  0\n"
     ]
    },
    {
     "name": "stderr",
     "output_type": "stream",
     "text": [
      "100%|████████████████████████████████████████████████████████████████████████████████| 243/243 [00:03<00:00, 79.39it/s]\n"
     ]
    },
    {
     "name": "stdout",
     "output_type": "stream",
     "text": [
      "Best params:  {'learning_rate': 0.1, 'max_depth': 5, 'max_features': 0.8, 'n_estimators': 200, 'subsample': 1}\n",
      "Best rmse:  0.021431118235592787\n",
      "\n",
      "###############################################\n",
      "\n",
      "Executing:  RF\n",
      "d:  0\n"
     ]
    },
    {
     "name": "stderr",
     "output_type": "stream",
     "text": [
      "100%|██████████████████████████████████████████████████████████████████████████████████| 27/27 [00:01<00:00, 16.52it/s]\n"
     ]
    },
    {
     "name": "stdout",
     "output_type": "stream",
     "text": [
      "Best params:  {'max_depth': 10, 'max_features': 0.8, 'n_estimators': 200}\n",
      "Best rmse:  0.025503968807121764\n",
      "\n",
      "###############################################\n",
      "\n",
      "Executing:  ARIMA\n",
      "d:  0\n",
      "Performing stepwise search to minimize aic\n",
      " ARIMA(2,0,2)(0,0,0)[0]             : AIC=-2149.773, Time=0.17 sec\n",
      " ARIMA(0,0,0)(0,0,0)[0]             : AIC=777.341, Time=0.03 sec\n",
      " ARIMA(1,0,0)(0,0,0)[0]             : AIC=inf, Time=0.03 sec\n",
      " ARIMA(0,0,1)(0,0,0)[0]             : AIC=195.760, Time=0.03 sec\n",
      " ARIMA(1,0,2)(0,0,0)[0]             : AIC=-1801.256, Time=0.09 sec\n",
      " ARIMA(2,0,1)(0,0,0)[0]             : AIC=-2040.121, Time=0.12 sec\n",
      " ARIMA(3,0,2)(0,0,0)[0]             : AIC=-2437.568, Time=0.29 sec\n",
      " ARIMA(3,0,1)(0,0,0)[0]             : AIC=-2102.132, Time=0.21 sec\n",
      " ARIMA(4,0,2)(0,0,0)[0]             : AIC=-2101.143, Time=0.43 sec\n",
      " ARIMA(3,0,3)(0,0,0)[0]             : AIC=inf, Time=0.40 sec\n",
      " ARIMA(2,0,3)(0,0,0)[0]             : AIC=-2182.961, Time=0.28 sec\n",
      " ARIMA(4,0,1)(0,0,0)[0]             : AIC=-2378.229, Time=0.28 sec\n",
      " ARIMA(4,0,3)(0,0,0)[0]             : AIC=-2118.088, Time=0.43 sec\n",
      " ARIMA(3,0,2)(0,0,0)[0] intercept   : AIC=-2461.577, Time=0.65 sec\n",
      " ARIMA(2,0,2)(0,0,0)[0] intercept   : AIC=-2257.439, Time=0.63 sec\n",
      " ARIMA(3,0,1)(0,0,0)[0] intercept   : AIC=-2482.077, Time=0.30 sec\n",
      " ARIMA(2,0,1)(0,0,0)[0] intercept   : AIC=-2279.027, Time=0.40 sec\n",
      " ARIMA(3,0,0)(0,0,0)[0] intercept   : AIC=inf, Time=0.05 sec\n",
      " ARIMA(4,0,1)(0,0,0)[0] intercept   : AIC=-2485.492, Time=0.53 sec\n",
      " ARIMA(4,0,0)(0,0,0)[0] intercept   : AIC=inf, Time=0.13 sec\n",
      " ARIMA(5,0,1)(0,0,0)[0] intercept   : AIC=-2515.309, Time=0.46 sec\n",
      " ARIMA(5,0,0)(0,0,0)[0] intercept   : AIC=inf, Time=0.13 sec\n",
      " ARIMA(6,0,1)(0,0,0)[0] intercept   : AIC=-2513.603, Time=0.11 sec\n",
      " ARIMA(5,0,2)(0,0,0)[0] intercept   : AIC=-2516.789, Time=0.61 sec\n",
      " ARIMA(4,0,2)(0,0,0)[0] intercept   : AIC=-2488.480, Time=0.48 sec\n",
      " ARIMA(6,0,2)(0,0,0)[0] intercept   : AIC=-2524.959, Time=0.67 sec\n",
      " ARIMA(7,0,2)(0,0,0)[0] intercept   : AIC=-2529.143, Time=1.06 sec\n",
      " ARIMA(7,0,1)(0,0,0)[0] intercept   : AIC=-2537.908, Time=0.74 sec\n",
      " ARIMA(7,0,0)(0,0,0)[0] intercept   : AIC=inf, Time=0.40 sec\n",
      " ARIMA(8,0,1)(0,0,0)[0] intercept   : AIC=-2539.713, Time=0.56 sec\n",
      " ARIMA(8,0,0)(0,0,0)[0] intercept   : AIC=inf, Time=1.26 sec\n",
      " ARIMA(9,0,1)(0,0,0)[0] intercept   : AIC=-2537.953, Time=0.76 sec\n",
      " ARIMA(8,0,2)(0,0,0)[0] intercept   : AIC=-2537.386, Time=0.92 sec\n",
      " ARIMA(9,0,0)(0,0,0)[0] intercept   : AIC=inf, Time=0.72 sec\n",
      " ARIMA(9,0,2)(0,0,0)[0] intercept   : AIC=-2537.397, Time=1.11 sec\n",
      " ARIMA(8,0,1)(0,0,0)[0]             : AIC=-2481.782, Time=0.53 sec\n",
      "\n",
      "Best model:  ARIMA(8,0,1)(0,0,0)[0] intercept\n",
      "Total fit time: 15.994 seconds\n"
     ]
    },
    {
     "name": "stderr",
     "output_type": "stream",
     "text": [
      "100%|████████████████████████████████████████████████████████████████████████████████| 320/320 [01:28<00:00,  3.61it/s]\n"
     ]
    },
    {
     "name": "stdout",
     "output_type": "stream",
     "text": [
      "\n",
      "###############################################\n",
      "\n",
      "Executing:  DBN\n",
      "d:  0\n",
      "\n",
      "###############################################\n",
      "\n",
      "Executing:  MLP\n",
      "d:  0\n"
     ]
    },
    {
     "name": "stderr",
     "output_type": "stream",
     "text": [
      "100%|████████████████████████████████████████████████████████████████████████████████████| 9/9 [00:00<00:00,  9.63it/s]\n"
     ]
    },
    {
     "name": "stdout",
     "output_type": "stream",
     "text": [
      "Best params:  {'hidden_layer_sizes': 20, 'max_iter': 1000, 'tol': 1e-05}\n",
      "Best rmse:  0.011029751088121242\n",
      "\n",
      "###############################################\n",
      "\n",
      "Executing:  ELM\n",
      "d:  0\n"
     ]
    },
    {
     "name": "stderr",
     "output_type": "stream",
     "text": [
      "100%|████████████████████████████████████████████████████████████████████████████████████| 5/5 [00:01<00:00,  4.82it/s]\n"
     ]
    },
    {
     "name": "stdout",
     "output_type": "stream",
     "text": [
      "Best params:  {'hidden_dim': 100}\n",
      "Best rmse:  0.008339140529048923\n"
     ]
    },
    {
     "name": "stderr",
     "output_type": "stream",
     "text": [
      "100%|████████████████████████████████████████████████████████████████████████████████| 280/280 [00:06<00:00, 40.18it/s]\n"
     ]
    },
    {
     "name": "stdout",
     "output_type": "stream",
     "text": [
      "Best params:  {'comb': 'median', 'k': 15, 'n': 1}\n",
      "Best rmse:  0.21979724582094706\n",
      "Time Series:  sunspot\n",
      "\n",
      "###############################################\n",
      "\n",
      "Executing:  SVR\n",
      "d:  0\n"
     ]
    },
    {
     "name": "stderr",
     "output_type": "stream",
     "text": [
      "100%|██████████████████████████████████████████████████████████████████████████████████| 80/80 [00:01<00:00, 74.11it/s]\n"
     ]
    },
    {
     "name": "stdout",
     "output_type": "stream",
     "text": [
      "Best params:  {'C': 1, 'epsilon': 0.01, 'gamma': 0.1, 'kernel': 'rbf'}\n",
      "Best rmse:  0.08256552770405057\n",
      "\n",
      "###############################################\n",
      "\n",
      "Executing:  GB\n",
      "d:  0\n"
     ]
    },
    {
     "name": "stderr",
     "output_type": "stream",
     "text": [
      "100%|████████████████████████████████████████████████████████████████████████████████| 243/243 [00:02<00:00, 99.02it/s]\n"
     ]
    },
    {
     "name": "stdout",
     "output_type": "stream",
     "text": [
      "Best params:  {'learning_rate': 0.1, 'max_depth': 10, 'max_features': 0.8, 'n_estimators': 200, 'subsample': 0.6}\n",
      "Best rmse:  0.08097264538159708\n",
      "\n",
      "###############################################\n",
      "\n",
      "Executing:  RF\n",
      "d:  0\n"
     ]
    },
    {
     "name": "stderr",
     "output_type": "stream",
     "text": [
      "100%|██████████████████████████████████████████████████████████████████████████████████| 27/27 [00:01<00:00, 18.05it/s]\n"
     ]
    },
    {
     "name": "stdout",
     "output_type": "stream",
     "text": [
      "Best params:  {'max_depth': 5, 'max_features': 0.6, 'n_estimators': 50}\n",
      "Best rmse:  0.07793944259043505\n",
      "\n",
      "###############################################\n",
      "\n",
      "Executing:  ARIMA\n",
      "d:  0\n",
      "Performing stepwise search to minimize aic\n",
      " ARIMA(2,0,2)(0,0,0)[0]             : AIC=-376.662, Time=0.16 sec\n",
      " ARIMA(0,0,0)(0,0,0)[0]             : AIC=180.260, Time=0.02 sec\n",
      " ARIMA(1,0,0)(0,0,0)[0]             : AIC=-284.879, Time=0.02 sec\n",
      " ARIMA(0,0,1)(0,0,0)[0]             : AIC=-69.286, Time=0.03 sec\n",
      " ARIMA(1,0,2)(0,0,0)[0]             : AIC=-376.753, Time=0.06 sec\n",
      " ARIMA(0,0,2)(0,0,0)[0]             : AIC=-241.212, Time=0.06 sec\n",
      " ARIMA(1,0,1)(0,0,0)[0]             : AIC=-352.244, Time=0.05 sec\n",
      " ARIMA(1,0,3)(0,0,0)[0]             : AIC=-376.413, Time=0.11 sec\n",
      " ARIMA(0,0,3)(0,0,0)[0]             : AIC=-305.909, Time=0.08 sec\n",
      " ARIMA(2,0,1)(0,0,0)[0]             : AIC=-372.464, Time=0.08 sec\n",
      " ARIMA(2,0,3)(0,0,0)[0]             : AIC=-374.711, Time=0.25 sec\n",
      " ARIMA(1,0,2)(0,0,0)[0] intercept   : AIC=-403.390, Time=0.11 sec\n",
      " ARIMA(0,0,2)(0,0,0)[0] intercept   : AIC=-365.258, Time=0.08 sec\n",
      " ARIMA(1,0,1)(0,0,0)[0] intercept   : AIC=-370.975, Time=0.08 sec\n",
      " ARIMA(2,0,2)(0,0,0)[0] intercept   : AIC=-428.710, Time=0.19 sec\n",
      " ARIMA(2,0,1)(0,0,0)[0] intercept   : AIC=-430.607, Time=0.13 sec\n",
      " ARIMA(2,0,0)(0,0,0)[0] intercept   : AIC=-429.620, Time=0.06 sec\n",
      " ARIMA(3,0,1)(0,0,0)[0] intercept   : AIC=-429.607, Time=0.21 sec\n",
      " ARIMA(1,0,0)(0,0,0)[0] intercept   : AIC=-296.997, Time=0.03 sec\n",
      " ARIMA(3,0,0)(0,0,0)[0] intercept   : AIC=-430.751, Time=0.11 sec\n",
      " ARIMA(4,0,0)(0,0,0)[0] intercept   : AIC=-428.776, Time=0.14 sec\n",
      " ARIMA(4,0,1)(0,0,0)[0] intercept   : AIC=-427.784, Time=0.30 sec\n",
      " ARIMA(3,0,0)(0,0,0)[0]             : AIC=-374.404, Time=0.09 sec\n",
      "\n",
      "Best model:  ARIMA(3,0,0)(0,0,0)[0] intercept\n",
      "Total fit time: 2.443 seconds\n"
     ]
    },
    {
     "name": "stderr",
     "output_type": "stream",
     "text": [
      "100%|████████████████████████████████████████████████████████████████████████████████| 177/177 [00:07<00:00, 23.09it/s]\n"
     ]
    },
    {
     "name": "stdout",
     "output_type": "stream",
     "text": [
      "\n",
      "###############################################\n",
      "\n",
      "Executing:  DBN\n",
      "d:  0\n",
      "\n",
      "###############################################\n",
      "\n",
      "Executing:  MLP\n",
      "d:  0\n"
     ]
    },
    {
     "name": "stderr",
     "output_type": "stream",
     "text": [
      "100%|████████████████████████████████████████████████████████████████████████████████████| 9/9 [00:01<00:00,  5.28it/s]\n"
     ]
    },
    {
     "name": "stdout",
     "output_type": "stream",
     "text": [
      "Best params:  {'hidden_layer_sizes': 50, 'max_iter': 1000, 'tol': 0.001}\n",
      "Best rmse:  0.08838229924476386\n",
      "\n",
      "###############################################\n",
      "\n",
      "Executing:  ELM\n",
      "d:  0\n"
     ]
    },
    {
     "name": "stderr",
     "output_type": "stream",
     "text": [
      "100%|████████████████████████████████████████████████████████████████████████████████████| 5/5 [00:00<00:00,  6.41it/s]\n"
     ]
    },
    {
     "name": "stdout",
     "output_type": "stream",
     "text": [
      "Best params:  {'hidden_dim': 20}\n",
      "Best rmse:  0.11431792052473015\n"
     ]
    },
    {
     "name": "stderr",
     "output_type": "stream",
     "text": [
      "100%|████████████████████████████████████████████████████████████████████████████████| 280/280 [00:04<00:00, 65.49it/s]\n"
     ]
    },
    {
     "name": "stdout",
     "output_type": "stream",
     "text": [
      "Best params:  {'comb': 'median', 'k': 1, 'n': 3}\n",
      "Best rmse:  11.636143029510096\n",
      "Time Series:  vehicle\n",
      "\n",
      "###############################################\n",
      "\n",
      "Executing:  SVR\n",
      "d:  1\n"
     ]
    },
    {
     "name": "stderr",
     "output_type": "stream",
     "text": [
      "100%|██████████████████████████████████████████████████████████████████████████████████| 80/80 [00:01<00:00, 76.40it/s]\n"
     ]
    },
    {
     "name": "stdout",
     "output_type": "stream",
     "text": [
      "Best params:  {'C': 100, 'epsilon': 0.001, 'gamma': 0.01, 'kernel': 'rbf'}\n",
      "Best rmse:  0.1419602509630056\n",
      "\n",
      "###############################################\n",
      "\n",
      "Executing:  GB\n",
      "d:  1\n"
     ]
    },
    {
     "name": "stderr",
     "output_type": "stream",
     "text": [
      "100%|███████████████████████████████████████████████████████████████████████████████| 243/243 [00:02<00:00, 107.90it/s]\n"
     ]
    },
    {
     "name": "stdout",
     "output_type": "stream",
     "text": [
      "Best params:  {'learning_rate': 0.3, 'max_depth': 5, 'max_features': 0.8, 'n_estimators': 50, 'subsample': 1}\n",
      "Best rmse:  0.15872127189683147\n",
      "\n",
      "###############################################\n",
      "\n",
      "Executing:  RF\n",
      "d:  1\n"
     ]
    },
    {
     "name": "stderr",
     "output_type": "stream",
     "text": [
      "100%|██████████████████████████████████████████████████████████████████████████████████| 27/27 [00:01<00:00, 18.18it/s]\n"
     ]
    },
    {
     "name": "stdout",
     "output_type": "stream",
     "text": [
      "Best params:  {'max_depth': 10, 'max_features': 0.8, 'n_estimators': 200}\n",
      "Best rmse:  0.1596468285225269\n",
      "\n",
      "###############################################\n",
      "\n",
      "Executing:  ARIMA\n",
      "d:  1\n",
      "Performing stepwise search to minimize aic\n",
      " ARIMA(2,0,2)(0,0,0)[0]             : AIC=inf, Time=0.23 sec\n",
      " ARIMA(0,0,0)(0,0,0)[0]             : AIC=322.555, Time=0.02 sec\n",
      " ARIMA(1,0,0)(0,0,0)[0]             : AIC=83.173, Time=0.02 sec\n",
      " ARIMA(0,0,1)(0,0,0)[0]             : AIC=188.241, Time=0.02 sec\n",
      " ARIMA(2,0,0)(0,0,0)[0]             : AIC=74.343, Time=0.03 sec\n",
      " ARIMA(3,0,0)(0,0,0)[0]             : AIC=39.491, Time=0.05 sec\n",
      " ARIMA(4,0,0)(0,0,0)[0]             : AIC=5.288, Time=0.08 sec\n",
      " ARIMA(5,0,0)(0,0,0)[0]             : AIC=inf, Time=0.09 sec\n",
      " ARIMA(4,0,1)(0,0,0)[0]             : AIC=inf, Time=0.22 sec\n",
      " ARIMA(3,0,1)(0,0,0)[0]             : AIC=inf, Time=0.18 sec\n",
      " ARIMA(5,0,1)(0,0,0)[0]             : AIC=-27.062, Time=0.17 sec\n",
      " ARIMA(6,0,1)(0,0,0)[0]             : AIC=-25.409, Time=0.22 sec\n",
      " ARIMA(5,0,2)(0,0,0)[0]             : AIC=inf, Time=0.30 sec\n",
      " ARIMA(4,0,2)(0,0,0)[0]             : AIC=inf, Time=0.29 sec\n",
      " ARIMA(6,0,0)(0,0,0)[0]             : AIC=inf, Time=0.13 sec\n",
      " ARIMA(6,0,2)(0,0,0)[0]             : AIC=inf, Time=0.35 sec\n",
      " ARIMA(5,0,1)(0,0,0)[0] intercept   : AIC=-94.154, Time=0.31 sec\n",
      " ARIMA(4,0,1)(0,0,0)[0] intercept   : AIC=-94.911, Time=0.28 sec\n",
      " ARIMA(3,0,1)(0,0,0)[0] intercept   : AIC=-89.238, Time=0.25 sec\n",
      " ARIMA(4,0,0)(0,0,0)[0] intercept   : AIC=-85.410, Time=0.11 sec\n",
      " ARIMA(4,0,2)(0,0,0)[0] intercept   : AIC=-107.480, Time=0.36 sec\n",
      " ARIMA(3,0,2)(0,0,0)[0] intercept   : AIC=-103.027, Time=0.30 sec\n",
      " ARIMA(5,0,2)(0,0,0)[0] intercept   : AIC=-122.299, Time=0.38 sec\n",
      " ARIMA(6,0,2)(0,0,0)[0] intercept   : AIC=-119.392, Time=0.39 sec\n",
      " ARIMA(5,0,3)(0,0,0)[0] intercept   : AIC=-111.813, Time=0.44 sec\n",
      " ARIMA(4,0,3)(0,0,0)[0] intercept   : AIC=-90.362, Time=0.41 sec\n",
      " ARIMA(6,0,1)(0,0,0)[0] intercept   : AIC=-119.705, Time=0.38 sec\n",
      " ARIMA(6,0,3)(0,0,0)[0] intercept   : AIC=-114.385, Time=0.50 sec\n",
      "\n",
      "Best model:  ARIMA(5,0,2)(0,0,0)[0] intercept\n",
      "Total fit time: 6.508 seconds\n"
     ]
    },
    {
     "name": "stderr",
     "output_type": "stream",
     "text": [
      "100%|████████████████████████████████████████████████████████████████████████████████| 146/146 [00:10<00:00, 13.52it/s]\n"
     ]
    },
    {
     "name": "stdout",
     "output_type": "stream",
     "text": [
      "\n",
      "###############################################\n",
      "\n",
      "Executing:  DBN\n",
      "d:  1\n",
      "\n",
      "###############################################\n",
      "\n",
      "Executing:  MLP\n",
      "d:  1\n"
     ]
    },
    {
     "name": "stderr",
     "output_type": "stream",
     "text": [
      "100%|████████████████████████████████████████████████████████████████████████████████████| 9/9 [00:01<00:00,  6.25it/s]\n"
     ]
    },
    {
     "name": "stdout",
     "output_type": "stream",
     "text": [
      "Best params:  {'hidden_layer_sizes': 100, 'max_iter': 1000, 'tol': 0.0001}\n",
      "Best rmse:  0.14984514382567812\n",
      "\n",
      "###############################################\n",
      "\n",
      "Executing:  ELM\n",
      "d:  1\n"
     ]
    },
    {
     "name": "stderr",
     "output_type": "stream",
     "text": [
      "100%|████████████████████████████████████████████████████████████████████████████████████| 5/5 [00:00<00:00,  6.67it/s]\n"
     ]
    },
    {
     "name": "stdout",
     "output_type": "stream",
     "text": [
      "Best params:  {'hidden_dim': 20}\n",
      "Best rmse:  0.15498706401424725\n"
     ]
    },
    {
     "name": "stderr",
     "output_type": "stream",
     "text": [
      "100%|████████████████████████████████████████████████████████████████████████████████| 280/280 [00:03<00:00, 75.13it/s]\n"
     ]
    },
    {
     "name": "stdout",
     "output_type": "stream",
     "text": [
      "Best params:  {'comb': 'median', 'k': 19, 'n': 2}\n",
      "Best rmse:  0.8748672748644405\n",
      "Time Series:  wine\n",
      "\n",
      "###############################################\n",
      "\n",
      "Executing:  SVR\n",
      "d:  1\n"
     ]
    },
    {
     "name": "stderr",
     "output_type": "stream",
     "text": [
      "100%|██████████████████████████████████████████████████████████████████████████████████| 80/80 [00:01<00:00, 76.41it/s]\n"
     ]
    },
    {
     "name": "stdout",
     "output_type": "stream",
     "text": [
      "Best params:  {'C': 1000, 'epsilon': 0.001, 'gamma': 0.01, 'kernel': 'rbf'}\n",
      "Best rmse:  0.07371257888687521\n",
      "\n",
      "###############################################\n",
      "\n",
      "Executing:  GB\n",
      "d:  1\n"
     ]
    },
    {
     "name": "stderr",
     "output_type": "stream",
     "text": [
      "100%|███████████████████████████████████████████████████████████████████████████████| 243/243 [00:01<00:00, 122.16it/s]\n"
     ]
    },
    {
     "name": "stdout",
     "output_type": "stream",
     "text": [
      "Best params:  {'learning_rate': 0.3, 'max_depth': 10, 'max_features': 0.8, 'n_estimators': 100, 'subsample': 0.6}\n",
      "Best rmse:  0.07771080179782733\n",
      "\n",
      "###############################################\n",
      "\n",
      "Executing:  RF\n",
      "d:  1\n"
     ]
    },
    {
     "name": "stderr",
     "output_type": "stream",
     "text": [
      "100%|██████████████████████████████████████████████████████████████████████████████████| 27/27 [00:01<00:00, 18.99it/s]\n"
     ]
    },
    {
     "name": "stdout",
     "output_type": "stream",
     "text": [
      "Best params:  {'max_depth': 15, 'max_features': 0.6, 'n_estimators': 100}\n",
      "Best rmse:  0.08195244704142811\n",
      "\n",
      "###############################################\n",
      "\n",
      "Executing:  ARIMA\n",
      "d:  1\n",
      "Performing stepwise search to minimize aic\n",
      " ARIMA(2,0,2)(0,0,0)[0]             : AIC=inf, Time=0.25 sec\n",
      " ARIMA(0,0,0)(0,0,0)[0]             : AIC=237.805, Time=0.02 sec\n",
      " ARIMA(1,0,0)(0,0,0)[0]             : AIC=4.494, Time=0.02 sec\n",
      " ARIMA(0,0,1)(0,0,0)[0]             : AIC=138.904, Time=0.02 sec\n",
      " ARIMA(2,0,0)(0,0,0)[0]             : AIC=-38.043, Time=0.03 sec\n",
      " ARIMA(3,0,0)(0,0,0)[0]             : AIC=inf, Time=0.03 sec\n",
      " ARIMA(2,0,1)(0,0,0)[0]             : AIC=inf, Time=0.13 sec\n",
      " ARIMA(1,0,1)(0,0,0)[0]             : AIC=inf, Time=0.09 sec\n",
      " ARIMA(3,0,1)(0,0,0)[0]             : AIC=inf, Time=0.14 sec\n",
      " ARIMA(2,0,0)(0,0,0)[0] intercept   : AIC=-167.634, Time=0.06 sec\n",
      " ARIMA(1,0,0)(0,0,0)[0] intercept   : AIC=-146.323, Time=0.03 sec\n",
      " ARIMA(3,0,0)(0,0,0)[0] intercept   : AIC=-169.205, Time=0.19 sec\n",
      " ARIMA(4,0,0)(0,0,0)[0] intercept   : AIC=-170.766, Time=0.08 sec\n",
      " ARIMA(5,0,0)(0,0,0)[0] intercept   : AIC=-169.097, Time=0.08 sec\n",
      " ARIMA(4,0,1)(0,0,0)[0] intercept   : AIC=-184.458, Time=0.27 sec\n",
      " ARIMA(3,0,1)(0,0,0)[0] intercept   : AIC=-187.650, Time=0.31 sec\n",
      " ARIMA(2,0,1)(0,0,0)[0] intercept   : AIC=-191.276, Time=0.25 sec\n",
      " ARIMA(1,0,1)(0,0,0)[0] intercept   : AIC=-191.195, Time=0.24 sec\n",
      " ARIMA(2,0,2)(0,0,0)[0] intercept   : AIC=-190.999, Time=0.66 sec\n",
      " ARIMA(1,0,2)(0,0,0)[0] intercept   : AIC=inf, Time=0.38 sec\n",
      " ARIMA(3,0,2)(0,0,0)[0] intercept   : AIC=-184.730, Time=0.31 sec\n",
      "\n",
      "Best model:  ARIMA(2,0,1)(0,0,0)[0] intercept\n",
      "Total fit time: 3.605 seconds\n"
     ]
    },
    {
     "name": "stderr",
     "output_type": "stream",
     "text": [
      "100%|████████████████████████████████████████████████████████████████████████████████| 114/114 [00:08<00:00, 13.82it/s]\n"
     ]
    },
    {
     "name": "stdout",
     "output_type": "stream",
     "text": [
      "\n",
      "###############################################\n",
      "\n",
      "Executing:  DBN\n",
      "d:  1\n",
      "\n",
      "###############################################\n",
      "\n",
      "Executing:  MLP\n",
      "d:  1\n"
     ]
    },
    {
     "name": "stderr",
     "output_type": "stream",
     "text": [
      "100%|████████████████████████████████████████████████████████████████████████████████████| 9/9 [00:01<00:00,  7.48it/s]\n"
     ]
    },
    {
     "name": "stdout",
     "output_type": "stream",
     "text": [
      "Best params:  {'hidden_layer_sizes': 20, 'max_iter': 1000, 'tol': 0.0001}\n",
      "Best rmse:  0.07900535244282918\n",
      "\n",
      "###############################################\n",
      "\n",
      "Executing:  ELM\n",
      "d:  1\n"
     ]
    },
    {
     "name": "stderr",
     "output_type": "stream",
     "text": [
      "100%|████████████████████████████████████████████████████████████████████████████████████| 5/5 [00:00<00:00,  7.62it/s]\n"
     ]
    },
    {
     "name": "stdout",
     "output_type": "stream",
     "text": [
      "Best params:  {'hidden_dim': 20}\n",
      "Best rmse:  0.08071031649394801\n"
     ]
    },
    {
     "name": "stderr",
     "output_type": "stream",
     "text": [
      "100%|████████████████████████████████████████████████████████████████████████████████| 280/280 [00:03<00:00, 89.64it/s]\n"
     ]
    },
    {
     "name": "stdout",
     "output_type": "stream",
     "text": [
      "Best params:  {'comb': 'median', 'k': 14, 'n': 6}\n",
      "Best rmse:  18.748811580247764\n"
     ]
    }
   ],
   "source": [
    "metric_res = []\n",
    "params_res = []\n",
    "value_res = {}\n",
    "\n",
    "\n",
    "for f in file_names:\n",
    "    print(\"Time Series: \", f)\n",
    "    df = read_file(file_prefix + f + file_suffix)\n",
    "\n",
    "    results = []\n",
    "    m_results = []\n",
    "    for args in models:\n",
    "        run_result = run_model(execution=execution, df=df, train_proportion=train_proportion, val_proportion=val_proportion, plot_curves=plot_curves, max_k = max_k, **args)\n",
    "        results.append((args['model_name'], run_result[0]))\n",
    "        m_results.append((args['model_name'], run_result[1]))\n",
    "\n",
    "    val_index, test_index = define_split_points(df, train_proportion, val_proportion)\n",
    "    min_max_scaler = preprocessing.MinMaxScaler()\n",
    "    \n",
    "    real = df['y'].loc[test_index:].values\n",
    "\n",
    "    if (execution == \"oracle\"):\n",
    "        oracle_pred = oracle([r[1] for r in results], real)\n",
    "        calculate_metrics(oracle_pred, real, True, min_max_scaler, df)\n",
    "\n",
    "    else:\n",
    "        \n",
    "        pred_results = []\n",
    "        v_results = {}\n",
    "        \n",
    "        \n",
    "        min_max_scaler.fit(df['y'].values.reshape(-1,1))\n",
    "        \n",
    "        for r in results:\n",
    "            temp = pd.DataFrame(data = np.zeros(df['y'].size), columns = ['y'])\n",
    "            temp['y'][val_index - max_k:] = r[1]\n",
    "            pred_results.append(temp)\n",
    "            \n",
    "            v_results[r[0]] = min_max_scaler.transform(r[1][-(df['y'].size-test_index):].reshape(-1, 1)).flatten() \n",
    "        v_results['Real'] = min_max_scaler.transform(df['y'].loc[test_index:].values.reshape(-1, 1)).flatten() \n",
    "        \n",
    "                \n",
    "        parameters = {\n",
    "            'k': list(range(1,max_k +1)),\n",
    "            'n': list(range(1,max_n +1)),\n",
    "            'comb': ['median', 'average'],\n",
    "        }\n",
    "        grid = list(ParameterGrid(parameters))\n",
    "        best_params = parallel_gridsearch_dsnaw(df, pred_results, val_index, test_index, parameters)\n",
    "        params_res.append((f, best_params))\n",
    "                \n",
    "        y_dsnaw = test_dsnaw(best_params, df, pred_results, test_index)\n",
    "        m = calculate_metrics(y_dsnaw, real, True, min_max_scaler, df)\n",
    "        m_results.append((\"Proposed\", m))\n",
    "        metric_res.append((f, m_results))\n",
    "        v_results['Proposed'] = min_max_scaler.transform(y_dsnaw.reshape(-1, 1)).flatten() \n",
    "        value_res[f] = v_results\n",
    "        \n",
    "    "
   ]
  },
  {
   "cell_type": "code",
   "execution_count": 37,
   "id": "84a0774b-c68a-4179-92da-62c270e151f4",
   "metadata": {},
   "outputs": [],
   "source": [
    "dict_results = {'metric': metric_res, 'params': params_res, 'value': value_res}\n",
    "\n",
    "with open('results_pkl/proposed.pkl', 'wb') as handle:\n",
    "        pkl.dump(dict_results, handle)"
   ]
  },
  {
   "cell_type": "code",
   "execution_count": null,
   "id": "b82e3ce2-4d91-45b6-bb02-27577b414897",
   "metadata": {},
   "outputs": [],
   "source": []
  }
 ],
 "metadata": {
  "kernelspec": {
   "display_name": "Python 3 (ipykernel)",
   "language": "python",
   "name": "python3"
  },
  "language_info": {
   "codemirror_mode": {
    "name": "ipython",
    "version": 3
   },
   "file_extension": ".py",
   "mimetype": "text/x-python",
   "name": "python",
   "nbconvert_exporter": "python",
   "pygments_lexer": "ipython3",
   "version": "3.9.6"
  }
 },
 "nbformat": 4,
 "nbformat_minor": 5
}
