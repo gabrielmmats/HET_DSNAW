{
 "cells": [
  {
   "cell_type": "code",
   "execution_count": 1,
   "id": "d70ebf36-7a1f-4fc6-b9d4-982bc7304fd3",
   "metadata": {},
   "outputs": [],
   "source": [
    "import numpy as np\n",
    "import pandas as pd\n",
    "from tqdm import tqdm\n",
    "from functools import partial\n",
    "import parallel\n",
    "import matplotlib.pyplot as plt\n",
    "from dbn.models import SupervisedDBNRegression\n",
    "from elm.elm import Model as elm\n",
    "from sklearn.svm import SVR\n",
    "from sklearn.ensemble import GradientBoostingRegressor\n",
    "from sklearn.ensemble import RandomForestRegressor\n",
    "from sklearn.neural_network import MLPRegressor\n",
    "from sklearn.base import clone\n",
    "from sklearn.utils._testing import ignore_warnings\n",
    "from sklearn.exceptions import ConvergenceWarning\n",
    "from sklearn.model_selection import ParameterGrid\n",
    "import sklearn.metrics as metrics\n",
    "from sklearn import preprocessing\n",
    "from statsmodels.tsa.stattools import adfuller\n",
    "from multiprocessing import Pool\n",
    "from statsmodels.tsa.arima_model import ARIMA\n",
    "import pmdarima as pm\n",
    "import itertools"
   ]
  },
  {
   "cell_type": "code",
   "execution_count": 2,
   "id": "c50d7981-800c-42f9-9f28-2406911efcbf",
   "metadata": {},
   "outputs": [],
   "source": [
    "file_names = [\"amz\", \"APPLE\", \"electricity\", \"goldman\", \"msft\", \"pollutions\", \"star\", \"sunspot\", \"vehicle\", \"wine\"]\n",
    "\n",
    "file_prefix = \"dataset/\"\n",
    "file_suffix = \".txt\"\n",
    "\n",
    "ensemble_svr = {'windows': True, 'lags': 20, 'normalize_before_metrics': True, 'differencing_order': 'ADF', 'level': '5%', 'p_level': 0.05}\n",
    "ens_size = 100\n",
    "\n",
    "execution=\"dsnaw\" # dsnaw or dsla\n",
    "\n",
    "plot_curves = False\n",
    "train_proportion = 1/2\n",
    "val_proportion = 1/4\n",
    "max_k = 20\n",
    "max_n = min(20, ens_size)"
   ]
  },
  {
   "cell_type": "code",
   "execution_count": 3,
   "id": "1163a523-71f1-471d-bee0-d5bf102fc875",
   "metadata": {},
   "outputs": [],
   "source": [
    "#read files\n",
    "def read_file(path):\n",
    "    array_ts = np.loadtxt(path)\n",
    "    df = pd.DataFrame(data = array_ts, columns = ['y'])\n",
    "    return df"
   ]
  },
  {
   "cell_type": "code",
   "execution_count": 4,
   "id": "0adb11be-a3f9-4917-bd78-d714d43378be",
   "metadata": {},
   "outputs": [],
   "source": [
    "#define split points\n",
    "\n",
    "def define_split_points(df, train, val):\n",
    "    val_index = int(df.shape[0]*train)\n",
    "    test_index = int(df.shape[0]*(train+val))\n",
    "\n",
    "    # fig, ax=plt.subplots(figsize=(9, 4))\n",
    "    # df['y'].loc[:val_index-1].plot(ax=ax, label = 'train')\n",
    "    # df['y'].loc[val_index:test_index-1].plot(ax=ax, label = 'validation')\n",
    "    # df['y'].loc[test_index:].plot(ax=ax, label = 'test')\n",
    "    # ax.legend()\n",
    "    \n",
    "    return val_index, test_index\n"
   ]
  },
  {
   "cell_type": "code",
   "execution_count": 5,
   "id": "7e08b8bd-b936-444c-8567-ee3ab4c17c9e",
   "metadata": {},
   "outputs": [],
   "source": [
    "#difference time series\n",
    "\n",
    "def check_ADF(ts, lvl, p_lvl):\n",
    "    result = adfuller(ts)\n",
    "    return result[0] < result[4][lvl] and result[1] < p_lvl\n",
    "\n",
    "def difference(df, differencing_order, level, p_level):\n",
    "\n",
    "    df_differenced = None\n",
    "    if differencing_order:    \n",
    "        df_differenced = df.copy()\n",
    "\n",
    "        if differencing_order == 'ADF':\n",
    "            stationary = check_ADF(df_differenced['y'].values, level, p_level)\n",
    "            d = 0\n",
    "            while not stationary:\n",
    "                df_differenced = df_differenced.diff().dropna()\n",
    "                d += 1\n",
    "                stationary = check_ADF(df_differenced['y'].values, level, p_level)\n",
    "            if d == 0:\n",
    "                df_differenced = None\n",
    "            differencing_order = d\n",
    "        else:\n",
    "            i = 0\n",
    "            while i < differencing_order:\n",
    "                df_differenced = df_differenced.diff().dropna()\n",
    "                i+=1\n",
    "                \n",
    "    print(\"d: \", differencing_order)\n",
    "    # if differencing_order:\n",
    "    #     fig, ax=plt.subplots(figsize=(9, 4))\n",
    "    #     df_differenced.y.plot(ax = ax)\n",
    "        \n",
    "    return df_differenced, differencing_order\n"
   ]
  },
  {
   "cell_type": "code",
   "execution_count": 6,
   "id": "3a7b31b5-b50d-4a72-b52d-4439d7a1999a",
   "metadata": {},
   "outputs": [],
   "source": [
    "#normalize time series\n",
    "\n",
    "def normalize(df, val_index, d):\n",
    "    min_max_scaler = preprocessing.MinMaxScaler()\n",
    "    min_max_scaler.fit(df['y'].loc[:val_index-1].values.reshape(-1,1))\n",
    "    df_normalized = pd.DataFrame({'y': np.append(np.zeros(d),min_max_scaler.transform(df['y'].values.reshape(-1, 1)).flatten())}).iloc[d:]\n",
    "    \n",
    "    return df_normalized, min_max_scaler\n"
   ]
  },
  {
   "cell_type": "code",
   "execution_count": 7,
   "id": "93b32bff-2b57-4892-9b29-72df0041822c",
   "metadata": {},
   "outputs": [],
   "source": [
    "#create windows\n",
    "\n",
    "def create_windows(df, lags):\n",
    "    df_windowed = df.copy()\n",
    "    df_windowed['x'] = df_windowed['y'].shift()\n",
    "    for i in range(1, lags):\n",
    "        df_windowed[f'x-{i}'] = df_windowed['x'].shift(i)\n",
    "    df_windowed = df_windowed.dropna()\n",
    "    return df_windowed"
   ]
  },
  {
   "cell_type": "code",
   "execution_count": 8,
   "id": "96b98610-d9d3-43cc-96a2-b57da9ee947b",
   "metadata": {},
   "outputs": [],
   "source": [
    "#SVR\n",
    "\n",
    "def svr_model(lags):\n",
    "    parameters = {'C':[1, 10, 100, 1000], 'gamma': [0.001, 0.01, 0.1, 1],\n",
    "                      'kernel':[\"rbf\"],\n",
    "                      'epsilon': [0.1, 0.01, 0.001, 0.0001, 0.00001],\n",
    "                 }\n",
    "\n",
    "    model = SVR(max_iter = 10000)\n",
    "\n",
    "    return model, parameters"
   ]
  },
  {
   "cell_type": "code",
   "execution_count": 9,
   "id": "78ff7ece-000f-4085-8c18-817eb7a6134b",
   "metadata": {
    "tags": []
   },
   "outputs": [],
   "source": [
    "def recursive_differencing_coefficients(order):\n",
    "    if order <= 1:\n",
    "        return np.array([1, -1])\n",
    "    else:\n",
    "        prev_coefficients = recursive_differencing_coefficients(order-1)\n",
    "        coefficients = np.zeros(order+1)\n",
    "        coefficients[0] = prev_coefficients[0]\n",
    "        coefficients[-1] = -prev_coefficients[-1]\n",
    "        for i in range(1, order):\n",
    "            coefficients[i] = prev_coefficients[i] - prev_coefficients[i-1]\n",
    "        return coefficients   \n",
    "\n",
    "def inverse_difference(differencing_order, df, df_diff, test_index, y_pred):\n",
    "    df_pred = df.copy()\n",
    "    \n",
    "    for i in range(1, differencing_order + 1):\n",
    "        df_pred[f'y-{i}'] = df_pred['y'].shift(i)\n",
    "    \n",
    "    df_pred['y_diff'] = df_diff['y']\n",
    "    df_pred['y_diff'][test_index:] = y_pred\n",
    "    \n",
    "    df_pred.fillna(0, inplace=True)\n",
    "    \n",
    "    coefficients = recursive_differencing_coefficients(differencing_order)\n",
    "    df_pred['y_pred'] = df_pred['y_diff']\n",
    "    for i in range(1, differencing_order + 1):\n",
    "        df_pred['y_pred'] = df_pred['y_pred'] - coefficients[i]*df_pred[f'y-{i}']\n",
    "        \n",
    "    y_pred = df_pred['y_pred'][test_index:].values    \n",
    "    y_test = df_pred['y'][test_index:].values\n",
    "    \n",
    "    return y_pred, y_test\n"
   ]
  },
  {
   "cell_type": "code",
   "execution_count": 10,
   "id": "142e93db-40fc-4d84-88d3-090af92f5668",
   "metadata": {
    "tags": []
   },
   "outputs": [],
   "source": [
    "#plot results\n",
    "def plot_results(y_pred, y_test):\n",
    "    fig, ax=plt.subplots(figsize=(9, 4))\n",
    "    plt.plot(y_pred, label = 'predicted')\n",
    "    plt.plot(y_test, label = 'real')\n",
    "    ax.legend()\n",
    "    plt.show()"
   ]
  },
  {
   "cell_type": "code",
   "execution_count": 11,
   "id": "ff133909-af3c-4e6d-a8b3-08abf2962289",
   "metadata": {},
   "outputs": [],
   "source": [
    "def oracle(preds, real):\n",
    "    best_pred = np.zeros(real.size)\n",
    "    for i in range(real.size):\n",
    "        candidates = np.array([p[i] for p in preds])\n",
    "        idx = np.argmin(np.absolute(candidates - real[i]))\n",
    "        best_pred[i] = candidates[idx]\n",
    "    return best_pred"
   ]
  },
  {
   "cell_type": "code",
   "execution_count": 12,
   "id": "89830e38-9dc7-43da-ad2b-4969f00da99e",
   "metadata": {},
   "outputs": [],
   "source": [
    "#calculate metrics\n",
    "\n",
    "def mean_absolute_percentage_error(y_true, y_pred):\n",
    "    y_true = np.asarray(y_true).reshape(-1)\n",
    "    y_pred = np.asarray(y_pred).reshape(-1)\n",
    "\n",
    "    posi_with_zeros = np.where(y_true == 0)[0]\n",
    "\n",
    "    y_true = [n for k, n in enumerate(y_true) if k not in posi_with_zeros]\n",
    "    y_pred = [n for k, n in enumerate(y_pred) if k not in posi_with_zeros]\n",
    "    \n",
    "    y_true = np.asarray(y_true).reshape(-1)\n",
    "    y_pred = np.asarray(y_pred).reshape(-1)\n",
    "    return np.mean(np.abs((y_true - y_pred) / y_true)) * 100\n",
    "\n",
    "def mean_absolute_percentage_error(y_true, y_pred):\n",
    "    y_true = np.asarray(y_true).reshape(-1)\n",
    "    y_pred = np.asarray(y_pred).reshape(-1)\n",
    "\n",
    "    posi_with_zeros = np.where(y_true == 0)[0]\n",
    "\n",
    "    y_true = [n for k, n in enumerate(y_true) if k not in posi_with_zeros]\n",
    "    y_pred = [n for k, n in enumerate(y_pred) if k not in posi_with_zeros]\n",
    "    \n",
    "    y_true = np.asarray(y_true).reshape(-1)\n",
    "    y_pred = np.asarray(y_pred).reshape(-1)\n",
    "    return np.mean(np.abs((y_true - y_pred) / y_true)) * 100\n",
    "\n",
    "\n",
    "def symmetric_mean_absolute_percentage_error(y_true, y_pred):\n",
    "    y_true = np.asarray(y_true).reshape(-1)\n",
    "    y_pred = np.asarray(y_pred).reshape(-1)\n",
    "\n",
    "    posi_with_zeros = np.where((np.abs(y_true)+np.abs(y_pred))/2 == 0 )[0]\n",
    "\n",
    "    y_true = [n for k, n in enumerate(y_true) if k not in posi_with_zeros]\n",
    "    y_pred = [n for k, n in enumerate(y_pred) if k not in posi_with_zeros]\n",
    "    \n",
    "    y_true = np.asarray(y_true).reshape(-1)\n",
    "    y_pred = np.asarray(y_pred).reshape(-1)\n",
    "    return np.mean(np.abs(y_true - y_pred) / ((np.abs(y_true)+np.abs(y_pred))/2)) * 100\n",
    "\n",
    "\n",
    "def mean_absolute_error(y_true, y_pred):\n",
    "    \n",
    "    y_true = np.asarray(y_true).reshape(-1)\n",
    "    y_pred = np.asarray(y_pred).reshape(-1)\n",
    "\n",
    "    return np.mean(np.abs(y_true - y_pred))\n",
    "\n",
    "def average_relative_variance(y_true, y_pred):\n",
    "    y_true = np.asarray(y_true).reshape(-1)\n",
    "    y_pred = np.asarray(y_pred).reshape(-1)\n",
    "    mean = np.mean(y_true)\n",
    "\n",
    "    error_sup = np.square(np.subtract(y_true, y_pred)).sum()\n",
    "    error_inf = np.square(np.subtract(y_pred, mean)).sum()\n",
    "\n",
    "    return error_sup / error_inf\n",
    "\n",
    "def calculate_metrics(y_pred, y_test, normalize_before_metrics, scaler, df):\n",
    "    if normalize_before_metrics:\n",
    "        scaler.fit(df['y'].values.reshape(-1,1))\n",
    "        y_pred = scaler.transform(y_pred.reshape(-1, 1)).flatten()\n",
    "        y_test = scaler.transform(y_test.reshape(-1, 1)).flatten()\n",
    "\n",
    "    mse = metrics.mean_squared_error(y_test, y_pred)\n",
    "    rmse = np.sqrt(mse)\n",
    "    nrmse = rmse/(y_test.max()-y_test.min())\n",
    "    mape = mean_absolute_percentage_error(y_test, y_pred)\n",
    "    smape = symmetric_mean_absolute_percentage_error(y_test, y_pred)\n",
    "    arv = average_relative_variance(y_test, y_pred)\n",
    "    mae = mean_absolute_error(y_test, y_pred)\n",
    "    \n",
    "    res = {'MSE': mse, 'MAPE': mape, 'ARV': arv, 'MAE': mae, 'RMSE': rmse, 'NRMSE': nrmse, 'SMAPE': smape}\n",
    "    \n",
    "    # for key, value in res.items():\n",
    "    #     print(f'{key}: {value}')\n",
    "    \n",
    "    return res"
   ]
  },
  {
   "cell_type": "code",
   "execution_count": 13,
   "id": "05e8b125-721a-460f-8c30-1bd2088ae559",
   "metadata": {},
   "outputs": [],
   "source": [
    "#gridsearch\n",
    "\n",
    "def parallel_gridsearch_ds(df, pred_results, val_index, test_index, param_grid, method, euclidians = None):\n",
    "    pool = Pool()\n",
    "    list_params = list(ParameterGrid(param_grid))\n",
    "    if method == \"dsnaw\":\n",
    "        results = list(tqdm(pool.imap(partial(parallel.validate_ds_params, df=df, pred_results=pred_results, val_index=val_index, test_index=test_index, method = \"dsnaw\"), list_params), total=len(list_params)))\n",
    "    elif method == \"dsla\":\n",
    "        results = list(tqdm(pool.imap(partial(parallel.validate_ds_params, df=df, pred_results=pred_results, val_index=val_index, test_index=test_index, method = \"dsla\", euclidians=euclidians), list_params), total=len(list_params)))\n",
    "\n",
    "    \n",
    "    idx = np.argmin([r[1] for r in results])\n",
    "    \n",
    "    best_params = results[idx][0]\n",
    "    best_rmse = results[idx][1]\n",
    "    \n",
    "    pool.close()\n",
    "    pool.join()\n",
    "    \n",
    "    print('Best params: ', best_params)\n",
    "    print('Best rmse: ', best_rmse)\n",
    "    return best_params"
   ]
  },
  {
   "cell_type": "code",
   "execution_count": 14,
   "id": "e51eb454-65e4-475a-a67a-696774074f67",
   "metadata": {},
   "outputs": [],
   "source": [
    "def test_ds(params, df, pred_results, val_index, test_index, method, euclidians=None):\n",
    "    k = params['k']\n",
    "    n = params['n']\n",
    "    comb = params['comb']    \n",
    "    \n",
    "    y_dsnaw = np.zeros(df['y'].size-test_index)\n",
    "    for i in range(test_index, df['y'].size):\n",
    "        rmse_roc = []\n",
    "        if method==\"dsla\":\n",
    "            real_roc = df['y'].loc[euclidians[i-val_index,:k]].values\n",
    "        else:\n",
    "            real_roc = df['y'].loc[i-k:i-1].values\n",
    "        for j in range(0, len(pred_results)):      \n",
    "            pred_roc = pred_results[j]['y'].loc[i-k:i-1].values\n",
    "            rmse_roc.append((j, np.sqrt(metrics.mean_squared_error(pred_roc, real_roc))))\n",
    "        sorted_rmse_roc = sorted(rmse_roc, key=lambda x: x[1])\n",
    "        \n",
    "        comb_values = np.zeros(n)\n",
    "        for j in range(0, n):\n",
    "            comb_values[j] = pred_results[sorted_rmse_roc[j][0]]['y'].loc[i]\n",
    "        if comb == 'median':\n",
    "            y_dsnaw[i-test_index] = np.median(comb_values)\n",
    "        else:\n",
    "            y_dsnaw[i-test_index] = np.average(comb_values)\n",
    "\n",
    "    return y_dsnaw"
   ]
  },
  {
   "cell_type": "code",
   "execution_count": 15,
   "id": "bd4d511f-ca06-4d18-934e-3d06e3e4cc13",
   "metadata": {
    "tags": []
   },
   "outputs": [],
   "source": [
    "#test model\n",
    "\n",
    "def test_model(model, df, test_index, scaler):   \n",
    "    y_test = df['y'].loc[test_index:].values\n",
    "    x_test = df.drop(columns = ['y']).loc[test_index:].values\n",
    "    y_pred = model.predict(x_test)\n",
    "    y_pred = scaler.inverse_transform(y_pred.reshape(-1, 1)).flatten()\n",
    "    y_test = scaler.inverse_transform(y_test.reshape(-1, 1)).flatten()\n",
    "\n",
    "    return y_pred, y_test"
   ]
  },
  {
   "cell_type": "code",
   "execution_count": 16,
   "id": "ca49f26f-0110-4d1b-b99b-092af58d1afc",
   "metadata": {},
   "outputs": [],
   "source": [
    "def parallel_gridsearch(estimator, param_grid, x_train, y_train, x_val, y_val):\n",
    "    pool = Pool()\n",
    "    list_params = list(ParameterGrid(param_grid))\n",
    "    results = list(tqdm(pool.imap(partial(parallel.validate_params, estimator=estimator, x_train=x_train, \n",
    "                               y_train=y_train, x_val=x_val, y_val=y_val), list_params), total=len(list_params)))\n",
    "    idx = np.argmin([r[1] for r in results])\n",
    "    best_params = results[idx][0]\n",
    "    best_rmse = results[idx][1]\n",
    "    \n",
    "    pool.close()\n",
    "    pool.join()\n",
    "    print('Best params: ', best_params)\n",
    "    print('Best rmse: ', best_rmse)\n",
    "    return best_params"
   ]
  },
  {
   "cell_type": "code",
   "execution_count": 17,
   "id": "d18876ff-e349-4f22-a678-b16c58a29a4a",
   "metadata": {},
   "outputs": [],
   "source": [
    "@ignore_warnings(category=ConvergenceWarning)\n",
    "def train_svr(x_train, y_train, x_val, y_val):\n",
    "    \n",
    "    param_grid = {'C':[1, 10, 100, 1000], 'gamma': [0.001, 0.01, 0.1, 1],\n",
    "                      'kernel':[\"rbf\"],\n",
    "                      'epsilon': [0.1, 0.01, 0.001, 0.0001, 0.00001],\n",
    "                 }\n",
    "\n",
    "    model = SVR(max_iter = 10000)\n",
    "    \n",
    "    best_params = parallel_gridsearch(model, param_grid, \n",
    "                                    x_train, y_train,\n",
    "                                    x_val, y_val)\n",
    "\n",
    "    model.set_params(**best_params)\n",
    "    model.fit(x_train, y_train)\n",
    "\n",
    "    \n",
    "    # for k, g, e, c in hyper_param:\n",
    "    #     modelo = SVR(kernel=k,gamma=g, epsilon=e, C=c, max_iter = 10000)\n",
    "    #     modelo.fit(x_train, y_train)\n",
    "    #     prev_v = modelo.predict(x_val)\n",
    "    #     novo_mse  = metrics.mean_squared_error(y_val, prev_v)\n",
    "    #     if novo_mse < melhor_mse:\n",
    "    #         melhor_mse = novo_mse\n",
    "    #         melhor_modelo = modelo\n",
    "\n",
    "    return model, None"
   ]
  },
  {
   "cell_type": "code",
   "execution_count": 18,
   "id": "6b75ecba-a943-4582-a670-98b0d8d24805",
   "metadata": {},
   "outputs": [],
   "source": [
    "def reamostragem(serie, n):\n",
    "    size = len(serie)\n",
    "    #nova_particao = []\n",
    "    ind_particao = []\n",
    "    for i in range(n):\n",
    "        ind_r = np.random.randint(size)\n",
    "        ind_particao.append(ind_r)\n",
    "        #nova_particao.append(serie[ind_r,:])\n",
    "    \n",
    "    return ind_particao"
   ]
  },
  {
   "cell_type": "code",
   "execution_count": 19,
   "id": "e338e177-1e30-4a9a-81b4-3172be8e65a1",
   "metadata": {},
   "outputs": [],
   "source": [
    "def bagging(qtd_modelos, X_train, Y_train, val_index):\n",
    "    \n",
    "    ens = []\n",
    "    ensemble = {'models':[], 'indices': [] }   \n",
    "    ind_particao = []\n",
    "    \n",
    "    # if len(y_train.shape) == 1:\n",
    "    #     y_train =  y_train.reshape(len(y_train), 1)\n",
    "    \n",
    "    \n",
    "    # train = np.hstack([X_train, y_train])\n",
    "    train = X_train\n",
    "    \n",
    "    for i in range(qtd_modelos):\n",
    "        \n",
    "        print('Training model: ', i)\n",
    "        tam = len(train)\n",
    "       \n",
    "        indices = reamostragem(train, tam)\n",
    "        # indices = np.arange(tam)\n",
    "        \n",
    "        \n",
    "        particao_x = X_train[indices]\n",
    "        particao_y = Y_train[indices]\n",
    "\n",
    "        \n",
    "        # x_train = Xtrain[0:-tam_val, lags_acf]\n",
    "        x_train = particao_x[:val_index]\n",
    "        y_train = particao_y[:val_index]\n",
    "        # x_val = Xtrain[-tam_val:, lags_acf]\n",
    "        x_val = particao_x[val_index:]\n",
    "        y_val = particao_y[val_index:]\n",
    "        \n",
    "        \n",
    "        \n",
    "        model, _ = train_svr(x_train, y_train, x_val, y_val)\n",
    "        ens.append(model)\n",
    "   \n",
    "    return ens"
   ]
  },
  {
   "cell_type": "code",
   "execution_count": 20,
   "id": "08b1d626-ffab-4e00-8755-43ce41e3d2ce",
   "metadata": {},
   "outputs": [],
   "source": [
    "def get_euclidian_neighbors(df, max_k, lags, val_index, test_index):\n",
    "    euclidian_windows = np.zeros((df['y'].size-val_index, max_k))\n",
    "    i_list = list(range(val_index, df['y'].size))             \n",
    "    pool = Pool()\n",
    "    results = list(tqdm(pool.imap(partial(parallel.sort_euclidian_distances, df=df, k=max_k, lags=lags, val_index=val_index, test_index=test_index), i_list), total=len(i_list)))\n",
    "    for r in results:\n",
    "        euclidian_windows[r[0]-val_index] = r[1]\n",
    "    pool.close()\n",
    "    pool.join()\n",
    "    return euclidian_windows"
   ]
  },
  {
   "cell_type": "code",
   "execution_count": 21,
   "id": "792978f0-c912-4681-9bd7-5af8b8bbb75b",
   "metadata": {},
   "outputs": [],
   "source": [
    "def run_ensemble(execution, df, ens_size, train_proportion, val_proportion, windows, lags, max_k, plot_curves, normalize_before_metrics, differencing_order, level, p_level):\n",
    "    print(\"\\n###############################################\\n\")\n",
    "    print(\"Executing: ENSEMBLE SVR\")\n",
    "    val_index, test_index = define_split_points(df, train_proportion, val_proportion)\n",
    "    d = 0\n",
    "    if differencing_order:\n",
    "        df_differenced, d = difference(df, differencing_order, level, p_level)\n",
    "    if(d):\n",
    "        df_normalized, min_max_scaler = normalize(df_differenced, val_index, d)\n",
    "    else:\n",
    "        df_normalized, min_max_scaler = normalize(df, val_index, d)\n",
    "\n",
    "    if(windows):\n",
    "        df_normalized = create_windows(df_normalized, lags)\n",
    "        \n",
    "    x_train = df_normalized.drop(columns = ['y']).loc[:test_index-1].values\n",
    "    y_train = df_normalized['y'].loc[:test_index-1].values\n",
    "    ens = bagging(ens_size, x_train, y_train, val_index-lags-d)\n",
    "    result_index = val_index - max_k\n",
    "    \n",
    "    euclidian_windows = None\n",
    "    if execution == \"dsla\":\n",
    "        euclidian_windows = get_euclidian_neighbors(df, max_k, lags, val_index, test_index)\n",
    "    res = []\n",
    "    for e in ens:\n",
    "        y_pred, y_test = test_model(e, df_normalized, result_index, min_max_scaler)\n",
    "        if d:\n",
    "            y_pred, y_test = inverse_difference(d, df, df_differenced, result_index, y_pred)        \n",
    "        if plot_curves:\n",
    "            plot_results(y_pred[(test_index-result_index):], y_test[(test_index-result_index):])\n",
    "        res.append(y_pred)\n",
    "    return res, euclidian_windows"
   ]
  },
  {
   "cell_type": "code",
   "execution_count": 22,
   "id": "05cae07d-0206-4dd2-806b-9a8584c23e7f",
   "metadata": {},
   "outputs": [
    {
     "name": "stdout",
     "output_type": "stream",
     "text": [
      "Time Series:  amz\n",
      "\n",
      "###############################################\n",
      "\n",
      "Executing: ENSEMBLE SVR\n",
      "d:  1\n",
      "Training model:  0\n"
     ]
    },
    {
     "name": "stderr",
     "output_type": "stream",
     "text": [
      "100%|██████████████████████████████████████████████████████████████████████████████████| 80/80 [00:02<00:00, 32.01it/s]\n"
     ]
    },
    {
     "name": "stdout",
     "output_type": "stream",
     "text": [
      "Best params:  {'C': 10, 'epsilon': 0.01, 'gamma': 1, 'kernel': 'rbf'}\n",
      "Best rmse:  0.09009275265292384\n",
      "Training model:  1\n"
     ]
    },
    {
     "name": "stderr",
     "output_type": "stream",
     "text": [
      "100%|██████████████████████████████████████████████████████████████████████████████████| 80/80 [00:02<00:00, 32.11it/s]\n"
     ]
    },
    {
     "name": "stdout",
     "output_type": "stream",
     "text": [
      "Best params:  {'C': 1, 'epsilon': 0.1, 'gamma': 1, 'kernel': 'rbf'}\n",
      "Best rmse:  0.09665814311743401\n",
      "Training model:  2\n"
     ]
    },
    {
     "name": "stderr",
     "output_type": "stream",
     "text": [
      "100%|██████████████████████████████████████████████████████████████████████████████████| 80/80 [00:02<00:00, 32.00it/s]\n"
     ]
    },
    {
     "name": "stdout",
     "output_type": "stream",
     "text": [
      "Best params:  {'C': 1000, 'epsilon': 0.1, 'gamma': 0.01, 'kernel': 'rbf'}\n",
      "Best rmse:  0.09497159166827716\n",
      "Training model:  3\n"
     ]
    },
    {
     "name": "stderr",
     "output_type": "stream",
     "text": [
      "100%|██████████████████████████████████████████████████████████████████████████████████| 80/80 [00:02<00:00, 31.16it/s]\n"
     ]
    },
    {
     "name": "stdout",
     "output_type": "stream",
     "text": [
      "Best params:  {'C': 1, 'epsilon': 0.0001, 'gamma': 0.001, 'kernel': 'rbf'}\n",
      "Best rmse:  0.09169123400726208\n",
      "Training model:  4\n"
     ]
    },
    {
     "name": "stderr",
     "output_type": "stream",
     "text": [
      "100%|██████████████████████████████████████████████████████████████████████████████████| 80/80 [00:02<00:00, 29.78it/s]\n"
     ]
    },
    {
     "name": "stdout",
     "output_type": "stream",
     "text": [
      "Best params:  {'C': 1, 'epsilon': 0.01, 'gamma': 1, 'kernel': 'rbf'}\n",
      "Best rmse:  0.09403742852803054\n",
      "Training model:  5\n"
     ]
    },
    {
     "name": "stderr",
     "output_type": "stream",
     "text": [
      "100%|██████████████████████████████████████████████████████████████████████████████████| 80/80 [00:02<00:00, 31.39it/s]\n"
     ]
    },
    {
     "name": "stdout",
     "output_type": "stream",
     "text": [
      "Best params:  {'C': 10, 'epsilon': 0.01, 'gamma': 1, 'kernel': 'rbf'}\n",
      "Best rmse:  0.09100006487214077\n",
      "Training model:  6\n"
     ]
    },
    {
     "name": "stderr",
     "output_type": "stream",
     "text": [
      "100%|██████████████████████████████████████████████████████████████████████████████████| 80/80 [00:02<00:00, 31.22it/s]\n"
     ]
    },
    {
     "name": "stdout",
     "output_type": "stream",
     "text": [
      "Best params:  {'C': 1, 'epsilon': 0.1, 'gamma': 1, 'kernel': 'rbf'}\n",
      "Best rmse:  0.09301361004573228\n",
      "Training model:  7\n"
     ]
    },
    {
     "name": "stderr",
     "output_type": "stream",
     "text": [
      "100%|██████████████████████████████████████████████████████████████████████████████████| 80/80 [00:02<00:00, 31.65it/s]\n"
     ]
    },
    {
     "name": "stdout",
     "output_type": "stream",
     "text": [
      "Best params:  {'C': 1, 'epsilon': 0.01, 'gamma': 1, 'kernel': 'rbf'}\n",
      "Best rmse:  0.08531068480334333\n",
      "Training model:  8\n"
     ]
    },
    {
     "name": "stderr",
     "output_type": "stream",
     "text": [
      "100%|██████████████████████████████████████████████████████████████████████████████████| 80/80 [00:02<00:00, 31.20it/s]\n"
     ]
    },
    {
     "name": "stdout",
     "output_type": "stream",
     "text": [
      "Best params:  {'C': 10, 'epsilon': 0.1, 'gamma': 0.1, 'kernel': 'rbf'}\n",
      "Best rmse:  0.09167826996249148\n",
      "Training model:  9\n"
     ]
    },
    {
     "name": "stderr",
     "output_type": "stream",
     "text": [
      "100%|██████████████████████████████████████████████████████████████████████████████████| 80/80 [00:02<00:00, 30.74it/s]\n"
     ]
    },
    {
     "name": "stdout",
     "output_type": "stream",
     "text": [
      "Best params:  {'C': 1, 'epsilon': 0.1, 'gamma': 1, 'kernel': 'rbf'}\n",
      "Best rmse:  0.09907472591890003\n",
      "Training model:  10\n"
     ]
    },
    {
     "name": "stderr",
     "output_type": "stream",
     "text": [
      "100%|██████████████████████████████████████████████████████████████████████████████████| 80/80 [00:02<00:00, 30.70it/s]\n"
     ]
    },
    {
     "name": "stdout",
     "output_type": "stream",
     "text": [
      "Best params:  {'C': 100, 'epsilon': 0.1, 'gamma': 0.01, 'kernel': 'rbf'}\n",
      "Best rmse:  0.09117425959847104\n",
      "Training model:  11\n"
     ]
    },
    {
     "name": "stderr",
     "output_type": "stream",
     "text": [
      "100%|██████████████████████████████████████████████████████████████████████████████████| 80/80 [00:02<00:00, 31.07it/s]\n"
     ]
    },
    {
     "name": "stdout",
     "output_type": "stream",
     "text": [
      "Best params:  {'C': 1, 'epsilon': 0.1, 'gamma': 1, 'kernel': 'rbf'}\n",
      "Best rmse:  0.09178962917392347\n",
      "Training model:  12\n"
     ]
    },
    {
     "name": "stderr",
     "output_type": "stream",
     "text": [
      "100%|██████████████████████████████████████████████████████████████████████████████████| 80/80 [00:02<00:00, 30.39it/s]\n"
     ]
    },
    {
     "name": "stdout",
     "output_type": "stream",
     "text": [
      "Best params:  {'C': 10, 'epsilon': 0.1, 'gamma': 0.1, 'kernel': 'rbf'}\n",
      "Best rmse:  0.09346032201513838\n",
      "Training model:  13\n"
     ]
    },
    {
     "name": "stderr",
     "output_type": "stream",
     "text": [
      "100%|██████████████████████████████████████████████████████████████████████████████████| 80/80 [00:02<00:00, 30.45it/s]\n"
     ]
    },
    {
     "name": "stdout",
     "output_type": "stream",
     "text": [
      "Best params:  {'C': 10, 'epsilon': 0.1, 'gamma': 0.1, 'kernel': 'rbf'}\n",
      "Best rmse:  0.09774211078562083\n",
      "Training model:  14\n"
     ]
    },
    {
     "name": "stderr",
     "output_type": "stream",
     "text": [
      "100%|██████████████████████████████████████████████████████████████████████████████████| 80/80 [00:02<00:00, 31.29it/s]\n"
     ]
    },
    {
     "name": "stdout",
     "output_type": "stream",
     "text": [
      "Best params:  {'C': 1, 'epsilon': 0.01, 'gamma': 1, 'kernel': 'rbf'}\n",
      "Best rmse:  0.0961888272286354\n",
      "Training model:  15\n"
     ]
    },
    {
     "name": "stderr",
     "output_type": "stream",
     "text": [
      "100%|██████████████████████████████████████████████████████████████████████████████████| 80/80 [00:02<00:00, 31.13it/s]\n"
     ]
    },
    {
     "name": "stdout",
     "output_type": "stream",
     "text": [
      "Best params:  {'C': 1, 'epsilon': 0.01, 'gamma': 1, 'kernel': 'rbf'}\n",
      "Best rmse:  0.08717897527504571\n",
      "Training model:  16\n"
     ]
    },
    {
     "name": "stderr",
     "output_type": "stream",
     "text": [
      "100%|██████████████████████████████████████████████████████████████████████████████████| 80/80 [00:02<00:00, 31.66it/s]\n"
     ]
    },
    {
     "name": "stdout",
     "output_type": "stream",
     "text": [
      "Best params:  {'C': 1, 'epsilon': 0.1, 'gamma': 1, 'kernel': 'rbf'}\n",
      "Best rmse:  0.0943191419414022\n",
      "Training model:  17\n"
     ]
    },
    {
     "name": "stderr",
     "output_type": "stream",
     "text": [
      "100%|██████████████████████████████████████████████████████████████████████████████████| 80/80 [00:02<00:00, 31.69it/s]\n"
     ]
    },
    {
     "name": "stdout",
     "output_type": "stream",
     "text": [
      "Best params:  {'C': 1000, 'epsilon': 0.01, 'gamma': 0.01, 'kernel': 'rbf'}\n",
      "Best rmse:  0.08984916728749594\n",
      "Training model:  18\n"
     ]
    },
    {
     "name": "stderr",
     "output_type": "stream",
     "text": [
      "100%|██████████████████████████████████████████████████████████████████████████████████| 80/80 [00:02<00:00, 31.47it/s]\n"
     ]
    },
    {
     "name": "stdout",
     "output_type": "stream",
     "text": [
      "Best params:  {'C': 1, 'epsilon': 0.01, 'gamma': 1, 'kernel': 'rbf'}\n",
      "Best rmse:  0.09778335653513762\n",
      "Training model:  19\n"
     ]
    },
    {
     "name": "stderr",
     "output_type": "stream",
     "text": [
      "100%|██████████████████████████████████████████████████████████████████████████████████| 80/80 [00:02<00:00, 30.21it/s]\n"
     ]
    },
    {
     "name": "stdout",
     "output_type": "stream",
     "text": [
      "Best params:  {'C': 1, 'epsilon': 0.1, 'gamma': 1, 'kernel': 'rbf'}\n",
      "Best rmse:  0.09833292413709128\n",
      "Training model:  20\n"
     ]
    },
    {
     "name": "stderr",
     "output_type": "stream",
     "text": [
      "100%|██████████████████████████████████████████████████████████████████████████████████| 80/80 [00:02<00:00, 31.03it/s]\n"
     ]
    },
    {
     "name": "stdout",
     "output_type": "stream",
     "text": [
      "Best params:  {'C': 1, 'epsilon': 0.1, 'gamma': 1, 'kernel': 'rbf'}\n",
      "Best rmse:  0.09578616951950042\n",
      "Training model:  21\n"
     ]
    },
    {
     "name": "stderr",
     "output_type": "stream",
     "text": [
      "100%|██████████████████████████████████████████████████████████████████████████████████| 80/80 [00:02<00:00, 31.55it/s]\n"
     ]
    },
    {
     "name": "stdout",
     "output_type": "stream",
     "text": [
      "Best params:  {'C': 1, 'epsilon': 0.01, 'gamma': 1, 'kernel': 'rbf'}\n",
      "Best rmse:  0.09360733157804856\n",
      "Training model:  22\n"
     ]
    },
    {
     "name": "stderr",
     "output_type": "stream",
     "text": [
      "100%|██████████████████████████████████████████████████████████████████████████████████| 80/80 [00:02<00:00, 31.56it/s]\n"
     ]
    },
    {
     "name": "stdout",
     "output_type": "stream",
     "text": [
      "Best params:  {'C': 10, 'epsilon': 0.01, 'gamma': 0.1, 'kernel': 'rbf'}\n",
      "Best rmse:  0.08583642336746172\n",
      "Training model:  23\n"
     ]
    },
    {
     "name": "stderr",
     "output_type": "stream",
     "text": [
      "100%|██████████████████████████████████████████████████████████████████████████████████| 80/80 [00:02<00:00, 32.05it/s]\n"
     ]
    },
    {
     "name": "stdout",
     "output_type": "stream",
     "text": [
      "Best params:  {'C': 1, 'epsilon': 0.01, 'gamma': 1, 'kernel': 'rbf'}\n",
      "Best rmse:  0.09808780927411953\n",
      "Training model:  24\n"
     ]
    },
    {
     "name": "stderr",
     "output_type": "stream",
     "text": [
      "100%|██████████████████████████████████████████████████████████████████████████████████| 80/80 [00:02<00:00, 31.54it/s]\n"
     ]
    },
    {
     "name": "stdout",
     "output_type": "stream",
     "text": [
      "Best params:  {'C': 1, 'epsilon': 0.1, 'gamma': 1, 'kernel': 'rbf'}\n",
      "Best rmse:  0.0940303648572033\n",
      "Training model:  25\n"
     ]
    },
    {
     "name": "stderr",
     "output_type": "stream",
     "text": [
      "100%|██████████████████████████████████████████████████████████████████████████████████| 80/80 [00:02<00:00, 31.58it/s]\n"
     ]
    },
    {
     "name": "stdout",
     "output_type": "stream",
     "text": [
      "Best params:  {'C': 1, 'epsilon': 0.1, 'gamma': 1, 'kernel': 'rbf'}\n",
      "Best rmse:  0.09833358418433712\n",
      "Training model:  26\n"
     ]
    },
    {
     "name": "stderr",
     "output_type": "stream",
     "text": [
      "100%|██████████████████████████████████████████████████████████████████████████████████| 80/80 [00:02<00:00, 31.31it/s]\n"
     ]
    },
    {
     "name": "stdout",
     "output_type": "stream",
     "text": [
      "Best params:  {'C': 1, 'epsilon': 0.1, 'gamma': 1, 'kernel': 'rbf'}\n",
      "Best rmse:  0.09348433671871706\n",
      "Training model:  27\n"
     ]
    },
    {
     "name": "stderr",
     "output_type": "stream",
     "text": [
      "100%|██████████████████████████████████████████████████████████████████████████████████| 80/80 [00:02<00:00, 30.82it/s]\n"
     ]
    },
    {
     "name": "stdout",
     "output_type": "stream",
     "text": [
      "Best params:  {'C': 10, 'epsilon': 0.1, 'gamma': 1, 'kernel': 'rbf'}\n",
      "Best rmse:  0.0948137496161395\n",
      "Training model:  28\n"
     ]
    },
    {
     "name": "stderr",
     "output_type": "stream",
     "text": [
      "100%|██████████████████████████████████████████████████████████████████████████████████| 80/80 [00:02<00:00, 31.13it/s]\n"
     ]
    },
    {
     "name": "stdout",
     "output_type": "stream",
     "text": [
      "Best params:  {'C': 10, 'epsilon': 1e-05, 'gamma': 1, 'kernel': 'rbf'}\n",
      "Best rmse:  0.09263470827644693\n",
      "Training model:  29\n"
     ]
    },
    {
     "name": "stderr",
     "output_type": "stream",
     "text": [
      "100%|██████████████████████████████████████████████████████████████████████████████████| 80/80 [00:02<00:00, 31.10it/s]\n"
     ]
    },
    {
     "name": "stdout",
     "output_type": "stream",
     "text": [
      "Best params:  {'C': 10, 'epsilon': 0.1, 'gamma': 0.01, 'kernel': 'rbf'}\n",
      "Best rmse:  0.09572535413434345\n",
      "Training model:  30\n"
     ]
    },
    {
     "name": "stderr",
     "output_type": "stream",
     "text": [
      "100%|██████████████████████████████████████████████████████████████████████████████████| 80/80 [00:02<00:00, 31.05it/s]\n"
     ]
    },
    {
     "name": "stdout",
     "output_type": "stream",
     "text": [
      "Best params:  {'C': 10, 'epsilon': 1e-05, 'gamma': 0.1, 'kernel': 'rbf'}\n",
      "Best rmse:  0.0934030166411846\n",
      "Training model:  31\n"
     ]
    },
    {
     "name": "stderr",
     "output_type": "stream",
     "text": [
      "100%|██████████████████████████████████████████████████████████████████████████████████| 80/80 [00:02<00:00, 31.14it/s]\n"
     ]
    },
    {
     "name": "stdout",
     "output_type": "stream",
     "text": [
      "Best params:  {'C': 1, 'epsilon': 0.01, 'gamma': 1, 'kernel': 'rbf'}\n",
      "Best rmse:  0.09921207698820025\n",
      "Training model:  32\n"
     ]
    },
    {
     "name": "stderr",
     "output_type": "stream",
     "text": [
      "100%|██████████████████████████████████████████████████████████████████████████████████| 80/80 [00:02<00:00, 31.03it/s]\n"
     ]
    },
    {
     "name": "stdout",
     "output_type": "stream",
     "text": [
      "Best params:  {'C': 1, 'epsilon': 0.1, 'gamma': 1, 'kernel': 'rbf'}\n",
      "Best rmse:  0.09355745243210568\n",
      "Training model:  33\n"
     ]
    },
    {
     "name": "stderr",
     "output_type": "stream",
     "text": [
      "100%|██████████████████████████████████████████████████████████████████████████████████| 80/80 [00:02<00:00, 30.06it/s]\n"
     ]
    },
    {
     "name": "stdout",
     "output_type": "stream",
     "text": [
      "Best params:  {'C': 1, 'epsilon': 0.1, 'gamma': 0.001, 'kernel': 'rbf'}\n",
      "Best rmse:  0.09276824476198234\n",
      "Training model:  34\n"
     ]
    },
    {
     "name": "stderr",
     "output_type": "stream",
     "text": [
      "100%|██████████████████████████████████████████████████████████████████████████████████| 80/80 [00:02<00:00, 31.13it/s]\n"
     ]
    },
    {
     "name": "stdout",
     "output_type": "stream",
     "text": [
      "Best params:  {'C': 1, 'epsilon': 0.1, 'gamma': 1, 'kernel': 'rbf'}\n",
      "Best rmse:  0.09255579775824987\n",
      "Training model:  35\n"
     ]
    },
    {
     "name": "stderr",
     "output_type": "stream",
     "text": [
      "100%|██████████████████████████████████████████████████████████████████████████████████| 80/80 [00:02<00:00, 29.89it/s]\n"
     ]
    },
    {
     "name": "stdout",
     "output_type": "stream",
     "text": [
      "Best params:  {'C': 1, 'epsilon': 0.1, 'gamma': 1, 'kernel': 'rbf'}\n",
      "Best rmse:  0.09558486009906612\n",
      "Training model:  36\n"
     ]
    },
    {
     "name": "stderr",
     "output_type": "stream",
     "text": [
      "100%|██████████████████████████████████████████████████████████████████████████████████| 80/80 [00:02<00:00, 31.09it/s]\n"
     ]
    },
    {
     "name": "stdout",
     "output_type": "stream",
     "text": [
      "Best params:  {'C': 1, 'epsilon': 0.1, 'gamma': 1, 'kernel': 'rbf'}\n",
      "Best rmse:  0.09145700923305657\n",
      "Training model:  37\n"
     ]
    },
    {
     "name": "stderr",
     "output_type": "stream",
     "text": [
      "100%|██████████████████████████████████████████████████████████████████████████████████| 80/80 [00:02<00:00, 31.09it/s]\n"
     ]
    },
    {
     "name": "stdout",
     "output_type": "stream",
     "text": [
      "Best params:  {'C': 1, 'epsilon': 0.01, 'gamma': 1, 'kernel': 'rbf'}\n",
      "Best rmse:  0.09067723442722979\n",
      "Training model:  38\n"
     ]
    },
    {
     "name": "stderr",
     "output_type": "stream",
     "text": [
      "100%|██████████████████████████████████████████████████████████████████████████████████| 80/80 [00:02<00:00, 31.11it/s]\n"
     ]
    },
    {
     "name": "stdout",
     "output_type": "stream",
     "text": [
      "Best params:  {'C': 1, 'epsilon': 0.01, 'gamma': 1, 'kernel': 'rbf'}\n",
      "Best rmse:  0.09955068392121348\n",
      "Training model:  39\n"
     ]
    },
    {
     "name": "stderr",
     "output_type": "stream",
     "text": [
      "100%|██████████████████████████████████████████████████████████████████████████████████| 80/80 [00:02<00:00, 30.62it/s]\n"
     ]
    },
    {
     "name": "stdout",
     "output_type": "stream",
     "text": [
      "Best params:  {'C': 1, 'epsilon': 1e-05, 'gamma': 1, 'kernel': 'rbf'}\n",
      "Best rmse:  0.09123663083543998\n",
      "Training model:  40\n"
     ]
    },
    {
     "name": "stderr",
     "output_type": "stream",
     "text": [
      "100%|██████████████████████████████████████████████████████████████████████████████████| 80/80 [00:02<00:00, 30.52it/s]\n"
     ]
    },
    {
     "name": "stdout",
     "output_type": "stream",
     "text": [
      "Best params:  {'C': 1, 'epsilon': 0.01, 'gamma': 1, 'kernel': 'rbf'}\n",
      "Best rmse:  0.09053151454903406\n",
      "Training model:  41\n"
     ]
    },
    {
     "name": "stderr",
     "output_type": "stream",
     "text": [
      "100%|██████████████████████████████████████████████████████████████████████████████████| 80/80 [00:02<00:00, 30.74it/s]\n"
     ]
    },
    {
     "name": "stdout",
     "output_type": "stream",
     "text": [
      "Best params:  {'C': 1, 'epsilon': 0.01, 'gamma': 1, 'kernel': 'rbf'}\n",
      "Best rmse:  0.09425185229345778\n",
      "Training model:  42\n"
     ]
    },
    {
     "name": "stderr",
     "output_type": "stream",
     "text": [
      "100%|██████████████████████████████████████████████████████████████████████████████████| 80/80 [00:02<00:00, 30.84it/s]\n"
     ]
    },
    {
     "name": "stdout",
     "output_type": "stream",
     "text": [
      "Best params:  {'C': 1, 'epsilon': 0.1, 'gamma': 1, 'kernel': 'rbf'}\n",
      "Best rmse:  0.09737166537033615\n",
      "Training model:  43\n"
     ]
    },
    {
     "name": "stderr",
     "output_type": "stream",
     "text": [
      "100%|██████████████████████████████████████████████████████████████████████████████████| 80/80 [00:02<00:00, 30.76it/s]\n"
     ]
    },
    {
     "name": "stdout",
     "output_type": "stream",
     "text": [
      "Best params:  {'C': 1, 'epsilon': 0.01, 'gamma': 1, 'kernel': 'rbf'}\n",
      "Best rmse:  0.09677397315093887\n",
      "Training model:  44\n"
     ]
    },
    {
     "name": "stderr",
     "output_type": "stream",
     "text": [
      "100%|██████████████████████████████████████████████████████████████████████████████████| 80/80 [00:02<00:00, 29.69it/s]\n"
     ]
    },
    {
     "name": "stdout",
     "output_type": "stream",
     "text": [
      "Best params:  {'C': 1, 'epsilon': 0.1, 'gamma': 1, 'kernel': 'rbf'}\n",
      "Best rmse:  0.08982246572858703\n",
      "Training model:  45\n"
     ]
    },
    {
     "name": "stderr",
     "output_type": "stream",
     "text": [
      "100%|██████████████████████████████████████████████████████████████████████████████████| 80/80 [00:02<00:00, 29.92it/s]\n"
     ]
    },
    {
     "name": "stdout",
     "output_type": "stream",
     "text": [
      "Best params:  {'C': 1, 'epsilon': 0.01, 'gamma': 1, 'kernel': 'rbf'}\n",
      "Best rmse:  0.09488121167919797\n",
      "Training model:  46\n"
     ]
    },
    {
     "name": "stderr",
     "output_type": "stream",
     "text": [
      "100%|██████████████████████████████████████████████████████████████████████████████████| 80/80 [00:02<00:00, 30.58it/s]\n"
     ]
    },
    {
     "name": "stdout",
     "output_type": "stream",
     "text": [
      "Best params:  {'C': 1, 'epsilon': 0.01, 'gamma': 1, 'kernel': 'rbf'}\n",
      "Best rmse:  0.091894227030225\n",
      "Training model:  47\n"
     ]
    },
    {
     "name": "stderr",
     "output_type": "stream",
     "text": [
      "100%|██████████████████████████████████████████████████████████████████████████████████| 80/80 [00:02<00:00, 28.87it/s]\n"
     ]
    },
    {
     "name": "stdout",
     "output_type": "stream",
     "text": [
      "Best params:  {'C': 1, 'epsilon': 0.01, 'gamma': 1, 'kernel': 'rbf'}\n",
      "Best rmse:  0.09276132361571705\n",
      "Training model:  48\n"
     ]
    },
    {
     "name": "stderr",
     "output_type": "stream",
     "text": [
      "100%|██████████████████████████████████████████████████████████████████████████████████| 80/80 [00:03<00:00, 24.33it/s]\n"
     ]
    },
    {
     "name": "stdout",
     "output_type": "stream",
     "text": [
      "Best params:  {'C': 1, 'epsilon': 0.001, 'gamma': 1, 'kernel': 'rbf'}\n",
      "Best rmse:  0.095111991423344\n",
      "Training model:  49\n"
     ]
    },
    {
     "name": "stderr",
     "output_type": "stream",
     "text": [
      "100%|██████████████████████████████████████████████████████████████████████████████████| 80/80 [00:03<00:00, 26.63it/s]\n"
     ]
    },
    {
     "name": "stdout",
     "output_type": "stream",
     "text": [
      "Best params:  {'C': 10, 'epsilon': 0.01, 'gamma': 1, 'kernel': 'rbf'}\n",
      "Best rmse:  0.08962854602645767\n",
      "Training model:  50\n"
     ]
    },
    {
     "name": "stderr",
     "output_type": "stream",
     "text": [
      "100%|██████████████████████████████████████████████████████████████████████████████████| 80/80 [00:03<00:00, 25.01it/s]\n"
     ]
    },
    {
     "name": "stdout",
     "output_type": "stream",
     "text": [
      "Best params:  {'C': 1, 'epsilon': 0.01, 'gamma': 1, 'kernel': 'rbf'}\n",
      "Best rmse:  0.08858495446500596\n",
      "Training model:  51\n"
     ]
    },
    {
     "name": "stderr",
     "output_type": "stream",
     "text": [
      "100%|██████████████████████████████████████████████████████████████████████████████████| 80/80 [00:03<00:00, 25.72it/s]\n"
     ]
    },
    {
     "name": "stdout",
     "output_type": "stream",
     "text": [
      "Best params:  {'C': 100, 'epsilon': 0.0001, 'gamma': 1, 'kernel': 'rbf'}\n",
      "Best rmse:  0.09265089551071308\n",
      "Training model:  52\n"
     ]
    },
    {
     "name": "stderr",
     "output_type": "stream",
     "text": [
      "100%|██████████████████████████████████████████████████████████████████████████████████| 80/80 [00:02<00:00, 27.41it/s]\n"
     ]
    },
    {
     "name": "stdout",
     "output_type": "stream",
     "text": [
      "Best params:  {'C': 1, 'epsilon': 0.01, 'gamma': 1, 'kernel': 'rbf'}\n",
      "Best rmse:  0.0940762370014875\n",
      "Training model:  53\n"
     ]
    },
    {
     "name": "stderr",
     "output_type": "stream",
     "text": [
      "100%|██████████████████████████████████████████████████████████████████████████████████| 80/80 [00:02<00:00, 32.00it/s]\n"
     ]
    },
    {
     "name": "stdout",
     "output_type": "stream",
     "text": [
      "Best params:  {'C': 1, 'epsilon': 0.01, 'gamma': 1, 'kernel': 'rbf'}\n",
      "Best rmse:  0.09251453319360899\n",
      "Training model:  54\n"
     ]
    },
    {
     "name": "stderr",
     "output_type": "stream",
     "text": [
      "100%|██████████████████████████████████████████████████████████████████████████████████| 80/80 [00:02<00:00, 31.76it/s]\n"
     ]
    },
    {
     "name": "stdout",
     "output_type": "stream",
     "text": [
      "Best params:  {'C': 1, 'epsilon': 0.1, 'gamma': 1, 'kernel': 'rbf'}\n",
      "Best rmse:  0.09122627403633872\n",
      "Training model:  55\n"
     ]
    },
    {
     "name": "stderr",
     "output_type": "stream",
     "text": [
      "100%|██████████████████████████████████████████████████████████████████████████████████| 80/80 [00:02<00:00, 31.60it/s]\n"
     ]
    },
    {
     "name": "stdout",
     "output_type": "stream",
     "text": [
      "Best params:  {'C': 10, 'epsilon': 0.01, 'gamma': 0.1, 'kernel': 'rbf'}\n",
      "Best rmse:  0.08681031861996862\n",
      "Training model:  56\n"
     ]
    },
    {
     "name": "stderr",
     "output_type": "stream",
     "text": [
      "100%|██████████████████████████████████████████████████████████████████████████████████| 80/80 [00:02<00:00, 32.13it/s]\n"
     ]
    },
    {
     "name": "stdout",
     "output_type": "stream",
     "text": [
      "Best params:  {'C': 1, 'epsilon': 0.1, 'gamma': 1, 'kernel': 'rbf'}\n",
      "Best rmse:  0.09494447796332481\n",
      "Training model:  57\n"
     ]
    },
    {
     "name": "stderr",
     "output_type": "stream",
     "text": [
      "100%|██████████████████████████████████████████████████████████████████████████████████| 80/80 [00:02<00:00, 31.89it/s]\n"
     ]
    },
    {
     "name": "stdout",
     "output_type": "stream",
     "text": [
      "Best params:  {'C': 1, 'epsilon': 0.01, 'gamma': 1, 'kernel': 'rbf'}\n",
      "Best rmse:  0.09784618304774041\n",
      "Training model:  58\n"
     ]
    },
    {
     "name": "stderr",
     "output_type": "stream",
     "text": [
      "100%|██████████████████████████████████████████████████████████████████████████████████| 80/80 [00:02<00:00, 31.98it/s]\n"
     ]
    },
    {
     "name": "stdout",
     "output_type": "stream",
     "text": [
      "Best params:  {'C': 1, 'epsilon': 0.01, 'gamma': 1, 'kernel': 'rbf'}\n",
      "Best rmse:  0.095978201244375\n",
      "Training model:  59\n"
     ]
    },
    {
     "name": "stderr",
     "output_type": "stream",
     "text": [
      "100%|██████████████████████████████████████████████████████████████████████████████████| 80/80 [00:02<00:00, 32.09it/s]\n"
     ]
    },
    {
     "name": "stdout",
     "output_type": "stream",
     "text": [
      "Best params:  {'C': 1, 'epsilon': 0.1, 'gamma': 1, 'kernel': 'rbf'}\n",
      "Best rmse:  0.09683583149979612\n",
      "Training model:  60\n"
     ]
    },
    {
     "name": "stderr",
     "output_type": "stream",
     "text": [
      "100%|██████████████████████████████████████████████████████████████████████████████████| 80/80 [00:02<00:00, 32.13it/s]\n"
     ]
    },
    {
     "name": "stdout",
     "output_type": "stream",
     "text": [
      "Best params:  {'C': 1, 'epsilon': 0.1, 'gamma': 1, 'kernel': 'rbf'}\n",
      "Best rmse:  0.09738868715805139\n",
      "Training model:  61\n"
     ]
    },
    {
     "name": "stderr",
     "output_type": "stream",
     "text": [
      "100%|██████████████████████████████████████████████████████████████████████████████████| 80/80 [00:02<00:00, 32.07it/s]\n"
     ]
    },
    {
     "name": "stdout",
     "output_type": "stream",
     "text": [
      "Best params:  {'C': 1, 'epsilon': 0.01, 'gamma': 1, 'kernel': 'rbf'}\n",
      "Best rmse:  0.0955950719169607\n",
      "Training model:  62\n"
     ]
    },
    {
     "name": "stderr",
     "output_type": "stream",
     "text": [
      "100%|██████████████████████████████████████████████████████████████████████████████████| 80/80 [00:02<00:00, 31.87it/s]\n"
     ]
    },
    {
     "name": "stdout",
     "output_type": "stream",
     "text": [
      "Best params:  {'C': 1, 'epsilon': 0.1, 'gamma': 0.001, 'kernel': 'rbf'}\n",
      "Best rmse:  0.09340741229414135\n",
      "Training model:  63\n"
     ]
    },
    {
     "name": "stderr",
     "output_type": "stream",
     "text": [
      "100%|██████████████████████████████████████████████████████████████████████████████████| 80/80 [00:02<00:00, 32.11it/s]\n"
     ]
    },
    {
     "name": "stdout",
     "output_type": "stream",
     "text": [
      "Best params:  {'C': 10, 'epsilon': 0.01, 'gamma': 1, 'kernel': 'rbf'}\n",
      "Best rmse:  0.09273107068338234\n",
      "Training model:  64\n"
     ]
    },
    {
     "name": "stderr",
     "output_type": "stream",
     "text": [
      "100%|██████████████████████████████████████████████████████████████████████████████████| 80/80 [00:02<00:00, 32.09it/s]\n"
     ]
    },
    {
     "name": "stdout",
     "output_type": "stream",
     "text": [
      "Best params:  {'C': 10, 'epsilon': 1e-05, 'gamma': 0.1, 'kernel': 'rbf'}\n",
      "Best rmse:  0.09475274386158587\n",
      "Training model:  65\n"
     ]
    },
    {
     "name": "stderr",
     "output_type": "stream",
     "text": [
      "100%|██████████████████████████████████████████████████████████████████████████████████| 80/80 [00:02<00:00, 31.96it/s]\n"
     ]
    },
    {
     "name": "stdout",
     "output_type": "stream",
     "text": [
      "Best params:  {'C': 1, 'epsilon': 0.1, 'gamma': 1, 'kernel': 'rbf'}\n",
      "Best rmse:  0.09997344636145132\n",
      "Training model:  66\n"
     ]
    },
    {
     "name": "stderr",
     "output_type": "stream",
     "text": [
      "100%|██████████████████████████████████████████████████████████████████████████████████| 80/80 [00:02<00:00, 31.85it/s]\n"
     ]
    },
    {
     "name": "stdout",
     "output_type": "stream",
     "text": [
      "Best params:  {'C': 1, 'epsilon': 0.1, 'gamma': 1, 'kernel': 'rbf'}\n",
      "Best rmse:  0.0934363509105921\n",
      "Training model:  67\n"
     ]
    },
    {
     "name": "stderr",
     "output_type": "stream",
     "text": [
      "100%|██████████████████████████████████████████████████████████████████████████████████| 80/80 [00:02<00:00, 32.02it/s]\n"
     ]
    },
    {
     "name": "stdout",
     "output_type": "stream",
     "text": [
      "Best params:  {'C': 1, 'epsilon': 0.1, 'gamma': 1, 'kernel': 'rbf'}\n",
      "Best rmse:  0.09407762878991949\n",
      "Training model:  68\n"
     ]
    },
    {
     "name": "stderr",
     "output_type": "stream",
     "text": [
      "100%|██████████████████████████████████████████████████████████████████████████████████| 80/80 [00:02<00:00, 31.87it/s]\n"
     ]
    },
    {
     "name": "stdout",
     "output_type": "stream",
     "text": [
      "Best params:  {'C': 10, 'epsilon': 0.01, 'gamma': 1, 'kernel': 'rbf'}\n",
      "Best rmse:  0.09078404995479931\n",
      "Training model:  69\n"
     ]
    },
    {
     "name": "stderr",
     "output_type": "stream",
     "text": [
      "100%|██████████████████████████████████████████████████████████████████████████████████| 80/80 [00:02<00:00, 31.61it/s]\n"
     ]
    },
    {
     "name": "stdout",
     "output_type": "stream",
     "text": [
      "Best params:  {'C': 10, 'epsilon': 0.01, 'gamma': 1, 'kernel': 'rbf'}\n",
      "Best rmse:  0.09028334036669146\n",
      "Training model:  70\n"
     ]
    },
    {
     "name": "stderr",
     "output_type": "stream",
     "text": [
      "100%|██████████████████████████████████████████████████████████████████████████████████| 80/80 [00:02<00:00, 31.69it/s]\n"
     ]
    },
    {
     "name": "stdout",
     "output_type": "stream",
     "text": [
      "Best params:  {'C': 1000, 'epsilon': 0.0001, 'gamma': 0.01, 'kernel': 'rbf'}\n",
      "Best rmse:  0.09249157084430672\n",
      "Training model:  71\n"
     ]
    },
    {
     "name": "stderr",
     "output_type": "stream",
     "text": [
      "100%|██████████████████████████████████████████████████████████████████████████████████| 80/80 [00:02<00:00, 31.86it/s]\n"
     ]
    },
    {
     "name": "stdout",
     "output_type": "stream",
     "text": [
      "Best params:  {'C': 1000, 'epsilon': 0.0001, 'gamma': 0.01, 'kernel': 'rbf'}\n",
      "Best rmse:  0.09715774810955967\n",
      "Training model:  72\n"
     ]
    },
    {
     "name": "stderr",
     "output_type": "stream",
     "text": [
      "100%|██████████████████████████████████████████████████████████████████████████████████| 80/80 [00:02<00:00, 31.61it/s]\n"
     ]
    },
    {
     "name": "stdout",
     "output_type": "stream",
     "text": [
      "Best params:  {'C': 1, 'epsilon': 1e-05, 'gamma': 1, 'kernel': 'rbf'}\n",
      "Best rmse:  0.0925864296340837\n",
      "Training model:  73\n"
     ]
    },
    {
     "name": "stderr",
     "output_type": "stream",
     "text": [
      "100%|██████████████████████████████████████████████████████████████████████████████████| 80/80 [00:02<00:00, 31.93it/s]\n"
     ]
    },
    {
     "name": "stdout",
     "output_type": "stream",
     "text": [
      "Best params:  {'C': 1, 'epsilon': 0.01, 'gamma': 1, 'kernel': 'rbf'}\n",
      "Best rmse:  0.08248569374280063\n",
      "Training model:  74\n"
     ]
    },
    {
     "name": "stderr",
     "output_type": "stream",
     "text": [
      "100%|██████████████████████████████████████████████████████████████████████████████████| 80/80 [00:02<00:00, 31.95it/s]\n"
     ]
    },
    {
     "name": "stdout",
     "output_type": "stream",
     "text": [
      "Best params:  {'C': 1, 'epsilon': 0.01, 'gamma': 1, 'kernel': 'rbf'}\n",
      "Best rmse:  0.08978254832668361\n",
      "Training model:  75\n"
     ]
    },
    {
     "name": "stderr",
     "output_type": "stream",
     "text": [
      "100%|██████████████████████████████████████████████████████████████████████████████████| 80/80 [00:02<00:00, 32.07it/s]\n"
     ]
    },
    {
     "name": "stdout",
     "output_type": "stream",
     "text": [
      "Best params:  {'C': 10, 'epsilon': 0.1, 'gamma': 0.1, 'kernel': 'rbf'}\n",
      "Best rmse:  0.09975415712105702\n",
      "Training model:  76\n"
     ]
    },
    {
     "name": "stderr",
     "output_type": "stream",
     "text": [
      "100%|██████████████████████████████████████████████████████████████████████████████████| 80/80 [00:02<00:00, 32.01it/s]\n"
     ]
    },
    {
     "name": "stdout",
     "output_type": "stream",
     "text": [
      "Best params:  {'C': 1000, 'epsilon': 0.0001, 'gamma': 0.01, 'kernel': 'rbf'}\n",
      "Best rmse:  0.09216978588296809\n",
      "Training model:  77\n"
     ]
    },
    {
     "name": "stderr",
     "output_type": "stream",
     "text": [
      "100%|██████████████████████████████████████████████████████████████████████████████████| 80/80 [00:02<00:00, 32.04it/s]\n"
     ]
    },
    {
     "name": "stdout",
     "output_type": "stream",
     "text": [
      "Best params:  {'C': 1000, 'epsilon': 0.001, 'gamma': 0.01, 'kernel': 'rbf'}\n",
      "Best rmse:  0.09142360489768557\n",
      "Training model:  78\n"
     ]
    },
    {
     "name": "stderr",
     "output_type": "stream",
     "text": [
      "100%|██████████████████████████████████████████████████████████████████████████████████| 80/80 [00:02<00:00, 32.11it/s]\n"
     ]
    },
    {
     "name": "stdout",
     "output_type": "stream",
     "text": [
      "Best params:  {'C': 10, 'epsilon': 0.01, 'gamma': 1, 'kernel': 'rbf'}\n",
      "Best rmse:  0.08618826492415928\n",
      "Training model:  79\n"
     ]
    },
    {
     "name": "stderr",
     "output_type": "stream",
     "text": [
      "100%|██████████████████████████████████████████████████████████████████████████████████| 80/80 [00:02<00:00, 31.69it/s]\n"
     ]
    },
    {
     "name": "stdout",
     "output_type": "stream",
     "text": [
      "Best params:  {'C': 1, 'epsilon': 0.01, 'gamma': 1, 'kernel': 'rbf'}\n",
      "Best rmse:  0.09433288861740519\n",
      "Training model:  80\n"
     ]
    },
    {
     "name": "stderr",
     "output_type": "stream",
     "text": [
      "100%|██████████████████████████████████████████████████████████████████████████████████| 80/80 [00:02<00:00, 31.71it/s]\n"
     ]
    },
    {
     "name": "stdout",
     "output_type": "stream",
     "text": [
      "Best params:  {'C': 1, 'epsilon': 0.1, 'gamma': 1, 'kernel': 'rbf'}\n",
      "Best rmse:  0.0973021545341327\n",
      "Training model:  81\n"
     ]
    },
    {
     "name": "stderr",
     "output_type": "stream",
     "text": [
      "100%|██████████████████████████████████████████████████████████████████████████████████| 80/80 [00:02<00:00, 31.81it/s]\n"
     ]
    },
    {
     "name": "stdout",
     "output_type": "stream",
     "text": [
      "Best params:  {'C': 1, 'epsilon': 0.01, 'gamma': 1, 'kernel': 'rbf'}\n",
      "Best rmse:  0.09435068786645634\n",
      "Training model:  82\n"
     ]
    },
    {
     "name": "stderr",
     "output_type": "stream",
     "text": [
      "100%|██████████████████████████████████████████████████████████████████████████████████| 80/80 [00:02<00:00, 31.68it/s]\n"
     ]
    },
    {
     "name": "stdout",
     "output_type": "stream",
     "text": [
      "Best params:  {'C': 1, 'epsilon': 0.01, 'gamma': 1, 'kernel': 'rbf'}\n",
      "Best rmse:  0.09124710444017849\n",
      "Training model:  83\n"
     ]
    },
    {
     "name": "stderr",
     "output_type": "stream",
     "text": [
      "100%|██████████████████████████████████████████████████████████████████████████████████| 80/80 [00:02<00:00, 31.89it/s]\n"
     ]
    },
    {
     "name": "stdout",
     "output_type": "stream",
     "text": [
      "Best params:  {'C': 1000, 'epsilon': 0.01, 'gamma': 0.01, 'kernel': 'rbf'}\n",
      "Best rmse:  0.09193384613426124\n",
      "Training model:  84\n"
     ]
    },
    {
     "name": "stderr",
     "output_type": "stream",
     "text": [
      "100%|██████████████████████████████████████████████████████████████████████████████████| 80/80 [00:02<00:00, 32.01it/s]\n"
     ]
    },
    {
     "name": "stdout",
     "output_type": "stream",
     "text": [
      "Best params:  {'C': 10, 'epsilon': 0.01, 'gamma': 1, 'kernel': 'rbf'}\n",
      "Best rmse:  0.09122523553370576\n",
      "Training model:  85\n"
     ]
    },
    {
     "name": "stderr",
     "output_type": "stream",
     "text": [
      "100%|██████████████████████████████████████████████████████████████████████████████████| 80/80 [00:02<00:00, 32.18it/s]\n"
     ]
    },
    {
     "name": "stdout",
     "output_type": "stream",
     "text": [
      "Best params:  {'C': 1, 'epsilon': 0.01, 'gamma': 1, 'kernel': 'rbf'}\n",
      "Best rmse:  0.09052463668458959\n",
      "Training model:  86\n"
     ]
    },
    {
     "name": "stderr",
     "output_type": "stream",
     "text": [
      "100%|██████████████████████████████████████████████████████████████████████████████████| 80/80 [00:02<00:00, 32.00it/s]\n"
     ]
    },
    {
     "name": "stdout",
     "output_type": "stream",
     "text": [
      "Best params:  {'C': 1, 'epsilon': 0.1, 'gamma': 1, 'kernel': 'rbf'}\n",
      "Best rmse:  0.08977206999299532\n",
      "Training model:  87\n"
     ]
    },
    {
     "name": "stderr",
     "output_type": "stream",
     "text": [
      "100%|██████████████████████████████████████████████████████████████████████████████████| 80/80 [00:02<00:00, 31.85it/s]\n"
     ]
    },
    {
     "name": "stdout",
     "output_type": "stream",
     "text": [
      "Best params:  {'C': 1, 'epsilon': 0.1, 'gamma': 1, 'kernel': 'rbf'}\n",
      "Best rmse:  0.09412496033782584\n",
      "Training model:  88\n"
     ]
    },
    {
     "name": "stderr",
     "output_type": "stream",
     "text": [
      "100%|██████████████████████████████████████████████████████████████████████████████████| 80/80 [00:02<00:00, 31.79it/s]\n"
     ]
    },
    {
     "name": "stdout",
     "output_type": "stream",
     "text": [
      "Best params:  {'C': 1, 'epsilon': 0.1, 'gamma': 1, 'kernel': 'rbf'}\n",
      "Best rmse:  0.09572725050939636\n",
      "Training model:  89\n"
     ]
    },
    {
     "name": "stderr",
     "output_type": "stream",
     "text": [
      "100%|██████████████████████████████████████████████████████████████████████████████████| 80/80 [00:02<00:00, 32.04it/s]\n"
     ]
    },
    {
     "name": "stdout",
     "output_type": "stream",
     "text": [
      "Best params:  {'C': 1, 'epsilon': 0.01, 'gamma': 1, 'kernel': 'rbf'}\n",
      "Best rmse:  0.09111373873585664\n",
      "Training model:  90\n"
     ]
    },
    {
     "name": "stderr",
     "output_type": "stream",
     "text": [
      "100%|██████████████████████████████████████████████████████████████████████████████████| 80/80 [00:02<00:00, 31.96it/s]\n"
     ]
    },
    {
     "name": "stdout",
     "output_type": "stream",
     "text": [
      "Best params:  {'C': 1, 'epsilon': 0.01, 'gamma': 1, 'kernel': 'rbf'}\n",
      "Best rmse:  0.09022905385750529\n",
      "Training model:  91\n"
     ]
    },
    {
     "name": "stderr",
     "output_type": "stream",
     "text": [
      "100%|██████████████████████████████████████████████████████████████████████████████████| 80/80 [00:02<00:00, 31.95it/s]\n"
     ]
    },
    {
     "name": "stdout",
     "output_type": "stream",
     "text": [
      "Best params:  {'C': 10, 'epsilon': 0.1, 'gamma': 0.001, 'kernel': 'rbf'}\n",
      "Best rmse:  0.09643195025094052\n",
      "Training model:  92\n"
     ]
    },
    {
     "name": "stderr",
     "output_type": "stream",
     "text": [
      "100%|██████████████████████████████████████████████████████████████████████████████████| 80/80 [00:02<00:00, 31.80it/s]\n"
     ]
    },
    {
     "name": "stdout",
     "output_type": "stream",
     "text": [
      "Best params:  {'C': 1, 'epsilon': 0.1, 'gamma': 1, 'kernel': 'rbf'}\n",
      "Best rmse:  0.09451441301127797\n",
      "Training model:  93\n"
     ]
    },
    {
     "name": "stderr",
     "output_type": "stream",
     "text": [
      "100%|██████████████████████████████████████████████████████████████████████████████████| 80/80 [00:02<00:00, 31.91it/s]\n"
     ]
    },
    {
     "name": "stdout",
     "output_type": "stream",
     "text": [
      "Best params:  {'C': 1, 'epsilon': 0.001, 'gamma': 1, 'kernel': 'rbf'}\n",
      "Best rmse:  0.09142753654471916\n",
      "Training model:  94\n"
     ]
    },
    {
     "name": "stderr",
     "output_type": "stream",
     "text": [
      "100%|██████████████████████████████████████████████████████████████████████████████████| 80/80 [00:02<00:00, 31.58it/s]\n"
     ]
    },
    {
     "name": "stdout",
     "output_type": "stream",
     "text": [
      "Best params:  {'C': 1, 'epsilon': 0.01, 'gamma': 1, 'kernel': 'rbf'}\n",
      "Best rmse:  0.09270914967106425\n",
      "Training model:  95\n"
     ]
    },
    {
     "name": "stderr",
     "output_type": "stream",
     "text": [
      "100%|██████████████████████████████████████████████████████████████████████████████████| 80/80 [00:02<00:00, 30.36it/s]\n"
     ]
    },
    {
     "name": "stdout",
     "output_type": "stream",
     "text": [
      "Best params:  {'C': 1, 'epsilon': 0.1, 'gamma': 1, 'kernel': 'rbf'}\n",
      "Best rmse:  0.09397463874503931\n",
      "Training model:  96\n"
     ]
    },
    {
     "name": "stderr",
     "output_type": "stream",
     "text": [
      "100%|██████████████████████████████████████████████████████████████████████████████████| 80/80 [00:02<00:00, 31.07it/s]\n"
     ]
    },
    {
     "name": "stdout",
     "output_type": "stream",
     "text": [
      "Best params:  {'C': 1, 'epsilon': 0.01, 'gamma': 1, 'kernel': 'rbf'}\n",
      "Best rmse:  0.09263014981944248\n",
      "Training model:  97\n"
     ]
    },
    {
     "name": "stderr",
     "output_type": "stream",
     "text": [
      "100%|██████████████████████████████████████████████████████████████████████████████████| 80/80 [00:02<00:00, 31.42it/s]\n"
     ]
    },
    {
     "name": "stdout",
     "output_type": "stream",
     "text": [
      "Best params:  {'C': 1, 'epsilon': 0.01, 'gamma': 1, 'kernel': 'rbf'}\n",
      "Best rmse:  0.09536754075975677\n",
      "Training model:  98\n"
     ]
    },
    {
     "name": "stderr",
     "output_type": "stream",
     "text": [
      "100%|██████████████████████████████████████████████████████████████████████████████████| 80/80 [00:02<00:00, 31.87it/s]\n"
     ]
    },
    {
     "name": "stdout",
     "output_type": "stream",
     "text": [
      "Best params:  {'C': 1000, 'epsilon': 0.0001, 'gamma': 0.01, 'kernel': 'rbf'}\n",
      "Best rmse:  0.09250295240451611\n",
      "Training model:  99\n"
     ]
    },
    {
     "name": "stderr",
     "output_type": "stream",
     "text": [
      "100%|██████████████████████████████████████████████████████████████████████████████████| 80/80 [00:02<00:00, 31.76it/s]\n"
     ]
    },
    {
     "name": "stdout",
     "output_type": "stream",
     "text": [
      "Best params:  {'C': 10, 'epsilon': 0.01, 'gamma': 0.1, 'kernel': 'rbf'}\n",
      "Best rmse:  0.09181638809061457\n"
     ]
    },
    {
     "name": "stderr",
     "output_type": "stream",
     "text": [
      "100%|████████████████████████████████████████████████████████████████████████████████| 800/800 [13:08<00:00,  1.01it/s]\n"
     ]
    },
    {
     "name": "stdout",
     "output_type": "stream",
     "text": [
      "Best params:  {'comb': 'average', 'k': 6, 'n': 3}\n",
      "Best rmse:  517.2462687027928\n",
      "Time Series:  APPLE\n",
      "\n",
      "###############################################\n",
      "\n",
      "Executing: ENSEMBLE SVR\n",
      "d:  1\n",
      "Training model:  0\n"
     ]
    },
    {
     "name": "stderr",
     "output_type": "stream",
     "text": [
      "100%|██████████████████████████████████████████████████████████████████████████████████| 80/80 [00:02<00:00, 31.65it/s]\n"
     ]
    },
    {
     "name": "stdout",
     "output_type": "stream",
     "text": [
      "Best params:  {'C': 1, 'epsilon': 1e-05, 'gamma': 1, 'kernel': 'rbf'}\n",
      "Best rmse:  0.06784274786928327\n",
      "Training model:  1\n"
     ]
    },
    {
     "name": "stderr",
     "output_type": "stream",
     "text": [
      "100%|██████████████████████████████████████████████████████████████████████████████████| 80/80 [00:02<00:00, 32.07it/s]\n"
     ]
    },
    {
     "name": "stdout",
     "output_type": "stream",
     "text": [
      "Best params:  {'C': 10, 'epsilon': 0.0001, 'gamma': 0.1, 'kernel': 'rbf'}\n",
      "Best rmse:  0.06592943838545222\n",
      "Training model:  2\n"
     ]
    },
    {
     "name": "stderr",
     "output_type": "stream",
     "text": [
      "100%|██████████████████████████████████████████████████████████████████████████████████| 80/80 [00:02<00:00, 31.82it/s]\n"
     ]
    },
    {
     "name": "stdout",
     "output_type": "stream",
     "text": [
      "Best params:  {'C': 1, 'epsilon': 1e-05, 'gamma': 1, 'kernel': 'rbf'}\n",
      "Best rmse:  0.06031667513238347\n",
      "Training model:  3\n"
     ]
    },
    {
     "name": "stderr",
     "output_type": "stream",
     "text": [
      "100%|██████████████████████████████████████████████████████████████████████████████████| 80/80 [00:02<00:00, 30.62it/s]\n"
     ]
    },
    {
     "name": "stdout",
     "output_type": "stream",
     "text": [
      "Best params:  {'C': 1, 'epsilon': 0.001, 'gamma': 1, 'kernel': 'rbf'}\n",
      "Best rmse:  0.06819152295250512\n",
      "Training model:  4\n"
     ]
    },
    {
     "name": "stderr",
     "output_type": "stream",
     "text": [
      "100%|██████████████████████████████████████████████████████████████████████████████████| 80/80 [00:03<00:00, 26.41it/s]\n"
     ]
    },
    {
     "name": "stdout",
     "output_type": "stream",
     "text": [
      "Best params:  {'C': 1, 'epsilon': 0.01, 'gamma': 1, 'kernel': 'rbf'}\n",
      "Best rmse:  0.07075603857131896\n",
      "Training model:  5\n"
     ]
    },
    {
     "name": "stderr",
     "output_type": "stream",
     "text": [
      "100%|██████████████████████████████████████████████████████████████████████████████████| 80/80 [00:02<00:00, 32.08it/s]\n"
     ]
    },
    {
     "name": "stdout",
     "output_type": "stream",
     "text": [
      "Best params:  {'C': 1, 'epsilon': 0.01, 'gamma': 1, 'kernel': 'rbf'}\n",
      "Best rmse:  0.061729437241272535\n",
      "Training model:  6\n"
     ]
    },
    {
     "name": "stderr",
     "output_type": "stream",
     "text": [
      "100%|██████████████████████████████████████████████████████████████████████████████████| 80/80 [00:02<00:00, 32.16it/s]\n"
     ]
    },
    {
     "name": "stdout",
     "output_type": "stream",
     "text": [
      "Best params:  {'C': 1, 'epsilon': 0.01, 'gamma': 1, 'kernel': 'rbf'}\n",
      "Best rmse:  0.06087127992472324\n",
      "Training model:  7\n"
     ]
    },
    {
     "name": "stderr",
     "output_type": "stream",
     "text": [
      "100%|██████████████████████████████████████████████████████████████████████████████████| 80/80 [00:02<00:00, 32.09it/s]\n"
     ]
    },
    {
     "name": "stdout",
     "output_type": "stream",
     "text": [
      "Best params:  {'C': 1, 'epsilon': 0.01, 'gamma': 1, 'kernel': 'rbf'}\n",
      "Best rmse:  0.06327140714797301\n",
      "Training model:  8\n"
     ]
    },
    {
     "name": "stderr",
     "output_type": "stream",
     "text": [
      "100%|██████████████████████████████████████████████████████████████████████████████████| 80/80 [00:02<00:00, 32.16it/s]\n"
     ]
    },
    {
     "name": "stdout",
     "output_type": "stream",
     "text": [
      "Best params:  {'C': 100, 'epsilon': 0.01, 'gamma': 0.1, 'kernel': 'rbf'}\n",
      "Best rmse:  0.06603485372031635\n",
      "Training model:  9\n"
     ]
    },
    {
     "name": "stderr",
     "output_type": "stream",
     "text": [
      "100%|██████████████████████████████████████████████████████████████████████████████████| 80/80 [00:02<00:00, 29.07it/s]\n"
     ]
    },
    {
     "name": "stdout",
     "output_type": "stream",
     "text": [
      "Best params:  {'C': 1, 'epsilon': 0.01, 'gamma': 1, 'kernel': 'rbf'}\n",
      "Best rmse:  0.0653300806908986\n",
      "Training model:  10\n"
     ]
    },
    {
     "name": "stderr",
     "output_type": "stream",
     "text": [
      "100%|██████████████████████████████████████████████████████████████████████████████████| 80/80 [00:02<00:00, 32.16it/s]\n"
     ]
    },
    {
     "name": "stdout",
     "output_type": "stream",
     "text": [
      "Best params:  {'C': 1, 'epsilon': 0.001, 'gamma': 1, 'kernel': 'rbf'}\n",
      "Best rmse:  0.06007820307622379\n",
      "Training model:  11\n"
     ]
    },
    {
     "name": "stderr",
     "output_type": "stream",
     "text": [
      "100%|██████████████████████████████████████████████████████████████████████████████████| 80/80 [00:02<00:00, 31.76it/s]\n"
     ]
    },
    {
     "name": "stdout",
     "output_type": "stream",
     "text": [
      "Best params:  {'C': 10, 'epsilon': 0.01, 'gamma': 1, 'kernel': 'rbf'}\n",
      "Best rmse:  0.06896675518816058\n",
      "Training model:  12\n"
     ]
    },
    {
     "name": "stderr",
     "output_type": "stream",
     "text": [
      "100%|██████████████████████████████████████████████████████████████████████████████████| 80/80 [00:02<00:00, 32.02it/s]\n"
     ]
    },
    {
     "name": "stdout",
     "output_type": "stream",
     "text": [
      "Best params:  {'C': 1000, 'epsilon': 0.01, 'gamma': 0.01, 'kernel': 'rbf'}\n",
      "Best rmse:  0.0644587760201314\n",
      "Training model:  13\n"
     ]
    },
    {
     "name": "stderr",
     "output_type": "stream",
     "text": [
      "100%|██████████████████████████████████████████████████████████████████████████████████| 80/80 [00:02<00:00, 32.20it/s]\n"
     ]
    },
    {
     "name": "stdout",
     "output_type": "stream",
     "text": [
      "Best params:  {'C': 100, 'epsilon': 0.01, 'gamma': 0.1, 'kernel': 'rbf'}\n",
      "Best rmse:  0.06528676175243654\n",
      "Training model:  14\n"
     ]
    },
    {
     "name": "stderr",
     "output_type": "stream",
     "text": [
      "100%|██████████████████████████████████████████████████████████████████████████████████| 80/80 [00:02<00:00, 32.31it/s]\n"
     ]
    },
    {
     "name": "stdout",
     "output_type": "stream",
     "text": [
      "Best params:  {'C': 1, 'epsilon': 0.01, 'gamma': 1, 'kernel': 'rbf'}\n",
      "Best rmse:  0.06603637586339235\n",
      "Training model:  15\n"
     ]
    },
    {
     "name": "stderr",
     "output_type": "stream",
     "text": [
      "100%|██████████████████████████████████████████████████████████████████████████████████| 80/80 [00:02<00:00, 31.87it/s]\n"
     ]
    },
    {
     "name": "stdout",
     "output_type": "stream",
     "text": [
      "Best params:  {'C': 100, 'epsilon': 1e-05, 'gamma': 0.1, 'kernel': 'rbf'}\n",
      "Best rmse:  0.06204665079368675\n",
      "Training model:  16\n"
     ]
    },
    {
     "name": "stderr",
     "output_type": "stream",
     "text": [
      "100%|██████████████████████████████████████████████████████████████████████████████████| 80/80 [00:02<00:00, 31.74it/s]\n"
     ]
    },
    {
     "name": "stdout",
     "output_type": "stream",
     "text": [
      "Best params:  {'C': 100, 'epsilon': 0.01, 'gamma': 0.1, 'kernel': 'rbf'}\n",
      "Best rmse:  0.07658639457980662\n",
      "Training model:  17\n"
     ]
    },
    {
     "name": "stderr",
     "output_type": "stream",
     "text": [
      "100%|██████████████████████████████████████████████████████████████████████████████████| 80/80 [00:02<00:00, 32.00it/s]\n"
     ]
    },
    {
     "name": "stdout",
     "output_type": "stream",
     "text": [
      "Best params:  {'C': 1, 'epsilon': 0.01, 'gamma': 1, 'kernel': 'rbf'}\n",
      "Best rmse:  0.05933538878639403\n",
      "Training model:  18\n"
     ]
    },
    {
     "name": "stderr",
     "output_type": "stream",
     "text": [
      "100%|██████████████████████████████████████████████████████████████████████████████████| 80/80 [00:02<00:00, 31.89it/s]\n"
     ]
    },
    {
     "name": "stdout",
     "output_type": "stream",
     "text": [
      "Best params:  {'C': 1, 'epsilon': 0.01, 'gamma': 1, 'kernel': 'rbf'}\n",
      "Best rmse:  0.0752554065159994\n",
      "Training model:  19\n"
     ]
    },
    {
     "name": "stderr",
     "output_type": "stream",
     "text": [
      "100%|██████████████████████████████████████████████████████████████████████████████████| 80/80 [00:02<00:00, 31.83it/s]\n"
     ]
    },
    {
     "name": "stdout",
     "output_type": "stream",
     "text": [
      "Best params:  {'C': 10, 'epsilon': 0.01, 'gamma': 1, 'kernel': 'rbf'}\n",
      "Best rmse:  0.06521688594771115\n",
      "Training model:  20\n"
     ]
    },
    {
     "name": "stderr",
     "output_type": "stream",
     "text": [
      "100%|██████████████████████████████████████████████████████████████████████████████████| 80/80 [00:02<00:00, 32.25it/s]\n"
     ]
    },
    {
     "name": "stdout",
     "output_type": "stream",
     "text": [
      "Best params:  {'C': 1000, 'epsilon': 0.001, 'gamma': 0.01, 'kernel': 'rbf'}\n",
      "Best rmse:  0.06488936699556436\n",
      "Training model:  21\n"
     ]
    },
    {
     "name": "stderr",
     "output_type": "stream",
     "text": [
      "100%|██████████████████████████████████████████████████████████████████████████████████| 80/80 [00:02<00:00, 32.04it/s]\n"
     ]
    },
    {
     "name": "stdout",
     "output_type": "stream",
     "text": [
      "Best params:  {'C': 1, 'epsilon': 0.01, 'gamma': 1, 'kernel': 'rbf'}\n",
      "Best rmse:  0.06017927270459708\n",
      "Training model:  22\n"
     ]
    },
    {
     "name": "stderr",
     "output_type": "stream",
     "text": [
      "100%|██████████████████████████████████████████████████████████████████████████████████| 80/80 [00:02<00:00, 32.02it/s]\n"
     ]
    },
    {
     "name": "stdout",
     "output_type": "stream",
     "text": [
      "Best params:  {'C': 1, 'epsilon': 0.01, 'gamma': 1, 'kernel': 'rbf'}\n",
      "Best rmse:  0.06119750715809192\n",
      "Training model:  23\n"
     ]
    },
    {
     "name": "stderr",
     "output_type": "stream",
     "text": [
      "100%|██████████████████████████████████████████████████████████████████████████████████| 80/80 [00:02<00:00, 32.25it/s]\n"
     ]
    },
    {
     "name": "stdout",
     "output_type": "stream",
     "text": [
      "Best params:  {'C': 1, 'epsilon': 0.01, 'gamma': 1, 'kernel': 'rbf'}\n",
      "Best rmse:  0.06408447662674377\n",
      "Training model:  24\n"
     ]
    },
    {
     "name": "stderr",
     "output_type": "stream",
     "text": [
      "100%|██████████████████████████████████████████████████████████████████████████████████| 80/80 [00:02<00:00, 32.29it/s]\n"
     ]
    },
    {
     "name": "stdout",
     "output_type": "stream",
     "text": [
      "Best params:  {'C': 1, 'epsilon': 0.01, 'gamma': 1, 'kernel': 'rbf'}\n",
      "Best rmse:  0.06702157983412836\n",
      "Training model:  25\n"
     ]
    },
    {
     "name": "stderr",
     "output_type": "stream",
     "text": [
      "100%|██████████████████████████████████████████████████████████████████████████████████| 80/80 [00:02<00:00, 32.04it/s]\n"
     ]
    },
    {
     "name": "stdout",
     "output_type": "stream",
     "text": [
      "Best params:  {'C': 10, 'epsilon': 0.01, 'gamma': 1, 'kernel': 'rbf'}\n",
      "Best rmse:  0.06694215895771204\n",
      "Training model:  26\n"
     ]
    },
    {
     "name": "stderr",
     "output_type": "stream",
     "text": [
      "100%|██████████████████████████████████████████████████████████████████████████████████| 80/80 [00:02<00:00, 30.84it/s]\n"
     ]
    },
    {
     "name": "stdout",
     "output_type": "stream",
     "text": [
      "Best params:  {'C': 10, 'epsilon': 0.01, 'gamma': 0.1, 'kernel': 'rbf'}\n",
      "Best rmse:  0.06147801564322806\n",
      "Training model:  27\n"
     ]
    },
    {
     "name": "stderr",
     "output_type": "stream",
     "text": [
      "100%|██████████████████████████████████████████████████████████████████████████████████| 80/80 [00:02<00:00, 31.98it/s]\n"
     ]
    },
    {
     "name": "stdout",
     "output_type": "stream",
     "text": [
      "Best params:  {'C': 1, 'epsilon': 0.1, 'gamma': 1, 'kernel': 'rbf'}\n",
      "Best rmse:  0.06482197725816197\n",
      "Training model:  28\n"
     ]
    },
    {
     "name": "stderr",
     "output_type": "stream",
     "text": [
      "100%|██████████████████████████████████████████████████████████████████████████████████| 80/80 [00:02<00:00, 31.85it/s]\n"
     ]
    },
    {
     "name": "stdout",
     "output_type": "stream",
     "text": [
      "Best params:  {'C': 10, 'epsilon': 0.001, 'gamma': 1, 'kernel': 'rbf'}\n",
      "Best rmse:  0.06875424840073059\n",
      "Training model:  29\n"
     ]
    },
    {
     "name": "stderr",
     "output_type": "stream",
     "text": [
      "100%|██████████████████████████████████████████████████████████████████████████████████| 80/80 [00:02<00:00, 31.71it/s]\n"
     ]
    },
    {
     "name": "stdout",
     "output_type": "stream",
     "text": [
      "Best params:  {'C': 1, 'epsilon': 0.01, 'gamma': 1, 'kernel': 'rbf'}\n",
      "Best rmse:  0.06339025895033246\n",
      "Training model:  30\n"
     ]
    },
    {
     "name": "stderr",
     "output_type": "stream",
     "text": [
      "100%|██████████████████████████████████████████████████████████████████████████████████| 80/80 [00:02<00:00, 31.97it/s]\n"
     ]
    },
    {
     "name": "stdout",
     "output_type": "stream",
     "text": [
      "Best params:  {'C': 10, 'epsilon': 0.01, 'gamma': 0.1, 'kernel': 'rbf'}\n",
      "Best rmse:  0.06292648759851455\n",
      "Training model:  31\n"
     ]
    },
    {
     "name": "stderr",
     "output_type": "stream",
     "text": [
      "100%|██████████████████████████████████████████████████████████████████████████████████| 80/80 [00:02<00:00, 32.06it/s]\n"
     ]
    },
    {
     "name": "stdout",
     "output_type": "stream",
     "text": [
      "Best params:  {'C': 1, 'epsilon': 0.01, 'gamma': 1, 'kernel': 'rbf'}\n",
      "Best rmse:  0.06949190933092679\n",
      "Training model:  32\n"
     ]
    },
    {
     "name": "stderr",
     "output_type": "stream",
     "text": [
      "100%|██████████████████████████████████████████████████████████████████████████████████| 80/80 [00:02<00:00, 31.78it/s]\n"
     ]
    },
    {
     "name": "stdout",
     "output_type": "stream",
     "text": [
      "Best params:  {'C': 1, 'epsilon': 0.01, 'gamma': 1, 'kernel': 'rbf'}\n",
      "Best rmse:  0.06961295913443372\n",
      "Training model:  33\n"
     ]
    },
    {
     "name": "stderr",
     "output_type": "stream",
     "text": [
      "100%|██████████████████████████████████████████████████████████████████████████████████| 80/80 [00:02<00:00, 32.22it/s]\n"
     ]
    },
    {
     "name": "stdout",
     "output_type": "stream",
     "text": [
      "Best params:  {'C': 1, 'epsilon': 0.01, 'gamma': 1, 'kernel': 'rbf'}\n",
      "Best rmse:  0.07038706814188773\n",
      "Training model:  34\n"
     ]
    },
    {
     "name": "stderr",
     "output_type": "stream",
     "text": [
      "100%|██████████████████████████████████████████████████████████████████████████████████| 80/80 [00:02<00:00, 32.04it/s]\n"
     ]
    },
    {
     "name": "stdout",
     "output_type": "stream",
     "text": [
      "Best params:  {'C': 1, 'epsilon': 0.0001, 'gamma': 1, 'kernel': 'rbf'}\n",
      "Best rmse:  0.06828577912783569\n",
      "Training model:  35\n"
     ]
    },
    {
     "name": "stderr",
     "output_type": "stream",
     "text": [
      "100%|██████████████████████████████████████████████████████████████████████████████████| 80/80 [00:02<00:00, 31.95it/s]\n"
     ]
    },
    {
     "name": "stdout",
     "output_type": "stream",
     "text": [
      "Best params:  {'C': 1, 'epsilon': 0.01, 'gamma': 1, 'kernel': 'rbf'}\n",
      "Best rmse:  0.06582939433104786\n",
      "Training model:  36\n"
     ]
    },
    {
     "name": "stderr",
     "output_type": "stream",
     "text": [
      "100%|██████████████████████████████████████████████████████████████████████████████████| 80/80 [00:02<00:00, 31.89it/s]\n"
     ]
    },
    {
     "name": "stdout",
     "output_type": "stream",
     "text": [
      "Best params:  {'C': 1, 'epsilon': 0.001, 'gamma': 1, 'kernel': 'rbf'}\n",
      "Best rmse:  0.06420722554378795\n",
      "Training model:  37\n"
     ]
    },
    {
     "name": "stderr",
     "output_type": "stream",
     "text": [
      "100%|██████████████████████████████████████████████████████████████████████████████████| 80/80 [00:02<00:00, 31.67it/s]\n"
     ]
    },
    {
     "name": "stdout",
     "output_type": "stream",
     "text": [
      "Best params:  {'C': 1, 'epsilon': 0.01, 'gamma': 1, 'kernel': 'rbf'}\n",
      "Best rmse:  0.060494522955269206\n",
      "Training model:  38\n"
     ]
    },
    {
     "name": "stderr",
     "output_type": "stream",
     "text": [
      "100%|██████████████████████████████████████████████████████████████████████████████████| 80/80 [00:02<00:00, 31.84it/s]\n"
     ]
    },
    {
     "name": "stdout",
     "output_type": "stream",
     "text": [
      "Best params:  {'C': 100, 'epsilon': 0.1, 'gamma': 0.1, 'kernel': 'rbf'}\n",
      "Best rmse:  0.06612573852718907\n",
      "Training model:  39\n"
     ]
    },
    {
     "name": "stderr",
     "output_type": "stream",
     "text": [
      "100%|██████████████████████████████████████████████████████████████████████████████████| 80/80 [00:02<00:00, 31.82it/s]\n"
     ]
    },
    {
     "name": "stdout",
     "output_type": "stream",
     "text": [
      "Best params:  {'C': 1, 'epsilon': 0.1, 'gamma': 1, 'kernel': 'rbf'}\n",
      "Best rmse:  0.06571638887402857\n",
      "Training model:  40\n"
     ]
    },
    {
     "name": "stderr",
     "output_type": "stream",
     "text": [
      "100%|██████████████████████████████████████████████████████████████████████████████████| 80/80 [00:02<00:00, 31.74it/s]\n"
     ]
    },
    {
     "name": "stdout",
     "output_type": "stream",
     "text": [
      "Best params:  {'C': 1, 'epsilon': 0.01, 'gamma': 1, 'kernel': 'rbf'}\n",
      "Best rmse:  0.06096341822694542\n",
      "Training model:  41\n"
     ]
    },
    {
     "name": "stderr",
     "output_type": "stream",
     "text": [
      "100%|██████████████████████████████████████████████████████████████████████████████████| 80/80 [00:02<00:00, 31.86it/s]\n"
     ]
    },
    {
     "name": "stdout",
     "output_type": "stream",
     "text": [
      "Best params:  {'C': 10, 'epsilon': 0.1, 'gamma': 0.001, 'kernel': 'rbf'}\n",
      "Best rmse:  0.06378033222223285\n",
      "Training model:  42\n"
     ]
    },
    {
     "name": "stderr",
     "output_type": "stream",
     "text": [
      "100%|██████████████████████████████████████████████████████████████████████████████████| 80/80 [00:02<00:00, 31.98it/s]\n"
     ]
    },
    {
     "name": "stdout",
     "output_type": "stream",
     "text": [
      "Best params:  {'C': 1, 'epsilon': 0.01, 'gamma': 1, 'kernel': 'rbf'}\n",
      "Best rmse:  0.06688836028939105\n",
      "Training model:  43\n"
     ]
    },
    {
     "name": "stderr",
     "output_type": "stream",
     "text": [
      "100%|██████████████████████████████████████████████████████████████████████████████████| 80/80 [00:02<00:00, 32.09it/s]\n"
     ]
    },
    {
     "name": "stdout",
     "output_type": "stream",
     "text": [
      "Best params:  {'C': 100, 'epsilon': 1e-05, 'gamma': 0.1, 'kernel': 'rbf'}\n",
      "Best rmse:  0.06889691002961168\n",
      "Training model:  44\n"
     ]
    },
    {
     "name": "stderr",
     "output_type": "stream",
     "text": [
      "100%|██████████████████████████████████████████████████████████████████████████████████| 80/80 [00:02<00:00, 32.09it/s]\n"
     ]
    },
    {
     "name": "stdout",
     "output_type": "stream",
     "text": [
      "Best params:  {'C': 1, 'epsilon': 0.01, 'gamma': 1, 'kernel': 'rbf'}\n",
      "Best rmse:  0.06594115478897584\n",
      "Training model:  45\n"
     ]
    },
    {
     "name": "stderr",
     "output_type": "stream",
     "text": [
      "100%|██████████████████████████████████████████████████████████████████████████████████| 80/80 [00:02<00:00, 31.98it/s]\n"
     ]
    },
    {
     "name": "stdout",
     "output_type": "stream",
     "text": [
      "Best params:  {'C': 1, 'epsilon': 0.001, 'gamma': 1, 'kernel': 'rbf'}\n",
      "Best rmse:  0.06352009328248054\n",
      "Training model:  46\n"
     ]
    },
    {
     "name": "stderr",
     "output_type": "stream",
     "text": [
      "100%|██████████████████████████████████████████████████████████████████████████████████| 80/80 [00:02<00:00, 31.91it/s]\n"
     ]
    },
    {
     "name": "stdout",
     "output_type": "stream",
     "text": [
      "Best params:  {'C': 1, 'epsilon': 0.01, 'gamma': 1, 'kernel': 'rbf'}\n",
      "Best rmse:  0.0604531378081007\n",
      "Training model:  47\n"
     ]
    },
    {
     "name": "stderr",
     "output_type": "stream",
     "text": [
      "100%|██████████████████████████████████████████████████████████████████████████████████| 80/80 [00:02<00:00, 32.36it/s]\n"
     ]
    },
    {
     "name": "stdout",
     "output_type": "stream",
     "text": [
      "Best params:  {'C': 10, 'epsilon': 0.01, 'gamma': 1, 'kernel': 'rbf'}\n",
      "Best rmse:  0.06359312594745412\n",
      "Training model:  48\n"
     ]
    },
    {
     "name": "stderr",
     "output_type": "stream",
     "text": [
      "100%|██████████████████████████████████████████████████████████████████████████████████| 80/80 [00:02<00:00, 32.05it/s]\n"
     ]
    },
    {
     "name": "stdout",
     "output_type": "stream",
     "text": [
      "Best params:  {'C': 1, 'epsilon': 0.01, 'gamma': 1, 'kernel': 'rbf'}\n",
      "Best rmse:  0.06645197366975039\n",
      "Training model:  49\n"
     ]
    },
    {
     "name": "stderr",
     "output_type": "stream",
     "text": [
      "100%|██████████████████████████████████████████████████████████████████████████████████| 80/80 [00:02<00:00, 32.06it/s]\n"
     ]
    },
    {
     "name": "stdout",
     "output_type": "stream",
     "text": [
      "Best params:  {'C': 1, 'epsilon': 0.01, 'gamma': 1, 'kernel': 'rbf'}\n",
      "Best rmse:  0.061269498994636226\n",
      "Training model:  50\n"
     ]
    },
    {
     "name": "stderr",
     "output_type": "stream",
     "text": [
      "100%|██████████████████████████████████████████████████████████████████████████████████| 80/80 [00:02<00:00, 32.02it/s]\n"
     ]
    },
    {
     "name": "stdout",
     "output_type": "stream",
     "text": [
      "Best params:  {'C': 1, 'epsilon': 0.01, 'gamma': 1, 'kernel': 'rbf'}\n",
      "Best rmse:  0.06322721028839745\n",
      "Training model:  51\n"
     ]
    },
    {
     "name": "stderr",
     "output_type": "stream",
     "text": [
      "100%|██████████████████████████████████████████████████████████████████████████████████| 80/80 [00:02<00:00, 32.54it/s]\n"
     ]
    },
    {
     "name": "stdout",
     "output_type": "stream",
     "text": [
      "Best params:  {'C': 10, 'epsilon': 0.01, 'gamma': 0.1, 'kernel': 'rbf'}\n",
      "Best rmse:  0.06417342012737229\n",
      "Training model:  52\n"
     ]
    },
    {
     "name": "stderr",
     "output_type": "stream",
     "text": [
      "100%|██████████████████████████████████████████████████████████████████████████████████| 80/80 [00:02<00:00, 31.88it/s]\n"
     ]
    },
    {
     "name": "stdout",
     "output_type": "stream",
     "text": [
      "Best params:  {'C': 1, 'epsilon': 0.001, 'gamma': 1, 'kernel': 'rbf'}\n",
      "Best rmse:  0.06370437088062053\n",
      "Training model:  53\n"
     ]
    },
    {
     "name": "stderr",
     "output_type": "stream",
     "text": [
      "100%|██████████████████████████████████████████████████████████████████████████████████| 80/80 [00:02<00:00, 31.83it/s]\n"
     ]
    },
    {
     "name": "stdout",
     "output_type": "stream",
     "text": [
      "Best params:  {'C': 1, 'epsilon': 0.01, 'gamma': 1, 'kernel': 'rbf'}\n",
      "Best rmse:  0.06314938986867077\n",
      "Training model:  54\n"
     ]
    },
    {
     "name": "stderr",
     "output_type": "stream",
     "text": [
      "100%|██████████████████████████████████████████████████████████████████████████████████| 80/80 [00:02<00:00, 32.18it/s]\n"
     ]
    },
    {
     "name": "stdout",
     "output_type": "stream",
     "text": [
      "Best params:  {'C': 10, 'epsilon': 0.01, 'gamma': 1, 'kernel': 'rbf'}\n",
      "Best rmse:  0.06500739249121625\n",
      "Training model:  55\n"
     ]
    },
    {
     "name": "stderr",
     "output_type": "stream",
     "text": [
      "100%|██████████████████████████████████████████████████████████████████████████████████| 80/80 [00:02<00:00, 32.02it/s]\n"
     ]
    },
    {
     "name": "stdout",
     "output_type": "stream",
     "text": [
      "Best params:  {'C': 1, 'epsilon': 0.01, 'gamma': 1, 'kernel': 'rbf'}\n",
      "Best rmse:  0.06570135822554356\n",
      "Training model:  56\n"
     ]
    },
    {
     "name": "stderr",
     "output_type": "stream",
     "text": [
      "100%|██████████████████████████████████████████████████████████████████████████████████| 80/80 [00:02<00:00, 31.85it/s]\n"
     ]
    },
    {
     "name": "stdout",
     "output_type": "stream",
     "text": [
      "Best params:  {'C': 1, 'epsilon': 0.01, 'gamma': 1, 'kernel': 'rbf'}\n",
      "Best rmse:  0.06609621064911778\n",
      "Training model:  57\n"
     ]
    },
    {
     "name": "stderr",
     "output_type": "stream",
     "text": [
      "100%|██████████████████████████████████████████████████████████████████████████████████| 80/80 [00:02<00:00, 32.15it/s]\n"
     ]
    },
    {
     "name": "stdout",
     "output_type": "stream",
     "text": [
      "Best params:  {'C': 1, 'epsilon': 0.01, 'gamma': 1, 'kernel': 'rbf'}\n",
      "Best rmse:  0.06329567186658835\n",
      "Training model:  58\n"
     ]
    },
    {
     "name": "stderr",
     "output_type": "stream",
     "text": [
      "100%|██████████████████████████████████████████████████████████████████████████████████| 80/80 [00:02<00:00, 32.21it/s]\n"
     ]
    },
    {
     "name": "stdout",
     "output_type": "stream",
     "text": [
      "Best params:  {'C': 1, 'epsilon': 0.01, 'gamma': 1, 'kernel': 'rbf'}\n",
      "Best rmse:  0.06689781173749845\n",
      "Training model:  59\n"
     ]
    },
    {
     "name": "stderr",
     "output_type": "stream",
     "text": [
      "100%|██████████████████████████████████████████████████████████████████████████████████| 80/80 [00:02<00:00, 32.83it/s]\n"
     ]
    },
    {
     "name": "stdout",
     "output_type": "stream",
     "text": [
      "Best params:  {'C': 1, 'epsilon': 0.001, 'gamma': 1, 'kernel': 'rbf'}\n",
      "Best rmse:  0.06779630126515862\n",
      "Training model:  60\n"
     ]
    },
    {
     "name": "stderr",
     "output_type": "stream",
     "text": [
      "100%|██████████████████████████████████████████████████████████████████████████████████| 80/80 [00:02<00:00, 32.05it/s]\n"
     ]
    },
    {
     "name": "stdout",
     "output_type": "stream",
     "text": [
      "Best params:  {'C': 1, 'epsilon': 0.01, 'gamma': 1, 'kernel': 'rbf'}\n",
      "Best rmse:  0.06634314068553744\n",
      "Training model:  61\n"
     ]
    },
    {
     "name": "stderr",
     "output_type": "stream",
     "text": [
      "100%|██████████████████████████████████████████████████████████████████████████████████| 80/80 [00:02<00:00, 31.91it/s]\n"
     ]
    },
    {
     "name": "stdout",
     "output_type": "stream",
     "text": [
      "Best params:  {'C': 1, 'epsilon': 0.001, 'gamma': 0.01, 'kernel': 'rbf'}\n",
      "Best rmse:  0.06774154835755788\n",
      "Training model:  62\n"
     ]
    },
    {
     "name": "stderr",
     "output_type": "stream",
     "text": [
      "100%|██████████████████████████████████████████████████████████████████████████████████| 80/80 [00:02<00:00, 32.31it/s]\n"
     ]
    },
    {
     "name": "stdout",
     "output_type": "stream",
     "text": [
      "Best params:  {'C': 1000, 'epsilon': 0.01, 'gamma': 0.01, 'kernel': 'rbf'}\n",
      "Best rmse:  0.06182183841044789\n",
      "Training model:  63\n"
     ]
    },
    {
     "name": "stderr",
     "output_type": "stream",
     "text": [
      "100%|██████████████████████████████████████████████████████████████████████████████████| 80/80 [00:02<00:00, 32.59it/s]\n"
     ]
    },
    {
     "name": "stdout",
     "output_type": "stream",
     "text": [
      "Best params:  {'C': 100, 'epsilon': 0.1, 'gamma': 0.1, 'kernel': 'rbf'}\n",
      "Best rmse:  0.06433831406447879\n",
      "Training model:  64\n"
     ]
    },
    {
     "name": "stderr",
     "output_type": "stream",
     "text": [
      "100%|██████████████████████████████████████████████████████████████████████████████████| 80/80 [00:02<00:00, 32.13it/s]\n"
     ]
    },
    {
     "name": "stdout",
     "output_type": "stream",
     "text": [
      "Best params:  {'C': 1, 'epsilon': 0.01, 'gamma': 1, 'kernel': 'rbf'}\n",
      "Best rmse:  0.06441942012247426\n",
      "Training model:  65\n"
     ]
    },
    {
     "name": "stderr",
     "output_type": "stream",
     "text": [
      "100%|██████████████████████████████████████████████████████████████████████████████████| 80/80 [00:02<00:00, 31.48it/s]\n"
     ]
    },
    {
     "name": "stdout",
     "output_type": "stream",
     "text": [
      "Best params:  {'C': 1, 'epsilon': 0.01, 'gamma': 1, 'kernel': 'rbf'}\n",
      "Best rmse:  0.0640499279923392\n",
      "Training model:  66\n"
     ]
    },
    {
     "name": "stderr",
     "output_type": "stream",
     "text": [
      "100%|██████████████████████████████████████████████████████████████████████████████████| 80/80 [00:02<00:00, 32.18it/s]\n"
     ]
    },
    {
     "name": "stdout",
     "output_type": "stream",
     "text": [
      "Best params:  {'C': 10, 'epsilon': 0.01, 'gamma': 0.1, 'kernel': 'rbf'}\n",
      "Best rmse:  0.06356999625752159\n",
      "Training model:  67\n"
     ]
    },
    {
     "name": "stderr",
     "output_type": "stream",
     "text": [
      "100%|██████████████████████████████████████████████████████████████████████████████████| 80/80 [00:02<00:00, 31.65it/s]\n"
     ]
    },
    {
     "name": "stdout",
     "output_type": "stream",
     "text": [
      "Best params:  {'C': 10, 'epsilon': 1e-05, 'gamma': 0.1, 'kernel': 'rbf'}\n",
      "Best rmse:  0.058899140161691975\n",
      "Training model:  68\n"
     ]
    },
    {
     "name": "stderr",
     "output_type": "stream",
     "text": [
      "100%|██████████████████████████████████████████████████████████████████████████████████| 80/80 [00:02<00:00, 31.63it/s]\n"
     ]
    },
    {
     "name": "stdout",
     "output_type": "stream",
     "text": [
      "Best params:  {'C': 10, 'epsilon': 0.01, 'gamma': 1, 'kernel': 'rbf'}\n",
      "Best rmse:  0.06433062662866193\n",
      "Training model:  69\n"
     ]
    },
    {
     "name": "stderr",
     "output_type": "stream",
     "text": [
      "100%|██████████████████████████████████████████████████████████████████████████████████| 80/80 [00:02<00:00, 32.21it/s]\n"
     ]
    },
    {
     "name": "stdout",
     "output_type": "stream",
     "text": [
      "Best params:  {'C': 1, 'epsilon': 0.01, 'gamma': 1, 'kernel': 'rbf'}\n",
      "Best rmse:  0.05985016561158654\n",
      "Training model:  70\n"
     ]
    },
    {
     "name": "stderr",
     "output_type": "stream",
     "text": [
      "100%|██████████████████████████████████████████████████████████████████████████████████| 80/80 [00:02<00:00, 32.31it/s]\n"
     ]
    },
    {
     "name": "stdout",
     "output_type": "stream",
     "text": [
      "Best params:  {'C': 10, 'epsilon': 0.01, 'gamma': 0.1, 'kernel': 'rbf'}\n",
      "Best rmse:  0.06543582321630417\n",
      "Training model:  71\n"
     ]
    },
    {
     "name": "stderr",
     "output_type": "stream",
     "text": [
      "100%|██████████████████████████████████████████████████████████████████████████████████| 80/80 [00:02<00:00, 31.85it/s]\n"
     ]
    },
    {
     "name": "stdout",
     "output_type": "stream",
     "text": [
      "Best params:  {'C': 10, 'epsilon': 0.01, 'gamma': 1, 'kernel': 'rbf'}\n",
      "Best rmse:  0.06611033185802044\n",
      "Training model:  72\n"
     ]
    },
    {
     "name": "stderr",
     "output_type": "stream",
     "text": [
      "100%|██████████████████████████████████████████████████████████████████████████████████| 80/80 [00:02<00:00, 32.22it/s]\n"
     ]
    },
    {
     "name": "stdout",
     "output_type": "stream",
     "text": [
      "Best params:  {'C': 1, 'epsilon': 0.01, 'gamma': 1, 'kernel': 'rbf'}\n",
      "Best rmse:  0.06339735364756934\n",
      "Training model:  73\n"
     ]
    },
    {
     "name": "stderr",
     "output_type": "stream",
     "text": [
      "100%|██████████████████████████████████████████████████████████████████████████████████| 80/80 [00:02<00:00, 31.97it/s]\n"
     ]
    },
    {
     "name": "stdout",
     "output_type": "stream",
     "text": [
      "Best params:  {'C': 1000, 'epsilon': 1e-05, 'gamma': 0.01, 'kernel': 'rbf'}\n",
      "Best rmse:  0.06502252218288854\n",
      "Training model:  74\n"
     ]
    },
    {
     "name": "stderr",
     "output_type": "stream",
     "text": [
      "100%|██████████████████████████████████████████████████████████████████████████████████| 80/80 [00:02<00:00, 31.82it/s]\n"
     ]
    },
    {
     "name": "stdout",
     "output_type": "stream",
     "text": [
      "Best params:  {'C': 1, 'epsilon': 0.01, 'gamma': 1, 'kernel': 'rbf'}\n",
      "Best rmse:  0.06434641768754057\n",
      "Training model:  75\n"
     ]
    },
    {
     "name": "stderr",
     "output_type": "stream",
     "text": [
      "100%|██████████████████████████████████████████████████████████████████████████████████| 80/80 [00:02<00:00, 32.20it/s]\n"
     ]
    },
    {
     "name": "stdout",
     "output_type": "stream",
     "text": [
      "Best params:  {'C': 1, 'epsilon': 0.01, 'gamma': 1, 'kernel': 'rbf'}\n",
      "Best rmse:  0.06790745671430792\n",
      "Training model:  76\n"
     ]
    },
    {
     "name": "stderr",
     "output_type": "stream",
     "text": [
      "100%|██████████████████████████████████████████████████████████████████████████████████| 80/80 [00:02<00:00, 32.27it/s]\n"
     ]
    },
    {
     "name": "stdout",
     "output_type": "stream",
     "text": [
      "Best params:  {'C': 10, 'epsilon': 0.01, 'gamma': 1, 'kernel': 'rbf'}\n",
      "Best rmse:  0.07211751296969092\n",
      "Training model:  77\n"
     ]
    },
    {
     "name": "stderr",
     "output_type": "stream",
     "text": [
      "100%|██████████████████████████████████████████████████████████████████████████████████| 80/80 [00:02<00:00, 31.69it/s]\n"
     ]
    },
    {
     "name": "stdout",
     "output_type": "stream",
     "text": [
      "Best params:  {'C': 1, 'epsilon': 0.01, 'gamma': 1, 'kernel': 'rbf'}\n",
      "Best rmse:  0.06587209474417552\n",
      "Training model:  78\n"
     ]
    },
    {
     "name": "stderr",
     "output_type": "stream",
     "text": [
      "100%|██████████████████████████████████████████████████████████████████████████████████| 80/80 [00:02<00:00, 31.91it/s]\n"
     ]
    },
    {
     "name": "stdout",
     "output_type": "stream",
     "text": [
      "Best params:  {'C': 1000, 'epsilon': 0.01, 'gamma': 0.01, 'kernel': 'rbf'}\n",
      "Best rmse:  0.06455894498101866\n",
      "Training model:  79\n"
     ]
    },
    {
     "name": "stderr",
     "output_type": "stream",
     "text": [
      "100%|██████████████████████████████████████████████████████████████████████████████████| 80/80 [00:02<00:00, 31.93it/s]\n"
     ]
    },
    {
     "name": "stdout",
     "output_type": "stream",
     "text": [
      "Best params:  {'C': 100, 'epsilon': 0.01, 'gamma': 0.01, 'kernel': 'rbf'}\n",
      "Best rmse:  0.06222314096552665\n",
      "Training model:  80\n"
     ]
    },
    {
     "name": "stderr",
     "output_type": "stream",
     "text": [
      "100%|██████████████████████████████████████████████████████████████████████████████████| 80/80 [00:02<00:00, 32.00it/s]\n"
     ]
    },
    {
     "name": "stdout",
     "output_type": "stream",
     "text": [
      "Best params:  {'C': 1, 'epsilon': 0.01, 'gamma': 1, 'kernel': 'rbf'}\n",
      "Best rmse:  0.06769163585398107\n",
      "Training model:  81\n"
     ]
    },
    {
     "name": "stderr",
     "output_type": "stream",
     "text": [
      "100%|██████████████████████████████████████████████████████████████████████████████████| 80/80 [00:02<00:00, 32.18it/s]\n"
     ]
    },
    {
     "name": "stdout",
     "output_type": "stream",
     "text": [
      "Best params:  {'C': 1, 'epsilon': 0.01, 'gamma': 1, 'kernel': 'rbf'}\n",
      "Best rmse:  0.06480159294841414\n",
      "Training model:  82\n"
     ]
    },
    {
     "name": "stderr",
     "output_type": "stream",
     "text": [
      "100%|██████████████████████████████████████████████████████████████████████████████████| 80/80 [00:02<00:00, 32.52it/s]\n"
     ]
    },
    {
     "name": "stdout",
     "output_type": "stream",
     "text": [
      "Best params:  {'C': 10, 'epsilon': 0.01, 'gamma': 1, 'kernel': 'rbf'}\n",
      "Best rmse:  0.06415246462523766\n",
      "Training model:  83\n"
     ]
    },
    {
     "name": "stderr",
     "output_type": "stream",
     "text": [
      "100%|██████████████████████████████████████████████████████████████████████████████████| 80/80 [00:02<00:00, 31.83it/s]\n"
     ]
    },
    {
     "name": "stdout",
     "output_type": "stream",
     "text": [
      "Best params:  {'C': 1, 'epsilon': 0.01, 'gamma': 1, 'kernel': 'rbf'}\n",
      "Best rmse:  0.059118219685648496\n",
      "Training model:  84\n"
     ]
    },
    {
     "name": "stderr",
     "output_type": "stream",
     "text": [
      "100%|██████████████████████████████████████████████████████████████████████████████████| 80/80 [00:02<00:00, 31.94it/s]\n"
     ]
    },
    {
     "name": "stdout",
     "output_type": "stream",
     "text": [
      "Best params:  {'C': 1, 'epsilon': 0.01, 'gamma': 1, 'kernel': 'rbf'}\n",
      "Best rmse:  0.06211522614075452\n",
      "Training model:  85\n"
     ]
    },
    {
     "name": "stderr",
     "output_type": "stream",
     "text": [
      "100%|██████████████████████████████████████████████████████████████████████████████████| 80/80 [00:02<00:00, 32.18it/s]\n"
     ]
    },
    {
     "name": "stdout",
     "output_type": "stream",
     "text": [
      "Best params:  {'C': 10, 'epsilon': 0.001, 'gamma': 0.1, 'kernel': 'rbf'}\n",
      "Best rmse:  0.0622619890217785\n",
      "Training model:  86\n"
     ]
    },
    {
     "name": "stderr",
     "output_type": "stream",
     "text": [
      "100%|██████████████████████████████████████████████████████████████████████████████████| 80/80 [00:02<00:00, 32.19it/s]\n"
     ]
    },
    {
     "name": "stdout",
     "output_type": "stream",
     "text": [
      "Best params:  {'C': 10, 'epsilon': 0.01, 'gamma': 0.1, 'kernel': 'rbf'}\n",
      "Best rmse:  0.06389249318922637\n",
      "Training model:  87\n"
     ]
    },
    {
     "name": "stderr",
     "output_type": "stream",
     "text": [
      "100%|██████████████████████████████████████████████████████████████████████████████████| 80/80 [00:02<00:00, 32.18it/s]\n"
     ]
    },
    {
     "name": "stdout",
     "output_type": "stream",
     "text": [
      "Best params:  {'C': 10, 'epsilon': 1e-05, 'gamma': 1, 'kernel': 'rbf'}\n",
      "Best rmse:  0.06770068333742402\n",
      "Training model:  88\n"
     ]
    },
    {
     "name": "stderr",
     "output_type": "stream",
     "text": [
      "100%|██████████████████████████████████████████████████████████████████████████████████| 80/80 [00:02<00:00, 31.71it/s]\n"
     ]
    },
    {
     "name": "stdout",
     "output_type": "stream",
     "text": [
      "Best params:  {'C': 10, 'epsilon': 0.0001, 'gamma': 1, 'kernel': 'rbf'}\n",
      "Best rmse:  0.06500777891848548\n",
      "Training model:  89\n"
     ]
    },
    {
     "name": "stderr",
     "output_type": "stream",
     "text": [
      "100%|██████████████████████████████████████████████████████████████████████████████████| 80/80 [00:02<00:00, 31.89it/s]\n"
     ]
    },
    {
     "name": "stdout",
     "output_type": "stream",
     "text": [
      "Best params:  {'C': 1, 'epsilon': 0.01, 'gamma': 1, 'kernel': 'rbf'}\n",
      "Best rmse:  0.06529134645174627\n",
      "Training model:  90\n"
     ]
    },
    {
     "name": "stderr",
     "output_type": "stream",
     "text": [
      "100%|██████████████████████████████████████████████████████████████████████████████████| 80/80 [00:02<00:00, 32.07it/s]\n"
     ]
    },
    {
     "name": "stdout",
     "output_type": "stream",
     "text": [
      "Best params:  {'C': 10, 'epsilon': 0.01, 'gamma': 1, 'kernel': 'rbf'}\n",
      "Best rmse:  0.07046724775016479\n",
      "Training model:  91\n"
     ]
    },
    {
     "name": "stderr",
     "output_type": "stream",
     "text": [
      "100%|██████████████████████████████████████████████████████████████████████████████████| 80/80 [00:02<00:00, 32.09it/s]\n"
     ]
    },
    {
     "name": "stdout",
     "output_type": "stream",
     "text": [
      "Best params:  {'C': 1, 'epsilon': 0.0001, 'gamma': 0.001, 'kernel': 'rbf'}\n",
      "Best rmse:  0.06512738652108009\n",
      "Training model:  92\n"
     ]
    },
    {
     "name": "stderr",
     "output_type": "stream",
     "text": [
      "100%|██████████████████████████████████████████████████████████████████████████████████| 80/80 [00:02<00:00, 31.91it/s]\n"
     ]
    },
    {
     "name": "stdout",
     "output_type": "stream",
     "text": [
      "Best params:  {'C': 1, 'epsilon': 0.01, 'gamma': 1, 'kernel': 'rbf'}\n",
      "Best rmse:  0.06566858683775473\n",
      "Training model:  93\n"
     ]
    },
    {
     "name": "stderr",
     "output_type": "stream",
     "text": [
      "100%|██████████████████████████████████████████████████████████████████████████████████| 80/80 [00:02<00:00, 32.36it/s]\n"
     ]
    },
    {
     "name": "stdout",
     "output_type": "stream",
     "text": [
      "Best params:  {'C': 1, 'epsilon': 0.01, 'gamma': 1, 'kernel': 'rbf'}\n",
      "Best rmse:  0.07125688899144383\n",
      "Training model:  94\n"
     ]
    },
    {
     "name": "stderr",
     "output_type": "stream",
     "text": [
      "100%|██████████████████████████████████████████████████████████████████████████████████| 80/80 [00:02<00:00, 31.71it/s]\n"
     ]
    },
    {
     "name": "stdout",
     "output_type": "stream",
     "text": [
      "Best params:  {'C': 1, 'epsilon': 0.1, 'gamma': 1, 'kernel': 'rbf'}\n",
      "Best rmse:  0.06906260501533731\n",
      "Training model:  95\n"
     ]
    },
    {
     "name": "stderr",
     "output_type": "stream",
     "text": [
      "100%|██████████████████████████████████████████████████████████████████████████████████| 80/80 [00:02<00:00, 32.07it/s]\n"
     ]
    },
    {
     "name": "stdout",
     "output_type": "stream",
     "text": [
      "Best params:  {'C': 1, 'epsilon': 0.01, 'gamma': 1, 'kernel': 'rbf'}\n",
      "Best rmse:  0.06626328924462267\n",
      "Training model:  96\n"
     ]
    },
    {
     "name": "stderr",
     "output_type": "stream",
     "text": [
      "100%|██████████████████████████████████████████████████████████████████████████████████| 80/80 [00:02<00:00, 32.07it/s]\n"
     ]
    },
    {
     "name": "stdout",
     "output_type": "stream",
     "text": [
      "Best params:  {'C': 100, 'epsilon': 0.1, 'gamma': 0.1, 'kernel': 'rbf'}\n",
      "Best rmse:  0.06689228889142144\n",
      "Training model:  97\n"
     ]
    },
    {
     "name": "stderr",
     "output_type": "stream",
     "text": [
      "100%|██████████████████████████████████████████████████████████████████████████████████| 80/80 [00:02<00:00, 31.96it/s]\n"
     ]
    },
    {
     "name": "stdout",
     "output_type": "stream",
     "text": [
      "Best params:  {'C': 1000, 'epsilon': 0.01, 'gamma': 0.01, 'kernel': 'rbf'}\n",
      "Best rmse:  0.06624223790304577\n",
      "Training model:  98\n"
     ]
    },
    {
     "name": "stderr",
     "output_type": "stream",
     "text": [
      "100%|██████████████████████████████████████████████████████████████████████████████████| 80/80 [00:02<00:00, 31.97it/s]\n"
     ]
    },
    {
     "name": "stdout",
     "output_type": "stream",
     "text": [
      "Best params:  {'C': 1, 'epsilon': 0.01, 'gamma': 1, 'kernel': 'rbf'}\n",
      "Best rmse:  0.06104019761704546\n",
      "Training model:  99\n"
     ]
    },
    {
     "name": "stderr",
     "output_type": "stream",
     "text": [
      "100%|██████████████████████████████████████████████████████████████████████████████████| 80/80 [00:02<00:00, 31.67it/s]\n"
     ]
    },
    {
     "name": "stdout",
     "output_type": "stream",
     "text": [
      "Best params:  {'C': 1, 'epsilon': 0.01, 'gamma': 1, 'kernel': 'rbf'}\n",
      "Best rmse:  0.059986783651722525\n"
     ]
    },
    {
     "name": "stderr",
     "output_type": "stream",
     "text": [
      "100%|████████████████████████████████████████████████████████████████████████████████| 800/800 [13:36<00:00,  1.02s/it]\n"
     ]
    },
    {
     "name": "stdout",
     "output_type": "stream",
     "text": [
      "Best params:  {'comb': 'median', 'k': 13, 'n': 13}\n",
      "Best rmse:  778.0099263701236\n",
      "Time Series:  electricity\n",
      "\n",
      "###############################################\n",
      "\n",
      "Executing: ENSEMBLE SVR\n",
      "d:  1\n",
      "Training model:  0\n"
     ]
    },
    {
     "name": "stderr",
     "output_type": "stream",
     "text": [
      "100%|██████████████████████████████████████████████████████████████████████████████████| 80/80 [00:01<00:00, 73.70it/s]\n"
     ]
    },
    {
     "name": "stdout",
     "output_type": "stream",
     "text": [
      "Best params:  {'C': 10, 'epsilon': 0.01, 'gamma': 0.1, 'kernel': 'rbf'}\n",
      "Best rmse:  0.0913470480911176\n",
      "Training model:  1\n"
     ]
    },
    {
     "name": "stderr",
     "output_type": "stream",
     "text": [
      "100%|██████████████████████████████████████████████████████████████████████████████████| 80/80 [00:01<00:00, 73.62it/s]\n"
     ]
    },
    {
     "name": "stdout",
     "output_type": "stream",
     "text": [
      "Best params:  {'C': 10, 'epsilon': 0.001, 'gamma': 0.1, 'kernel': 'rbf'}\n",
      "Best rmse:  0.08591393980649242\n",
      "Training model:  2\n"
     ]
    },
    {
     "name": "stderr",
     "output_type": "stream",
     "text": [
      "100%|██████████████████████████████████████████████████████████████████████████████████| 80/80 [00:01<00:00, 73.54it/s]\n"
     ]
    },
    {
     "name": "stdout",
     "output_type": "stream",
     "text": [
      "Best params:  {'C': 1, 'epsilon': 0.01, 'gamma': 1, 'kernel': 'rbf'}\n",
      "Best rmse:  0.06836266130830622\n",
      "Training model:  3\n"
     ]
    },
    {
     "name": "stderr",
     "output_type": "stream",
     "text": [
      "100%|██████████████████████████████████████████████████████████████████████████████████| 80/80 [00:01<00:00, 73.50it/s]\n"
     ]
    },
    {
     "name": "stdout",
     "output_type": "stream",
     "text": [
      "Best params:  {'C': 10, 'epsilon': 0.1, 'gamma': 0.1, 'kernel': 'rbf'}\n",
      "Best rmse:  0.08820056838421675\n",
      "Training model:  4\n"
     ]
    },
    {
     "name": "stderr",
     "output_type": "stream",
     "text": [
      "100%|██████████████████████████████████████████████████████████████████████████████████| 80/80 [00:01<00:00, 73.39it/s]\n"
     ]
    },
    {
     "name": "stdout",
     "output_type": "stream",
     "text": [
      "Best params:  {'C': 1, 'epsilon': 1e-05, 'gamma': 1, 'kernel': 'rbf'}\n",
      "Best rmse:  0.07963831724473978\n",
      "Training model:  5\n"
     ]
    },
    {
     "name": "stderr",
     "output_type": "stream",
     "text": [
      "100%|██████████████████████████████████████████████████████████████████████████████████| 80/80 [00:01<00:00, 73.98it/s]\n"
     ]
    },
    {
     "name": "stdout",
     "output_type": "stream",
     "text": [
      "Best params:  {'C': 10, 'epsilon': 0.01, 'gamma': 1, 'kernel': 'rbf'}\n",
      "Best rmse:  0.07744154769373011\n",
      "Training model:  6\n"
     ]
    },
    {
     "name": "stderr",
     "output_type": "stream",
     "text": [
      "100%|██████████████████████████████████████████████████████████████████████████████████| 80/80 [00:01<00:00, 74.40it/s]\n"
     ]
    },
    {
     "name": "stdout",
     "output_type": "stream",
     "text": [
      "Best params:  {'C': 10, 'epsilon': 0.01, 'gamma': 1, 'kernel': 'rbf'}\n",
      "Best rmse:  0.07718465106422048\n",
      "Training model:  7\n"
     ]
    },
    {
     "name": "stderr",
     "output_type": "stream",
     "text": [
      "100%|██████████████████████████████████████████████████████████████████████████████████| 80/80 [00:01<00:00, 72.40it/s]\n"
     ]
    },
    {
     "name": "stdout",
     "output_type": "stream",
     "text": [
      "Best params:  {'C': 10, 'epsilon': 0.01, 'gamma': 1, 'kernel': 'rbf'}\n",
      "Best rmse:  0.05940159760004266\n",
      "Training model:  8\n"
     ]
    },
    {
     "name": "stderr",
     "output_type": "stream",
     "text": [
      "100%|██████████████████████████████████████████████████████████████████████████████████| 80/80 [00:01<00:00, 73.17it/s]\n"
     ]
    },
    {
     "name": "stdout",
     "output_type": "stream",
     "text": [
      "Best params:  {'C': 1, 'epsilon': 0.01, 'gamma': 1, 'kernel': 'rbf'}\n",
      "Best rmse:  0.07022758124993421\n",
      "Training model:  9\n"
     ]
    },
    {
     "name": "stderr",
     "output_type": "stream",
     "text": [
      "100%|██████████████████████████████████████████████████████████████████████████████████| 80/80 [00:01<00:00, 73.38it/s]\n"
     ]
    },
    {
     "name": "stdout",
     "output_type": "stream",
     "text": [
      "Best params:  {'C': 100, 'epsilon': 0.01, 'gamma': 0.1, 'kernel': 'rbf'}\n",
      "Best rmse:  0.09657517329964868\n",
      "Training model:  10\n"
     ]
    },
    {
     "name": "stderr",
     "output_type": "stream",
     "text": [
      "100%|██████████████████████████████████████████████████████████████████████████████████| 80/80 [00:01<00:00, 74.33it/s]\n"
     ]
    },
    {
     "name": "stdout",
     "output_type": "stream",
     "text": [
      "Best params:  {'C': 1, 'epsilon': 0.01, 'gamma': 1, 'kernel': 'rbf'}\n",
      "Best rmse:  0.08124169362944199\n",
      "Training model:  11\n"
     ]
    },
    {
     "name": "stderr",
     "output_type": "stream",
     "text": [
      "100%|██████████████████████████████████████████████████████████████████████████████████| 80/80 [00:01<00:00, 73.09it/s]\n"
     ]
    },
    {
     "name": "stdout",
     "output_type": "stream",
     "text": [
      "Best params:  {'C': 10, 'epsilon': 0.001, 'gamma': 1, 'kernel': 'rbf'}\n",
      "Best rmse:  0.08391775473678648\n",
      "Training model:  12\n"
     ]
    },
    {
     "name": "stderr",
     "output_type": "stream",
     "text": [
      "100%|██████████████████████████████████████████████████████████████████████████████████| 80/80 [00:01<00:00, 73.15it/s]\n"
     ]
    },
    {
     "name": "stdout",
     "output_type": "stream",
     "text": [
      "Best params:  {'C': 10, 'epsilon': 0.01, 'gamma': 0.1, 'kernel': 'rbf'}\n",
      "Best rmse:  0.08544132337133586\n",
      "Training model:  13\n"
     ]
    },
    {
     "name": "stderr",
     "output_type": "stream",
     "text": [
      "100%|██████████████████████████████████████████████████████████████████████████████████| 80/80 [00:01<00:00, 72.93it/s]\n"
     ]
    },
    {
     "name": "stdout",
     "output_type": "stream",
     "text": [
      "Best params:  {'C': 10, 'epsilon': 0.01, 'gamma': 1, 'kernel': 'rbf'}\n",
      "Best rmse:  0.08372820643916624\n",
      "Training model:  14\n"
     ]
    },
    {
     "name": "stderr",
     "output_type": "stream",
     "text": [
      "100%|██████████████████████████████████████████████████████████████████████████████████| 80/80 [00:01<00:00, 74.94it/s]\n"
     ]
    },
    {
     "name": "stdout",
     "output_type": "stream",
     "text": [
      "Best params:  {'C': 1, 'epsilon': 0.01, 'gamma': 1, 'kernel': 'rbf'}\n",
      "Best rmse:  0.07235774937626605\n",
      "Training model:  15\n"
     ]
    },
    {
     "name": "stderr",
     "output_type": "stream",
     "text": [
      "100%|██████████████████████████████████████████████████████████████████████████████████| 80/80 [00:01<00:00, 73.32it/s]\n"
     ]
    },
    {
     "name": "stdout",
     "output_type": "stream",
     "text": [
      "Best params:  {'C': 1, 'epsilon': 0.01, 'gamma': 1, 'kernel': 'rbf'}\n",
      "Best rmse:  0.09024259345372397\n",
      "Training model:  16\n"
     ]
    },
    {
     "name": "stderr",
     "output_type": "stream",
     "text": [
      "100%|██████████████████████████████████████████████████████████████████████████████████| 80/80 [00:01<00:00, 73.69it/s]\n"
     ]
    },
    {
     "name": "stdout",
     "output_type": "stream",
     "text": [
      "Best params:  {'C': 10, 'epsilon': 0.01, 'gamma': 0.1, 'kernel': 'rbf'}\n",
      "Best rmse:  0.07040024977653235\n",
      "Training model:  17\n"
     ]
    },
    {
     "name": "stderr",
     "output_type": "stream",
     "text": [
      "100%|██████████████████████████████████████████████████████████████████████████████████| 80/80 [00:01<00:00, 73.86it/s]\n"
     ]
    },
    {
     "name": "stdout",
     "output_type": "stream",
     "text": [
      "Best params:  {'C': 1000, 'epsilon': 0.01, 'gamma': 0.01, 'kernel': 'rbf'}\n",
      "Best rmse:  0.0837925830349626\n",
      "Training model:  18\n"
     ]
    },
    {
     "name": "stderr",
     "output_type": "stream",
     "text": [
      "100%|██████████████████████████████████████████████████████████████████████████████████| 80/80 [00:01<00:00, 74.93it/s]\n"
     ]
    },
    {
     "name": "stdout",
     "output_type": "stream",
     "text": [
      "Best params:  {'C': 10, 'epsilon': 0.01, 'gamma': 1, 'kernel': 'rbf'}\n",
      "Best rmse:  0.08446017659128296\n",
      "Training model:  19\n"
     ]
    },
    {
     "name": "stderr",
     "output_type": "stream",
     "text": [
      "100%|██████████████████████████████████████████████████████████████████████████████████| 80/80 [00:01<00:00, 72.71it/s]\n"
     ]
    },
    {
     "name": "stdout",
     "output_type": "stream",
     "text": [
      "Best params:  {'C': 10, 'epsilon': 0.001, 'gamma': 1, 'kernel': 'rbf'}\n",
      "Best rmse:  0.07965383148104184\n",
      "Training model:  20\n"
     ]
    },
    {
     "name": "stderr",
     "output_type": "stream",
     "text": [
      "100%|██████████████████████████████████████████████████████████████████████████████████| 80/80 [00:01<00:00, 73.73it/s]\n"
     ]
    },
    {
     "name": "stdout",
     "output_type": "stream",
     "text": [
      "Best params:  {'C': 1, 'epsilon': 0.0001, 'gamma': 0.1, 'kernel': 'rbf'}\n",
      "Best rmse:  0.07878733720838989\n",
      "Training model:  21\n"
     ]
    },
    {
     "name": "stderr",
     "output_type": "stream",
     "text": [
      "100%|██████████████████████████████████████████████████████████████████████████████████| 80/80 [00:01<00:00, 73.16it/s]\n"
     ]
    },
    {
     "name": "stdout",
     "output_type": "stream",
     "text": [
      "Best params:  {'C': 1, 'epsilon': 0.001, 'gamma': 1, 'kernel': 'rbf'}\n",
      "Best rmse:  0.08556655723338492\n",
      "Training model:  22\n"
     ]
    },
    {
     "name": "stderr",
     "output_type": "stream",
     "text": [
      "100%|██████████████████████████████████████████████████████████████████████████████████| 80/80 [00:01<00:00, 74.82it/s]\n"
     ]
    },
    {
     "name": "stdout",
     "output_type": "stream",
     "text": [
      "Best params:  {'C': 10, 'epsilon': 0.01, 'gamma': 1, 'kernel': 'rbf'}\n",
      "Best rmse:  0.07134085329034516\n",
      "Training model:  23\n"
     ]
    },
    {
     "name": "stderr",
     "output_type": "stream",
     "text": [
      "100%|██████████████████████████████████████████████████████████████████████████████████| 80/80 [00:01<00:00, 73.50it/s]\n"
     ]
    },
    {
     "name": "stdout",
     "output_type": "stream",
     "text": [
      "Best params:  {'C': 1, 'epsilon': 0.01, 'gamma': 1, 'kernel': 'rbf'}\n",
      "Best rmse:  0.05804742023032667\n",
      "Training model:  24\n"
     ]
    },
    {
     "name": "stderr",
     "output_type": "stream",
     "text": [
      "100%|██████████████████████████████████████████████████████████████████████████████████| 80/80 [00:01<00:00, 73.09it/s]\n"
     ]
    },
    {
     "name": "stdout",
     "output_type": "stream",
     "text": [
      "Best params:  {'C': 1, 'epsilon': 0.01, 'gamma': 1, 'kernel': 'rbf'}\n",
      "Best rmse:  0.06587317725251801\n",
      "Training model:  25\n"
     ]
    },
    {
     "name": "stderr",
     "output_type": "stream",
     "text": [
      "100%|██████████████████████████████████████████████████████████████████████████████████| 80/80 [00:01<00:00, 71.66it/s]\n"
     ]
    },
    {
     "name": "stdout",
     "output_type": "stream",
     "text": [
      "Best params:  {'C': 1, 'epsilon': 0.01, 'gamma': 1, 'kernel': 'rbf'}\n",
      "Best rmse:  0.06573227366922232\n",
      "Training model:  26\n"
     ]
    },
    {
     "name": "stderr",
     "output_type": "stream",
     "text": [
      "100%|██████████████████████████████████████████████████████████████████████████████████| 80/80 [00:01<00:00, 73.69it/s]\n"
     ]
    },
    {
     "name": "stdout",
     "output_type": "stream",
     "text": [
      "Best params:  {'C': 1, 'epsilon': 0.0001, 'gamma': 1, 'kernel': 'rbf'}\n",
      "Best rmse:  0.06520528197487813\n",
      "Training model:  27\n"
     ]
    },
    {
     "name": "stderr",
     "output_type": "stream",
     "text": [
      "100%|██████████████████████████████████████████████████████████████████████████████████| 80/80 [00:01<00:00, 73.83it/s]\n"
     ]
    },
    {
     "name": "stdout",
     "output_type": "stream",
     "text": [
      "Best params:  {'C': 10, 'epsilon': 0.01, 'gamma': 1, 'kernel': 'rbf'}\n",
      "Best rmse:  0.08354586950592964\n",
      "Training model:  28\n"
     ]
    },
    {
     "name": "stderr",
     "output_type": "stream",
     "text": [
      "100%|██████████████████████████████████████████████████████████████████████████████████| 80/80 [00:01<00:00, 74.17it/s]\n"
     ]
    },
    {
     "name": "stdout",
     "output_type": "stream",
     "text": [
      "Best params:  {'C': 1, 'epsilon': 0.01, 'gamma': 1, 'kernel': 'rbf'}\n",
      "Best rmse:  0.06437910824680221\n",
      "Training model:  29\n"
     ]
    },
    {
     "name": "stderr",
     "output_type": "stream",
     "text": [
      "100%|██████████████████████████████████████████████████████████████████████████████████| 80/80 [00:01<00:00, 72.97it/s]\n"
     ]
    },
    {
     "name": "stdout",
     "output_type": "stream",
     "text": [
      "Best params:  {'C': 1, 'epsilon': 0.01, 'gamma': 1, 'kernel': 'rbf'}\n",
      "Best rmse:  0.08867333280154457\n",
      "Training model:  30\n"
     ]
    },
    {
     "name": "stderr",
     "output_type": "stream",
     "text": [
      "100%|██████████████████████████████████████████████████████████████████████████████████| 80/80 [00:01<00:00, 72.81it/s]\n"
     ]
    },
    {
     "name": "stdout",
     "output_type": "stream",
     "text": [
      "Best params:  {'C': 1, 'epsilon': 1e-05, 'gamma': 1, 'kernel': 'rbf'}\n",
      "Best rmse:  0.07750454606844577\n",
      "Training model:  31\n"
     ]
    },
    {
     "name": "stderr",
     "output_type": "stream",
     "text": [
      "100%|██████████████████████████████████████████████████████████████████████████████████| 80/80 [00:01<00:00, 74.33it/s]\n"
     ]
    },
    {
     "name": "stdout",
     "output_type": "stream",
     "text": [
      "Best params:  {'C': 10, 'epsilon': 0.01, 'gamma': 1, 'kernel': 'rbf'}\n",
      "Best rmse:  0.08003385405596271\n",
      "Training model:  32\n"
     ]
    },
    {
     "name": "stderr",
     "output_type": "stream",
     "text": [
      "100%|██████████████████████████████████████████████████████████████████████████████████| 80/80 [00:01<00:00, 74.48it/s]\n"
     ]
    },
    {
     "name": "stdout",
     "output_type": "stream",
     "text": [
      "Best params:  {'C': 10, 'epsilon': 0.0001, 'gamma': 0.1, 'kernel': 'rbf'}\n",
      "Best rmse:  0.07677982368945799\n",
      "Training model:  33\n"
     ]
    },
    {
     "name": "stderr",
     "output_type": "stream",
     "text": [
      "100%|██████████████████████████████████████████████████████████████████████████████████| 80/80 [00:01<00:00, 73.15it/s]\n"
     ]
    },
    {
     "name": "stdout",
     "output_type": "stream",
     "text": [
      "Best params:  {'C': 10, 'epsilon': 0.01, 'gamma': 1, 'kernel': 'rbf'}\n",
      "Best rmse:  0.07080814264751543\n",
      "Training model:  34\n"
     ]
    },
    {
     "name": "stderr",
     "output_type": "stream",
     "text": [
      "100%|██████████████████████████████████████████████████████████████████████████████████| 80/80 [00:01<00:00, 73.74it/s]\n"
     ]
    },
    {
     "name": "stdout",
     "output_type": "stream",
     "text": [
      "Best params:  {'C': 1, 'epsilon': 0.01, 'gamma': 1, 'kernel': 'rbf'}\n",
      "Best rmse:  0.07601415677020683\n",
      "Training model:  35\n"
     ]
    },
    {
     "name": "stderr",
     "output_type": "stream",
     "text": [
      "100%|██████████████████████████████████████████████████████████████████████████████████| 80/80 [00:01<00:00, 74.54it/s]\n"
     ]
    },
    {
     "name": "stdout",
     "output_type": "stream",
     "text": [
      "Best params:  {'C': 10, 'epsilon': 1e-05, 'gamma': 1, 'kernel': 'rbf'}\n",
      "Best rmse:  0.0699383873387198\n",
      "Training model:  36\n"
     ]
    },
    {
     "name": "stderr",
     "output_type": "stream",
     "text": [
      "100%|██████████████████████████████████████████████████████████████████████████████████| 80/80 [00:01<00:00, 73.60it/s]\n"
     ]
    },
    {
     "name": "stdout",
     "output_type": "stream",
     "text": [
      "Best params:  {'C': 1000, 'epsilon': 0.0001, 'gamma': 0.01, 'kernel': 'rbf'}\n",
      "Best rmse:  0.07768643245696863\n",
      "Training model:  37\n"
     ]
    },
    {
     "name": "stderr",
     "output_type": "stream",
     "text": [
      "100%|██████████████████████████████████████████████████████████████████████████████████| 80/80 [00:01<00:00, 74.82it/s]\n"
     ]
    },
    {
     "name": "stdout",
     "output_type": "stream",
     "text": [
      "Best params:  {'C': 10, 'epsilon': 0.01, 'gamma': 0.1, 'kernel': 'rbf'}\n",
      "Best rmse:  0.08359586552758835\n",
      "Training model:  38\n"
     ]
    },
    {
     "name": "stderr",
     "output_type": "stream",
     "text": [
      "100%|██████████████████████████████████████████████████████████████████████████████████| 80/80 [00:01<00:00, 72.66it/s]\n"
     ]
    },
    {
     "name": "stdout",
     "output_type": "stream",
     "text": [
      "Best params:  {'C': 10, 'epsilon': 0.01, 'gamma': 1, 'kernel': 'rbf'}\n",
      "Best rmse:  0.07307007412770196\n",
      "Training model:  39\n"
     ]
    },
    {
     "name": "stderr",
     "output_type": "stream",
     "text": [
      "100%|██████████████████████████████████████████████████████████████████████████████████| 80/80 [00:01<00:00, 73.15it/s]\n"
     ]
    },
    {
     "name": "stdout",
     "output_type": "stream",
     "text": [
      "Best params:  {'C': 10, 'epsilon': 0.01, 'gamma': 1, 'kernel': 'rbf'}\n",
      "Best rmse:  0.07304743790481169\n",
      "Training model:  40\n"
     ]
    },
    {
     "name": "stderr",
     "output_type": "stream",
     "text": [
      "100%|██████████████████████████████████████████████████████████████████████████████████| 80/80 [00:01<00:00, 74.12it/s]\n"
     ]
    },
    {
     "name": "stdout",
     "output_type": "stream",
     "text": [
      "Best params:  {'C': 1, 'epsilon': 0.01, 'gamma': 1, 'kernel': 'rbf'}\n",
      "Best rmse:  0.06728641919075348\n",
      "Training model:  41\n"
     ]
    },
    {
     "name": "stderr",
     "output_type": "stream",
     "text": [
      "100%|██████████████████████████████████████████████████████████████████████████████████| 80/80 [00:01<00:00, 73.66it/s]\n"
     ]
    },
    {
     "name": "stdout",
     "output_type": "stream",
     "text": [
      "Best params:  {'C': 10, 'epsilon': 0.01, 'gamma': 0.1, 'kernel': 'rbf'}\n",
      "Best rmse:  0.07604882661513451\n",
      "Training model:  42\n"
     ]
    },
    {
     "name": "stderr",
     "output_type": "stream",
     "text": [
      "100%|██████████████████████████████████████████████████████████████████████████████████| 80/80 [00:01<00:00, 73.77it/s]\n"
     ]
    },
    {
     "name": "stdout",
     "output_type": "stream",
     "text": [
      "Best params:  {'C': 1, 'epsilon': 0.01, 'gamma': 1, 'kernel': 'rbf'}\n",
      "Best rmse:  0.0892483397221278\n",
      "Training model:  43\n"
     ]
    },
    {
     "name": "stderr",
     "output_type": "stream",
     "text": [
      "100%|██████████████████████████████████████████████████████████████████████████████████| 80/80 [00:01<00:00, 73.97it/s]\n"
     ]
    },
    {
     "name": "stdout",
     "output_type": "stream",
     "text": [
      "Best params:  {'C': 10, 'epsilon': 0.01, 'gamma': 1, 'kernel': 'rbf'}\n",
      "Best rmse:  0.07542536314948574\n",
      "Training model:  44\n"
     ]
    },
    {
     "name": "stderr",
     "output_type": "stream",
     "text": [
      "100%|██████████████████████████████████████████████████████████████████████████████████| 80/80 [00:01<00:00, 75.06it/s]\n"
     ]
    },
    {
     "name": "stdout",
     "output_type": "stream",
     "text": [
      "Best params:  {'C': 10, 'epsilon': 0.01, 'gamma': 0.1, 'kernel': 'rbf'}\n",
      "Best rmse:  0.08128616403024118\n",
      "Training model:  45\n"
     ]
    },
    {
     "name": "stderr",
     "output_type": "stream",
     "text": [
      "100%|██████████████████████████████████████████████████████████████████████████████████| 80/80 [00:01<00:00, 73.62it/s]\n"
     ]
    },
    {
     "name": "stdout",
     "output_type": "stream",
     "text": [
      "Best params:  {'C': 10, 'epsilon': 0.01, 'gamma': 1, 'kernel': 'rbf'}\n",
      "Best rmse:  0.08001373828811618\n",
      "Training model:  46\n"
     ]
    },
    {
     "name": "stderr",
     "output_type": "stream",
     "text": [
      "100%|██████████████████████████████████████████████████████████████████████████████████| 80/80 [00:01<00:00, 72.58it/s]\n"
     ]
    },
    {
     "name": "stdout",
     "output_type": "stream",
     "text": [
      "Best params:  {'C': 10, 'epsilon': 0.001, 'gamma': 0.1, 'kernel': 'rbf'}\n",
      "Best rmse:  0.07430568500975782\n",
      "Training model:  47\n"
     ]
    },
    {
     "name": "stderr",
     "output_type": "stream",
     "text": [
      "100%|██████████████████████████████████████████████████████████████████████████████████| 80/80 [00:01<00:00, 74.44it/s]\n"
     ]
    },
    {
     "name": "stdout",
     "output_type": "stream",
     "text": [
      "Best params:  {'C': 10, 'epsilon': 0.001, 'gamma': 1, 'kernel': 'rbf'}\n",
      "Best rmse:  0.07914102259441726\n",
      "Training model:  48\n"
     ]
    },
    {
     "name": "stderr",
     "output_type": "stream",
     "text": [
      "100%|██████████████████████████████████████████████████████████████████████████████████| 80/80 [00:01<00:00, 74.72it/s]\n"
     ]
    },
    {
     "name": "stdout",
     "output_type": "stream",
     "text": [
      "Best params:  {'C': 1, 'epsilon': 1e-05, 'gamma': 1, 'kernel': 'rbf'}\n",
      "Best rmse:  0.07766206468979134\n",
      "Training model:  49\n"
     ]
    },
    {
     "name": "stderr",
     "output_type": "stream",
     "text": [
      "100%|██████████████████████████████████████████████████████████████████████████████████| 80/80 [00:01<00:00, 73.67it/s]\n"
     ]
    },
    {
     "name": "stdout",
     "output_type": "stream",
     "text": [
      "Best params:  {'C': 10, 'epsilon': 1e-05, 'gamma': 1, 'kernel': 'rbf'}\n",
      "Best rmse:  0.06720481077840704\n",
      "Training model:  50\n"
     ]
    },
    {
     "name": "stderr",
     "output_type": "stream",
     "text": [
      "100%|██████████████████████████████████████████████████████████████████████████████████| 80/80 [00:01<00:00, 73.85it/s]\n"
     ]
    },
    {
     "name": "stdout",
     "output_type": "stream",
     "text": [
      "Best params:  {'C': 10, 'epsilon': 0.01, 'gamma': 1, 'kernel': 'rbf'}\n",
      "Best rmse:  0.06619812558868189\n",
      "Training model:  51\n"
     ]
    },
    {
     "name": "stderr",
     "output_type": "stream",
     "text": [
      "100%|██████████████████████████████████████████████████████████████████████████████████| 80/80 [00:01<00:00, 74.69it/s]\n"
     ]
    },
    {
     "name": "stdout",
     "output_type": "stream",
     "text": [
      "Best params:  {'C': 1, 'epsilon': 0.01, 'gamma': 1, 'kernel': 'rbf'}\n",
      "Best rmse:  0.08487605857080392\n",
      "Training model:  52\n"
     ]
    },
    {
     "name": "stderr",
     "output_type": "stream",
     "text": [
      "100%|██████████████████████████████████████████████████████████████████████████████████| 80/80 [00:01<00:00, 73.50it/s]\n"
     ]
    },
    {
     "name": "stdout",
     "output_type": "stream",
     "text": [
      "Best params:  {'C': 1, 'epsilon': 0.01, 'gamma': 1, 'kernel': 'rbf'}\n",
      "Best rmse:  0.08419922526061074\n",
      "Training model:  53\n"
     ]
    },
    {
     "name": "stderr",
     "output_type": "stream",
     "text": [
      "100%|██████████████████████████████████████████████████████████████████████████████████| 80/80 [00:01<00:00, 73.86it/s]\n"
     ]
    },
    {
     "name": "stdout",
     "output_type": "stream",
     "text": [
      "Best params:  {'C': 1, 'epsilon': 0.01, 'gamma': 1, 'kernel': 'rbf'}\n",
      "Best rmse:  0.07125308677187268\n",
      "Training model:  54\n"
     ]
    },
    {
     "name": "stderr",
     "output_type": "stream",
     "text": [
      "100%|██████████████████████████████████████████████████████████████████████████████████| 80/80 [00:01<00:00, 74.32it/s]\n"
     ]
    },
    {
     "name": "stdout",
     "output_type": "stream",
     "text": [
      "Best params:  {'C': 100, 'epsilon': 0.1, 'gamma': 0.1, 'kernel': 'rbf'}\n",
      "Best rmse:  0.10222648739345076\n",
      "Training model:  55\n"
     ]
    },
    {
     "name": "stderr",
     "output_type": "stream",
     "text": [
      "100%|██████████████████████████████████████████████████████████████████████████████████| 80/80 [00:01<00:00, 74.21it/s]\n"
     ]
    },
    {
     "name": "stdout",
     "output_type": "stream",
     "text": [
      "Best params:  {'C': 1000, 'epsilon': 0.1, 'gamma': 0.01, 'kernel': 'rbf'}\n",
      "Best rmse:  0.08724540802939043\n",
      "Training model:  56\n"
     ]
    },
    {
     "name": "stderr",
     "output_type": "stream",
     "text": [
      "100%|██████████████████████████████████████████████████████████████████████████████████| 80/80 [00:01<00:00, 73.38it/s]\n"
     ]
    },
    {
     "name": "stdout",
     "output_type": "stream",
     "text": [
      "Best params:  {'C': 10, 'epsilon': 1e-05, 'gamma': 0.1, 'kernel': 'rbf'}\n",
      "Best rmse:  0.08023529181696548\n",
      "Training model:  57\n"
     ]
    },
    {
     "name": "stderr",
     "output_type": "stream",
     "text": [
      "100%|██████████████████████████████████████████████████████████████████████████████████| 80/80 [00:01<00:00, 73.74it/s]\n"
     ]
    },
    {
     "name": "stdout",
     "output_type": "stream",
     "text": [
      "Best params:  {'C': 10, 'epsilon': 0.01, 'gamma': 1, 'kernel': 'rbf'}\n",
      "Best rmse:  0.07213116918099893\n",
      "Training model:  58\n"
     ]
    },
    {
     "name": "stderr",
     "output_type": "stream",
     "text": [
      "100%|██████████████████████████████████████████████████████████████████████████████████| 80/80 [00:01<00:00, 72.67it/s]\n"
     ]
    },
    {
     "name": "stdout",
     "output_type": "stream",
     "text": [
      "Best params:  {'C': 1, 'epsilon': 0.001, 'gamma': 1, 'kernel': 'rbf'}\n",
      "Best rmse:  0.0714670590997621\n",
      "Training model:  59\n"
     ]
    },
    {
     "name": "stderr",
     "output_type": "stream",
     "text": [
      "100%|██████████████████████████████████████████████████████████████████████████████████| 80/80 [00:01<00:00, 73.97it/s]\n"
     ]
    },
    {
     "name": "stdout",
     "output_type": "stream",
     "text": [
      "Best params:  {'C': 1, 'epsilon': 0.01, 'gamma': 1, 'kernel': 'rbf'}\n",
      "Best rmse:  0.0754426171395058\n",
      "Training model:  60\n"
     ]
    },
    {
     "name": "stderr",
     "output_type": "stream",
     "text": [
      "100%|██████████████████████████████████████████████████████████████████████████████████| 80/80 [00:01<00:00, 73.89it/s]\n"
     ]
    },
    {
     "name": "stdout",
     "output_type": "stream",
     "text": [
      "Best params:  {'C': 1, 'epsilon': 0.01, 'gamma': 1, 'kernel': 'rbf'}\n",
      "Best rmse:  0.08856819417628418\n",
      "Training model:  61\n"
     ]
    },
    {
     "name": "stderr",
     "output_type": "stream",
     "text": [
      "100%|██████████████████████████████████████████████████████████████████████████████████| 80/80 [00:01<00:00, 73.61it/s]\n"
     ]
    },
    {
     "name": "stdout",
     "output_type": "stream",
     "text": [
      "Best params:  {'C': 10, 'epsilon': 0.01, 'gamma': 1, 'kernel': 'rbf'}\n",
      "Best rmse:  0.0684676966998081\n",
      "Training model:  62\n"
     ]
    },
    {
     "name": "stderr",
     "output_type": "stream",
     "text": [
      "100%|██████████████████████████████████████████████████████████████████████████████████| 80/80 [00:01<00:00, 74.47it/s]\n"
     ]
    },
    {
     "name": "stdout",
     "output_type": "stream",
     "text": [
      "Best params:  {'C': 10, 'epsilon': 0.01, 'gamma': 1, 'kernel': 'rbf'}\n",
      "Best rmse:  0.06966259461613862\n",
      "Training model:  63\n"
     ]
    },
    {
     "name": "stderr",
     "output_type": "stream",
     "text": [
      "100%|██████████████████████████████████████████████████████████████████████████████████| 80/80 [00:01<00:00, 74.34it/s]\n"
     ]
    },
    {
     "name": "stdout",
     "output_type": "stream",
     "text": [
      "Best params:  {'C': 1, 'epsilon': 0.01, 'gamma': 1, 'kernel': 'rbf'}\n",
      "Best rmse:  0.07823998495942745\n",
      "Training model:  64\n"
     ]
    },
    {
     "name": "stderr",
     "output_type": "stream",
     "text": [
      "100%|██████████████████████████████████████████████████████████████████████████████████| 80/80 [00:01<00:00, 73.86it/s]\n"
     ]
    },
    {
     "name": "stdout",
     "output_type": "stream",
     "text": [
      "Best params:  {'C': 1, 'epsilon': 0.01, 'gamma': 1, 'kernel': 'rbf'}\n",
      "Best rmse:  0.06665481104561288\n",
      "Training model:  65\n"
     ]
    },
    {
     "name": "stderr",
     "output_type": "stream",
     "text": [
      "100%|██████████████████████████████████████████████████████████████████████████████████| 80/80 [00:01<00:00, 73.59it/s]\n"
     ]
    },
    {
     "name": "stdout",
     "output_type": "stream",
     "text": [
      "Best params:  {'C': 10, 'epsilon': 1e-05, 'gamma': 0.1, 'kernel': 'rbf'}\n",
      "Best rmse:  0.06618608797132501\n",
      "Training model:  66\n"
     ]
    },
    {
     "name": "stderr",
     "output_type": "stream",
     "text": [
      "100%|██████████████████████████████████████████████████████████████████████████████████| 80/80 [00:01<00:00, 74.09it/s]\n"
     ]
    },
    {
     "name": "stdout",
     "output_type": "stream",
     "text": [
      "Best params:  {'C': 1, 'epsilon': 0.01, 'gamma': 1, 'kernel': 'rbf'}\n",
      "Best rmse:  0.07501448082408115\n",
      "Training model:  67\n"
     ]
    },
    {
     "name": "stderr",
     "output_type": "stream",
     "text": [
      "100%|██████████████████████████████████████████████████████████████████████████████████| 80/80 [00:01<00:00, 73.27it/s]\n"
     ]
    },
    {
     "name": "stdout",
     "output_type": "stream",
     "text": [
      "Best params:  {'C': 10, 'epsilon': 0.01, 'gamma': 0.1, 'kernel': 'rbf'}\n",
      "Best rmse:  0.10567411903970736\n",
      "Training model:  68\n"
     ]
    },
    {
     "name": "stderr",
     "output_type": "stream",
     "text": [
      "100%|██████████████████████████████████████████████████████████████████████████████████| 80/80 [00:01<00:00, 73.39it/s]\n"
     ]
    },
    {
     "name": "stdout",
     "output_type": "stream",
     "text": [
      "Best params:  {'C': 10, 'epsilon': 0.01, 'gamma': 1, 'kernel': 'rbf'}\n",
      "Best rmse:  0.06837649206257466\n",
      "Training model:  69\n"
     ]
    },
    {
     "name": "stderr",
     "output_type": "stream",
     "text": [
      "100%|██████████████████████████████████████████████████████████████████████████████████| 80/80 [00:01<00:00, 73.73it/s]\n"
     ]
    },
    {
     "name": "stdout",
     "output_type": "stream",
     "text": [
      "Best params:  {'C': 1, 'epsilon': 0.01, 'gamma': 1, 'kernel': 'rbf'}\n",
      "Best rmse:  0.07770341483241036\n",
      "Training model:  70\n"
     ]
    },
    {
     "name": "stderr",
     "output_type": "stream",
     "text": [
      "100%|██████████████████████████████████████████████████████████████████████████████████| 80/80 [00:01<00:00, 73.53it/s]\n"
     ]
    },
    {
     "name": "stdout",
     "output_type": "stream",
     "text": [
      "Best params:  {'C': 10, 'epsilon': 0.001, 'gamma': 1, 'kernel': 'rbf'}\n",
      "Best rmse:  0.07453689987085987\n",
      "Training model:  71\n"
     ]
    },
    {
     "name": "stderr",
     "output_type": "stream",
     "text": [
      "100%|██████████████████████████████████████████████████████████████████████████████████| 80/80 [00:01<00:00, 73.68it/s]\n"
     ]
    },
    {
     "name": "stdout",
     "output_type": "stream",
     "text": [
      "Best params:  {'C': 1, 'epsilon': 1e-05, 'gamma': 1, 'kernel': 'rbf'}\n",
      "Best rmse:  0.07961693630878582\n",
      "Training model:  72\n"
     ]
    },
    {
     "name": "stderr",
     "output_type": "stream",
     "text": [
      "100%|██████████████████████████████████████████████████████████████████████████████████| 80/80 [00:01<00:00, 73.82it/s]\n"
     ]
    },
    {
     "name": "stdout",
     "output_type": "stream",
     "text": [
      "Best params:  {'C': 1, 'epsilon': 0.01, 'gamma': 1, 'kernel': 'rbf'}\n",
      "Best rmse:  0.0731132559540193\n",
      "Training model:  73\n"
     ]
    },
    {
     "name": "stderr",
     "output_type": "stream",
     "text": [
      "100%|██████████████████████████████████████████████████████████████████████████████████| 80/80 [00:01<00:00, 73.73it/s]\n"
     ]
    },
    {
     "name": "stdout",
     "output_type": "stream",
     "text": [
      "Best params:  {'C': 10, 'epsilon': 0.001, 'gamma': 0.1, 'kernel': 'rbf'}\n",
      "Best rmse:  0.06899677949456995\n",
      "Training model:  74\n"
     ]
    },
    {
     "name": "stderr",
     "output_type": "stream",
     "text": [
      "100%|██████████████████████████████████████████████████████████████████████████████████| 80/80 [00:01<00:00, 72.70it/s]\n"
     ]
    },
    {
     "name": "stdout",
     "output_type": "stream",
     "text": [
      "Best params:  {'C': 1, 'epsilon': 0.01, 'gamma': 1, 'kernel': 'rbf'}\n",
      "Best rmse:  0.08732637208007583\n",
      "Training model:  75\n"
     ]
    },
    {
     "name": "stderr",
     "output_type": "stream",
     "text": [
      "100%|██████████████████████████████████████████████████████████████████████████████████| 80/80 [00:01<00:00, 73.23it/s]\n"
     ]
    },
    {
     "name": "stdout",
     "output_type": "stream",
     "text": [
      "Best params:  {'C': 1, 'epsilon': 0.01, 'gamma': 1, 'kernel': 'rbf'}\n",
      "Best rmse:  0.08005508427416735\n",
      "Training model:  76\n"
     ]
    },
    {
     "name": "stderr",
     "output_type": "stream",
     "text": [
      "100%|██████████████████████████████████████████████████████████████████████████████████| 80/80 [00:01<00:00, 73.63it/s]\n"
     ]
    },
    {
     "name": "stdout",
     "output_type": "stream",
     "text": [
      "Best params:  {'C': 10, 'epsilon': 0.01, 'gamma': 1, 'kernel': 'rbf'}\n",
      "Best rmse:  0.060162506990275\n",
      "Training model:  77\n"
     ]
    },
    {
     "name": "stderr",
     "output_type": "stream",
     "text": [
      "100%|██████████████████████████████████████████████████████████████████████████████████| 80/80 [00:01<00:00, 73.57it/s]\n"
     ]
    },
    {
     "name": "stdout",
     "output_type": "stream",
     "text": [
      "Best params:  {'C': 10, 'epsilon': 0.001, 'gamma': 1, 'kernel': 'rbf'}\n",
      "Best rmse:  0.06375371561471961\n",
      "Training model:  78\n"
     ]
    },
    {
     "name": "stderr",
     "output_type": "stream",
     "text": [
      "100%|██████████████████████████████████████████████████████████████████████████████████| 80/80 [00:01<00:00, 73.85it/s]\n"
     ]
    },
    {
     "name": "stdout",
     "output_type": "stream",
     "text": [
      "Best params:  {'C': 1, 'epsilon': 0.001, 'gamma': 1, 'kernel': 'rbf'}\n",
      "Best rmse:  0.07550546554732526\n",
      "Training model:  79\n"
     ]
    },
    {
     "name": "stderr",
     "output_type": "stream",
     "text": [
      "100%|██████████████████████████████████████████████████████████████████████████████████| 80/80 [00:01<00:00, 72.82it/s]\n"
     ]
    },
    {
     "name": "stdout",
     "output_type": "stream",
     "text": [
      "Best params:  {'C': 1, 'epsilon': 0.001, 'gamma': 1, 'kernel': 'rbf'}\n",
      "Best rmse:  0.062075514233406716\n",
      "Training model:  80\n"
     ]
    },
    {
     "name": "stderr",
     "output_type": "stream",
     "text": [
      "100%|██████████████████████████████████████████████████████████████████████████████████| 80/80 [00:01<00:00, 73.60it/s]\n"
     ]
    },
    {
     "name": "stdout",
     "output_type": "stream",
     "text": [
      "Best params:  {'C': 1, 'epsilon': 0.01, 'gamma': 1, 'kernel': 'rbf'}\n",
      "Best rmse:  0.07350390238010536\n",
      "Training model:  81\n"
     ]
    },
    {
     "name": "stderr",
     "output_type": "stream",
     "text": [
      "100%|██████████████████████████████████████████████████████████████████████████████████| 80/80 [00:01<00:00, 73.00it/s]\n"
     ]
    },
    {
     "name": "stdout",
     "output_type": "stream",
     "text": [
      "Best params:  {'C': 10, 'epsilon': 0.01, 'gamma': 0.1, 'kernel': 'rbf'}\n",
      "Best rmse:  0.10755479000175955\n",
      "Training model:  82\n"
     ]
    },
    {
     "name": "stderr",
     "output_type": "stream",
     "text": [
      "100%|██████████████████████████████████████████████████████████████████████████████████| 80/80 [00:01<00:00, 72.72it/s]\n"
     ]
    },
    {
     "name": "stdout",
     "output_type": "stream",
     "text": [
      "Best params:  {'C': 10, 'epsilon': 0.001, 'gamma': 1, 'kernel': 'rbf'}\n",
      "Best rmse:  0.08826555393879727\n",
      "Training model:  83\n"
     ]
    },
    {
     "name": "stderr",
     "output_type": "stream",
     "text": [
      "100%|██████████████████████████████████████████████████████████████████████████████████| 80/80 [00:01<00:00, 74.21it/s]\n"
     ]
    },
    {
     "name": "stdout",
     "output_type": "stream",
     "text": [
      "Best params:  {'C': 1, 'epsilon': 0.01, 'gamma': 1, 'kernel': 'rbf'}\n",
      "Best rmse:  0.07000579858085915\n",
      "Training model:  84\n"
     ]
    },
    {
     "name": "stderr",
     "output_type": "stream",
     "text": [
      "100%|██████████████████████████████████████████████████████████████████████████████████| 80/80 [00:01<00:00, 73.66it/s]\n"
     ]
    },
    {
     "name": "stdout",
     "output_type": "stream",
     "text": [
      "Best params:  {'C': 10, 'epsilon': 0.0001, 'gamma': 1, 'kernel': 'rbf'}\n",
      "Best rmse:  0.09189478279625916\n",
      "Training model:  85\n"
     ]
    },
    {
     "name": "stderr",
     "output_type": "stream",
     "text": [
      "100%|██████████████████████████████████████████████████████████████████████████████████| 80/80 [00:01<00:00, 73.16it/s]\n"
     ]
    },
    {
     "name": "stdout",
     "output_type": "stream",
     "text": [
      "Best params:  {'C': 1, 'epsilon': 0.01, 'gamma': 1, 'kernel': 'rbf'}\n",
      "Best rmse:  0.0722692704909571\n",
      "Training model:  86\n"
     ]
    },
    {
     "name": "stderr",
     "output_type": "stream",
     "text": [
      "100%|██████████████████████████████████████████████████████████████████████████████████| 80/80 [00:01<00:00, 73.51it/s]\n"
     ]
    },
    {
     "name": "stdout",
     "output_type": "stream",
     "text": [
      "Best params:  {'C': 1000, 'epsilon': 0.01, 'gamma': 0.01, 'kernel': 'rbf'}\n",
      "Best rmse:  0.06307701576325159\n",
      "Training model:  87\n"
     ]
    },
    {
     "name": "stderr",
     "output_type": "stream",
     "text": [
      "100%|██████████████████████████████████████████████████████████████████████████████████| 80/80 [00:01<00:00, 74.20it/s]\n"
     ]
    },
    {
     "name": "stdout",
     "output_type": "stream",
     "text": [
      "Best params:  {'C': 10, 'epsilon': 0.01, 'gamma': 1, 'kernel': 'rbf'}\n",
      "Best rmse:  0.08417691224247915\n",
      "Training model:  88\n"
     ]
    },
    {
     "name": "stderr",
     "output_type": "stream",
     "text": [
      "100%|██████████████████████████████████████████████████████████████████████████████████| 80/80 [00:01<00:00, 73.98it/s]\n"
     ]
    },
    {
     "name": "stdout",
     "output_type": "stream",
     "text": [
      "Best params:  {'C': 1, 'epsilon': 0.01, 'gamma': 1, 'kernel': 'rbf'}\n",
      "Best rmse:  0.06222891432909836\n",
      "Training model:  89\n"
     ]
    },
    {
     "name": "stderr",
     "output_type": "stream",
     "text": [
      "100%|██████████████████████████████████████████████████████████████████████████████████| 80/80 [00:01<00:00, 74.33it/s]\n"
     ]
    },
    {
     "name": "stdout",
     "output_type": "stream",
     "text": [
      "Best params:  {'C': 10, 'epsilon': 0.01, 'gamma': 0.1, 'kernel': 'rbf'}\n",
      "Best rmse:  0.07723990231088006\n",
      "Training model:  90\n"
     ]
    },
    {
     "name": "stderr",
     "output_type": "stream",
     "text": [
      "100%|██████████████████████████████████████████████████████████████████████████████████| 80/80 [00:01<00:00, 74.20it/s]\n"
     ]
    },
    {
     "name": "stdout",
     "output_type": "stream",
     "text": [
      "Best params:  {'C': 1, 'epsilon': 0.01, 'gamma': 1, 'kernel': 'rbf'}\n",
      "Best rmse:  0.07357092943202702\n",
      "Training model:  91\n"
     ]
    },
    {
     "name": "stderr",
     "output_type": "stream",
     "text": [
      "100%|██████████████████████████████████████████████████████████████████████████████████| 80/80 [00:01<00:00, 74.21it/s]\n"
     ]
    },
    {
     "name": "stdout",
     "output_type": "stream",
     "text": [
      "Best params:  {'C': 1, 'epsilon': 0.01, 'gamma': 1, 'kernel': 'rbf'}\n",
      "Best rmse:  0.07104122070187392\n",
      "Training model:  92\n"
     ]
    },
    {
     "name": "stderr",
     "output_type": "stream",
     "text": [
      "100%|██████████████████████████████████████████████████████████████████████████████████| 80/80 [00:01<00:00, 74.98it/s]\n"
     ]
    },
    {
     "name": "stdout",
     "output_type": "stream",
     "text": [
      "Best params:  {'C': 10, 'epsilon': 0.01, 'gamma': 1, 'kernel': 'rbf'}\n",
      "Best rmse:  0.0712248547023803\n",
      "Training model:  93\n"
     ]
    },
    {
     "name": "stderr",
     "output_type": "stream",
     "text": [
      "100%|██████████████████████████████████████████████████████████████████████████████████| 80/80 [00:01<00:00, 73.82it/s]\n"
     ]
    },
    {
     "name": "stdout",
     "output_type": "stream",
     "text": [
      "Best params:  {'C': 10, 'epsilon': 0.01, 'gamma': 0.1, 'kernel': 'rbf'}\n",
      "Best rmse:  0.0777957776453869\n",
      "Training model:  94\n"
     ]
    },
    {
     "name": "stderr",
     "output_type": "stream",
     "text": [
      "100%|██████████████████████████████████████████████████████████████████████████████████| 80/80 [00:01<00:00, 73.60it/s]\n"
     ]
    },
    {
     "name": "stdout",
     "output_type": "stream",
     "text": [
      "Best params:  {'C': 1, 'epsilon': 0.01, 'gamma': 1, 'kernel': 'rbf'}\n",
      "Best rmse:  0.08958255866143747\n",
      "Training model:  95\n"
     ]
    },
    {
     "name": "stderr",
     "output_type": "stream",
     "text": [
      "100%|██████████████████████████████████████████████████████████████████████████████████| 80/80 [00:01<00:00, 73.01it/s]\n"
     ]
    },
    {
     "name": "stdout",
     "output_type": "stream",
     "text": [
      "Best params:  {'C': 10, 'epsilon': 0.01, 'gamma': 0.1, 'kernel': 'rbf'}\n",
      "Best rmse:  0.08218957082383138\n",
      "Training model:  96\n"
     ]
    },
    {
     "name": "stderr",
     "output_type": "stream",
     "text": [
      "100%|██████████████████████████████████████████████████████████████████████████████████| 80/80 [00:01<00:00, 72.51it/s]\n"
     ]
    },
    {
     "name": "stdout",
     "output_type": "stream",
     "text": [
      "Best params:  {'C': 1, 'epsilon': 0.01, 'gamma': 1, 'kernel': 'rbf'}\n",
      "Best rmse:  0.087544246756261\n",
      "Training model:  97\n"
     ]
    },
    {
     "name": "stderr",
     "output_type": "stream",
     "text": [
      "100%|██████████████████████████████████████████████████████████████████████████████████| 80/80 [00:01<00:00, 74.07it/s]\n"
     ]
    },
    {
     "name": "stdout",
     "output_type": "stream",
     "text": [
      "Best params:  {'C': 10, 'epsilon': 1e-05, 'gamma': 1, 'kernel': 'rbf'}\n",
      "Best rmse:  0.06483652634840482\n",
      "Training model:  98\n"
     ]
    },
    {
     "name": "stderr",
     "output_type": "stream",
     "text": [
      "100%|██████████████████████████████████████████████████████████████████████████████████| 80/80 [00:01<00:00, 74.45it/s]\n"
     ]
    },
    {
     "name": "stdout",
     "output_type": "stream",
     "text": [
      "Best params:  {'C': 1, 'epsilon': 0.0001, 'gamma': 1, 'kernel': 'rbf'}\n",
      "Best rmse:  0.08468428911522755\n",
      "Training model:  99\n"
     ]
    },
    {
     "name": "stderr",
     "output_type": "stream",
     "text": [
      "100%|██████████████████████████████████████████████████████████████████████████████████| 80/80 [00:01<00:00, 74.07it/s]\n"
     ]
    },
    {
     "name": "stdout",
     "output_type": "stream",
     "text": [
      "Best params:  {'C': 1, 'epsilon': 0.001, 'gamma': 1, 'kernel': 'rbf'}\n",
      "Best rmse:  0.08505683478250811\n"
     ]
    },
    {
     "name": "stderr",
     "output_type": "stream",
     "text": [
      "100%|████████████████████████████████████████████████████████████████████████████████| 800/800 [02:51<00:00,  4.67it/s]\n"
     ]
    },
    {
     "name": "stdout",
     "output_type": "stream",
     "text": [
      "Best params:  {'comb': 'median', 'k': 10, 'n': 16}\n",
      "Best rmse:  3316.079090447597\n",
      "Time Series:  goldman\n",
      "\n",
      "###############################################\n",
      "\n",
      "Executing: ENSEMBLE SVR\n",
      "d:  1\n",
      "Training model:  0\n"
     ]
    },
    {
     "name": "stderr",
     "output_type": "stream",
     "text": [
      "100%|██████████████████████████████████████████████████████████████████████████████████| 80/80 [00:01<00:00, 64.72it/s]\n"
     ]
    },
    {
     "name": "stdout",
     "output_type": "stream",
     "text": [
      "Best params:  {'C': 10, 'epsilon': 1e-05, 'gamma': 0.1, 'kernel': 'rbf'}\n",
      "Best rmse:  0.07536333224900015\n",
      "Training model:  1\n"
     ]
    },
    {
     "name": "stderr",
     "output_type": "stream",
     "text": [
      "100%|██████████████████████████████████████████████████████████████████████████████████| 80/80 [00:01<00:00, 64.01it/s]\n"
     ]
    },
    {
     "name": "stdout",
     "output_type": "stream",
     "text": [
      "Best params:  {'C': 10, 'epsilon': 0.01, 'gamma': 1, 'kernel': 'rbf'}\n",
      "Best rmse:  0.09110297828216202\n",
      "Training model:  2\n"
     ]
    },
    {
     "name": "stderr",
     "output_type": "stream",
     "text": [
      "100%|██████████████████████████████████████████████████████████████████████████████████| 80/80 [00:01<00:00, 64.18it/s]\n"
     ]
    },
    {
     "name": "stdout",
     "output_type": "stream",
     "text": [
      "Best params:  {'C': 1, 'epsilon': 0.01, 'gamma': 1, 'kernel': 'rbf'}\n",
      "Best rmse:  0.08584515647176919\n",
      "Training model:  3\n"
     ]
    },
    {
     "name": "stderr",
     "output_type": "stream",
     "text": [
      "100%|██████████████████████████████████████████████████████████████████████████████████| 80/80 [00:01<00:00, 65.19it/s]\n"
     ]
    },
    {
     "name": "stdout",
     "output_type": "stream",
     "text": [
      "Best params:  {'C': 1, 'epsilon': 0.01, 'gamma': 1, 'kernel': 'rbf'}\n",
      "Best rmse:  0.07688267287516902\n",
      "Training model:  4\n"
     ]
    },
    {
     "name": "stderr",
     "output_type": "stream",
     "text": [
      "100%|██████████████████████████████████████████████████████████████████████████████████| 80/80 [00:01<00:00, 65.84it/s]\n"
     ]
    },
    {
     "name": "stdout",
     "output_type": "stream",
     "text": [
      "Best params:  {'C': 1, 'epsilon': 0.01, 'gamma': 1, 'kernel': 'rbf'}\n",
      "Best rmse:  0.07530693565796474\n",
      "Training model:  5\n"
     ]
    },
    {
     "name": "stderr",
     "output_type": "stream",
     "text": [
      "100%|██████████████████████████████████████████████████████████████████████████████████| 80/80 [00:01<00:00, 65.84it/s]\n"
     ]
    },
    {
     "name": "stdout",
     "output_type": "stream",
     "text": [
      "Best params:  {'C': 1, 'epsilon': 0.01, 'gamma': 1, 'kernel': 'rbf'}\n",
      "Best rmse:  0.09163529699788882\n",
      "Training model:  6\n"
     ]
    },
    {
     "name": "stderr",
     "output_type": "stream",
     "text": [
      "100%|██████████████████████████████████████████████████████████████████████████████████| 80/80 [00:01<00:00, 64.82it/s]\n"
     ]
    },
    {
     "name": "stdout",
     "output_type": "stream",
     "text": [
      "Best params:  {'C': 1, 'epsilon': 0.1, 'gamma': 1, 'kernel': 'rbf'}\n",
      "Best rmse:  0.10386040659679849\n",
      "Training model:  7\n"
     ]
    },
    {
     "name": "stderr",
     "output_type": "stream",
     "text": [
      "100%|██████████████████████████████████████████████████████████████████████████████████| 80/80 [00:01<00:00, 63.66it/s]\n"
     ]
    },
    {
     "name": "stdout",
     "output_type": "stream",
     "text": [
      "Best params:  {'C': 1, 'epsilon': 0.01, 'gamma': 1, 'kernel': 'rbf'}\n",
      "Best rmse:  0.10020872287527655\n",
      "Training model:  8\n"
     ]
    },
    {
     "name": "stderr",
     "output_type": "stream",
     "text": [
      "100%|██████████████████████████████████████████████████████████████████████████████████| 80/80 [00:01<00:00, 64.82it/s]\n"
     ]
    },
    {
     "name": "stdout",
     "output_type": "stream",
     "text": [
      "Best params:  {'C': 1, 'epsilon': 0.01, 'gamma': 1, 'kernel': 'rbf'}\n",
      "Best rmse:  0.0744469965799428\n",
      "Training model:  9\n"
     ]
    },
    {
     "name": "stderr",
     "output_type": "stream",
     "text": [
      "100%|██████████████████████████████████████████████████████████████████████████████████| 80/80 [00:01<00:00, 64.59it/s]\n"
     ]
    },
    {
     "name": "stdout",
     "output_type": "stream",
     "text": [
      "Best params:  {'C': 1000, 'epsilon': 0.01, 'gamma': 0.01, 'kernel': 'rbf'}\n",
      "Best rmse:  0.08036602465031022\n",
      "Training model:  10\n"
     ]
    },
    {
     "name": "stderr",
     "output_type": "stream",
     "text": [
      "100%|██████████████████████████████████████████████████████████████████████████████████| 80/80 [00:01<00:00, 64.19it/s]\n"
     ]
    },
    {
     "name": "stdout",
     "output_type": "stream",
     "text": [
      "Best params:  {'C': 10, 'epsilon': 1e-05, 'gamma': 0.001, 'kernel': 'rbf'}\n",
      "Best rmse:  0.0938633777482155\n",
      "Training model:  11\n"
     ]
    },
    {
     "name": "stderr",
     "output_type": "stream",
     "text": [
      "100%|██████████████████████████████████████████████████████████████████████████████████| 80/80 [00:01<00:00, 65.36it/s]\n"
     ]
    },
    {
     "name": "stdout",
     "output_type": "stream",
     "text": [
      "Best params:  {'C': 1, 'epsilon': 1e-05, 'gamma': 0.001, 'kernel': 'rbf'}\n",
      "Best rmse:  0.08451591710770621\n",
      "Training model:  12\n"
     ]
    },
    {
     "name": "stderr",
     "output_type": "stream",
     "text": [
      "100%|██████████████████████████████████████████████████████████████████████████████████| 80/80 [00:01<00:00, 64.54it/s]\n"
     ]
    },
    {
     "name": "stdout",
     "output_type": "stream",
     "text": [
      "Best params:  {'C': 1, 'epsilon': 0.1, 'gamma': 0.01, 'kernel': 'rbf'}\n",
      "Best rmse:  0.08676585811678246\n",
      "Training model:  13\n"
     ]
    },
    {
     "name": "stderr",
     "output_type": "stream",
     "text": [
      "100%|██████████████████████████████████████████████████████████████████████████████████| 80/80 [00:01<00:00, 64.82it/s]\n"
     ]
    },
    {
     "name": "stdout",
     "output_type": "stream",
     "text": [
      "Best params:  {'C': 1, 'epsilon': 0.01, 'gamma': 1, 'kernel': 'rbf'}\n",
      "Best rmse:  0.08540112411890181\n",
      "Training model:  14\n"
     ]
    },
    {
     "name": "stderr",
     "output_type": "stream",
     "text": [
      "100%|██████████████████████████████████████████████████████████████████████████████████| 80/80 [00:01<00:00, 65.28it/s]\n"
     ]
    },
    {
     "name": "stdout",
     "output_type": "stream",
     "text": [
      "Best params:  {'C': 1, 'epsilon': 0.01, 'gamma': 1, 'kernel': 'rbf'}\n",
      "Best rmse:  0.06500979487097384\n",
      "Training model:  15\n"
     ]
    },
    {
     "name": "stderr",
     "output_type": "stream",
     "text": [
      "100%|██████████████████████████████████████████████████████████████████████████████████| 80/80 [00:01<00:00, 65.46it/s]\n"
     ]
    },
    {
     "name": "stdout",
     "output_type": "stream",
     "text": [
      "Best params:  {'C': 1, 'epsilon': 0.0001, 'gamma': 1, 'kernel': 'rbf'}\n",
      "Best rmse:  0.09245491936594084\n",
      "Training model:  16\n"
     ]
    },
    {
     "name": "stderr",
     "output_type": "stream",
     "text": [
      "100%|██████████████████████████████████████████████████████████████████████████████████| 80/80 [00:01<00:00, 64.28it/s]\n"
     ]
    },
    {
     "name": "stdout",
     "output_type": "stream",
     "text": [
      "Best params:  {'C': 1, 'epsilon': 0.01, 'gamma': 1, 'kernel': 'rbf'}\n",
      "Best rmse:  0.07801448047936772\n",
      "Training model:  17\n"
     ]
    },
    {
     "name": "stderr",
     "output_type": "stream",
     "text": [
      "100%|██████████████████████████████████████████████████████████████████████████████████| 80/80 [00:01<00:00, 65.46it/s]\n"
     ]
    },
    {
     "name": "stdout",
     "output_type": "stream",
     "text": [
      "Best params:  {'C': 1, 'epsilon': 0.01, 'gamma': 1, 'kernel': 'rbf'}\n",
      "Best rmse:  0.07391157603799667\n",
      "Training model:  18\n"
     ]
    },
    {
     "name": "stderr",
     "output_type": "stream",
     "text": [
      "100%|██████████████████████████████████████████████████████████████████████████████████| 80/80 [00:01<00:00, 65.28it/s]\n"
     ]
    },
    {
     "name": "stdout",
     "output_type": "stream",
     "text": [
      "Best params:  {'C': 1, 'epsilon': 0.001, 'gamma': 1, 'kernel': 'rbf'}\n",
      "Best rmse:  0.08145673735780669\n",
      "Training model:  19\n"
     ]
    },
    {
     "name": "stderr",
     "output_type": "stream",
     "text": [
      "100%|██████████████████████████████████████████████████████████████████████████████████| 80/80 [00:01<00:00, 65.09it/s]\n"
     ]
    },
    {
     "name": "stdout",
     "output_type": "stream",
     "text": [
      "Best params:  {'C': 1, 'epsilon': 1e-05, 'gamma': 1, 'kernel': 'rbf'}\n",
      "Best rmse:  0.08005739316631402\n",
      "Training model:  20\n"
     ]
    },
    {
     "name": "stderr",
     "output_type": "stream",
     "text": [
      "100%|██████████████████████████████████████████████████████████████████████████████████| 80/80 [00:01<00:00, 64.91it/s]\n"
     ]
    },
    {
     "name": "stdout",
     "output_type": "stream",
     "text": [
      "Best params:  {'C': 1, 'epsilon': 0.01, 'gamma': 1, 'kernel': 'rbf'}\n",
      "Best rmse:  0.08541838506765621\n",
      "Training model:  21\n"
     ]
    },
    {
     "name": "stderr",
     "output_type": "stream",
     "text": [
      "100%|██████████████████████████████████████████████████████████████████████████████████| 80/80 [00:01<00:00, 64.91it/s]\n"
     ]
    },
    {
     "name": "stdout",
     "output_type": "stream",
     "text": [
      "Best params:  {'C': 1, 'epsilon': 0.01, 'gamma': 1, 'kernel': 'rbf'}\n",
      "Best rmse:  0.09440528956222628\n",
      "Training model:  22\n"
     ]
    },
    {
     "name": "stderr",
     "output_type": "stream",
     "text": [
      "100%|██████████████████████████████████████████████████████████████████████████████████| 80/80 [00:01<00:00, 64.54it/s]\n"
     ]
    },
    {
     "name": "stdout",
     "output_type": "stream",
     "text": [
      "Best params:  {'C': 10, 'epsilon': 0.1, 'gamma': 1, 'kernel': 'rbf'}\n",
      "Best rmse:  0.0829854019148091\n",
      "Training model:  23\n"
     ]
    },
    {
     "name": "stderr",
     "output_type": "stream",
     "text": [
      "100%|██████████████████████████████████████████████████████████████████████████████████| 80/80 [00:01<00:00, 64.27it/s]\n"
     ]
    },
    {
     "name": "stdout",
     "output_type": "stream",
     "text": [
      "Best params:  {'C': 1, 'epsilon': 0.01, 'gamma': 1, 'kernel': 'rbf'}\n",
      "Best rmse:  0.09530273286535913\n",
      "Training model:  24\n"
     ]
    },
    {
     "name": "stderr",
     "output_type": "stream",
     "text": [
      "100%|██████████████████████████████████████████████████████████████████████████████████| 80/80 [00:01<00:00, 64.72it/s]\n"
     ]
    },
    {
     "name": "stdout",
     "output_type": "stream",
     "text": [
      "Best params:  {'C': 10, 'epsilon': 0.1, 'gamma': 1, 'kernel': 'rbf'}\n",
      "Best rmse:  0.10241128534375968\n",
      "Training model:  25\n"
     ]
    },
    {
     "name": "stderr",
     "output_type": "stream",
     "text": [
      "100%|██████████████████████████████████████████████████████████████████████████████████| 80/80 [00:01<00:00, 65.29it/s]\n"
     ]
    },
    {
     "name": "stdout",
     "output_type": "stream",
     "text": [
      "Best params:  {'C': 1, 'epsilon': 0.01, 'gamma': 1, 'kernel': 'rbf'}\n",
      "Best rmse:  0.07420219046706701\n",
      "Training model:  26\n"
     ]
    },
    {
     "name": "stderr",
     "output_type": "stream",
     "text": [
      "100%|██████████████████████████████████████████████████████████████████████████████████| 80/80 [00:01<00:00, 65.01it/s]\n"
     ]
    },
    {
     "name": "stdout",
     "output_type": "stream",
     "text": [
      "Best params:  {'C': 1, 'epsilon': 0.01, 'gamma': 1, 'kernel': 'rbf'}\n",
      "Best rmse:  0.10835660337858383\n",
      "Training model:  27\n"
     ]
    },
    {
     "name": "stderr",
     "output_type": "stream",
     "text": [
      "100%|██████████████████████████████████████████████████████████████████████████████████| 80/80 [00:01<00:00, 64.19it/s]\n"
     ]
    },
    {
     "name": "stdout",
     "output_type": "stream",
     "text": [
      "Best params:  {'C': 1, 'epsilon': 0.01, 'gamma': 1, 'kernel': 'rbf'}\n",
      "Best rmse:  0.0853095654726596\n",
      "Training model:  28\n"
     ]
    },
    {
     "name": "stderr",
     "output_type": "stream",
     "text": [
      "100%|██████████████████████████████████████████████████████████████████████████████████| 80/80 [00:01<00:00, 65.55it/s]\n"
     ]
    },
    {
     "name": "stdout",
     "output_type": "stream",
     "text": [
      "Best params:  {'C': 1, 'epsilon': 0.1, 'gamma': 1, 'kernel': 'rbf'}\n",
      "Best rmse:  0.08060012679992648\n",
      "Training model:  29\n"
     ]
    },
    {
     "name": "stderr",
     "output_type": "stream",
     "text": [
      "100%|██████████████████████████████████████████████████████████████████████████████████| 80/80 [00:01<00:00, 65.37it/s]\n"
     ]
    },
    {
     "name": "stdout",
     "output_type": "stream",
     "text": [
      "Best params:  {'C': 1, 'epsilon': 0.01, 'gamma': 1, 'kernel': 'rbf'}\n",
      "Best rmse:  0.10400866535646447\n",
      "Training model:  30\n"
     ]
    },
    {
     "name": "stderr",
     "output_type": "stream",
     "text": [
      "100%|██████████████████████████████████████████████████████████████████████████████████| 80/80 [00:01<00:00, 63.97it/s]\n"
     ]
    },
    {
     "name": "stdout",
     "output_type": "stream",
     "text": [
      "Best params:  {'C': 10, 'epsilon': 0.1, 'gamma': 1, 'kernel': 'rbf'}\n",
      "Best rmse:  0.09973354623576385\n",
      "Training model:  31\n"
     ]
    },
    {
     "name": "stderr",
     "output_type": "stream",
     "text": [
      "100%|██████████████████████████████████████████████████████████████████████████████████| 80/80 [00:01<00:00, 65.18it/s]\n"
     ]
    },
    {
     "name": "stdout",
     "output_type": "stream",
     "text": [
      "Best params:  {'C': 10, 'epsilon': 0.01, 'gamma': 1, 'kernel': 'rbf'}\n",
      "Best rmse:  0.07012391480977709\n",
      "Training model:  32\n"
     ]
    },
    {
     "name": "stderr",
     "output_type": "stream",
     "text": [
      "100%|██████████████████████████████████████████████████████████████████████████████████| 80/80 [00:01<00:00, 65.46it/s]\n"
     ]
    },
    {
     "name": "stdout",
     "output_type": "stream",
     "text": [
      "Best params:  {'C': 1, 'epsilon': 0.01, 'gamma': 1, 'kernel': 'rbf'}\n",
      "Best rmse:  0.0700991992430325\n",
      "Training model:  33\n"
     ]
    },
    {
     "name": "stderr",
     "output_type": "stream",
     "text": [
      "100%|██████████████████████████████████████████████████████████████████████████████████| 80/80 [00:01<00:00, 65.17it/s]\n"
     ]
    },
    {
     "name": "stdout",
     "output_type": "stream",
     "text": [
      "Best params:  {'C': 1, 'epsilon': 0.1, 'gamma': 1, 'kernel': 'rbf'}\n",
      "Best rmse:  0.07701081348732784\n",
      "Training model:  34\n"
     ]
    },
    {
     "name": "stderr",
     "output_type": "stream",
     "text": [
      "100%|██████████████████████████████████████████████████████████████████████████████████| 80/80 [00:01<00:00, 64.36it/s]\n"
     ]
    },
    {
     "name": "stdout",
     "output_type": "stream",
     "text": [
      "Best params:  {'C': 1, 'epsilon': 0.01, 'gamma': 1, 'kernel': 'rbf'}\n",
      "Best rmse:  0.07104524374931055\n",
      "Training model:  35\n"
     ]
    },
    {
     "name": "stderr",
     "output_type": "stream",
     "text": [
      "100%|██████████████████████████████████████████████████████████████████████████████████| 80/80 [00:01<00:00, 64.58it/s]\n"
     ]
    },
    {
     "name": "stdout",
     "output_type": "stream",
     "text": [
      "Best params:  {'C': 1, 'epsilon': 0.01, 'gamma': 1, 'kernel': 'rbf'}\n",
      "Best rmse:  0.0974703087747164\n",
      "Training model:  36\n"
     ]
    },
    {
     "name": "stderr",
     "output_type": "stream",
     "text": [
      "100%|██████████████████████████████████████████████████████████████████████████████████| 80/80 [00:01<00:00, 64.34it/s]\n"
     ]
    },
    {
     "name": "stdout",
     "output_type": "stream",
     "text": [
      "Best params:  {'C': 10, 'epsilon': 0.01, 'gamma': 1, 'kernel': 'rbf'}\n",
      "Best rmse:  0.07568744993941753\n",
      "Training model:  37\n"
     ]
    },
    {
     "name": "stderr",
     "output_type": "stream",
     "text": [
      "100%|██████████████████████████████████████████████████████████████████████████████████| 80/80 [00:01<00:00, 66.03it/s]\n"
     ]
    },
    {
     "name": "stdout",
     "output_type": "stream",
     "text": [
      "Best params:  {'C': 10, 'epsilon': 0.1, 'gamma': 1, 'kernel': 'rbf'}\n",
      "Best rmse:  0.0888740733293911\n",
      "Training model:  38\n"
     ]
    },
    {
     "name": "stderr",
     "output_type": "stream",
     "text": [
      "100%|██████████████████████████████████████████████████████████████████████████████████| 80/80 [00:01<00:00, 65.56it/s]\n"
     ]
    },
    {
     "name": "stdout",
     "output_type": "stream",
     "text": [
      "Best params:  {'C': 1, 'epsilon': 0.01, 'gamma': 1, 'kernel': 'rbf'}\n",
      "Best rmse:  0.07885478760632385\n",
      "Training model:  39\n"
     ]
    },
    {
     "name": "stderr",
     "output_type": "stream",
     "text": [
      "100%|██████████████████████████████████████████████████████████████████████████████████| 80/80 [00:01<00:00, 64.28it/s]\n"
     ]
    },
    {
     "name": "stdout",
     "output_type": "stream",
     "text": [
      "Best params:  {'C': 1, 'epsilon': 0.1, 'gamma': 1, 'kernel': 'rbf'}\n",
      "Best rmse:  0.09765902910785791\n",
      "Training model:  40\n"
     ]
    },
    {
     "name": "stderr",
     "output_type": "stream",
     "text": [
      "100%|██████████████████████████████████████████████████████████████████████████████████| 80/80 [00:01<00:00, 64.01it/s]\n"
     ]
    },
    {
     "name": "stdout",
     "output_type": "stream",
     "text": [
      "Best params:  {'C': 1, 'epsilon': 0.0001, 'gamma': 1, 'kernel': 'rbf'}\n",
      "Best rmse:  0.07730239567871947\n",
      "Training model:  41\n"
     ]
    },
    {
     "name": "stderr",
     "output_type": "stream",
     "text": [
      "100%|██████████████████████████████████████████████████████████████████████████████████| 80/80 [00:01<00:00, 64.90it/s]\n"
     ]
    },
    {
     "name": "stdout",
     "output_type": "stream",
     "text": [
      "Best params:  {'C': 1, 'epsilon': 1e-05, 'gamma': 1, 'kernel': 'rbf'}\n",
      "Best rmse:  0.07567044584589688\n",
      "Training model:  42\n"
     ]
    },
    {
     "name": "stderr",
     "output_type": "stream",
     "text": [
      "100%|██████████████████████████████████████████████████████████████████████████████████| 80/80 [00:01<00:00, 64.34it/s]\n"
     ]
    },
    {
     "name": "stdout",
     "output_type": "stream",
     "text": [
      "Best params:  {'C': 1, 'epsilon': 0.01, 'gamma': 1, 'kernel': 'rbf'}\n",
      "Best rmse:  0.06939452749205866\n",
      "Training model:  43\n"
     ]
    },
    {
     "name": "stderr",
     "output_type": "stream",
     "text": [
      "100%|██████████████████████████████████████████████████████████████████████████████████| 80/80 [00:01<00:00, 65.37it/s]\n"
     ]
    },
    {
     "name": "stdout",
     "output_type": "stream",
     "text": [
      "Best params:  {'C': 1, 'epsilon': 0.01, 'gamma': 1, 'kernel': 'rbf'}\n",
      "Best rmse:  0.07624414958506949\n",
      "Training model:  44\n"
     ]
    },
    {
     "name": "stderr",
     "output_type": "stream",
     "text": [
      "100%|██████████████████████████████████████████████████████████████████████████████████| 80/80 [00:01<00:00, 64.02it/s]\n"
     ]
    },
    {
     "name": "stdout",
     "output_type": "stream",
     "text": [
      "Best params:  {'C': 1, 'epsilon': 0.0001, 'gamma': 0.001, 'kernel': 'rbf'}\n",
      "Best rmse:  0.09533563557864339\n",
      "Training model:  45\n"
     ]
    },
    {
     "name": "stderr",
     "output_type": "stream",
     "text": [
      "100%|██████████████████████████████████████████████████████████████████████████████████| 80/80 [00:01<00:00, 64.82it/s]\n"
     ]
    },
    {
     "name": "stdout",
     "output_type": "stream",
     "text": [
      "Best params:  {'C': 10, 'epsilon': 0.1, 'gamma': 1, 'kernel': 'rbf'}\n",
      "Best rmse:  0.09419693319677921\n",
      "Training model:  46\n"
     ]
    },
    {
     "name": "stderr",
     "output_type": "stream",
     "text": [
      "100%|██████████████████████████████████████████████████████████████████████████████████| 80/80 [00:01<00:00, 64.53it/s]\n"
     ]
    },
    {
     "name": "stdout",
     "output_type": "stream",
     "text": [
      "Best params:  {'C': 1, 'epsilon': 0.01, 'gamma': 1, 'kernel': 'rbf'}\n",
      "Best rmse:  0.07413083568830628\n",
      "Training model:  47\n"
     ]
    },
    {
     "name": "stderr",
     "output_type": "stream",
     "text": [
      "100%|██████████████████████████████████████████████████████████████████████████████████| 80/80 [00:01<00:00, 64.91it/s]\n"
     ]
    },
    {
     "name": "stdout",
     "output_type": "stream",
     "text": [
      "Best params:  {'C': 1, 'epsilon': 0.01, 'gamma': 1, 'kernel': 'rbf'}\n",
      "Best rmse:  0.09558338971794086\n",
      "Training model:  48\n"
     ]
    },
    {
     "name": "stderr",
     "output_type": "stream",
     "text": [
      "100%|██████████████████████████████████████████████████████████████████████████████████| 80/80 [00:01<00:00, 64.82it/s]\n"
     ]
    },
    {
     "name": "stdout",
     "output_type": "stream",
     "text": [
      "Best params:  {'C': 1, 'epsilon': 0.1, 'gamma': 0.01, 'kernel': 'rbf'}\n",
      "Best rmse:  0.08298371768487778\n",
      "Training model:  49\n"
     ]
    },
    {
     "name": "stderr",
     "output_type": "stream",
     "text": [
      "100%|██████████████████████████████████████████████████████████████████████████████████| 80/80 [00:01<00:00, 65.84it/s]\n"
     ]
    },
    {
     "name": "stdout",
     "output_type": "stream",
     "text": [
      "Best params:  {'C': 1, 'epsilon': 0.01, 'gamma': 1, 'kernel': 'rbf'}\n",
      "Best rmse:  0.08278828692448677\n",
      "Training model:  50\n"
     ]
    },
    {
     "name": "stderr",
     "output_type": "stream",
     "text": [
      "100%|██████████████████████████████████████████████████████████████████████████████████| 80/80 [00:01<00:00, 64.73it/s]\n"
     ]
    },
    {
     "name": "stdout",
     "output_type": "stream",
     "text": [
      "Best params:  {'C': 1, 'epsilon': 0.1, 'gamma': 1, 'kernel': 'rbf'}\n",
      "Best rmse:  0.08563836958636006\n",
      "Training model:  51\n"
     ]
    },
    {
     "name": "stderr",
     "output_type": "stream",
     "text": [
      "100%|██████████████████████████████████████████████████████████████████████████████████| 80/80 [00:01<00:00, 64.91it/s]\n"
     ]
    },
    {
     "name": "stdout",
     "output_type": "stream",
     "text": [
      "Best params:  {'C': 1, 'epsilon': 0.01, 'gamma': 1, 'kernel': 'rbf'}\n",
      "Best rmse:  0.08586491826557328\n",
      "Training model:  52\n"
     ]
    },
    {
     "name": "stderr",
     "output_type": "stream",
     "text": [
      "100%|██████████████████████████████████████████████████████████████████████████████████| 80/80 [00:01<00:00, 64.64it/s]\n"
     ]
    },
    {
     "name": "stdout",
     "output_type": "stream",
     "text": [
      "Best params:  {'C': 1, 'epsilon': 0.01, 'gamma': 1, 'kernel': 'rbf'}\n",
      "Best rmse:  0.0834049224469012\n",
      "Training model:  53\n"
     ]
    },
    {
     "name": "stderr",
     "output_type": "stream",
     "text": [
      "100%|██████████████████████████████████████████████████████████████████████████████████| 80/80 [00:01<00:00, 60.52it/s]\n"
     ]
    },
    {
     "name": "stdout",
     "output_type": "stream",
     "text": [
      "Best params:  {'C': 1, 'epsilon': 0.01, 'gamma': 1, 'kernel': 'rbf'}\n",
      "Best rmse:  0.08422882870821934\n",
      "Training model:  54\n"
     ]
    },
    {
     "name": "stderr",
     "output_type": "stream",
     "text": [
      "100%|██████████████████████████████████████████████████████████████████████████████████| 80/80 [00:01<00:00, 65.18it/s]\n"
     ]
    },
    {
     "name": "stdout",
     "output_type": "stream",
     "text": [
      "Best params:  {'C': 1, 'epsilon': 0.01, 'gamma': 1, 'kernel': 'rbf'}\n",
      "Best rmse:  0.07118370690583167\n",
      "Training model:  55\n"
     ]
    },
    {
     "name": "stderr",
     "output_type": "stream",
     "text": [
      "100%|██████████████████████████████████████████████████████████████████████████████████| 80/80 [00:01<00:00, 65.24it/s]\n"
     ]
    },
    {
     "name": "stdout",
     "output_type": "stream",
     "text": [
      "Best params:  {'C': 1, 'epsilon': 0.001, 'gamma': 0.01, 'kernel': 'rbf'}\n",
      "Best rmse:  0.07526943496447351\n",
      "Training model:  56\n"
     ]
    },
    {
     "name": "stderr",
     "output_type": "stream",
     "text": [
      "100%|██████████████████████████████████████████████████████████████████████████████████| 80/80 [00:01<00:00, 65.09it/s]\n"
     ]
    },
    {
     "name": "stdout",
     "output_type": "stream",
     "text": [
      "Best params:  {'C': 1000, 'epsilon': 0.01, 'gamma': 0.01, 'kernel': 'rbf'}\n",
      "Best rmse:  0.078881805494394\n",
      "Training model:  57\n"
     ]
    },
    {
     "name": "stderr",
     "output_type": "stream",
     "text": [
      "100%|██████████████████████████████████████████████████████████████████████████████████| 80/80 [00:01<00:00, 64.64it/s]\n"
     ]
    },
    {
     "name": "stdout",
     "output_type": "stream",
     "text": [
      "Best params:  {'C': 1, 'epsilon': 0.01, 'gamma': 1, 'kernel': 'rbf'}\n",
      "Best rmse:  0.09170224927670935\n",
      "Training model:  58\n"
     ]
    },
    {
     "name": "stderr",
     "output_type": "stream",
     "text": [
      "100%|██████████████████████████████████████████████████████████████████████████████████| 80/80 [00:01<00:00, 64.06it/s]\n"
     ]
    },
    {
     "name": "stdout",
     "output_type": "stream",
     "text": [
      "Best params:  {'C': 10, 'epsilon': 0.1, 'gamma': 1, 'kernel': 'rbf'}\n",
      "Best rmse:  0.1039448298338739\n",
      "Training model:  59\n"
     ]
    },
    {
     "name": "stderr",
     "output_type": "stream",
     "text": [
      "100%|██████████████████████████████████████████████████████████████████████████████████| 80/80 [00:01<00:00, 64.28it/s]\n"
     ]
    },
    {
     "name": "stdout",
     "output_type": "stream",
     "text": [
      "Best params:  {'C': 10, 'epsilon': 0.1, 'gamma': 1, 'kernel': 'rbf'}\n",
      "Best rmse:  0.09133571793370167\n",
      "Training model:  60\n"
     ]
    },
    {
     "name": "stderr",
     "output_type": "stream",
     "text": [
      "100%|██████████████████████████████████████████████████████████████████████████████████| 80/80 [00:01<00:00, 64.91it/s]\n"
     ]
    },
    {
     "name": "stdout",
     "output_type": "stream",
     "text": [
      "Best params:  {'C': 1, 'epsilon': 0.0001, 'gamma': 1, 'kernel': 'rbf'}\n",
      "Best rmse:  0.10949097918530559\n",
      "Training model:  61\n"
     ]
    },
    {
     "name": "stderr",
     "output_type": "stream",
     "text": [
      "100%|██████████████████████████████████████████████████████████████████████████████████| 80/80 [00:01<00:00, 64.91it/s]\n"
     ]
    },
    {
     "name": "stdout",
     "output_type": "stream",
     "text": [
      "Best params:  {'C': 1, 'epsilon': 0.001, 'gamma': 0.01, 'kernel': 'rbf'}\n",
      "Best rmse:  0.0826060171671364\n",
      "Training model:  62\n"
     ]
    },
    {
     "name": "stderr",
     "output_type": "stream",
     "text": [
      "100%|██████████████████████████████████████████████████████████████████████████████████| 80/80 [00:01<00:00, 64.82it/s]\n"
     ]
    },
    {
     "name": "stdout",
     "output_type": "stream",
     "text": [
      "Best params:  {'C': 10, 'epsilon': 0.1, 'gamma': 1, 'kernel': 'rbf'}\n",
      "Best rmse:  0.10485849208684991\n",
      "Training model:  63\n"
     ]
    },
    {
     "name": "stderr",
     "output_type": "stream",
     "text": [
      "100%|██████████████████████████████████████████████████████████████████████████████████| 80/80 [00:01<00:00, 65.27it/s]\n"
     ]
    },
    {
     "name": "stdout",
     "output_type": "stream",
     "text": [
      "Best params:  {'C': 1, 'epsilon': 0.001, 'gamma': 1, 'kernel': 'rbf'}\n",
      "Best rmse:  0.07292153013792801\n",
      "Training model:  64\n"
     ]
    },
    {
     "name": "stderr",
     "output_type": "stream",
     "text": [
      "100%|██████████████████████████████████████████████████████████████████████████████████| 80/80 [00:01<00:00, 65.27it/s]\n"
     ]
    },
    {
     "name": "stdout",
     "output_type": "stream",
     "text": [
      "Best params:  {'C': 10, 'epsilon': 0.01, 'gamma': 0.1, 'kernel': 'rbf'}\n",
      "Best rmse:  0.07433745175296239\n",
      "Training model:  65\n"
     ]
    },
    {
     "name": "stderr",
     "output_type": "stream",
     "text": [
      "100%|██████████████████████████████████████████████████████████████████████████████████| 80/80 [00:01<00:00, 64.82it/s]\n"
     ]
    },
    {
     "name": "stdout",
     "output_type": "stream",
     "text": [
      "Best params:  {'C': 1, 'epsilon': 0.0001, 'gamma': 1, 'kernel': 'rbf'}\n",
      "Best rmse:  0.09898658212411647\n",
      "Training model:  66\n"
     ]
    },
    {
     "name": "stderr",
     "output_type": "stream",
     "text": [
      "100%|██████████████████████████████████████████████████████████████████████████████████| 80/80 [00:01<00:00, 65.09it/s]\n"
     ]
    },
    {
     "name": "stdout",
     "output_type": "stream",
     "text": [
      "Best params:  {'C': 1, 'epsilon': 0.01, 'gamma': 1, 'kernel': 'rbf'}\n",
      "Best rmse:  0.09588786729922406\n",
      "Training model:  67\n"
     ]
    },
    {
     "name": "stderr",
     "output_type": "stream",
     "text": [
      "100%|██████████████████████████████████████████████████████████████████████████████████| 80/80 [00:01<00:00, 65.55it/s]\n"
     ]
    },
    {
     "name": "stdout",
     "output_type": "stream",
     "text": [
      "Best params:  {'C': 1, 'epsilon': 0.01, 'gamma': 1, 'kernel': 'rbf'}\n",
      "Best rmse:  0.06647354803940698\n",
      "Training model:  68\n"
     ]
    },
    {
     "name": "stderr",
     "output_type": "stream",
     "text": [
      "100%|██████████████████████████████████████████████████████████████████████████████████| 80/80 [00:01<00:00, 64.28it/s]\n"
     ]
    },
    {
     "name": "stdout",
     "output_type": "stream",
     "text": [
      "Best params:  {'C': 1, 'epsilon': 0.1, 'gamma': 0.001, 'kernel': 'rbf'}\n",
      "Best rmse:  0.06972227635693373\n",
      "Training model:  69\n"
     ]
    },
    {
     "name": "stderr",
     "output_type": "stream",
     "text": [
      "100%|██████████████████████████████████████████████████████████████████████████████████| 80/80 [00:01<00:00, 65.19it/s]\n"
     ]
    },
    {
     "name": "stdout",
     "output_type": "stream",
     "text": [
      "Best params:  {'C': 1, 'epsilon': 0.001, 'gamma': 1, 'kernel': 'rbf'}\n",
      "Best rmse:  0.0793917396709372\n",
      "Training model:  70\n"
     ]
    },
    {
     "name": "stderr",
     "output_type": "stream",
     "text": [
      "100%|██████████████████████████████████████████████████████████████████████████████████| 80/80 [00:01<00:00, 65.00it/s]\n"
     ]
    },
    {
     "name": "stdout",
     "output_type": "stream",
     "text": [
      "Best params:  {'C': 1, 'epsilon': 0.01, 'gamma': 1, 'kernel': 'rbf'}\n",
      "Best rmse:  0.09695789920466273\n",
      "Training model:  71\n"
     ]
    },
    {
     "name": "stderr",
     "output_type": "stream",
     "text": [
      "100%|██████████████████████████████████████████████████████████████████████████████████| 80/80 [00:01<00:00, 64.59it/s]\n"
     ]
    },
    {
     "name": "stdout",
     "output_type": "stream",
     "text": [
      "Best params:  {'C': 1, 'epsilon': 0.01, 'gamma': 1, 'kernel': 'rbf'}\n",
      "Best rmse:  0.08295838882465748\n",
      "Training model:  72\n"
     ]
    },
    {
     "name": "stderr",
     "output_type": "stream",
     "text": [
      "100%|██████████████████████████████████████████████████████████████████████████████████| 80/80 [00:01<00:00, 64.37it/s]\n"
     ]
    },
    {
     "name": "stdout",
     "output_type": "stream",
     "text": [
      "Best params:  {'C': 1, 'epsilon': 0.01, 'gamma': 1, 'kernel': 'rbf'}\n",
      "Best rmse:  0.08101447960404547\n",
      "Training model:  73\n"
     ]
    },
    {
     "name": "stderr",
     "output_type": "stream",
     "text": [
      "100%|██████████████████████████████████████████████████████████████████████████████████| 80/80 [00:01<00:00, 64.20it/s]\n"
     ]
    },
    {
     "name": "stdout",
     "output_type": "stream",
     "text": [
      "Best params:  {'C': 10, 'epsilon': 0.1, 'gamma': 1, 'kernel': 'rbf'}\n",
      "Best rmse:  0.08950560766996055\n",
      "Training model:  74\n"
     ]
    },
    {
     "name": "stderr",
     "output_type": "stream",
     "text": [
      "100%|██████████████████████████████████████████████████████████████████████████████████| 80/80 [00:01<00:00, 65.71it/s]\n"
     ]
    },
    {
     "name": "stdout",
     "output_type": "stream",
     "text": [
      "Best params:  {'C': 1, 'epsilon': 1e-05, 'gamma': 0.01, 'kernel': 'rbf'}\n",
      "Best rmse:  0.10567652433746773\n",
      "Training model:  75\n"
     ]
    },
    {
     "name": "stderr",
     "output_type": "stream",
     "text": [
      "100%|██████████████████████████████████████████████████████████████████████████████████| 80/80 [00:01<00:00, 66.26it/s]\n"
     ]
    },
    {
     "name": "stdout",
     "output_type": "stream",
     "text": [
      "Best params:  {'C': 10, 'epsilon': 0.0001, 'gamma': 0.001, 'kernel': 'rbf'}\n",
      "Best rmse:  0.08027345262238361\n",
      "Training model:  76\n"
     ]
    },
    {
     "name": "stderr",
     "output_type": "stream",
     "text": [
      "100%|██████████████████████████████████████████████████████████████████████████████████| 80/80 [00:01<00:00, 64.28it/s]\n"
     ]
    },
    {
     "name": "stdout",
     "output_type": "stream",
     "text": [
      "Best params:  {'C': 1, 'epsilon': 0.1, 'gamma': 1, 'kernel': 'rbf'}\n",
      "Best rmse:  0.08091570939493531\n",
      "Training model:  77\n"
     ]
    },
    {
     "name": "stderr",
     "output_type": "stream",
     "text": [
      "100%|██████████████████████████████████████████████████████████████████████████████████| 80/80 [00:01<00:00, 64.91it/s]\n"
     ]
    },
    {
     "name": "stdout",
     "output_type": "stream",
     "text": [
      "Best params:  {'C': 10, 'epsilon': 0.01, 'gamma': 1, 'kernel': 'rbf'}\n",
      "Best rmse:  0.07576528143926832\n",
      "Training model:  78\n"
     ]
    },
    {
     "name": "stderr",
     "output_type": "stream",
     "text": [
      "100%|██████████████████████████████████████████████████████████████████████████████████| 80/80 [00:01<00:00, 65.28it/s]\n"
     ]
    },
    {
     "name": "stdout",
     "output_type": "stream",
     "text": [
      "Best params:  {'C': 1, 'epsilon': 0.01, 'gamma': 1, 'kernel': 'rbf'}\n",
      "Best rmse:  0.07183557508111435\n",
      "Training model:  79\n"
     ]
    },
    {
     "name": "stderr",
     "output_type": "stream",
     "text": [
      "100%|██████████████████████████████████████████████████████████████████████████████████| 80/80 [00:01<00:00, 64.54it/s]\n"
     ]
    },
    {
     "name": "stdout",
     "output_type": "stream",
     "text": [
      "Best params:  {'C': 1, 'epsilon': 0.01, 'gamma': 1, 'kernel': 'rbf'}\n",
      "Best rmse:  0.07756943073961273\n",
      "Training model:  80\n"
     ]
    },
    {
     "name": "stderr",
     "output_type": "stream",
     "text": [
      "100%|██████████████████████████████████████████████████████████████████████████████████| 80/80 [00:01<00:00, 65.37it/s]\n"
     ]
    },
    {
     "name": "stdout",
     "output_type": "stream",
     "text": [
      "Best params:  {'C': 1, 'epsilon': 1e-05, 'gamma': 0.01, 'kernel': 'rbf'}\n",
      "Best rmse:  0.08692920334325525\n",
      "Training model:  81\n"
     ]
    },
    {
     "name": "stderr",
     "output_type": "stream",
     "text": [
      "100%|██████████████████████████████████████████████████████████████████████████████████| 80/80 [00:01<00:00, 64.63it/s]\n"
     ]
    },
    {
     "name": "stdout",
     "output_type": "stream",
     "text": [
      "Best params:  {'C': 1, 'epsilon': 0.01, 'gamma': 1, 'kernel': 'rbf'}\n",
      "Best rmse:  0.08747525981565835\n",
      "Training model:  82\n"
     ]
    },
    {
     "name": "stderr",
     "output_type": "stream",
     "text": [
      "100%|██████████████████████████████████████████████████████████████████████████████████| 80/80 [00:01<00:00, 64.37it/s]\n"
     ]
    },
    {
     "name": "stdout",
     "output_type": "stream",
     "text": [
      "Best params:  {'C': 1, 'epsilon': 0.01, 'gamma': 1, 'kernel': 'rbf'}\n",
      "Best rmse:  0.08039712110358214\n",
      "Training model:  83\n"
     ]
    },
    {
     "name": "stderr",
     "output_type": "stream",
     "text": [
      "100%|██████████████████████████████████████████████████████████████████████████████████| 80/80 [00:01<00:00, 65.65it/s]\n"
     ]
    },
    {
     "name": "stdout",
     "output_type": "stream",
     "text": [
      "Best params:  {'C': 1, 'epsilon': 1e-05, 'gamma': 0.01, 'kernel': 'rbf'}\n",
      "Best rmse:  0.09455691772833859\n",
      "Training model:  84\n"
     ]
    },
    {
     "name": "stderr",
     "output_type": "stream",
     "text": [
      "100%|██████████████████████████████████████████████████████████████████████████████████| 80/80 [00:01<00:00, 64.46it/s]\n"
     ]
    },
    {
     "name": "stdout",
     "output_type": "stream",
     "text": [
      "Best params:  {'C': 1, 'epsilon': 0.01, 'gamma': 1, 'kernel': 'rbf'}\n",
      "Best rmse:  0.06949002327927278\n",
      "Training model:  85\n"
     ]
    },
    {
     "name": "stderr",
     "output_type": "stream",
     "text": [
      "100%|██████████████████████████████████████████████████████████████████████████████████| 80/80 [00:01<00:00, 64.41it/s]\n"
     ]
    },
    {
     "name": "stdout",
     "output_type": "stream",
     "text": [
      "Best params:  {'C': 1, 'epsilon': 0.01, 'gamma': 1, 'kernel': 'rbf'}\n",
      "Best rmse:  0.06987059245658901\n",
      "Training model:  86\n"
     ]
    },
    {
     "name": "stderr",
     "output_type": "stream",
     "text": [
      "100%|██████████████████████████████████████████████████████████████████████████████████| 80/80 [00:01<00:00, 63.77it/s]\n"
     ]
    },
    {
     "name": "stdout",
     "output_type": "stream",
     "text": [
      "Best params:  {'C': 1, 'epsilon': 0.01, 'gamma': 1, 'kernel': 'rbf'}\n",
      "Best rmse:  0.08160486115196593\n",
      "Training model:  87\n"
     ]
    },
    {
     "name": "stderr",
     "output_type": "stream",
     "text": [
      "100%|██████████████████████████████████████████████████████████████████████████████████| 80/80 [00:01<00:00, 65.47it/s]\n"
     ]
    },
    {
     "name": "stdout",
     "output_type": "stream",
     "text": [
      "Best params:  {'C': 1, 'epsilon': 0.01, 'gamma': 1, 'kernel': 'rbf'}\n",
      "Best rmse:  0.0786543474544255\n",
      "Training model:  88\n"
     ]
    },
    {
     "name": "stderr",
     "output_type": "stream",
     "text": [
      "100%|██████████████████████████████████████████████████████████████████████████████████| 80/80 [00:01<00:00, 65.00it/s]\n"
     ]
    },
    {
     "name": "stdout",
     "output_type": "stream",
     "text": [
      "Best params:  {'C': 1, 'epsilon': 0.001, 'gamma': 1, 'kernel': 'rbf'}\n",
      "Best rmse:  0.06786135988731543\n",
      "Training model:  89\n"
     ]
    },
    {
     "name": "stderr",
     "output_type": "stream",
     "text": [
      "100%|██████████████████████████████████████████████████████████████████████████████████| 80/80 [00:01<00:00, 65.00it/s]\n"
     ]
    },
    {
     "name": "stdout",
     "output_type": "stream",
     "text": [
      "Best params:  {'C': 10, 'epsilon': 0.1, 'gamma': 1, 'kernel': 'rbf'}\n",
      "Best rmse:  0.07885784318120656\n",
      "Training model:  90\n"
     ]
    },
    {
     "name": "stderr",
     "output_type": "stream",
     "text": [
      "100%|██████████████████████████████████████████████████████████████████████████████████| 80/80 [00:01<00:00, 65.56it/s]\n"
     ]
    },
    {
     "name": "stdout",
     "output_type": "stream",
     "text": [
      "Best params:  {'C': 1, 'epsilon': 0.01, 'gamma': 1, 'kernel': 'rbf'}\n",
      "Best rmse:  0.07834938161454785\n",
      "Training model:  91\n"
     ]
    },
    {
     "name": "stderr",
     "output_type": "stream",
     "text": [
      "100%|██████████████████████████████████████████████████████████████████████████████████| 80/80 [00:01<00:00, 65.19it/s]\n"
     ]
    },
    {
     "name": "stdout",
     "output_type": "stream",
     "text": [
      "Best params:  {'C': 1, 'epsilon': 0.0001, 'gamma': 0.001, 'kernel': 'rbf'}\n",
      "Best rmse:  0.07679159961235414\n",
      "Training model:  92\n"
     ]
    },
    {
     "name": "stderr",
     "output_type": "stream",
     "text": [
      "100%|██████████████████████████████████████████████████████████████████████████████████| 80/80 [00:01<00:00, 64.28it/s]\n"
     ]
    },
    {
     "name": "stdout",
     "output_type": "stream",
     "text": [
      "Best params:  {'C': 1, 'epsilon': 0.01, 'gamma': 1, 'kernel': 'rbf'}\n",
      "Best rmse:  0.09930822248018407\n",
      "Training model:  93\n"
     ]
    },
    {
     "name": "stderr",
     "output_type": "stream",
     "text": [
      "100%|██████████████████████████████████████████████████████████████████████████████████| 80/80 [00:01<00:00, 64.91it/s]\n"
     ]
    },
    {
     "name": "stdout",
     "output_type": "stream",
     "text": [
      "Best params:  {'C': 1, 'epsilon': 0.1, 'gamma': 0.1, 'kernel': 'rbf'}\n",
      "Best rmse:  0.07388597346227183\n",
      "Training model:  94\n"
     ]
    },
    {
     "name": "stderr",
     "output_type": "stream",
     "text": [
      "100%|██████████████████████████████████████████████████████████████████████████████████| 80/80 [00:01<00:00, 65.59it/s]\n"
     ]
    },
    {
     "name": "stdout",
     "output_type": "stream",
     "text": [
      "Best params:  {'C': 1, 'epsilon': 0.01, 'gamma': 0.1, 'kernel': 'rbf'}\n",
      "Best rmse:  0.09697702385216257\n",
      "Training model:  95\n"
     ]
    },
    {
     "name": "stderr",
     "output_type": "stream",
     "text": [
      "100%|██████████████████████████████████████████████████████████████████████████████████| 80/80 [00:01<00:00, 64.92it/s]\n"
     ]
    },
    {
     "name": "stdout",
     "output_type": "stream",
     "text": [
      "Best params:  {'C': 1, 'epsilon': 0.01, 'gamma': 0.1, 'kernel': 'rbf'}\n",
      "Best rmse:  0.09603312304459731\n",
      "Training model:  96\n"
     ]
    },
    {
     "name": "stderr",
     "output_type": "stream",
     "text": [
      "100%|██████████████████████████████████████████████████████████████████████████████████| 80/80 [00:01<00:00, 65.37it/s]\n"
     ]
    },
    {
     "name": "stdout",
     "output_type": "stream",
     "text": [
      "Best params:  {'C': 1, 'epsilon': 0.01, 'gamma': 1, 'kernel': 'rbf'}\n",
      "Best rmse:  0.08685658610859961\n",
      "Training model:  97\n"
     ]
    },
    {
     "name": "stderr",
     "output_type": "stream",
     "text": [
      "100%|██████████████████████████████████████████████████████████████████████████████████| 80/80 [00:01<00:00, 64.99it/s]\n"
     ]
    },
    {
     "name": "stdout",
     "output_type": "stream",
     "text": [
      "Best params:  {'C': 1, 'epsilon': 0.1, 'gamma': 1, 'kernel': 'rbf'}\n",
      "Best rmse:  0.09093439912133612\n",
      "Training model:  98\n"
     ]
    },
    {
     "name": "stderr",
     "output_type": "stream",
     "text": [
      "100%|██████████████████████████████████████████████████████████████████████████████████| 80/80 [00:01<00:00, 64.28it/s]\n"
     ]
    },
    {
     "name": "stdout",
     "output_type": "stream",
     "text": [
      "Best params:  {'C': 1, 'epsilon': 0.01, 'gamma': 1, 'kernel': 'rbf'}\n",
      "Best rmse:  0.07671705443760767\n",
      "Training model:  99\n"
     ]
    },
    {
     "name": "stderr",
     "output_type": "stream",
     "text": [
      "100%|██████████████████████████████████████████████████████████████████████████████████| 80/80 [00:01<00:00, 65.08it/s]\n"
     ]
    },
    {
     "name": "stdout",
     "output_type": "stream",
     "text": [
      "Best params:  {'C': 1, 'epsilon': 0.01, 'gamma': 0.001, 'kernel': 'rbf'}\n",
      "Best rmse:  0.09095091117445933\n"
     ]
    },
    {
     "name": "stderr",
     "output_type": "stream",
     "text": [
      "100%|████████████████████████████████████████████████████████████████████████████████| 800/800 [04:25<00:00,  3.02it/s]\n"
     ]
    },
    {
     "name": "stdout",
     "output_type": "stream",
     "text": [
      "Best params:  {'comb': 'median', 'k': 8, 'n': 6}\n",
      "Best rmse:  2.392250522502321\n",
      "Time Series:  msft\n",
      "\n",
      "###############################################\n",
      "\n",
      "Executing: ENSEMBLE SVR\n",
      "d:  1\n",
      "Training model:  0\n"
     ]
    },
    {
     "name": "stderr",
     "output_type": "stream",
     "text": [
      "100%|██████████████████████████████████████████████████████████████████████████████████| 80/80 [00:01<00:00, 63.55it/s]\n"
     ]
    },
    {
     "name": "stdout",
     "output_type": "stream",
     "text": [
      "Best params:  {'C': 1, 'epsilon': 0.01, 'gamma': 1, 'kernel': 'rbf'}\n",
      "Best rmse:  0.13167774401817076\n",
      "Training model:  1\n"
     ]
    },
    {
     "name": "stderr",
     "output_type": "stream",
     "text": [
      "100%|██████████████████████████████████████████████████████████████████████████████████| 80/80 [00:01<00:00, 65.28it/s]\n"
     ]
    },
    {
     "name": "stdout",
     "output_type": "stream",
     "text": [
      "Best params:  {'C': 1, 'epsilon': 0.01, 'gamma': 1, 'kernel': 'rbf'}\n",
      "Best rmse:  0.11852804773999634\n",
      "Training model:  2\n"
     ]
    },
    {
     "name": "stderr",
     "output_type": "stream",
     "text": [
      "100%|██████████████████████████████████████████████████████████████████████████████████| 80/80 [00:01<00:00, 65.63it/s]\n"
     ]
    },
    {
     "name": "stdout",
     "output_type": "stream",
     "text": [
      "Best params:  {'C': 1, 'epsilon': 0.001, 'gamma': 1, 'kernel': 'rbf'}\n",
      "Best rmse:  0.146171317301267\n",
      "Training model:  3\n"
     ]
    },
    {
     "name": "stderr",
     "output_type": "stream",
     "text": [
      "100%|██████████████████████████████████████████████████████████████████████████████████| 80/80 [00:01<00:00, 65.84it/s]\n"
     ]
    },
    {
     "name": "stdout",
     "output_type": "stream",
     "text": [
      "Best params:  {'C': 10, 'epsilon': 0.1, 'gamma': 1, 'kernel': 'rbf'}\n",
      "Best rmse:  0.14848549218086582\n",
      "Training model:  4\n"
     ]
    },
    {
     "name": "stderr",
     "output_type": "stream",
     "text": [
      "100%|██████████████████████████████████████████████████████████████████████████████████| 80/80 [00:01<00:00, 65.73it/s]\n"
     ]
    },
    {
     "name": "stdout",
     "output_type": "stream",
     "text": [
      "Best params:  {'C': 1, 'epsilon': 0.1, 'gamma': 1, 'kernel': 'rbf'}\n",
      "Best rmse:  0.1464235483068615\n",
      "Training model:  5\n"
     ]
    },
    {
     "name": "stderr",
     "output_type": "stream",
     "text": [
      "100%|██████████████████████████████████████████████████████████████████████████████████| 80/80 [00:01<00:00, 65.84it/s]\n"
     ]
    },
    {
     "name": "stdout",
     "output_type": "stream",
     "text": [
      "Best params:  {'C': 1, 'epsilon': 0.01, 'gamma': 1, 'kernel': 'rbf'}\n",
      "Best rmse:  0.13507425845479495\n",
      "Training model:  6\n"
     ]
    },
    {
     "name": "stderr",
     "output_type": "stream",
     "text": [
      "100%|██████████████████████████████████████████████████████████████████████████████████| 80/80 [00:01<00:00, 64.82it/s]\n"
     ]
    },
    {
     "name": "stdout",
     "output_type": "stream",
     "text": [
      "Best params:  {'C': 1, 'epsilon': 0.01, 'gamma': 1, 'kernel': 'rbf'}\n",
      "Best rmse:  0.14291151355904436\n",
      "Training model:  7\n"
     ]
    },
    {
     "name": "stderr",
     "output_type": "stream",
     "text": [
      "100%|██████████████████████████████████████████████████████████████████████████████████| 80/80 [00:01<00:00, 66.19it/s]\n"
     ]
    },
    {
     "name": "stdout",
     "output_type": "stream",
     "text": [
      "Best params:  {'C': 1, 'epsilon': 0.01, 'gamma': 1, 'kernel': 'rbf'}\n",
      "Best rmse:  0.1477552792460994\n",
      "Training model:  8\n"
     ]
    },
    {
     "name": "stderr",
     "output_type": "stream",
     "text": [
      "100%|██████████████████████████████████████████████████████████████████████████████████| 80/80 [00:01<00:00, 65.46it/s]\n"
     ]
    },
    {
     "name": "stdout",
     "output_type": "stream",
     "text": [
      "Best params:  {'C': 1, 'epsilon': 0.01, 'gamma': 1, 'kernel': 'rbf'}\n",
      "Best rmse:  0.1565961142344253\n",
      "Training model:  9\n"
     ]
    },
    {
     "name": "stderr",
     "output_type": "stream",
     "text": [
      "100%|██████████████████████████████████████████████████████████████████████████████████| 80/80 [00:01<00:00, 64.91it/s]\n"
     ]
    },
    {
     "name": "stdout",
     "output_type": "stream",
     "text": [
      "Best params:  {'C': 1, 'epsilon': 0.01, 'gamma': 1, 'kernel': 'rbf'}\n",
      "Best rmse:  0.13048270192683134\n",
      "Training model:  10\n"
     ]
    },
    {
     "name": "stderr",
     "output_type": "stream",
     "text": [
      "100%|██████████████████████████████████████████████████████████████████████████████████| 80/80 [00:01<00:00, 65.65it/s]\n"
     ]
    },
    {
     "name": "stdout",
     "output_type": "stream",
     "text": [
      "Best params:  {'C': 1, 'epsilon': 0.01, 'gamma': 1, 'kernel': 'rbf'}\n",
      "Best rmse:  0.1416075540053719\n",
      "Training model:  11\n"
     ]
    },
    {
     "name": "stderr",
     "output_type": "stream",
     "text": [
      "100%|██████████████████████████████████████████████████████████████████████████████████| 80/80 [00:01<00:00, 65.28it/s]\n"
     ]
    },
    {
     "name": "stdout",
     "output_type": "stream",
     "text": [
      "Best params:  {'C': 10, 'epsilon': 0.01, 'gamma': 1, 'kernel': 'rbf'}\n",
      "Best rmse:  0.12494533555620407\n",
      "Training model:  12\n"
     ]
    },
    {
     "name": "stderr",
     "output_type": "stream",
     "text": [
      "100%|██████████████████████████████████████████████████████████████████████████████████| 80/80 [00:01<00:00, 61.10it/s]\n"
     ]
    },
    {
     "name": "stdout",
     "output_type": "stream",
     "text": [
      "Best params:  {'C': 1, 'epsilon': 0.01, 'gamma': 1, 'kernel': 'rbf'}\n",
      "Best rmse:  0.1390949485949415\n",
      "Training model:  13\n"
     ]
    },
    {
     "name": "stderr",
     "output_type": "stream",
     "text": [
      "100%|██████████████████████████████████████████████████████████████████████████████████| 80/80 [00:01<00:00, 64.80it/s]\n"
     ]
    },
    {
     "name": "stdout",
     "output_type": "stream",
     "text": [
      "Best params:  {'C': 1, 'epsilon': 0.1, 'gamma': 1, 'kernel': 'rbf'}\n",
      "Best rmse:  0.16214908219007246\n",
      "Training model:  14\n"
     ]
    },
    {
     "name": "stderr",
     "output_type": "stream",
     "text": [
      "100%|██████████████████████████████████████████████████████████████████████████████████| 80/80 [00:01<00:00, 65.00it/s]\n"
     ]
    },
    {
     "name": "stdout",
     "output_type": "stream",
     "text": [
      "Best params:  {'C': 1, 'epsilon': 0.01, 'gamma': 1, 'kernel': 'rbf'}\n",
      "Best rmse:  0.13615397003897062\n",
      "Training model:  15\n"
     ]
    },
    {
     "name": "stderr",
     "output_type": "stream",
     "text": [
      "100%|██████████████████████████████████████████████████████████████████████████████████| 80/80 [00:01<00:00, 65.93it/s]\n"
     ]
    },
    {
     "name": "stdout",
     "output_type": "stream",
     "text": [
      "Best params:  {'C': 1, 'epsilon': 0.01, 'gamma': 1, 'kernel': 'rbf'}\n",
      "Best rmse:  0.13504121805650993\n",
      "Training model:  16\n"
     ]
    },
    {
     "name": "stderr",
     "output_type": "stream",
     "text": [
      "100%|██████████████████████████████████████████████████████████████████████████████████| 80/80 [00:01<00:00, 65.37it/s]\n"
     ]
    },
    {
     "name": "stdout",
     "output_type": "stream",
     "text": [
      "Best params:  {'C': 10, 'epsilon': 1e-05, 'gamma': 0.1, 'kernel': 'rbf'}\n",
      "Best rmse:  0.14802895755202525\n",
      "Training model:  17\n"
     ]
    },
    {
     "name": "stderr",
     "output_type": "stream",
     "text": [
      "100%|██████████████████████████████████████████████████████████████████████████████████| 80/80 [00:01<00:00, 65.70it/s]\n"
     ]
    },
    {
     "name": "stdout",
     "output_type": "stream",
     "text": [
      "Best params:  {'C': 1, 'epsilon': 0.1, 'gamma': 1, 'kernel': 'rbf'}\n",
      "Best rmse:  0.1422504889296901\n",
      "Training model:  18\n"
     ]
    },
    {
     "name": "stderr",
     "output_type": "stream",
     "text": [
      "100%|██████████████████████████████████████████████████████████████████████████████████| 80/80 [00:01<00:00, 65.84it/s]\n"
     ]
    },
    {
     "name": "stdout",
     "output_type": "stream",
     "text": [
      "Best params:  {'C': 1, 'epsilon': 0.01, 'gamma': 1, 'kernel': 'rbf'}\n",
      "Best rmse:  0.15519925115200925\n",
      "Training model:  19\n"
     ]
    },
    {
     "name": "stderr",
     "output_type": "stream",
     "text": [
      "100%|██████████████████████████████████████████████████████████████████████████████████| 80/80 [00:01<00:00, 65.28it/s]\n"
     ]
    },
    {
     "name": "stdout",
     "output_type": "stream",
     "text": [
      "Best params:  {'C': 1, 'epsilon': 0.01, 'gamma': 1, 'kernel': 'rbf'}\n",
      "Best rmse:  0.138415743811054\n",
      "Training model:  20\n"
     ]
    },
    {
     "name": "stderr",
     "output_type": "stream",
     "text": [
      "100%|██████████████████████████████████████████████████████████████████████████████████| 80/80 [00:01<00:00, 65.64it/s]\n"
     ]
    },
    {
     "name": "stdout",
     "output_type": "stream",
     "text": [
      "Best params:  {'C': 1, 'epsilon': 0.1, 'gamma': 1, 'kernel': 'rbf'}\n",
      "Best rmse:  0.13385359505975003\n",
      "Training model:  21\n"
     ]
    },
    {
     "name": "stderr",
     "output_type": "stream",
     "text": [
      "100%|██████████████████████████████████████████████████████████████████████████████████| 80/80 [00:01<00:00, 65.37it/s]\n"
     ]
    },
    {
     "name": "stdout",
     "output_type": "stream",
     "text": [
      "Best params:  {'C': 1, 'epsilon': 0.01, 'gamma': 1, 'kernel': 'rbf'}\n",
      "Best rmse:  0.1369611471274645\n",
      "Training model:  22\n"
     ]
    },
    {
     "name": "stderr",
     "output_type": "stream",
     "text": [
      "100%|██████████████████████████████████████████████████████████████████████████████████| 80/80 [00:01<00:00, 64.01it/s]\n"
     ]
    },
    {
     "name": "stdout",
     "output_type": "stream",
     "text": [
      "Best params:  {'C': 1, 'epsilon': 1e-05, 'gamma': 1, 'kernel': 'rbf'}\n",
      "Best rmse:  0.11962614486612977\n",
      "Training model:  23\n"
     ]
    },
    {
     "name": "stderr",
     "output_type": "stream",
     "text": [
      "100%|██████████████████████████████████████████████████████████████████████████████████| 80/80 [00:01<00:00, 63.56it/s]\n"
     ]
    },
    {
     "name": "stdout",
     "output_type": "stream",
     "text": [
      "Best params:  {'C': 1, 'epsilon': 0.01, 'gamma': 1, 'kernel': 'rbf'}\n",
      "Best rmse:  0.14417945127608017\n",
      "Training model:  24\n"
     ]
    },
    {
     "name": "stderr",
     "output_type": "stream",
     "text": [
      "100%|██████████████████████████████████████████████████████████████████████████████████| 80/80 [00:01<00:00, 65.32it/s]\n"
     ]
    },
    {
     "name": "stdout",
     "output_type": "stream",
     "text": [
      "Best params:  {'C': 1, 'epsilon': 0.01, 'gamma': 1, 'kernel': 'rbf'}\n",
      "Best rmse:  0.15382393856986706\n",
      "Training model:  25\n"
     ]
    },
    {
     "name": "stderr",
     "output_type": "stream",
     "text": [
      "100%|██████████████████████████████████████████████████████████████████████████████████| 80/80 [00:01<00:00, 64.87it/s]\n"
     ]
    },
    {
     "name": "stdout",
     "output_type": "stream",
     "text": [
      "Best params:  {'C': 1, 'epsilon': 0.01, 'gamma': 1, 'kernel': 'rbf'}\n",
      "Best rmse:  0.1243249279977461\n",
      "Training model:  26\n"
     ]
    },
    {
     "name": "stderr",
     "output_type": "stream",
     "text": [
      "100%|██████████████████████████████████████████████████████████████████████████████████| 80/80 [00:01<00:00, 66.03it/s]\n"
     ]
    },
    {
     "name": "stdout",
     "output_type": "stream",
     "text": [
      "Best params:  {'C': 1, 'epsilon': 0.01, 'gamma': 1, 'kernel': 'rbf'}\n",
      "Best rmse:  0.15124912837038174\n",
      "Training model:  27\n"
     ]
    },
    {
     "name": "stderr",
     "output_type": "stream",
     "text": [
      "100%|██████████████████████████████████████████████████████████████████████████████████| 80/80 [00:01<00:00, 66.22it/s]\n"
     ]
    },
    {
     "name": "stdout",
     "output_type": "stream",
     "text": [
      "Best params:  {'C': 1, 'epsilon': 1e-05, 'gamma': 1, 'kernel': 'rbf'}\n",
      "Best rmse:  0.12119371620992904\n",
      "Training model:  28\n"
     ]
    },
    {
     "name": "stderr",
     "output_type": "stream",
     "text": [
      "100%|██████████████████████████████████████████████████████████████████████████████████| 80/80 [00:01<00:00, 65.64it/s]\n"
     ]
    },
    {
     "name": "stdout",
     "output_type": "stream",
     "text": [
      "Best params:  {'C': 1, 'epsilon': 0.01, 'gamma': 1, 'kernel': 'rbf'}\n",
      "Best rmse:  0.14423550948232938\n",
      "Training model:  29\n"
     ]
    },
    {
     "name": "stderr",
     "output_type": "stream",
     "text": [
      "100%|██████████████████████████████████████████████████████████████████████████████████| 80/80 [00:01<00:00, 65.34it/s]\n"
     ]
    },
    {
     "name": "stdout",
     "output_type": "stream",
     "text": [
      "Best params:  {'C': 1, 'epsilon': 0.01, 'gamma': 1, 'kernel': 'rbf'}\n",
      "Best rmse:  0.12078123427067787\n",
      "Training model:  30\n"
     ]
    },
    {
     "name": "stderr",
     "output_type": "stream",
     "text": [
      "100%|██████████████████████████████████████████████████████████████████████████████████| 80/80 [00:01<00:00, 64.37it/s]\n"
     ]
    },
    {
     "name": "stdout",
     "output_type": "stream",
     "text": [
      "Best params:  {'C': 1, 'epsilon': 0.1, 'gamma': 1, 'kernel': 'rbf'}\n",
      "Best rmse:  0.13931340356810867\n",
      "Training model:  31\n"
     ]
    },
    {
     "name": "stderr",
     "output_type": "stream",
     "text": [
      "100%|██████████████████████████████████████████████████████████████████████████████████| 80/80 [00:01<00:00, 66.31it/s]\n"
     ]
    },
    {
     "name": "stdout",
     "output_type": "stream",
     "text": [
      "Best params:  {'C': 1, 'epsilon': 0.01, 'gamma': 1, 'kernel': 'rbf'}\n",
      "Best rmse:  0.13543656033636733\n",
      "Training model:  32\n"
     ]
    },
    {
     "name": "stderr",
     "output_type": "stream",
     "text": [
      "100%|██████████████████████████████████████████████████████████████████████████████████| 80/80 [00:01<00:00, 65.94it/s]\n"
     ]
    },
    {
     "name": "stdout",
     "output_type": "stream",
     "text": [
      "Best params:  {'C': 1, 'epsilon': 0.001, 'gamma': 1, 'kernel': 'rbf'}\n",
      "Best rmse:  0.15607591302393295\n",
      "Training model:  33\n"
     ]
    },
    {
     "name": "stderr",
     "output_type": "stream",
     "text": [
      "100%|██████████████████████████████████████████████████████████████████████████████████| 80/80 [00:01<00:00, 64.83it/s]\n"
     ]
    },
    {
     "name": "stdout",
     "output_type": "stream",
     "text": [
      "Best params:  {'C': 1, 'epsilon': 0.1, 'gamma': 1, 'kernel': 'rbf'}\n",
      "Best rmse:  0.14185553293301778\n",
      "Training model:  34\n"
     ]
    },
    {
     "name": "stderr",
     "output_type": "stream",
     "text": [
      "100%|██████████████████████████████████████████████████████████████████████████████████| 80/80 [00:01<00:00, 65.01it/s]\n"
     ]
    },
    {
     "name": "stdout",
     "output_type": "stream",
     "text": [
      "Best params:  {'C': 1, 'epsilon': 0.01, 'gamma': 1, 'kernel': 'rbf'}\n",
      "Best rmse:  0.13354492349392427\n",
      "Training model:  35\n"
     ]
    },
    {
     "name": "stderr",
     "output_type": "stream",
     "text": [
      "100%|██████████████████████████████████████████████████████████████████████████████████| 80/80 [00:01<00:00, 64.88it/s]\n"
     ]
    },
    {
     "name": "stdout",
     "output_type": "stream",
     "text": [
      "Best params:  {'C': 1, 'epsilon': 0.01, 'gamma': 1, 'kernel': 'rbf'}\n",
      "Best rmse:  0.1439658600630913\n",
      "Training model:  36\n"
     ]
    },
    {
     "name": "stderr",
     "output_type": "stream",
     "text": [
      "100%|██████████████████████████████████████████████████████████████████████████████████| 80/80 [00:01<00:00, 66.31it/s]\n"
     ]
    },
    {
     "name": "stdout",
     "output_type": "stream",
     "text": [
      "Best params:  {'C': 1, 'epsilon': 0.0001, 'gamma': 1, 'kernel': 'rbf'}\n",
      "Best rmse:  0.13591815915728447\n",
      "Training model:  37\n"
     ]
    },
    {
     "name": "stderr",
     "output_type": "stream",
     "text": [
      "100%|██████████████████████████████████████████████████████████████████████████████████| 80/80 [00:01<00:00, 65.94it/s]\n"
     ]
    },
    {
     "name": "stdout",
     "output_type": "stream",
     "text": [
      "Best params:  {'C': 1, 'epsilon': 0.01, 'gamma': 1, 'kernel': 'rbf'}\n",
      "Best rmse:  0.12369293236554332\n",
      "Training model:  38\n"
     ]
    },
    {
     "name": "stderr",
     "output_type": "stream",
     "text": [
      "100%|██████████████████████████████████████████████████████████████████████████████████| 80/80 [00:01<00:00, 64.82it/s]\n"
     ]
    },
    {
     "name": "stdout",
     "output_type": "stream",
     "text": [
      "Best params:  {'C': 1, 'epsilon': 0.01, 'gamma': 1, 'kernel': 'rbf'}\n",
      "Best rmse:  0.1484928720377973\n",
      "Training model:  39\n"
     ]
    },
    {
     "name": "stderr",
     "output_type": "stream",
     "text": [
      "100%|██████████████████████████████████████████████████████████████████████████████████| 80/80 [00:01<00:00, 65.10it/s]\n"
     ]
    },
    {
     "name": "stdout",
     "output_type": "stream",
     "text": [
      "Best params:  {'C': 10, 'epsilon': 0.1, 'gamma': 1, 'kernel': 'rbf'}\n",
      "Best rmse:  0.15801267068120012\n",
      "Training model:  40\n"
     ]
    },
    {
     "name": "stderr",
     "output_type": "stream",
     "text": [
      "100%|██████████████████████████████████████████████████████████████████████████████████| 80/80 [00:01<00:00, 66.49it/s]\n"
     ]
    },
    {
     "name": "stdout",
     "output_type": "stream",
     "text": [
      "Best params:  {'C': 1, 'epsilon': 0.01, 'gamma': 1, 'kernel': 'rbf'}\n",
      "Best rmse:  0.14203712437998078\n",
      "Training model:  41\n"
     ]
    },
    {
     "name": "stderr",
     "output_type": "stream",
     "text": [
      "100%|██████████████████████████████████████████████████████████████████████████████████| 80/80 [00:01<00:00, 65.30it/s]\n"
     ]
    },
    {
     "name": "stdout",
     "output_type": "stream",
     "text": [
      "Best params:  {'C': 1, 'epsilon': 0.01, 'gamma': 1, 'kernel': 'rbf'}\n",
      "Best rmse:  0.15394933787749535\n",
      "Training model:  42\n"
     ]
    },
    {
     "name": "stderr",
     "output_type": "stream",
     "text": [
      "100%|██████████████████████████████████████████████████████████████████████████████████| 80/80 [00:01<00:00, 65.85it/s]\n"
     ]
    },
    {
     "name": "stdout",
     "output_type": "stream",
     "text": [
      "Best params:  {'C': 1, 'epsilon': 0.001, 'gamma': 1, 'kernel': 'rbf'}\n",
      "Best rmse:  0.15974194696621424\n",
      "Training model:  43\n"
     ]
    },
    {
     "name": "stderr",
     "output_type": "stream",
     "text": [
      "100%|██████████████████████████████████████████████████████████████████████████████████| 80/80 [00:01<00:00, 65.55it/s]\n"
     ]
    },
    {
     "name": "stdout",
     "output_type": "stream",
     "text": [
      "Best params:  {'C': 1, 'epsilon': 0.01, 'gamma': 1, 'kernel': 'rbf'}\n",
      "Best rmse:  0.14351880900581265\n",
      "Training model:  44\n"
     ]
    },
    {
     "name": "stderr",
     "output_type": "stream",
     "text": [
      "100%|██████████████████████████████████████████████████████████████████████████████████| 80/80 [00:01<00:00, 65.60it/s]\n"
     ]
    },
    {
     "name": "stdout",
     "output_type": "stream",
     "text": [
      "Best params:  {'C': 1, 'epsilon': 0.01, 'gamma': 1, 'kernel': 'rbf'}\n",
      "Best rmse:  0.13451475647953967\n",
      "Training model:  45\n"
     ]
    },
    {
     "name": "stderr",
     "output_type": "stream",
     "text": [
      "100%|██████████████████████████████████████████████████████████████████████████████████| 80/80 [00:01<00:00, 65.35it/s]\n"
     ]
    },
    {
     "name": "stdout",
     "output_type": "stream",
     "text": [
      "Best params:  {'C': 1, 'epsilon': 0.1, 'gamma': 1, 'kernel': 'rbf'}\n",
      "Best rmse:  0.13932261677197788\n",
      "Training model:  46\n"
     ]
    },
    {
     "name": "stderr",
     "output_type": "stream",
     "text": [
      "100%|██████████████████████████████████████████████████████████████████████████████████| 80/80 [00:01<00:00, 65.56it/s]\n"
     ]
    },
    {
     "name": "stdout",
     "output_type": "stream",
     "text": [
      "Best params:  {'C': 1, 'epsilon': 0.01, 'gamma': 1, 'kernel': 'rbf'}\n",
      "Best rmse:  0.1227547563270039\n",
      "Training model:  47\n"
     ]
    },
    {
     "name": "stderr",
     "output_type": "stream",
     "text": [
      "100%|██████████████████████████████████████████████████████████████████████████████████| 80/80 [00:01<00:00, 65.66it/s]\n"
     ]
    },
    {
     "name": "stdout",
     "output_type": "stream",
     "text": [
      "Best params:  {'C': 1, 'epsilon': 0.1, 'gamma': 1, 'kernel': 'rbf'}\n",
      "Best rmse:  0.1328447701980407\n",
      "Training model:  48\n"
     ]
    },
    {
     "name": "stderr",
     "output_type": "stream",
     "text": [
      "100%|██████████████████████████████████████████████████████████████████████████████████| 80/80 [00:01<00:00, 65.56it/s]\n"
     ]
    },
    {
     "name": "stdout",
     "output_type": "stream",
     "text": [
      "Best params:  {'C': 1, 'epsilon': 0.001, 'gamma': 1, 'kernel': 'rbf'}\n",
      "Best rmse:  0.13200934699586755\n",
      "Training model:  49\n"
     ]
    },
    {
     "name": "stderr",
     "output_type": "stream",
     "text": [
      "100%|██████████████████████████████████████████████████████████████████████████████████| 80/80 [00:01<00:00, 65.56it/s]\n"
     ]
    },
    {
     "name": "stdout",
     "output_type": "stream",
     "text": [
      "Best params:  {'C': 1, 'epsilon': 0.01, 'gamma': 1, 'kernel': 'rbf'}\n",
      "Best rmse:  0.146528639137808\n",
      "Training model:  50\n"
     ]
    },
    {
     "name": "stderr",
     "output_type": "stream",
     "text": [
      "100%|██████████████████████████████████████████████████████████████████████████████████| 80/80 [00:01<00:00, 65.49it/s]\n"
     ]
    },
    {
     "name": "stdout",
     "output_type": "stream",
     "text": [
      "Best params:  {'C': 1, 'epsilon': 0.1, 'gamma': 1, 'kernel': 'rbf'}\n",
      "Best rmse:  0.14209376544135138\n",
      "Training model:  51\n"
     ]
    },
    {
     "name": "stderr",
     "output_type": "stream",
     "text": [
      "100%|██████████████████████████████████████████████████████████████████████████████████| 80/80 [00:01<00:00, 65.01it/s]\n"
     ]
    },
    {
     "name": "stdout",
     "output_type": "stream",
     "text": [
      "Best params:  {'C': 1, 'epsilon': 0.01, 'gamma': 1, 'kernel': 'rbf'}\n",
      "Best rmse:  0.13350555044134105\n",
      "Training model:  52\n"
     ]
    },
    {
     "name": "stderr",
     "output_type": "stream",
     "text": [
      "100%|██████████████████████████████████████████████████████████████████████████████████| 80/80 [00:01<00:00, 65.65it/s]\n"
     ]
    },
    {
     "name": "stdout",
     "output_type": "stream",
     "text": [
      "Best params:  {'C': 10, 'epsilon': 0.01, 'gamma': 1, 'kernel': 'rbf'}\n",
      "Best rmse:  0.129843178788365\n",
      "Training model:  53\n"
     ]
    },
    {
     "name": "stderr",
     "output_type": "stream",
     "text": [
      "100%|██████████████████████████████████████████████████████████████████████████████████| 80/80 [00:01<00:00, 66.31it/s]\n"
     ]
    },
    {
     "name": "stdout",
     "output_type": "stream",
     "text": [
      "Best params:  {'C': 1, 'epsilon': 0.0001, 'gamma': 1, 'kernel': 'rbf'}\n",
      "Best rmse:  0.16758931993695889\n",
      "Training model:  54\n"
     ]
    },
    {
     "name": "stderr",
     "output_type": "stream",
     "text": [
      "100%|██████████████████████████████████████████████████████████████████████████████████| 80/80 [00:01<00:00, 65.74it/s]\n"
     ]
    },
    {
     "name": "stdout",
     "output_type": "stream",
     "text": [
      "Best params:  {'C': 1, 'epsilon': 0.01, 'gamma': 1, 'kernel': 'rbf'}\n",
      "Best rmse:  0.1282034385243088\n",
      "Training model:  55\n"
     ]
    },
    {
     "name": "stderr",
     "output_type": "stream",
     "text": [
      "100%|██████████████████████████████████████████████████████████████████████████████████| 80/80 [00:01<00:00, 65.76it/s]\n"
     ]
    },
    {
     "name": "stdout",
     "output_type": "stream",
     "text": [
      "Best params:  {'C': 1, 'epsilon': 0.01, 'gamma': 1, 'kernel': 'rbf'}\n",
      "Best rmse:  0.1300088926748992\n",
      "Training model:  56\n"
     ]
    },
    {
     "name": "stderr",
     "output_type": "stream",
     "text": [
      "100%|██████████████████████████████████████████████████████████████████████████████████| 80/80 [00:01<00:00, 65.00it/s]\n"
     ]
    },
    {
     "name": "stdout",
     "output_type": "stream",
     "text": [
      "Best params:  {'C': 1, 'epsilon': 0.01, 'gamma': 1, 'kernel': 'rbf'}\n",
      "Best rmse:  0.11892745745313608\n",
      "Training model:  57\n"
     ]
    },
    {
     "name": "stderr",
     "output_type": "stream",
     "text": [
      "100%|██████████████████████████████████████████████████████████████████████████████████| 80/80 [00:01<00:00, 65.84it/s]\n"
     ]
    },
    {
     "name": "stdout",
     "output_type": "stream",
     "text": [
      "Best params:  {'C': 1, 'epsilon': 0.01, 'gamma': 1, 'kernel': 'rbf'}\n",
      "Best rmse:  0.1388073795151775\n",
      "Training model:  58\n"
     ]
    },
    {
     "name": "stderr",
     "output_type": "stream",
     "text": [
      "100%|██████████████████████████████████████████████████████████████████████████████████| 80/80 [00:01<00:00, 65.36it/s]\n"
     ]
    },
    {
     "name": "stdout",
     "output_type": "stream",
     "text": [
      "Best params:  {'C': 1, 'epsilon': 0.01, 'gamma': 1, 'kernel': 'rbf'}\n",
      "Best rmse:  0.1409946783770171\n",
      "Training model:  59\n"
     ]
    },
    {
     "name": "stderr",
     "output_type": "stream",
     "text": [
      "100%|██████████████████████████████████████████████████████████████████████████████████| 80/80 [00:01<00:00, 66.03it/s]\n"
     ]
    },
    {
     "name": "stdout",
     "output_type": "stream",
     "text": [
      "Best params:  {'C': 1, 'epsilon': 0.01, 'gamma': 1, 'kernel': 'rbf'}\n",
      "Best rmse:  0.12712552225238766\n",
      "Training model:  60\n"
     ]
    },
    {
     "name": "stderr",
     "output_type": "stream",
     "text": [
      "100%|██████████████████████████████████████████████████████████████████████████████████| 80/80 [00:01<00:00, 64.35it/s]\n"
     ]
    },
    {
     "name": "stdout",
     "output_type": "stream",
     "text": [
      "Best params:  {'C': 1, 'epsilon': 0.1, 'gamma': 1, 'kernel': 'rbf'}\n",
      "Best rmse:  0.1561176377835391\n",
      "Training model:  61\n"
     ]
    },
    {
     "name": "stderr",
     "output_type": "stream",
     "text": [
      "100%|██████████████████████████████████████████████████████████████████████████████████| 80/80 [00:01<00:00, 66.12it/s]\n"
     ]
    },
    {
     "name": "stdout",
     "output_type": "stream",
     "text": [
      "Best params:  {'C': 1, 'epsilon': 0.01, 'gamma': 1, 'kernel': 'rbf'}\n",
      "Best rmse:  0.11652733818678561\n",
      "Training model:  62\n"
     ]
    },
    {
     "name": "stderr",
     "output_type": "stream",
     "text": [
      "100%|██████████████████████████████████████████████████████████████████████████████████| 80/80 [00:01<00:00, 65.30it/s]\n"
     ]
    },
    {
     "name": "stdout",
     "output_type": "stream",
     "text": [
      "Best params:  {'C': 1, 'epsilon': 0.1, 'gamma': 1, 'kernel': 'rbf'}\n",
      "Best rmse:  0.14762082403361337\n",
      "Training model:  63\n"
     ]
    },
    {
     "name": "stderr",
     "output_type": "stream",
     "text": [
      "100%|██████████████████████████████████████████████████████████████████████████████████| 80/80 [00:01<00:00, 65.76it/s]\n"
     ]
    },
    {
     "name": "stdout",
     "output_type": "stream",
     "text": [
      "Best params:  {'C': 1, 'epsilon': 0.01, 'gamma': 1, 'kernel': 'rbf'}\n",
      "Best rmse:  0.12302591395170634\n",
      "Training model:  64\n"
     ]
    },
    {
     "name": "stderr",
     "output_type": "stream",
     "text": [
      "100%|██████████████████████████████████████████████████████████████████████████████████| 80/80 [00:01<00:00, 64.97it/s]\n"
     ]
    },
    {
     "name": "stdout",
     "output_type": "stream",
     "text": [
      "Best params:  {'C': 10, 'epsilon': 0.01, 'gamma': 0.1, 'kernel': 'rbf'}\n",
      "Best rmse:  0.13234217238050894\n",
      "Training model:  65\n"
     ]
    },
    {
     "name": "stderr",
     "output_type": "stream",
     "text": [
      "100%|██████████████████████████████████████████████████████████████████████████████████| 80/80 [00:01<00:00, 65.84it/s]\n"
     ]
    },
    {
     "name": "stdout",
     "output_type": "stream",
     "text": [
      "Best params:  {'C': 1, 'epsilon': 0.1, 'gamma': 1, 'kernel': 'rbf'}\n",
      "Best rmse:  0.14029841092316236\n",
      "Training model:  66\n"
     ]
    },
    {
     "name": "stderr",
     "output_type": "stream",
     "text": [
      "100%|██████████████████████████████████████████████████████████████████████████████████| 80/80 [00:01<00:00, 66.29it/s]\n"
     ]
    },
    {
     "name": "stdout",
     "output_type": "stream",
     "text": [
      "Best params:  {'C': 1, 'epsilon': 0.1, 'gamma': 1, 'kernel': 'rbf'}\n",
      "Best rmse:  0.14861782613159136\n",
      "Training model:  67\n"
     ]
    },
    {
     "name": "stderr",
     "output_type": "stream",
     "text": [
      "100%|██████████████████████████████████████████████████████████████████████████████████| 80/80 [00:01<00:00, 65.19it/s]\n"
     ]
    },
    {
     "name": "stdout",
     "output_type": "stream",
     "text": [
      "Best params:  {'C': 1, 'epsilon': 0.0001, 'gamma': 1, 'kernel': 'rbf'}\n",
      "Best rmse:  0.13925333518864416\n",
      "Training model:  68\n"
     ]
    },
    {
     "name": "stderr",
     "output_type": "stream",
     "text": [
      "100%|██████████████████████████████████████████████████████████████████████████████████| 80/80 [00:01<00:00, 66.41it/s]\n"
     ]
    },
    {
     "name": "stdout",
     "output_type": "stream",
     "text": [
      "Best params:  {'C': 1, 'epsilon': 0.01, 'gamma': 1, 'kernel': 'rbf'}\n",
      "Best rmse:  0.1396816546783869\n",
      "Training model:  69\n"
     ]
    },
    {
     "name": "stderr",
     "output_type": "stream",
     "text": [
      "100%|██████████████████████████████████████████████████████████████████████████████████| 80/80 [00:01<00:00, 65.84it/s]\n"
     ]
    },
    {
     "name": "stdout",
     "output_type": "stream",
     "text": [
      "Best params:  {'C': 1, 'epsilon': 0.01, 'gamma': 1, 'kernel': 'rbf'}\n",
      "Best rmse:  0.11736616188961052\n",
      "Training model:  70\n"
     ]
    },
    {
     "name": "stderr",
     "output_type": "stream",
     "text": [
      "100%|██████████████████████████████████████████████████████████████████████████████████| 80/80 [00:01<00:00, 65.12it/s]\n"
     ]
    },
    {
     "name": "stdout",
     "output_type": "stream",
     "text": [
      "Best params:  {'C': 1, 'epsilon': 0.01, 'gamma': 1, 'kernel': 'rbf'}\n",
      "Best rmse:  0.12380624680659146\n",
      "Training model:  71\n"
     ]
    },
    {
     "name": "stderr",
     "output_type": "stream",
     "text": [
      "100%|██████████████████████████████████████████████████████████████████████████████████| 80/80 [00:01<00:00, 64.63it/s]\n"
     ]
    },
    {
     "name": "stdout",
     "output_type": "stream",
     "text": [
      "Best params:  {'C': 10, 'epsilon': 0.1, 'gamma': 0.1, 'kernel': 'rbf'}\n",
      "Best rmse:  0.16454379449180653\n",
      "Training model:  72\n"
     ]
    },
    {
     "name": "stderr",
     "output_type": "stream",
     "text": [
      "100%|██████████████████████████████████████████████████████████████████████████████████| 80/80 [00:01<00:00, 65.58it/s]\n"
     ]
    },
    {
     "name": "stdout",
     "output_type": "stream",
     "text": [
      "Best params:  {'C': 1, 'epsilon': 0.01, 'gamma': 1, 'kernel': 'rbf'}\n",
      "Best rmse:  0.12126594869401176\n",
      "Training model:  73\n"
     ]
    },
    {
     "name": "stderr",
     "output_type": "stream",
     "text": [
      "100%|██████████████████████████████████████████████████████████████████████████████████| 80/80 [00:01<00:00, 65.56it/s]\n"
     ]
    },
    {
     "name": "stdout",
     "output_type": "stream",
     "text": [
      "Best params:  {'C': 1, 'epsilon': 0.1, 'gamma': 1, 'kernel': 'rbf'}\n",
      "Best rmse:  0.1389305615159899\n",
      "Training model:  74\n"
     ]
    },
    {
     "name": "stderr",
     "output_type": "stream",
     "text": [
      "100%|██████████████████████████████████████████████████████████████████████████████████| 80/80 [00:01<00:00, 66.21it/s]\n"
     ]
    },
    {
     "name": "stdout",
     "output_type": "stream",
     "text": [
      "Best params:  {'C': 1, 'epsilon': 0.01, 'gamma': 1, 'kernel': 'rbf'}\n",
      "Best rmse:  0.12999034212041333\n",
      "Training model:  75\n"
     ]
    },
    {
     "name": "stderr",
     "output_type": "stream",
     "text": [
      "100%|██████████████████████████████████████████████████████████████████████████████████| 80/80 [00:01<00:00, 65.36it/s]\n"
     ]
    },
    {
     "name": "stdout",
     "output_type": "stream",
     "text": [
      "Best params:  {'C': 1, 'epsilon': 0.01, 'gamma': 1, 'kernel': 'rbf'}\n",
      "Best rmse:  0.1359757063848183\n",
      "Training model:  76\n"
     ]
    },
    {
     "name": "stderr",
     "output_type": "stream",
     "text": [
      "100%|██████████████████████████████████████████████████████████████████████████████████| 80/80 [00:01<00:00, 66.21it/s]\n"
     ]
    },
    {
     "name": "stdout",
     "output_type": "stream",
     "text": [
      "Best params:  {'C': 1, 'epsilon': 0.1, 'gamma': 1, 'kernel': 'rbf'}\n",
      "Best rmse:  0.16076884213063794\n",
      "Training model:  77\n"
     ]
    },
    {
     "name": "stderr",
     "output_type": "stream",
     "text": [
      "100%|██████████████████████████████████████████████████████████████████████████████████| 80/80 [00:01<00:00, 66.11it/s]\n"
     ]
    },
    {
     "name": "stdout",
     "output_type": "stream",
     "text": [
      "Best params:  {'C': 1, 'epsilon': 0.1, 'gamma': 1, 'kernel': 'rbf'}\n",
      "Best rmse:  0.13871960488487595\n",
      "Training model:  78\n"
     ]
    },
    {
     "name": "stderr",
     "output_type": "stream",
     "text": [
      "100%|██████████████████████████████████████████████████████████████████████████████████| 80/80 [00:01<00:00, 65.39it/s]\n"
     ]
    },
    {
     "name": "stdout",
     "output_type": "stream",
     "text": [
      "Best params:  {'C': 1, 'epsilon': 0.01, 'gamma': 1, 'kernel': 'rbf'}\n",
      "Best rmse:  0.13223261395473207\n",
      "Training model:  79\n"
     ]
    },
    {
     "name": "stderr",
     "output_type": "stream",
     "text": [
      "100%|██████████████████████████████████████████████████████████████████████████████████| 80/80 [00:01<00:00, 65.38it/s]\n"
     ]
    },
    {
     "name": "stdout",
     "output_type": "stream",
     "text": [
      "Best params:  {'C': 1, 'epsilon': 0.01, 'gamma': 1, 'kernel': 'rbf'}\n",
      "Best rmse:  0.13528591778839924\n",
      "Training model:  80\n"
     ]
    },
    {
     "name": "stderr",
     "output_type": "stream",
     "text": [
      "100%|██████████████████████████████████████████████████████████████████████████████████| 80/80 [00:01<00:00, 64.82it/s]\n"
     ]
    },
    {
     "name": "stdout",
     "output_type": "stream",
     "text": [
      "Best params:  {'C': 1, 'epsilon': 0.01, 'gamma': 1, 'kernel': 'rbf'}\n",
      "Best rmse:  0.1396498565504594\n",
      "Training model:  81\n"
     ]
    },
    {
     "name": "stderr",
     "output_type": "stream",
     "text": [
      "100%|██████████████████████████████████████████████████████████████████████████████████| 80/80 [00:01<00:00, 65.93it/s]\n"
     ]
    },
    {
     "name": "stdout",
     "output_type": "stream",
     "text": [
      "Best params:  {'C': 1, 'epsilon': 0.01, 'gamma': 1, 'kernel': 'rbf'}\n",
      "Best rmse:  0.14302365038960405\n",
      "Training model:  82\n"
     ]
    },
    {
     "name": "stderr",
     "output_type": "stream",
     "text": [
      "100%|██████████████████████████████████████████████████████████████████████████████████| 80/80 [00:01<00:00, 65.56it/s]\n"
     ]
    },
    {
     "name": "stdout",
     "output_type": "stream",
     "text": [
      "Best params:  {'C': 1, 'epsilon': 0.01, 'gamma': 1, 'kernel': 'rbf'}\n",
      "Best rmse:  0.1240396647374176\n",
      "Training model:  83\n"
     ]
    },
    {
     "name": "stderr",
     "output_type": "stream",
     "text": [
      "100%|██████████████████████████████████████████████████████████████████████████████████| 80/80 [00:01<00:00, 65.37it/s]\n"
     ]
    },
    {
     "name": "stdout",
     "output_type": "stream",
     "text": [
      "Best params:  {'C': 1, 'epsilon': 0.01, 'gamma': 1, 'kernel': 'rbf'}\n",
      "Best rmse:  0.14602710911629643\n",
      "Training model:  84\n"
     ]
    },
    {
     "name": "stderr",
     "output_type": "stream",
     "text": [
      "100%|██████████████████████████████████████████████████████████████████████████████████| 80/80 [00:01<00:00, 65.37it/s]\n"
     ]
    },
    {
     "name": "stdout",
     "output_type": "stream",
     "text": [
      "Best params:  {'C': 1, 'epsilon': 1e-05, 'gamma': 1, 'kernel': 'rbf'}\n",
      "Best rmse:  0.15676430518513557\n",
      "Training model:  85\n"
     ]
    },
    {
     "name": "stderr",
     "output_type": "stream",
     "text": [
      "100%|██████████████████████████████████████████████████████████████████████████████████| 80/80 [00:01<00:00, 65.19it/s]\n"
     ]
    },
    {
     "name": "stdout",
     "output_type": "stream",
     "text": [
      "Best params:  {'C': 1, 'epsilon': 0.01, 'gamma': 1, 'kernel': 'rbf'}\n",
      "Best rmse:  0.14410311666697925\n",
      "Training model:  86\n"
     ]
    },
    {
     "name": "stderr",
     "output_type": "stream",
     "text": [
      "100%|██████████████████████████████████████████████████████████████████████████████████| 80/80 [00:01<00:00, 65.84it/s]\n"
     ]
    },
    {
     "name": "stdout",
     "output_type": "stream",
     "text": [
      "Best params:  {'C': 1, 'epsilon': 0.1, 'gamma': 1, 'kernel': 'rbf'}\n",
      "Best rmse:  0.13172455003734687\n",
      "Training model:  87\n"
     ]
    },
    {
     "name": "stderr",
     "output_type": "stream",
     "text": [
      "100%|██████████████████████████████████████████████████████████████████████████████████| 80/80 [00:01<00:00, 66.12it/s]\n"
     ]
    },
    {
     "name": "stdout",
     "output_type": "stream",
     "text": [
      "Best params:  {'C': 1, 'epsilon': 0.01, 'gamma': 1, 'kernel': 'rbf'}\n",
      "Best rmse:  0.1278198884523818\n",
      "Training model:  88\n"
     ]
    },
    {
     "name": "stderr",
     "output_type": "stream",
     "text": [
      "100%|██████████████████████████████████████████████████████████████████████████████████| 80/80 [00:01<00:00, 65.55it/s]\n"
     ]
    },
    {
     "name": "stdout",
     "output_type": "stream",
     "text": [
      "Best params:  {'C': 1, 'epsilon': 0.01, 'gamma': 1, 'kernel': 'rbf'}\n",
      "Best rmse:  0.13074037228285473\n",
      "Training model:  89\n"
     ]
    },
    {
     "name": "stderr",
     "output_type": "stream",
     "text": [
      "100%|██████████████████████████████████████████████████████████████████████████████████| 80/80 [00:01<00:00, 66.36it/s]\n"
     ]
    },
    {
     "name": "stdout",
     "output_type": "stream",
     "text": [
      "Best params:  {'C': 10, 'epsilon': 0.01, 'gamma': 0.1, 'kernel': 'rbf'}\n",
      "Best rmse:  0.1421523037677649\n",
      "Training model:  90\n"
     ]
    },
    {
     "name": "stderr",
     "output_type": "stream",
     "text": [
      "100%|██████████████████████████████████████████████████████████████████████████████████| 80/80 [00:01<00:00, 61.81it/s]\n"
     ]
    },
    {
     "name": "stdout",
     "output_type": "stream",
     "text": [
      "Best params:  {'C': 1, 'epsilon': 0.01, 'gamma': 1, 'kernel': 'rbf'}\n",
      "Best rmse:  0.1494457080701727\n",
      "Training model:  91\n"
     ]
    },
    {
     "name": "stderr",
     "output_type": "stream",
     "text": [
      "100%|██████████████████████████████████████████████████████████████████████████████████| 80/80 [00:01<00:00, 64.42it/s]\n"
     ]
    },
    {
     "name": "stdout",
     "output_type": "stream",
     "text": [
      "Best params:  {'C': 10, 'epsilon': 0.01, 'gamma': 0.1, 'kernel': 'rbf'}\n",
      "Best rmse:  0.15099198438191772\n",
      "Training model:  92\n"
     ]
    },
    {
     "name": "stderr",
     "output_type": "stream",
     "text": [
      "100%|██████████████████████████████████████████████████████████████████████████████████| 80/80 [00:01<00:00, 65.60it/s]\n"
     ]
    },
    {
     "name": "stdout",
     "output_type": "stream",
     "text": [
      "Best params:  {'C': 1, 'epsilon': 0.01, 'gamma': 1, 'kernel': 'rbf'}\n",
      "Best rmse:  0.1253448529546209\n",
      "Training model:  93\n"
     ]
    },
    {
     "name": "stderr",
     "output_type": "stream",
     "text": [
      "100%|██████████████████████████████████████████████████████████████████████████████████| 80/80 [00:01<00:00, 65.19it/s]\n"
     ]
    },
    {
     "name": "stdout",
     "output_type": "stream",
     "text": [
      "Best params:  {'C': 1, 'epsilon': 1e-05, 'gamma': 1, 'kernel': 'rbf'}\n",
      "Best rmse:  0.15608466969577148\n",
      "Training model:  94\n"
     ]
    },
    {
     "name": "stderr",
     "output_type": "stream",
     "text": [
      "100%|██████████████████████████████████████████████████████████████████████████████████| 80/80 [00:01<00:00, 65.67it/s]\n"
     ]
    },
    {
     "name": "stdout",
     "output_type": "stream",
     "text": [
      "Best params:  {'C': 1, 'epsilon': 0.1, 'gamma': 1, 'kernel': 'rbf'}\n",
      "Best rmse:  0.14576248648295714\n",
      "Training model:  95\n"
     ]
    },
    {
     "name": "stderr",
     "output_type": "stream",
     "text": [
      "100%|██████████████████████████████████████████████████████████████████████████████████| 80/80 [00:01<00:00, 65.83it/s]\n"
     ]
    },
    {
     "name": "stdout",
     "output_type": "stream",
     "text": [
      "Best params:  {'C': 1, 'epsilon': 0.01, 'gamma': 1, 'kernel': 'rbf'}\n",
      "Best rmse:  0.11913741417701153\n",
      "Training model:  96\n"
     ]
    },
    {
     "name": "stderr",
     "output_type": "stream",
     "text": [
      "100%|██████████████████████████████████████████████████████████████████████████████████| 80/80 [00:01<00:00, 66.41it/s]\n"
     ]
    },
    {
     "name": "stdout",
     "output_type": "stream",
     "text": [
      "Best params:  {'C': 1, 'epsilon': 0.1, 'gamma': 1, 'kernel': 'rbf'}\n",
      "Best rmse:  0.12772623841211242\n",
      "Training model:  97\n"
     ]
    },
    {
     "name": "stderr",
     "output_type": "stream",
     "text": [
      "100%|██████████████████████████████████████████████████████████████████████████████████| 80/80 [00:01<00:00, 65.00it/s]\n"
     ]
    },
    {
     "name": "stdout",
     "output_type": "stream",
     "text": [
      "Best params:  {'C': 1, 'epsilon': 0.01, 'gamma': 1, 'kernel': 'rbf'}\n",
      "Best rmse:  0.131273703076248\n",
      "Training model:  98\n"
     ]
    },
    {
     "name": "stderr",
     "output_type": "stream",
     "text": [
      "100%|██████████████████████████████████████████████████████████████████████████████████| 80/80 [00:01<00:00, 65.55it/s]\n"
     ]
    },
    {
     "name": "stdout",
     "output_type": "stream",
     "text": [
      "Best params:  {'C': 1, 'epsilon': 0.1, 'gamma': 1, 'kernel': 'rbf'}\n",
      "Best rmse:  0.1592259546564019\n",
      "Training model:  99\n"
     ]
    },
    {
     "name": "stderr",
     "output_type": "stream",
     "text": [
      "100%|██████████████████████████████████████████████████████████████████████████████████| 80/80 [00:01<00:00, 65.44it/s]\n"
     ]
    },
    {
     "name": "stdout",
     "output_type": "stream",
     "text": [
      "Best params:  {'C': 1, 'epsilon': 0.1, 'gamma': 1, 'kernel': 'rbf'}\n",
      "Best rmse:  0.1370539822712725\n"
     ]
    },
    {
     "name": "stderr",
     "output_type": "stream",
     "text": [
      "100%|████████████████████████████████████████████████████████████████████████████████| 800/800 [04:25<00:00,  3.02it/s]\n"
     ]
    },
    {
     "name": "stdout",
     "output_type": "stream",
     "text": [
      "Best params:  {'comb': 'average', 'k': 14, 'n': 3}\n",
      "Best rmse:  0.2647755189405434\n",
      "Time Series:  pollutions\n",
      "\n",
      "###############################################\n",
      "\n",
      "Executing: ENSEMBLE SVR\n",
      "d:  2\n",
      "Training model:  0\n"
     ]
    },
    {
     "name": "stderr",
     "output_type": "stream",
     "text": [
      "100%|██████████████████████████████████████████████████████████████████████████████████| 80/80 [00:01<00:00, 76.02it/s]\n"
     ]
    },
    {
     "name": "stdout",
     "output_type": "stream",
     "text": [
      "Best params:  {'C': 100, 'epsilon': 0.0001, 'gamma': 0.001, 'kernel': 'rbf'}\n",
      "Best rmse:  0.1288268171629193\n",
      "Training model:  1\n"
     ]
    },
    {
     "name": "stderr",
     "output_type": "stream",
     "text": [
      "100%|██████████████████████████████████████████████████████████████████████████████████| 80/80 [00:01<00:00, 76.93it/s]\n"
     ]
    },
    {
     "name": "stdout",
     "output_type": "stream",
     "text": [
      "Best params:  {'C': 10, 'epsilon': 0.01, 'gamma': 0.1, 'kernel': 'rbf'}\n",
      "Best rmse:  0.07828009584223747\n",
      "Training model:  2\n"
     ]
    },
    {
     "name": "stderr",
     "output_type": "stream",
     "text": [
      "100%|██████████████████████████████████████████████████████████████████████████████████| 80/80 [00:01<00:00, 76.93it/s]\n"
     ]
    },
    {
     "name": "stdout",
     "output_type": "stream",
     "text": [
      "Best params:  {'C': 1000, 'epsilon': 0.1, 'gamma': 0.01, 'kernel': 'rbf'}\n",
      "Best rmse:  0.21789505137420315\n",
      "Training model:  3\n"
     ]
    },
    {
     "name": "stderr",
     "output_type": "stream",
     "text": [
      "100%|██████████████████████████████████████████████████████████████████████████████████| 80/80 [00:01<00:00, 77.19it/s]\n"
     ]
    },
    {
     "name": "stdout",
     "output_type": "stream",
     "text": [
      "Best params:  {'C': 10, 'epsilon': 0.001, 'gamma': 1, 'kernel': 'rbf'}\n",
      "Best rmse:  0.12745843369971813\n",
      "Training model:  4\n"
     ]
    },
    {
     "name": "stderr",
     "output_type": "stream",
     "text": [
      "100%|██████████████████████████████████████████████████████████████████████████████████| 80/80 [00:01<00:00, 76.30it/s]\n"
     ]
    },
    {
     "name": "stdout",
     "output_type": "stream",
     "text": [
      "Best params:  {'C': 1, 'epsilon': 0.1, 'gamma': 0.1, 'kernel': 'rbf'}\n",
      "Best rmse:  0.18274484319305648\n",
      "Training model:  5\n"
     ]
    },
    {
     "name": "stderr",
     "output_type": "stream",
     "text": [
      "100%|██████████████████████████████████████████████████████████████████████████████████| 80/80 [00:01<00:00, 76.94it/s]\n"
     ]
    },
    {
     "name": "stdout",
     "output_type": "stream",
     "text": [
      "Best params:  {'C': 100, 'epsilon': 1e-05, 'gamma': 0.1, 'kernel': 'rbf'}\n",
      "Best rmse:  0.17116488595298437\n",
      "Training model:  6\n"
     ]
    },
    {
     "name": "stderr",
     "output_type": "stream",
     "text": [
      "100%|██████████████████████████████████████████████████████████████████████████████████| 80/80 [00:01<00:00, 76.30it/s]\n"
     ]
    },
    {
     "name": "stdout",
     "output_type": "stream",
     "text": [
      "Best params:  {'C': 100, 'epsilon': 0.001, 'gamma': 0.01, 'kernel': 'rbf'}\n",
      "Best rmse:  0.14338284488575379\n",
      "Training model:  7\n"
     ]
    },
    {
     "name": "stderr",
     "output_type": "stream",
     "text": [
      "100%|██████████████████████████████████████████████████████████████████████████████████| 80/80 [00:01<00:00, 77.98it/s]\n"
     ]
    },
    {
     "name": "stdout",
     "output_type": "stream",
     "text": [
      "Best params:  {'C': 1000, 'epsilon': 0.01, 'gamma': 0.001, 'kernel': 'rbf'}\n",
      "Best rmse:  0.25156797885864546\n",
      "Training model:  8\n"
     ]
    },
    {
     "name": "stderr",
     "output_type": "stream",
     "text": [
      "100%|██████████████████████████████████████████████████████████████████████████████████| 80/80 [00:01<00:00, 76.92it/s]\n"
     ]
    },
    {
     "name": "stdout",
     "output_type": "stream",
     "text": [
      "Best params:  {'C': 1000, 'epsilon': 0.01, 'gamma': 0.001, 'kernel': 'rbf'}\n",
      "Best rmse:  0.17269878594800922\n",
      "Training model:  9\n"
     ]
    },
    {
     "name": "stderr",
     "output_type": "stream",
     "text": [
      "100%|██████████████████████████████████████████████████████████████████████████████████| 80/80 [00:01<00:00, 75.93it/s]\n"
     ]
    },
    {
     "name": "stdout",
     "output_type": "stream",
     "text": [
      "Best params:  {'C': 100, 'epsilon': 1e-05, 'gamma': 0.1, 'kernel': 'rbf'}\n",
      "Best rmse:  0.08744816795053899\n",
      "Training model:  10\n"
     ]
    },
    {
     "name": "stderr",
     "output_type": "stream",
     "text": [
      "100%|██████████████████████████████████████████████████████████████████████████████████| 80/80 [00:01<00:00, 77.13it/s]\n"
     ]
    },
    {
     "name": "stdout",
     "output_type": "stream",
     "text": [
      "Best params:  {'C': 1000, 'epsilon': 0.001, 'gamma': 0.1, 'kernel': 'rbf'}\n",
      "Best rmse:  0.07621993220322626\n",
      "Training model:  11\n"
     ]
    },
    {
     "name": "stderr",
     "output_type": "stream",
     "text": [
      "100%|██████████████████████████████████████████████████████████████████████████████████| 80/80 [00:01<00:00, 78.25it/s]\n"
     ]
    },
    {
     "name": "stdout",
     "output_type": "stream",
     "text": [
      "Best params:  {'C': 100, 'epsilon': 1e-05, 'gamma': 0.01, 'kernel': 'rbf'}\n",
      "Best rmse:  0.16657277660505337\n",
      "Training model:  12\n"
     ]
    },
    {
     "name": "stderr",
     "output_type": "stream",
     "text": [
      "100%|██████████████████████████████████████████████████████████████████████████████████| 80/80 [00:01<00:00, 77.46it/s]\n"
     ]
    },
    {
     "name": "stdout",
     "output_type": "stream",
     "text": [
      "Best params:  {'C': 10, 'epsilon': 0.1, 'gamma': 0.1, 'kernel': 'rbf'}\n",
      "Best rmse:  0.11247156315822712\n",
      "Training model:  13\n"
     ]
    },
    {
     "name": "stderr",
     "output_type": "stream",
     "text": [
      "100%|██████████████████████████████████████████████████████████████████████████████████| 80/80 [00:01<00:00, 78.10it/s]\n"
     ]
    },
    {
     "name": "stdout",
     "output_type": "stream",
     "text": [
      "Best params:  {'C': 100, 'epsilon': 0.01, 'gamma': 0.001, 'kernel': 'rbf'}\n",
      "Best rmse:  0.27556787171642766\n",
      "Training model:  14\n"
     ]
    },
    {
     "name": "stderr",
     "output_type": "stream",
     "text": [
      "100%|██████████████████████████████████████████████████████████████████████████████████| 80/80 [00:01<00:00, 77.71it/s]\n"
     ]
    },
    {
     "name": "stdout",
     "output_type": "stream",
     "text": [
      "Best params:  {'C': 10, 'epsilon': 1e-05, 'gamma': 1, 'kernel': 'rbf'}\n",
      "Best rmse:  0.10494088687539922\n",
      "Training model:  15\n"
     ]
    },
    {
     "name": "stderr",
     "output_type": "stream",
     "text": [
      "100%|██████████████████████████████████████████████████████████████████████████████████| 80/80 [00:01<00:00, 76.95it/s]\n"
     ]
    },
    {
     "name": "stdout",
     "output_type": "stream",
     "text": [
      "Best params:  {'C': 1000, 'epsilon': 1e-05, 'gamma': 0.001, 'kernel': 'rbf'}\n",
      "Best rmse:  0.1783897938652391\n",
      "Training model:  16\n"
     ]
    },
    {
     "name": "stderr",
     "output_type": "stream",
     "text": [
      "100%|██████████████████████████████████████████████████████████████████████████████████| 80/80 [00:01<00:00, 76.80it/s]\n"
     ]
    },
    {
     "name": "stdout",
     "output_type": "stream",
     "text": [
      "Best params:  {'C': 1000, 'epsilon': 0.01, 'gamma': 0.001, 'kernel': 'rbf'}\n",
      "Best rmse:  0.1591813663141449\n",
      "Training model:  17\n"
     ]
    },
    {
     "name": "stderr",
     "output_type": "stream",
     "text": [
      "100%|██████████████████████████████████████████████████████████████████████████████████| 80/80 [00:01<00:00, 75.92it/s]\n"
     ]
    },
    {
     "name": "stdout",
     "output_type": "stream",
     "text": [
      "Best params:  {'C': 10, 'epsilon': 0.01, 'gamma': 0.1, 'kernel': 'rbf'}\n",
      "Best rmse:  0.13449811401941694\n",
      "Training model:  18\n"
     ]
    },
    {
     "name": "stderr",
     "output_type": "stream",
     "text": [
      "100%|██████████████████████████████████████████████████████████████████████████████████| 80/80 [00:01<00:00, 76.55it/s]\n"
     ]
    },
    {
     "name": "stdout",
     "output_type": "stream",
     "text": [
      "Best params:  {'C': 1000, 'epsilon': 0.1, 'gamma': 0.01, 'kernel': 'rbf'}\n",
      "Best rmse:  0.1814715277726613\n",
      "Training model:  19\n"
     ]
    },
    {
     "name": "stderr",
     "output_type": "stream",
     "text": [
      "100%|██████████████████████████████████████████████████████████████████████████████████| 80/80 [00:01<00:00, 75.95it/s]\n"
     ]
    },
    {
     "name": "stdout",
     "output_type": "stream",
     "text": [
      "Best params:  {'C': 1000, 'epsilon': 0.01, 'gamma': 0.001, 'kernel': 'rbf'}\n",
      "Best rmse:  0.19849750341724015\n",
      "Training model:  20\n"
     ]
    },
    {
     "name": "stderr",
     "output_type": "stream",
     "text": [
      "100%|██████████████████████████████████████████████████████████████████████████████████| 80/80 [00:01<00:00, 75.80it/s]\n"
     ]
    },
    {
     "name": "stdout",
     "output_type": "stream",
     "text": [
      "Best params:  {'C': 1000, 'epsilon': 1e-05, 'gamma': 0.01, 'kernel': 'rbf'}\n",
      "Best rmse:  0.15022395258573384\n",
      "Training model:  21\n"
     ]
    },
    {
     "name": "stderr",
     "output_type": "stream",
     "text": [
      "100%|██████████████████████████████████████████████████████████████████████████████████| 80/80 [00:01<00:00, 75.43it/s]\n"
     ]
    },
    {
     "name": "stdout",
     "output_type": "stream",
     "text": [
      "Best params:  {'C': 10, 'epsilon': 0.0001, 'gamma': 0.1, 'kernel': 'rbf'}\n",
      "Best rmse:  0.09230083221301696\n",
      "Training model:  22\n"
     ]
    },
    {
     "name": "stderr",
     "output_type": "stream",
     "text": [
      "100%|██████████████████████████████████████████████████████████████████████████████████| 80/80 [00:01<00:00, 78.24it/s]\n"
     ]
    },
    {
     "name": "stdout",
     "output_type": "stream",
     "text": [
      "Best params:  {'C': 10, 'epsilon': 1e-05, 'gamma': 0.01, 'kernel': 'rbf'}\n",
      "Best rmse:  0.2802707800684798\n",
      "Training model:  23\n"
     ]
    },
    {
     "name": "stderr",
     "output_type": "stream",
     "text": [
      "100%|██████████████████████████████████████████████████████████████████████████████████| 80/80 [00:01<00:00, 76.92it/s]\n"
     ]
    },
    {
     "name": "stdout",
     "output_type": "stream",
     "text": [
      "Best params:  {'C': 1000, 'epsilon': 0.01, 'gamma': 0.001, 'kernel': 'rbf'}\n",
      "Best rmse:  0.18575112200551777\n",
      "Training model:  24\n"
     ]
    },
    {
     "name": "stderr",
     "output_type": "stream",
     "text": [
      "100%|██████████████████████████████████████████████████████████████████████████████████| 80/80 [00:01<00:00, 76.30it/s]\n"
     ]
    },
    {
     "name": "stdout",
     "output_type": "stream",
     "text": [
      "Best params:  {'C': 100, 'epsilon': 0.01, 'gamma': 0.1, 'kernel': 'rbf'}\n",
      "Best rmse:  0.08656668411795422\n",
      "Training model:  25\n"
     ]
    },
    {
     "name": "stderr",
     "output_type": "stream",
     "text": [
      "100%|██████████████████████████████████████████████████████████████████████████████████| 80/80 [00:01<00:00, 76.04it/s]\n"
     ]
    },
    {
     "name": "stdout",
     "output_type": "stream",
     "text": [
      "Best params:  {'C': 10, 'epsilon': 0.1, 'gamma': 0.1, 'kernel': 'rbf'}\n",
      "Best rmse:  0.11886987743594642\n",
      "Training model:  26\n"
     ]
    },
    {
     "name": "stderr",
     "output_type": "stream",
     "text": [
      "100%|██████████████████████████████████████████████████████████████████████████████████| 80/80 [00:01<00:00, 77.07it/s]\n"
     ]
    },
    {
     "name": "stdout",
     "output_type": "stream",
     "text": [
      "Best params:  {'C': 1000, 'epsilon': 0.001, 'gamma': 0.001, 'kernel': 'rbf'}\n",
      "Best rmse:  0.13089689849659733\n",
      "Training model:  27\n"
     ]
    },
    {
     "name": "stderr",
     "output_type": "stream",
     "text": [
      "100%|██████████████████████████████████████████████████████████████████████████████████| 80/80 [00:01<00:00, 78.38it/s]\n"
     ]
    },
    {
     "name": "stdout",
     "output_type": "stream",
     "text": [
      "Best params:  {'C': 10, 'epsilon': 0.01, 'gamma': 0.01, 'kernel': 'rbf'}\n",
      "Best rmse:  0.18452831381263346\n",
      "Training model:  28\n"
     ]
    },
    {
     "name": "stderr",
     "output_type": "stream",
     "text": [
      "100%|██████████████████████████████████████████████████████████████████████████████████| 80/80 [00:01<00:00, 76.68it/s]\n"
     ]
    },
    {
     "name": "stdout",
     "output_type": "stream",
     "text": [
      "Best params:  {'C': 1000, 'epsilon': 0.01, 'gamma': 0.01, 'kernel': 'rbf'}\n",
      "Best rmse:  0.1532199245686015\n",
      "Training model:  29\n"
     ]
    },
    {
     "name": "stderr",
     "output_type": "stream",
     "text": [
      "100%|██████████████████████████████████████████████████████████████████████████████████| 80/80 [00:01<00:00, 77.84it/s]\n"
     ]
    },
    {
     "name": "stdout",
     "output_type": "stream",
     "text": [
      "Best params:  {'C': 100, 'epsilon': 0.1, 'gamma': 0.1, 'kernel': 'rbf'}\n",
      "Best rmse:  0.18253225375981214\n",
      "Training model:  30\n"
     ]
    },
    {
     "name": "stderr",
     "output_type": "stream",
     "text": [
      "100%|██████████████████████████████████████████████████████████████████████████████████| 80/80 [00:01<00:00, 77.19it/s]\n"
     ]
    },
    {
     "name": "stdout",
     "output_type": "stream",
     "text": [
      "Best params:  {'C': 10, 'epsilon': 0.01, 'gamma': 0.1, 'kernel': 'rbf'}\n",
      "Best rmse:  0.14331345260913061\n",
      "Training model:  31\n"
     ]
    },
    {
     "name": "stderr",
     "output_type": "stream",
     "text": [
      "100%|██████████████████████████████████████████████████████████████████████████████████| 80/80 [00:01<00:00, 76.94it/s]\n"
     ]
    },
    {
     "name": "stdout",
     "output_type": "stream",
     "text": [
      "Best params:  {'C': 100, 'epsilon': 1e-05, 'gamma': 0.1, 'kernel': 'rbf'}\n",
      "Best rmse:  0.11343419454749913\n",
      "Training model:  32\n"
     ]
    },
    {
     "name": "stderr",
     "output_type": "stream",
     "text": [
      "100%|██████████████████████████████████████████████████████████████████████████████████| 80/80 [00:01<00:00, 78.06it/s]\n"
     ]
    },
    {
     "name": "stdout",
     "output_type": "stream",
     "text": [
      "Best params:  {'C': 100, 'epsilon': 0.1, 'gamma': 0.1, 'kernel': 'rbf'}\n",
      "Best rmse:  0.182455655896409\n",
      "Training model:  33\n"
     ]
    },
    {
     "name": "stderr",
     "output_type": "stream",
     "text": [
      "100%|██████████████████████████████████████████████████████████████████████████████████| 80/80 [00:01<00:00, 77.06it/s]\n"
     ]
    },
    {
     "name": "stdout",
     "output_type": "stream",
     "text": [
      "Best params:  {'C': 10, 'epsilon': 0.1, 'gamma': 0.1, 'kernel': 'rbf'}\n",
      "Best rmse:  0.21152778147717885\n",
      "Training model:  34\n"
     ]
    },
    {
     "name": "stderr",
     "output_type": "stream",
     "text": [
      "100%|██████████████████████████████████████████████████████████████████████████████████| 80/80 [00:01<00:00, 76.29it/s]\n"
     ]
    },
    {
     "name": "stdout",
     "output_type": "stream",
     "text": [
      "Best params:  {'C': 10, 'epsilon': 0.01, 'gamma': 0.1, 'kernel': 'rbf'}\n",
      "Best rmse:  0.10212465856852689\n",
      "Training model:  35\n"
     ]
    },
    {
     "name": "stderr",
     "output_type": "stream",
     "text": [
      "100%|██████████████████████████████████████████████████████████████████████████████████| 80/80 [00:01<00:00, 76.62it/s]\n"
     ]
    },
    {
     "name": "stdout",
     "output_type": "stream",
     "text": [
      "Best params:  {'C': 10, 'epsilon': 0.001, 'gamma': 0.01, 'kernel': 'rbf'}\n",
      "Best rmse:  0.09103508334591276\n",
      "Training model:  36\n"
     ]
    },
    {
     "name": "stderr",
     "output_type": "stream",
     "text": [
      "100%|██████████████████████████████████████████████████████████████████████████████████| 80/80 [00:01<00:00, 76.44it/s]\n"
     ]
    },
    {
     "name": "stdout",
     "output_type": "stream",
     "text": [
      "Best params:  {'C': 10, 'epsilon': 1e-05, 'gamma': 0.01, 'kernel': 'rbf'}\n",
      "Best rmse:  0.18956829314543217\n",
      "Training model:  37\n"
     ]
    },
    {
     "name": "stderr",
     "output_type": "stream",
     "text": [
      "100%|██████████████████████████████████████████████████████████████████████████████████| 80/80 [00:01<00:00, 74.90it/s]\n"
     ]
    },
    {
     "name": "stdout",
     "output_type": "stream",
     "text": [
      "Best params:  {'C': 10, 'epsilon': 0.01, 'gamma': 1, 'kernel': 'rbf'}\n",
      "Best rmse:  0.15849088898810482\n",
      "Training model:  38\n"
     ]
    },
    {
     "name": "stderr",
     "output_type": "stream",
     "text": [
      "100%|██████████████████████████████████████████████████████████████████████████████████| 80/80 [00:01<00:00, 77.20it/s]\n"
     ]
    },
    {
     "name": "stdout",
     "output_type": "stream",
     "text": [
      "Best params:  {'C': 1000, 'epsilon': 0.1, 'gamma': 0.01, 'kernel': 'rbf'}\n",
      "Best rmse:  0.20387960011257264\n",
      "Training model:  39\n"
     ]
    },
    {
     "name": "stderr",
     "output_type": "stream",
     "text": [
      "100%|██████████████████████████████████████████████████████████████████████████████████| 80/80 [00:01<00:00, 77.18it/s]\n"
     ]
    },
    {
     "name": "stdout",
     "output_type": "stream",
     "text": [
      "Best params:  {'C': 100, 'epsilon': 0.01, 'gamma': 0.1, 'kernel': 'rbf'}\n",
      "Best rmse:  0.10818635473277265\n",
      "Training model:  40\n"
     ]
    },
    {
     "name": "stderr",
     "output_type": "stream",
     "text": [
      "100%|██████████████████████████████████████████████████████████████████████████████████| 80/80 [00:01<00:00, 77.19it/s]\n"
     ]
    },
    {
     "name": "stdout",
     "output_type": "stream",
     "text": [
      "Best params:  {'C': 1, 'epsilon': 0.01, 'gamma': 0.1, 'kernel': 'rbf'}\n",
      "Best rmse:  0.1462387404099567\n",
      "Training model:  41\n"
     ]
    },
    {
     "name": "stderr",
     "output_type": "stream",
     "text": [
      "100%|██████████████████████████████████████████████████████████████████████████████████| 80/80 [00:01<00:00, 76.94it/s]\n"
     ]
    },
    {
     "name": "stdout",
     "output_type": "stream",
     "text": [
      "Best params:  {'C': 1000, 'epsilon': 0.01, 'gamma': 0.001, 'kernel': 'rbf'}\n",
      "Best rmse:  0.11411831409752775\n",
      "Training model:  42\n"
     ]
    },
    {
     "name": "stderr",
     "output_type": "stream",
     "text": [
      "100%|██████████████████████████████████████████████████████████████████████████████████| 80/80 [00:01<00:00, 75.53it/s]\n"
     ]
    },
    {
     "name": "stdout",
     "output_type": "stream",
     "text": [
      "Best params:  {'C': 100, 'epsilon': 1e-05, 'gamma': 0.1, 'kernel': 'rbf'}\n",
      "Best rmse:  0.23572938709547625\n",
      "Training model:  43\n"
     ]
    },
    {
     "name": "stderr",
     "output_type": "stream",
     "text": [
      "100%|██████████████████████████████████████████████████████████████████████████████████| 80/80 [00:01<00:00, 76.93it/s]\n"
     ]
    },
    {
     "name": "stdout",
     "output_type": "stream",
     "text": [
      "Best params:  {'C': 1000, 'epsilon': 0.01, 'gamma': 0.001, 'kernel': 'rbf'}\n",
      "Best rmse:  0.20635728826030988\n",
      "Training model:  44\n"
     ]
    },
    {
     "name": "stderr",
     "output_type": "stream",
     "text": [
      "100%|██████████████████████████████████████████████████████████████████████████████████| 80/80 [00:01<00:00, 76.56it/s]\n"
     ]
    },
    {
     "name": "stdout",
     "output_type": "stream",
     "text": [
      "Best params:  {'C': 1, 'epsilon': 1e-05, 'gamma': 1, 'kernel': 'rbf'}\n",
      "Best rmse:  0.1579072196071158\n",
      "Training model:  45\n"
     ]
    },
    {
     "name": "stderr",
     "output_type": "stream",
     "text": [
      "100%|██████████████████████████████████████████████████████████████████████████████████| 80/80 [00:01<00:00, 76.17it/s]\n"
     ]
    },
    {
     "name": "stdout",
     "output_type": "stream",
     "text": [
      "Best params:  {'C': 100, 'epsilon': 1e-05, 'gamma': 0.01, 'kernel': 'rbf'}\n",
      "Best rmse:  0.10277280435532114\n",
      "Training model:  46\n"
     ]
    },
    {
     "name": "stderr",
     "output_type": "stream",
     "text": [
      "100%|██████████████████████████████████████████████████████████████████████████████████| 80/80 [00:01<00:00, 78.78it/s]\n"
     ]
    },
    {
     "name": "stdout",
     "output_type": "stream",
     "text": [
      "Best params:  {'C': 10, 'epsilon': 1e-05, 'gamma': 0.1, 'kernel': 'rbf'}\n",
      "Best rmse:  0.10922539072347776\n",
      "Training model:  47\n"
     ]
    },
    {
     "name": "stderr",
     "output_type": "stream",
     "text": [
      "100%|██████████████████████████████████████████████████████████████████████████████████| 80/80 [00:01<00:00, 77.28it/s]\n"
     ]
    },
    {
     "name": "stdout",
     "output_type": "stream",
     "text": [
      "Best params:  {'C': 1000, 'epsilon': 0.001, 'gamma': 0.01, 'kernel': 'rbf'}\n",
      "Best rmse:  0.29293931512587956\n",
      "Training model:  48\n"
     ]
    },
    {
     "name": "stderr",
     "output_type": "stream",
     "text": [
      "100%|██████████████████████████████████████████████████████████████████████████████████| 80/80 [00:01<00:00, 77.19it/s]\n"
     ]
    },
    {
     "name": "stdout",
     "output_type": "stream",
     "text": [
      "Best params:  {'C': 1000, 'epsilon': 0.01, 'gamma': 0.01, 'kernel': 'rbf'}\n",
      "Best rmse:  0.16501591048803574\n",
      "Training model:  49\n"
     ]
    },
    {
     "name": "stderr",
     "output_type": "stream",
     "text": [
      "100%|██████████████████████████████████████████████████████████████████████████████████| 80/80 [00:01<00:00, 77.59it/s]\n"
     ]
    },
    {
     "name": "stdout",
     "output_type": "stream",
     "text": [
      "Best params:  {'C': 100, 'epsilon': 0.01, 'gamma': 0.1, 'kernel': 'rbf'}\n",
      "Best rmse:  0.13314267889095377\n",
      "Training model:  50\n"
     ]
    },
    {
     "name": "stderr",
     "output_type": "stream",
     "text": [
      "100%|██████████████████████████████████████████████████████████████████████████████████| 80/80 [00:01<00:00, 78.25it/s]\n"
     ]
    },
    {
     "name": "stdout",
     "output_type": "stream",
     "text": [
      "Best params:  {'C': 1000, 'epsilon': 0.01, 'gamma': 0.001, 'kernel': 'rbf'}\n",
      "Best rmse:  0.14735414995401414\n",
      "Training model:  51\n"
     ]
    },
    {
     "name": "stderr",
     "output_type": "stream",
     "text": [
      "100%|██████████████████████████████████████████████████████████████████████████████████| 80/80 [00:01<00:00, 76.94it/s]\n"
     ]
    },
    {
     "name": "stdout",
     "output_type": "stream",
     "text": [
      "Best params:  {'C': 10, 'epsilon': 0.1, 'gamma': 0.1, 'kernel': 'rbf'}\n",
      "Best rmse:  0.15375012884505485\n",
      "Training model:  52\n"
     ]
    },
    {
     "name": "stderr",
     "output_type": "stream",
     "text": [
      "100%|██████████████████████████████████████████████████████████████████████████████████| 80/80 [00:01<00:00, 77.06it/s]\n"
     ]
    },
    {
     "name": "stdout",
     "output_type": "stream",
     "text": [
      "Best params:  {'C': 1, 'epsilon': 0.1, 'gamma': 0.1, 'kernel': 'rbf'}\n",
      "Best rmse:  0.1490978891265239\n",
      "Training model:  53\n"
     ]
    },
    {
     "name": "stderr",
     "output_type": "stream",
     "text": [
      "100%|██████████████████████████████████████████████████████████████████████████████████| 80/80 [00:01<00:00, 77.84it/s]\n"
     ]
    },
    {
     "name": "stdout",
     "output_type": "stream",
     "text": [
      "Best params:  {'C': 1000, 'epsilon': 0.01, 'gamma': 0.001, 'kernel': 'rbf'}\n",
      "Best rmse:  0.22670177917833365\n",
      "Training model:  54\n"
     ]
    },
    {
     "name": "stderr",
     "output_type": "stream",
     "text": [
      "100%|██████████████████████████████████████████████████████████████████████████████████| 80/80 [00:01<00:00, 77.99it/s]\n"
     ]
    },
    {
     "name": "stdout",
     "output_type": "stream",
     "text": [
      "Best params:  {'C': 10, 'epsilon': 0.0001, 'gamma': 1, 'kernel': 'rbf'}\n",
      "Best rmse:  0.10756076782004695\n",
      "Training model:  55\n"
     ]
    },
    {
     "name": "stderr",
     "output_type": "stream",
     "text": [
      "100%|██████████████████████████████████████████████████████████████████████████████████| 80/80 [00:01<00:00, 78.37it/s]\n"
     ]
    },
    {
     "name": "stdout",
     "output_type": "stream",
     "text": [
      "Best params:  {'C': 1000, 'epsilon': 0.1, 'gamma': 0.001, 'kernel': 'rbf'}\n",
      "Best rmse:  0.18499100683746308\n",
      "Training model:  56\n"
     ]
    },
    {
     "name": "stderr",
     "output_type": "stream",
     "text": [
      "100%|██████████████████████████████████████████████████████████████████████████████████| 80/80 [00:01<00:00, 76.50it/s]\n"
     ]
    },
    {
     "name": "stdout",
     "output_type": "stream",
     "text": [
      "Best params:  {'C': 100, 'epsilon': 0.1, 'gamma': 0.1, 'kernel': 'rbf'}\n",
      "Best rmse:  0.16385414153683683\n",
      "Training model:  57\n"
     ]
    },
    {
     "name": "stderr",
     "output_type": "stream",
     "text": [
      "100%|██████████████████████████████████████████████████████████████████████████████████| 80/80 [00:01<00:00, 68.90it/s]\n"
     ]
    },
    {
     "name": "stdout",
     "output_type": "stream",
     "text": [
      "Best params:  {'C': 1000, 'epsilon': 0.1, 'gamma': 0.001, 'kernel': 'rbf'}\n",
      "Best rmse:  0.14336215446953426\n",
      "Training model:  58\n"
     ]
    },
    {
     "name": "stderr",
     "output_type": "stream",
     "text": [
      "100%|██████████████████████████████████████████████████████████████████████████████████| 80/80 [00:01<00:00, 76.53it/s]\n"
     ]
    },
    {
     "name": "stdout",
     "output_type": "stream",
     "text": [
      "Best params:  {'C': 1000, 'epsilon': 0.01, 'gamma': 0.001, 'kernel': 'rbf'}\n",
      "Best rmse:  0.2823959981586735\n",
      "Training model:  59\n"
     ]
    },
    {
     "name": "stderr",
     "output_type": "stream",
     "text": [
      "100%|██████████████████████████████████████████████████████████████████████████████████| 80/80 [00:01<00:00, 76.42it/s]\n"
     ]
    },
    {
     "name": "stdout",
     "output_type": "stream",
     "text": [
      "Best params:  {'C': 100, 'epsilon': 0.1, 'gamma': 0.1, 'kernel': 'rbf'}\n",
      "Best rmse:  0.1962110898603883\n",
      "Training model:  60\n"
     ]
    },
    {
     "name": "stderr",
     "output_type": "stream",
     "text": [
      "100%|██████████████████████████████████████████████████████████████████████████████████| 80/80 [00:01<00:00, 76.43it/s]\n"
     ]
    },
    {
     "name": "stdout",
     "output_type": "stream",
     "text": [
      "Best params:  {'C': 100, 'epsilon': 1e-05, 'gamma': 0.1, 'kernel': 'rbf'}\n",
      "Best rmse:  0.2557768326502817\n",
      "Training model:  61\n"
     ]
    },
    {
     "name": "stderr",
     "output_type": "stream",
     "text": [
      "100%|██████████████████████████████████████████████████████████████████████████████████| 80/80 [00:01<00:00, 77.07it/s]\n"
     ]
    },
    {
     "name": "stdout",
     "output_type": "stream",
     "text": [
      "Best params:  {'C': 1, 'epsilon': 0.01, 'gamma': 1, 'kernel': 'rbf'}\n",
      "Best rmse:  0.15436149487584078\n",
      "Training model:  62\n"
     ]
    },
    {
     "name": "stderr",
     "output_type": "stream",
     "text": [
      "100%|██████████████████████████████████████████████████████████████████████████████████| 80/80 [00:01<00:00, 76.56it/s]\n"
     ]
    },
    {
     "name": "stdout",
     "output_type": "stream",
     "text": [
      "Best params:  {'C': 1000, 'epsilon': 0.01, 'gamma': 0.01, 'kernel': 'rbf'}\n",
      "Best rmse:  0.24331228361741988\n",
      "Training model:  63\n"
     ]
    },
    {
     "name": "stderr",
     "output_type": "stream",
     "text": [
      "100%|██████████████████████████████████████████████████████████████████████████████████| 80/80 [00:01<00:00, 76.80it/s]\n"
     ]
    },
    {
     "name": "stdout",
     "output_type": "stream",
     "text": [
      "Best params:  {'C': 10, 'epsilon': 1e-05, 'gamma': 0.1, 'kernel': 'rbf'}\n",
      "Best rmse:  0.11008121117558932\n",
      "Training model:  64\n"
     ]
    },
    {
     "name": "stderr",
     "output_type": "stream",
     "text": [
      "100%|██████████████████████████████████████████████████████████████████████████████████| 80/80 [00:01<00:00, 78.11it/s]\n"
     ]
    },
    {
     "name": "stdout",
     "output_type": "stream",
     "text": [
      "Best params:  {'C': 1000, 'epsilon': 0.001, 'gamma': 0.01, 'kernel': 'rbf'}\n",
      "Best rmse:  0.16679293590630864\n",
      "Training model:  65\n"
     ]
    },
    {
     "name": "stderr",
     "output_type": "stream",
     "text": [
      "100%|██████████████████████████████████████████████████████████████████████████████████| 80/80 [00:01<00:00, 78.10it/s]\n"
     ]
    },
    {
     "name": "stdout",
     "output_type": "stream",
     "text": [
      "Best params:  {'C': 100, 'epsilon': 0.01, 'gamma': 0.001, 'kernel': 'rbf'}\n",
      "Best rmse:  0.21681231582673716\n",
      "Training model:  66\n"
     ]
    },
    {
     "name": "stderr",
     "output_type": "stream",
     "text": [
      "100%|██████████████████████████████████████████████████████████████████████████████████| 80/80 [00:01<00:00, 77.46it/s]\n"
     ]
    },
    {
     "name": "stdout",
     "output_type": "stream",
     "text": [
      "Best params:  {'C': 100, 'epsilon': 0.01, 'gamma': 0.001, 'kernel': 'rbf'}\n",
      "Best rmse:  0.22874769049023078\n",
      "Training model:  67\n"
     ]
    },
    {
     "name": "stderr",
     "output_type": "stream",
     "text": [
      "100%|██████████████████████████████████████████████████████████████████████████████████| 80/80 [00:01<00:00, 75.06it/s]\n"
     ]
    },
    {
     "name": "stdout",
     "output_type": "stream",
     "text": [
      "Best params:  {'C': 1, 'epsilon': 0.01, 'gamma': 0.1, 'kernel': 'rbf'}\n",
      "Best rmse:  0.1276704252061844\n",
      "Training model:  68\n"
     ]
    },
    {
     "name": "stderr",
     "output_type": "stream",
     "text": [
      "100%|██████████████████████████████████████████████████████████████████████████████████| 80/80 [00:01<00:00, 77.32it/s]\n"
     ]
    },
    {
     "name": "stdout",
     "output_type": "stream",
     "text": [
      "Best params:  {'C': 1000, 'epsilon': 1e-05, 'gamma': 0.001, 'kernel': 'rbf'}\n",
      "Best rmse:  0.26355723500390066\n",
      "Training model:  69\n"
     ]
    },
    {
     "name": "stderr",
     "output_type": "stream",
     "text": [
      "100%|██████████████████████████████████████████████████████████████████████████████████| 80/80 [00:01<00:00, 76.18it/s]\n"
     ]
    },
    {
     "name": "stdout",
     "output_type": "stream",
     "text": [
      "Best params:  {'C': 100, 'epsilon': 0.001, 'gamma': 0.1, 'kernel': 'rbf'}\n",
      "Best rmse:  0.128649801343119\n",
      "Training model:  70\n"
     ]
    },
    {
     "name": "stderr",
     "output_type": "stream",
     "text": [
      "100%|██████████████████████████████████████████████████████████████████████████████████| 80/80 [00:01<00:00, 77.20it/s]\n"
     ]
    },
    {
     "name": "stdout",
     "output_type": "stream",
     "text": [
      "Best params:  {'C': 1000, 'epsilon': 0.1, 'gamma': 0.01, 'kernel': 'rbf'}\n",
      "Best rmse:  0.20276567583160238\n",
      "Training model:  71\n"
     ]
    },
    {
     "name": "stderr",
     "output_type": "stream",
     "text": [
      "100%|██████████████████████████████████████████████████████████████████████████████████| 80/80 [00:01<00:00, 76.84it/s]\n"
     ]
    },
    {
     "name": "stdout",
     "output_type": "stream",
     "text": [
      "Best params:  {'C': 100, 'epsilon': 1e-05, 'gamma': 0.1, 'kernel': 'rbf'}\n",
      "Best rmse:  0.10095345480784164\n",
      "Training model:  72\n"
     ]
    },
    {
     "name": "stderr",
     "output_type": "stream",
     "text": [
      "100%|██████████████████████████████████████████████████████████████████████████████████| 80/80 [00:01<00:00, 76.30it/s]\n"
     ]
    },
    {
     "name": "stdout",
     "output_type": "stream",
     "text": [
      "Best params:  {'C': 10, 'epsilon': 0.01, 'gamma': 0.1, 'kernel': 'rbf'}\n",
      "Best rmse:  0.11315052472354929\n",
      "Training model:  73\n"
     ]
    },
    {
     "name": "stderr",
     "output_type": "stream",
     "text": [
      "100%|██████████████████████████████████████████████████████████████████████████████████| 80/80 [00:01<00:00, 75.41it/s]\n"
     ]
    },
    {
     "name": "stdout",
     "output_type": "stream",
     "text": [
      "Best params:  {'C': 1000, 'epsilon': 0.01, 'gamma': 0.001, 'kernel': 'rbf'}\n",
      "Best rmse:  0.14477305971209575\n",
      "Training model:  74\n"
     ]
    },
    {
     "name": "stderr",
     "output_type": "stream",
     "text": [
      "100%|██████████████████████████████████████████████████████████████████████████████████| 80/80 [00:01<00:00, 77.32it/s]\n"
     ]
    },
    {
     "name": "stdout",
     "output_type": "stream",
     "text": [
      "Best params:  {'C': 1000, 'epsilon': 0.1, 'gamma': 0.001, 'kernel': 'rbf'}\n",
      "Best rmse:  0.16579945233838597\n",
      "Training model:  75\n"
     ]
    },
    {
     "name": "stderr",
     "output_type": "stream",
     "text": [
      "100%|██████████████████████████████████████████████████████████████████████████████████| 80/80 [00:01<00:00, 77.77it/s]\n"
     ]
    },
    {
     "name": "stdout",
     "output_type": "stream",
     "text": [
      "Best params:  {'C': 10, 'epsilon': 0.0001, 'gamma': 1, 'kernel': 'rbf'}\n",
      "Best rmse:  0.10189942128839642\n",
      "Training model:  76\n"
     ]
    },
    {
     "name": "stderr",
     "output_type": "stream",
     "text": [
      "100%|██████████████████████████████████████████████████████████████████████████████████| 80/80 [00:01<00:00, 77.69it/s]\n"
     ]
    },
    {
     "name": "stdout",
     "output_type": "stream",
     "text": [
      "Best params:  {'C': 1000, 'epsilon': 1e-05, 'gamma': 0.01, 'kernel': 'rbf'}\n",
      "Best rmse:  0.22346320231498434\n",
      "Training model:  77\n"
     ]
    },
    {
     "name": "stderr",
     "output_type": "stream",
     "text": [
      "100%|██████████████████████████████████████████████████████████████████████████████████| 80/80 [00:01<00:00, 76.29it/s]\n"
     ]
    },
    {
     "name": "stdout",
     "output_type": "stream",
     "text": [
      "Best params:  {'C': 1000, 'epsilon': 0.1, 'gamma': 0.001, 'kernel': 'rbf'}\n",
      "Best rmse:  0.16254424078565907\n",
      "Training model:  78\n"
     ]
    },
    {
     "name": "stderr",
     "output_type": "stream",
     "text": [
      "100%|██████████████████████████████████████████████████████████████████████████████████| 80/80 [00:01<00:00, 77.85it/s]\n"
     ]
    },
    {
     "name": "stdout",
     "output_type": "stream",
     "text": [
      "Best params:  {'C': 100, 'epsilon': 0.01, 'gamma': 0.1, 'kernel': 'rbf'}\n",
      "Best rmse:  0.13617267214985046\n",
      "Training model:  79\n"
     ]
    },
    {
     "name": "stderr",
     "output_type": "stream",
     "text": [
      "100%|██████████████████████████████████████████████████████████████████████████████████| 80/80 [00:01<00:00, 77.83it/s]\n"
     ]
    },
    {
     "name": "stdout",
     "output_type": "stream",
     "text": [
      "Best params:  {'C': 1000, 'epsilon': 0.1, 'gamma': 0.01, 'kernel': 'rbf'}\n",
      "Best rmse:  0.2542487989470152\n",
      "Training model:  80\n"
     ]
    },
    {
     "name": "stderr",
     "output_type": "stream",
     "text": [
      "100%|██████████████████████████████████████████████████████████████████████████████████| 80/80 [00:01<00:00, 78.23it/s]\n"
     ]
    },
    {
     "name": "stdout",
     "output_type": "stream",
     "text": [
      "Best params:  {'C': 10, 'epsilon': 0.001, 'gamma': 0.1, 'kernel': 'rbf'}\n",
      "Best rmse:  0.12806944614844298\n",
      "Training model:  81\n"
     ]
    },
    {
     "name": "stderr",
     "output_type": "stream",
     "text": [
      "100%|██████████████████████████████████████████████████████████████████████████████████| 80/80 [00:01<00:00, 76.17it/s]\n"
     ]
    },
    {
     "name": "stdout",
     "output_type": "stream",
     "text": [
      "Best params:  {'C': 1000, 'epsilon': 0.0001, 'gamma': 0.01, 'kernel': 'rbf'}\n",
      "Best rmse:  0.2114738748928886\n",
      "Training model:  82\n"
     ]
    },
    {
     "name": "stderr",
     "output_type": "stream",
     "text": [
      "100%|██████████████████████████████████████████████████████████████████████████████████| 80/80 [00:01<00:00, 75.55it/s]\n"
     ]
    },
    {
     "name": "stdout",
     "output_type": "stream",
     "text": [
      "Best params:  {'C': 1000, 'epsilon': 0.01, 'gamma': 0.01, 'kernel': 'rbf'}\n",
      "Best rmse:  0.16927058669458822\n",
      "Training model:  83\n"
     ]
    },
    {
     "name": "stderr",
     "output_type": "stream",
     "text": [
      "100%|██████████████████████████████████████████████████████████████████████████████████| 80/80 [00:01<00:00, 76.56it/s]\n"
     ]
    },
    {
     "name": "stdout",
     "output_type": "stream",
     "text": [
      "Best params:  {'C': 10, 'epsilon': 0.0001, 'gamma': 0.01, 'kernel': 'rbf'}\n",
      "Best rmse:  0.11472455185636748\n",
      "Training model:  84\n"
     ]
    },
    {
     "name": "stderr",
     "output_type": "stream",
     "text": [
      "100%|██████████████████████████████████████████████████████████████████████████████████| 80/80 [00:01<00:00, 76.05it/s]\n"
     ]
    },
    {
     "name": "stdout",
     "output_type": "stream",
     "text": [
      "Best params:  {'C': 1, 'epsilon': 0.01, 'gamma': 1, 'kernel': 'rbf'}\n",
      "Best rmse:  0.0804507154340132\n",
      "Training model:  85\n"
     ]
    },
    {
     "name": "stderr",
     "output_type": "stream",
     "text": [
      "100%|██████████████████████████████████████████████████████████████████████████████████| 80/80 [00:01<00:00, 77.45it/s]\n"
     ]
    },
    {
     "name": "stdout",
     "output_type": "stream",
     "text": [
      "Best params:  {'C': 1000, 'epsilon': 0.1, 'gamma': 0.01, 'kernel': 'rbf'}\n",
      "Best rmse:  0.23735929589851187\n",
      "Training model:  86\n"
     ]
    },
    {
     "name": "stderr",
     "output_type": "stream",
     "text": [
      "100%|██████████████████████████████████████████████████████████████████████████████████| 80/80 [00:01<00:00, 76.56it/s]\n"
     ]
    },
    {
     "name": "stdout",
     "output_type": "stream",
     "text": [
      "Best params:  {'C': 10, 'epsilon': 0.01, 'gamma': 1, 'kernel': 'rbf'}\n",
      "Best rmse:  0.17215880710130466\n",
      "Training model:  87\n"
     ]
    },
    {
     "name": "stderr",
     "output_type": "stream",
     "text": [
      "100%|██████████████████████████████████████████████████████████████████████████████████| 80/80 [00:01<00:00, 76.70it/s]\n"
     ]
    },
    {
     "name": "stdout",
     "output_type": "stream",
     "text": [
      "Best params:  {'C': 1000, 'epsilon': 0.1, 'gamma': 0.01, 'kernel': 'rbf'}\n",
      "Best rmse:  0.1833715441313284\n",
      "Training model:  88\n"
     ]
    },
    {
     "name": "stderr",
     "output_type": "stream",
     "text": [
      "100%|██████████████████████████████████████████████████████████████████████████████████| 80/80 [00:01<00:00, 73.96it/s]\n"
     ]
    },
    {
     "name": "stdout",
     "output_type": "stream",
     "text": [
      "Best params:  {'C': 1000, 'epsilon': 0.01, 'gamma': 0.001, 'kernel': 'rbf'}\n",
      "Best rmse:  0.1276234981359905\n",
      "Training model:  89\n"
     ]
    },
    {
     "name": "stderr",
     "output_type": "stream",
     "text": [
      "100%|██████████████████████████████████████████████████████████████████████████████████| 80/80 [00:01<00:00, 76.81it/s]\n"
     ]
    },
    {
     "name": "stdout",
     "output_type": "stream",
     "text": [
      "Best params:  {'C': 10, 'epsilon': 1e-05, 'gamma': 0.1, 'kernel': 'rbf'}\n",
      "Best rmse:  0.20311940092279535\n",
      "Training model:  90\n"
     ]
    },
    {
     "name": "stderr",
     "output_type": "stream",
     "text": [
      "100%|██████████████████████████████████████████████████████████████████████████████████| 80/80 [00:01<00:00, 77.80it/s]\n"
     ]
    },
    {
     "name": "stdout",
     "output_type": "stream",
     "text": [
      "Best params:  {'C': 100, 'epsilon': 1e-05, 'gamma': 0.01, 'kernel': 'rbf'}\n",
      "Best rmse:  0.2182548505492891\n",
      "Training model:  91\n"
     ]
    },
    {
     "name": "stderr",
     "output_type": "stream",
     "text": [
      "100%|██████████████████████████████████████████████████████████████████████████████████| 80/80 [00:01<00:00, 77.19it/s]\n"
     ]
    },
    {
     "name": "stdout",
     "output_type": "stream",
     "text": [
      "Best params:  {'C': 1000, 'epsilon': 0.1, 'gamma': 0.01, 'kernel': 'rbf'}\n",
      "Best rmse:  0.15347989638712484\n",
      "Training model:  92\n"
     ]
    },
    {
     "name": "stderr",
     "output_type": "stream",
     "text": [
      "100%|██████████████████████████████████████████████████████████████████████████████████| 80/80 [00:01<00:00, 77.71it/s]\n"
     ]
    },
    {
     "name": "stdout",
     "output_type": "stream",
     "text": [
      "Best params:  {'C': 10, 'epsilon': 1e-05, 'gamma': 1, 'kernel': 'rbf'}\n",
      "Best rmse:  0.11422520688054343\n",
      "Training model:  93\n"
     ]
    },
    {
     "name": "stderr",
     "output_type": "stream",
     "text": [
      "100%|██████████████████████████████████████████████████████████████████████████████████| 80/80 [00:01<00:00, 76.80it/s]\n"
     ]
    },
    {
     "name": "stdout",
     "output_type": "stream",
     "text": [
      "Best params:  {'C': 100, 'epsilon': 0.01, 'gamma': 0.1, 'kernel': 'rbf'}\n",
      "Best rmse:  0.07744422844988008\n",
      "Training model:  94\n"
     ]
    },
    {
     "name": "stderr",
     "output_type": "stream",
     "text": [
      "100%|██████████████████████████████████████████████████████████████████████████████████| 80/80 [00:01<00:00, 77.07it/s]\n"
     ]
    },
    {
     "name": "stdout",
     "output_type": "stream",
     "text": [
      "Best params:  {'C': 100, 'epsilon': 0.1, 'gamma': 0.001, 'kernel': 'rbf'}\n",
      "Best rmse:  0.18835916152268284\n",
      "Training model:  95\n"
     ]
    },
    {
     "name": "stderr",
     "output_type": "stream",
     "text": [
      "100%|██████████████████████████████████████████████████████████████████████████████████| 80/80 [00:01<00:00, 77.32it/s]\n"
     ]
    },
    {
     "name": "stdout",
     "output_type": "stream",
     "text": [
      "Best params:  {'C': 100, 'epsilon': 0.1, 'gamma': 0.01, 'kernel': 'rbf'}\n",
      "Best rmse:  0.22203261111032144\n",
      "Training model:  96\n"
     ]
    },
    {
     "name": "stderr",
     "output_type": "stream",
     "text": [
      "100%|██████████████████████████████████████████████████████████████████████████████████| 80/80 [00:01<00:00, 76.66it/s]\n"
     ]
    },
    {
     "name": "stdout",
     "output_type": "stream",
     "text": [
      "Best params:  {'C': 10, 'epsilon': 1e-05, 'gamma': 1, 'kernel': 'rbf'}\n",
      "Best rmse:  0.21106589957102612\n",
      "Training model:  97\n"
     ]
    },
    {
     "name": "stderr",
     "output_type": "stream",
     "text": [
      "100%|██████████████████████████████████████████████████████████████████████████████████| 80/80 [00:01<00:00, 77.44it/s]\n"
     ]
    },
    {
     "name": "stdout",
     "output_type": "stream",
     "text": [
      "Best params:  {'C': 1, 'epsilon': 0.001, 'gamma': 0.1, 'kernel': 'rbf'}\n",
      "Best rmse:  0.1362415545306242\n",
      "Training model:  98\n"
     ]
    },
    {
     "name": "stderr",
     "output_type": "stream",
     "text": [
      "100%|██████████████████████████████████████████████████████████████████████████████████| 80/80 [00:01<00:00, 77.19it/s]\n"
     ]
    },
    {
     "name": "stdout",
     "output_type": "stream",
     "text": [
      "Best params:  {'C': 1000, 'epsilon': 0.01, 'gamma': 0.001, 'kernel': 'rbf'}\n",
      "Best rmse:  0.07036424816848835\n",
      "Training model:  99\n"
     ]
    },
    {
     "name": "stderr",
     "output_type": "stream",
     "text": [
      "100%|██████████████████████████████████████████████████████████████████████████████████| 80/80 [00:01<00:00, 74.77it/s]\n"
     ]
    },
    {
     "name": "stdout",
     "output_type": "stream",
     "text": [
      "Best params:  {'C': 100, 'epsilon': 0.001, 'gamma': 0.1, 'kernel': 'rbf'}\n",
      "Best rmse:  0.14456155893858716\n"
     ]
    },
    {
     "name": "stderr",
     "output_type": "stream",
     "text": [
      "100%|████████████████████████████████████████████████████████████████████████████████| 800/800 [00:47<00:00, 16.96it/s]\n"
     ]
    },
    {
     "name": "stdout",
     "output_type": "stream",
     "text": [
      "Best params:  {'comb': 'median', 'k': 2, 'n': 5}\n",
      "Best rmse:  282.0093901693298\n",
      "Time Series:  star\n",
      "\n",
      "###############################################\n",
      "\n",
      "Executing: ENSEMBLE SVR\n",
      "d:  0\n",
      "Training model:  0\n"
     ]
    },
    {
     "name": "stderr",
     "output_type": "stream",
     "text": [
      "100%|██████████████████████████████████████████████████████████████████████████████████| 80/80 [00:01<00:00, 67.47it/s]\n"
     ]
    },
    {
     "name": "stdout",
     "output_type": "stream",
     "text": [
      "Best params:  {'C': 10, 'epsilon': 0.001, 'gamma': 1, 'kernel': 'rbf'}\n",
      "Best rmse:  0.007296320160976103\n",
      "Training model:  1\n"
     ]
    },
    {
     "name": "stderr",
     "output_type": "stream",
     "text": [
      "100%|██████████████████████████████████████████████████████████████████████████████████| 80/80 [00:01<00:00, 64.54it/s]\n"
     ]
    },
    {
     "name": "stdout",
     "output_type": "stream",
     "text": [
      "Best params:  {'C': 10, 'epsilon': 0.001, 'gamma': 1, 'kernel': 'rbf'}\n",
      "Best rmse:  0.009418085556002171\n",
      "Training model:  2\n"
     ]
    },
    {
     "name": "stderr",
     "output_type": "stream",
     "text": [
      "100%|██████████████████████████████████████████████████████████████████████████████████| 80/80 [00:01<00:00, 66.03it/s]\n"
     ]
    },
    {
     "name": "stdout",
     "output_type": "stream",
     "text": [
      "Best params:  {'C': 10, 'epsilon': 0.001, 'gamma': 1, 'kernel': 'rbf'}\n",
      "Best rmse:  0.008589704370547306\n",
      "Training model:  3\n"
     ]
    },
    {
     "name": "stderr",
     "output_type": "stream",
     "text": [
      "100%|██████████████████████████████████████████████████████████████████████████████████| 80/80 [00:01<00:00, 67.58it/s]\n"
     ]
    },
    {
     "name": "stdout",
     "output_type": "stream",
     "text": [
      "Best params:  {'C': 100, 'epsilon': 0.001, 'gamma': 1, 'kernel': 'rbf'}\n",
      "Best rmse:  0.006750740307686303\n",
      "Training model:  4\n"
     ]
    },
    {
     "name": "stderr",
     "output_type": "stream",
     "text": [
      "100%|██████████████████████████████████████████████████████████████████████████████████| 80/80 [00:01<00:00, 68.20it/s]\n"
     ]
    },
    {
     "name": "stdout",
     "output_type": "stream",
     "text": [
      "Best params:  {'C': 10, 'epsilon': 0.0001, 'gamma': 1, 'kernel': 'rbf'}\n",
      "Best rmse:  0.006695881128952373\n",
      "Training model:  5\n"
     ]
    },
    {
     "name": "stderr",
     "output_type": "stream",
     "text": [
      "100%|██████████████████████████████████████████████████████████████████████████████████| 80/80 [00:01<00:00, 68.18it/s]\n"
     ]
    },
    {
     "name": "stdout",
     "output_type": "stream",
     "text": [
      "Best params:  {'C': 10, 'epsilon': 0.0001, 'gamma': 1, 'kernel': 'rbf'}\n",
      "Best rmse:  0.008054930222453526\n",
      "Training model:  6\n"
     ]
    },
    {
     "name": "stderr",
     "output_type": "stream",
     "text": [
      "100%|██████████████████████████████████████████████████████████████████████████████████| 80/80 [00:01<00:00, 67.66it/s]\n"
     ]
    },
    {
     "name": "stdout",
     "output_type": "stream",
     "text": [
      "Best params:  {'C': 10, 'epsilon': 1e-05, 'gamma': 1, 'kernel': 'rbf'}\n",
      "Best rmse:  0.006416507337966778\n",
      "Training model:  7\n"
     ]
    },
    {
     "name": "stderr",
     "output_type": "stream",
     "text": [
      "100%|██████████████████████████████████████████████████████████████████████████████████| 80/80 [00:01<00:00, 67.48it/s]\n"
     ]
    },
    {
     "name": "stdout",
     "output_type": "stream",
     "text": [
      "Best params:  {'C': 10, 'epsilon': 1e-05, 'gamma': 1, 'kernel': 'rbf'}\n",
      "Best rmse:  0.006212527471255888\n",
      "Training model:  8\n"
     ]
    },
    {
     "name": "stderr",
     "output_type": "stream",
     "text": [
      "100%|██████████████████████████████████████████████████████████████████████████████████| 80/80 [00:01<00:00, 68.15it/s]\n"
     ]
    },
    {
     "name": "stdout",
     "output_type": "stream",
     "text": [
      "Best params:  {'C': 10, 'epsilon': 0.0001, 'gamma': 1, 'kernel': 'rbf'}\n",
      "Best rmse:  0.007724561872602162\n",
      "Training model:  9\n"
     ]
    },
    {
     "name": "stderr",
     "output_type": "stream",
     "text": [
      "100%|██████████████████████████████████████████████████████████████████████████████████| 80/80 [00:01<00:00, 63.65it/s]\n"
     ]
    },
    {
     "name": "stdout",
     "output_type": "stream",
     "text": [
      "Best params:  {'C': 10, 'epsilon': 0.001, 'gamma': 1, 'kernel': 'rbf'}\n",
      "Best rmse:  0.007044025333685783\n",
      "Training model:  10\n"
     ]
    },
    {
     "name": "stderr",
     "output_type": "stream",
     "text": [
      "100%|██████████████████████████████████████████████████████████████████████████████████| 80/80 [00:01<00:00, 68.67it/s]\n"
     ]
    },
    {
     "name": "stdout",
     "output_type": "stream",
     "text": [
      "Best params:  {'C': 10, 'epsilon': 1e-05, 'gamma': 1, 'kernel': 'rbf'}\n",
      "Best rmse:  0.00732076345605892\n",
      "Training model:  11\n"
     ]
    },
    {
     "name": "stderr",
     "output_type": "stream",
     "text": [
      "100%|██████████████████████████████████████████████████████████████████████████████████| 80/80 [00:01<00:00, 67.38it/s]\n"
     ]
    },
    {
     "name": "stdout",
     "output_type": "stream",
     "text": [
      "Best params:  {'C': 10, 'epsilon': 0.001, 'gamma': 1, 'kernel': 'rbf'}\n",
      "Best rmse:  0.007823512557514576\n",
      "Training model:  12\n"
     ]
    },
    {
     "name": "stderr",
     "output_type": "stream",
     "text": [
      "100%|██████████████████████████████████████████████████████████████████████████████████| 80/80 [00:01<00:00, 68.97it/s]\n"
     ]
    },
    {
     "name": "stdout",
     "output_type": "stream",
     "text": [
      "Best params:  {'C': 10, 'epsilon': 1e-05, 'gamma': 1, 'kernel': 'rbf'}\n",
      "Best rmse:  0.006731969782462263\n",
      "Training model:  13\n"
     ]
    },
    {
     "name": "stderr",
     "output_type": "stream",
     "text": [
      "100%|██████████████████████████████████████████████████████████████████████████████████| 80/80 [00:01<00:00, 68.07it/s]\n"
     ]
    },
    {
     "name": "stdout",
     "output_type": "stream",
     "text": [
      "Best params:  {'C': 10, 'epsilon': 0.0001, 'gamma': 1, 'kernel': 'rbf'}\n",
      "Best rmse:  0.0069899199152467315\n",
      "Training model:  14\n"
     ]
    },
    {
     "name": "stderr",
     "output_type": "stream",
     "text": [
      "100%|██████████████████████████████████████████████████████████████████████████████████| 80/80 [00:01<00:00, 67.55it/s]\n"
     ]
    },
    {
     "name": "stdout",
     "output_type": "stream",
     "text": [
      "Best params:  {'C': 10, 'epsilon': 0.0001, 'gamma': 1, 'kernel': 'rbf'}\n",
      "Best rmse:  0.006476876224038373\n",
      "Training model:  15\n"
     ]
    },
    {
     "name": "stderr",
     "output_type": "stream",
     "text": [
      "100%|██████████████████████████████████████████████████████████████████████████████████| 80/80 [00:01<00:00, 66.30it/s]\n"
     ]
    },
    {
     "name": "stdout",
     "output_type": "stream",
     "text": [
      "Best params:  {'C': 10, 'epsilon': 0.001, 'gamma': 1, 'kernel': 'rbf'}\n",
      "Best rmse:  0.0070234268448354535\n",
      "Training model:  16\n"
     ]
    },
    {
     "name": "stderr",
     "output_type": "stream",
     "text": [
      "100%|██████████████████████████████████████████████████████████████████████████████████| 80/80 [00:01<00:00, 64.66it/s]\n"
     ]
    },
    {
     "name": "stdout",
     "output_type": "stream",
     "text": [
      "Best params:  {'C': 10, 'epsilon': 0.001, 'gamma': 1, 'kernel': 'rbf'}\n",
      "Best rmse:  0.005159438912930445\n",
      "Training model:  17\n"
     ]
    },
    {
     "name": "stderr",
     "output_type": "stream",
     "text": [
      "100%|██████████████████████████████████████████████████████████████████████████████████| 80/80 [00:01<00:00, 64.37it/s]\n"
     ]
    },
    {
     "name": "stdout",
     "output_type": "stream",
     "text": [
      "Best params:  {'C': 10, 'epsilon': 0.001, 'gamma': 1, 'kernel': 'rbf'}\n",
      "Best rmse:  0.0065845200861607955\n",
      "Training model:  18\n"
     ]
    },
    {
     "name": "stderr",
     "output_type": "stream",
     "text": [
      "100%|██████████████████████████████████████████████████████████████████████████████████| 80/80 [00:01<00:00, 64.24it/s]\n"
     ]
    },
    {
     "name": "stdout",
     "output_type": "stream",
     "text": [
      "Best params:  {'C': 10, 'epsilon': 1e-05, 'gamma': 1, 'kernel': 'rbf'}\n",
      "Best rmse:  0.0078006540790926445\n",
      "Training model:  19\n"
     ]
    },
    {
     "name": "stderr",
     "output_type": "stream",
     "text": [
      "100%|██████████████████████████████████████████████████████████████████████████████████| 80/80 [00:01<00:00, 67.77it/s]\n"
     ]
    },
    {
     "name": "stdout",
     "output_type": "stream",
     "text": [
      "Best params:  {'C': 1, 'epsilon': 0.001, 'gamma': 1, 'kernel': 'rbf'}\n",
      "Best rmse:  0.009287967501698614\n",
      "Training model:  20\n"
     ]
    },
    {
     "name": "stderr",
     "output_type": "stream",
     "text": [
      "100%|██████████████████████████████████████████████████████████████████████████████████| 80/80 [00:01<00:00, 68.24it/s]\n"
     ]
    },
    {
     "name": "stdout",
     "output_type": "stream",
     "text": [
      "Best params:  {'C': 10, 'epsilon': 0.001, 'gamma': 1, 'kernel': 'rbf'}\n",
      "Best rmse:  0.006549378707675021\n",
      "Training model:  21\n"
     ]
    },
    {
     "name": "stderr",
     "output_type": "stream",
     "text": [
      "100%|██████████████████████████████████████████████████████████████████████████████████| 80/80 [00:01<00:00, 68.37it/s]\n"
     ]
    },
    {
     "name": "stdout",
     "output_type": "stream",
     "text": [
      "Best params:  {'C': 10, 'epsilon': 0.001, 'gamma': 1, 'kernel': 'rbf'}\n",
      "Best rmse:  0.007764387582634849\n",
      "Training model:  22\n"
     ]
    },
    {
     "name": "stderr",
     "output_type": "stream",
     "text": [
      "100%|██████████████████████████████████████████████████████████████████████████████████| 80/80 [00:01<00:00, 68.78it/s]\n"
     ]
    },
    {
     "name": "stdout",
     "output_type": "stream",
     "text": [
      "Best params:  {'C': 100, 'epsilon': 0.001, 'gamma': 1, 'kernel': 'rbf'}\n",
      "Best rmse:  0.006138270875309083\n",
      "Training model:  23\n"
     ]
    },
    {
     "name": "stderr",
     "output_type": "stream",
     "text": [
      "100%|██████████████████████████████████████████████████████████████████████████████████| 80/80 [00:01<00:00, 68.48it/s]\n"
     ]
    },
    {
     "name": "stdout",
     "output_type": "stream",
     "text": [
      "Best params:  {'C': 10, 'epsilon': 1e-05, 'gamma': 1, 'kernel': 'rbf'}\n",
      "Best rmse:  0.00761806939151229\n",
      "Training model:  24\n"
     ]
    },
    {
     "name": "stderr",
     "output_type": "stream",
     "text": [
      "100%|██████████████████████████████████████████████████████████████████████████████████| 80/80 [00:01<00:00, 67.79it/s]\n"
     ]
    },
    {
     "name": "stdout",
     "output_type": "stream",
     "text": [
      "Best params:  {'C': 10, 'epsilon': 0.001, 'gamma': 1, 'kernel': 'rbf'}\n",
      "Best rmse:  0.008016129200507396\n",
      "Training model:  25\n"
     ]
    },
    {
     "name": "stderr",
     "output_type": "stream",
     "text": [
      "100%|██████████████████████████████████████████████████████████████████████████████████| 80/80 [00:01<00:00, 67.76it/s]\n"
     ]
    },
    {
     "name": "stdout",
     "output_type": "stream",
     "text": [
      "Best params:  {'C': 10, 'epsilon': 0.001, 'gamma': 1, 'kernel': 'rbf'}\n",
      "Best rmse:  0.006100830708284576\n",
      "Training model:  26\n"
     ]
    },
    {
     "name": "stderr",
     "output_type": "stream",
     "text": [
      "100%|██████████████████████████████████████████████████████████████████████████████████| 80/80 [00:01<00:00, 68.79it/s]\n"
     ]
    },
    {
     "name": "stdout",
     "output_type": "stream",
     "text": [
      "Best params:  {'C': 10, 'epsilon': 0.001, 'gamma': 1, 'kernel': 'rbf'}\n",
      "Best rmse:  0.00793271897651459\n",
      "Training model:  27\n"
     ]
    },
    {
     "name": "stderr",
     "output_type": "stream",
     "text": [
      "100%|██████████████████████████████████████████████████████████████████████████████████| 80/80 [00:01<00:00, 68.07it/s]\n"
     ]
    },
    {
     "name": "stdout",
     "output_type": "stream",
     "text": [
      "Best params:  {'C': 10, 'epsilon': 0.001, 'gamma': 1, 'kernel': 'rbf'}\n",
      "Best rmse:  0.006993980667859797\n",
      "Training model:  28\n"
     ]
    },
    {
     "name": "stderr",
     "output_type": "stream",
     "text": [
      "100%|██████████████████████████████████████████████████████████████████████████████████| 80/80 [00:01<00:00, 68.06it/s]\n"
     ]
    },
    {
     "name": "stdout",
     "output_type": "stream",
     "text": [
      "Best params:  {'C': 10, 'epsilon': 0.001, 'gamma': 1, 'kernel': 'rbf'}\n",
      "Best rmse:  0.005848645912994929\n",
      "Training model:  29\n"
     ]
    },
    {
     "name": "stderr",
     "output_type": "stream",
     "text": [
      "100%|██████████████████████████████████████████████████████████████████████████████████| 80/80 [00:01<00:00, 66.80it/s]\n"
     ]
    },
    {
     "name": "stdout",
     "output_type": "stream",
     "text": [
      "Best params:  {'C': 10, 'epsilon': 0.001, 'gamma': 1, 'kernel': 'rbf'}\n",
      "Best rmse:  0.007300682919716631\n",
      "Training model:  30\n"
     ]
    },
    {
     "name": "stderr",
     "output_type": "stream",
     "text": [
      "100%|██████████████████████████████████████████████████████████████████████████████████| 80/80 [00:01<00:00, 67.78it/s]\n"
     ]
    },
    {
     "name": "stdout",
     "output_type": "stream",
     "text": [
      "Best params:  {'C': 10, 'epsilon': 0.0001, 'gamma': 1, 'kernel': 'rbf'}\n",
      "Best rmse:  0.008531734106427633\n",
      "Training model:  31\n"
     ]
    },
    {
     "name": "stderr",
     "output_type": "stream",
     "text": [
      "100%|██████████████████████████████████████████████████████████████████████████████████| 80/80 [00:01<00:00, 68.27it/s]\n"
     ]
    },
    {
     "name": "stdout",
     "output_type": "stream",
     "text": [
      "Best params:  {'C': 10, 'epsilon': 0.001, 'gamma': 1, 'kernel': 'rbf'}\n",
      "Best rmse:  0.008257929912123586\n",
      "Training model:  32\n"
     ]
    },
    {
     "name": "stderr",
     "output_type": "stream",
     "text": [
      "100%|██████████████████████████████████████████████████████████████████████████████████| 80/80 [00:01<00:00, 68.88it/s]\n"
     ]
    },
    {
     "name": "stdout",
     "output_type": "stream",
     "text": [
      "Best params:  {'C': 10, 'epsilon': 0.0001, 'gamma': 1, 'kernel': 'rbf'}\n",
      "Best rmse:  0.007642478339886756\n",
      "Training model:  33\n"
     ]
    },
    {
     "name": "stderr",
     "output_type": "stream",
     "text": [
      "100%|██████████████████████████████████████████████████████████████████████████████████| 80/80 [00:01<00:00, 68.17it/s]\n"
     ]
    },
    {
     "name": "stdout",
     "output_type": "stream",
     "text": [
      "Best params:  {'C': 10, 'epsilon': 1e-05, 'gamma': 1, 'kernel': 'rbf'}\n",
      "Best rmse:  0.007258405737393983\n",
      "Training model:  34\n"
     ]
    },
    {
     "name": "stderr",
     "output_type": "stream",
     "text": [
      "100%|██████████████████████████████████████████████████████████████████████████████████| 80/80 [00:01<00:00, 68.28it/s]\n"
     ]
    },
    {
     "name": "stdout",
     "output_type": "stream",
     "text": [
      "Best params:  {'C': 100, 'epsilon': 0.0001, 'gamma': 1, 'kernel': 'rbf'}\n",
      "Best rmse:  0.008442919036178522\n",
      "Training model:  35\n"
     ]
    },
    {
     "name": "stderr",
     "output_type": "stream",
     "text": [
      "100%|██████████████████████████████████████████████████████████████████████████████████| 80/80 [00:01<00:00, 68.37it/s]\n"
     ]
    },
    {
     "name": "stdout",
     "output_type": "stream",
     "text": [
      "Best params:  {'C': 100, 'epsilon': 0.0001, 'gamma': 1, 'kernel': 'rbf'}\n",
      "Best rmse:  0.006126285005493356\n",
      "Training model:  36\n"
     ]
    },
    {
     "name": "stderr",
     "output_type": "stream",
     "text": [
      "100%|██████████████████████████████████████████████████████████████████████████████████| 80/80 [00:01<00:00, 68.48it/s]\n"
     ]
    },
    {
     "name": "stdout",
     "output_type": "stream",
     "text": [
      "Best params:  {'C': 10, 'epsilon': 0.001, 'gamma': 1, 'kernel': 'rbf'}\n",
      "Best rmse:  0.007573094215357886\n",
      "Training model:  37\n"
     ]
    },
    {
     "name": "stderr",
     "output_type": "stream",
     "text": [
      "100%|██████████████████████████████████████████████████████████████████████████████████| 80/80 [00:01<00:00, 68.99it/s]\n"
     ]
    },
    {
     "name": "stdout",
     "output_type": "stream",
     "text": [
      "Best params:  {'C': 10, 'epsilon': 1e-05, 'gamma': 1, 'kernel': 'rbf'}\n",
      "Best rmse:  0.006226190980627189\n",
      "Training model:  38\n"
     ]
    },
    {
     "name": "stderr",
     "output_type": "stream",
     "text": [
      "100%|██████████████████████████████████████████████████████████████████████████████████| 80/80 [00:01<00:00, 68.28it/s]\n"
     ]
    },
    {
     "name": "stdout",
     "output_type": "stream",
     "text": [
      "Best params:  {'C': 10, 'epsilon': 1e-05, 'gamma': 1, 'kernel': 'rbf'}\n",
      "Best rmse:  0.006128384130688552\n",
      "Training model:  39\n"
     ]
    },
    {
     "name": "stderr",
     "output_type": "stream",
     "text": [
      "100%|██████████████████████████████████████████████████████████████████████████████████| 80/80 [00:01<00:00, 68.37it/s]\n"
     ]
    },
    {
     "name": "stdout",
     "output_type": "stream",
     "text": [
      "Best params:  {'C': 10, 'epsilon': 0.0001, 'gamma': 1, 'kernel': 'rbf'}\n",
      "Best rmse:  0.006475429059621538\n",
      "Training model:  40\n"
     ]
    },
    {
     "name": "stderr",
     "output_type": "stream",
     "text": [
      "100%|██████████████████████████████████████████████████████████████████████████████████| 80/80 [00:01<00:00, 67.73it/s]\n"
     ]
    },
    {
     "name": "stdout",
     "output_type": "stream",
     "text": [
      "Best params:  {'C': 10, 'epsilon': 0.001, 'gamma': 0.1, 'kernel': 'rbf'}\n",
      "Best rmse:  0.00871718989293615\n",
      "Training model:  41\n"
     ]
    },
    {
     "name": "stderr",
     "output_type": "stream",
     "text": [
      "100%|██████████████████████████████████████████████████████████████████████████████████| 80/80 [00:01<00:00, 68.27it/s]\n"
     ]
    },
    {
     "name": "stdout",
     "output_type": "stream",
     "text": [
      "Best params:  {'C': 10, 'epsilon': 0.001, 'gamma': 1, 'kernel': 'rbf'}\n",
      "Best rmse:  0.007587144854111528\n",
      "Training model:  42\n"
     ]
    },
    {
     "name": "stderr",
     "output_type": "stream",
     "text": [
      "100%|██████████████████████████████████████████████████████████████████████████████████| 80/80 [00:01<00:00, 67.96it/s]\n"
     ]
    },
    {
     "name": "stdout",
     "output_type": "stream",
     "text": [
      "Best params:  {'C': 10, 'epsilon': 0.001, 'gamma': 1, 'kernel': 'rbf'}\n",
      "Best rmse:  0.006492531618080707\n",
      "Training model:  43\n"
     ]
    },
    {
     "name": "stderr",
     "output_type": "stream",
     "text": [
      "100%|██████████████████████████████████████████████████████████████████████████████████| 80/80 [00:01<00:00, 67.87it/s]\n"
     ]
    },
    {
     "name": "stdout",
     "output_type": "stream",
     "text": [
      "Best params:  {'C': 10, 'epsilon': 0.001, 'gamma': 1, 'kernel': 'rbf'}\n",
      "Best rmse:  0.007302207385091639\n",
      "Training model:  44\n"
     ]
    },
    {
     "name": "stderr",
     "output_type": "stream",
     "text": [
      "100%|██████████████████████████████████████████████████████████████████████████████████| 80/80 [00:01<00:00, 68.16it/s]\n"
     ]
    },
    {
     "name": "stdout",
     "output_type": "stream",
     "text": [
      "Best params:  {'C': 10, 'epsilon': 0.0001, 'gamma': 1, 'kernel': 'rbf'}\n",
      "Best rmse:  0.00815779106883571\n",
      "Training model:  45\n"
     ]
    },
    {
     "name": "stderr",
     "output_type": "stream",
     "text": [
      "100%|██████████████████████████████████████████████████████████████████████████████████| 80/80 [00:01<00:00, 68.76it/s]\n"
     ]
    },
    {
     "name": "stdout",
     "output_type": "stream",
     "text": [
      "Best params:  {'C': 10, 'epsilon': 0.001, 'gamma': 1, 'kernel': 'rbf'}\n",
      "Best rmse:  0.0085157433361898\n",
      "Training model:  46\n"
     ]
    },
    {
     "name": "stderr",
     "output_type": "stream",
     "text": [
      "100%|██████████████████████████████████████████████████████████████████████████████████| 80/80 [00:01<00:00, 69.91it/s]\n"
     ]
    },
    {
     "name": "stdout",
     "output_type": "stream",
     "text": [
      "Best params:  {'C': 10, 'epsilon': 0.0001, 'gamma': 1, 'kernel': 'rbf'}\n",
      "Best rmse:  0.0069570586099973125\n",
      "Training model:  47\n"
     ]
    },
    {
     "name": "stderr",
     "output_type": "stream",
     "text": [
      "100%|██████████████████████████████████████████████████████████████████████████████████| 80/80 [00:01<00:00, 68.86it/s]\n"
     ]
    },
    {
     "name": "stdout",
     "output_type": "stream",
     "text": [
      "Best params:  {'C': 10, 'epsilon': 0.0001, 'gamma': 1, 'kernel': 'rbf'}\n",
      "Best rmse:  0.006277404763869959\n",
      "Training model:  48\n"
     ]
    },
    {
     "name": "stderr",
     "output_type": "stream",
     "text": [
      "100%|██████████████████████████████████████████████████████████████████████████████████| 80/80 [00:01<00:00, 67.75it/s]\n"
     ]
    },
    {
     "name": "stdout",
     "output_type": "stream",
     "text": [
      "Best params:  {'C': 10, 'epsilon': 0.001, 'gamma': 1, 'kernel': 'rbf'}\n",
      "Best rmse:  0.006523613684370207\n",
      "Training model:  49\n"
     ]
    },
    {
     "name": "stderr",
     "output_type": "stream",
     "text": [
      "100%|██████████████████████████████████████████████████████████████████████████████████| 80/80 [00:01<00:00, 68.48it/s]\n"
     ]
    },
    {
     "name": "stdout",
     "output_type": "stream",
     "text": [
      "Best params:  {'C': 10, 'epsilon': 0.001, 'gamma': 1, 'kernel': 'rbf'}\n",
      "Best rmse:  0.007986499356544404\n",
      "Training model:  50\n"
     ]
    },
    {
     "name": "stderr",
     "output_type": "stream",
     "text": [
      "100%|██████████████████████████████████████████████████████████████████████████████████| 80/80 [00:01<00:00, 68.88it/s]\n"
     ]
    },
    {
     "name": "stdout",
     "output_type": "stream",
     "text": [
      "Best params:  {'C': 10, 'epsilon': 0.0001, 'gamma': 1, 'kernel': 'rbf'}\n",
      "Best rmse:  0.006681006946731925\n",
      "Training model:  51\n"
     ]
    },
    {
     "name": "stderr",
     "output_type": "stream",
     "text": [
      "100%|██████████████████████████████████████████████████████████████████████████████████| 80/80 [00:01<00:00, 68.37it/s]\n"
     ]
    },
    {
     "name": "stdout",
     "output_type": "stream",
     "text": [
      "Best params:  {'C': 10, 'epsilon': 1e-05, 'gamma': 1, 'kernel': 'rbf'}\n",
      "Best rmse:  0.006401118675000123\n",
      "Training model:  52\n"
     ]
    },
    {
     "name": "stderr",
     "output_type": "stream",
     "text": [
      "100%|██████████████████████████████████████████████████████████████████████████████████| 80/80 [00:01<00:00, 67.96it/s]\n"
     ]
    },
    {
     "name": "stdout",
     "output_type": "stream",
     "text": [
      "Best params:  {'C': 10, 'epsilon': 0.001, 'gamma': 1, 'kernel': 'rbf'}\n",
      "Best rmse:  0.007404524857457618\n",
      "Training model:  53\n"
     ]
    },
    {
     "name": "stderr",
     "output_type": "stream",
     "text": [
      "100%|██████████████████████████████████████████████████████████████████████████████████| 80/80 [00:01<00:00, 67.90it/s]\n"
     ]
    },
    {
     "name": "stdout",
     "output_type": "stream",
     "text": [
      "Best params:  {'C': 10, 'epsilon': 0.001, 'gamma': 1, 'kernel': 'rbf'}\n",
      "Best rmse:  0.008213906968787228\n",
      "Training model:  54\n"
     ]
    },
    {
     "name": "stderr",
     "output_type": "stream",
     "text": [
      "100%|██████████████████████████████████████████████████████████████████████████████████| 80/80 [00:01<00:00, 67.49it/s]\n"
     ]
    },
    {
     "name": "stdout",
     "output_type": "stream",
     "text": [
      "Best params:  {'C': 10, 'epsilon': 1e-05, 'gamma': 1, 'kernel': 'rbf'}\n",
      "Best rmse:  0.0073019750470245635\n",
      "Training model:  55\n"
     ]
    },
    {
     "name": "stderr",
     "output_type": "stream",
     "text": [
      "100%|██████████████████████████████████████████████████████████████████████████████████| 80/80 [00:01<00:00, 68.78it/s]\n"
     ]
    },
    {
     "name": "stdout",
     "output_type": "stream",
     "text": [
      "Best params:  {'C': 1, 'epsilon': 0.0001, 'gamma': 1, 'kernel': 'rbf'}\n",
      "Best rmse:  0.00888246870416614\n",
      "Training model:  56\n"
     ]
    },
    {
     "name": "stderr",
     "output_type": "stream",
     "text": [
      "100%|██████████████████████████████████████████████████████████████████████████████████| 80/80 [00:01<00:00, 68.68it/s]\n"
     ]
    },
    {
     "name": "stdout",
     "output_type": "stream",
     "text": [
      "Best params:  {'C': 10, 'epsilon': 0.001, 'gamma': 1, 'kernel': 'rbf'}\n",
      "Best rmse:  0.006982266643608193\n",
      "Training model:  57\n"
     ]
    },
    {
     "name": "stderr",
     "output_type": "stream",
     "text": [
      "100%|██████████████████████████████████████████████████████████████████████████████████| 80/80 [00:01<00:00, 68.99it/s]\n"
     ]
    },
    {
     "name": "stdout",
     "output_type": "stream",
     "text": [
      "Best params:  {'C': 10, 'epsilon': 1e-05, 'gamma': 1, 'kernel': 'rbf'}\n",
      "Best rmse:  0.0072403824353503565\n",
      "Training model:  58\n"
     ]
    },
    {
     "name": "stderr",
     "output_type": "stream",
     "text": [
      "100%|██████████████████████████████████████████████████████████████████████████████████| 80/80 [00:01<00:00, 68.00it/s]\n"
     ]
    },
    {
     "name": "stdout",
     "output_type": "stream",
     "text": [
      "Best params:  {'C': 10, 'epsilon': 0.001, 'gamma': 1, 'kernel': 'rbf'}\n",
      "Best rmse:  0.008389318535419715\n",
      "Training model:  59\n"
     ]
    },
    {
     "name": "stderr",
     "output_type": "stream",
     "text": [
      "100%|██████████████████████████████████████████████████████████████████████████████████| 80/80 [00:01<00:00, 69.09it/s]\n"
     ]
    },
    {
     "name": "stdout",
     "output_type": "stream",
     "text": [
      "Best params:  {'C': 10, 'epsilon': 0.001, 'gamma': 1, 'kernel': 'rbf'}\n",
      "Best rmse:  0.006939031896215876\n",
      "Training model:  60\n"
     ]
    },
    {
     "name": "stderr",
     "output_type": "stream",
     "text": [
      "100%|██████████████████████████████████████████████████████████████████████████████████| 80/80 [00:01<00:00, 67.77it/s]\n"
     ]
    },
    {
     "name": "stdout",
     "output_type": "stream",
     "text": [
      "Best params:  {'C': 10, 'epsilon': 0.001, 'gamma': 1, 'kernel': 'rbf'}\n",
      "Best rmse:  0.0074652829849376785\n",
      "Training model:  61\n"
     ]
    },
    {
     "name": "stderr",
     "output_type": "stream",
     "text": [
      "100%|██████████████████████████████████████████████████████████████████████████████████| 80/80 [00:01<00:00, 67.17it/s]\n"
     ]
    },
    {
     "name": "stdout",
     "output_type": "stream",
     "text": [
      "Best params:  {'C': 10, 'epsilon': 0.001, 'gamma': 1, 'kernel': 'rbf'}\n",
      "Best rmse:  0.009056428808074625\n",
      "Training model:  62\n"
     ]
    },
    {
     "name": "stderr",
     "output_type": "stream",
     "text": [
      "100%|██████████████████████████████████████████████████████████████████████████████████| 80/80 [00:01<00:00, 68.88it/s]\n"
     ]
    },
    {
     "name": "stdout",
     "output_type": "stream",
     "text": [
      "Best params:  {'C': 10, 'epsilon': 0.001, 'gamma': 1, 'kernel': 'rbf'}\n",
      "Best rmse:  0.006939230231155602\n",
      "Training model:  63\n"
     ]
    },
    {
     "name": "stderr",
     "output_type": "stream",
     "text": [
      "100%|██████████████████████████████████████████████████████████████████████████████████| 80/80 [00:01<00:00, 68.58it/s]\n"
     ]
    },
    {
     "name": "stdout",
     "output_type": "stream",
     "text": [
      "Best params:  {'C': 100, 'epsilon': 0.001, 'gamma': 1, 'kernel': 'rbf'}\n",
      "Best rmse:  0.005823477834730424\n",
      "Training model:  64\n"
     ]
    },
    {
     "name": "stderr",
     "output_type": "stream",
     "text": [
      "100%|██████████████████████████████████████████████████████████████████████████████████| 80/80 [00:01<00:00, 69.71it/s]\n"
     ]
    },
    {
     "name": "stdout",
     "output_type": "stream",
     "text": [
      "Best params:  {'C': 10, 'epsilon': 0.0001, 'gamma': 1, 'kernel': 'rbf'}\n",
      "Best rmse:  0.00802090273077838\n",
      "Training model:  65\n"
     ]
    },
    {
     "name": "stderr",
     "output_type": "stream",
     "text": [
      "100%|██████████████████████████████████████████████████████████████████████████████████| 80/80 [00:01<00:00, 69.09it/s]\n"
     ]
    },
    {
     "name": "stdout",
     "output_type": "stream",
     "text": [
      "Best params:  {'C': 10, 'epsilon': 0.0001, 'gamma': 1, 'kernel': 'rbf'}\n",
      "Best rmse:  0.007297032086553954\n",
      "Training model:  66\n"
     ]
    },
    {
     "name": "stderr",
     "output_type": "stream",
     "text": [
      "100%|██████████████████████████████████████████████████████████████████████████████████| 80/80 [00:01<00:00, 67.36it/s]\n"
     ]
    },
    {
     "name": "stdout",
     "output_type": "stream",
     "text": [
      "Best params:  {'C': 10, 'epsilon': 0.001, 'gamma': 1, 'kernel': 'rbf'}\n",
      "Best rmse:  0.00832201869585228\n",
      "Training model:  67\n"
     ]
    },
    {
     "name": "stderr",
     "output_type": "stream",
     "text": [
      "100%|██████████████████████████████████████████████████████████████████████████████████| 80/80 [00:01<00:00, 67.98it/s]\n"
     ]
    },
    {
     "name": "stdout",
     "output_type": "stream",
     "text": [
      "Best params:  {'C': 100, 'epsilon': 0.0001, 'gamma': 1, 'kernel': 'rbf'}\n",
      "Best rmse:  0.006358618625890498\n",
      "Training model:  68\n"
     ]
    },
    {
     "name": "stderr",
     "output_type": "stream",
     "text": [
      "100%|██████████████████████████████████████████████████████████████████████████████████| 80/80 [00:01<00:00, 68.76it/s]\n"
     ]
    },
    {
     "name": "stdout",
     "output_type": "stream",
     "text": [
      "Best params:  {'C': 10, 'epsilon': 1e-05, 'gamma': 1, 'kernel': 'rbf'}\n",
      "Best rmse:  0.00837584687685658\n",
      "Training model:  69\n"
     ]
    },
    {
     "name": "stderr",
     "output_type": "stream",
     "text": [
      "100%|██████████████████████████████████████████████████████████████████████████████████| 80/80 [00:01<00:00, 68.58it/s]\n"
     ]
    },
    {
     "name": "stdout",
     "output_type": "stream",
     "text": [
      "Best params:  {'C': 10, 'epsilon': 0.0001, 'gamma': 1, 'kernel': 'rbf'}\n",
      "Best rmse:  0.007631055265110496\n",
      "Training model:  70\n"
     ]
    },
    {
     "name": "stderr",
     "output_type": "stream",
     "text": [
      "100%|██████████████████████████████████████████████████████████████████████████████████| 80/80 [00:01<00:00, 68.98it/s]\n"
     ]
    },
    {
     "name": "stdout",
     "output_type": "stream",
     "text": [
      "Best params:  {'C': 10, 'epsilon': 0.0001, 'gamma': 1, 'kernel': 'rbf'}\n",
      "Best rmse:  0.006855305620740303\n",
      "Training model:  71\n"
     ]
    },
    {
     "name": "stderr",
     "output_type": "stream",
     "text": [
      "100%|██████████████████████████████████████████████████████████████████████████████████| 80/80 [00:01<00:00, 68.37it/s]\n"
     ]
    },
    {
     "name": "stdout",
     "output_type": "stream",
     "text": [
      "Best params:  {'C': 10, 'epsilon': 1e-05, 'gamma': 1, 'kernel': 'rbf'}\n",
      "Best rmse:  0.0057351946236471035\n",
      "Training model:  72\n"
     ]
    },
    {
     "name": "stderr",
     "output_type": "stream",
     "text": [
      "100%|██████████████████████████████████████████████████████████████████████████████████| 80/80 [00:01<00:00, 68.38it/s]\n"
     ]
    },
    {
     "name": "stdout",
     "output_type": "stream",
     "text": [
      "Best params:  {'C': 10, 'epsilon': 0.0001, 'gamma': 1, 'kernel': 'rbf'}\n",
      "Best rmse:  0.005918119696314519\n",
      "Training model:  73\n"
     ]
    },
    {
     "name": "stderr",
     "output_type": "stream",
     "text": [
      "100%|██████████████████████████████████████████████████████████████████████████████████| 80/80 [00:01<00:00, 67.66it/s]\n"
     ]
    },
    {
     "name": "stdout",
     "output_type": "stream",
     "text": [
      "Best params:  {'C': 100, 'epsilon': 1e-05, 'gamma': 1, 'kernel': 'rbf'}\n",
      "Best rmse:  0.007025691401314628\n",
      "Training model:  74\n"
     ]
    },
    {
     "name": "stderr",
     "output_type": "stream",
     "text": [
      "100%|██████████████████████████████████████████████████████████████████████████████████| 80/80 [00:01<00:00, 68.68it/s]\n"
     ]
    },
    {
     "name": "stdout",
     "output_type": "stream",
     "text": [
      "Best params:  {'C': 10, 'epsilon': 1e-05, 'gamma': 1, 'kernel': 'rbf'}\n",
      "Best rmse:  0.00767454671149679\n",
      "Training model:  75\n"
     ]
    },
    {
     "name": "stderr",
     "output_type": "stream",
     "text": [
      "100%|██████████████████████████████████████████████████████████████████████████████████| 80/80 [00:01<00:00, 68.36it/s]\n"
     ]
    },
    {
     "name": "stdout",
     "output_type": "stream",
     "text": [
      "Best params:  {'C': 100, 'epsilon': 0.001, 'gamma': 1, 'kernel': 'rbf'}\n",
      "Best rmse:  0.0063221606771961085\n",
      "Training model:  76\n"
     ]
    },
    {
     "name": "stderr",
     "output_type": "stream",
     "text": [
      "100%|██████████████████████████████████████████████████████████████████████████████████| 80/80 [00:01<00:00, 67.23it/s]\n"
     ]
    },
    {
     "name": "stdout",
     "output_type": "stream",
     "text": [
      "Best params:  {'C': 100, 'epsilon': 1e-05, 'gamma': 1, 'kernel': 'rbf'}\n",
      "Best rmse:  0.007385046497843135\n",
      "Training model:  77\n"
     ]
    },
    {
     "name": "stderr",
     "output_type": "stream",
     "text": [
      "100%|██████████████████████████████████████████████████████████████████████████████████| 80/80 [00:01<00:00, 69.18it/s]\n"
     ]
    },
    {
     "name": "stdout",
     "output_type": "stream",
     "text": [
      "Best params:  {'C': 100, 'epsilon': 0.01, 'gamma': 0.1, 'kernel': 'rbf'}\n",
      "Best rmse:  0.007961361327016022\n",
      "Training model:  78\n"
     ]
    },
    {
     "name": "stderr",
     "output_type": "stream",
     "text": [
      "100%|██████████████████████████████████████████████████████████████████████████████████| 80/80 [00:01<00:00, 67.87it/s]\n"
     ]
    },
    {
     "name": "stdout",
     "output_type": "stream",
     "text": [
      "Best params:  {'C': 10, 'epsilon': 1e-05, 'gamma': 1, 'kernel': 'rbf'}\n",
      "Best rmse:  0.0085055382419443\n",
      "Training model:  79\n"
     ]
    },
    {
     "name": "stderr",
     "output_type": "stream",
     "text": [
      "100%|██████████████████████████████████████████████████████████████████████████████████| 80/80 [00:01<00:00, 68.26it/s]\n"
     ]
    },
    {
     "name": "stdout",
     "output_type": "stream",
     "text": [
      "Best params:  {'C': 1, 'epsilon': 0.001, 'gamma': 1, 'kernel': 'rbf'}\n",
      "Best rmse:  0.008336806301618703\n",
      "Training model:  80\n"
     ]
    },
    {
     "name": "stderr",
     "output_type": "stream",
     "text": [
      "100%|██████████████████████████████████████████████████████████████████████████████████| 80/80 [00:01<00:00, 67.45it/s]\n"
     ]
    },
    {
     "name": "stdout",
     "output_type": "stream",
     "text": [
      "Best params:  {'C': 10, 'epsilon': 1e-05, 'gamma': 1, 'kernel': 'rbf'}\n",
      "Best rmse:  0.006172006532709047\n",
      "Training model:  81\n"
     ]
    },
    {
     "name": "stderr",
     "output_type": "stream",
     "text": [
      "100%|██████████████████████████████████████████████████████████████████████████████████| 80/80 [00:01<00:00, 68.87it/s]\n"
     ]
    },
    {
     "name": "stdout",
     "output_type": "stream",
     "text": [
      "Best params:  {'C': 10, 'epsilon': 1e-05, 'gamma': 1, 'kernel': 'rbf'}\n",
      "Best rmse:  0.006105315378466202\n",
      "Training model:  82\n"
     ]
    },
    {
     "name": "stderr",
     "output_type": "stream",
     "text": [
      "100%|██████████████████████████████████████████████████████████████████████████████████| 80/80 [00:01<00:00, 68.18it/s]\n"
     ]
    },
    {
     "name": "stdout",
     "output_type": "stream",
     "text": [
      "Best params:  {'C': 100, 'epsilon': 0.001, 'gamma': 1, 'kernel': 'rbf'}\n",
      "Best rmse:  0.008493480724852592\n",
      "Training model:  83\n"
     ]
    },
    {
     "name": "stderr",
     "output_type": "stream",
     "text": [
      "100%|██████████████████████████████████████████████████████████████████████████████████| 80/80 [00:01<00:00, 67.96it/s]\n"
     ]
    },
    {
     "name": "stdout",
     "output_type": "stream",
     "text": [
      "Best params:  {'C': 100, 'epsilon': 0.0001, 'gamma': 1, 'kernel': 'rbf'}\n",
      "Best rmse:  0.005732669559436569\n",
      "Training model:  84\n"
     ]
    },
    {
     "name": "stderr",
     "output_type": "stream",
     "text": [
      "100%|██████████████████████████████████████████████████████████████████████████████████| 80/80 [00:01<00:00, 68.40it/s]\n"
     ]
    },
    {
     "name": "stdout",
     "output_type": "stream",
     "text": [
      "Best params:  {'C': 10, 'epsilon': 0.001, 'gamma': 1, 'kernel': 'rbf'}\n",
      "Best rmse:  0.007179080255753657\n",
      "Training model:  85\n"
     ]
    },
    {
     "name": "stderr",
     "output_type": "stream",
     "text": [
      "100%|██████████████████████████████████████████████████████████████████████████████████| 80/80 [00:01<00:00, 67.97it/s]\n"
     ]
    },
    {
     "name": "stdout",
     "output_type": "stream",
     "text": [
      "Best params:  {'C': 10, 'epsilon': 0.0001, 'gamma': 1, 'kernel': 'rbf'}\n",
      "Best rmse:  0.007925362297072296\n",
      "Training model:  86\n"
     ]
    },
    {
     "name": "stderr",
     "output_type": "stream",
     "text": [
      "100%|██████████████████████████████████████████████████████████████████████████████████| 80/80 [00:01<00:00, 68.27it/s]\n"
     ]
    },
    {
     "name": "stdout",
     "output_type": "stream",
     "text": [
      "Best params:  {'C': 10, 'epsilon': 0.0001, 'gamma': 1, 'kernel': 'rbf'}\n",
      "Best rmse:  0.0066781005400212146\n",
      "Training model:  87\n"
     ]
    },
    {
     "name": "stderr",
     "output_type": "stream",
     "text": [
      "100%|██████████████████████████████████████████████████████████████████████████████████| 80/80 [00:01<00:00, 68.17it/s]\n"
     ]
    },
    {
     "name": "stdout",
     "output_type": "stream",
     "text": [
      "Best params:  {'C': 10, 'epsilon': 0.001, 'gamma': 1, 'kernel': 'rbf'}\n",
      "Best rmse:  0.008802834737656268\n",
      "Training model:  88\n"
     ]
    },
    {
     "name": "stderr",
     "output_type": "stream",
     "text": [
      "100%|██████████████████████████████████████████████████████████████████████████████████| 80/80 [00:01<00:00, 64.04it/s]\n"
     ]
    },
    {
     "name": "stdout",
     "output_type": "stream",
     "text": [
      "Best params:  {'C': 10, 'epsilon': 0.001, 'gamma': 1, 'kernel': 'rbf'}\n",
      "Best rmse:  0.00786373228258774\n",
      "Training model:  89\n"
     ]
    },
    {
     "name": "stderr",
     "output_type": "stream",
     "text": [
      "100%|██████████████████████████████████████████████████████████████████████████████████| 80/80 [00:01<00:00, 69.08it/s]\n"
     ]
    },
    {
     "name": "stdout",
     "output_type": "stream",
     "text": [
      "Best params:  {'C': 10, 'epsilon': 0.0001, 'gamma': 1, 'kernel': 'rbf'}\n",
      "Best rmse:  0.007371469393863551\n",
      "Training model:  90\n"
     ]
    },
    {
     "name": "stderr",
     "output_type": "stream",
     "text": [
      "100%|██████████████████████████████████████████████████████████████████████████████████| 80/80 [00:01<00:00, 68.80it/s]\n"
     ]
    },
    {
     "name": "stdout",
     "output_type": "stream",
     "text": [
      "Best params:  {'C': 10, 'epsilon': 0.001, 'gamma': 1, 'kernel': 'rbf'}\n",
      "Best rmse:  0.00684473139179958\n",
      "Training model:  91\n"
     ]
    },
    {
     "name": "stderr",
     "output_type": "stream",
     "text": [
      "100%|██████████████████████████████████████████████████████████████████████████████████| 80/80 [00:01<00:00, 67.47it/s]\n"
     ]
    },
    {
     "name": "stdout",
     "output_type": "stream",
     "text": [
      "Best params:  {'C': 10, 'epsilon': 1e-05, 'gamma': 1, 'kernel': 'rbf'}\n",
      "Best rmse:  0.0064655775847019805\n",
      "Training model:  92\n"
     ]
    },
    {
     "name": "stderr",
     "output_type": "stream",
     "text": [
      "100%|██████████████████████████████████████████████████████████████████████████████████| 80/80 [00:01<00:00, 68.06it/s]\n"
     ]
    },
    {
     "name": "stdout",
     "output_type": "stream",
     "text": [
      "Best params:  {'C': 10, 'epsilon': 0.001, 'gamma': 1, 'kernel': 'rbf'}\n",
      "Best rmse:  0.006092710428786623\n",
      "Training model:  93\n"
     ]
    },
    {
     "name": "stderr",
     "output_type": "stream",
     "text": [
      "100%|██████████████████████████████████████████████████████████████████████████████████| 80/80 [00:01<00:00, 67.27it/s]\n"
     ]
    },
    {
     "name": "stdout",
     "output_type": "stream",
     "text": [
      "Best params:  {'C': 10, 'epsilon': 0.001, 'gamma': 1, 'kernel': 'rbf'}\n",
      "Best rmse:  0.00638450856478835\n",
      "Training model:  94\n"
     ]
    },
    {
     "name": "stderr",
     "output_type": "stream",
     "text": [
      "100%|██████████████████████████████████████████████████████████████████████████████████| 80/80 [00:01<00:00, 68.74it/s]\n"
     ]
    },
    {
     "name": "stdout",
     "output_type": "stream",
     "text": [
      "Best params:  {'C': 100, 'epsilon': 1e-05, 'gamma': 1, 'kernel': 'rbf'}\n",
      "Best rmse:  0.00717902248672321\n",
      "Training model:  95\n"
     ]
    },
    {
     "name": "stderr",
     "output_type": "stream",
     "text": [
      "100%|██████████████████████████████████████████████████████████████████████████████████| 80/80 [00:01<00:00, 68.43it/s]\n"
     ]
    },
    {
     "name": "stdout",
     "output_type": "stream",
     "text": [
      "Best params:  {'C': 10, 'epsilon': 0.001, 'gamma': 1, 'kernel': 'rbf'}\n",
      "Best rmse:  0.007922176537445225\n",
      "Training model:  96\n"
     ]
    },
    {
     "name": "stderr",
     "output_type": "stream",
     "text": [
      "100%|██████████████████████████████████████████████████████████████████████████████████| 80/80 [00:01<00:00, 68.64it/s]\n"
     ]
    },
    {
     "name": "stdout",
     "output_type": "stream",
     "text": [
      "Best params:  {'C': 100, 'epsilon': 0.001, 'gamma': 1, 'kernel': 'rbf'}\n",
      "Best rmse:  0.007995110025553065\n",
      "Training model:  97\n"
     ]
    },
    {
     "name": "stderr",
     "output_type": "stream",
     "text": [
      "100%|██████████████████████████████████████████████████████████████████████████████████| 80/80 [00:01<00:00, 68.68it/s]\n"
     ]
    },
    {
     "name": "stdout",
     "output_type": "stream",
     "text": [
      "Best params:  {'C': 100, 'epsilon': 0.001, 'gamma': 1, 'kernel': 'rbf'}\n",
      "Best rmse:  0.007531876784503192\n",
      "Training model:  98\n"
     ]
    },
    {
     "name": "stderr",
     "output_type": "stream",
     "text": [
      "100%|██████████████████████████████████████████████████████████████████████████████████| 80/80 [00:01<00:00, 68.71it/s]\n"
     ]
    },
    {
     "name": "stdout",
     "output_type": "stream",
     "text": [
      "Best params:  {'C': 10, 'epsilon': 0.001, 'gamma': 1, 'kernel': 'rbf'}\n",
      "Best rmse:  0.006645013243085212\n",
      "Training model:  99\n"
     ]
    },
    {
     "name": "stderr",
     "output_type": "stream",
     "text": [
      "100%|██████████████████████████████████████████████████████████████████████████████████| 80/80 [00:01<00:00, 68.08it/s]\n"
     ]
    },
    {
     "name": "stdout",
     "output_type": "stream",
     "text": [
      "Best params:  {'C': 10, 'epsilon': 0.0001, 'gamma': 1, 'kernel': 'rbf'}\n",
      "Best rmse:  0.008687566534052008\n"
     ]
    },
    {
     "name": "stderr",
     "output_type": "stream",
     "text": [
      "100%|████████████████████████████████████████████████████████████████████████████████| 800/800 [03:32<00:00,  3.77it/s]\n"
     ]
    },
    {
     "name": "stdout",
     "output_type": "stream",
     "text": [
      "Best params:  {'comb': 'median', 'k': 18, 'n': 17}\n",
      "Best rmse:  0.16485493421556693\n",
      "Time Series:  sunspot\n",
      "\n",
      "###############################################\n",
      "\n",
      "Executing: ENSEMBLE SVR\n",
      "d:  0\n",
      "Training model:  0\n"
     ]
    },
    {
     "name": "stderr",
     "output_type": "stream",
     "text": [
      "100%|██████████████████████████████████████████████████████████████████████████████████| 80/80 [00:01<00:00, 73.83it/s]\n"
     ]
    },
    {
     "name": "stdout",
     "output_type": "stream",
     "text": [
      "Best params:  {'C': 1, 'epsilon': 1e-05, 'gamma': 1, 'kernel': 'rbf'}\n",
      "Best rmse:  0.07159159982151339\n",
      "Training model:  1\n"
     ]
    },
    {
     "name": "stderr",
     "output_type": "stream",
     "text": [
      "100%|██████████████████████████████████████████████████████████████████████████████████| 80/80 [00:01<00:00, 75.67it/s]\n"
     ]
    },
    {
     "name": "stdout",
     "output_type": "stream",
     "text": [
      "Best params:  {'C': 1, 'epsilon': 0.001, 'gamma': 1, 'kernel': 'rbf'}\n",
      "Best rmse:  0.05877972778196081\n",
      "Training model:  2\n"
     ]
    },
    {
     "name": "stderr",
     "output_type": "stream",
     "text": [
      "100%|██████████████████████████████████████████████████████████████████████████████████| 80/80 [00:01<00:00, 74.93it/s]\n"
     ]
    },
    {
     "name": "stdout",
     "output_type": "stream",
     "text": [
      "Best params:  {'C': 10, 'epsilon': 0.01, 'gamma': 0.1, 'kernel': 'rbf'}\n",
      "Best rmse:  0.07546164369567357\n",
      "Training model:  3\n"
     ]
    },
    {
     "name": "stderr",
     "output_type": "stream",
     "text": [
      "100%|██████████████████████████████████████████████████████████████████████████████████| 80/80 [00:01<00:00, 75.67it/s]\n"
     ]
    },
    {
     "name": "stdout",
     "output_type": "stream",
     "text": [
      "Best params:  {'C': 1, 'epsilon': 0.01, 'gamma': 1, 'kernel': 'rbf'}\n",
      "Best rmse:  0.07694221678786443\n",
      "Training model:  4\n"
     ]
    },
    {
     "name": "stderr",
     "output_type": "stream",
     "text": [
      "100%|██████████████████████████████████████████████████████████████████████████████████| 80/80 [00:01<00:00, 74.45it/s]\n"
     ]
    },
    {
     "name": "stdout",
     "output_type": "stream",
     "text": [
      "Best params:  {'C': 10, 'epsilon': 0.01, 'gamma': 1, 'kernel': 'rbf'}\n",
      "Best rmse:  0.08591068002773622\n",
      "Training model:  5\n"
     ]
    },
    {
     "name": "stderr",
     "output_type": "stream",
     "text": [
      "100%|██████████████████████████████████████████████████████████████████████████████████| 80/80 [00:01<00:00, 69.07it/s]\n"
     ]
    },
    {
     "name": "stdout",
     "output_type": "stream",
     "text": [
      "Best params:  {'C': 10, 'epsilon': 0.01, 'gamma': 1, 'kernel': 'rbf'}\n",
      "Best rmse:  0.06651816270562468\n",
      "Training model:  6\n"
     ]
    },
    {
     "name": "stderr",
     "output_type": "stream",
     "text": [
      "100%|██████████████████████████████████████████████████████████████████████████████████| 80/80 [00:01<00:00, 75.16it/s]\n"
     ]
    },
    {
     "name": "stdout",
     "output_type": "stream",
     "text": [
      "Best params:  {'C': 10, 'epsilon': 0.01, 'gamma': 1, 'kernel': 'rbf'}\n",
      "Best rmse:  0.05735436789624127\n",
      "Training model:  7\n"
     ]
    },
    {
     "name": "stderr",
     "output_type": "stream",
     "text": [
      "100%|██████████████████████████████████████████████████████████████████████████████████| 80/80 [00:01<00:00, 74.34it/s]\n"
     ]
    },
    {
     "name": "stdout",
     "output_type": "stream",
     "text": [
      "Best params:  {'C': 100, 'epsilon': 0.1, 'gamma': 0.1, 'kernel': 'rbf'}\n",
      "Best rmse:  0.09105970393842278\n",
      "Training model:  8\n"
     ]
    },
    {
     "name": "stderr",
     "output_type": "stream",
     "text": [
      "100%|██████████████████████████████████████████████████████████████████████████████████| 80/80 [00:01<00:00, 76.55it/s]\n"
     ]
    },
    {
     "name": "stdout",
     "output_type": "stream",
     "text": [
      "Best params:  {'C': 1, 'epsilon': 0.01, 'gamma': 1, 'kernel': 'rbf'}\n",
      "Best rmse:  0.09053872774320978\n",
      "Training model:  9\n"
     ]
    },
    {
     "name": "stderr",
     "output_type": "stream",
     "text": [
      "100%|██████████████████████████████████████████████████████████████████████████████████| 80/80 [00:01<00:00, 74.19it/s]\n"
     ]
    },
    {
     "name": "stdout",
     "output_type": "stream",
     "text": [
      "Best params:  {'C': 10, 'epsilon': 0.01, 'gamma': 1, 'kernel': 'rbf'}\n",
      "Best rmse:  0.07014385276026434\n",
      "Training model:  10\n"
     ]
    },
    {
     "name": "stderr",
     "output_type": "stream",
     "text": [
      "100%|██████████████████████████████████████████████████████████████████████████████████| 80/80 [00:01<00:00, 75.78it/s]\n"
     ]
    },
    {
     "name": "stdout",
     "output_type": "stream",
     "text": [
      "Best params:  {'C': 10, 'epsilon': 0.01, 'gamma': 0.1, 'kernel': 'rbf'}\n",
      "Best rmse:  0.06927501757969573\n",
      "Training model:  11\n"
     ]
    },
    {
     "name": "stderr",
     "output_type": "stream",
     "text": [
      "100%|██████████████████████████████████████████████████████████████████████████████████| 80/80 [00:01<00:00, 76.04it/s]\n"
     ]
    },
    {
     "name": "stdout",
     "output_type": "stream",
     "text": [
      "Best params:  {'C': 1, 'epsilon': 0.001, 'gamma': 1, 'kernel': 'rbf'}\n",
      "Best rmse:  0.06595318574912719\n",
      "Training model:  12\n"
     ]
    },
    {
     "name": "stderr",
     "output_type": "stream",
     "text": [
      "100%|██████████████████████████████████████████████████████████████████████████████████| 80/80 [00:01<00:00, 76.30it/s]\n"
     ]
    },
    {
     "name": "stdout",
     "output_type": "stream",
     "text": [
      "Best params:  {'C': 10, 'epsilon': 0.01, 'gamma': 1, 'kernel': 'rbf'}\n",
      "Best rmse:  0.08611932508165684\n",
      "Training model:  13\n"
     ]
    },
    {
     "name": "stderr",
     "output_type": "stream",
     "text": [
      "100%|██████████████████████████████████████████████████████████████████████████████████| 80/80 [00:01<00:00, 75.78it/s]\n"
     ]
    },
    {
     "name": "stdout",
     "output_type": "stream",
     "text": [
      "Best params:  {'C': 100, 'epsilon': 0.1, 'gamma': 0.01, 'kernel': 'rbf'}\n",
      "Best rmse:  0.09434437053991498\n",
      "Training model:  14\n"
     ]
    },
    {
     "name": "stderr",
     "output_type": "stream",
     "text": [
      "100%|██████████████████████████████████████████████████████████████████████████████████| 80/80 [00:01<00:00, 76.28it/s]\n"
     ]
    },
    {
     "name": "stdout",
     "output_type": "stream",
     "text": [
      "Best params:  {'C': 100, 'epsilon': 0.01, 'gamma': 0.1, 'kernel': 'rbf'}\n",
      "Best rmse:  0.07695219897562822\n",
      "Training model:  15\n"
     ]
    },
    {
     "name": "stderr",
     "output_type": "stream",
     "text": [
      "100%|██████████████████████████████████████████████████████████████████████████████████| 80/80 [00:01<00:00, 74.85it/s]\n"
     ]
    },
    {
     "name": "stdout",
     "output_type": "stream",
     "text": [
      "Best params:  {'C': 100, 'epsilon': 1e-05, 'gamma': 0.01, 'kernel': 'rbf'}\n",
      "Best rmse:  0.08019236499105732\n",
      "Training model:  16\n"
     ]
    },
    {
     "name": "stderr",
     "output_type": "stream",
     "text": [
      "100%|██████████████████████████████████████████████████████████████████████████████████| 80/80 [00:01<00:00, 76.17it/s]\n"
     ]
    },
    {
     "name": "stdout",
     "output_type": "stream",
     "text": [
      "Best params:  {'C': 10, 'epsilon': 0.01, 'gamma': 1, 'kernel': 'rbf'}\n",
      "Best rmse:  0.07268516568555797\n",
      "Training model:  17\n"
     ]
    },
    {
     "name": "stderr",
     "output_type": "stream",
     "text": [
      "100%|██████████████████████████████████████████████████████████████████████████████████| 80/80 [00:01<00:00, 75.89it/s]\n"
     ]
    },
    {
     "name": "stdout",
     "output_type": "stream",
     "text": [
      "Best params:  {'C': 100, 'epsilon': 0.01, 'gamma': 0.1, 'kernel': 'rbf'}\n",
      "Best rmse:  0.08072314506553804\n",
      "Training model:  18\n"
     ]
    },
    {
     "name": "stderr",
     "output_type": "stream",
     "text": [
      "100%|██████████████████████████████████████████████████████████████████████████████████| 80/80 [00:01<00:00, 75.16it/s]\n"
     ]
    },
    {
     "name": "stdout",
     "output_type": "stream",
     "text": [
      "Best params:  {'C': 1, 'epsilon': 0.01, 'gamma': 1, 'kernel': 'rbf'}\n",
      "Best rmse:  0.07189570001835023\n",
      "Training model:  19\n"
     ]
    },
    {
     "name": "stderr",
     "output_type": "stream",
     "text": [
      "100%|██████████████████████████████████████████████████████████████████████████████████| 80/80 [00:01<00:00, 74.45it/s]\n"
     ]
    },
    {
     "name": "stdout",
     "output_type": "stream",
     "text": [
      "Best params:  {'C': 10, 'epsilon': 0.1, 'gamma': 0.1, 'kernel': 'rbf'}\n",
      "Best rmse:  0.0822739843938199\n",
      "Training model:  20\n"
     ]
    },
    {
     "name": "stderr",
     "output_type": "stream",
     "text": [
      "100%|██████████████████████████████████████████████████████████████████████████████████| 80/80 [00:01<00:00, 73.74it/s]\n"
     ]
    },
    {
     "name": "stdout",
     "output_type": "stream",
     "text": [
      "Best params:  {'C': 1, 'epsilon': 0.0001, 'gamma': 1, 'kernel': 'rbf'}\n",
      "Best rmse:  0.0729852413949802\n",
      "Training model:  21\n"
     ]
    },
    {
     "name": "stderr",
     "output_type": "stream",
     "text": [
      "100%|██████████████████████████████████████████████████████████████████████████████████| 80/80 [00:01<00:00, 74.67it/s]\n"
     ]
    },
    {
     "name": "stdout",
     "output_type": "stream",
     "text": [
      "Best params:  {'C': 10, 'epsilon': 0.01, 'gamma': 1, 'kernel': 'rbf'}\n",
      "Best rmse:  0.05948131409482349\n",
      "Training model:  22\n"
     ]
    },
    {
     "name": "stderr",
     "output_type": "stream",
     "text": [
      "100%|██████████████████████████████████████████████████████████████████████████████████| 80/80 [00:01<00:00, 76.55it/s]\n"
     ]
    },
    {
     "name": "stdout",
     "output_type": "stream",
     "text": [
      "Best params:  {'C': 1, 'epsilon': 0.01, 'gamma': 1, 'kernel': 'rbf'}\n",
      "Best rmse:  0.06406678268566869\n",
      "Training model:  23\n"
     ]
    },
    {
     "name": "stderr",
     "output_type": "stream",
     "text": [
      "100%|██████████████████████████████████████████████████████████████████████████████████| 80/80 [00:01<00:00, 76.05it/s]\n"
     ]
    },
    {
     "name": "stdout",
     "output_type": "stream",
     "text": [
      "Best params:  {'C': 1, 'epsilon': 0.01, 'gamma': 1, 'kernel': 'rbf'}\n",
      "Best rmse:  0.09287807395095002\n",
      "Training model:  24\n"
     ]
    },
    {
     "name": "stderr",
     "output_type": "stream",
     "text": [
      "100%|██████████████████████████████████████████████████████████████████████████████████| 80/80 [00:01<00:00, 74.45it/s]\n"
     ]
    },
    {
     "name": "stdout",
     "output_type": "stream",
     "text": [
      "Best params:  {'C': 10, 'epsilon': 0.01, 'gamma': 1, 'kernel': 'rbf'}\n",
      "Best rmse:  0.07595068297170168\n",
      "Training model:  25\n"
     ]
    },
    {
     "name": "stderr",
     "output_type": "stream",
     "text": [
      "100%|██████████████████████████████████████████████████████████████████████████████████| 80/80 [00:01<00:00, 74.93it/s]\n"
     ]
    },
    {
     "name": "stdout",
     "output_type": "stream",
     "text": [
      "Best params:  {'C': 10, 'epsilon': 0.0001, 'gamma': 1, 'kernel': 'rbf'}\n",
      "Best rmse:  0.058046819707186656\n",
      "Training model:  26\n"
     ]
    },
    {
     "name": "stderr",
     "output_type": "stream",
     "text": [
      "100%|██████████████████████████████████████████████████████████████████████████████████| 80/80 [00:01<00:00, 75.16it/s]\n"
     ]
    },
    {
     "name": "stdout",
     "output_type": "stream",
     "text": [
      "Best params:  {'C': 100, 'epsilon': 0.01, 'gamma': 0.1, 'kernel': 'rbf'}\n",
      "Best rmse:  0.08845700398464651\n",
      "Training model:  27\n"
     ]
    },
    {
     "name": "stderr",
     "output_type": "stream",
     "text": [
      "100%|██████████████████████████████████████████████████████████████████████████████████| 80/80 [00:01<00:00, 75.43it/s]\n"
     ]
    },
    {
     "name": "stdout",
     "output_type": "stream",
     "text": [
      "Best params:  {'C': 10, 'epsilon': 0.01, 'gamma': 1, 'kernel': 'rbf'}\n",
      "Best rmse:  0.08287489874478582\n",
      "Training model:  28\n"
     ]
    },
    {
     "name": "stderr",
     "output_type": "stream",
     "text": [
      "100%|██████████████████████████████████████████████████████████████████████████████████| 80/80 [00:01<00:00, 76.31it/s]\n"
     ]
    },
    {
     "name": "stdout",
     "output_type": "stream",
     "text": [
      "Best params:  {'C': 1, 'epsilon': 0.0001, 'gamma': 1, 'kernel': 'rbf'}\n",
      "Best rmse:  0.08768507019206545\n",
      "Training model:  29\n"
     ]
    },
    {
     "name": "stderr",
     "output_type": "stream",
     "text": [
      "100%|██████████████████████████████████████████████████████████████████████████████████| 80/80 [00:01<00:00, 75.05it/s]\n"
     ]
    },
    {
     "name": "stdout",
     "output_type": "stream",
     "text": [
      "Best params:  {'C': 1000, 'epsilon': 1e-05, 'gamma': 0.01, 'kernel': 'rbf'}\n",
      "Best rmse:  0.061163934969429526\n",
      "Training model:  30\n"
     ]
    },
    {
     "name": "stderr",
     "output_type": "stream",
     "text": [
      "100%|██████████████████████████████████████████████████████████████████████████████████| 80/80 [00:01<00:00, 76.42it/s]\n"
     ]
    },
    {
     "name": "stdout",
     "output_type": "stream",
     "text": [
      "Best params:  {'C': 1, 'epsilon': 0.0001, 'gamma': 1, 'kernel': 'rbf'}\n",
      "Best rmse:  0.06823856042194133\n",
      "Training model:  31\n"
     ]
    },
    {
     "name": "stderr",
     "output_type": "stream",
     "text": [
      "100%|██████████████████████████████████████████████████████████████████████████████████| 80/80 [00:01<00:00, 74.43it/s]\n"
     ]
    },
    {
     "name": "stdout",
     "output_type": "stream",
     "text": [
      "Best params:  {'C': 1, 'epsilon': 0.01, 'gamma': 1, 'kernel': 'rbf'}\n",
      "Best rmse:  0.09346227238909671\n",
      "Training model:  32\n"
     ]
    },
    {
     "name": "stderr",
     "output_type": "stream",
     "text": [
      "100%|██████████████████████████████████████████████████████████████████████████████████| 80/80 [00:01<00:00, 75.55it/s]\n"
     ]
    },
    {
     "name": "stdout",
     "output_type": "stream",
     "text": [
      "Best params:  {'C': 10, 'epsilon': 0.001, 'gamma': 1, 'kernel': 'rbf'}\n",
      "Best rmse:  0.07021720699335929\n",
      "Training model:  33\n"
     ]
    },
    {
     "name": "stderr",
     "output_type": "stream",
     "text": [
      "100%|██████████████████████████████████████████████████████████████████████████████████| 80/80 [00:01<00:00, 74.81it/s]\n"
     ]
    },
    {
     "name": "stdout",
     "output_type": "stream",
     "text": [
      "Best params:  {'C': 10, 'epsilon': 0.01, 'gamma': 1, 'kernel': 'rbf'}\n",
      "Best rmse:  0.10641836568968582\n",
      "Training model:  34\n"
     ]
    },
    {
     "name": "stderr",
     "output_type": "stream",
     "text": [
      "100%|██████████████████████████████████████████████████████████████████████████████████| 80/80 [00:01<00:00, 75.09it/s]\n"
     ]
    },
    {
     "name": "stdout",
     "output_type": "stream",
     "text": [
      "Best params:  {'C': 10, 'epsilon': 0.001, 'gamma': 1, 'kernel': 'rbf'}\n",
      "Best rmse:  0.05550412495924523\n",
      "Training model:  35\n"
     ]
    },
    {
     "name": "stderr",
     "output_type": "stream",
     "text": [
      "100%|██████████████████████████████████████████████████████████████████████████████████| 80/80 [00:01<00:00, 76.05it/s]\n"
     ]
    },
    {
     "name": "stdout",
     "output_type": "stream",
     "text": [
      "Best params:  {'C': 1000, 'epsilon': 0.01, 'gamma': 0.1, 'kernel': 'rbf'}\n",
      "Best rmse:  0.09371310284516941\n",
      "Training model:  36\n"
     ]
    },
    {
     "name": "stderr",
     "output_type": "stream",
     "text": [
      "100%|██████████████████████████████████████████████████████████████████████████████████| 80/80 [00:01<00:00, 75.80it/s]\n"
     ]
    },
    {
     "name": "stdout",
     "output_type": "stream",
     "text": [
      "Best params:  {'C': 10, 'epsilon': 0.01, 'gamma': 1, 'kernel': 'rbf'}\n",
      "Best rmse:  0.06372545666819139\n",
      "Training model:  37\n"
     ]
    },
    {
     "name": "stderr",
     "output_type": "stream",
     "text": [
      "100%|██████████████████████████████████████████████████████████████████████████████████| 80/80 [00:01<00:00, 76.29it/s]\n"
     ]
    },
    {
     "name": "stdout",
     "output_type": "stream",
     "text": [
      "Best params:  {'C': 1, 'epsilon': 0.01, 'gamma': 1, 'kernel': 'rbf'}\n",
      "Best rmse:  0.07415288432401661\n",
      "Training model:  38\n"
     ]
    },
    {
     "name": "stderr",
     "output_type": "stream",
     "text": [
      "100%|██████████████████████████████████████████████████████████████████████████████████| 80/80 [00:01<00:00, 75.66it/s]\n"
     ]
    },
    {
     "name": "stdout",
     "output_type": "stream",
     "text": [
      "Best params:  {'C': 100, 'epsilon': 0.001, 'gamma': 0.1, 'kernel': 'rbf'}\n",
      "Best rmse:  0.0829271632531109\n",
      "Training model:  39\n"
     ]
    },
    {
     "name": "stderr",
     "output_type": "stream",
     "text": [
      "100%|██████████████████████████████████████████████████████████████████████████████████| 80/80 [00:01<00:00, 76.52it/s]\n"
     ]
    },
    {
     "name": "stdout",
     "output_type": "stream",
     "text": [
      "Best params:  {'C': 1, 'epsilon': 0.001, 'gamma': 1, 'kernel': 'rbf'}\n",
      "Best rmse:  0.09377474530181827\n",
      "Training model:  40\n"
     ]
    },
    {
     "name": "stderr",
     "output_type": "stream",
     "text": [
      "100%|██████████████████████████████████████████████████████████████████████████████████| 80/80 [00:01<00:00, 75.42it/s]\n"
     ]
    },
    {
     "name": "stdout",
     "output_type": "stream",
     "text": [
      "Best params:  {'C': 100, 'epsilon': 0.001, 'gamma': 0.1, 'kernel': 'rbf'}\n",
      "Best rmse:  0.08080769063232832\n",
      "Training model:  41\n"
     ]
    },
    {
     "name": "stderr",
     "output_type": "stream",
     "text": [
      "100%|██████████████████████████████████████████████████████████████████████████████████| 80/80 [00:01<00:00, 73.50it/s]\n"
     ]
    },
    {
     "name": "stdout",
     "output_type": "stream",
     "text": [
      "Best params:  {'C': 10, 'epsilon': 1e-05, 'gamma': 1, 'kernel': 'rbf'}\n",
      "Best rmse:  0.07058836834051692\n",
      "Training model:  42\n"
     ]
    },
    {
     "name": "stderr",
     "output_type": "stream",
     "text": [
      "100%|██████████████████████████████████████████████████████████████████████████████████| 80/80 [00:01<00:00, 75.53it/s]\n"
     ]
    },
    {
     "name": "stdout",
     "output_type": "stream",
     "text": [
      "Best params:  {'C': 10, 'epsilon': 0.01, 'gamma': 1, 'kernel': 'rbf'}\n",
      "Best rmse:  0.07221194237221236\n",
      "Training model:  43\n"
     ]
    },
    {
     "name": "stderr",
     "output_type": "stream",
     "text": [
      "100%|██████████████████████████████████████████████████████████████████████████████████| 80/80 [00:01<00:00, 75.42it/s]\n"
     ]
    },
    {
     "name": "stdout",
     "output_type": "stream",
     "text": [
      "Best params:  {'C': 1, 'epsilon': 0.01, 'gamma': 1, 'kernel': 'rbf'}\n",
      "Best rmse:  0.06875537047861723\n",
      "Training model:  44\n"
     ]
    },
    {
     "name": "stderr",
     "output_type": "stream",
     "text": [
      "100%|██████████████████████████████████████████████████████████████████████████████████| 80/80 [00:01<00:00, 75.17it/s]\n"
     ]
    },
    {
     "name": "stdout",
     "output_type": "stream",
     "text": [
      "Best params:  {'C': 1, 'epsilon': 0.01, 'gamma': 1, 'kernel': 'rbf'}\n",
      "Best rmse:  0.0640957310647296\n",
      "Training model:  45\n"
     ]
    },
    {
     "name": "stderr",
     "output_type": "stream",
     "text": [
      "100%|██████████████████████████████████████████████████████████████████████████████████| 80/80 [00:01<00:00, 75.64it/s]\n"
     ]
    },
    {
     "name": "stdout",
     "output_type": "stream",
     "text": [
      "Best params:  {'C': 100, 'epsilon': 0.01, 'gamma': 0.1, 'kernel': 'rbf'}\n",
      "Best rmse:  0.06437018373334014\n",
      "Training model:  46\n"
     ]
    },
    {
     "name": "stderr",
     "output_type": "stream",
     "text": [
      "100%|██████████████████████████████████████████████████████████████████████████████████| 80/80 [00:01<00:00, 74.94it/s]\n"
     ]
    },
    {
     "name": "stdout",
     "output_type": "stream",
     "text": [
      "Best params:  {'C': 1, 'epsilon': 1e-05, 'gamma': 1, 'kernel': 'rbf'}\n",
      "Best rmse:  0.0789669878565167\n",
      "Training model:  47\n"
     ]
    },
    {
     "name": "stderr",
     "output_type": "stream",
     "text": [
      "100%|██████████████████████████████████████████████████████████████████████████████████| 80/80 [00:01<00:00, 76.95it/s]\n"
     ]
    },
    {
     "name": "stdout",
     "output_type": "stream",
     "text": [
      "Best params:  {'C': 1000, 'epsilon': 0.001, 'gamma': 0.01, 'kernel': 'rbf'}\n",
      "Best rmse:  0.08084877731033553\n",
      "Training model:  48\n"
     ]
    },
    {
     "name": "stderr",
     "output_type": "stream",
     "text": [
      "100%|██████████████████████████████████████████████████████████████████████████████████| 80/80 [00:01<00:00, 75.92it/s]\n"
     ]
    },
    {
     "name": "stdout",
     "output_type": "stream",
     "text": [
      "Best params:  {'C': 1000, 'epsilon': 0.01, 'gamma': 0.1, 'kernel': 'rbf'}\n",
      "Best rmse:  0.0695463423107155\n",
      "Training model:  49\n"
     ]
    },
    {
     "name": "stderr",
     "output_type": "stream",
     "text": [
      "100%|██████████████████████████████████████████████████████████████████████████████████| 80/80 [00:01<00:00, 76.55it/s]\n"
     ]
    },
    {
     "name": "stdout",
     "output_type": "stream",
     "text": [
      "Best params:  {'C': 10, 'epsilon': 0.01, 'gamma': 0.1, 'kernel': 'rbf'}\n",
      "Best rmse:  0.0966079783779701\n",
      "Training model:  50\n"
     ]
    },
    {
     "name": "stderr",
     "output_type": "stream",
     "text": [
      "100%|██████████████████████████████████████████████████████████████████████████████████| 80/80 [00:01<00:00, 75.03it/s]\n"
     ]
    },
    {
     "name": "stdout",
     "output_type": "stream",
     "text": [
      "Best params:  {'C': 1, 'epsilon': 0.001, 'gamma': 1, 'kernel': 'rbf'}\n",
      "Best rmse:  0.05199397573588206\n",
      "Training model:  51\n"
     ]
    },
    {
     "name": "stderr",
     "output_type": "stream",
     "text": [
      "100%|██████████████████████████████████████████████████████████████████████████████████| 80/80 [00:01<00:00, 74.81it/s]\n"
     ]
    },
    {
     "name": "stdout",
     "output_type": "stream",
     "text": [
      "Best params:  {'C': 10, 'epsilon': 0.01, 'gamma': 1, 'kernel': 'rbf'}\n",
      "Best rmse:  0.0785149504077737\n",
      "Training model:  52\n"
     ]
    },
    {
     "name": "stderr",
     "output_type": "stream",
     "text": [
      "100%|██████████████████████████████████████████████████████████████████████████████████| 80/80 [00:01<00:00, 76.05it/s]\n"
     ]
    },
    {
     "name": "stdout",
     "output_type": "stream",
     "text": [
      "Best params:  {'C': 10, 'epsilon': 0.01, 'gamma': 1, 'kernel': 'rbf'}\n",
      "Best rmse:  0.0769043877817311\n",
      "Training model:  53\n"
     ]
    },
    {
     "name": "stderr",
     "output_type": "stream",
     "text": [
      "100%|██████████████████████████████████████████████████████████████████████████████████| 80/80 [00:01<00:00, 73.73it/s]\n"
     ]
    },
    {
     "name": "stdout",
     "output_type": "stream",
     "text": [
      "Best params:  {'C': 10, 'epsilon': 0.001, 'gamma': 0.1, 'kernel': 'rbf'}\n",
      "Best rmse:  0.08095716277001981\n",
      "Training model:  54\n"
     ]
    },
    {
     "name": "stderr",
     "output_type": "stream",
     "text": [
      "100%|██████████████████████████████████████████████████████████████████████████████████| 80/80 [00:01<00:00, 74.45it/s]\n"
     ]
    },
    {
     "name": "stdout",
     "output_type": "stream",
     "text": [
      "Best params:  {'C': 1, 'epsilon': 0.01, 'gamma': 1, 'kernel': 'rbf'}\n",
      "Best rmse:  0.0832564573570379\n",
      "Training model:  55\n"
     ]
    },
    {
     "name": "stderr",
     "output_type": "stream",
     "text": [
      "100%|██████████████████████████████████████████████████████████████████████████████████| 80/80 [00:01<00:00, 75.82it/s]\n"
     ]
    },
    {
     "name": "stdout",
     "output_type": "stream",
     "text": [
      "Best params:  {'C': 1, 'epsilon': 0.01, 'gamma': 1, 'kernel': 'rbf'}\n",
      "Best rmse:  0.07223984262025136\n",
      "Training model:  56\n"
     ]
    },
    {
     "name": "stderr",
     "output_type": "stream",
     "text": [
      "100%|██████████████████████████████████████████████████████████████████████████████████| 80/80 [00:01<00:00, 74.68it/s]\n"
     ]
    },
    {
     "name": "stdout",
     "output_type": "stream",
     "text": [
      "Best params:  {'C': 1, 'epsilon': 0.01, 'gamma': 1, 'kernel': 'rbf'}\n",
      "Best rmse:  0.05502019265498683\n",
      "Training model:  57\n"
     ]
    },
    {
     "name": "stderr",
     "output_type": "stream",
     "text": [
      "100%|██████████████████████████████████████████████████████████████████████████████████| 80/80 [00:01<00:00, 76.55it/s]\n"
     ]
    },
    {
     "name": "stdout",
     "output_type": "stream",
     "text": [
      "Best params:  {'C': 10, 'epsilon': 0.01, 'gamma': 1, 'kernel': 'rbf'}\n",
      "Best rmse:  0.08892583631212503\n",
      "Training model:  58\n"
     ]
    },
    {
     "name": "stderr",
     "output_type": "stream",
     "text": [
      "100%|██████████████████████████████████████████████████████████████████████████████████| 80/80 [00:01<00:00, 75.42it/s]\n"
     ]
    },
    {
     "name": "stdout",
     "output_type": "stream",
     "text": [
      "Best params:  {'C': 10, 'epsilon': 0.001, 'gamma': 1, 'kernel': 'rbf'}\n",
      "Best rmse:  0.07411436182020949\n",
      "Training model:  59\n"
     ]
    },
    {
     "name": "stderr",
     "output_type": "stream",
     "text": [
      "100%|██████████████████████████████████████████████████████████████████████████████████| 80/80 [00:01<00:00, 73.74it/s]\n"
     ]
    },
    {
     "name": "stdout",
     "output_type": "stream",
     "text": [
      "Best params:  {'C': 100, 'epsilon': 0.01, 'gamma': 0.1, 'kernel': 'rbf'}\n",
      "Best rmse:  0.08243612562581216\n",
      "Training model:  60\n"
     ]
    },
    {
     "name": "stderr",
     "output_type": "stream",
     "text": [
      "100%|██████████████████████████████████████████████████████████████████████████████████| 80/80 [00:01<00:00, 75.31it/s]\n"
     ]
    },
    {
     "name": "stdout",
     "output_type": "stream",
     "text": [
      "Best params:  {'C': 1, 'epsilon': 0.001, 'gamma': 1, 'kernel': 'rbf'}\n",
      "Best rmse:  0.08287474893714959\n",
      "Training model:  61\n"
     ]
    },
    {
     "name": "stderr",
     "output_type": "stream",
     "text": [
      "100%|██████████████████████████████████████████████████████████████████████████████████| 80/80 [00:01<00:00, 76.94it/s]\n"
     ]
    },
    {
     "name": "stdout",
     "output_type": "stream",
     "text": [
      "Best params:  {'C': 1, 'epsilon': 0.001, 'gamma': 1, 'kernel': 'rbf'}\n",
      "Best rmse:  0.0744930259798086\n",
      "Training model:  62\n"
     ]
    },
    {
     "name": "stderr",
     "output_type": "stream",
     "text": [
      "100%|██████████████████████████████████████████████████████████████████████████████████| 80/80 [00:01<00:00, 76.30it/s]\n"
     ]
    },
    {
     "name": "stdout",
     "output_type": "stream",
     "text": [
      "Best params:  {'C': 1, 'epsilon': 0.01, 'gamma': 1, 'kernel': 'rbf'}\n",
      "Best rmse:  0.0862905178185816\n",
      "Training model:  63\n"
     ]
    },
    {
     "name": "stderr",
     "output_type": "stream",
     "text": [
      "100%|██████████████████████████████████████████████████████████████████████████████████| 80/80 [00:01<00:00, 76.16it/s]\n"
     ]
    },
    {
     "name": "stdout",
     "output_type": "stream",
     "text": [
      "Best params:  {'C': 10, 'epsilon': 0.01, 'gamma': 1, 'kernel': 'rbf'}\n",
      "Best rmse:  0.051184959541074986\n",
      "Training model:  64\n"
     ]
    },
    {
     "name": "stderr",
     "output_type": "stream",
     "text": [
      "100%|██████████████████████████████████████████████████████████████████████████████████| 80/80 [00:01<00:00, 75.04it/s]\n"
     ]
    },
    {
     "name": "stdout",
     "output_type": "stream",
     "text": [
      "Best params:  {'C': 100, 'epsilon': 0.01, 'gamma': 0.1, 'kernel': 'rbf'}\n",
      "Best rmse:  0.06256317821206436\n",
      "Training model:  65\n"
     ]
    },
    {
     "name": "stderr",
     "output_type": "stream",
     "text": [
      "100%|██████████████████████████████████████████████████████████████████████████████████| 80/80 [00:01<00:00, 76.05it/s]\n"
     ]
    },
    {
     "name": "stdout",
     "output_type": "stream",
     "text": [
      "Best params:  {'C': 10, 'epsilon': 0.01, 'gamma': 1, 'kernel': 'rbf'}\n",
      "Best rmse:  0.07078801296983286\n",
      "Training model:  66\n"
     ]
    },
    {
     "name": "stderr",
     "output_type": "stream",
     "text": [
      "100%|██████████████████████████████████████████████████████████████████████████████████| 80/80 [00:01<00:00, 76.02it/s]\n"
     ]
    },
    {
     "name": "stdout",
     "output_type": "stream",
     "text": [
      "Best params:  {'C': 10, 'epsilon': 0.01, 'gamma': 0.1, 'kernel': 'rbf'}\n",
      "Best rmse:  0.08827257730477962\n",
      "Training model:  67\n"
     ]
    },
    {
     "name": "stderr",
     "output_type": "stream",
     "text": [
      "100%|██████████████████████████████████████████████████████████████████████████████████| 80/80 [00:01<00:00, 76.30it/s]\n"
     ]
    },
    {
     "name": "stdout",
     "output_type": "stream",
     "text": [
      "Best params:  {'C': 10, 'epsilon': 0.01, 'gamma': 1, 'kernel': 'rbf'}\n",
      "Best rmse:  0.06577623699554436\n",
      "Training model:  68\n"
     ]
    },
    {
     "name": "stderr",
     "output_type": "stream",
     "text": [
      "100%|██████████████████████████████████████████████████████████████████████████████████| 80/80 [00:01<00:00, 75.17it/s]\n"
     ]
    },
    {
     "name": "stdout",
     "output_type": "stream",
     "text": [
      "Best params:  {'C': 1, 'epsilon': 0.01, 'gamma': 1, 'kernel': 'rbf'}\n",
      "Best rmse:  0.05229738245044943\n",
      "Training model:  69\n"
     ]
    },
    {
     "name": "stderr",
     "output_type": "stream",
     "text": [
      "100%|██████████████████████████████████████████████████████████████████████████████████| 80/80 [00:01<00:00, 75.93it/s]\n"
     ]
    },
    {
     "name": "stdout",
     "output_type": "stream",
     "text": [
      "Best params:  {'C': 1, 'epsilon': 0.01, 'gamma': 1, 'kernel': 'rbf'}\n",
      "Best rmse:  0.07065034941156838\n",
      "Training model:  70\n"
     ]
    },
    {
     "name": "stderr",
     "output_type": "stream",
     "text": [
      "100%|██████████████████████████████████████████████████████████████████████████████████| 80/80 [00:01<00:00, 76.65it/s]\n"
     ]
    },
    {
     "name": "stdout",
     "output_type": "stream",
     "text": [
      "Best params:  {'C': 100, 'epsilon': 0.001, 'gamma': 0.1, 'kernel': 'rbf'}\n",
      "Best rmse:  0.0768094612990684\n",
      "Training model:  71\n"
     ]
    },
    {
     "name": "stderr",
     "output_type": "stream",
     "text": [
      "100%|██████████████████████████████████████████████████████████████████████████████████| 80/80 [00:01<00:00, 76.77it/s]\n"
     ]
    },
    {
     "name": "stdout",
     "output_type": "stream",
     "text": [
      "Best params:  {'C': 10, 'epsilon': 1e-05, 'gamma': 0.1, 'kernel': 'rbf'}\n",
      "Best rmse:  0.07455597887403387\n",
      "Training model:  72\n"
     ]
    },
    {
     "name": "stderr",
     "output_type": "stream",
     "text": [
      "100%|██████████████████████████████████████████████████████████████████████████████████| 80/80 [00:01<00:00, 74.68it/s]\n"
     ]
    },
    {
     "name": "stdout",
     "output_type": "stream",
     "text": [
      "Best params:  {'C': 1, 'epsilon': 0.01, 'gamma': 1, 'kernel': 'rbf'}\n",
      "Best rmse:  0.06242521310593799\n",
      "Training model:  73\n"
     ]
    },
    {
     "name": "stderr",
     "output_type": "stream",
     "text": [
      "100%|██████████████████████████████████████████████████████████████████████████████████| 80/80 [00:01<00:00, 74.66it/s]\n"
     ]
    },
    {
     "name": "stdout",
     "output_type": "stream",
     "text": [
      "Best params:  {'C': 10, 'epsilon': 0.01, 'gamma': 1, 'kernel': 'rbf'}\n",
      "Best rmse:  0.09154515162987663\n",
      "Training model:  74\n"
     ]
    },
    {
     "name": "stderr",
     "output_type": "stream",
     "text": [
      "100%|██████████████████████████████████████████████████████████████████████████████████| 80/80 [00:01<00:00, 76.16it/s]\n"
     ]
    },
    {
     "name": "stdout",
     "output_type": "stream",
     "text": [
      "Best params:  {'C': 10, 'epsilon': 0.001, 'gamma': 1, 'kernel': 'rbf'}\n",
      "Best rmse:  0.06927882445181778\n",
      "Training model:  75\n"
     ]
    },
    {
     "name": "stderr",
     "output_type": "stream",
     "text": [
      "100%|██████████████████████████████████████████████████████████████████████████████████| 80/80 [00:01<00:00, 75.45it/s]\n"
     ]
    },
    {
     "name": "stdout",
     "output_type": "stream",
     "text": [
      "Best params:  {'C': 1, 'epsilon': 0.01, 'gamma': 1, 'kernel': 'rbf'}\n",
      "Best rmse:  0.07414904004295106\n",
      "Training model:  76\n"
     ]
    },
    {
     "name": "stderr",
     "output_type": "stream",
     "text": [
      "100%|██████████████████████████████████████████████████████████████████████████████████| 80/80 [00:01<00:00, 75.30it/s]\n"
     ]
    },
    {
     "name": "stdout",
     "output_type": "stream",
     "text": [
      "Best params:  {'C': 10, 'epsilon': 0.01, 'gamma': 0.1, 'kernel': 'rbf'}\n",
      "Best rmse:  0.08030013126051778\n",
      "Training model:  77\n"
     ]
    },
    {
     "name": "stderr",
     "output_type": "stream",
     "text": [
      "100%|██████████████████████████████████████████████████████████████████████████████████| 80/80 [00:01<00:00, 75.67it/s]\n"
     ]
    },
    {
     "name": "stdout",
     "output_type": "stream",
     "text": [
      "Best params:  {'C': 100, 'epsilon': 1e-05, 'gamma': 0.1, 'kernel': 'rbf'}\n",
      "Best rmse:  0.06674069631044947\n",
      "Training model:  78\n"
     ]
    },
    {
     "name": "stderr",
     "output_type": "stream",
     "text": [
      "100%|██████████████████████████████████████████████████████████████████████████████████| 80/80 [00:01<00:00, 74.67it/s]\n"
     ]
    },
    {
     "name": "stdout",
     "output_type": "stream",
     "text": [
      "Best params:  {'C': 10, 'epsilon': 0.01, 'gamma': 1, 'kernel': 'rbf'}\n",
      "Best rmse:  0.061131576147044016\n",
      "Training model:  79\n"
     ]
    },
    {
     "name": "stderr",
     "output_type": "stream",
     "text": [
      "100%|██████████████████████████████████████████████████████████████████████████████████| 80/80 [00:01<00:00, 75.29it/s]\n"
     ]
    },
    {
     "name": "stdout",
     "output_type": "stream",
     "text": [
      "Best params:  {'C': 1000, 'epsilon': 0.01, 'gamma': 0.1, 'kernel': 'rbf'}\n",
      "Best rmse:  0.0622692565540611\n",
      "Training model:  80\n"
     ]
    },
    {
     "name": "stderr",
     "output_type": "stream",
     "text": [
      "100%|██████████████████████████████████████████████████████████████████████████████████| 80/80 [00:01<00:00, 75.05it/s]\n"
     ]
    },
    {
     "name": "stdout",
     "output_type": "stream",
     "text": [
      "Best params:  {'C': 10, 'epsilon': 0.01, 'gamma': 1, 'kernel': 'rbf'}\n",
      "Best rmse:  0.06104568660330574\n",
      "Training model:  81\n"
     ]
    },
    {
     "name": "stderr",
     "output_type": "stream",
     "text": [
      "100%|██████████████████████████████████████████████████████████████████████████████████| 80/80 [00:01<00:00, 76.17it/s]\n"
     ]
    },
    {
     "name": "stdout",
     "output_type": "stream",
     "text": [
      "Best params:  {'C': 1, 'epsilon': 0.0001, 'gamma': 1, 'kernel': 'rbf'}\n",
      "Best rmse:  0.05575272188995387\n",
      "Training model:  82\n"
     ]
    },
    {
     "name": "stderr",
     "output_type": "stream",
     "text": [
      "100%|██████████████████████████████████████████████████████████████████████████████████| 80/80 [00:01<00:00, 74.93it/s]\n"
     ]
    },
    {
     "name": "stdout",
     "output_type": "stream",
     "text": [
      "Best params:  {'C': 1000, 'epsilon': 0.01, 'gamma': 0.1, 'kernel': 'rbf'}\n",
      "Best rmse:  0.07435000963586588\n",
      "Training model:  83\n"
     ]
    },
    {
     "name": "stderr",
     "output_type": "stream",
     "text": [
      "100%|██████████████████████████████████████████████████████████████████████████████████| 80/80 [00:01<00:00, 76.17it/s]\n"
     ]
    },
    {
     "name": "stdout",
     "output_type": "stream",
     "text": [
      "Best params:  {'C': 1000, 'epsilon': 0.1, 'gamma': 0.01, 'kernel': 'rbf'}\n",
      "Best rmse:  0.08814631869035133\n",
      "Training model:  84\n"
     ]
    },
    {
     "name": "stderr",
     "output_type": "stream",
     "text": [
      "100%|██████████████████████████████████████████████████████████████████████████████████| 80/80 [00:01<00:00, 75.92it/s]\n"
     ]
    },
    {
     "name": "stdout",
     "output_type": "stream",
     "text": [
      "Best params:  {'C': 1, 'epsilon': 1e-05, 'gamma': 1, 'kernel': 'rbf'}\n",
      "Best rmse:  0.07770168195158281\n",
      "Training model:  85\n"
     ]
    },
    {
     "name": "stderr",
     "output_type": "stream",
     "text": [
      "100%|██████████████████████████████████████████████████████████████████████████████████| 80/80 [00:01<00:00, 76.05it/s]\n"
     ]
    },
    {
     "name": "stdout",
     "output_type": "stream",
     "text": [
      "Best params:  {'C': 1, 'epsilon': 1e-05, 'gamma': 1, 'kernel': 'rbf'}\n",
      "Best rmse:  0.06851205401438733\n",
      "Training model:  86\n"
     ]
    },
    {
     "name": "stderr",
     "output_type": "stream",
     "text": [
      "100%|██████████████████████████████████████████████████████████████████████████████████| 80/80 [00:01<00:00, 76.16it/s]\n"
     ]
    },
    {
     "name": "stdout",
     "output_type": "stream",
     "text": [
      "Best params:  {'C': 100, 'epsilon': 0.01, 'gamma': 0.1, 'kernel': 'rbf'}\n",
      "Best rmse:  0.07582082483524603\n",
      "Training model:  87\n"
     ]
    },
    {
     "name": "stderr",
     "output_type": "stream",
     "text": [
      "100%|██████████████████████████████████████████████████████████████████████████████████| 80/80 [00:01<00:00, 76.17it/s]\n"
     ]
    },
    {
     "name": "stdout",
     "output_type": "stream",
     "text": [
      "Best params:  {'C': 1000, 'epsilon': 0.0001, 'gamma': 0.01, 'kernel': 'rbf'}\n",
      "Best rmse:  0.09152062843627914\n",
      "Training model:  88\n"
     ]
    },
    {
     "name": "stderr",
     "output_type": "stream",
     "text": [
      "100%|██████████████████████████████████████████████████████████████████████████████████| 80/80 [00:01<00:00, 74.32it/s]\n"
     ]
    },
    {
     "name": "stdout",
     "output_type": "stream",
     "text": [
      "Best params:  {'C': 1, 'epsilon': 0.01, 'gamma': 1, 'kernel': 'rbf'}\n",
      "Best rmse:  0.06496371302920148\n",
      "Training model:  89\n"
     ]
    },
    {
     "name": "stderr",
     "output_type": "stream",
     "text": [
      "100%|██████████████████████████████████████████████████████████████████████████████████| 80/80 [00:01<00:00, 74.73it/s]\n"
     ]
    },
    {
     "name": "stdout",
     "output_type": "stream",
     "text": [
      "Best params:  {'C': 1000, 'epsilon': 0.01, 'gamma': 0.01, 'kernel': 'rbf'}\n",
      "Best rmse:  0.07123839434326745\n",
      "Training model:  90\n"
     ]
    },
    {
     "name": "stderr",
     "output_type": "stream",
     "text": [
      "100%|██████████████████████████████████████████████████████████████████████████████████| 80/80 [00:01<00:00, 74.56it/s]\n"
     ]
    },
    {
     "name": "stdout",
     "output_type": "stream",
     "text": [
      "Best params:  {'C': 1, 'epsilon': 0.01, 'gamma': 1, 'kernel': 'rbf'}\n",
      "Best rmse:  0.07543340091946475\n",
      "Training model:  91\n"
     ]
    },
    {
     "name": "stderr",
     "output_type": "stream",
     "text": [
      "100%|██████████████████████████████████████████████████████████████████████████████████| 80/80 [00:01<00:00, 75.29it/s]\n"
     ]
    },
    {
     "name": "stdout",
     "output_type": "stream",
     "text": [
      "Best params:  {'C': 10, 'epsilon': 0.1, 'gamma': 0.1, 'kernel': 'rbf'}\n",
      "Best rmse:  0.07506582698145269\n",
      "Training model:  92\n"
     ]
    },
    {
     "name": "stderr",
     "output_type": "stream",
     "text": [
      "100%|██████████████████████████████████████████████████████████████████████████████████| 80/80 [00:01<00:00, 68.28it/s]\n"
     ]
    },
    {
     "name": "stdout",
     "output_type": "stream",
     "text": [
      "Best params:  {'C': 100, 'epsilon': 0.01, 'gamma': 0.1, 'kernel': 'rbf'}\n",
      "Best rmse:  0.08614556420330999\n",
      "Training model:  93\n"
     ]
    },
    {
     "name": "stderr",
     "output_type": "stream",
     "text": [
      "100%|██████████████████████████████████████████████████████████████████████████████████| 80/80 [00:01<00:00, 74.13it/s]\n"
     ]
    },
    {
     "name": "stdout",
     "output_type": "stream",
     "text": [
      "Best params:  {'C': 10, 'epsilon': 0.01, 'gamma': 0.1, 'kernel': 'rbf'}\n",
      "Best rmse:  0.07776207801801602\n",
      "Training model:  94\n"
     ]
    },
    {
     "name": "stderr",
     "output_type": "stream",
     "text": [
      "100%|██████████████████████████████████████████████████████████████████████████████████| 80/80 [00:01<00:00, 74.94it/s]\n"
     ]
    },
    {
     "name": "stdout",
     "output_type": "stream",
     "text": [
      "Best params:  {'C': 10, 'epsilon': 0.01, 'gamma': 1, 'kernel': 'rbf'}\n",
      "Best rmse:  0.08394592690606806\n",
      "Training model:  95\n"
     ]
    },
    {
     "name": "stderr",
     "output_type": "stream",
     "text": [
      "100%|██████████████████████████████████████████████████████████████████████████████████| 80/80 [00:01<00:00, 76.29it/s]\n"
     ]
    },
    {
     "name": "stdout",
     "output_type": "stream",
     "text": [
      "Best params:  {'C': 1, 'epsilon': 1e-05, 'gamma': 1, 'kernel': 'rbf'}\n",
      "Best rmse:  0.05943912482522916\n",
      "Training model:  96\n"
     ]
    },
    {
     "name": "stderr",
     "output_type": "stream",
     "text": [
      "100%|██████████████████████████████████████████████████████████████████████████████████| 80/80 [00:01<00:00, 73.66it/s]\n"
     ]
    },
    {
     "name": "stdout",
     "output_type": "stream",
     "text": [
      "Best params:  {'C': 100, 'epsilon': 0.001, 'gamma': 0.1, 'kernel': 'rbf'}\n",
      "Best rmse:  0.07573932472993404\n",
      "Training model:  97\n"
     ]
    },
    {
     "name": "stderr",
     "output_type": "stream",
     "text": [
      "100%|██████████████████████████████████████████████████████████████████████████████████| 80/80 [00:01<00:00, 75.06it/s]\n"
     ]
    },
    {
     "name": "stdout",
     "output_type": "stream",
     "text": [
      "Best params:  {'C': 10, 'epsilon': 0.1, 'gamma': 0.1, 'kernel': 'rbf'}\n",
      "Best rmse:  0.08273852547047283\n",
      "Training model:  98\n"
     ]
    },
    {
     "name": "stderr",
     "output_type": "stream",
     "text": [
      "100%|██████████████████████████████████████████████████████████████████████████████████| 80/80 [00:01<00:00, 75.32it/s]\n"
     ]
    },
    {
     "name": "stdout",
     "output_type": "stream",
     "text": [
      "Best params:  {'C': 1, 'epsilon': 0.01, 'gamma': 1, 'kernel': 'rbf'}\n",
      "Best rmse:  0.07146904107810843\n",
      "Training model:  99\n"
     ]
    },
    {
     "name": "stderr",
     "output_type": "stream",
     "text": [
      "100%|██████████████████████████████████████████████████████████████████████████████████| 80/80 [00:01<00:00, 75.43it/s]\n"
     ]
    },
    {
     "name": "stdout",
     "output_type": "stream",
     "text": [
      "Best params:  {'C': 100, 'epsilon': 0.01, 'gamma': 0.1, 'kernel': 'rbf'}\n",
      "Best rmse:  0.06993424771162411\n"
     ]
    },
    {
     "name": "stderr",
     "output_type": "stream",
     "text": [
      "100%|████████████████████████████████████████████████████████████████████████████████| 800/800 [01:51<00:00,  7.20it/s]\n"
     ]
    },
    {
     "name": "stdout",
     "output_type": "stream",
     "text": [
      "Best params:  {'comb': 'median', 'k': 9, 'n': 15}\n",
      "Best rmse:  7.130908231144271\n",
      "Time Series:  vehicle\n",
      "\n",
      "###############################################\n",
      "\n",
      "Executing: ENSEMBLE SVR\n",
      "d:  1\n",
      "Training model:  0\n"
     ]
    },
    {
     "name": "stderr",
     "output_type": "stream",
     "text": [
      "100%|██████████████████████████████████████████████████████████████████████████████████| 80/80 [00:01<00:00, 74.41it/s]\n"
     ]
    },
    {
     "name": "stdout",
     "output_type": "stream",
     "text": [
      "Best params:  {'C': 10, 'epsilon': 0.01, 'gamma': 1, 'kernel': 'rbf'}\n",
      "Best rmse:  0.0746580981571322\n",
      "Training model:  1\n"
     ]
    },
    {
     "name": "stderr",
     "output_type": "stream",
     "text": [
      "100%|██████████████████████████████████████████████████████████████████████████████████| 80/80 [00:01<00:00, 76.16it/s]\n"
     ]
    },
    {
     "name": "stdout",
     "output_type": "stream",
     "text": [
      "Best params:  {'C': 1, 'epsilon': 0.01, 'gamma': 1, 'kernel': 'rbf'}\n",
      "Best rmse:  0.09420163438037482\n",
      "Training model:  2\n"
     ]
    },
    {
     "name": "stderr",
     "output_type": "stream",
     "text": [
      "100%|██████████████████████████████████████████████████████████████████████████████████| 80/80 [00:01<00:00, 75.18it/s]\n"
     ]
    },
    {
     "name": "stdout",
     "output_type": "stream",
     "text": [
      "Best params:  {'C': 100, 'epsilon': 0.1, 'gamma': 0.001, 'kernel': 'rbf'}\n",
      "Best rmse:  0.1087704568637474\n",
      "Training model:  3\n"
     ]
    },
    {
     "name": "stderr",
     "output_type": "stream",
     "text": [
      "100%|██████████████████████████████████████████████████████████████████████████████████| 80/80 [00:01<00:00, 75.64it/s]\n"
     ]
    },
    {
     "name": "stdout",
     "output_type": "stream",
     "text": [
      "Best params:  {'C': 1000, 'epsilon': 0.01, 'gamma': 0.01, 'kernel': 'rbf'}\n",
      "Best rmse:  0.09716669809603325\n",
      "Training model:  4\n"
     ]
    },
    {
     "name": "stderr",
     "output_type": "stream",
     "text": [
      "100%|██████████████████████████████████████████████████████████████████████████████████| 80/80 [00:01<00:00, 77.05it/s]\n"
     ]
    },
    {
     "name": "stdout",
     "output_type": "stream",
     "text": [
      "Best params:  {'C': 10, 'epsilon': 0.01, 'gamma': 1, 'kernel': 'rbf'}\n",
      "Best rmse:  0.09246960173830121\n",
      "Training model:  5\n"
     ]
    },
    {
     "name": "stderr",
     "output_type": "stream",
     "text": [
      "100%|██████████████████████████████████████████████████████████████████████████████████| 80/80 [00:01<00:00, 76.42it/s]\n"
     ]
    },
    {
     "name": "stdout",
     "output_type": "stream",
     "text": [
      "Best params:  {'C': 1, 'epsilon': 0.1, 'gamma': 1, 'kernel': 'rbf'}\n",
      "Best rmse:  0.11534041957735885\n",
      "Training model:  6\n"
     ]
    },
    {
     "name": "stderr",
     "output_type": "stream",
     "text": [
      "100%|██████████████████████████████████████████████████████████████████████████████████| 80/80 [00:01<00:00, 75.53it/s]\n"
     ]
    },
    {
     "name": "stdout",
     "output_type": "stream",
     "text": [
      "Best params:  {'C': 10, 'epsilon': 0.01, 'gamma': 1, 'kernel': 'rbf'}\n",
      "Best rmse:  0.10078668791211072\n",
      "Training model:  7\n"
     ]
    },
    {
     "name": "stderr",
     "output_type": "stream",
     "text": [
      "100%|██████████████████████████████████████████████████████████████████████████████████| 80/80 [00:01<00:00, 75.92it/s]\n"
     ]
    },
    {
     "name": "stdout",
     "output_type": "stream",
     "text": [
      "Best params:  {'C': 1000, 'epsilon': 0.01, 'gamma': 0.01, 'kernel': 'rbf'}\n",
      "Best rmse:  0.08367077982579224\n",
      "Training model:  8\n"
     ]
    },
    {
     "name": "stderr",
     "output_type": "stream",
     "text": [
      "100%|██████████████████████████████████████████████████████████████████████████████████| 80/80 [00:01<00:00, 75.92it/s]\n"
     ]
    },
    {
     "name": "stdout",
     "output_type": "stream",
     "text": [
      "Best params:  {'C': 1, 'epsilon': 0.01, 'gamma': 1, 'kernel': 'rbf'}\n",
      "Best rmse:  0.09468853167642363\n",
      "Training model:  9\n"
     ]
    },
    {
     "name": "stderr",
     "output_type": "stream",
     "text": [
      "100%|██████████████████████████████████████████████████████████████████████████████████| 80/80 [00:01<00:00, 75.80it/s]\n"
     ]
    },
    {
     "name": "stdout",
     "output_type": "stream",
     "text": [
      "Best params:  {'C': 10, 'epsilon': 0.01, 'gamma': 1, 'kernel': 'rbf'}\n",
      "Best rmse:  0.09267207464791412\n",
      "Training model:  10\n"
     ]
    },
    {
     "name": "stderr",
     "output_type": "stream",
     "text": [
      "100%|██████████████████████████████████████████████████████████████████████████████████| 80/80 [00:01<00:00, 75.79it/s]\n"
     ]
    },
    {
     "name": "stdout",
     "output_type": "stream",
     "text": [
      "Best params:  {'C': 100, 'epsilon': 0.1, 'gamma': 0.01, 'kernel': 'rbf'}\n",
      "Best rmse:  0.13344454253004975\n",
      "Training model:  11\n"
     ]
    },
    {
     "name": "stderr",
     "output_type": "stream",
     "text": [
      "100%|██████████████████████████████████████████████████████████████████████████████████| 80/80 [00:01<00:00, 75.73it/s]\n"
     ]
    },
    {
     "name": "stdout",
     "output_type": "stream",
     "text": [
      "Best params:  {'C': 100, 'epsilon': 0.1, 'gamma': 0.01, 'kernel': 'rbf'}\n",
      "Best rmse:  0.09371064736444462\n",
      "Training model:  12\n"
     ]
    },
    {
     "name": "stderr",
     "output_type": "stream",
     "text": [
      "100%|██████████████████████████████████████████████████████████████████████████████████| 80/80 [00:01<00:00, 76.16it/s]\n"
     ]
    },
    {
     "name": "stdout",
     "output_type": "stream",
     "text": [
      "Best params:  {'C': 1000, 'epsilon': 0.01, 'gamma': 0.1, 'kernel': 'rbf'}\n",
      "Best rmse:  0.10619017287455308\n",
      "Training model:  13\n"
     ]
    },
    {
     "name": "stderr",
     "output_type": "stream",
     "text": [
      "100%|██████████████████████████████████████████████████████████████████████████████████| 80/80 [00:01<00:00, 76.55it/s]\n"
     ]
    },
    {
     "name": "stdout",
     "output_type": "stream",
     "text": [
      "Best params:  {'C': 1000, 'epsilon': 0.01, 'gamma': 0.1, 'kernel': 'rbf'}\n",
      "Best rmse:  0.08493159154244856\n",
      "Training model:  14\n"
     ]
    },
    {
     "name": "stderr",
     "output_type": "stream",
     "text": [
      "100%|██████████████████████████████████████████████████████████████████████████████████| 80/80 [00:01<00:00, 76.54it/s]\n"
     ]
    },
    {
     "name": "stdout",
     "output_type": "stream",
     "text": [
      "Best params:  {'C': 10, 'epsilon': 0.01, 'gamma': 0.1, 'kernel': 'rbf'}\n",
      "Best rmse:  0.0910942713431377\n",
      "Training model:  15\n"
     ]
    },
    {
     "name": "stderr",
     "output_type": "stream",
     "text": [
      "100%|██████████████████████████████████████████████████████████████████████████████████| 80/80 [00:01<00:00, 76.42it/s]\n"
     ]
    },
    {
     "name": "stdout",
     "output_type": "stream",
     "text": [
      "Best params:  {'C': 10, 'epsilon': 0.01, 'gamma': 1, 'kernel': 'rbf'}\n",
      "Best rmse:  0.089980757253019\n",
      "Training model:  16\n"
     ]
    },
    {
     "name": "stderr",
     "output_type": "stream",
     "text": [
      "100%|██████████████████████████████████████████████████████████████████████████████████| 80/80 [00:01<00:00, 76.13it/s]\n"
     ]
    },
    {
     "name": "stdout",
     "output_type": "stream",
     "text": [
      "Best params:  {'C': 10, 'epsilon': 0.01, 'gamma': 1, 'kernel': 'rbf'}\n",
      "Best rmse:  0.09339159808773861\n",
      "Training model:  17\n"
     ]
    },
    {
     "name": "stderr",
     "output_type": "stream",
     "text": [
      "100%|██████████████████████████████████████████████████████████████████████████████████| 80/80 [00:01<00:00, 75.04it/s]\n"
     ]
    },
    {
     "name": "stdout",
     "output_type": "stream",
     "text": [
      "Best params:  {'C': 10, 'epsilon': 1e-05, 'gamma': 1, 'kernel': 'rbf'}\n",
      "Best rmse:  0.0837335044929324\n",
      "Training model:  18\n"
     ]
    },
    {
     "name": "stderr",
     "output_type": "stream",
     "text": [
      "100%|██████████████████████████████████████████████████████████████████████████████████| 80/80 [00:01<00:00, 72.35it/s]\n"
     ]
    },
    {
     "name": "stdout",
     "output_type": "stream",
     "text": [
      "Best params:  {'C': 1, 'epsilon': 1e-05, 'gamma': 1, 'kernel': 'rbf'}\n",
      "Best rmse:  0.09937027436387512\n",
      "Training model:  19\n"
     ]
    },
    {
     "name": "stderr",
     "output_type": "stream",
     "text": [
      "100%|██████████████████████████████████████████████████████████████████████████████████| 80/80 [00:01<00:00, 73.33it/s]\n"
     ]
    },
    {
     "name": "stdout",
     "output_type": "stream",
     "text": [
      "Best params:  {'C': 1, 'epsilon': 0.01, 'gamma': 1, 'kernel': 'rbf'}\n",
      "Best rmse:  0.08028541104418206\n",
      "Training model:  20\n"
     ]
    },
    {
     "name": "stderr",
     "output_type": "stream",
     "text": [
      "100%|██████████████████████████████████████████████████████████████████████████████████| 80/80 [00:01<00:00, 73.97it/s]\n"
     ]
    },
    {
     "name": "stdout",
     "output_type": "stream",
     "text": [
      "Best params:  {'C': 10, 'epsilon': 0.01, 'gamma': 0.1, 'kernel': 'rbf'}\n",
      "Best rmse:  0.10198840187003057\n",
      "Training model:  21\n"
     ]
    },
    {
     "name": "stderr",
     "output_type": "stream",
     "text": [
      "100%|██████████████████████████████████████████████████████████████████████████████████| 80/80 [00:01<00:00, 75.66it/s]\n"
     ]
    },
    {
     "name": "stdout",
     "output_type": "stream",
     "text": [
      "Best params:  {'C': 1, 'epsilon': 0.01, 'gamma': 1, 'kernel': 'rbf'}\n",
      "Best rmse:  0.08855820731499552\n",
      "Training model:  22\n"
     ]
    },
    {
     "name": "stderr",
     "output_type": "stream",
     "text": [
      "100%|██████████████████████████████████████████████████████████████████████████████████| 80/80 [00:01<00:00, 75.78it/s]\n"
     ]
    },
    {
     "name": "stdout",
     "output_type": "stream",
     "text": [
      "Best params:  {'C': 1, 'epsilon': 1e-05, 'gamma': 1, 'kernel': 'rbf'}\n",
      "Best rmse:  0.10795269479400699\n",
      "Training model:  23\n"
     ]
    },
    {
     "name": "stderr",
     "output_type": "stream",
     "text": [
      "100%|██████████████████████████████████████████████████████████████████████████████████| 80/80 [00:01<00:00, 76.17it/s]\n"
     ]
    },
    {
     "name": "stdout",
     "output_type": "stream",
     "text": [
      "Best params:  {'C': 1, 'epsilon': 0.0001, 'gamma': 1, 'kernel': 'rbf'}\n",
      "Best rmse:  0.108535191797487\n",
      "Training model:  24\n"
     ]
    },
    {
     "name": "stderr",
     "output_type": "stream",
     "text": [
      "100%|██████████████████████████████████████████████████████████████████████████████████| 80/80 [00:01<00:00, 76.42it/s]\n"
     ]
    },
    {
     "name": "stdout",
     "output_type": "stream",
     "text": [
      "Best params:  {'C': 10, 'epsilon': 0.0001, 'gamma': 1, 'kernel': 'rbf'}\n",
      "Best rmse:  0.07865555474260014\n",
      "Training model:  25\n"
     ]
    },
    {
     "name": "stderr",
     "output_type": "stream",
     "text": [
      "100%|██████████████████████████████████████████████████████████████████████████████████| 80/80 [00:01<00:00, 77.04it/s]\n"
     ]
    },
    {
     "name": "stdout",
     "output_type": "stream",
     "text": [
      "Best params:  {'C': 10, 'epsilon': 0.01, 'gamma': 1, 'kernel': 'rbf'}\n",
      "Best rmse:  0.091150689510731\n",
      "Training model:  26\n"
     ]
    },
    {
     "name": "stderr",
     "output_type": "stream",
     "text": [
      "100%|██████████████████████████████████████████████████████████████████████████████████| 80/80 [00:01<00:00, 75.30it/s]\n"
     ]
    },
    {
     "name": "stdout",
     "output_type": "stream",
     "text": [
      "Best params:  {'C': 10, 'epsilon': 0.01, 'gamma': 1, 'kernel': 'rbf'}\n",
      "Best rmse:  0.0761684963831809\n",
      "Training model:  27\n"
     ]
    },
    {
     "name": "stderr",
     "output_type": "stream",
     "text": [
      "100%|██████████████████████████████████████████████████████████████████████████████████| 80/80 [00:01<00:00, 76.33it/s]\n"
     ]
    },
    {
     "name": "stdout",
     "output_type": "stream",
     "text": [
      "Best params:  {'C': 10, 'epsilon': 0.01, 'gamma': 0.1, 'kernel': 'rbf'}\n",
      "Best rmse:  0.10313682839497927\n",
      "Training model:  28\n"
     ]
    },
    {
     "name": "stderr",
     "output_type": "stream",
     "text": [
      "100%|██████████████████████████████████████████████████████████████████████████████████| 80/80 [00:01<00:00, 76.28it/s]\n"
     ]
    },
    {
     "name": "stdout",
     "output_type": "stream",
     "text": [
      "Best params:  {'C': 10, 'epsilon': 1e-05, 'gamma': 0.1, 'kernel': 'rbf'}\n",
      "Best rmse:  0.1167213845770216\n",
      "Training model:  29\n"
     ]
    },
    {
     "name": "stderr",
     "output_type": "stream",
     "text": [
      "100%|██████████████████████████████████████████████████████████████████████████████████| 80/80 [00:01<00:00, 76.29it/s]\n"
     ]
    },
    {
     "name": "stdout",
     "output_type": "stream",
     "text": [
      "Best params:  {'C': 10, 'epsilon': 0.01, 'gamma': 1, 'kernel': 'rbf'}\n",
      "Best rmse:  0.10788998758696736\n",
      "Training model:  30\n"
     ]
    },
    {
     "name": "stderr",
     "output_type": "stream",
     "text": [
      "100%|██████████████████████████████████████████████████████████████████████████████████| 80/80 [00:01<00:00, 76.60it/s]\n"
     ]
    },
    {
     "name": "stdout",
     "output_type": "stream",
     "text": [
      "Best params:  {'C': 10, 'epsilon': 1e-05, 'gamma': 1, 'kernel': 'rbf'}\n",
      "Best rmse:  0.11024884290226651\n",
      "Training model:  31\n"
     ]
    },
    {
     "name": "stderr",
     "output_type": "stream",
     "text": [
      "100%|██████████████████████████████████████████████████████████████████████████████████| 80/80 [00:01<00:00, 76.03it/s]\n"
     ]
    },
    {
     "name": "stdout",
     "output_type": "stream",
     "text": [
      "Best params:  {'C': 1, 'epsilon': 0.01, 'gamma': 1, 'kernel': 'rbf'}\n",
      "Best rmse:  0.1094306164140766\n",
      "Training model:  32\n"
     ]
    },
    {
     "name": "stderr",
     "output_type": "stream",
     "text": [
      "100%|██████████████████████████████████████████████████████████████████████████████████| 80/80 [00:01<00:00, 75.43it/s]\n"
     ]
    },
    {
     "name": "stdout",
     "output_type": "stream",
     "text": [
      "Best params:  {'C': 10, 'epsilon': 0.01, 'gamma': 1, 'kernel': 'rbf'}\n",
      "Best rmse:  0.10095698513760931\n",
      "Training model:  33\n"
     ]
    },
    {
     "name": "stderr",
     "output_type": "stream",
     "text": [
      "100%|██████████████████████████████████████████████████████████████████████████████████| 80/80 [00:01<00:00, 73.96it/s]\n"
     ]
    },
    {
     "name": "stdout",
     "output_type": "stream",
     "text": [
      "Best params:  {'C': 1, 'epsilon': 0.01, 'gamma': 1, 'kernel': 'rbf'}\n",
      "Best rmse:  0.11395234290561713\n",
      "Training model:  34\n"
     ]
    },
    {
     "name": "stderr",
     "output_type": "stream",
     "text": [
      "100%|██████████████████████████████████████████████████████████████████████████████████| 80/80 [00:01<00:00, 75.93it/s]\n"
     ]
    },
    {
     "name": "stdout",
     "output_type": "stream",
     "text": [
      "Best params:  {'C': 1, 'epsilon': 0.01, 'gamma': 1, 'kernel': 'rbf'}\n",
      "Best rmse:  0.08053370993929088\n",
      "Training model:  35\n"
     ]
    },
    {
     "name": "stderr",
     "output_type": "stream",
     "text": [
      "100%|██████████████████████████████████████████████████████████████████████████████████| 80/80 [00:01<00:00, 76.82it/s]\n"
     ]
    },
    {
     "name": "stdout",
     "output_type": "stream",
     "text": [
      "Best params:  {'C': 1, 'epsilon': 0.01, 'gamma': 1, 'kernel': 'rbf'}\n",
      "Best rmse:  0.10148374311625794\n",
      "Training model:  36\n"
     ]
    },
    {
     "name": "stderr",
     "output_type": "stream",
     "text": [
      "100%|██████████████████████████████████████████████████████████████████████████████████| 80/80 [00:01<00:00, 74.80it/s]\n"
     ]
    },
    {
     "name": "stdout",
     "output_type": "stream",
     "text": [
      "Best params:  {'C': 10, 'epsilon': 0.01, 'gamma': 0.1, 'kernel': 'rbf'}\n",
      "Best rmse:  0.10911194553773404\n",
      "Training model:  37\n"
     ]
    },
    {
     "name": "stderr",
     "output_type": "stream",
     "text": [
      "100%|██████████████████████████████████████████████████████████████████████████████████| 80/80 [00:01<00:00, 76.68it/s]\n"
     ]
    },
    {
     "name": "stdout",
     "output_type": "stream",
     "text": [
      "Best params:  {'C': 10, 'epsilon': 0.01, 'gamma': 1, 'kernel': 'rbf'}\n",
      "Best rmse:  0.11091327032336482\n",
      "Training model:  38\n"
     ]
    },
    {
     "name": "stderr",
     "output_type": "stream",
     "text": [
      "100%|██████████████████████████████████████████████████████████████████████████████████| 80/80 [00:01<00:00, 76.10it/s]\n"
     ]
    },
    {
     "name": "stdout",
     "output_type": "stream",
     "text": [
      "Best params:  {'C': 1, 'epsilon': 0.001, 'gamma': 0.1, 'kernel': 'rbf'}\n",
      "Best rmse:  0.07509995448781077\n",
      "Training model:  39\n"
     ]
    },
    {
     "name": "stderr",
     "output_type": "stream",
     "text": [
      "100%|██████████████████████████████████████████████████████████████████████████████████| 80/80 [00:01<00:00, 76.30it/s]\n"
     ]
    },
    {
     "name": "stdout",
     "output_type": "stream",
     "text": [
      "Best params:  {'C': 1, 'epsilon': 0.01, 'gamma': 1, 'kernel': 'rbf'}\n",
      "Best rmse:  0.08240988655864011\n",
      "Training model:  40\n"
     ]
    },
    {
     "name": "stderr",
     "output_type": "stream",
     "text": [
      "100%|██████████████████████████████████████████████████████████████████████████████████| 80/80 [00:01<00:00, 75.80it/s]\n"
     ]
    },
    {
     "name": "stdout",
     "output_type": "stream",
     "text": [
      "Best params:  {'C': 10, 'epsilon': 0.1, 'gamma': 0.1, 'kernel': 'rbf'}\n",
      "Best rmse:  0.11971199861140568\n",
      "Training model:  41\n"
     ]
    },
    {
     "name": "stderr",
     "output_type": "stream",
     "text": [
      "100%|██████████████████████████████████████████████████████████████████████████████████| 80/80 [00:01<00:00, 74.19it/s]\n"
     ]
    },
    {
     "name": "stdout",
     "output_type": "stream",
     "text": [
      "Best params:  {'C': 1, 'epsilon': 0.001, 'gamma': 1, 'kernel': 'rbf'}\n",
      "Best rmse:  0.10722243059152804\n",
      "Training model:  42\n"
     ]
    },
    {
     "name": "stderr",
     "output_type": "stream",
     "text": [
      "100%|██████████████████████████████████████████████████████████████████████████████████| 80/80 [00:01<00:00, 75.54it/s]\n"
     ]
    },
    {
     "name": "stdout",
     "output_type": "stream",
     "text": [
      "Best params:  {'C': 1, 'epsilon': 0.01, 'gamma': 1, 'kernel': 'rbf'}\n",
      "Best rmse:  0.12287528985708596\n",
      "Training model:  43\n"
     ]
    },
    {
     "name": "stderr",
     "output_type": "stream",
     "text": [
      "100%|██████████████████████████████████████████████████████████████████████████████████| 80/80 [00:01<00:00, 75.79it/s]\n"
     ]
    },
    {
     "name": "stdout",
     "output_type": "stream",
     "text": [
      "Best params:  {'C': 100, 'epsilon': 0.1, 'gamma': 0.001, 'kernel': 'rbf'}\n",
      "Best rmse:  0.10843447142171628\n",
      "Training model:  44\n"
     ]
    },
    {
     "name": "stderr",
     "output_type": "stream",
     "text": [
      "100%|██████████████████████████████████████████████████████████████████████████████████| 80/80 [00:01<00:00, 75.53it/s]\n"
     ]
    },
    {
     "name": "stdout",
     "output_type": "stream",
     "text": [
      "Best params:  {'C': 100, 'epsilon': 1e-05, 'gamma': 0.1, 'kernel': 'rbf'}\n",
      "Best rmse:  0.07527051112370317\n",
      "Training model:  45\n"
     ]
    },
    {
     "name": "stderr",
     "output_type": "stream",
     "text": [
      "100%|██████████████████████████████████████████████████████████████████████████████████| 80/80 [00:01<00:00, 76.05it/s]\n"
     ]
    },
    {
     "name": "stdout",
     "output_type": "stream",
     "text": [
      "Best params:  {'C': 1, 'epsilon': 0.01, 'gamma': 1, 'kernel': 'rbf'}\n",
      "Best rmse:  0.09736279394714697\n",
      "Training model:  46\n"
     ]
    },
    {
     "name": "stderr",
     "output_type": "stream",
     "text": [
      "100%|██████████████████████████████████████████████████████████████████████████████████| 80/80 [00:01<00:00, 75.05it/s]\n"
     ]
    },
    {
     "name": "stdout",
     "output_type": "stream",
     "text": [
      "Best params:  {'C': 10, 'epsilon': 0.001, 'gamma': 1, 'kernel': 'rbf'}\n",
      "Best rmse:  0.09964158980813889\n",
      "Training model:  47\n"
     ]
    },
    {
     "name": "stderr",
     "output_type": "stream",
     "text": [
      "100%|██████████████████████████████████████████████████████████████████████████████████| 80/80 [00:01<00:00, 76.28it/s]\n"
     ]
    },
    {
     "name": "stdout",
     "output_type": "stream",
     "text": [
      "Best params:  {'C': 1, 'epsilon': 0.01, 'gamma': 1, 'kernel': 'rbf'}\n",
      "Best rmse:  0.09741363240411502\n",
      "Training model:  48\n"
     ]
    },
    {
     "name": "stderr",
     "output_type": "stream",
     "text": [
      "100%|██████████████████████████████████████████████████████████████████████████████████| 80/80 [00:01<00:00, 77.19it/s]\n"
     ]
    },
    {
     "name": "stdout",
     "output_type": "stream",
     "text": [
      "Best params:  {'C': 10, 'epsilon': 0.1, 'gamma': 0.1, 'kernel': 'rbf'}\n",
      "Best rmse:  0.09910654522470891\n",
      "Training model:  49\n"
     ]
    },
    {
     "name": "stderr",
     "output_type": "stream",
     "text": [
      "100%|██████████████████████████████████████████████████████████████████████████████████| 80/80 [00:01<00:00, 76.29it/s]\n"
     ]
    },
    {
     "name": "stdout",
     "output_type": "stream",
     "text": [
      "Best params:  {'C': 1, 'epsilon': 0.01, 'gamma': 1, 'kernel': 'rbf'}\n",
      "Best rmse:  0.09909671517247538\n",
      "Training model:  50\n"
     ]
    },
    {
     "name": "stderr",
     "output_type": "stream",
     "text": [
      "100%|██████████████████████████████████████████████████████████████████████████████████| 80/80 [00:01<00:00, 75.06it/s]\n"
     ]
    },
    {
     "name": "stdout",
     "output_type": "stream",
     "text": [
      "Best params:  {'C': 10, 'epsilon': 1e-05, 'gamma': 0.1, 'kernel': 'rbf'}\n",
      "Best rmse:  0.1250793600740093\n",
      "Training model:  51\n"
     ]
    },
    {
     "name": "stderr",
     "output_type": "stream",
     "text": [
      "100%|██████████████████████████████████████████████████████████████████████████████████| 80/80 [00:01<00:00, 76.16it/s]\n"
     ]
    },
    {
     "name": "stdout",
     "output_type": "stream",
     "text": [
      "Best params:  {'C': 1, 'epsilon': 0.01, 'gamma': 1, 'kernel': 'rbf'}\n",
      "Best rmse:  0.08559706478728207\n",
      "Training model:  52\n"
     ]
    },
    {
     "name": "stderr",
     "output_type": "stream",
     "text": [
      "100%|██████████████████████████████████████████████████████████████████████████████████| 80/80 [00:01<00:00, 76.03it/s]\n"
     ]
    },
    {
     "name": "stdout",
     "output_type": "stream",
     "text": [
      "Best params:  {'C': 1, 'epsilon': 0.01, 'gamma': 0.1, 'kernel': 'rbf'}\n",
      "Best rmse:  0.12763409265009745\n",
      "Training model:  53\n"
     ]
    },
    {
     "name": "stderr",
     "output_type": "stream",
     "text": [
      "100%|██████████████████████████████████████████████████████████████████████████████████| 80/80 [00:01<00:00, 76.31it/s]\n"
     ]
    },
    {
     "name": "stdout",
     "output_type": "stream",
     "text": [
      "Best params:  {'C': 1, 'epsilon': 0.0001, 'gamma': 1, 'kernel': 'rbf'}\n",
      "Best rmse:  0.0728620329104778\n",
      "Training model:  54\n"
     ]
    },
    {
     "name": "stderr",
     "output_type": "stream",
     "text": [
      "100%|██████████████████████████████████████████████████████████████████████████████████| 80/80 [00:01<00:00, 76.29it/s]\n"
     ]
    },
    {
     "name": "stdout",
     "output_type": "stream",
     "text": [
      "Best params:  {'C': 1, 'epsilon': 0.01, 'gamma': 1, 'kernel': 'rbf'}\n",
      "Best rmse:  0.10405107862310559\n",
      "Training model:  55\n"
     ]
    },
    {
     "name": "stderr",
     "output_type": "stream",
     "text": [
      "100%|██████████████████████████████████████████████████████████████████████████████████| 80/80 [00:01<00:00, 75.92it/s]\n"
     ]
    },
    {
     "name": "stdout",
     "output_type": "stream",
     "text": [
      "Best params:  {'C': 1000, 'epsilon': 0.0001, 'gamma': 0.01, 'kernel': 'rbf'}\n",
      "Best rmse:  0.08493398710469469\n",
      "Training model:  56\n"
     ]
    },
    {
     "name": "stderr",
     "output_type": "stream",
     "text": [
      "100%|██████████████████████████████████████████████████████████████████████████████████| 80/80 [00:01<00:00, 75.67it/s]\n"
     ]
    },
    {
     "name": "stdout",
     "output_type": "stream",
     "text": [
      "Best params:  {'C': 1, 'epsilon': 0.001, 'gamma': 1, 'kernel': 'rbf'}\n",
      "Best rmse:  0.10373500223186605\n",
      "Training model:  57\n"
     ]
    },
    {
     "name": "stderr",
     "output_type": "stream",
     "text": [
      "100%|██████████████████████████████████████████████████████████████████████████████████| 80/80 [00:01<00:00, 75.42it/s]\n"
     ]
    },
    {
     "name": "stdout",
     "output_type": "stream",
     "text": [
      "Best params:  {'C': 1, 'epsilon': 0.01, 'gamma': 1, 'kernel': 'rbf'}\n",
      "Best rmse:  0.10105340446993101\n",
      "Training model:  58\n"
     ]
    },
    {
     "name": "stderr",
     "output_type": "stream",
     "text": [
      "100%|██████████████████████████████████████████████████████████████████████████████████| 80/80 [00:01<00:00, 75.66it/s]\n"
     ]
    },
    {
     "name": "stdout",
     "output_type": "stream",
     "text": [
      "Best params:  {'C': 1, 'epsilon': 0.001, 'gamma': 1, 'kernel': 'rbf'}\n",
      "Best rmse:  0.09569291709606928\n",
      "Training model:  59\n"
     ]
    },
    {
     "name": "stderr",
     "output_type": "stream",
     "text": [
      "100%|██████████████████████████████████████████████████████████████████████████████████| 80/80 [00:01<00:00, 76.40it/s]\n"
     ]
    },
    {
     "name": "stdout",
     "output_type": "stream",
     "text": [
      "Best params:  {'C': 1000, 'epsilon': 0.001, 'gamma': 0.01, 'kernel': 'rbf'}\n",
      "Best rmse:  0.08836740535937944\n",
      "Training model:  60\n"
     ]
    },
    {
     "name": "stderr",
     "output_type": "stream",
     "text": [
      "100%|██████████████████████████████████████████████████████████████████████████████████| 80/80 [00:01<00:00, 75.78it/s]\n"
     ]
    },
    {
     "name": "stdout",
     "output_type": "stream",
     "text": [
      "Best params:  {'C': 1, 'epsilon': 0.01, 'gamma': 1, 'kernel': 'rbf'}\n",
      "Best rmse:  0.09529459595490448\n",
      "Training model:  61\n"
     ]
    },
    {
     "name": "stderr",
     "output_type": "stream",
     "text": [
      "100%|██████████████████████████████████████████████████████████████████████████████████| 80/80 [00:01<00:00, 75.93it/s]\n"
     ]
    },
    {
     "name": "stdout",
     "output_type": "stream",
     "text": [
      "Best params:  {'C': 1, 'epsilon': 0.01, 'gamma': 1, 'kernel': 'rbf'}\n",
      "Best rmse:  0.09896159573967399\n",
      "Training model:  62\n"
     ]
    },
    {
     "name": "stderr",
     "output_type": "stream",
     "text": [
      "100%|██████████████████████████████████████████████████████████████████████████████████| 80/80 [00:01<00:00, 75.18it/s]\n"
     ]
    },
    {
     "name": "stdout",
     "output_type": "stream",
     "text": [
      "Best params:  {'C': 1, 'epsilon': 0.01, 'gamma': 1, 'kernel': 'rbf'}\n",
      "Best rmse:  0.08140642479709446\n",
      "Training model:  63\n"
     ]
    },
    {
     "name": "stderr",
     "output_type": "stream",
     "text": [
      "100%|██████████████████████████████████████████████████████████████████████████████████| 80/80 [00:01<00:00, 75.30it/s]\n"
     ]
    },
    {
     "name": "stdout",
     "output_type": "stream",
     "text": [
      "Best params:  {'C': 1, 'epsilon': 0.01, 'gamma': 1, 'kernel': 'rbf'}\n",
      "Best rmse:  0.09965584642324365\n",
      "Training model:  64\n"
     ]
    },
    {
     "name": "stderr",
     "output_type": "stream",
     "text": [
      "100%|██████████████████████████████████████████████████████████████████████████████████| 80/80 [00:01<00:00, 74.33it/s]\n"
     ]
    },
    {
     "name": "stdout",
     "output_type": "stream",
     "text": [
      "Best params:  {'C': 10, 'epsilon': 0.001, 'gamma': 0.1, 'kernel': 'rbf'}\n",
      "Best rmse:  0.09280094878199296\n",
      "Training model:  65\n"
     ]
    },
    {
     "name": "stderr",
     "output_type": "stream",
     "text": [
      "100%|██████████████████████████████████████████████████████████████████████████████████| 80/80 [00:01<00:00, 76.43it/s]\n"
     ]
    },
    {
     "name": "stdout",
     "output_type": "stream",
     "text": [
      "Best params:  {'C': 10, 'epsilon': 0.01, 'gamma': 0.1, 'kernel': 'rbf'}\n",
      "Best rmse:  0.0993261363793031\n",
      "Training model:  66\n"
     ]
    },
    {
     "name": "stderr",
     "output_type": "stream",
     "text": [
      "100%|██████████████████████████████████████████████████████████████████████████████████| 80/80 [00:01<00:00, 76.56it/s]\n"
     ]
    },
    {
     "name": "stdout",
     "output_type": "stream",
     "text": [
      "Best params:  {'C': 100, 'epsilon': 1e-05, 'gamma': 0.1, 'kernel': 'rbf'}\n",
      "Best rmse:  0.09584403469469116\n",
      "Training model:  67\n"
     ]
    },
    {
     "name": "stderr",
     "output_type": "stream",
     "text": [
      "100%|██████████████████████████████████████████████████████████████████████████████████| 80/80 [00:01<00:00, 75.77it/s]\n"
     ]
    },
    {
     "name": "stdout",
     "output_type": "stream",
     "text": [
      "Best params:  {'C': 1, 'epsilon': 0.01, 'gamma': 1, 'kernel': 'rbf'}\n",
      "Best rmse:  0.10381519629549507\n",
      "Training model:  68\n"
     ]
    },
    {
     "name": "stderr",
     "output_type": "stream",
     "text": [
      "100%|██████████████████████████████████████████████████████████████████████████████████| 80/80 [00:01<00:00, 76.59it/s]\n"
     ]
    },
    {
     "name": "stdout",
     "output_type": "stream",
     "text": [
      "Best params:  {'C': 100, 'epsilon': 0.1, 'gamma': 0.1, 'kernel': 'rbf'}\n",
      "Best rmse:  0.0991820100614396\n",
      "Training model:  69\n"
     ]
    },
    {
     "name": "stderr",
     "output_type": "stream",
     "text": [
      "100%|██████████████████████████████████████████████████████████████████████████████████| 80/80 [00:01<00:00, 77.30it/s]\n"
     ]
    },
    {
     "name": "stdout",
     "output_type": "stream",
     "text": [
      "Best params:  {'C': 10, 'epsilon': 0.0001, 'gamma': 1, 'kernel': 'rbf'}\n",
      "Best rmse:  0.09613721614385894\n",
      "Training model:  70\n"
     ]
    },
    {
     "name": "stderr",
     "output_type": "stream",
     "text": [
      "100%|██████████████████████████████████████████████████████████████████████████████████| 80/80 [00:01<00:00, 76.68it/s]\n"
     ]
    },
    {
     "name": "stdout",
     "output_type": "stream",
     "text": [
      "Best params:  {'C': 1, 'epsilon': 0.01, 'gamma': 1, 'kernel': 'rbf'}\n",
      "Best rmse:  0.12140651366477866\n",
      "Training model:  71\n"
     ]
    },
    {
     "name": "stderr",
     "output_type": "stream",
     "text": [
      "100%|██████████████████████████████████████████████████████████████████████████████████| 80/80 [00:01<00:00, 75.04it/s]\n"
     ]
    },
    {
     "name": "stdout",
     "output_type": "stream",
     "text": [
      "Best params:  {'C': 10, 'epsilon': 0.01, 'gamma': 0.1, 'kernel': 'rbf'}\n",
      "Best rmse:  0.10559792071531166\n",
      "Training model:  72\n"
     ]
    },
    {
     "name": "stderr",
     "output_type": "stream",
     "text": [
      "100%|██████████████████████████████████████████████████████████████████████████████████| 80/80 [00:01<00:00, 76.42it/s]\n"
     ]
    },
    {
     "name": "stdout",
     "output_type": "stream",
     "text": [
      "Best params:  {'C': 1, 'epsilon': 0.01, 'gamma': 1, 'kernel': 'rbf'}\n",
      "Best rmse:  0.09002087682683822\n",
      "Training model:  73\n"
     ]
    },
    {
     "name": "stderr",
     "output_type": "stream",
     "text": [
      "100%|██████████████████████████████████████████████████████████████████████████████████| 80/80 [00:01<00:00, 76.92it/s]\n"
     ]
    },
    {
     "name": "stdout",
     "output_type": "stream",
     "text": [
      "Best params:  {'C': 10, 'epsilon': 0.001, 'gamma': 0.1, 'kernel': 'rbf'}\n",
      "Best rmse:  0.13058281625009116\n",
      "Training model:  74\n"
     ]
    },
    {
     "name": "stderr",
     "output_type": "stream",
     "text": [
      "100%|██████████████████████████████████████████████████████████████████████████████████| 80/80 [00:01<00:00, 75.30it/s]\n"
     ]
    },
    {
     "name": "stdout",
     "output_type": "stream",
     "text": [
      "Best params:  {'C': 1, 'epsilon': 0.01, 'gamma': 1, 'kernel': 'rbf'}\n",
      "Best rmse:  0.09152404348749274\n",
      "Training model:  75\n"
     ]
    },
    {
     "name": "stderr",
     "output_type": "stream",
     "text": [
      "100%|██████████████████████████████████████████████████████████████████████████████████| 80/80 [00:01<00:00, 77.31it/s]\n"
     ]
    },
    {
     "name": "stdout",
     "output_type": "stream",
     "text": [
      "Best params:  {'C': 10, 'epsilon': 0.1, 'gamma': 0.1, 'kernel': 'rbf'}\n",
      "Best rmse:  0.10459618954991143\n",
      "Training model:  76\n"
     ]
    },
    {
     "name": "stderr",
     "output_type": "stream",
     "text": [
      "100%|██████████████████████████████████████████████████████████████████████████████████| 80/80 [00:01<00:00, 76.18it/s]\n"
     ]
    },
    {
     "name": "stdout",
     "output_type": "stream",
     "text": [
      "Best params:  {'C': 10, 'epsilon': 0.0001, 'gamma': 0.1, 'kernel': 'rbf'}\n",
      "Best rmse:  0.10340271060495819\n",
      "Training model:  77\n"
     ]
    },
    {
     "name": "stderr",
     "output_type": "stream",
     "text": [
      "100%|██████████████████████████████████████████████████████████████████████████████████| 80/80 [00:01<00:00, 74.94it/s]\n"
     ]
    },
    {
     "name": "stdout",
     "output_type": "stream",
     "text": [
      "Best params:  {'C': 1, 'epsilon': 0.01, 'gamma': 1, 'kernel': 'rbf'}\n",
      "Best rmse:  0.1211028108027334\n",
      "Training model:  78\n"
     ]
    },
    {
     "name": "stderr",
     "output_type": "stream",
     "text": [
      "100%|██████████████████████████████████████████████████████████████████████████████████| 80/80 [00:01<00:00, 75.42it/s]\n"
     ]
    },
    {
     "name": "stdout",
     "output_type": "stream",
     "text": [
      "Best params:  {'C': 1, 'epsilon': 0.01, 'gamma': 1, 'kernel': 'rbf'}\n",
      "Best rmse:  0.08657291130363995\n",
      "Training model:  79\n"
     ]
    },
    {
     "name": "stderr",
     "output_type": "stream",
     "text": [
      "100%|██████████████████████████████████████████████████████████████████████████████████| 80/80 [00:01<00:00, 75.65it/s]\n"
     ]
    },
    {
     "name": "stdout",
     "output_type": "stream",
     "text": [
      "Best params:  {'C': 10, 'epsilon': 0.01, 'gamma': 1, 'kernel': 'rbf'}\n",
      "Best rmse:  0.11053544888904965\n",
      "Training model:  80\n"
     ]
    },
    {
     "name": "stderr",
     "output_type": "stream",
     "text": [
      "100%|██████████████████████████████████████████████████████████████████████████████████| 80/80 [00:01<00:00, 76.80it/s]\n"
     ]
    },
    {
     "name": "stdout",
     "output_type": "stream",
     "text": [
      "Best params:  {'C': 10, 'epsilon': 0.0001, 'gamma': 1, 'kernel': 'rbf'}\n",
      "Best rmse:  0.07892786327094743\n",
      "Training model:  81\n"
     ]
    },
    {
     "name": "stderr",
     "output_type": "stream",
     "text": [
      "100%|██████████████████████████████████████████████████████████████████████████████████| 80/80 [00:01<00:00, 77.97it/s]\n"
     ]
    },
    {
     "name": "stdout",
     "output_type": "stream",
     "text": [
      "Best params:  {'C': 1, 'epsilon': 0.01, 'gamma': 1, 'kernel': 'rbf'}\n",
      "Best rmse:  0.09342266723113901\n",
      "Training model:  82\n"
     ]
    },
    {
     "name": "stderr",
     "output_type": "stream",
     "text": [
      "100%|██████████████████████████████████████████████████████████████████████████████████| 80/80 [00:01<00:00, 76.43it/s]\n"
     ]
    },
    {
     "name": "stdout",
     "output_type": "stream",
     "text": [
      "Best params:  {'C': 1, 'epsilon': 0.01, 'gamma': 1, 'kernel': 'rbf'}\n",
      "Best rmse:  0.11103170888620516\n",
      "Training model:  83\n"
     ]
    },
    {
     "name": "stderr",
     "output_type": "stream",
     "text": [
      "100%|██████████████████████████████████████████████████████████████████████████████████| 80/80 [00:01<00:00, 76.43it/s]\n"
     ]
    },
    {
     "name": "stdout",
     "output_type": "stream",
     "text": [
      "Best params:  {'C': 100, 'epsilon': 0.01, 'gamma': 0.001, 'kernel': 'rbf'}\n",
      "Best rmse:  0.09913567140205455\n",
      "Training model:  84\n"
     ]
    },
    {
     "name": "stderr",
     "output_type": "stream",
     "text": [
      "100%|██████████████████████████████████████████████████████████████████████████████████| 80/80 [00:01<00:00, 77.49it/s]\n"
     ]
    },
    {
     "name": "stdout",
     "output_type": "stream",
     "text": [
      "Best params:  {'C': 10, 'epsilon': 1e-05, 'gamma': 1, 'kernel': 'rbf'}\n",
      "Best rmse:  0.10083341493129429\n",
      "Training model:  85\n"
     ]
    },
    {
     "name": "stderr",
     "output_type": "stream",
     "text": [
      "100%|██████████████████████████████████████████████████████████████████████████████████| 80/80 [00:01<00:00, 74.12it/s]\n"
     ]
    },
    {
     "name": "stdout",
     "output_type": "stream",
     "text": [
      "Best params:  {'C': 1, 'epsilon': 0.01, 'gamma': 0.1, 'kernel': 'rbf'}\n",
      "Best rmse:  0.093955589779676\n",
      "Training model:  86\n"
     ]
    },
    {
     "name": "stderr",
     "output_type": "stream",
     "text": [
      "100%|██████████████████████████████████████████████████████████████████████████████████| 80/80 [00:01<00:00, 73.99it/s]\n"
     ]
    },
    {
     "name": "stdout",
     "output_type": "stream",
     "text": [
      "Best params:  {'C': 1, 'epsilon': 0.01, 'gamma': 0.1, 'kernel': 'rbf'}\n",
      "Best rmse:  0.10783753072901217\n",
      "Training model:  87\n"
     ]
    },
    {
     "name": "stderr",
     "output_type": "stream",
     "text": [
      "100%|██████████████████████████████████████████████████████████████████████████████████| 80/80 [00:01<00:00, 73.01it/s]\n"
     ]
    },
    {
     "name": "stdout",
     "output_type": "stream",
     "text": [
      "Best params:  {'C': 1, 'epsilon': 0.01, 'gamma': 1, 'kernel': 'rbf'}\n",
      "Best rmse:  0.08558893553538695\n",
      "Training model:  88\n"
     ]
    },
    {
     "name": "stderr",
     "output_type": "stream",
     "text": [
      "100%|██████████████████████████████████████████████████████████████████████████████████| 80/80 [00:01<00:00, 76.29it/s]\n"
     ]
    },
    {
     "name": "stdout",
     "output_type": "stream",
     "text": [
      "Best params:  {'C': 100, 'epsilon': 0.01, 'gamma': 0.001, 'kernel': 'rbf'}\n",
      "Best rmse:  0.09236124914472772\n",
      "Training model:  89\n"
     ]
    },
    {
     "name": "stderr",
     "output_type": "stream",
     "text": [
      "100%|██████████████████████████████████████████████████████████████████████████████████| 80/80 [00:01<00:00, 76.05it/s]\n"
     ]
    },
    {
     "name": "stdout",
     "output_type": "stream",
     "text": [
      "Best params:  {'C': 1, 'epsilon': 0.001, 'gamma': 1, 'kernel': 'rbf'}\n",
      "Best rmse:  0.0929803728653119\n",
      "Training model:  90\n"
     ]
    },
    {
     "name": "stderr",
     "output_type": "stream",
     "text": [
      "100%|██████████████████████████████████████████████████████████████████████████████████| 80/80 [00:01<00:00, 76.27it/s]\n"
     ]
    },
    {
     "name": "stdout",
     "output_type": "stream",
     "text": [
      "Best params:  {'C': 100, 'epsilon': 0.1, 'gamma': 0.01, 'kernel': 'rbf'}\n",
      "Best rmse:  0.10012489801604105\n",
      "Training model:  91\n"
     ]
    },
    {
     "name": "stderr",
     "output_type": "stream",
     "text": [
      "100%|██████████████████████████████████████████████████████████████████████████████████| 80/80 [00:01<00:00, 77.70it/s]\n"
     ]
    },
    {
     "name": "stdout",
     "output_type": "stream",
     "text": [
      "Best params:  {'C': 10, 'epsilon': 0.0001, 'gamma': 0.01, 'kernel': 'rbf'}\n",
      "Best rmse:  0.09841266021212326\n",
      "Training model:  92\n"
     ]
    },
    {
     "name": "stderr",
     "output_type": "stream",
     "text": [
      "100%|██████████████████████████████████████████████████████████████████████████████████| 80/80 [00:01<00:00, 72.69it/s]\n"
     ]
    },
    {
     "name": "stdout",
     "output_type": "stream",
     "text": [
      "Best params:  {'C': 1, 'epsilon': 0.1, 'gamma': 0.1, 'kernel': 'rbf'}\n",
      "Best rmse:  0.11147242231261827\n",
      "Training model:  93\n"
     ]
    },
    {
     "name": "stderr",
     "output_type": "stream",
     "text": [
      "100%|██████████████████████████████████████████████████████████████████████████████████| 80/80 [00:01<00:00, 73.97it/s]\n"
     ]
    },
    {
     "name": "stdout",
     "output_type": "stream",
     "text": [
      "Best params:  {'C': 1, 'epsilon': 0.01, 'gamma': 1, 'kernel': 'rbf'}\n",
      "Best rmse:  0.11214673505404663\n",
      "Training model:  94\n"
     ]
    },
    {
     "name": "stderr",
     "output_type": "stream",
     "text": [
      "100%|██████████████████████████████████████████████████████████████████████████████████| 80/80 [00:01<00:00, 76.54it/s]\n"
     ]
    },
    {
     "name": "stdout",
     "output_type": "stream",
     "text": [
      "Best params:  {'C': 10, 'epsilon': 0.01, 'gamma': 0.1, 'kernel': 'rbf'}\n",
      "Best rmse:  0.1186845180025294\n",
      "Training model:  95\n"
     ]
    },
    {
     "name": "stderr",
     "output_type": "stream",
     "text": [
      "100%|██████████████████████████████████████████████████████████████████████████████████| 80/80 [00:01<00:00, 75.53it/s]\n"
     ]
    },
    {
     "name": "stdout",
     "output_type": "stream",
     "text": [
      "Best params:  {'C': 1, 'epsilon': 0.01, 'gamma': 1, 'kernel': 'rbf'}\n",
      "Best rmse:  0.11784291041631917\n",
      "Training model:  96\n"
     ]
    },
    {
     "name": "stderr",
     "output_type": "stream",
     "text": [
      "100%|██████████████████████████████████████████████████████████████████████████████████| 80/80 [00:01<00:00, 76.16it/s]\n"
     ]
    },
    {
     "name": "stdout",
     "output_type": "stream",
     "text": [
      "Best params:  {'C': 100, 'epsilon': 0.001, 'gamma': 0.1, 'kernel': 'rbf'}\n",
      "Best rmse:  0.09118082758148734\n",
      "Training model:  97\n"
     ]
    },
    {
     "name": "stderr",
     "output_type": "stream",
     "text": [
      "100%|██████████████████████████████████████████████████████████████████████████████████| 80/80 [00:01<00:00, 77.06it/s]\n"
     ]
    },
    {
     "name": "stdout",
     "output_type": "stream",
     "text": [
      "Best params:  {'C': 100, 'epsilon': 0.1, 'gamma': 0.01, 'kernel': 'rbf'}\n",
      "Best rmse:  0.09843930854488966\n",
      "Training model:  98\n"
     ]
    },
    {
     "name": "stderr",
     "output_type": "stream",
     "text": [
      "100%|██████████████████████████████████████████████████████████████████████████████████| 80/80 [00:01<00:00, 75.96it/s]\n"
     ]
    },
    {
     "name": "stdout",
     "output_type": "stream",
     "text": [
      "Best params:  {'C': 1, 'epsilon': 0.01, 'gamma': 1, 'kernel': 'rbf'}\n",
      "Best rmse:  0.1023512414603316\n",
      "Training model:  99\n"
     ]
    },
    {
     "name": "stderr",
     "output_type": "stream",
     "text": [
      "100%|██████████████████████████████████████████████████████████████████████████████████| 80/80 [00:01<00:00, 76.05it/s]\n"
     ]
    },
    {
     "name": "stdout",
     "output_type": "stream",
     "text": [
      "Best params:  {'C': 1, 'epsilon': 0.0001, 'gamma': 1, 'kernel': 'rbf'}\n",
      "Best rmse:  0.09736762650450152\n"
     ]
    },
    {
     "name": "stderr",
     "output_type": "stream",
     "text": [
      "100%|████████████████████████████████████████████████████████████████████████████████| 800/800 [01:31<00:00,  8.73it/s]\n"
     ]
    },
    {
     "name": "stdout",
     "output_type": "stream",
     "text": [
      "Best params:  {'comb': 'median', 'k': 2, 'n': 17}\n",
      "Best rmse:  0.38716224514751835\n",
      "Time Series:  wine\n",
      "\n",
      "###############################################\n",
      "\n",
      "Executing: ENSEMBLE SVR\n",
      "d:  1\n",
      "Training model:  0\n"
     ]
    },
    {
     "name": "stderr",
     "output_type": "stream",
     "text": [
      "100%|██████████████████████████████████████████████████████████████████████████████████| 80/80 [00:01<00:00, 75.24it/s]\n"
     ]
    },
    {
     "name": "stdout",
     "output_type": "stream",
     "text": [
      "Best params:  {'C': 10, 'epsilon': 0.001, 'gamma': 0.1, 'kernel': 'rbf'}\n",
      "Best rmse:  0.07450021357198106\n",
      "Training model:  1\n"
     ]
    },
    {
     "name": "stderr",
     "output_type": "stream",
     "text": [
      "100%|██████████████████████████████████████████████████████████████████████████████████| 80/80 [00:01<00:00, 76.24it/s]\n"
     ]
    },
    {
     "name": "stdout",
     "output_type": "stream",
     "text": [
      "Best params:  {'C': 100, 'epsilon': 0.01, 'gamma': 0.1, 'kernel': 'rbf'}\n",
      "Best rmse:  0.0712092347710325\n",
      "Training model:  2\n"
     ]
    },
    {
     "name": "stderr",
     "output_type": "stream",
     "text": [
      "100%|██████████████████████████████████████████████████████████████████████████████████| 80/80 [00:01<00:00, 75.08it/s]\n"
     ]
    },
    {
     "name": "stdout",
     "output_type": "stream",
     "text": [
      "Best params:  {'C': 1, 'epsilon': 0.01, 'gamma': 1, 'kernel': 'rbf'}\n",
      "Best rmse:  0.06580941600846132\n",
      "Training model:  3\n"
     ]
    },
    {
     "name": "stderr",
     "output_type": "stream",
     "text": [
      "100%|██████████████████████████████████████████████████████████████████████████████████| 80/80 [00:01<00:00, 74.56it/s]\n"
     ]
    },
    {
     "name": "stdout",
     "output_type": "stream",
     "text": [
      "Best params:  {'C': 100, 'epsilon': 0.001, 'gamma': 0.1, 'kernel': 'rbf'}\n",
      "Best rmse:  0.06915654514204486\n",
      "Training model:  4\n"
     ]
    },
    {
     "name": "stderr",
     "output_type": "stream",
     "text": [
      "100%|██████████████████████████████████████████████████████████████████████████████████| 80/80 [00:01<00:00, 77.24it/s]\n"
     ]
    },
    {
     "name": "stdout",
     "output_type": "stream",
     "text": [
      "Best params:  {'C': 1, 'epsilon': 0.0001, 'gamma': 1, 'kernel': 'rbf'}\n",
      "Best rmse:  0.06058299401696197\n",
      "Training model:  5\n"
     ]
    },
    {
     "name": "stderr",
     "output_type": "stream",
     "text": [
      "100%|██████████████████████████████████████████████████████████████████████████████████| 80/80 [00:01<00:00, 68.90it/s]\n"
     ]
    },
    {
     "name": "stdout",
     "output_type": "stream",
     "text": [
      "Best params:  {'C': 1000, 'epsilon': 1e-05, 'gamma': 0.01, 'kernel': 'rbf'}\n",
      "Best rmse:  0.0722171237417807\n",
      "Training model:  6\n"
     ]
    },
    {
     "name": "stderr",
     "output_type": "stream",
     "text": [
      "100%|██████████████████████████████████████████████████████████████████████████████████| 80/80 [00:01<00:00, 74.30it/s]\n"
     ]
    },
    {
     "name": "stdout",
     "output_type": "stream",
     "text": [
      "Best params:  {'C': 1000, 'epsilon': 0.01, 'gamma': 0.1, 'kernel': 'rbf'}\n",
      "Best rmse:  0.07750295098634151\n",
      "Training model:  7\n"
     ]
    },
    {
     "name": "stderr",
     "output_type": "stream",
     "text": [
      "100%|██████████████████████████████████████████████████████████████████████████████████| 80/80 [00:01<00:00, 74.11it/s]\n"
     ]
    },
    {
     "name": "stdout",
     "output_type": "stream",
     "text": [
      "Best params:  {'C': 1, 'epsilon': 0.0001, 'gamma': 1, 'kernel': 'rbf'}\n",
      "Best rmse:  0.05047882010073201\n",
      "Training model:  8\n"
     ]
    },
    {
     "name": "stderr",
     "output_type": "stream",
     "text": [
      "100%|██████████████████████████████████████████████████████████████████████████████████| 80/80 [00:01<00:00, 76.53it/s]\n"
     ]
    },
    {
     "name": "stdout",
     "output_type": "stream",
     "text": [
      "Best params:  {'C': 100, 'epsilon': 0.0001, 'gamma': 0.1, 'kernel': 'rbf'}\n",
      "Best rmse:  0.06308653920529043\n",
      "Training model:  9\n"
     ]
    },
    {
     "name": "stderr",
     "output_type": "stream",
     "text": [
      "100%|██████████████████████████████████████████████████████████████████████████████████| 80/80 [00:01<00:00, 76.98it/s]\n"
     ]
    },
    {
     "name": "stdout",
     "output_type": "stream",
     "text": [
      "Best params:  {'C': 1, 'epsilon': 0.0001, 'gamma': 1, 'kernel': 'rbf'}\n",
      "Best rmse:  0.06182652304279422\n",
      "Training model:  10\n"
     ]
    },
    {
     "name": "stderr",
     "output_type": "stream",
     "text": [
      "100%|██████████████████████████████████████████████████████████████████████████████████| 80/80 [00:01<00:00, 72.68it/s]\n"
     ]
    },
    {
     "name": "stdout",
     "output_type": "stream",
     "text": [
      "Best params:  {'C': 1, 'epsilon': 0.01, 'gamma': 1, 'kernel': 'rbf'}\n",
      "Best rmse:  0.0547629820450231\n",
      "Training model:  11\n"
     ]
    },
    {
     "name": "stderr",
     "output_type": "stream",
     "text": [
      "100%|██████████████████████████████████████████████████████████████████████████████████| 80/80 [00:01<00:00, 76.04it/s]\n"
     ]
    },
    {
     "name": "stdout",
     "output_type": "stream",
     "text": [
      "Best params:  {'C': 1, 'epsilon': 0.01, 'gamma': 1, 'kernel': 'rbf'}\n",
      "Best rmse:  0.05126421554920525\n",
      "Training model:  12\n"
     ]
    },
    {
     "name": "stderr",
     "output_type": "stream",
     "text": [
      "100%|██████████████████████████████████████████████████████████████████████████████████| 80/80 [00:01<00:00, 75.31it/s]\n"
     ]
    },
    {
     "name": "stdout",
     "output_type": "stream",
     "text": [
      "Best params:  {'C': 100, 'epsilon': 0.01, 'gamma': 0.1, 'kernel': 'rbf'}\n",
      "Best rmse:  0.07262979126529079\n",
      "Training model:  13\n"
     ]
    },
    {
     "name": "stderr",
     "output_type": "stream",
     "text": [
      "100%|██████████████████████████████████████████████████████████████████████████████████| 80/80 [00:01<00:00, 76.43it/s]\n"
     ]
    },
    {
     "name": "stdout",
     "output_type": "stream",
     "text": [
      "Best params:  {'C': 1, 'epsilon': 0.1, 'gamma': 1, 'kernel': 'rbf'}\n",
      "Best rmse:  0.07087907768642748\n",
      "Training model:  14\n"
     ]
    },
    {
     "name": "stderr",
     "output_type": "stream",
     "text": [
      "100%|██████████████████████████████████████████████████████████████████████████████████| 80/80 [00:01<00:00, 75.43it/s]\n"
     ]
    },
    {
     "name": "stdout",
     "output_type": "stream",
     "text": [
      "Best params:  {'C': 10, 'epsilon': 0.01, 'gamma': 0.1, 'kernel': 'rbf'}\n",
      "Best rmse:  0.07399656218138634\n",
      "Training model:  15\n"
     ]
    },
    {
     "name": "stderr",
     "output_type": "stream",
     "text": [
      "100%|██████████████████████████████████████████████████████████████████████████████████| 80/80 [00:01<00:00, 75.49it/s]\n"
     ]
    },
    {
     "name": "stdout",
     "output_type": "stream",
     "text": [
      "Best params:  {'C': 10, 'epsilon': 0.01, 'gamma': 1, 'kernel': 'rbf'}\n",
      "Best rmse:  0.07044486660077853\n",
      "Training model:  16\n"
     ]
    },
    {
     "name": "stderr",
     "output_type": "stream",
     "text": [
      "100%|██████████████████████████████████████████████████████████████████████████████████| 80/80 [00:01<00:00, 75.80it/s]\n"
     ]
    },
    {
     "name": "stdout",
     "output_type": "stream",
     "text": [
      "Best params:  {'C': 1, 'epsilon': 1e-05, 'gamma': 1, 'kernel': 'rbf'}\n",
      "Best rmse:  0.05270020568433747\n",
      "Training model:  17\n"
     ]
    },
    {
     "name": "stderr",
     "output_type": "stream",
     "text": [
      "100%|██████████████████████████████████████████████████████████████████████████████████| 80/80 [00:01<00:00, 74.58it/s]\n"
     ]
    },
    {
     "name": "stdout",
     "output_type": "stream",
     "text": [
      "Best params:  {'C': 10, 'epsilon': 0.01, 'gamma': 1, 'kernel': 'rbf'}\n",
      "Best rmse:  0.06901589850978511\n",
      "Training model:  18\n"
     ]
    },
    {
     "name": "stderr",
     "output_type": "stream",
     "text": [
      "100%|██████████████████████████████████████████████████████████████████████████████████| 80/80 [00:01<00:00, 75.66it/s]\n"
     ]
    },
    {
     "name": "stdout",
     "output_type": "stream",
     "text": [
      "Best params:  {'C': 100, 'epsilon': 0.01, 'gamma': 0.1, 'kernel': 'rbf'}\n",
      "Best rmse:  0.06255571098019759\n",
      "Training model:  19\n"
     ]
    },
    {
     "name": "stderr",
     "output_type": "stream",
     "text": [
      "100%|██████████████████████████████████████████████████████████████████████████████████| 80/80 [00:01<00:00, 76.29it/s]\n"
     ]
    },
    {
     "name": "stdout",
     "output_type": "stream",
     "text": [
      "Best params:  {'C': 1000, 'epsilon': 0.01, 'gamma': 0.1, 'kernel': 'rbf'}\n",
      "Best rmse:  0.05623292801794216\n",
      "Training model:  20\n"
     ]
    },
    {
     "name": "stderr",
     "output_type": "stream",
     "text": [
      "100%|██████████████████████████████████████████████████████████████████████████████████| 80/80 [00:01<00:00, 75.66it/s]\n"
     ]
    },
    {
     "name": "stdout",
     "output_type": "stream",
     "text": [
      "Best params:  {'C': 1, 'epsilon': 1e-05, 'gamma': 1, 'kernel': 'rbf'}\n",
      "Best rmse:  0.07503698129556113\n",
      "Training model:  21\n"
     ]
    },
    {
     "name": "stderr",
     "output_type": "stream",
     "text": [
      "100%|██████████████████████████████████████████████████████████████████████████████████| 80/80 [00:01<00:00, 74.68it/s]\n"
     ]
    },
    {
     "name": "stdout",
     "output_type": "stream",
     "text": [
      "Best params:  {'C': 10, 'epsilon': 1e-05, 'gamma': 1, 'kernel': 'rbf'}\n",
      "Best rmse:  0.059693495021356464\n",
      "Training model:  22\n"
     ]
    },
    {
     "name": "stderr",
     "output_type": "stream",
     "text": [
      "100%|██████████████████████████████████████████████████████████████████████████████████| 80/80 [00:01<00:00, 75.66it/s]\n"
     ]
    },
    {
     "name": "stdout",
     "output_type": "stream",
     "text": [
      "Best params:  {'C': 1, 'epsilon': 0.0001, 'gamma': 1, 'kernel': 'rbf'}\n",
      "Best rmse:  0.05543194713520406\n",
      "Training model:  23\n"
     ]
    },
    {
     "name": "stderr",
     "output_type": "stream",
     "text": [
      "100%|██████████████████████████████████████████████████████████████████████████████████| 80/80 [00:01<00:00, 75.75it/s]\n"
     ]
    },
    {
     "name": "stdout",
     "output_type": "stream",
     "text": [
      "Best params:  {'C': 100, 'epsilon': 0.01, 'gamma': 0.01, 'kernel': 'rbf'}\n",
      "Best rmse:  0.048980538615692834\n",
      "Training model:  24\n"
     ]
    },
    {
     "name": "stderr",
     "output_type": "stream",
     "text": [
      "100%|██████████████████████████████████████████████████████████████████████████████████| 80/80 [00:01<00:00, 75.79it/s]\n"
     ]
    },
    {
     "name": "stdout",
     "output_type": "stream",
     "text": [
      "Best params:  {'C': 1, 'epsilon': 0.01, 'gamma': 1, 'kernel': 'rbf'}\n",
      "Best rmse:  0.07147840055503951\n",
      "Training model:  25\n"
     ]
    },
    {
     "name": "stderr",
     "output_type": "stream",
     "text": [
      "100%|██████████████████████████████████████████████████████████████████████████████████| 80/80 [00:01<00:00, 76.05it/s]\n"
     ]
    },
    {
     "name": "stdout",
     "output_type": "stream",
     "text": [
      "Best params:  {'C': 1000, 'epsilon': 0.01, 'gamma': 0.01, 'kernel': 'rbf'}\n",
      "Best rmse:  0.0584017195458637\n",
      "Training model:  26\n"
     ]
    },
    {
     "name": "stderr",
     "output_type": "stream",
     "text": [
      "100%|██████████████████████████████████████████████████████████████████████████████████| 80/80 [00:01<00:00, 77.06it/s]\n"
     ]
    },
    {
     "name": "stdout",
     "output_type": "stream",
     "text": [
      "Best params:  {'C': 1000, 'epsilon': 0.01, 'gamma': 0.01, 'kernel': 'rbf'}\n",
      "Best rmse:  0.05371600810029907\n",
      "Training model:  27\n"
     ]
    },
    {
     "name": "stderr",
     "output_type": "stream",
     "text": [
      "100%|██████████████████████████████████████████████████████████████████████████████████| 80/80 [00:01<00:00, 75.06it/s]\n"
     ]
    },
    {
     "name": "stdout",
     "output_type": "stream",
     "text": [
      "Best params:  {'C': 10, 'epsilon': 0.001, 'gamma': 1, 'kernel': 'rbf'}\n",
      "Best rmse:  0.07762806178125217\n",
      "Training model:  28\n"
     ]
    },
    {
     "name": "stderr",
     "output_type": "stream",
     "text": [
      "100%|██████████████████████████████████████████████████████████████████████████████████| 80/80 [00:01<00:00, 76.46it/s]\n"
     ]
    },
    {
     "name": "stdout",
     "output_type": "stream",
     "text": [
      "Best params:  {'C': 1, 'epsilon': 0.01, 'gamma': 1, 'kernel': 'rbf'}\n",
      "Best rmse:  0.07041403221964163\n",
      "Training model:  29\n"
     ]
    },
    {
     "name": "stderr",
     "output_type": "stream",
     "text": [
      "100%|██████████████████████████████████████████████████████████████████████████████████| 80/80 [00:01<00:00, 76.15it/s]\n"
     ]
    },
    {
     "name": "stdout",
     "output_type": "stream",
     "text": [
      "Best params:  {'C': 10, 'epsilon': 0.001, 'gamma': 1, 'kernel': 'rbf'}\n",
      "Best rmse:  0.05321942935745776\n",
      "Training model:  30\n"
     ]
    },
    {
     "name": "stderr",
     "output_type": "stream",
     "text": [
      "100%|██████████████████████████████████████████████████████████████████████████████████| 80/80 [00:01<00:00, 76.05it/s]\n"
     ]
    },
    {
     "name": "stdout",
     "output_type": "stream",
     "text": [
      "Best params:  {'C': 1000, 'epsilon': 0.01, 'gamma': 0.01, 'kernel': 'rbf'}\n",
      "Best rmse:  0.09295524377286708\n",
      "Training model:  31\n"
     ]
    },
    {
     "name": "stderr",
     "output_type": "stream",
     "text": [
      "100%|██████████████████████████████████████████████████████████████████████████████████| 80/80 [00:01<00:00, 75.66it/s]\n"
     ]
    },
    {
     "name": "stdout",
     "output_type": "stream",
     "text": [
      "Best params:  {'C': 1, 'epsilon': 0.0001, 'gamma': 1, 'kernel': 'rbf'}\n",
      "Best rmse:  0.06154323745992697\n",
      "Training model:  32\n"
     ]
    },
    {
     "name": "stderr",
     "output_type": "stream",
     "text": [
      "100%|██████████████████████████████████████████████████████████████████████████████████| 80/80 [00:01<00:00, 75.41it/s]\n"
     ]
    },
    {
     "name": "stdout",
     "output_type": "stream",
     "text": [
      "Best params:  {'C': 1000, 'epsilon': 0.01, 'gamma': 0.01, 'kernel': 'rbf'}\n",
      "Best rmse:  0.07574602675020267\n",
      "Training model:  33\n"
     ]
    },
    {
     "name": "stderr",
     "output_type": "stream",
     "text": [
      "100%|██████████████████████████████████████████████████████████████████████████████████| 80/80 [00:01<00:00, 76.53it/s]\n"
     ]
    },
    {
     "name": "stdout",
     "output_type": "stream",
     "text": [
      "Best params:  {'C': 10, 'epsilon': 0.01, 'gamma': 1, 'kernel': 'rbf'}\n",
      "Best rmse:  0.059595901783279365\n",
      "Training model:  34\n"
     ]
    },
    {
     "name": "stderr",
     "output_type": "stream",
     "text": [
      "100%|██████████████████████████████████████████████████████████████████████████████████| 80/80 [00:01<00:00, 74.56it/s]\n"
     ]
    },
    {
     "name": "stdout",
     "output_type": "stream",
     "text": [
      "Best params:  {'C': 10, 'epsilon': 0.01, 'gamma': 1, 'kernel': 'rbf'}\n",
      "Best rmse:  0.08033776761279725\n",
      "Training model:  35\n"
     ]
    },
    {
     "name": "stderr",
     "output_type": "stream",
     "text": [
      "100%|██████████████████████████████████████████████████████████████████████████████████| 80/80 [00:01<00:00, 76.17it/s]\n"
     ]
    },
    {
     "name": "stdout",
     "output_type": "stream",
     "text": [
      "Best params:  {'C': 10, 'epsilon': 0.0001, 'gamma': 1, 'kernel': 'rbf'}\n",
      "Best rmse:  0.06409593798798933\n",
      "Training model:  36\n"
     ]
    },
    {
     "name": "stderr",
     "output_type": "stream",
     "text": [
      "100%|██████████████████████████████████████████████████████████████████████████████████| 80/80 [00:01<00:00, 73.98it/s]\n"
     ]
    },
    {
     "name": "stdout",
     "output_type": "stream",
     "text": [
      "Best params:  {'C': 10, 'epsilon': 0.01, 'gamma': 1, 'kernel': 'rbf'}\n",
      "Best rmse:  0.0866565042246403\n",
      "Training model:  37\n"
     ]
    },
    {
     "name": "stderr",
     "output_type": "stream",
     "text": [
      "100%|██████████████████████████████████████████████████████████████████████████████████| 80/80 [00:01<00:00, 76.03it/s]\n"
     ]
    },
    {
     "name": "stdout",
     "output_type": "stream",
     "text": [
      "Best params:  {'C': 1, 'epsilon': 0.001, 'gamma': 1, 'kernel': 'rbf'}\n",
      "Best rmse:  0.04846750374844353\n",
      "Training model:  38\n"
     ]
    },
    {
     "name": "stderr",
     "output_type": "stream",
     "text": [
      "100%|██████████████████████████████████████████████████████████████████████████████████| 80/80 [00:01<00:00, 76.67it/s]\n"
     ]
    },
    {
     "name": "stdout",
     "output_type": "stream",
     "text": [
      "Best params:  {'C': 1, 'epsilon': 1e-05, 'gamma': 1, 'kernel': 'rbf'}\n",
      "Best rmse:  0.06471757109159287\n",
      "Training model:  39\n"
     ]
    },
    {
     "name": "stderr",
     "output_type": "stream",
     "text": [
      "100%|██████████████████████████████████████████████████████████████████████████████████| 80/80 [00:01<00:00, 75.43it/s]\n"
     ]
    },
    {
     "name": "stdout",
     "output_type": "stream",
     "text": [
      "Best params:  {'C': 1, 'epsilon': 0.01, 'gamma': 1, 'kernel': 'rbf'}\n",
      "Best rmse:  0.06613682574900692\n",
      "Training model:  40\n"
     ]
    },
    {
     "name": "stderr",
     "output_type": "stream",
     "text": [
      "100%|██████████████████████████████████████████████████████████████████████████████████| 80/80 [00:01<00:00, 74.55it/s]\n"
     ]
    },
    {
     "name": "stdout",
     "output_type": "stream",
     "text": [
      "Best params:  {'C': 10, 'epsilon': 0.001, 'gamma': 1, 'kernel': 'rbf'}\n",
      "Best rmse:  0.05035650786222646\n",
      "Training model:  41\n"
     ]
    },
    {
     "name": "stderr",
     "output_type": "stream",
     "text": [
      "100%|██████████████████████████████████████████████████████████████████████████████████| 80/80 [00:01<00:00, 76.19it/s]\n"
     ]
    },
    {
     "name": "stdout",
     "output_type": "stream",
     "text": [
      "Best params:  {'C': 10, 'epsilon': 0.01, 'gamma': 1, 'kernel': 'rbf'}\n",
      "Best rmse:  0.04748850206429709\n",
      "Training model:  42\n"
     ]
    },
    {
     "name": "stderr",
     "output_type": "stream",
     "text": [
      "100%|██████████████████████████████████████████████████████████████████████████████████| 80/80 [00:01<00:00, 76.28it/s]\n"
     ]
    },
    {
     "name": "stdout",
     "output_type": "stream",
     "text": [
      "Best params:  {'C': 1, 'epsilon': 1e-05, 'gamma': 0.01, 'kernel': 'rbf'}\n",
      "Best rmse:  0.06906416108073087\n",
      "Training model:  43\n"
     ]
    },
    {
     "name": "stderr",
     "output_type": "stream",
     "text": [
      "100%|██████████████████████████████████████████████████████████████████████████████████| 80/80 [00:01<00:00, 75.43it/s]\n"
     ]
    },
    {
     "name": "stdout",
     "output_type": "stream",
     "text": [
      "Best params:  {'C': 1000, 'epsilon': 0.01, 'gamma': 0.01, 'kernel': 'rbf'}\n",
      "Best rmse:  0.055003902177879725\n",
      "Training model:  44\n"
     ]
    },
    {
     "name": "stderr",
     "output_type": "stream",
     "text": [
      "100%|██████████████████████████████████████████████████████████████████████████████████| 80/80 [00:01<00:00, 76.55it/s]\n"
     ]
    },
    {
     "name": "stdout",
     "output_type": "stream",
     "text": [
      "Best params:  {'C': 1000, 'epsilon': 0.001, 'gamma': 0.01, 'kernel': 'rbf'}\n",
      "Best rmse:  0.07746239460031228\n",
      "Training model:  45\n"
     ]
    },
    {
     "name": "stderr",
     "output_type": "stream",
     "text": [
      "100%|██████████████████████████████████████████████████████████████████████████████████| 80/80 [00:01<00:00, 76.55it/s]\n"
     ]
    },
    {
     "name": "stdout",
     "output_type": "stream",
     "text": [
      "Best params:  {'C': 1000, 'epsilon': 1e-05, 'gamma': 0.01, 'kernel': 'rbf'}\n",
      "Best rmse:  0.0662768299230093\n",
      "Training model:  46\n"
     ]
    },
    {
     "name": "stderr",
     "output_type": "stream",
     "text": [
      "100%|██████████████████████████████████████████████████████████████████████████████████| 80/80 [00:01<00:00, 75.55it/s]\n"
     ]
    },
    {
     "name": "stdout",
     "output_type": "stream",
     "text": [
      "Best params:  {'C': 1, 'epsilon': 0.01, 'gamma': 1, 'kernel': 'rbf'}\n",
      "Best rmse:  0.05478539589337054\n",
      "Training model:  47\n"
     ]
    },
    {
     "name": "stderr",
     "output_type": "stream",
     "text": [
      "100%|██████████████████████████████████████████████████████████████████████████████████| 80/80 [00:01<00:00, 75.06it/s]\n"
     ]
    },
    {
     "name": "stdout",
     "output_type": "stream",
     "text": [
      "Best params:  {'C': 10, 'epsilon': 0.01, 'gamma': 1, 'kernel': 'rbf'}\n",
      "Best rmse:  0.0629506654002048\n",
      "Training model:  48\n"
     ]
    },
    {
     "name": "stderr",
     "output_type": "stream",
     "text": [
      "100%|██████████████████████████████████████████████████████████████████████████████████| 80/80 [00:01<00:00, 75.53it/s]\n"
     ]
    },
    {
     "name": "stdout",
     "output_type": "stream",
     "text": [
      "Best params:  {'C': 100, 'epsilon': 0.0001, 'gamma': 0.1, 'kernel': 'rbf'}\n",
      "Best rmse:  0.07811221875210171\n",
      "Training model:  49\n"
     ]
    },
    {
     "name": "stderr",
     "output_type": "stream",
     "text": [
      "100%|██████████████████████████████████████████████████████████████████████████████████| 80/80 [00:01<00:00, 74.81it/s]\n"
     ]
    },
    {
     "name": "stdout",
     "output_type": "stream",
     "text": [
      "Best params:  {'C': 10, 'epsilon': 0.001, 'gamma': 1, 'kernel': 'rbf'}\n",
      "Best rmse:  0.06803259498945287\n",
      "Training model:  50\n"
     ]
    },
    {
     "name": "stderr",
     "output_type": "stream",
     "text": [
      "100%|██████████████████████████████████████████████████████████████████████████████████| 80/80 [00:01<00:00, 75.68it/s]\n"
     ]
    },
    {
     "name": "stdout",
     "output_type": "stream",
     "text": [
      "Best params:  {'C': 100, 'epsilon': 1e-05, 'gamma': 0.1, 'kernel': 'rbf'}\n",
      "Best rmse:  0.07051280822121067\n",
      "Training model:  51\n"
     ]
    },
    {
     "name": "stderr",
     "output_type": "stream",
     "text": [
      "100%|██████████████████████████████████████████████████████████████████████████████████| 80/80 [00:01<00:00, 75.30it/s]\n"
     ]
    },
    {
     "name": "stdout",
     "output_type": "stream",
     "text": [
      "Best params:  {'C': 1000, 'epsilon': 0.01, 'gamma': 0.01, 'kernel': 'rbf'}\n",
      "Best rmse:  0.07524902720833736\n",
      "Training model:  52\n"
     ]
    },
    {
     "name": "stderr",
     "output_type": "stream",
     "text": [
      "100%|██████████████████████████████████████████████████████████████████████████████████| 80/80 [00:01<00:00, 76.81it/s]\n"
     ]
    },
    {
     "name": "stdout",
     "output_type": "stream",
     "text": [
      "Best params:  {'C': 1000, 'epsilon': 0.01, 'gamma': 0.01, 'kernel': 'rbf'}\n",
      "Best rmse:  0.05171133536856774\n",
      "Training model:  53\n"
     ]
    },
    {
     "name": "stderr",
     "output_type": "stream",
     "text": [
      "100%|██████████████████████████████████████████████████████████████████████████████████| 80/80 [00:01<00:00, 77.54it/s]\n"
     ]
    },
    {
     "name": "stdout",
     "output_type": "stream",
     "text": [
      "Best params:  {'C': 1, 'epsilon': 0.001, 'gamma': 1, 'kernel': 'rbf'}\n",
      "Best rmse:  0.06675929464805058\n",
      "Training model:  54\n"
     ]
    },
    {
     "name": "stderr",
     "output_type": "stream",
     "text": [
      "100%|██████████████████████████████████████████████████████████████████████████████████| 80/80 [00:01<00:00, 75.53it/s]\n"
     ]
    },
    {
     "name": "stdout",
     "output_type": "stream",
     "text": [
      "Best params:  {'C': 1000, 'epsilon': 0.0001, 'gamma': 0.01, 'kernel': 'rbf'}\n",
      "Best rmse:  0.07362586058740192\n",
      "Training model:  55\n"
     ]
    },
    {
     "name": "stderr",
     "output_type": "stream",
     "text": [
      "100%|██████████████████████████████████████████████████████████████████████████████████| 80/80 [00:01<00:00, 75.51it/s]\n"
     ]
    },
    {
     "name": "stdout",
     "output_type": "stream",
     "text": [
      "Best params:  {'C': 1000, 'epsilon': 0.01, 'gamma': 0.01, 'kernel': 'rbf'}\n",
      "Best rmse:  0.07549561237297972\n",
      "Training model:  56\n"
     ]
    },
    {
     "name": "stderr",
     "output_type": "stream",
     "text": [
      "100%|██████████████████████████████████████████████████████████████████████████████████| 80/80 [00:01<00:00, 75.53it/s]\n"
     ]
    },
    {
     "name": "stdout",
     "output_type": "stream",
     "text": [
      "Best params:  {'C': 1, 'epsilon': 0.01, 'gamma': 1, 'kernel': 'rbf'}\n",
      "Best rmse:  0.0620360639398249\n",
      "Training model:  57\n"
     ]
    },
    {
     "name": "stderr",
     "output_type": "stream",
     "text": [
      "100%|██████████████████████████████████████████████████████████████████████████████████| 80/80 [00:01<00:00, 76.71it/s]\n"
     ]
    },
    {
     "name": "stdout",
     "output_type": "stream",
     "text": [
      "Best params:  {'C': 10, 'epsilon': 0.01, 'gamma': 0.1, 'kernel': 'rbf'}\n",
      "Best rmse:  0.06253697878592428\n",
      "Training model:  58\n"
     ]
    },
    {
     "name": "stderr",
     "output_type": "stream",
     "text": [
      "100%|██████████████████████████████████████████████████████████████████████████████████| 80/80 [00:01<00:00, 75.54it/s]\n"
     ]
    },
    {
     "name": "stdout",
     "output_type": "stream",
     "text": [
      "Best params:  {'C': 10, 'epsilon': 0.01, 'gamma': 1, 'kernel': 'rbf'}\n",
      "Best rmse:  0.07717102578986787\n",
      "Training model:  59\n"
     ]
    },
    {
     "name": "stderr",
     "output_type": "stream",
     "text": [
      "100%|██████████████████████████████████████████████████████████████████████████████████| 80/80 [00:01<00:00, 76.78it/s]\n"
     ]
    },
    {
     "name": "stdout",
     "output_type": "stream",
     "text": [
      "Best params:  {'C': 10, 'epsilon': 0.01, 'gamma': 1, 'kernel': 'rbf'}\n",
      "Best rmse:  0.0711868117230232\n",
      "Training model:  60\n"
     ]
    },
    {
     "name": "stderr",
     "output_type": "stream",
     "text": [
      "100%|██████████████████████████████████████████████████████████████████████████████████| 80/80 [00:01<00:00, 76.79it/s]\n"
     ]
    },
    {
     "name": "stdout",
     "output_type": "stream",
     "text": [
      "Best params:  {'C': 100, 'epsilon': 0.0001, 'gamma': 0.1, 'kernel': 'rbf'}\n",
      "Best rmse:  0.04653071622171067\n",
      "Training model:  61\n"
     ]
    },
    {
     "name": "stderr",
     "output_type": "stream",
     "text": [
      "100%|██████████████████████████████████████████████████████████████████████████████████| 80/80 [00:01<00:00, 75.10it/s]\n"
     ]
    },
    {
     "name": "stdout",
     "output_type": "stream",
     "text": [
      "Best params:  {'C': 1, 'epsilon': 0.01, 'gamma': 1, 'kernel': 'rbf'}\n",
      "Best rmse:  0.06734380045403361\n",
      "Training model:  62\n"
     ]
    },
    {
     "name": "stderr",
     "output_type": "stream",
     "text": [
      "100%|██████████████████████████████████████████████████████████████████████████████████| 80/80 [00:01<00:00, 74.93it/s]\n"
     ]
    },
    {
     "name": "stdout",
     "output_type": "stream",
     "text": [
      "Best params:  {'C': 1, 'epsilon': 0.0001, 'gamma': 1, 'kernel': 'rbf'}\n",
      "Best rmse:  0.07269470291177983\n",
      "Training model:  63\n"
     ]
    },
    {
     "name": "stderr",
     "output_type": "stream",
     "text": [
      "100%|██████████████████████████████████████████████████████████████████████████████████| 80/80 [00:01<00:00, 75.13it/s]\n"
     ]
    },
    {
     "name": "stdout",
     "output_type": "stream",
     "text": [
      "Best params:  {'C': 1, 'epsilon': 0.01, 'gamma': 1, 'kernel': 'rbf'}\n",
      "Best rmse:  0.06591529283510934\n",
      "Training model:  64\n"
     ]
    },
    {
     "name": "stderr",
     "output_type": "stream",
     "text": [
      "100%|██████████████████████████████████████████████████████████████████████████████████| 80/80 [00:01<00:00, 76.03it/s]\n"
     ]
    },
    {
     "name": "stdout",
     "output_type": "stream",
     "text": [
      "Best params:  {'C': 10, 'epsilon': 0.01, 'gamma': 1, 'kernel': 'rbf'}\n",
      "Best rmse:  0.06169981906455488\n",
      "Training model:  65\n"
     ]
    },
    {
     "name": "stderr",
     "output_type": "stream",
     "text": [
      "100%|██████████████████████████████████████████████████████████████████████████████████| 80/80 [00:01<00:00, 74.93it/s]\n"
     ]
    },
    {
     "name": "stdout",
     "output_type": "stream",
     "text": [
      "Best params:  {'C': 1000, 'epsilon': 0.01, 'gamma': 0.01, 'kernel': 'rbf'}\n",
      "Best rmse:  0.055261574180054764\n",
      "Training model:  66\n"
     ]
    },
    {
     "name": "stderr",
     "output_type": "stream",
     "text": [
      "100%|██████████████████████████████████████████████████████████████████████████████████| 80/80 [00:01<00:00, 76.93it/s]\n"
     ]
    },
    {
     "name": "stdout",
     "output_type": "stream",
     "text": [
      "Best params:  {'C': 1, 'epsilon': 0.1, 'gamma': 1, 'kernel': 'rbf'}\n",
      "Best rmse:  0.07003143365734268\n",
      "Training model:  67\n"
     ]
    },
    {
     "name": "stderr",
     "output_type": "stream",
     "text": [
      "100%|██████████████████████████████████████████████████████████████████████████████████| 80/80 [00:01<00:00, 75.64it/s]\n"
     ]
    },
    {
     "name": "stdout",
     "output_type": "stream",
     "text": [
      "Best params:  {'C': 1000, 'epsilon': 0.01, 'gamma': 0.01, 'kernel': 'rbf'}\n",
      "Best rmse:  0.046904635309408\n",
      "Training model:  68\n"
     ]
    },
    {
     "name": "stderr",
     "output_type": "stream",
     "text": [
      "100%|██████████████████████████████████████████████████████████████████████████████████| 80/80 [00:01<00:00, 76.16it/s]\n"
     ]
    },
    {
     "name": "stdout",
     "output_type": "stream",
     "text": [
      "Best params:  {'C': 1, 'epsilon': 0.1, 'gamma': 1, 'kernel': 'rbf'}\n",
      "Best rmse:  0.08483649665211791\n",
      "Training model:  69\n"
     ]
    },
    {
     "name": "stderr",
     "output_type": "stream",
     "text": [
      "100%|██████████████████████████████████████████████████████████████████████████████████| 80/80 [00:01<00:00, 76.30it/s]\n"
     ]
    },
    {
     "name": "stdout",
     "output_type": "stream",
     "text": [
      "Best params:  {'C': 1, 'epsilon': 0.001, 'gamma': 1, 'kernel': 'rbf'}\n",
      "Best rmse:  0.06406613465866991\n",
      "Training model:  70\n"
     ]
    },
    {
     "name": "stderr",
     "output_type": "stream",
     "text": [
      "100%|██████████████████████████████████████████████████████████████████████████████████| 80/80 [00:01<00:00, 76.05it/s]\n"
     ]
    },
    {
     "name": "stdout",
     "output_type": "stream",
     "text": [
      "Best params:  {'C': 1, 'epsilon': 0.01, 'gamma': 1, 'kernel': 'rbf'}\n",
      "Best rmse:  0.07161343062906134\n",
      "Training model:  71\n"
     ]
    },
    {
     "name": "stderr",
     "output_type": "stream",
     "text": [
      "100%|██████████████████████████████████████████████████████████████████████████████████| 80/80 [00:01<00:00, 75.92it/s]\n"
     ]
    },
    {
     "name": "stdout",
     "output_type": "stream",
     "text": [
      "Best params:  {'C': 10, 'epsilon': 0.01, 'gamma': 1, 'kernel': 'rbf'}\n",
      "Best rmse:  0.06875034976490646\n",
      "Training model:  72\n"
     ]
    },
    {
     "name": "stderr",
     "output_type": "stream",
     "text": [
      "100%|██████████████████████████████████████████████████████████████████████████████████| 80/80 [00:01<00:00, 75.53it/s]\n"
     ]
    },
    {
     "name": "stdout",
     "output_type": "stream",
     "text": [
      "Best params:  {'C': 100, 'epsilon': 0.01, 'gamma': 0.1, 'kernel': 'rbf'}\n",
      "Best rmse:  0.05683332017666648\n",
      "Training model:  73\n"
     ]
    },
    {
     "name": "stderr",
     "output_type": "stream",
     "text": [
      "100%|██████████████████████████████████████████████████████████████████████████████████| 80/80 [00:01<00:00, 75.06it/s]\n"
     ]
    },
    {
     "name": "stdout",
     "output_type": "stream",
     "text": [
      "Best params:  {'C': 10, 'epsilon': 0.01, 'gamma': 1, 'kernel': 'rbf'}\n",
      "Best rmse:  0.07465666913058445\n",
      "Training model:  74\n"
     ]
    },
    {
     "name": "stderr",
     "output_type": "stream",
     "text": [
      "100%|██████████████████████████████████████████████████████████████████████████████████| 80/80 [00:01<00:00, 76.93it/s]\n"
     ]
    },
    {
     "name": "stdout",
     "output_type": "stream",
     "text": [
      "Best params:  {'C': 100, 'epsilon': 0.01, 'gamma': 0.1, 'kernel': 'rbf'}\n",
      "Best rmse:  0.05760453354303646\n",
      "Training model:  75\n"
     ]
    },
    {
     "name": "stderr",
     "output_type": "stream",
     "text": [
      "100%|██████████████████████████████████████████████████████████████████████████████████| 80/80 [00:01<00:00, 76.28it/s]\n"
     ]
    },
    {
     "name": "stdout",
     "output_type": "stream",
     "text": [
      "Best params:  {'C': 1000, 'epsilon': 1e-05, 'gamma': 0.01, 'kernel': 'rbf'}\n",
      "Best rmse:  0.07381686789783988\n",
      "Training model:  76\n"
     ]
    },
    {
     "name": "stderr",
     "output_type": "stream",
     "text": [
      "100%|██████████████████████████████████████████████████████████████████████████████████| 80/80 [00:01<00:00, 75.79it/s]\n"
     ]
    },
    {
     "name": "stdout",
     "output_type": "stream",
     "text": [
      "Best params:  {'C': 10, 'epsilon': 0.01, 'gamma': 1, 'kernel': 'rbf'}\n",
      "Best rmse:  0.06280593653452715\n",
      "Training model:  77\n"
     ]
    },
    {
     "name": "stderr",
     "output_type": "stream",
     "text": [
      "100%|██████████████████████████████████████████████████████████████████████████████████| 80/80 [00:01<00:00, 76.15it/s]\n"
     ]
    },
    {
     "name": "stdout",
     "output_type": "stream",
     "text": [
      "Best params:  {'C': 1, 'epsilon': 0.01, 'gamma': 1, 'kernel': 'rbf'}\n",
      "Best rmse:  0.06181511341012749\n",
      "Training model:  78\n"
     ]
    },
    {
     "name": "stderr",
     "output_type": "stream",
     "text": [
      "100%|██████████████████████████████████████████████████████████████████████████████████| 80/80 [00:01<00:00, 77.06it/s]\n"
     ]
    },
    {
     "name": "stdout",
     "output_type": "stream",
     "text": [
      "Best params:  {'C': 10, 'epsilon': 0.01, 'gamma': 1, 'kernel': 'rbf'}\n",
      "Best rmse:  0.06558003117319985\n",
      "Training model:  79\n"
     ]
    },
    {
     "name": "stderr",
     "output_type": "stream",
     "text": [
      "100%|██████████████████████████████████████████████████████████████████████████████████| 80/80 [00:01<00:00, 75.51it/s]\n"
     ]
    },
    {
     "name": "stdout",
     "output_type": "stream",
     "text": [
      "Best params:  {'C': 1, 'epsilon': 0.1, 'gamma': 1, 'kernel': 'rbf'}\n",
      "Best rmse:  0.08780328673301634\n",
      "Training model:  80\n"
     ]
    },
    {
     "name": "stderr",
     "output_type": "stream",
     "text": [
      "100%|██████████████████████████████████████████████████████████████████████████████████| 80/80 [00:01<00:00, 74.41it/s]\n"
     ]
    },
    {
     "name": "stdout",
     "output_type": "stream",
     "text": [
      "Best params:  {'C': 1000, 'epsilon': 0.0001, 'gamma': 0.01, 'kernel': 'rbf'}\n",
      "Best rmse:  0.0703205400673444\n",
      "Training model:  81\n"
     ]
    },
    {
     "name": "stderr",
     "output_type": "stream",
     "text": [
      "100%|██████████████████████████████████████████████████████████████████████████████████| 80/80 [00:01<00:00, 74.93it/s]\n"
     ]
    },
    {
     "name": "stdout",
     "output_type": "stream",
     "text": [
      "Best params:  {'C': 10, 'epsilon': 0.01, 'gamma': 1, 'kernel': 'rbf'}\n",
      "Best rmse:  0.07523881546762035\n",
      "Training model:  82\n"
     ]
    },
    {
     "name": "stderr",
     "output_type": "stream",
     "text": [
      "100%|██████████████████████████████████████████████████████████████████████████████████| 80/80 [00:01<00:00, 75.72it/s]\n"
     ]
    },
    {
     "name": "stdout",
     "output_type": "stream",
     "text": [
      "Best params:  {'C': 1000, 'epsilon': 0.001, 'gamma': 0.01, 'kernel': 'rbf'}\n",
      "Best rmse:  0.06235034187465587\n",
      "Training model:  83\n"
     ]
    },
    {
     "name": "stderr",
     "output_type": "stream",
     "text": [
      "100%|██████████████████████████████████████████████████████████████████████████████████| 80/80 [00:01<00:00, 76.15it/s]\n"
     ]
    },
    {
     "name": "stdout",
     "output_type": "stream",
     "text": [
      "Best params:  {'C': 1, 'epsilon': 0.0001, 'gamma': 1, 'kernel': 'rbf'}\n",
      "Best rmse:  0.07747558295887001\n",
      "Training model:  84\n"
     ]
    },
    {
     "name": "stderr",
     "output_type": "stream",
     "text": [
      "100%|██████████████████████████████████████████████████████████████████████████████████| 80/80 [00:01<00:00, 76.28it/s]\n"
     ]
    },
    {
     "name": "stdout",
     "output_type": "stream",
     "text": [
      "Best params:  {'C': 1000, 'epsilon': 0.01, 'gamma': 0.01, 'kernel': 'rbf'}\n",
      "Best rmse:  0.07571259240877752\n",
      "Training model:  85\n"
     ]
    },
    {
     "name": "stderr",
     "output_type": "stream",
     "text": [
      "100%|██████████████████████████████████████████████████████████████████████████████████| 80/80 [00:01<00:00, 76.80it/s]\n"
     ]
    },
    {
     "name": "stdout",
     "output_type": "stream",
     "text": [
      "Best params:  {'C': 10, 'epsilon': 0.01, 'gamma': 1, 'kernel': 'rbf'}\n",
      "Best rmse:  0.07292133008305982\n",
      "Training model:  86\n"
     ]
    },
    {
     "name": "stderr",
     "output_type": "stream",
     "text": [
      "100%|██████████████████████████████████████████████████████████████████████████████████| 80/80 [00:01<00:00, 77.06it/s]\n"
     ]
    },
    {
     "name": "stdout",
     "output_type": "stream",
     "text": [
      "Best params:  {'C': 1000, 'epsilon': 0.01, 'gamma': 0.01, 'kernel': 'rbf'}\n",
      "Best rmse:  0.061475582466150015\n",
      "Training model:  87\n"
     ]
    },
    {
     "name": "stderr",
     "output_type": "stream",
     "text": [
      "100%|██████████████████████████████████████████████████████████████████████████████████| 80/80 [00:01<00:00, 76.27it/s]\n"
     ]
    },
    {
     "name": "stdout",
     "output_type": "stream",
     "text": [
      "Best params:  {'C': 10, 'epsilon': 0.01, 'gamma': 1, 'kernel': 'rbf'}\n",
      "Best rmse:  0.07520833819672142\n",
      "Training model:  88\n"
     ]
    },
    {
     "name": "stderr",
     "output_type": "stream",
     "text": [
      "100%|██████████████████████████████████████████████████████████████████████████████████| 80/80 [00:01<00:00, 75.81it/s]\n"
     ]
    },
    {
     "name": "stdout",
     "output_type": "stream",
     "text": [
      "Best params:  {'C': 1, 'epsilon': 0.01, 'gamma': 1, 'kernel': 'rbf'}\n",
      "Best rmse:  0.05589352609410282\n",
      "Training model:  89\n"
     ]
    },
    {
     "name": "stderr",
     "output_type": "stream",
     "text": [
      "100%|██████████████████████████████████████████████████████████████████████████████████| 80/80 [00:01<00:00, 76.28it/s]\n"
     ]
    },
    {
     "name": "stdout",
     "output_type": "stream",
     "text": [
      "Best params:  {'C': 10, 'epsilon': 0.01, 'gamma': 1, 'kernel': 'rbf'}\n",
      "Best rmse:  0.07488674070701386\n",
      "Training model:  90\n"
     ]
    },
    {
     "name": "stderr",
     "output_type": "stream",
     "text": [
      "100%|██████████████████████████████████████████████████████████████████████████████████| 80/80 [00:01<00:00, 77.07it/s]\n"
     ]
    },
    {
     "name": "stdout",
     "output_type": "stream",
     "text": [
      "Best params:  {'C': 10, 'epsilon': 1e-05, 'gamma': 0.1, 'kernel': 'rbf'}\n",
      "Best rmse:  0.08425978478677629\n",
      "Training model:  91\n"
     ]
    },
    {
     "name": "stderr",
     "output_type": "stream",
     "text": [
      "100%|██████████████████████████████████████████████████████████████████████████████████| 80/80 [00:01<00:00, 75.66it/s]\n"
     ]
    },
    {
     "name": "stdout",
     "output_type": "stream",
     "text": [
      "Best params:  {'C': 10, 'epsilon': 0.01, 'gamma': 0.1, 'kernel': 'rbf'}\n",
      "Best rmse:  0.0660143053698797\n",
      "Training model:  92\n"
     ]
    },
    {
     "name": "stderr",
     "output_type": "stream",
     "text": [
      "100%|██████████████████████████████████████████████████████████████████████████████████| 80/80 [00:01<00:00, 76.57it/s]\n"
     ]
    },
    {
     "name": "stdout",
     "output_type": "stream",
     "text": [
      "Best params:  {'C': 10, 'epsilon': 0.01, 'gamma': 1, 'kernel': 'rbf'}\n",
      "Best rmse:  0.07515088728754248\n",
      "Training model:  93\n"
     ]
    },
    {
     "name": "stderr",
     "output_type": "stream",
     "text": [
      "100%|██████████████████████████████████████████████████████████████████████████████████| 80/80 [00:01<00:00, 71.43it/s]\n"
     ]
    },
    {
     "name": "stdout",
     "output_type": "stream",
     "text": [
      "Best params:  {'C': 10, 'epsilon': 1e-05, 'gamma': 1, 'kernel': 'rbf'}\n",
      "Best rmse:  0.07021202274465346\n",
      "Training model:  94\n"
     ]
    },
    {
     "name": "stderr",
     "output_type": "stream",
     "text": [
      "100%|██████████████████████████████████████████████████████████████████████████████████| 80/80 [00:01<00:00, 75.12it/s]\n"
     ]
    },
    {
     "name": "stdout",
     "output_type": "stream",
     "text": [
      "Best params:  {'C': 10, 'epsilon': 0.01, 'gamma': 1, 'kernel': 'rbf'}\n",
      "Best rmse:  0.07056458013643975\n",
      "Training model:  95\n"
     ]
    },
    {
     "name": "stderr",
     "output_type": "stream",
     "text": [
      "100%|██████████████████████████████████████████████████████████████████████████████████| 80/80 [00:01<00:00, 75.67it/s]\n"
     ]
    },
    {
     "name": "stdout",
     "output_type": "stream",
     "text": [
      "Best params:  {'C': 10, 'epsilon': 0.01, 'gamma': 1, 'kernel': 'rbf'}\n",
      "Best rmse:  0.07426048537303534\n",
      "Training model:  96\n"
     ]
    },
    {
     "name": "stderr",
     "output_type": "stream",
     "text": [
      "100%|██████████████████████████████████████████████████████████████████████████████████| 80/80 [00:01<00:00, 76.04it/s]\n"
     ]
    },
    {
     "name": "stdout",
     "output_type": "stream",
     "text": [
      "Best params:  {'C': 1, 'epsilon': 0.01, 'gamma': 1, 'kernel': 'rbf'}\n",
      "Best rmse:  0.09099645205192368\n",
      "Training model:  97\n"
     ]
    },
    {
     "name": "stderr",
     "output_type": "stream",
     "text": [
      "100%|██████████████████████████████████████████████████████████████████████████████████| 80/80 [00:01<00:00, 75.46it/s]\n"
     ]
    },
    {
     "name": "stdout",
     "output_type": "stream",
     "text": [
      "Best params:  {'C': 1000, 'epsilon': 0.01, 'gamma': 0.001, 'kernel': 'rbf'}\n",
      "Best rmse:  0.07769468014028368\n",
      "Training model:  98\n"
     ]
    },
    {
     "name": "stderr",
     "output_type": "stream",
     "text": [
      "100%|██████████████████████████████████████████████████████████████████████████████████| 80/80 [00:01<00:00, 75.42it/s]\n"
     ]
    },
    {
     "name": "stdout",
     "output_type": "stream",
     "text": [
      "Best params:  {'C': 10, 'epsilon': 1e-05, 'gamma': 1, 'kernel': 'rbf'}\n",
      "Best rmse:  0.06828385364733827\n",
      "Training model:  99\n"
     ]
    },
    {
     "name": "stderr",
     "output_type": "stream",
     "text": [
      "100%|██████████████████████████████████████████████████████████████████████████████████| 80/80 [00:01<00:00, 75.00it/s]\n"
     ]
    },
    {
     "name": "stdout",
     "output_type": "stream",
     "text": [
      "Best params:  {'C': 1, 'epsilon': 0.01, 'gamma': 1, 'kernel': 'rbf'}\n",
      "Best rmse:  0.06644393600418293\n"
     ]
    },
    {
     "name": "stderr",
     "output_type": "stream",
     "text": [
      "100%|████████████████████████████████████████████████████████████████████████████████| 800/800 [01:09<00:00, 11.58it/s]\n"
     ]
    },
    {
     "name": "stdout",
     "output_type": "stream",
     "text": [
      "Best params:  {'comb': 'median', 'k': 3, 'n': 3}\n",
      "Best rmse:  12.204666512041186\n"
     ]
    }
   ],
   "source": [
    "metric_res = []\n",
    "params_res = []\n",
    "\n",
    "for f in file_names:\n",
    "    print(\"Time Series: \", f)\n",
    "    df = read_file(file_prefix + f + file_suffix)\n",
    "\n",
    "    results,  euclidian_windows= run_ensemble(execution = execution, df=df, ens_size=ens_size, train_proportion=train_proportion, val_proportion=val_proportion, plot_curves=plot_curves, max_k = max_k, **ensemble_svr)\n",
    "    \n",
    "    val_index, test_index = define_split_points(df, train_proportion, val_proportion)\n",
    "    min_max_scaler = preprocessing.MinMaxScaler()\n",
    "    real = df['y'].loc[test_index:].values\n",
    "\n",
    "    if (execution == \"oracle\"):\n",
    "        oracle_pred = oracle(results, real)\n",
    "        calculate_metrics(oracle_pred, real, True, min_max_scaler, df)\n",
    "\n",
    "    else:\n",
    "        parameters = {\n",
    "            'k': list(range(1,max_k +1)),\n",
    "            'n': list(range(1,max_n +1)),\n",
    "            'comb': ['median', 'average'],\n",
    "        }\n",
    "        grid = list(ParameterGrid(parameters))\n",
    "        pred_results = []\n",
    "        for r in results:\n",
    "            temp = pd.DataFrame(data = np.zeros(df['y'].size), columns = ['y'])\n",
    "            temp['y'][val_index - max_k:] = r\n",
    "            pred_results.append(temp)\n",
    "        best_params = parallel_gridsearch_ds(df, pred_results, val_index, test_index, parameters, execution, euclidian_windows)\n",
    "        params_res.append((f, best_params))\n",
    "        y_ds = test_ds(best_params, df, pred_results, val_index, test_index, execution, euclidian_windows)\n",
    "        m = calculate_metrics(y_ds, real, True, min_max_scaler, df)\n",
    "        metric_res.append((f, m))\n",
    "        min_max_scaler.fit(df['y'].values.reshape(-1,1))\n",
    "        df_ds_pred = pd.DataFrame(data = min_max_scaler.transform(y_ds.reshape(-1, 1)).flatten() , columns = [execution.upper()])\n",
    "        df_ds_pred.to_csv(f'results/{execution}_pred/{f}.csv', index=False)\n",
    "        \n",
    "        \n",
    "    "
   ]
  },
  {
   "cell_type": "code",
   "execution_count": 23,
   "id": "14529a6a-7e37-4fda-b94b-4a2e60e86f83",
   "metadata": {
    "tags": []
   },
   "outputs": [
    {
     "name": "stdout",
     "output_type": "stream",
     "text": [
      "   Time Series Metrics    DSNAW\n",
      "0          amz     MSE 1.25E-04\n",
      "1          amz    MAPE 1.57E+01\n",
      "2          amz     ARV 3.50E-02\n",
      "3          amz     MAE 8.76E-03\n",
      "4          amz    RMSE 1.12E-02\n",
      "..         ...     ...      ...\n",
      "65        wine     ARV 2.94E-01\n",
      "66        wine     MAE 3.52E-02\n",
      "67        wine    RMSE 4.39E-02\n",
      "68        wine   NRMSE 1.34E-01\n",
      "69        wine   SMAPE 5.10E+01\n",
      "\n",
      "[70 rows x 3 columns]\n"
     ]
    }
   ],
   "source": [
    "metrics_df = pd.DataFrame(columns=['Time Series', 'Metrics', execution.upper()])\n",
    "\n",
    "\n",
    "for f in metric_res:\n",
    "    f_name = f[0]\n",
    "    for me, value in f[1].items():\n",
    "        new_row = {'Time Series': f_name, 'Metrics': me, execution.upper(): value}\n",
    "        new_row = pd.Series(new_row)\n",
    "        metrics_df = pd.concat([metrics_df, new_row.to_frame().T], ignore_index=True)\n",
    "        \n",
    "\n",
    "\n",
    "metrics_df[execution.upper()] = metrics_df[execution.upper()].apply(lambda x: pd.to_numeric(x, errors='coerce'))\n",
    "pd.set_option('display.float_format', '{:.2E}'.format)\n",
    "print(metrics_df)"
   ]
  },
  {
   "cell_type": "code",
   "execution_count": 24,
   "id": "b8158052-70df-4591-9d44-41396c01a267",
   "metadata": {},
   "outputs": [
    {
     "data": {
      "text/html": [
       "<div>\n",
       "<style scoped>\n",
       "    .dataframe tbody tr th:only-of-type {\n",
       "        vertical-align: middle;\n",
       "    }\n",
       "\n",
       "    .dataframe tbody tr th {\n",
       "        vertical-align: top;\n",
       "    }\n",
       "\n",
       "    .dataframe thead th {\n",
       "        text-align: right;\n",
       "    }\n",
       "</style>\n",
       "<table border=\"1\" class=\"dataframe\">\n",
       "  <thead>\n",
       "    <tr style=\"text-align: right;\">\n",
       "      <th></th>\n",
       "      <th>Time Series</th>\n",
       "      <th>k</th>\n",
       "      <th>n</th>\n",
       "      <th>comb</th>\n",
       "    </tr>\n",
       "  </thead>\n",
       "  <tbody>\n",
       "    <tr>\n",
       "      <th>0</th>\n",
       "      <td>amz</td>\n",
       "      <td>6</td>\n",
       "      <td>3</td>\n",
       "      <td>average</td>\n",
       "    </tr>\n",
       "    <tr>\n",
       "      <th>1</th>\n",
       "      <td>APPLE</td>\n",
       "      <td>13</td>\n",
       "      <td>13</td>\n",
       "      <td>median</td>\n",
       "    </tr>\n",
       "    <tr>\n",
       "      <th>2</th>\n",
       "      <td>electricity</td>\n",
       "      <td>10</td>\n",
       "      <td>16</td>\n",
       "      <td>median</td>\n",
       "    </tr>\n",
       "    <tr>\n",
       "      <th>3</th>\n",
       "      <td>goldman</td>\n",
       "      <td>8</td>\n",
       "      <td>6</td>\n",
       "      <td>median</td>\n",
       "    </tr>\n",
       "    <tr>\n",
       "      <th>4</th>\n",
       "      <td>msft</td>\n",
       "      <td>14</td>\n",
       "      <td>3</td>\n",
       "      <td>average</td>\n",
       "    </tr>\n",
       "    <tr>\n",
       "      <th>5</th>\n",
       "      <td>pollutions</td>\n",
       "      <td>2</td>\n",
       "      <td>5</td>\n",
       "      <td>median</td>\n",
       "    </tr>\n",
       "    <tr>\n",
       "      <th>6</th>\n",
       "      <td>star</td>\n",
       "      <td>18</td>\n",
       "      <td>17</td>\n",
       "      <td>median</td>\n",
       "    </tr>\n",
       "    <tr>\n",
       "      <th>7</th>\n",
       "      <td>sunspot</td>\n",
       "      <td>9</td>\n",
       "      <td>15</td>\n",
       "      <td>median</td>\n",
       "    </tr>\n",
       "    <tr>\n",
       "      <th>8</th>\n",
       "      <td>vehicle</td>\n",
       "      <td>2</td>\n",
       "      <td>17</td>\n",
       "      <td>median</td>\n",
       "    </tr>\n",
       "    <tr>\n",
       "      <th>9</th>\n",
       "      <td>wine</td>\n",
       "      <td>3</td>\n",
       "      <td>3</td>\n",
       "      <td>median</td>\n",
       "    </tr>\n",
       "  </tbody>\n",
       "</table>\n",
       "</div>"
      ],
      "text/plain": [
       "   Time Series   k   n     comb\n",
       "0          amz   6   3  average\n",
       "1        APPLE  13  13   median\n",
       "2  electricity  10  16   median\n",
       "3      goldman   8   6   median\n",
       "4         msft  14   3  average\n",
       "5   pollutions   2   5   median\n",
       "6         star  18  17   median\n",
       "7      sunspot   9  15   median\n",
       "8      vehicle   2  17   median\n",
       "9         wine   3   3   median"
      ]
     },
     "execution_count": 24,
     "metadata": {},
     "output_type": "execute_result"
    }
   ],
   "source": [
    "params_df = pd.DataFrame(columns=['Time Series', 'k', 'n', 'comb'])\n",
    "\n",
    "for f in params_res:\n",
    "    new_row = {'Time Series': f[0]}\n",
    "    for key, value in f[1].items():\n",
    "        new_row[key] = value\n",
    "    new_row = pd.Series(new_row)\n",
    "    params_df = pd.concat([params_df, new_row.to_frame().T], ignore_index=True)\n",
    "    \n",
    "    \n",
    "params_df"
   ]
  },
  {
   "cell_type": "code",
   "execution_count": 25,
   "id": "4ecbe412-38f3-413c-8b77-824c24bd404e",
   "metadata": {},
   "outputs": [],
   "source": [
    "params_df.to_csv(f'results/params_results_{execution}_bagging.csv', index=False)\n",
    "metrics_df.to_csv(f'results/metrics_results_{execution}_bagging.csv', index=False)"
   ]
  },
  {
   "cell_type": "code",
   "execution_count": null,
   "id": "73e5d719-26f2-4377-a68f-74ab60ea39e9",
   "metadata": {},
   "outputs": [],
   "source": []
  }
 ],
 "metadata": {
  "kernelspec": {
   "display_name": "Python 3 (ipykernel)",
   "language": "python",
   "name": "python3"
  },
  "language_info": {
   "codemirror_mode": {
    "name": "ipython",
    "version": 3
   },
   "file_extension": ".py",
   "mimetype": "text/x-python",
   "name": "python",
   "nbconvert_exporter": "python",
   "pygments_lexer": "ipython3",
   "version": "3.9.6"
  }
 },
 "nbformat": 4,
 "nbformat_minor": 5
}
